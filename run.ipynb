{
 "cells": [
  {
   "cell_type": "code",
   "execution_count": 76,
   "metadata": {},
   "outputs": [],
   "source": [
    "import pandas as pd\n",
    "from sklearn.linear_model import LogisticRegression\n",
    "from sklearn.neighbors import KNeighborsClassifier\n",
    "from sklearn.tree import DecisionTreeClassifier\n",
    "from imblearn.ensemble import BalancedBaggingClassifier\n",
    "from sklearn.ensemble import GradientBoostingClassifier\n",
    "from xgboost import XGBClassifier\n",
    "from sklearn.model_selection import RepeatedStratifiedKFold\n",
    "from sklearn.model_selection import train_test_split\n",
    "from itertools import permutations, product\n",
    "import functools\n",
    "from sklearn.metrics import accuracy_score, auc, confusion_matrix, balanced_accuracy_score, precision_recall_curve, auc, roc_curve, roc_auc_score\n",
    "import tqdm\n",
    "from numba import njit,jit\n",
    "import numpy as np\n",
    "from numpy import mean\n",
    "from numpy import std\n",
    "import pickle\n",
    "from os import path\n",
    "from sklearn.model_selection import cross_val_score\n",
    "from warnings import simplefilter\n",
    "from collections import OrderedDict\n",
    "import matplotlib.pyplot as plt\n",
    "simplefilter(action=\"ignore\", category=pd.errors.PerformanceWarning)\n",
    "\n"
   ]
  },
  {
   "cell_type": "code",
   "execution_count": 3,
   "metadata": {},
   "outputs": [
    {
     "name": "stdout",
     "output_type": "stream",
     "text": [
      "1236\n",
      "8192\n"
     ]
    }
   ],
   "source": [
    "df = pd.read_csv('virus_genome/human_infecting_virus', delimiter='\\t', header=None)\n",
    "df[['ID', 'DNA Sequence']] = df[0].str.split(expand=True)\n",
    "df = df.drop(0, axis=1)\n",
    "df['isZoonotic'] = 1\n",
    "\n",
    "\n",
    "df2 = pd.read_csv('virus_genome/Other_viruses', delimiter='\\t', header=None)\n",
    "df2[['ID', 'DNA Sequence']] = df2[0].str.split(expand=True)\n",
    "df2 = df2.drop(0, axis=1)\n",
    "df2['isZoonotic'] = 0\n",
    "\n",
    "# make both have the same amount of samples..?\n",
    "\n",
    "thresh = len(df)\n",
    "# df2.drop(df2.index[thresh:len(df2.index)], inplace=True)\n",
    "\n",
    "dfother = pd.DataFrame()\n",
    "it = len(df)+1\n",
    "\n",
    "print(len(df))\n",
    "print(len(df2))\n",
    "# iterate through each sequence\n",
    "for i in range(len(df2)):\n",
    "    dfother.at[it, 'DNA Sequence']=df2.at[i, 'DNA Sequence']\n",
    "    dfother.at[it, 'isZoonotic']=int(0)\n",
    "    dfother.at[it, 'ID']=df2.at[i, 'ID']\n",
    "    it+=1\n",
    "\n",
    "\n",
    "mergedDf = pd.concat([df, dfother], axis=0)\n"
   ]
  },
  {
   "cell_type": "code",
   "execution_count": 4,
   "metadata": {},
   "outputs": [],
   "source": [
    "def resetkmerdict(permset)->OrderedDict:\n",
    "        kmerdict = OrderedDict()\n",
    "        for i in permset:\n",
    "            kmerdict[i]=0\n",
    "        return kmerdict\n",
    "\n",
    "def assign_kmers_to_dict(row, permset, kmer):\n",
    "    kmerdict=resetkmerdict(permset)\n",
    "    st = row[2] # tune for which column the sequence is in\n",
    "    for j in range(len(st)-kmer+1):\n",
    "        if not st[j:j+kmer] in permset: continue\n",
    "        kmerdict[st[j:j+kmer]]+=1\n",
    "    return kmerdict\n",
    "\n",
    "def getTrainParams(mergedDf):\n",
    "    kmer = 4\n",
    "    print(mergedDf)\n",
    "    s = product('acgt',repeat = kmer)\n",
    "    permset = set([\"\".join(x) for x in list(s)])\n",
    "\n",
    "    l = []\n",
    "    \n",
    "    for row in tqdm.tqdm(mergedDf.itertuples()):\n",
    "        l.append(assign_kmers_to_dict(row, permset, kmer))\n",
    "        \n",
    "\n",
    "    finalkmerdict=pd.DataFrame(l)\n",
    "    mergedDf.fillna(0, inplace=True)\n",
    "\n",
    "    X = finalkmerdict\n",
    "    Y = mergedDf['isZoonotic']\n",
    "\n",
    "    print(X)\n",
    "    print(Y)\n",
    "    return train_test_split(X, Y, test_size=0.2, random_state=1)"
   ]
  },
  {
   "cell_type": "code",
   "execution_count": 5,
   "metadata": {},
   "outputs": [
    {
     "name": "stdout",
     "output_type": "stream",
     "text": [
      "           ID                                       DNA Sequence  isZoonotic\n",
      "0       37121  cttttaacaatcatagttttataaaagggtgtaaccgaagcggttt...         1.0\n",
      "1      129724  atactttacaattatcttgtaaaaagtagggtgtaaccgaaaaggg...         1.0\n",
      "2       59303  atggcggacgtgtgacatcaccgttcgctctttctaggatcctttg...         1.0\n",
      "3      120686  ttgttctacttcttactcattattataaattataatgtttgtataa...         1.0\n",
      "4       99565  gtgaatgatgatggcgtcgaaagacgtcgttgcagctactgctgct...         1.0\n",
      "...       ...                                                ...         ...\n",
      "9424   268315  ggatccacagaactccttgtatgtacagccgcgggtacccacagca...         0.0\n",
      "9425   130329  ctcatgtcattaataagaccatgcagaaaatgcaaatgaggcgaag...         0.0\n",
      "9426  1239437  ccgaagtgggatggcggctgccgccgcttcggcgcttggcgcttcg...         0.0\n",
      "9427   358812  gtatacgaggttagttcattctcgtatacacgattggacaaatcaa...         0.0\n",
      "9428    11287  atggaaggaggaattcgtgcagcgttttcaggcctgaatgatgtta...         0.0\n",
      "\n",
      "[9428 rows x 3 columns]\n"
     ]
    },
    {
     "name": "stderr",
     "output_type": "stream",
     "text": [
      "9428it [01:38, 95.97it/s] \n"
     ]
    },
    {
     "name": "stdout",
     "output_type": "stream",
     "text": [
      "      gcct  ggac  gaca  accg  gata  aaag  tact  tgtg  cccc  tgct  ...  gggg  \\\n",
      "0       20    26    43     8    35    35    48    68    18    34  ...    19   \n",
      "1       27    34    50     9    33    49    51    85    16    38  ...    26   \n",
      "2       41    53    79    76    30    71    35    58    32    47  ...    21   \n",
      "3       36    36    50    13    31    42    51   104    39    36  ...    29   \n",
      "4       32    30    33     8    26    51    22    40    68    46  ...    33   \n",
      "...    ...   ...   ...   ...   ...   ...   ...   ...   ...   ...  ...   ...   \n",
      "9423    12    13    11     9     8     9    12    10     6     8  ...     8   \n",
      "9424   103    75   111    93   136   212   137   143    50   184  ...    81   \n",
      "9425    19    23    34    10    28    52    23    51     9    36  ...    21   \n",
      "9426    27    65    88    23    60    95    41    54    34    54  ...    73   \n",
      "9427    17    80    97    29    30    73    26    40    55    31  ...    87   \n",
      "\n",
      "      ttcg  gtgc  cgcg  taca  ctta  tgat  atca  agac  taag  \n",
      "0        5    34     4    71    20    36    23    29    30  \n",
      "1        5    29     5    74    25    33    20    29    24  \n",
      "2       28    64    33    58    25    32    54    65    33  \n",
      "3       11    38     7    57    26    32    12    31    26  \n",
      "4        6    31     2    29    20    58    38    26    17  \n",
      "...    ...   ...   ...   ...   ...   ...   ...   ...   ...  \n",
      "9423     7     9     5     8     7    12    12     9     8  \n",
      "9424    86    93    73   172   107   200   164    86   123  \n",
      "9425     9    25     8    37    28    66    31    24    31  \n",
      "9426    19    39     6    68    44    57    61    75    47  \n",
      "9427    32    24    14    34    16    50    92    77    12  \n",
      "\n",
      "[9428 rows x 256 columns]\n",
      "0       1.0\n",
      "1       1.0\n",
      "2       1.0\n",
      "3       1.0\n",
      "4       1.0\n",
      "       ... \n",
      "9424    0.0\n",
      "9425    0.0\n",
      "9426    0.0\n",
      "9427    0.0\n",
      "9428    0.0\n",
      "Name: isZoonotic, Length: 9428, dtype: float64\n"
     ]
    }
   ],
   "source": [
    "X_train, X_test, y_train, y_test = getTrainParams(mergedDf)\n",
    "\n",
    "zz = X_train.head()"
   ]
  },
  {
   "cell_type": "code",
   "execution_count": 6,
   "metadata": {},
   "outputs": [
    {
     "data": {
      "text/html": [
       "<style>#sk-container-id-1 {color: black;background-color: white;}#sk-container-id-1 pre{padding: 0;}#sk-container-id-1 div.sk-toggleable {background-color: white;}#sk-container-id-1 label.sk-toggleable__label {cursor: pointer;display: block;width: 100%;margin-bottom: 0;padding: 0.3em;box-sizing: border-box;text-align: center;}#sk-container-id-1 label.sk-toggleable__label-arrow:before {content: \"▸\";float: left;margin-right: 0.25em;color: #696969;}#sk-container-id-1 label.sk-toggleable__label-arrow:hover:before {color: black;}#sk-container-id-1 div.sk-estimator:hover label.sk-toggleable__label-arrow:before {color: black;}#sk-container-id-1 div.sk-toggleable__content {max-height: 0;max-width: 0;overflow: hidden;text-align: left;background-color: #f0f8ff;}#sk-container-id-1 div.sk-toggleable__content pre {margin: 0.2em;color: black;border-radius: 0.25em;background-color: #f0f8ff;}#sk-container-id-1 input.sk-toggleable__control:checked~div.sk-toggleable__content {max-height: 200px;max-width: 100%;overflow: auto;}#sk-container-id-1 input.sk-toggleable__control:checked~label.sk-toggleable__label-arrow:before {content: \"▾\";}#sk-container-id-1 div.sk-estimator input.sk-toggleable__control:checked~label.sk-toggleable__label {background-color: #d4ebff;}#sk-container-id-1 div.sk-label input.sk-toggleable__control:checked~label.sk-toggleable__label {background-color: #d4ebff;}#sk-container-id-1 input.sk-hidden--visually {border: 0;clip: rect(1px 1px 1px 1px);clip: rect(1px, 1px, 1px, 1px);height: 1px;margin: -1px;overflow: hidden;padding: 0;position: absolute;width: 1px;}#sk-container-id-1 div.sk-estimator {font-family: monospace;background-color: #f0f8ff;border: 1px dotted black;border-radius: 0.25em;box-sizing: border-box;margin-bottom: 0.5em;}#sk-container-id-1 div.sk-estimator:hover {background-color: #d4ebff;}#sk-container-id-1 div.sk-parallel-item::after {content: \"\";width: 100%;border-bottom: 1px solid gray;flex-grow: 1;}#sk-container-id-1 div.sk-label:hover label.sk-toggleable__label {background-color: #d4ebff;}#sk-container-id-1 div.sk-serial::before {content: \"\";position: absolute;border-left: 1px solid gray;box-sizing: border-box;top: 0;bottom: 0;left: 50%;z-index: 0;}#sk-container-id-1 div.sk-serial {display: flex;flex-direction: column;align-items: center;background-color: white;padding-right: 0.2em;padding-left: 0.2em;position: relative;}#sk-container-id-1 div.sk-item {position: relative;z-index: 1;}#sk-container-id-1 div.sk-parallel {display: flex;align-items: stretch;justify-content: center;background-color: white;position: relative;}#sk-container-id-1 div.sk-item::before, #sk-container-id-1 div.sk-parallel-item::before {content: \"\";position: absolute;border-left: 1px solid gray;box-sizing: border-box;top: 0;bottom: 0;left: 50%;z-index: -1;}#sk-container-id-1 div.sk-parallel-item {display: flex;flex-direction: column;z-index: 1;position: relative;background-color: white;}#sk-container-id-1 div.sk-parallel-item:first-child::after {align-self: flex-end;width: 50%;}#sk-container-id-1 div.sk-parallel-item:last-child::after {align-self: flex-start;width: 50%;}#sk-container-id-1 div.sk-parallel-item:only-child::after {width: 0;}#sk-container-id-1 div.sk-dashed-wrapped {border: 1px dashed gray;margin: 0 0.4em 0.5em 0.4em;box-sizing: border-box;padding-bottom: 0.4em;background-color: white;}#sk-container-id-1 div.sk-label label {font-family: monospace;font-weight: bold;display: inline-block;line-height: 1.2em;}#sk-container-id-1 div.sk-label-container {text-align: center;}#sk-container-id-1 div.sk-container {/* jupyter's `normalize.less` sets `[hidden] { display: none; }` but bootstrap.min.css set `[hidden] { display: none !important; }` so we also need the `!important` here to be able to override the default hidden behavior on the sphinx rendered scikit-learn.org. See: https://github.com/scikit-learn/scikit-learn/issues/21755 */display: inline-block !important;position: relative;}#sk-container-id-1 div.sk-text-repr-fallback {display: none;}</style><div id=\"sk-container-id-1\" class=\"sk-top-container\"><div class=\"sk-text-repr-fallback\"><pre>LogisticRegression(fit_intercept=False, max_iter=1000,\n",
       "                   multi_class=&#x27;multinomial&#x27;, random_state=42, solver=&#x27;saga&#x27;,\n",
       "                   tol=0.001)</pre><b>In a Jupyter environment, please rerun this cell to show the HTML representation or trust the notebook. <br />On GitHub, the HTML representation is unable to render, please try loading this page with nbviewer.org.</b></div><div class=\"sk-container\" hidden><div class=\"sk-item\"><div class=\"sk-estimator sk-toggleable\"><input class=\"sk-toggleable__control sk-hidden--visually\" id=\"sk-estimator-id-1\" type=\"checkbox\" checked><label for=\"sk-estimator-id-1\" class=\"sk-toggleable__label sk-toggleable__label-arrow\">LogisticRegression</label><div class=\"sk-toggleable__content\"><pre>LogisticRegression(fit_intercept=False, max_iter=1000,\n",
       "                   multi_class=&#x27;multinomial&#x27;, random_state=42, solver=&#x27;saga&#x27;,\n",
       "                   tol=0.001)</pre></div></div></div></div></div>"
      ],
      "text/plain": [
       "LogisticRegression(fit_intercept=False, max_iter=1000,\n",
       "                   multi_class='multinomial', random_state=42, solver='saga',\n",
       "                   tol=0.001)"
      ]
     },
     "execution_count": 6,
     "metadata": {},
     "output_type": "execute_result"
    }
   ],
   "source": [
    "model = LogisticRegression(\n",
    "    multi_class=\"multinomial\", max_iter=1000,\n",
    "    fit_intercept=False, tol=0.001, solver='saga', random_state=42)\n",
    "model.fit(X_train, y_train)"
   ]
  },
  {
   "cell_type": "code",
   "execution_count": 7,
   "metadata": {},
   "outputs": [
    {
     "name": "stdout",
     "output_type": "stream",
     "text": [
      "      gcct  ggac  gaca  accg  gata  aaag  tact  tgtg  cccc  tgct  ...  gggg  \\\n",
      "1302     6     4     4     8    10     9    17    14    15    13  ...     7   \n",
      "6596     8     9    35    12    66    46    46    26     5    30  ...     8   \n",
      "4095     9     6     6     2    12    16    14    19    12    16  ...     5   \n",
      "7284   366   247   631   488   872   774   532   397   117   785  ...   147   \n",
      "4899    17    28    30    23    52    65    74    33    38   117  ...     2   \n",
      "6289    22    53    80    12    46    89    33    44    19    51  ...    26   \n",
      "7830   169   261   227   502    31    36    38   106   172   125  ...   163   \n",
      "2048   232   315   197   447    60    82    73   101   314   184  ...   221   \n",
      "7122    62    33   125    32   227   322   271   187    27   201  ...    28   \n",
      "7488    10     3     4     6     8    17     4     5    12     6  ...    12   \n",
      "\n",
      "      ttcg  gtgc  cgcg  taca  ctta  tgat  atca  agac  taag  \n",
      "1302    12     9     7    12     5    22     8     4    13  \n",
      "6596    48    17     5    33    40    60    71    33    53  \n",
      "4095    11    11     2    16     7    18     9     5     9  \n",
      "7284  1032   374   260   530   360  1101  1186   426   314  \n",
      "4899    23    24    11    48    55    91    36    29    39  \n",
      "6289    28    23     6    51    36   105   108    60    31  \n",
      "7830   256   247   726    81    10   147   167   151    10  \n",
      "2048   277   169   543   112    45   175   223   190    44  \n",
      "7122    43    84    11   221   150   317   245   125   159  \n",
      "7488     1     7    10     1    11     7    10    10     7  \n",
      "\n",
      "[10 rows x 256 columns]\n",
      "0.8658536585365854\n"
     ]
    }
   ],
   "source": [
    "# all 0s for some reason\n",
    "print(X_test[:10])\n",
    "predictions = model.predict(X_test)\n",
    "print(accuracy_score(y_test, predictions))"
   ]
  },
  {
   "cell_type": "code",
   "execution_count": 8,
   "metadata": {},
   "outputs": [
    {
     "data": {
      "text/html": [
       "<style>#sk-container-id-2 {color: black;background-color: white;}#sk-container-id-2 pre{padding: 0;}#sk-container-id-2 div.sk-toggleable {background-color: white;}#sk-container-id-2 label.sk-toggleable__label {cursor: pointer;display: block;width: 100%;margin-bottom: 0;padding: 0.3em;box-sizing: border-box;text-align: center;}#sk-container-id-2 label.sk-toggleable__label-arrow:before {content: \"▸\";float: left;margin-right: 0.25em;color: #696969;}#sk-container-id-2 label.sk-toggleable__label-arrow:hover:before {color: black;}#sk-container-id-2 div.sk-estimator:hover label.sk-toggleable__label-arrow:before {color: black;}#sk-container-id-2 div.sk-toggleable__content {max-height: 0;max-width: 0;overflow: hidden;text-align: left;background-color: #f0f8ff;}#sk-container-id-2 div.sk-toggleable__content pre {margin: 0.2em;color: black;border-radius: 0.25em;background-color: #f0f8ff;}#sk-container-id-2 input.sk-toggleable__control:checked~div.sk-toggleable__content {max-height: 200px;max-width: 100%;overflow: auto;}#sk-container-id-2 input.sk-toggleable__control:checked~label.sk-toggleable__label-arrow:before {content: \"▾\";}#sk-container-id-2 div.sk-estimator input.sk-toggleable__control:checked~label.sk-toggleable__label {background-color: #d4ebff;}#sk-container-id-2 div.sk-label input.sk-toggleable__control:checked~label.sk-toggleable__label {background-color: #d4ebff;}#sk-container-id-2 input.sk-hidden--visually {border: 0;clip: rect(1px 1px 1px 1px);clip: rect(1px, 1px, 1px, 1px);height: 1px;margin: -1px;overflow: hidden;padding: 0;position: absolute;width: 1px;}#sk-container-id-2 div.sk-estimator {font-family: monospace;background-color: #f0f8ff;border: 1px dotted black;border-radius: 0.25em;box-sizing: border-box;margin-bottom: 0.5em;}#sk-container-id-2 div.sk-estimator:hover {background-color: #d4ebff;}#sk-container-id-2 div.sk-parallel-item::after {content: \"\";width: 100%;border-bottom: 1px solid gray;flex-grow: 1;}#sk-container-id-2 div.sk-label:hover label.sk-toggleable__label {background-color: #d4ebff;}#sk-container-id-2 div.sk-serial::before {content: \"\";position: absolute;border-left: 1px solid gray;box-sizing: border-box;top: 0;bottom: 0;left: 50%;z-index: 0;}#sk-container-id-2 div.sk-serial {display: flex;flex-direction: column;align-items: center;background-color: white;padding-right: 0.2em;padding-left: 0.2em;position: relative;}#sk-container-id-2 div.sk-item {position: relative;z-index: 1;}#sk-container-id-2 div.sk-parallel {display: flex;align-items: stretch;justify-content: center;background-color: white;position: relative;}#sk-container-id-2 div.sk-item::before, #sk-container-id-2 div.sk-parallel-item::before {content: \"\";position: absolute;border-left: 1px solid gray;box-sizing: border-box;top: 0;bottom: 0;left: 50%;z-index: -1;}#sk-container-id-2 div.sk-parallel-item {display: flex;flex-direction: column;z-index: 1;position: relative;background-color: white;}#sk-container-id-2 div.sk-parallel-item:first-child::after {align-self: flex-end;width: 50%;}#sk-container-id-2 div.sk-parallel-item:last-child::after {align-self: flex-start;width: 50%;}#sk-container-id-2 div.sk-parallel-item:only-child::after {width: 0;}#sk-container-id-2 div.sk-dashed-wrapped {border: 1px dashed gray;margin: 0 0.4em 0.5em 0.4em;box-sizing: border-box;padding-bottom: 0.4em;background-color: white;}#sk-container-id-2 div.sk-label label {font-family: monospace;font-weight: bold;display: inline-block;line-height: 1.2em;}#sk-container-id-2 div.sk-label-container {text-align: center;}#sk-container-id-2 div.sk-container {/* jupyter's `normalize.less` sets `[hidden] { display: none; }` but bootstrap.min.css set `[hidden] { display: none !important; }` so we also need the `!important` here to be able to override the default hidden behavior on the sphinx rendered scikit-learn.org. See: https://github.com/scikit-learn/scikit-learn/issues/21755 */display: inline-block !important;position: relative;}#sk-container-id-2 div.sk-text-repr-fallback {display: none;}</style><div id=\"sk-container-id-2\" class=\"sk-top-container\"><div class=\"sk-text-repr-fallback\"><pre>BalancedBaggingClassifier(base_estimator=KNeighborsClassifier(n_jobs=1,\n",
       "                                                              n_neighbors=1),\n",
       "                          n_jobs=1)</pre><b>In a Jupyter environment, please rerun this cell to show the HTML representation or trust the notebook. <br />On GitHub, the HTML representation is unable to render, please try loading this page with nbviewer.org.</b></div><div class=\"sk-container\" hidden><div class=\"sk-item sk-dashed-wrapped\"><div class=\"sk-label-container\"><div class=\"sk-label sk-toggleable\"><input class=\"sk-toggleable__control sk-hidden--visually\" id=\"sk-estimator-id-2\" type=\"checkbox\" ><label for=\"sk-estimator-id-2\" class=\"sk-toggleable__label sk-toggleable__label-arrow\">BalancedBaggingClassifier</label><div class=\"sk-toggleable__content\"><pre>BalancedBaggingClassifier(base_estimator=KNeighborsClassifier(n_jobs=1,\n",
       "                                                              n_neighbors=1),\n",
       "                          n_jobs=1)</pre></div></div></div><div class=\"sk-parallel\"><div class=\"sk-parallel-item\"><div class=\"sk-item\"><div class=\"sk-label-container\"><div class=\"sk-label sk-toggleable\"><input class=\"sk-toggleable__control sk-hidden--visually\" id=\"sk-estimator-id-3\" type=\"checkbox\" ><label for=\"sk-estimator-id-3\" class=\"sk-toggleable__label sk-toggleable__label-arrow\">base_estimator: KNeighborsClassifier</label><div class=\"sk-toggleable__content\"><pre>KNeighborsClassifier(n_jobs=1, n_neighbors=1)</pre></div></div></div><div class=\"sk-serial\"><div class=\"sk-item\"><div class=\"sk-estimator sk-toggleable\"><input class=\"sk-toggleable__control sk-hidden--visually\" id=\"sk-estimator-id-4\" type=\"checkbox\" ><label for=\"sk-estimator-id-4\" class=\"sk-toggleable__label sk-toggleable__label-arrow\">KNeighborsClassifier</label><div class=\"sk-toggleable__content\"><pre>KNeighborsClassifier(n_jobs=1, n_neighbors=1)</pre></div></div></div></div></div></div></div></div></div></div>"
      ],
      "text/plain": [
       "BalancedBaggingClassifier(base_estimator=KNeighborsClassifier(n_jobs=1,\n",
       "                                                              n_neighbors=1),\n",
       "                          n_jobs=1)"
      ]
     },
     "execution_count": 8,
     "metadata": {},
     "output_type": "execute_result"
    }
   ],
   "source": [
    "knntest = BalancedBaggingClassifier(base_estimator=KNeighborsClassifier(n_neighbors = 1, n_jobs = 1), n_estimators = 10, n_jobs = 1)\n",
    "\n",
    "knntest.fit(X_train, y_train)\n",
    "# knn = KNeighborsClassifier(n_neighbors=5)"
   ]
  },
  {
   "cell_type": "code",
   "execution_count": 9,
   "metadata": {},
   "outputs": [
    {
     "name": "stdout",
     "output_type": "stream",
     "text": [
      "[0. 0. 0. 0. 0. 1. 0. 0. 0. 0.]\n",
      "0.9204665959703076\n"
     ]
    }
   ],
   "source": [
    "predictions = knntest.predict(X_test)\n",
    "print(predictions[:10])\n",
    "print(accuracy_score(y_test, predictions))"
   ]
  },
  {
   "cell_type": "code",
   "execution_count": 52,
   "metadata": {},
   "outputs": [
    {
     "data": {
      "text/html": [
       "<style>#sk-container-id-4 {color: black;background-color: white;}#sk-container-id-4 pre{padding: 0;}#sk-container-id-4 div.sk-toggleable {background-color: white;}#sk-container-id-4 label.sk-toggleable__label {cursor: pointer;display: block;width: 100%;margin-bottom: 0;padding: 0.3em;box-sizing: border-box;text-align: center;}#sk-container-id-4 label.sk-toggleable__label-arrow:before {content: \"▸\";float: left;margin-right: 0.25em;color: #696969;}#sk-container-id-4 label.sk-toggleable__label-arrow:hover:before {color: black;}#sk-container-id-4 div.sk-estimator:hover label.sk-toggleable__label-arrow:before {color: black;}#sk-container-id-4 div.sk-toggleable__content {max-height: 0;max-width: 0;overflow: hidden;text-align: left;background-color: #f0f8ff;}#sk-container-id-4 div.sk-toggleable__content pre {margin: 0.2em;color: black;border-radius: 0.25em;background-color: #f0f8ff;}#sk-container-id-4 input.sk-toggleable__control:checked~div.sk-toggleable__content {max-height: 200px;max-width: 100%;overflow: auto;}#sk-container-id-4 input.sk-toggleable__control:checked~label.sk-toggleable__label-arrow:before {content: \"▾\";}#sk-container-id-4 div.sk-estimator input.sk-toggleable__control:checked~label.sk-toggleable__label {background-color: #d4ebff;}#sk-container-id-4 div.sk-label input.sk-toggleable__control:checked~label.sk-toggleable__label {background-color: #d4ebff;}#sk-container-id-4 input.sk-hidden--visually {border: 0;clip: rect(1px 1px 1px 1px);clip: rect(1px, 1px, 1px, 1px);height: 1px;margin: -1px;overflow: hidden;padding: 0;position: absolute;width: 1px;}#sk-container-id-4 div.sk-estimator {font-family: monospace;background-color: #f0f8ff;border: 1px dotted black;border-radius: 0.25em;box-sizing: border-box;margin-bottom: 0.5em;}#sk-container-id-4 div.sk-estimator:hover {background-color: #d4ebff;}#sk-container-id-4 div.sk-parallel-item::after {content: \"\";width: 100%;border-bottom: 1px solid gray;flex-grow: 1;}#sk-container-id-4 div.sk-label:hover label.sk-toggleable__label {background-color: #d4ebff;}#sk-container-id-4 div.sk-serial::before {content: \"\";position: absolute;border-left: 1px solid gray;box-sizing: border-box;top: 0;bottom: 0;left: 50%;z-index: 0;}#sk-container-id-4 div.sk-serial {display: flex;flex-direction: column;align-items: center;background-color: white;padding-right: 0.2em;padding-left: 0.2em;position: relative;}#sk-container-id-4 div.sk-item {position: relative;z-index: 1;}#sk-container-id-4 div.sk-parallel {display: flex;align-items: stretch;justify-content: center;background-color: white;position: relative;}#sk-container-id-4 div.sk-item::before, #sk-container-id-4 div.sk-parallel-item::before {content: \"\";position: absolute;border-left: 1px solid gray;box-sizing: border-box;top: 0;bottom: 0;left: 50%;z-index: -1;}#sk-container-id-4 div.sk-parallel-item {display: flex;flex-direction: column;z-index: 1;position: relative;background-color: white;}#sk-container-id-4 div.sk-parallel-item:first-child::after {align-self: flex-end;width: 50%;}#sk-container-id-4 div.sk-parallel-item:last-child::after {align-self: flex-start;width: 50%;}#sk-container-id-4 div.sk-parallel-item:only-child::after {width: 0;}#sk-container-id-4 div.sk-dashed-wrapped {border: 1px dashed gray;margin: 0 0.4em 0.5em 0.4em;box-sizing: border-box;padding-bottom: 0.4em;background-color: white;}#sk-container-id-4 div.sk-label label {font-family: monospace;font-weight: bold;display: inline-block;line-height: 1.2em;}#sk-container-id-4 div.sk-label-container {text-align: center;}#sk-container-id-4 div.sk-container {/* jupyter's `normalize.less` sets `[hidden] { display: none; }` but bootstrap.min.css set `[hidden] { display: none !important; }` so we also need the `!important` here to be able to override the default hidden behavior on the sphinx rendered scikit-learn.org. See: https://github.com/scikit-learn/scikit-learn/issues/21755 */display: inline-block !important;position: relative;}#sk-container-id-4 div.sk-text-repr-fallback {display: none;}</style><div id=\"sk-container-id-4\" class=\"sk-top-container\"><div class=\"sk-text-repr-fallback\"><pre>BalancedBaggingClassifier(base_estimator=DecisionTreeClassifier(max_features=&#x27;sqrt&#x27;))</pre><b>In a Jupyter environment, please rerun this cell to show the HTML representation or trust the notebook. <br />On GitHub, the HTML representation is unable to render, please try loading this page with nbviewer.org.</b></div><div class=\"sk-container\" hidden><div class=\"sk-item sk-dashed-wrapped\"><div class=\"sk-label-container\"><div class=\"sk-label sk-toggleable\"><input class=\"sk-toggleable__control sk-hidden--visually\" id=\"sk-estimator-id-8\" type=\"checkbox\" ><label for=\"sk-estimator-id-8\" class=\"sk-toggleable__label sk-toggleable__label-arrow\">BalancedBaggingClassifier</label><div class=\"sk-toggleable__content\"><pre>BalancedBaggingClassifier(base_estimator=DecisionTreeClassifier(max_features=&#x27;sqrt&#x27;))</pre></div></div></div><div class=\"sk-parallel\"><div class=\"sk-parallel-item\"><div class=\"sk-item\"><div class=\"sk-label-container\"><div class=\"sk-label sk-toggleable\"><input class=\"sk-toggleable__control sk-hidden--visually\" id=\"sk-estimator-id-9\" type=\"checkbox\" ><label for=\"sk-estimator-id-9\" class=\"sk-toggleable__label sk-toggleable__label-arrow\">base_estimator: DecisionTreeClassifier</label><div class=\"sk-toggleable__content\"><pre>DecisionTreeClassifier(max_features=&#x27;sqrt&#x27;)</pre></div></div></div><div class=\"sk-serial\"><div class=\"sk-item\"><div class=\"sk-estimator sk-toggleable\"><input class=\"sk-toggleable__control sk-hidden--visually\" id=\"sk-estimator-id-10\" type=\"checkbox\" ><label for=\"sk-estimator-id-10\" class=\"sk-toggleable__label sk-toggleable__label-arrow\">DecisionTreeClassifier</label><div class=\"sk-toggleable__content\"><pre>DecisionTreeClassifier(max_features=&#x27;sqrt&#x27;)</pre></div></div></div></div></div></div></div></div></div></div>"
      ],
      "text/plain": [
       "BalancedBaggingClassifier(base_estimator=DecisionTreeClassifier(max_features='sqrt'))"
      ]
     },
     "execution_count": 52,
     "metadata": {},
     "output_type": "execute_result"
    }
   ],
   "source": [
    "\n",
    "randforest = BalancedBaggingClassifier(base_estimator=DecisionTreeClassifier(max_features=\"sqrt\"))\n",
    "\n",
    "randforest.fit(X_train, y_train)"
   ]
  },
  {
   "cell_type": "code",
   "execution_count": 37,
   "metadata": {},
   "outputs": [],
   "source": [
    "def saveModel(model, name, X_test, y_test, params=None, dir='curr_models', gradBoost=False):\n",
    "    predictions = model.predict(X_test)\n",
    "    currAcc = accuracy_score(y_test, predictions)\n",
    "    \n",
    "    print(confusion_matrix(y_test, predictions))\n",
    "    \n",
    "    if not path.exists(f\"{dir}/{name}.pkl\"):\n",
    "        print(\"does not exist\")\n",
    "\n",
    "        pickle.dump(model, open(f'{dir}/{name}.pkl', 'wb'))\n",
    "    else:\n",
    "        pickled_model = pickle.load(open(f'{dir}/{name}.pkl', 'rb'))\n",
    "        if gradBoost:\n",
    "            cols_when_model_builds = model.get_booster().feature_names\n",
    "            X_test=X_test[cols_when_model_builds]\n",
    "        \n",
    "        picklePredictions=pickled_model.predict(X_test)\n",
    "        pickleAcc=accuracy_score(y_test, picklePredictions)\n",
    "        \n",
    "        if currAcc > pickleAcc:\n",
    "            print(\"update!\")\n",
    "            print(confusion_matrix(y_test, picklePredictions))\n",
    "\n",
    "            print(\"curr\", currAcc, \"pickle\", pickleAcc)\n",
    "            pickle.dump(model, open(f'{dir}/{name}.pkl', 'wb'))\n",
    "\n",
    "            if params != None:\n",
    "                pickle.dump(params, open(f'{dir}/{name}-params.pkl', 'wb'))\n",
    "        else:\n",
    "            model=pickled_model\n",
    "    return model"
   ]
  },
  {
   "cell_type": "code",
   "execution_count": 53,
   "metadata": {},
   "outputs": [
    {
     "name": "stdout",
     "output_type": "stream",
     "text": [
      "[[1551   83]\n",
      " [  37  215]]\n",
      "update!\n",
      "[[1552   82]\n",
      " [  44  208]]\n",
      "curr 0.936373276776246 pickle 0.9331919406150583\n",
      "0.936373276776246\n"
     ]
    }
   ],
   "source": [
    "saveModel(randforest, \"randforest\", X_test, y_test)\n",
    "\n",
    "predictions = randforest.predict(X_test)\n",
    "print(accuracy_score(y_test, predictions))\n",
    "\n",
    "# for i in range(1000):\n",
    "#     predictions[i] != y_test_list[i] and print(predictions[i], \"vs\", y_test_list[i])"
   ]
  },
  {
   "cell_type": "code",
   "execution_count": 54,
   "metadata": {},
   "outputs": [
    {
     "name": "stdout",
     "output_type": "stream",
     "text": [
      "0.936373276776246\n"
     ]
    }
   ],
   "source": [
    "probability_predictions = randforest.predict_proba(X_test)\n",
    "preds = randforest.predict(X_test)\n",
    "print(accuracy_score(y_test, preds))\n"
   ]
  },
  {
   "cell_type": "code",
   "execution_count": 33,
   "metadata": {},
   "outputs": [
    {
     "name": "stdout",
     "output_type": "stream",
     "text": [
      "Learning rate:  0.05\n",
      "Accuracy score (validation): 0.955\n",
      "[[1621   13]\n",
      " [  71  181]]\n",
      "update!\n",
      "[[1607   27]\n",
      " [ 251    1]]\n",
      "curr 0.9554612937433722 pickle 0.8525980911983033\n"
     ]
    },
    {
     "name": "stderr",
     "output_type": "stream",
     "text": [
      "/Users/benjaminli/opt/miniconda3/envs/seq/lib/python3.8/site-packages/sklearn/base.py:493: FutureWarning: The feature names should match those that were passed during fit. Starting version 1.2, an error will be raised.\n",
      "Feature names must be in the same order as they were in fit.\n",
      "\n",
      "  warnings.warn(message, FutureWarning)\n"
     ]
    },
    {
     "name": "stdout",
     "output_type": "stream",
     "text": [
      "Learning rate:  0.075\n",
      "Accuracy score (validation): 0.957\n",
      "[[1621   13]\n",
      " [  68  184]]\n",
      "update!\n",
      "[[1621   13]\n",
      " [  71  181]]\n",
      "curr 0.957051961823966 pickle 0.9554612937433722\n",
      "Learning rate:  0.1\n",
      "Accuracy score (validation): 0.960\n",
      "[[1619   15]\n",
      " [  60  192]]\n",
      "update!\n",
      "[[1621   13]\n",
      " [  68  184]]\n",
      "curr 0.9602332979851538 pickle 0.957051961823966\n",
      "Learning rate:  0.15\n",
      "Accuracy score (validation): 0.959\n",
      "[[1618   16]\n",
      " [  62  190]]\n",
      "Learning rate:  0.2\n",
      "Accuracy score (validation): 0.961\n",
      "[[1617   17]\n",
      " [  56  196]]\n",
      "update!\n",
      "[[1619   15]\n",
      " [  60  192]]\n",
      "curr 0.9612937433722163 pickle 0.9602332979851538\n",
      "Learning rate:  0.25\n",
      "Accuracy score (validation): 0.958\n",
      "[[1613   21]\n",
      " [  59  193]]\n",
      "Learning rate:  0.3\n",
      "Accuracy score (validation): 0.958\n",
      "[[1610   24]\n",
      " [  56  196]]\n",
      "Learning rate:  0.35\n",
      "Accuracy score (validation): 0.954\n",
      "[[1604   30]\n",
      " [  57  195]]\n",
      "Learning rate:  0.4\n",
      "Accuracy score (validation): 0.960\n",
      "[[1614   20]\n",
      " [  55  197]]\n",
      "Learning rate:  0.45\n",
      "Accuracy score (validation): 0.955\n",
      "[[1608   26]\n",
      " [  58  194]]\n",
      "Learning rate:  0.5\n",
      "Accuracy score (validation): 0.952\n",
      "[[1604   30]\n",
      " [  61  191]]\n",
      "Learning rate:  0.55\n",
      "Accuracy score (validation): 0.955\n",
      "[[1610   24]\n",
      " [  60  192]]\n",
      "Learning rate:  0.6\n",
      "Accuracy score (validation): 0.946\n",
      "[[1592   42]\n",
      " [  59  193]]\n",
      "Learning rate:  0.65\n",
      "Accuracy score (validation): 0.845\n",
      "[[1427  207]\n",
      " [  85  167]]\n",
      "Learning rate:  0.7\n",
      "Accuracy score (validation): 0.950\n",
      "[[1602   32]\n",
      " [  62  190]]\n",
      "Learning rate:  0.75\n",
      "Accuracy score (validation): 0.945\n",
      "[[1588   46]\n",
      " [  57  195]]\n",
      "Learning rate:  0.8\n",
      "Accuracy score (validation): 0.878\n",
      "[[1472  162]\n",
      " [  69  183]]\n",
      "Learning rate:  0.85\n",
      "Accuracy score (validation): 0.913\n",
      "[[1541   93]\n",
      " [  72  180]]\n",
      "Learning rate:  1\n",
      "Accuracy score (validation): 0.869\n",
      "[[1490  144]\n",
      " [ 104  148]]\n"
     ]
    }
   ],
   "source": [
    "lr_list = [0.05, 0.075, 0.1, 0.15, 0.2, 0.25, 0.3, 0.35, 0.4, 0.45, 0.5, 0.55, 0.6, 0.65,0.7, 0.75, 0.8, 0.85, 1]\n",
    "\n",
    "parameters={\n",
    "   \"n_estimators\":100, # 200 kind of overfits I think\n",
    "    \"max_features\":2,\n",
    "    \"max_depth\":6,\n",
    "    \"random_state\":0,\n",
    "    \"min_sample_split\":50,\n",
    "    \"subsample\":0.8,\n",
    "    \"warm_start\":True\n",
    "}\n",
    "\n",
    "\n",
    "\n",
    "for learning_rate in lr_list:\n",
    "    gradBoost = GradientBoostingClassifier(n_estimators=parameters['n_estimators'], \n",
    "    learning_rate=learning_rate, max_features=parameters['max_features'], \n",
    "    max_depth=parameters['max_depth'], random_state=parameters['random_state'], \n",
    "    min_samples_split=parameters['min_sample_split'], subsample=parameters['subsample'], \n",
    "    warm_start=parameters['warm_start'])\n",
    "\n",
    "    parameters['learning_rate']=learning_rate\n",
    "    gradBoost.fit(X_train, y_train)\n",
    "\n",
    "    testingAcc = accuracy_score(y_test, gradBoost.predict(X_test))\n",
    "    trainingAcc = accuracy_score(y_train, gradBoost.predict(X_train))\n",
    "    \n",
    "    print(\"Learning rate: \", learning_rate)\n",
    "    # print(\"Accuracy score (training): {0:.3f}\".format(trainingAcc))\n",
    "    print(\"Accuracy score (validation): {0:.3f}\".format(testingAcc))\n",
    "    # print(f\"Feature importance {gradBoost.feature_importances_}\")\n",
    "\n",
    "    # pickle.dump(gradBoost, open('gradBoost.pkl', 'wb'))\n",
    "    saveModel(gradBoost, \"gradBoost\", X_test, y_test, parameters)"
   ]
  },
  {
   "cell_type": "code",
   "execution_count": 39,
   "metadata": {},
   "outputs": [
    {
     "name": "stdout",
     "output_type": "stream",
     "text": [
      "Learning rate:  0.05\n",
      "Accuracy score (validation): 0.959\n",
      "[[1623   11]\n",
      " [  67  185]]\n"
     ]
    },
    {
     "ename": "ValueError",
     "evalue": "feature_names mismatch: ['attg', 'gata', 'tcgg', 'aacc', 'ctcc', 'ttac', 'cata', 'taac', 'tgcc', 'ttca', 'ttaa', 'aggc', 'ttgg', 'tcca', 'catg', 'cgtc', 'gcgg', 'agcg', 'ctaa', 'aatc', 'ctcg', 'atcg', 'taga', 'tgag', 'cgca', 'tgcg', 'catt', 'aacg', 'gttc', 'tgga', 'ttgt', 'gaca', 'aaaa', 'aatg', 'tttc', 'cgtg', 'cacg', 'tatc', 'gaga', 'tcgt', 'ataa', 'agac', 'ctga', 'ggca', 'ggcg', 'cccc', 'ccat', 'cttc', 'ccga', 'gacg', 'aaca', 'acga', 'ccta', 'tgta', 'ggaa', 'ggta', 'gact', 'gcgc', 'tggt', 'atta', 'ttag', 'agct', 'ggct', 'atcc', 'caaa', 'acaa', 'tatg', 'tcgc', 'agga', 'atct', 'tcct', 'gggt', 'cggc', 'cact', 'tgtc', 'agta', 'tcat', 'ccgt', 'tgat', 'atgg', 'aagt', 'ttct', 'ctac', 'tgca', 'ggga', 'tcga', 'ctgt', 'acac', 'caac', 'tact', 'ctag', 'tcag', 'aata', 'ccca', 'ctat', 'ccgc', 'cgta', 'gtta', 'cgag', 'gggg', 'gcgt', 'acct', 'ggtg', 'actt', 'atca', 'cgcg', 'gtgc', 'tagg', 'taaa', 'taca', 'cccg', 'tagt', 'caga', 'tgaa', 'ctct', 'cttg', 'gcta', 'caag', 'agca', 'tgac', 'tggc', 'tgct', 'cttt', 'aatt', 'gctg', 'cggt', 'taag', 'cgcc', 'gttg', 'ccag', 'gcag', 'gccc', 'ggtt', 'tgtg', 'aagg', 'gacc', 'gcga', 'tacc', 'tgtt', 'cgaa', 'ttga', 'atat', 'aaac', 'cgct', 'ccac', 'gtcc', 'gtag', 'ctgc', 'ggtc', 'aggg', 'ccct', 'cgac', 'gagg', 'gtat', 'cagt', 'atac', 'ttcg', 'gtca', 'acgg', 'tctg', 'cctt', 'acgc', 'agtc', 'gaac', 'gcat', 'gctt', 'gttt', 'gcac', 'gtct', 'attc', 'cctc', 'aact', 'actc', 'attt', 'cctg', 'taat', 'ctta', 'ggat', 'acag', 'gaat', 'tatt', 'gatc', 'tctt', 'gtga', 'gagc', 'aagc', 'aggt', 'tcac', 'atgc', 'gtgg', 'acat', 'ttta', 'tagc', 'aaat', 'agaa', 'atga', 'agcc', 'cagc', 'cgga', 'cagg', 'aaga', 'accg', 'ccaa', 'cggg', 'ctgg', 'gaag', 'gctc', 'tggg', 'caat', 'ccgg', 'gaaa', 'caca', 'ggag', 'acca', 'ggcc', 'tacg', 'tata', 'ttcc', 'cgtt', 'gtgt', 'accc', 'agtt', 'gatt', 'tcaa', 'gcaa', 'aaag', 'acta', 'atag', 'agag', 'cacc', 'catc', 'gatg', 'agtg', 'atgt', 'actg', 'cgat', 'tttt', 'tctc', 'ttat', 'gtcg', 'gtac', 'gccg', 'gagt', 'agat', 'ttgc', 'tttg', 'gcca', 'acgt', 'gggc', 'ctca', 'tcta', 'gtaa', 'tccg', 'tccc', 'ggac', 'gcct'] ['gcct', 'ggac', 'gaca', 'accg', 'gata', 'aaag', 'tact', 'tgtg', 'cccc', 'tgct', 'agaa', 'caat', 'cgga', 'ggct', 'tttt', 'tgag', 'actc', 'gtcc', 'cccg', 'tgcc', 'gtcg', 'gctc', 'tcgt', 'aaat', 'catc', 'acta', 'ttca', 'ccca', 'aggc', 'aatg', 'cgtt', 'gttc', 'ccaa', 'ccgc', 'tatc', 'agca', 'caac', 'aaca', 'tccg', 'gtgt', 'ggca', 'gttg', 'gccc', 'ctcc', 'gcgt', 'gctg', 'gcgg', 'ccag', 'ggaa', 'tctt', 'cttt', 'caag', 'gaac', 'tcta', 'accc', 'cgtg', 'tggt', 'ttaa', 'acga', 'acgc', 'attc', 'ggtg', 'gagc', 'tgtt', 'agag', 'cagc', 'atct', 'cact', 'cgca', 'acac', 'aata', 'cgtc', 'catt', 'aaga', 'agta', 'gatt', 'gatg', 'aact', 'atcg', 'tcac', 'ttcc', 'gact', 'actt', 'ccct', 'gtag', 'actg', 'acca', 'tggc', 'cacc', 'agcg', 'ggcc', 'tctc', 'tata', 'aagt', 'cgac', 'tgaa', 'tttg', 'tacg', 'caga', 'agtt', 'tgcg', 'aggg', 'gttt', 'gtta', 'tcag', 'ctgc', 'ggtt', 'cttg', 'gtct', 'aaaa', 'cctg', 'atac', 'ctaa', 'gcgc', 'atgg', 'tcgg', 'ctca', 'cacg', 'aggt', 'ttta', 'cgag', 'atgc', 'gtat', 'taaa', 'aacg', 'tcgc', 'ctac', 'ctag', 'ttgg', 'gacg', 'tccc', 'ccat', 'tctg', 'gaat', 'aatt', 'atgt', 'cctc', 'cggc', 'cctt', 'acgg', 'ggtc', 'ttga', 'cggg', 'acag', 'tcaa', 'taga', 'aacc', 'agga', 'taat', 'ttat', 'tgta', 'cgct', 'ggta', 'acct', 'tgga', 'taac', 'tcga', 'aatc', 'ccga', 'aagg', 'tacc', 'atga', 'tatt', 'acat', 'tagt', 'agtc', 'tcat', 'gcag', 'agct', 'caaa', 'gcat', 'tgtc', 'gcac', 'gaaa', 'cgat', 'gatc', 'atta', 'ttct', 'ataa', 'gagt', 'cttc', 'gtgg', 'agat', 'ctcg', 'gggc', 'attg', 'gtaa', 'tagc', 'cgta', 'gaag', 'acaa', 'tgca', 'ttgt', 'ccgg', 'tggg', 'gctt', 'tatg', 'ggga', 'ccta', 'agcc', 'gaga', 'gggt', 'gcaa', 'ctgg', 'ggag', 'cgaa', 'tagg', 'ggcg', 'ttac', 'gtca', 'ctgt', 'gcta', 'gacc', 'ctga', 'atag', 'ggat', 'cagg', 'gtga', 'agtg', 'tcca', 'ttgc', 'aaac', 'attt', 'acgt', 'caca', 'cata', 'gagg', 'tttc', 'gtac', 'ccgt', 'tcct', 'gcga', 'atat', 'cagt', 'tgac', 'ctat', 'gcca', 'cgcc', 'ctct', 'catg', 'cggt', 'gccg', 'ccac', 'atcc', 'ttag', 'aagc', 'gggg', 'ttcg', 'gtgc', 'cgcg', 'taca', 'ctta', 'tgat', 'atca', 'agac', 'taag']",
     "output_type": "error",
     "traceback": [
      "\u001b[0;31m---------------------------------------------------------------------------\u001b[0m",
      "\u001b[0;31mValueError\u001b[0m                                Traceback (most recent call last)",
      "\u001b[1;32m/Users/benjaminli/Documents/coding/scires/project/run.ipynb Cell 14\u001b[0m in \u001b[0;36m<cell line: 15>\u001b[0;34m()\u001b[0m\n\u001b[1;32m     <a href='vscode-notebook-cell:/Users/benjaminli/Documents/coding/scires/project/run.ipynb#X16sZmlsZQ%3D%3D?line=29'>30</a>\u001b[0m \u001b[39mprint\u001b[39m(\u001b[39m\"\u001b[39m\u001b[39mAccuracy score (validation): \u001b[39m\u001b[39m{0:.3f}\u001b[39;00m\u001b[39m\"\u001b[39m\u001b[39m.\u001b[39mformat(testingAcc))\n\u001b[1;32m     <a href='vscode-notebook-cell:/Users/benjaminli/Documents/coding/scires/project/run.ipynb#X16sZmlsZQ%3D%3D?line=30'>31</a>\u001b[0m \u001b[39m# print(f\"Feature importance {gradBoost.feature_importances_}\")\u001b[39;00m\n\u001b[1;32m     <a href='vscode-notebook-cell:/Users/benjaminli/Documents/coding/scires/project/run.ipynb#X16sZmlsZQ%3D%3D?line=31'>32</a>\u001b[0m \n\u001b[1;32m     <a href='vscode-notebook-cell:/Users/benjaminli/Documents/coding/scires/project/run.ipynb#X16sZmlsZQ%3D%3D?line=32'>33</a>\u001b[0m \u001b[39m# pickle.dump(gradBoost, open('gradBoost.pkl', 'wb'))\u001b[39;00m\n\u001b[0;32m---> <a href='vscode-notebook-cell:/Users/benjaminli/Documents/coding/scires/project/run.ipynb#X16sZmlsZQ%3D%3D?line=33'>34</a>\u001b[0m saveModel(xgBoost, \u001b[39m\"\u001b[39;49m\u001b[39mxgBoost\u001b[39;49m\u001b[39m\"\u001b[39;49m, X_test, y_test, parameters)\n",
      "\u001b[1;32m/Users/benjaminli/Documents/coding/scires/project/run.ipynb Cell 14\u001b[0m in \u001b[0;36msaveModel\u001b[0;34m(model, name, X_test, y_test, params, dir, gradBoost)\u001b[0m\n\u001b[1;32m     <a href='vscode-notebook-cell:/Users/benjaminli/Documents/coding/scires/project/run.ipynb#X16sZmlsZQ%3D%3D?line=13'>14</a>\u001b[0m     cols_when_model_builds \u001b[39m=\u001b[39m model\u001b[39m.\u001b[39mget_booster()\u001b[39m.\u001b[39mfeature_names\n\u001b[1;32m     <a href='vscode-notebook-cell:/Users/benjaminli/Documents/coding/scires/project/run.ipynb#X16sZmlsZQ%3D%3D?line=14'>15</a>\u001b[0m     X_test\u001b[39m=\u001b[39mX_test[cols_when_model_builds]\n\u001b[0;32m---> <a href='vscode-notebook-cell:/Users/benjaminli/Documents/coding/scires/project/run.ipynb#X16sZmlsZQ%3D%3D?line=16'>17</a>\u001b[0m picklePredictions\u001b[39m=\u001b[39mpickled_model\u001b[39m.\u001b[39;49mpredict(X_test)\n\u001b[1;32m     <a href='vscode-notebook-cell:/Users/benjaminli/Documents/coding/scires/project/run.ipynb#X16sZmlsZQ%3D%3D?line=17'>18</a>\u001b[0m pickleAcc\u001b[39m=\u001b[39maccuracy_score(y_test, picklePredictions)\n\u001b[1;32m     <a href='vscode-notebook-cell:/Users/benjaminli/Documents/coding/scires/project/run.ipynb#X16sZmlsZQ%3D%3D?line=19'>20</a>\u001b[0m \u001b[39mif\u001b[39;00m currAcc \u001b[39m>\u001b[39m pickleAcc:\n",
      "File \u001b[0;32m~/opt/miniconda3/envs/seq/lib/python3.8/site-packages/xgboost/sklearn.py:1551\u001b[0m, in \u001b[0;36mXGBClassifier.predict\u001b[0;34m(self, X, output_margin, ntree_limit, validate_features, base_margin, iteration_range)\u001b[0m\n\u001b[1;32m   1541\u001b[0m \u001b[39mdef\u001b[39;00m \u001b[39mpredict\u001b[39m(\n\u001b[1;32m   1542\u001b[0m     \u001b[39mself\u001b[39m,\n\u001b[1;32m   1543\u001b[0m     X: ArrayLike,\n\u001b[0;32m   (...)\u001b[0m\n\u001b[1;32m   1548\u001b[0m     iteration_range: Optional[Tuple[\u001b[39mint\u001b[39m, \u001b[39mint\u001b[39m]] \u001b[39m=\u001b[39m \u001b[39mNone\u001b[39;00m,\n\u001b[1;32m   1549\u001b[0m ) \u001b[39m-\u001b[39m\u001b[39m>\u001b[39m np\u001b[39m.\u001b[39mndarray:\n\u001b[1;32m   1550\u001b[0m     \u001b[39mwith\u001b[39;00m config_context(verbosity\u001b[39m=\u001b[39m\u001b[39mself\u001b[39m\u001b[39m.\u001b[39mverbosity):\n\u001b[0;32m-> 1551\u001b[0m         class_probs \u001b[39m=\u001b[39m \u001b[39msuper\u001b[39;49m()\u001b[39m.\u001b[39;49mpredict(\n\u001b[1;32m   1552\u001b[0m             X\u001b[39m=\u001b[39;49mX,\n\u001b[1;32m   1553\u001b[0m             output_margin\u001b[39m=\u001b[39;49moutput_margin,\n\u001b[1;32m   1554\u001b[0m             ntree_limit\u001b[39m=\u001b[39;49mntree_limit,\n\u001b[1;32m   1555\u001b[0m             validate_features\u001b[39m=\u001b[39;49mvalidate_features,\n\u001b[1;32m   1556\u001b[0m             base_margin\u001b[39m=\u001b[39;49mbase_margin,\n\u001b[1;32m   1557\u001b[0m             iteration_range\u001b[39m=\u001b[39;49miteration_range,\n\u001b[1;32m   1558\u001b[0m         )\n\u001b[1;32m   1559\u001b[0m         \u001b[39mif\u001b[39;00m output_margin:\n\u001b[1;32m   1560\u001b[0m             \u001b[39m# If output_margin is active, simply return the scores\u001b[39;00m\n\u001b[1;32m   1561\u001b[0m             \u001b[39mreturn\u001b[39;00m class_probs\n",
      "File \u001b[0;32m~/opt/miniconda3/envs/seq/lib/python3.8/site-packages/xgboost/sklearn.py:1140\u001b[0m, in \u001b[0;36mXGBModel.predict\u001b[0;34m(self, X, output_margin, ntree_limit, validate_features, base_margin, iteration_range)\u001b[0m\n\u001b[1;32m   1138\u001b[0m \u001b[39mif\u001b[39;00m \u001b[39mself\u001b[39m\u001b[39m.\u001b[39m_can_use_inplace_predict():\n\u001b[1;32m   1139\u001b[0m     \u001b[39mtry\u001b[39;00m:\n\u001b[0;32m-> 1140\u001b[0m         predts \u001b[39m=\u001b[39m \u001b[39mself\u001b[39;49m\u001b[39m.\u001b[39;49mget_booster()\u001b[39m.\u001b[39;49minplace_predict(\n\u001b[1;32m   1141\u001b[0m             data\u001b[39m=\u001b[39;49mX,\n\u001b[1;32m   1142\u001b[0m             iteration_range\u001b[39m=\u001b[39;49miteration_range,\n\u001b[1;32m   1143\u001b[0m             predict_type\u001b[39m=\u001b[39;49m\u001b[39m\"\u001b[39;49m\u001b[39mmargin\u001b[39;49m\u001b[39m\"\u001b[39;49m \u001b[39mif\u001b[39;49;00m output_margin \u001b[39melse\u001b[39;49;00m \u001b[39m\"\u001b[39;49m\u001b[39mvalue\u001b[39;49m\u001b[39m\"\u001b[39;49m,\n\u001b[1;32m   1144\u001b[0m             missing\u001b[39m=\u001b[39;49m\u001b[39mself\u001b[39;49m\u001b[39m.\u001b[39;49mmissing,\n\u001b[1;32m   1145\u001b[0m             base_margin\u001b[39m=\u001b[39;49mbase_margin,\n\u001b[1;32m   1146\u001b[0m             validate_features\u001b[39m=\u001b[39;49mvalidate_features,\n\u001b[1;32m   1147\u001b[0m         )\n\u001b[1;32m   1148\u001b[0m         \u001b[39mif\u001b[39;00m _is_cupy_array(predts):\n\u001b[1;32m   1149\u001b[0m             \u001b[39mimport\u001b[39;00m \u001b[39mcupy\u001b[39;00m  \u001b[39m# pylint: disable=import-error\u001b[39;00m\n",
      "File \u001b[0;32m~/opt/miniconda3/envs/seq/lib/python3.8/site-packages/xgboost/core.py:2285\u001b[0m, in \u001b[0;36mBooster.inplace_predict\u001b[0;34m(self, data, iteration_range, predict_type, missing, validate_features, base_margin, strict_shape)\u001b[0m\n\u001b[1;32m   2283\u001b[0m     data, fns, _ \u001b[39m=\u001b[39m _transform_pandas_df(data, enable_categorical)\n\u001b[1;32m   2284\u001b[0m     \u001b[39mif\u001b[39;00m validate_features:\n\u001b[0;32m-> 2285\u001b[0m         \u001b[39mself\u001b[39;49m\u001b[39m.\u001b[39;49m_validate_features(fns)\n\u001b[1;32m   2287\u001b[0m \u001b[39mif\u001b[39;00m \u001b[39misinstance\u001b[39m(data, np\u001b[39m.\u001b[39mndarray):\n\u001b[1;32m   2288\u001b[0m     \u001b[39mfrom\u001b[39;00m \u001b[39m.\u001b[39;00m\u001b[39mdata\u001b[39;00m \u001b[39mimport\u001b[39;00m _ensure_np_dtype\n",
      "File \u001b[0;32m~/opt/miniconda3/envs/seq/lib/python3.8/site-packages/xgboost/core.py:2779\u001b[0m, in \u001b[0;36mBooster._validate_features\u001b[0;34m(self, feature_names)\u001b[0m\n\u001b[1;32m   2773\u001b[0m \u001b[39mif\u001b[39;00m my_missing:\n\u001b[1;32m   2774\u001b[0m     msg \u001b[39m+\u001b[39m\u001b[39m=\u001b[39m (\n\u001b[1;32m   2775\u001b[0m         \u001b[39m\"\u001b[39m\u001b[39m\\n\u001b[39;00m\u001b[39mtraining data did not have the following fields: \u001b[39m\u001b[39m\"\u001b[39m\n\u001b[1;32m   2776\u001b[0m         \u001b[39m+\u001b[39m \u001b[39m\"\u001b[39m\u001b[39m, \u001b[39m\u001b[39m\"\u001b[39m\u001b[39m.\u001b[39mjoin(\u001b[39mstr\u001b[39m(s) \u001b[39mfor\u001b[39;00m s \u001b[39min\u001b[39;00m my_missing)\n\u001b[1;32m   2777\u001b[0m     )\n\u001b[0;32m-> 2779\u001b[0m \u001b[39mraise\u001b[39;00m \u001b[39mValueError\u001b[39;00m(msg\u001b[39m.\u001b[39mformat(\u001b[39mself\u001b[39m\u001b[39m.\u001b[39mfeature_names, feature_names))\n",
      "\u001b[0;31mValueError\u001b[0m: feature_names mismatch: ['attg', 'gata', 'tcgg', 'aacc', 'ctcc', 'ttac', 'cata', 'taac', 'tgcc', 'ttca', 'ttaa', 'aggc', 'ttgg', 'tcca', 'catg', 'cgtc', 'gcgg', 'agcg', 'ctaa', 'aatc', 'ctcg', 'atcg', 'taga', 'tgag', 'cgca', 'tgcg', 'catt', 'aacg', 'gttc', 'tgga', 'ttgt', 'gaca', 'aaaa', 'aatg', 'tttc', 'cgtg', 'cacg', 'tatc', 'gaga', 'tcgt', 'ataa', 'agac', 'ctga', 'ggca', 'ggcg', 'cccc', 'ccat', 'cttc', 'ccga', 'gacg', 'aaca', 'acga', 'ccta', 'tgta', 'ggaa', 'ggta', 'gact', 'gcgc', 'tggt', 'atta', 'ttag', 'agct', 'ggct', 'atcc', 'caaa', 'acaa', 'tatg', 'tcgc', 'agga', 'atct', 'tcct', 'gggt', 'cggc', 'cact', 'tgtc', 'agta', 'tcat', 'ccgt', 'tgat', 'atgg', 'aagt', 'ttct', 'ctac', 'tgca', 'ggga', 'tcga', 'ctgt', 'acac', 'caac', 'tact', 'ctag', 'tcag', 'aata', 'ccca', 'ctat', 'ccgc', 'cgta', 'gtta', 'cgag', 'gggg', 'gcgt', 'acct', 'ggtg', 'actt', 'atca', 'cgcg', 'gtgc', 'tagg', 'taaa', 'taca', 'cccg', 'tagt', 'caga', 'tgaa', 'ctct', 'cttg', 'gcta', 'caag', 'agca', 'tgac', 'tggc', 'tgct', 'cttt', 'aatt', 'gctg', 'cggt', 'taag', 'cgcc', 'gttg', 'ccag', 'gcag', 'gccc', 'ggtt', 'tgtg', 'aagg', 'gacc', 'gcga', 'tacc', 'tgtt', 'cgaa', 'ttga', 'atat', 'aaac', 'cgct', 'ccac', 'gtcc', 'gtag', 'ctgc', 'ggtc', 'aggg', 'ccct', 'cgac', 'gagg', 'gtat', 'cagt', 'atac', 'ttcg', 'gtca', 'acgg', 'tctg', 'cctt', 'acgc', 'agtc', 'gaac', 'gcat', 'gctt', 'gttt', 'gcac', 'gtct', 'attc', 'cctc', 'aact', 'actc', 'attt', 'cctg', 'taat', 'ctta', 'ggat', 'acag', 'gaat', 'tatt', 'gatc', 'tctt', 'gtga', 'gagc', 'aagc', 'aggt', 'tcac', 'atgc', 'gtgg', 'acat', 'ttta', 'tagc', 'aaat', 'agaa', 'atga', 'agcc', 'cagc', 'cgga', 'cagg', 'aaga', 'accg', 'ccaa', 'cggg', 'ctgg', 'gaag', 'gctc', 'tggg', 'caat', 'ccgg', 'gaaa', 'caca', 'ggag', 'acca', 'ggcc', 'tacg', 'tata', 'ttcc', 'cgtt', 'gtgt', 'accc', 'agtt', 'gatt', 'tcaa', 'gcaa', 'aaag', 'acta', 'atag', 'agag', 'cacc', 'catc', 'gatg', 'agtg', 'atgt', 'actg', 'cgat', 'tttt', 'tctc', 'ttat', 'gtcg', 'gtac', 'gccg', 'gagt', 'agat', 'ttgc', 'tttg', 'gcca', 'acgt', 'gggc', 'ctca', 'tcta', 'gtaa', 'tccg', 'tccc', 'ggac', 'gcct'] ['gcct', 'ggac', 'gaca', 'accg', 'gata', 'aaag', 'tact', 'tgtg', 'cccc', 'tgct', 'agaa', 'caat', 'cgga', 'ggct', 'tttt', 'tgag', 'actc', 'gtcc', 'cccg', 'tgcc', 'gtcg', 'gctc', 'tcgt', 'aaat', 'catc', 'acta', 'ttca', 'ccca', 'aggc', 'aatg', 'cgtt', 'gttc', 'ccaa', 'ccgc', 'tatc', 'agca', 'caac', 'aaca', 'tccg', 'gtgt', 'ggca', 'gttg', 'gccc', 'ctcc', 'gcgt', 'gctg', 'gcgg', 'ccag', 'ggaa', 'tctt', 'cttt', 'caag', 'gaac', 'tcta', 'accc', 'cgtg', 'tggt', 'ttaa', 'acga', 'acgc', 'attc', 'ggtg', 'gagc', 'tgtt', 'agag', 'cagc', 'atct', 'cact', 'cgca', 'acac', 'aata', 'cgtc', 'catt', 'aaga', 'agta', 'gatt', 'gatg', 'aact', 'atcg', 'tcac', 'ttcc', 'gact', 'actt', 'ccct', 'gtag', 'actg', 'acca', 'tggc', 'cacc', 'agcg', 'ggcc', 'tctc', 'tata', 'aagt', 'cgac', 'tgaa', 'tttg', 'tacg', 'caga', 'agtt', 'tgcg', 'aggg', 'gttt', 'gtta', 'tcag', 'ctgc', 'ggtt', 'cttg', 'gtct', 'aaaa', 'cctg', 'atac', 'ctaa', 'gcgc', 'atgg', 'tcgg', 'ctca', 'cacg', 'aggt', 'ttta', 'cgag', 'atgc', 'gtat', 'taaa', 'aacg', 'tcgc', 'ctac', 'ctag', 'ttgg', 'gacg', 'tccc', 'ccat', 'tctg', 'gaat', 'aatt', 'atgt', 'cctc', 'cggc', 'cctt', 'acgg', 'ggtc', 'ttga', 'cggg', 'acag', 'tcaa', 'taga', 'aacc', 'agga', 'taat', 'ttat', 'tgta', 'cgct', 'ggta', 'acct', 'tgga', 'taac', 'tcga', 'aatc', 'ccga', 'aagg', 'tacc', 'atga', 'tatt', 'acat', 'tagt', 'agtc', 'tcat', 'gcag', 'agct', 'caaa', 'gcat', 'tgtc', 'gcac', 'gaaa', 'cgat', 'gatc', 'atta', 'ttct', 'ataa', 'gagt', 'cttc', 'gtgg', 'agat', 'ctcg', 'gggc', 'attg', 'gtaa', 'tagc', 'cgta', 'gaag', 'acaa', 'tgca', 'ttgt', 'ccgg', 'tggg', 'gctt', 'tatg', 'ggga', 'ccta', 'agcc', 'gaga', 'gggt', 'gcaa', 'ctgg', 'ggag', 'cgaa', 'tagg', 'ggcg', 'ttac', 'gtca', 'ctgt', 'gcta', 'gacc', 'ctga', 'atag', 'ggat', 'cagg', 'gtga', 'agtg', 'tcca', 'ttgc', 'aaac', 'attt', 'acgt', 'caca', 'cata', 'gagg', 'tttc', 'gtac', 'ccgt', 'tcct', 'gcga', 'atat', 'cagt', 'tgac', 'ctat', 'gcca', 'cgcc', 'ctct', 'catg', 'cggt', 'gccg', 'ccac', 'atcc', 'ttag', 'aagc', 'gggg', 'ttcg', 'gtgc', 'cgcg', 'taca', 'ctta', 'tgat', 'atca', 'agac', 'taag']"
     ]
    }
   ],
   "source": [
    "lr_list = [0.05, 0.075, 0.1, 0.15, 0.2, 0.25, 0.3, 0.35, 0.4, 0.45, 0.5, 0.55, 0.6, 0.65,0.7, 0.75, 0.8, 0.85, 1]\n",
    "\n",
    "parameters={\n",
    "   \"n_estimators\":100, # 200 kind of overfits I think\n",
    "    \"max_features\":2,\n",
    "    \"max_depth\":6,\n",
    "    \"random_state\":0,\n",
    "    \"min_sample_split\":50,\n",
    "    \"subsample\":0.8,\n",
    "    \"warm_start\":True\n",
    "}\n",
    "\n",
    "\n",
    "\n",
    "for learning_rate in lr_list:\n",
    "    xgBoost = XGBClassifier(n_estimators=parameters['n_estimators'], \n",
    "    learning_rate=learning_rate, \n",
    "    max_depth=parameters['max_depth'], random_state=parameters['random_state'], \n",
    "    subsample=parameters['subsample'], \n",
    "    )\n",
    "\n",
    "    parameters['learning_rate']=learning_rate\n",
    "    xgBoost.fit(X_train, y_train)\n",
    "\n",
    "    testingAcc = accuracy_score(y_test, xgBoost.predict(X_test))\n",
    "    trainingAcc = accuracy_score(y_train, xgBoost.predict(X_train))\n",
    "    \n",
    "    print(\"Learning rate: \", learning_rate)\n",
    "    # print(\"Accuracy score (training): {0:.3f}\".format(trainingAcc))\n",
    "    print(\"Accuracy score (validation): {0:.3f}\".format(testingAcc))\n",
    "    # print(f\"Feature importance {gradBoost.feature_importances_}\")\n",
    "\n",
    "    # pickle.dump(gradBoost, open('gradBoost.pkl', 'wb'))\n",
    "    saveModel(xgBoost, \"xgBoost\", X_test, y_test, parameters)"
   ]
  },
  {
   "cell_type": "code",
   "execution_count": 55,
   "metadata": {},
   "outputs": [
    {
     "name": "stdout",
     "output_type": "stream",
     "text": [
      "{'n_estimators': 100, 'max_features': 2, 'max_depth': 6, 'random_state': 0, 'min_sample_split': 50, 'subsample': 0.8, 'warm_start': True, 'learning_rate': 0.3}\n",
      "{'n_estimators': 100, 'max_features': 2, 'max_depth': 6, 'random_state': 0, 'min_sample_split': 50, 'subsample': 0.8, 'warm_start': True, 'learning_rate': 0.2}\n",
      "Best GB Accuracy:  0.9612937433722163\n",
      "Balanced GB Accuracy:  0.883686930504556\n",
      "Best rF Accuracy:  0.936373276776246\n",
      "Balanced rF Accuracy:  0.9011895047696761\n"
     ]
    }
   ],
   "source": [
    "# Models within \"orig_models\" folder have the highest training acc but not as great cross val\n",
    "\n",
    "best_xgboost = pickle.load(open('curr_models/xgBoost.pkl', 'rb'))\n",
    "best_xgboost_params = pickle.load(open('curr_models/xgBoost-params.pkl', 'rb'))\n",
    "\n",
    "best_gradBoost = pickle.load(open('curr_models/gradBoost.pkl', 'rb'))\n",
    "best_gradBoost_params = pickle.load(open('curr_models/gradBoost-params.pkl', 'rb'))\n",
    "\n",
    "best_rF = pickle.load(open('curr_models/randforest.pkl', 'rb'))\n",
    "\n",
    "print(best_xgboost_params)\n",
    "print(best_gradBoost_params)\n",
    "\n",
    "\n",
    "# print(\"Best XG Accuracy: \", accuracy_score(y_test, best_xgboost.predict(X_test)))\n",
    "# print(\"Balanced XG Accuracy: \", balanced_accuracy_score(y_test, best_xgboost.predict(X_test)))\n",
    "\n",
    "print(\"Best GB Accuracy: \", accuracy_score(y_test, best_gradBoost.predict(X_test)))\n",
    "print(\"Balanced GB Accuracy: \", balanced_accuracy_score(y_test, best_gradBoost.predict(X_test)))\n",
    "\n",
    "print(\"Best rF Accuracy: \", accuracy_score(y_test, best_rF.predict(X_test)))\n",
    "print(\"Balanced rF Accuracy: \", balanced_accuracy_score(y_test, best_rF.predict(X_test)))"
   ]
  },
  {
   "cell_type": "code",
   "execution_count": 81,
   "metadata": {},
   "outputs": [
    {
     "name": "stdout",
     "output_type": "stream",
     "text": [
      "precision recall: 0.9062074414556323\n",
      "[0.0010342  0.00087179 0.00146093 ... 0.00185672 0.03657456 0.00431838]\n"
     ]
    },
    {
     "data": {
      "image/png": "[encoded data removed]",
      "text/plain": [
       "<Figure size 640x480 with 1 Axes>"
      ]
     },
     "metadata": {},
     "output_type": "display_data"
    }
   ],
   "source": [
    "y_thing = y_test.to_numpy()\n",
    "precision, recall, thresholds = precision_recall_curve(y_thing, best_gradBoost.predict_proba(X_test)[::,1])\n",
    "aaa = auc(recall, precision)\n",
    "print(\"precision recall: \" + str(aaa))\n",
    "\n",
    "y_pred_proba = best_gradBoost.predict_proba(X_test)[::,1]\n",
    "fpr, tpr, _ = roc_curve(y_test, y_pred_proba)\n",
    "auc_thing = roc_auc_score(y_test, y_pred_proba)\n",
    "\n",
    "print(y_pred_proba)\n",
    "plt.plot(fpr,tpr,label=\"AUC=\"+str(auc_thing))\n",
    "plt.ylabel('True Positive Rate')\n",
    "plt.xlabel('False Positive Rate')\n",
    "plt.legend(loc=4)\n",
    "plt.show()\n"
   ]
  },
  {
   "cell_type": "code",
   "execution_count": 57,
   "metadata": {},
   "outputs": [
    {
     "name": "stdout",
     "output_type": "stream",
     "text": [
      "0.7971346764511873\n"
     ]
    }
   ],
   "source": [
    "y_thing = y_test.to_numpy()\n",
    "precision, recall, thresholds = precision_recall_curve(y_thing, best_rF.predict(X_test))\n",
    "area = auc(recall, precision)\n",
    "print(area)"
   ]
  },
  {
   "cell_type": "code",
   "execution_count": 58,
   "metadata": {},
   "outputs": [
    {
     "name": "stdout",
     "output_type": "stream",
     "text": [
      "Accuracy: 0.947 (0.014)\n"
     ]
    }
   ],
   "source": [
    "cv = RepeatedStratifiedKFold(n_splits=10, n_repeats=3, random_state=1)\n",
    "n_scores = cross_val_score(best_gradBoost, X_test, y_test, scoring='accuracy', cv=cv, n_jobs=-1, error_score='raise')\n",
    "print('Accuracy: %.3f (%.3f)' % (mean(n_scores), std(n_scores)))"
   ]
  },
  {
   "cell_type": "code",
   "execution_count": 59,
   "metadata": {},
   "outputs": [
    {
     "name": "stdout",
     "output_type": "stream",
     "text": [
      "Accuracy: 0.905 (0.022)\n"
     ]
    }
   ],
   "source": [
    "cv = RepeatedStratifiedKFold(n_splits=10, n_repeats=3, random_state=1)\n",
    "n_scores = cross_val_score(best_rF, X_test, y_test, scoring='accuracy', cv=cv, n_jobs=-1, error_score='raise')\n",
    "print('Accuracy: %.3f (%.3f)' % (mean(n_scores), std(n_scores)))"
   ]
  }
 ],
 "metadata": {
  "kernelspec": {
   "display_name": "Python 3.8.13 ('seq')",
   "language": "python",
   "name": "python3"
  },
  "language_info": {
   "codemirror_mode": {
    "name": "ipython",
    "version": 3
   },
   "file_extension": ".py",
   "mimetype": "text/x-python",
   "name": "python",
   "nbconvert_exporter": "python",
   "pygments_lexer": "ipython3",
   "version": "3.8.13"
  },
  "orig_nbformat": 4,
  "vscode": {
   "interpreter": {
    "hash": "e1360c63304de9435a2a3572d38e6c9496b6fb5d1617f35fbc8638664d664ab4"
   }
  }
 },
 "nbformat": 4,
 "nbformat_minor": 2
}
