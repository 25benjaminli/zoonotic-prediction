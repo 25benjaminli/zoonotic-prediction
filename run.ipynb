{
 "cells": [
  {
   "cell_type": "code",
   "execution_count": 25,
   "metadata": {},
   "outputs": [],
   "source": [
    "from itertools import permutations, product\n",
    "\n",
    "import functools\n",
    "\n",
    "import tqdm\n",
    "\n",
    "import pandas as pd\n",
    "\n",
    "from sklearn.linear_model import LogisticRegression\n",
    "from sklearn.neighbors import KNeighborsClassifier\n",
    "from sklearn.tree import DecisionTreeClassifier\n",
    "from sklearn.ensemble import GradientBoostingClassifier\n",
    "from sklearn.model_selection import RepeatedStratifiedKFold, train_test_split, cross_val_score\n",
    "from sklearn.metrics import accuracy_score, auc, confusion_matrix, balanced_accuracy_score, precision_recall_curve, auc, roc_curve, roc_auc_score\n",
    "\n",
    "from imblearn.ensemble import BalancedBaggingClassifier\n",
    "from xgboost import XGBClassifier\n",
    "\n",
    "import numpy as np\n",
    "from numpy import mean,std\n",
    "\n",
    "import pickle\n",
    "\n",
    "from os import path\n",
    "\n",
    "import matplotlib.pyplot as plt\n",
    "\n",
    "from warnings import simplefilter\n",
    "from collections import OrderedDict\n",
    "\n",
    "simplefilter(action=\"ignore\", category=pd.errors.PerformanceWarning)\n",
    "\n"
   ]
  },
  {
   "cell_type": "code",
   "execution_count": 26,
   "metadata": {},
   "outputs": [
    {
     "name": "stdout",
     "output_type": "stream",
     "text": [
      "1236\n",
      "8192\n"
     ]
    }
   ],
   "source": [
    "df = pd.read_csv('virus_genome/human_infecting_virus', delimiter='\\t', header=None)\n",
    "df[['ID', 'DNA Sequence']] = df[0].str.split(expand=True)\n",
    "df = df.drop(0, axis=1)\n",
    "df['isZoonotic'] = 1\n",
    "\n",
    "\n",
    "df2 = pd.read_csv('virus_genome/Other_viruses', delimiter='\\t', header=None)\n",
    "df2[['ID', 'DNA Sequence']] = df2[0].str.split(expand=True)\n",
    "df2 = df2.drop(0, axis=1)\n",
    "df2['isZoonotic'] = 0\n",
    "\n",
    "# make both have the same amount of samples..?\n",
    "\n",
    "thresh = len(df)\n",
    "# df2.drop(df2.index[thresh:len(df2.index)], inplace=True)\n",
    "\n",
    "dfother = pd.DataFrame()\n",
    "it = len(df)+1\n",
    "\n",
    "print(len(df))\n",
    "print(len(df2))\n",
    "# iterate through each sequence\n",
    "for i in range(len(df2)):\n",
    "    dfother.at[it, 'DNA Sequence']=df2.at[i, 'DNA Sequence']\n",
    "    dfother.at[it, 'isZoonotic']=int(0)\n",
    "    dfother.at[it, 'ID']=df2.at[i, 'ID']\n",
    "    it+=1\n",
    "\n",
    "\n",
    "mergedDf = pd.concat([df, dfother], axis=0)\n"
   ]
  },
  {
   "cell_type": "code",
   "execution_count": 27,
   "metadata": {},
   "outputs": [],
   "source": [
    "def resetkmerdict(permset)->OrderedDict:\n",
    "        kmerdict = OrderedDict()\n",
    "        for i in permset:\n",
    "            kmerdict[i]=0\n",
    "        return kmerdict\n",
    "\n",
    "def assign_kmers_to_dict(row, permset, kmer):\n",
    "    kmerdict=resetkmerdict(permset)\n",
    "    st = row[2] # tune for which column the sequence is in\n",
    "    for j in range(len(st)-kmer+1):\n",
    "        if not st[j:j+kmer] in permset: continue\n",
    "        kmerdict[st[j:j+kmer]]+=1\n",
    "    return kmerdict\n",
    "\n",
    "def getTrainParams(mergedDf):\n",
    "    kmer = 4\n",
    "    print(mergedDf)\n",
    "    s = product('acgt',repeat = kmer)\n",
    "    permset = set([\"\".join(x) for x in list(s)])\n",
    "\n",
    "    l = []\n",
    "    \n",
    "    for row in tqdm.tqdm(mergedDf.itertuples()):\n",
    "        l.append(assign_kmers_to_dict(row, permset, kmer))\n",
    "        \n",
    "\n",
    "    finalkmerdict=pd.DataFrame(l)\n",
    "    mergedDf.fillna(0, inplace=True)\n",
    "\n",
    "    X = finalkmerdict\n",
    "    Y = mergedDf['isZoonotic']\n",
    "\n",
    "    print(X)\n",
    "    print(Y)\n",
    "    return train_test_split(X, Y, test_size=0.2, random_state=1)"
   ]
  },
  {
   "cell_type": "code",
   "execution_count": 28,
   "metadata": {},
   "outputs": [
    {
     "name": "stdout",
     "output_type": "stream",
     "text": [
      "           ID                                       DNA Sequence  isZoonotic\n",
      "0       37121  cttttaacaatcatagttttataaaagggtgtaaccgaagcggttt...         1.0\n",
      "1      129724  atactttacaattatcttgtaaaaagtagggtgtaaccgaaaaggg...         1.0\n",
      "2       59303  atggcggacgtgtgacatcaccgttcgctctttctaggatcctttg...         1.0\n",
      "3      120686  ttgttctacttcttactcattattataaattataatgtttgtataa...         1.0\n",
      "4       99565  gtgaatgatgatggcgtcgaaagacgtcgttgcagctactgctgct...         1.0\n",
      "...       ...                                                ...         ...\n",
      "9424   268315  ggatccacagaactccttgtatgtacagccgcgggtacccacagca...         0.0\n",
      "9425   130329  ctcatgtcattaataagaccatgcagaaaatgcaaatgaggcgaag...         0.0\n",
      "9426  1239437  ccgaagtgggatggcggctgccgccgcttcggcgcttggcgcttcg...         0.0\n",
      "9427   358812  gtatacgaggttagttcattctcgtatacacgattggacaaatcaa...         0.0\n",
      "9428    11287  atggaaggaggaattcgtgcagcgttttcaggcctgaatgatgtta...         0.0\n",
      "\n",
      "[9428 rows x 3 columns]\n"
     ]
    },
    {
     "name": "stderr",
     "output_type": "stream",
     "text": [
      "9428it [01:39, 94.35it/s] \n"
     ]
    },
    {
     "name": "stdout",
     "output_type": "stream",
     "text": [
      "      attt  taag  cgat  ttat  tgca  aact  aatg  ctcg  ctga  gacg  ...  accg  \\\n",
      "0       79    30     9    68    58    26    49     3    22    13  ...     8   \n",
      "1       87    24     8    74    65    32    55     6    26    10  ...     9   \n",
      "2       20    33    27    15    73    42    49    23    50    66  ...    76   \n",
      "3       60    26    10    55    69    23    43     7    25    19  ...    13   \n",
      "4       41    17     6    40    34    29    46    10    33     5  ...     8   \n",
      "...    ...   ...   ...   ...   ...   ...   ...   ...   ...   ...  ...   ...   \n",
      "9423    24     8     7    12    10     9    16     7    18    10  ...     9   \n",
      "9424   317   123    70   188   183   122   224    53   129    67  ...    93   \n",
      "9425    44    31     4    30    33    39    35    12    36     6  ...    10   \n",
      "9426    56    47    23    50    47    59    57     9    66    30  ...    23   \n",
      "9427    23    12    23    10    40    46    41    35    44    32  ...    29   \n",
      "\n",
      "      ggag  acaa  gata  tcct  aacc  gatt  tacc  actc  gatc  \n",
      "0       22    71    35    33    35    27    33     8    11  \n",
      "1       23    79    33    30    29    28    39    10     6  \n",
      "2       59    70    30    29    74    26    56    44    42  \n",
      "3       28    50    31    35    28    19    34    13     5  \n",
      "4       34    53    26    24    32    43    21    26    30  \n",
      "...    ...   ...   ...   ...   ...   ...   ...   ...   ...  \n",
      "9423    26    10     8    16     8    18    11    14     5  \n",
      "9424   111   175   136   135    82   155    96    69   107  \n",
      "9425    20    55    28    22    28    34    20    18    22  \n",
      "9426    90   103    60    28    75    38    57    28    31  \n",
      "9427    82    84    30    65    48    26    31    72    81  \n",
      "\n",
      "[9428 rows x 256 columns]\n",
      "0       1.0\n",
      "1       1.0\n",
      "2       1.0\n",
      "3       1.0\n",
      "4       1.0\n",
      "       ... \n",
      "9424    0.0\n",
      "9425    0.0\n",
      "9426    0.0\n",
      "9427    0.0\n",
      "9428    0.0\n",
      "Name: isZoonotic, Length: 9428, dtype: float64\n"
     ]
    }
   ],
   "source": [
    "X_train, X_test, y_train, y_test = getTrainParams(mergedDf)\n",
    "\n",
    "zz = X_train.head()\n"
   ]
  },
  {
   "cell_type": "code",
   "execution_count": 29,
   "metadata": {},
   "outputs": [
    {
     "data": {
      "text/html": [
       "<style>#sk-container-id-4 {color: black;background-color: white;}#sk-container-id-4 pre{padding: 0;}#sk-container-id-4 div.sk-toggleable {background-color: white;}#sk-container-id-4 label.sk-toggleable__label {cursor: pointer;display: block;width: 100%;margin-bottom: 0;padding: 0.3em;box-sizing: border-box;text-align: center;}#sk-container-id-4 label.sk-toggleable__label-arrow:before {content: \"▸\";float: left;margin-right: 0.25em;color: #696969;}#sk-container-id-4 label.sk-toggleable__label-arrow:hover:before {color: black;}#sk-container-id-4 div.sk-estimator:hover label.sk-toggleable__label-arrow:before {color: black;}#sk-container-id-4 div.sk-toggleable__content {max-height: 0;max-width: 0;overflow: hidden;text-align: left;background-color: #f0f8ff;}#sk-container-id-4 div.sk-toggleable__content pre {margin: 0.2em;color: black;border-radius: 0.25em;background-color: #f0f8ff;}#sk-container-id-4 input.sk-toggleable__control:checked~div.sk-toggleable__content {max-height: 200px;max-width: 100%;overflow: auto;}#sk-container-id-4 input.sk-toggleable__control:checked~label.sk-toggleable__label-arrow:before {content: \"▾\";}#sk-container-id-4 div.sk-estimator input.sk-toggleable__control:checked~label.sk-toggleable__label {background-color: #d4ebff;}#sk-container-id-4 div.sk-label input.sk-toggleable__control:checked~label.sk-toggleable__label {background-color: #d4ebff;}#sk-container-id-4 input.sk-hidden--visually {border: 0;clip: rect(1px 1px 1px 1px);clip: rect(1px, 1px, 1px, 1px);height: 1px;margin: -1px;overflow: hidden;padding: 0;position: absolute;width: 1px;}#sk-container-id-4 div.sk-estimator {font-family: monospace;background-color: #f0f8ff;border: 1px dotted black;border-radius: 0.25em;box-sizing: border-box;margin-bottom: 0.5em;}#sk-container-id-4 div.sk-estimator:hover {background-color: #d4ebff;}#sk-container-id-4 div.sk-parallel-item::after {content: \"\";width: 100%;border-bottom: 1px solid gray;flex-grow: 1;}#sk-container-id-4 div.sk-label:hover label.sk-toggleable__label {background-color: #d4ebff;}#sk-container-id-4 div.sk-serial::before {content: \"\";position: absolute;border-left: 1px solid gray;box-sizing: border-box;top: 0;bottom: 0;left: 50%;z-index: 0;}#sk-container-id-4 div.sk-serial {display: flex;flex-direction: column;align-items: center;background-color: white;padding-right: 0.2em;padding-left: 0.2em;position: relative;}#sk-container-id-4 div.sk-item {position: relative;z-index: 1;}#sk-container-id-4 div.sk-parallel {display: flex;align-items: stretch;justify-content: center;background-color: white;position: relative;}#sk-container-id-4 div.sk-item::before, #sk-container-id-4 div.sk-parallel-item::before {content: \"\";position: absolute;border-left: 1px solid gray;box-sizing: border-box;top: 0;bottom: 0;left: 50%;z-index: -1;}#sk-container-id-4 div.sk-parallel-item {display: flex;flex-direction: column;z-index: 1;position: relative;background-color: white;}#sk-container-id-4 div.sk-parallel-item:first-child::after {align-self: flex-end;width: 50%;}#sk-container-id-4 div.sk-parallel-item:last-child::after {align-self: flex-start;width: 50%;}#sk-container-id-4 div.sk-parallel-item:only-child::after {width: 0;}#sk-container-id-4 div.sk-dashed-wrapped {border: 1px dashed gray;margin: 0 0.4em 0.5em 0.4em;box-sizing: border-box;padding-bottom: 0.4em;background-color: white;}#sk-container-id-4 div.sk-label label {font-family: monospace;font-weight: bold;display: inline-block;line-height: 1.2em;}#sk-container-id-4 div.sk-label-container {text-align: center;}#sk-container-id-4 div.sk-container {/* jupyter's `normalize.less` sets `[hidden] { display: none; }` but bootstrap.min.css set `[hidden] { display: none !important; }` so we also need the `!important` here to be able to override the default hidden behavior on the sphinx rendered scikit-learn.org. See: https://github.com/scikit-learn/scikit-learn/issues/21755 */display: inline-block !important;position: relative;}#sk-container-id-4 div.sk-text-repr-fallback {display: none;}</style><div id=\"sk-container-id-4\" class=\"sk-top-container\"><div class=\"sk-text-repr-fallback\"><pre>LogisticRegression(fit_intercept=False, max_iter=1000,\n",
       "                   multi_class=&#x27;multinomial&#x27;, random_state=42, solver=&#x27;saga&#x27;,\n",
       "                   tol=0.001)</pre><b>In a Jupyter environment, please rerun this cell to show the HTML representation or trust the notebook. <br />On GitHub, the HTML representation is unable to render, please try loading this page with nbviewer.org.</b></div><div class=\"sk-container\" hidden><div class=\"sk-item\"><div class=\"sk-estimator sk-toggleable\"><input class=\"sk-toggleable__control sk-hidden--visually\" id=\"sk-estimator-id-8\" type=\"checkbox\" checked><label for=\"sk-estimator-id-8\" class=\"sk-toggleable__label sk-toggleable__label-arrow\">LogisticRegression</label><div class=\"sk-toggleable__content\"><pre>LogisticRegression(fit_intercept=False, max_iter=1000,\n",
       "                   multi_class=&#x27;multinomial&#x27;, random_state=42, solver=&#x27;saga&#x27;,\n",
       "                   tol=0.001)</pre></div></div></div></div></div>"
      ],
      "text/plain": [
       "LogisticRegression(fit_intercept=False, max_iter=1000,\n",
       "                   multi_class='multinomial', random_state=42, solver='saga',\n",
       "                   tol=0.001)"
      ]
     },
     "execution_count": 29,
     "metadata": {},
     "output_type": "execute_result"
    }
   ],
   "source": [
    "model = LogisticRegression(\n",
    "    multi_class=\"multinomial\", max_iter=1000,\n",
    "    fit_intercept=False, tol=0.001, solver='saga', random_state=42)\n",
    "model.fit(X_train, y_train)"
   ]
  },
  {
   "cell_type": "code",
   "execution_count": 30,
   "metadata": {},
   "outputs": [
    {
     "name": "stdout",
     "output_type": "stream",
     "text": [
      "      attt  taag  cgat  ttat  tgca  aact  aatg  ctcg  ctga  gacg  ...  accg  \\\n",
      "1302    27    13     5    14    11    11    20     6    13     4  ...     8   \n",
      "6596   110    53    49    62    48    43    60    20    41    14  ...    12   \n",
      "4095    26     9     8    18     9    10    15     5     9     5  ...     2   \n",
      "7284  1947   314   809   887   733   863   939   462   573   429  ...   488   \n",
      "4899    90    39    38   120    33    70    75    30    57    19  ...    23   \n",
      "6289    73    31    28    62    47    60    75    12    48    31  ...    12   \n",
      "7830    11    10   349     4   104   113    38   517   204   532  ...   502   \n",
      "2048    40    44   354    16   106   114    25   532   277   484  ...   447   \n",
      "7122   450   159    53   360   124   252   319    15   150    63  ...    32   \n",
      "7488    11     7     2     9    11    11     9     4    16     7  ...     6   \n",
      "\n",
      "      ggag  acaa  gata  tcct  aacc  gatt  tacc  actc  gatc  \n",
      "1302     8     7    10    18     6    22     4     8     8  \n",
      "6596    43    40    66    55    10    85    27    32    46  \n",
      "4095     8    11    12     9     4    17     3    11     9  \n",
      "7284   329   902   872   434   647  1086   505   481   432  \n",
      "4899    10    49    52    67    43    67    39    41    25  \n",
      "6289    70    94    46    47    17    72    23    44    69  \n",
      "7830   176   133    31   149   166    62   103   160   458  \n",
      "2048   262   124    60   215   197    61   173   174   499  \n",
      "7122   120   278   227   137   153   271   165   144    51  \n",
      "7488     9     5     8     5     9     3     7     3     9  \n",
      "\n",
      "[10 rows x 256 columns]\n",
      "0.8658536585365854\n"
     ]
    }
   ],
   "source": [
    "# all 0s for some reason\n",
    "print(X_test[:10])\n",
    "predictions = model.predict(X_test)\n",
    "print(accuracy_score(y_test, predictions))"
   ]
  },
  {
   "cell_type": "code",
   "execution_count": 31,
   "metadata": {},
   "outputs": [
    {
     "data": {
      "text/html": [
       "<style>#sk-container-id-5 {color: black;background-color: white;}#sk-container-id-5 pre{padding: 0;}#sk-container-id-5 div.sk-toggleable {background-color: white;}#sk-container-id-5 label.sk-toggleable__label {cursor: pointer;display: block;width: 100%;margin-bottom: 0;padding: 0.3em;box-sizing: border-box;text-align: center;}#sk-container-id-5 label.sk-toggleable__label-arrow:before {content: \"▸\";float: left;margin-right: 0.25em;color: #696969;}#sk-container-id-5 label.sk-toggleable__label-arrow:hover:before {color: black;}#sk-container-id-5 div.sk-estimator:hover label.sk-toggleable__label-arrow:before {color: black;}#sk-container-id-5 div.sk-toggleable__content {max-height: 0;max-width: 0;overflow: hidden;text-align: left;background-color: #f0f8ff;}#sk-container-id-5 div.sk-toggleable__content pre {margin: 0.2em;color: black;border-radius: 0.25em;background-color: #f0f8ff;}#sk-container-id-5 input.sk-toggleable__control:checked~div.sk-toggleable__content {max-height: 200px;max-width: 100%;overflow: auto;}#sk-container-id-5 input.sk-toggleable__control:checked~label.sk-toggleable__label-arrow:before {content: \"▾\";}#sk-container-id-5 div.sk-estimator input.sk-toggleable__control:checked~label.sk-toggleable__label {background-color: #d4ebff;}#sk-container-id-5 div.sk-label input.sk-toggleable__control:checked~label.sk-toggleable__label {background-color: #d4ebff;}#sk-container-id-5 input.sk-hidden--visually {border: 0;clip: rect(1px 1px 1px 1px);clip: rect(1px, 1px, 1px, 1px);height: 1px;margin: -1px;overflow: hidden;padding: 0;position: absolute;width: 1px;}#sk-container-id-5 div.sk-estimator {font-family: monospace;background-color: #f0f8ff;border: 1px dotted black;border-radius: 0.25em;box-sizing: border-box;margin-bottom: 0.5em;}#sk-container-id-5 div.sk-estimator:hover {background-color: #d4ebff;}#sk-container-id-5 div.sk-parallel-item::after {content: \"\";width: 100%;border-bottom: 1px solid gray;flex-grow: 1;}#sk-container-id-5 div.sk-label:hover label.sk-toggleable__label {background-color: #d4ebff;}#sk-container-id-5 div.sk-serial::before {content: \"\";position: absolute;border-left: 1px solid gray;box-sizing: border-box;top: 0;bottom: 0;left: 50%;z-index: 0;}#sk-container-id-5 div.sk-serial {display: flex;flex-direction: column;align-items: center;background-color: white;padding-right: 0.2em;padding-left: 0.2em;position: relative;}#sk-container-id-5 div.sk-item {position: relative;z-index: 1;}#sk-container-id-5 div.sk-parallel {display: flex;align-items: stretch;justify-content: center;background-color: white;position: relative;}#sk-container-id-5 div.sk-item::before, #sk-container-id-5 div.sk-parallel-item::before {content: \"\";position: absolute;border-left: 1px solid gray;box-sizing: border-box;top: 0;bottom: 0;left: 50%;z-index: -1;}#sk-container-id-5 div.sk-parallel-item {display: flex;flex-direction: column;z-index: 1;position: relative;background-color: white;}#sk-container-id-5 div.sk-parallel-item:first-child::after {align-self: flex-end;width: 50%;}#sk-container-id-5 div.sk-parallel-item:last-child::after {align-self: flex-start;width: 50%;}#sk-container-id-5 div.sk-parallel-item:only-child::after {width: 0;}#sk-container-id-5 div.sk-dashed-wrapped {border: 1px dashed gray;margin: 0 0.4em 0.5em 0.4em;box-sizing: border-box;padding-bottom: 0.4em;background-color: white;}#sk-container-id-5 div.sk-label label {font-family: monospace;font-weight: bold;display: inline-block;line-height: 1.2em;}#sk-container-id-5 div.sk-label-container {text-align: center;}#sk-container-id-5 div.sk-container {/* jupyter's `normalize.less` sets `[hidden] { display: none; }` but bootstrap.min.css set `[hidden] { display: none !important; }` so we also need the `!important` here to be able to override the default hidden behavior on the sphinx rendered scikit-learn.org. See: https://github.com/scikit-learn/scikit-learn/issues/21755 */display: inline-block !important;position: relative;}#sk-container-id-5 div.sk-text-repr-fallback {display: none;}</style><div id=\"sk-container-id-5\" class=\"sk-top-container\"><div class=\"sk-text-repr-fallback\"><pre>BalancedBaggingClassifier(base_estimator=KNeighborsClassifier(n_jobs=1,\n",
       "                                                              n_neighbors=1),\n",
       "                          n_jobs=1)</pre><b>In a Jupyter environment, please rerun this cell to show the HTML representation or trust the notebook. <br />On GitHub, the HTML representation is unable to render, please try loading this page with nbviewer.org.</b></div><div class=\"sk-container\" hidden><div class=\"sk-item sk-dashed-wrapped\"><div class=\"sk-label-container\"><div class=\"sk-label sk-toggleable\"><input class=\"sk-toggleable__control sk-hidden--visually\" id=\"sk-estimator-id-9\" type=\"checkbox\" ><label for=\"sk-estimator-id-9\" class=\"sk-toggleable__label sk-toggleable__label-arrow\">BalancedBaggingClassifier</label><div class=\"sk-toggleable__content\"><pre>BalancedBaggingClassifier(base_estimator=KNeighborsClassifier(n_jobs=1,\n",
       "                                                              n_neighbors=1),\n",
       "                          n_jobs=1)</pre></div></div></div><div class=\"sk-parallel\"><div class=\"sk-parallel-item\"><div class=\"sk-item\"><div class=\"sk-label-container\"><div class=\"sk-label sk-toggleable\"><input class=\"sk-toggleable__control sk-hidden--visually\" id=\"sk-estimator-id-10\" type=\"checkbox\" ><label for=\"sk-estimator-id-10\" class=\"sk-toggleable__label sk-toggleable__label-arrow\">base_estimator: KNeighborsClassifier</label><div class=\"sk-toggleable__content\"><pre>KNeighborsClassifier(n_jobs=1, n_neighbors=1)</pre></div></div></div><div class=\"sk-serial\"><div class=\"sk-item\"><div class=\"sk-estimator sk-toggleable\"><input class=\"sk-toggleable__control sk-hidden--visually\" id=\"sk-estimator-id-11\" type=\"checkbox\" ><label for=\"sk-estimator-id-11\" class=\"sk-toggleable__label sk-toggleable__label-arrow\">KNeighborsClassifier</label><div class=\"sk-toggleable__content\"><pre>KNeighborsClassifier(n_jobs=1, n_neighbors=1)</pre></div></div></div></div></div></div></div></div></div></div>"
      ],
      "text/plain": [
       "BalancedBaggingClassifier(base_estimator=KNeighborsClassifier(n_jobs=1,\n",
       "                                                              n_neighbors=1),\n",
       "                          n_jobs=1)"
      ]
     },
     "execution_count": 31,
     "metadata": {},
     "output_type": "execute_result"
    }
   ],
   "source": [
    "knntest = BalancedBaggingClassifier(base_estimator=KNeighborsClassifier(n_neighbors = 1, n_jobs = 1), n_estimators = 10, n_jobs = 1)\n",
    "\n",
    "knntest.fit(X_train, y_train)\n",
    "# knn = KNeighborsClassifier(n_neighbors=5)"
   ]
  },
  {
   "cell_type": "code",
   "execution_count": 32,
   "metadata": {},
   "outputs": [
    {
     "name": "stdout",
     "output_type": "stream",
     "text": [
      "[0. 0. 0. 0. 0. 1. 0. 0. 0. 0.]\n",
      "0.9188759278897137\n"
     ]
    }
   ],
   "source": [
    "predictions = knntest.predict(X_test)\n",
    "print(predictions[:10])\n",
    "print(accuracy_score(y_test, predictions))"
   ]
  },
  {
   "cell_type": "code",
   "execution_count": 33,
   "metadata": {},
   "outputs": [
    {
     "data": {
      "text/html": [
       "<style>#sk-container-id-6 {color: black;background-color: white;}#sk-container-id-6 pre{padding: 0;}#sk-container-id-6 div.sk-toggleable {background-color: white;}#sk-container-id-6 label.sk-toggleable__label {cursor: pointer;display: block;width: 100%;margin-bottom: 0;padding: 0.3em;box-sizing: border-box;text-align: center;}#sk-container-id-6 label.sk-toggleable__label-arrow:before {content: \"▸\";float: left;margin-right: 0.25em;color: #696969;}#sk-container-id-6 label.sk-toggleable__label-arrow:hover:before {color: black;}#sk-container-id-6 div.sk-estimator:hover label.sk-toggleable__label-arrow:before {color: black;}#sk-container-id-6 div.sk-toggleable__content {max-height: 0;max-width: 0;overflow: hidden;text-align: left;background-color: #f0f8ff;}#sk-container-id-6 div.sk-toggleable__content pre {margin: 0.2em;color: black;border-radius: 0.25em;background-color: #f0f8ff;}#sk-container-id-6 input.sk-toggleable__control:checked~div.sk-toggleable__content {max-height: 200px;max-width: 100%;overflow: auto;}#sk-container-id-6 input.sk-toggleable__control:checked~label.sk-toggleable__label-arrow:before {content: \"▾\";}#sk-container-id-6 div.sk-estimator input.sk-toggleable__control:checked~label.sk-toggleable__label {background-color: #d4ebff;}#sk-container-id-6 div.sk-label input.sk-toggleable__control:checked~label.sk-toggleable__label {background-color: #d4ebff;}#sk-container-id-6 input.sk-hidden--visually {border: 0;clip: rect(1px 1px 1px 1px);clip: rect(1px, 1px, 1px, 1px);height: 1px;margin: -1px;overflow: hidden;padding: 0;position: absolute;width: 1px;}#sk-container-id-6 div.sk-estimator {font-family: monospace;background-color: #f0f8ff;border: 1px dotted black;border-radius: 0.25em;box-sizing: border-box;margin-bottom: 0.5em;}#sk-container-id-6 div.sk-estimator:hover {background-color: #d4ebff;}#sk-container-id-6 div.sk-parallel-item::after {content: \"\";width: 100%;border-bottom: 1px solid gray;flex-grow: 1;}#sk-container-id-6 div.sk-label:hover label.sk-toggleable__label {background-color: #d4ebff;}#sk-container-id-6 div.sk-serial::before {content: \"\";position: absolute;border-left: 1px solid gray;box-sizing: border-box;top: 0;bottom: 0;left: 50%;z-index: 0;}#sk-container-id-6 div.sk-serial {display: flex;flex-direction: column;align-items: center;background-color: white;padding-right: 0.2em;padding-left: 0.2em;position: relative;}#sk-container-id-6 div.sk-item {position: relative;z-index: 1;}#sk-container-id-6 div.sk-parallel {display: flex;align-items: stretch;justify-content: center;background-color: white;position: relative;}#sk-container-id-6 div.sk-item::before, #sk-container-id-6 div.sk-parallel-item::before {content: \"\";position: absolute;border-left: 1px solid gray;box-sizing: border-box;top: 0;bottom: 0;left: 50%;z-index: -1;}#sk-container-id-6 div.sk-parallel-item {display: flex;flex-direction: column;z-index: 1;position: relative;background-color: white;}#sk-container-id-6 div.sk-parallel-item:first-child::after {align-self: flex-end;width: 50%;}#sk-container-id-6 div.sk-parallel-item:last-child::after {align-self: flex-start;width: 50%;}#sk-container-id-6 div.sk-parallel-item:only-child::after {width: 0;}#sk-container-id-6 div.sk-dashed-wrapped {border: 1px dashed gray;margin: 0 0.4em 0.5em 0.4em;box-sizing: border-box;padding-bottom: 0.4em;background-color: white;}#sk-container-id-6 div.sk-label label {font-family: monospace;font-weight: bold;display: inline-block;line-height: 1.2em;}#sk-container-id-6 div.sk-label-container {text-align: center;}#sk-container-id-6 div.sk-container {/* jupyter's `normalize.less` sets `[hidden] { display: none; }` but bootstrap.min.css set `[hidden] { display: none !important; }` so we also need the `!important` here to be able to override the default hidden behavior on the sphinx rendered scikit-learn.org. See: https://github.com/scikit-learn/scikit-learn/issues/21755 */display: inline-block !important;position: relative;}#sk-container-id-6 div.sk-text-repr-fallback {display: none;}</style><div id=\"sk-container-id-6\" class=\"sk-top-container\"><div class=\"sk-text-repr-fallback\"><pre>BalancedBaggingClassifier(base_estimator=DecisionTreeClassifier(max_features=&#x27;sqrt&#x27;))</pre><b>In a Jupyter environment, please rerun this cell to show the HTML representation or trust the notebook. <br />On GitHub, the HTML representation is unable to render, please try loading this page with nbviewer.org.</b></div><div class=\"sk-container\" hidden><div class=\"sk-item sk-dashed-wrapped\"><div class=\"sk-label-container\"><div class=\"sk-label sk-toggleable\"><input class=\"sk-toggleable__control sk-hidden--visually\" id=\"sk-estimator-id-12\" type=\"checkbox\" ><label for=\"sk-estimator-id-12\" class=\"sk-toggleable__label sk-toggleable__label-arrow\">BalancedBaggingClassifier</label><div class=\"sk-toggleable__content\"><pre>BalancedBaggingClassifier(base_estimator=DecisionTreeClassifier(max_features=&#x27;sqrt&#x27;))</pre></div></div></div><div class=\"sk-parallel\"><div class=\"sk-parallel-item\"><div class=\"sk-item\"><div class=\"sk-label-container\"><div class=\"sk-label sk-toggleable\"><input class=\"sk-toggleable__control sk-hidden--visually\" id=\"sk-estimator-id-13\" type=\"checkbox\" ><label for=\"sk-estimator-id-13\" class=\"sk-toggleable__label sk-toggleable__label-arrow\">base_estimator: DecisionTreeClassifier</label><div class=\"sk-toggleable__content\"><pre>DecisionTreeClassifier(max_features=&#x27;sqrt&#x27;)</pre></div></div></div><div class=\"sk-serial\"><div class=\"sk-item\"><div class=\"sk-estimator sk-toggleable\"><input class=\"sk-toggleable__control sk-hidden--visually\" id=\"sk-estimator-id-14\" type=\"checkbox\" ><label for=\"sk-estimator-id-14\" class=\"sk-toggleable__label sk-toggleable__label-arrow\">DecisionTreeClassifier</label><div class=\"sk-toggleable__content\"><pre>DecisionTreeClassifier(max_features=&#x27;sqrt&#x27;)</pre></div></div></div></div></div></div></div></div></div></div>"
      ],
      "text/plain": [
       "BalancedBaggingClassifier(base_estimator=DecisionTreeClassifier(max_features='sqrt'))"
      ]
     },
     "execution_count": 33,
     "metadata": {},
     "output_type": "execute_result"
    }
   ],
   "source": [
    "\n",
    "randforest = BalancedBaggingClassifier(base_estimator=DecisionTreeClassifier(max_features=\"sqrt\"))\n",
    "\n",
    "randforest.fit(X_train, y_train)"
   ]
  },
  {
   "cell_type": "code",
   "execution_count": 34,
   "metadata": {},
   "outputs": [],
   "source": [
    "def saveModel(model, name, X_test, y_test, params=None, dir='curr_models', gradBoost=False, xgBoost=False):\n",
    "    predictions = model.predict(X_test)\n",
    "    currAcc = accuracy_score(y_test, predictions)\n",
    "    \n",
    "    print(confusion_matrix(y_test, predictions))\n",
    "    \n",
    "    if not path.exists(f\"{dir}/{name}.pkl\"):\n",
    "        print(\"does not exist\")\n",
    "\n",
    "        pickle.dump(model, open(f'{dir}/{name}.pkl', 'wb'))\n",
    "    else:\n",
    "        pickled_model = pickle.load(open(f'{dir}/{name}.pkl', 'rb'))\n",
    "        if gradBoost:\n",
    "            # get features here \n",
    "            cols_when_model_builds = pickled_model.feature_names_in_\n",
    "            X_test=X_test[cols_when_model_builds]\n",
    "        elif xgBoost:\n",
    "            # put features into the same order that the model was trained in\n",
    "            cols_when_model_builds = pickled_model.get_booster().feature_names\n",
    "            X_test=X_test[cols_when_model_builds]\n",
    "        \n",
    "        picklePredictions=pickled_model.predict(X_test)\n",
    "        pickleAcc=accuracy_score(y_test, picklePredictions)\n",
    "        \n",
    "        if currAcc > pickleAcc:\n",
    "            print(\"update!\")\n",
    "            print(confusion_matrix(y_test, picklePredictions))\n",
    "\n",
    "            print(\"curr\", currAcc, \"pickle\", pickleAcc)\n",
    "            pickle.dump(model, open(f'{dir}/{name}.pkl', 'wb'))\n",
    "\n",
    "            if params != None:\n",
    "                pickle.dump(params, open(f'{dir}/{name}-params.pkl', 'wb'))\n",
    "        else:\n",
    "            print(\"no update\")\n",
    "            print(\"curr\", currAcc, \"pickle\", pickleAcc)\n",
    "            model=pickled_model\n",
    "    return model"
   ]
  },
  {
   "cell_type": "code",
   "execution_count": 35,
   "metadata": {},
   "outputs": [
    {
     "name": "stdout",
     "output_type": "stream",
     "text": [
      "[[1545   89]\n",
      " [  42  210]]\n",
      "no update\n",
      "curr 0.9305408271474019 pickle 0.943796394485684\n",
      "0.9305408271474019\n"
     ]
    }
   ],
   "source": [
    "saveModel(randforest, \"randforest\", X_test, y_test)\n",
    "\n",
    "predictions = randforest.predict(X_test)\n",
    "print(accuracy_score(y_test, predictions))\n",
    "\n",
    "# for i in range(1000):\n",
    "#     predictions[i] != y_test_list[i] and print(predictions[i], \"vs\", y_test_list[i])"
   ]
  },
  {
   "cell_type": "code",
   "execution_count": 36,
   "metadata": {},
   "outputs": [
    {
     "name": "stdout",
     "output_type": "stream",
     "text": [
      "0.9305408271474019\n"
     ]
    }
   ],
   "source": [
    "probability_predictions = randforest.predict_proba(X_test)\n",
    "preds = randforest.predict(X_test)\n",
    "print(accuracy_score(y_test, preds))\n"
   ]
  },
  {
   "cell_type": "code",
   "execution_count": 37,
   "metadata": {},
   "outputs": [
    {
     "name": "stdout",
     "output_type": "stream",
     "text": [
      "Learning rate:  0.05\n",
      "Accuracy score (validation): 0.955\n",
      "[[1624   10]\n",
      " [  75  177]]\n",
      "no update\n",
      "curr 0.954931071049841 pickle 0.9623541887592789\n",
      "Learning rate:  0.075\n",
      "Accuracy score (validation): 0.957\n",
      "[[1622   12]\n",
      " [  70  182]]\n",
      "no update\n",
      "curr 0.9565217391304348 pickle 0.9623541887592789\n",
      "Learning rate:  0.1\n",
      "Accuracy score (validation): 0.957\n",
      "[[1618   16]\n",
      " [  66  186]]\n",
      "no update\n",
      "curr 0.9565217391304348 pickle 0.9623541887592789\n",
      "Learning rate:  0.15\n",
      "Accuracy score (validation): 0.960\n",
      "[[1616   18]\n",
      " [  58  194]]\n",
      "no update\n",
      "curr 0.9597030752916225 pickle 0.9623541887592789\n",
      "Learning rate:  0.2\n",
      "Accuracy score (validation): 0.959\n",
      "[[1621   13]\n",
      " [  65  187]]\n",
      "no update\n",
      "curr 0.95864262990456 pickle 0.9623541887592789\n",
      "Learning rate:  0.25\n",
      "Accuracy score (validation): 0.956\n",
      "[[1613   21]\n",
      " [  62  190]]\n",
      "no update\n",
      "curr 0.9559915164369035 pickle 0.9623541887592789\n",
      "Learning rate:  0.3\n",
      "Accuracy score (validation): 0.959\n",
      "[[1616   18]\n",
      " [  60  192]]\n",
      "no update\n",
      "curr 0.95864262990456 pickle 0.9623541887592789\n",
      "Learning rate:  0.35\n",
      "Accuracy score (validation): 0.952\n",
      "[[1606   28]\n",
      " [  63  189]]\n",
      "no update\n",
      "curr 0.9517497348886532 pickle 0.9623541887592789\n",
      "Learning rate:  0.4\n",
      "Accuracy score (validation): 0.952\n",
      "[[1606   28]\n",
      " [  62  190]]\n",
      "no update\n",
      "curr 0.9522799575821845 pickle 0.9623541887592789\n",
      "Learning rate:  0.45\n",
      "Accuracy score (validation): 0.954\n",
      "[[1606   28]\n",
      " [  58  194]]\n",
      "no update\n",
      "curr 0.9544008483563097 pickle 0.9623541887592789\n",
      "Learning rate:  0.5\n",
      "Accuracy score (validation): 0.952\n",
      "[[1607   27]\n",
      " [  63  189]]\n",
      "no update\n",
      "curr 0.9522799575821845 pickle 0.9623541887592789\n",
      "Learning rate:  0.55\n",
      "Accuracy score (validation): 0.954\n",
      "[[1604   30]\n",
      " [  57  195]]\n",
      "no update\n",
      "curr 0.9538706256627784 pickle 0.9623541887592789\n",
      "Learning rate:  0.6\n",
      "Accuracy score (validation): 0.954\n",
      "[[1606   28]\n",
      " [  58  194]]\n",
      "no update\n",
      "curr 0.9544008483563097 pickle 0.9623541887592789\n",
      "Learning rate:  0.65\n",
      "Accuracy score (validation): 0.911\n",
      "[[1542   92]\n",
      " [  75  177]]\n",
      "no update\n",
      "curr 0.9114528101802757 pickle 0.9623541887592789\n",
      "Learning rate:  0.7\n",
      "Accuracy score (validation): 0.830\n",
      "[[1424  210]\n",
      " [ 110  142]]\n",
      "no update\n",
      "curr 0.8303287380699894 pickle 0.9623541887592789\n",
      "Learning rate:  0.75\n",
      "Accuracy score (validation): 0.910\n",
      "[[1538   96]\n",
      " [  73  179]]\n",
      "no update\n",
      "curr 0.9103923647932132 pickle 0.9623541887592789\n",
      "Learning rate:  0.8\n",
      "Accuracy score (validation): 0.945\n",
      "[[1593   41]\n",
      " [  63  189]]\n",
      "no update\n",
      "curr 0.9448568398727466 pickle 0.9623541887592789\n",
      "Learning rate:  0.85\n",
      "Accuracy score (validation): 0.742\n",
      "[[1266  368]\n",
      " [ 119  133]]\n",
      "no update\n",
      "curr 0.7417815482502651 pickle 0.9623541887592789\n",
      "Learning rate:  1\n",
      "Accuracy score (validation): 0.893\n",
      "[[1497  137]\n",
      " [  65  187]]\n",
      "no update\n",
      "curr 0.8928950159066809 pickle 0.9623541887592789\n"
     ]
    }
   ],
   "source": [
    "lr_list = [0.05, 0.075, 0.1, 0.15, 0.2, 0.25, 0.3, 0.35, 0.4, 0.45, 0.5, 0.55, 0.6, 0.65,0.7, 0.75, 0.8, 0.85, 1]\n",
    "\n",
    "parameters={\n",
    "   \"n_estimators\":100, # 200 kind of overfits I think\n",
    "    \"max_features\":2,\n",
    "    \"max_depth\":6,\n",
    "    \"random_state\":0,\n",
    "    \"min_sample_split\":50,\n",
    "    \"subsample\":0.8,\n",
    "    \"warm_start\":True\n",
    "}\n",
    "\n",
    "\n",
    "\n",
    "for learning_rate in lr_list:\n",
    "    gradBoost = GradientBoostingClassifier(n_estimators=parameters['n_estimators'], \n",
    "    learning_rate=learning_rate, max_features=parameters['max_features'], \n",
    "    max_depth=parameters['max_depth'], random_state=parameters['random_state'], \n",
    "    min_samples_split=parameters['min_sample_split'], subsample=parameters['subsample'], \n",
    "    warm_start=parameters['warm_start'])\n",
    "\n",
    "    parameters['learning_rate']=learning_rate\n",
    "    gradBoost.fit(X_train, y_train)\n",
    "\n",
    "    testingAcc = accuracy_score(y_test, gradBoost.predict(X_test))\n",
    "    trainingAcc = accuracy_score(y_train, gradBoost.predict(X_train))\n",
    "    \n",
    "    print(\"Learning rate: \", learning_rate)\n",
    "    # print(\"Accuracy score (training): {0:.3f}\".format(trainingAcc))\n",
    "    print(\"Accuracy score (validation): {0:.3f}\".format(testingAcc))\n",
    "    # print(f\"Feature importance {gradBoost.feature_importances_}\")\n",
    "\n",
    "    # pickle.dump(gradBoost, open('gradBoost.pkl', 'wb'))\n",
    "    saveModel(gradBoost, \"gradBoost\", X_test, y_test, parameters, gradBoost=True)"
   ]
  },
  {
   "cell_type": "code",
   "execution_count": 38,
   "metadata": {},
   "outputs": [
    {
     "name": "stdout",
     "output_type": "stream",
     "text": [
      "Learning rate:  0.05\n",
      "Accuracy score (validation): 0.957\n",
      "[[1622   12]\n",
      " [  70  182]]\n",
      "no update\n",
      "curr 0.9565217391304348 pickle 0.9655355249204666\n",
      "Learning rate:  0.075\n",
      "Accuracy score (validation): 0.961\n",
      "[[1624   10]\n",
      " [  63  189]]\n",
      "no update\n",
      "curr 0.9612937433722163 pickle 0.9655355249204666\n",
      "Learning rate:  0.1\n",
      "Accuracy score (validation): 0.961\n",
      "[[1622   12]\n",
      " [  61  191]]\n",
      "no update\n",
      "curr 0.9612937433722163 pickle 0.9655355249204666\n",
      "Learning rate:  0.15\n",
      "Accuracy score (validation): 0.962\n",
      "[[1622   12]\n",
      " [  59  193]]\n",
      "no update\n",
      "curr 0.9623541887592789 pickle 0.9655355249204666\n",
      "Learning rate:  0.2\n",
      "Accuracy score (validation): 0.963\n",
      "[[1622   12]\n",
      " [  57  195]]\n",
      "no update\n",
      "curr 0.9634146341463414 pickle 0.9655355249204666\n",
      "Learning rate:  0.25\n",
      "Accuracy score (validation): 0.963\n",
      "[[1623   11]\n",
      " [  59  193]]\n",
      "no update\n",
      "curr 0.9628844114528102 pickle 0.9655355249204666\n",
      "Learning rate:  0.3\n",
      "Accuracy score (validation): 0.965\n",
      "[[1621   13]\n",
      " [  53  199]]\n",
      "no update\n",
      "curr 0.9650053022269353 pickle 0.9655355249204666\n",
      "Learning rate:  0.35\n",
      "Accuracy score (validation): 0.963\n",
      "[[1620   14]\n",
      " [  56  196]]\n",
      "no update\n",
      "curr 0.9628844114528102 pickle 0.9655355249204666\n",
      "Learning rate:  0.4\n",
      "Accuracy score (validation): 0.962\n",
      "[[1617   17]\n",
      " [  55  197]]\n",
      "no update\n",
      "curr 0.9618239660657476 pickle 0.9655355249204666\n",
      "Learning rate:  0.45\n",
      "Accuracy score (validation): 0.958\n",
      "[[1617   17]\n",
      " [  62  190]]\n",
      "no update\n",
      "curr 0.9581124072110286 pickle 0.9655355249204666\n",
      "Learning rate:  0.5\n",
      "Accuracy score (validation): 0.963\n",
      "[[1619   15]\n",
      " [  54  198]]\n",
      "no update\n",
      "curr 0.9634146341463414 pickle 0.9655355249204666\n",
      "Learning rate:  0.55\n",
      "Accuracy score (validation): 0.962\n",
      "[[1618   16]\n",
      " [  56  196]]\n",
      "no update\n",
      "curr 0.9618239660657476 pickle 0.9655355249204666\n",
      "Learning rate:  0.6\n",
      "Accuracy score (validation): 0.963\n",
      "[[1617   17]\n",
      " [  53  199]]\n",
      "no update\n",
      "curr 0.9628844114528102 pickle 0.9655355249204666\n",
      "Learning rate:  0.65\n",
      "Accuracy score (validation): 0.961\n",
      "[[1618   16]\n",
      " [  58  194]]\n",
      "no update\n",
      "curr 0.9607635206786851 pickle 0.9655355249204666\n",
      "Learning rate:  0.7\n",
      "Accuracy score (validation): 0.962\n",
      "[[1614   20]\n",
      " [  52  200]]\n",
      "no update\n",
      "curr 0.9618239660657476 pickle 0.9655355249204666\n",
      "Learning rate:  0.75\n",
      "Accuracy score (validation): 0.961\n",
      "[[1616   18]\n",
      " [  56  196]]\n",
      "no update\n",
      "curr 0.9607635206786851 pickle 0.9655355249204666\n",
      "Learning rate:  0.8\n",
      "Accuracy score (validation): 0.963\n",
      "[[1616   18]\n",
      " [  51  201]]\n",
      "no update\n",
      "curr 0.9634146341463414 pickle 0.9655355249204666\n",
      "Learning rate:  0.85\n",
      "Accuracy score (validation): 0.959\n",
      "[[1616   18]\n",
      " [  60  192]]\n",
      "no update\n",
      "curr 0.95864262990456 pickle 0.9655355249204666\n",
      "Learning rate:  1\n",
      "Accuracy score (validation): 0.958\n",
      "[[1615   19]\n",
      " [  61  191]]\n",
      "no update\n",
      "curr 0.9575821845174973 pickle 0.9655355249204666\n"
     ]
    }
   ],
   "source": [
    "lr_list = [0.05, 0.075, 0.1, 0.15, 0.2, 0.25, 0.3, 0.35, 0.4, 0.45, 0.5, 0.55, 0.6, 0.65,0.7, 0.75, 0.8, 0.85, 1]\n",
    "\n",
    "parameters={\n",
    "   \"n_estimators\":100, # 200 kind of overfits I think\n",
    "    \"max_features\":2,\n",
    "    \"max_depth\":6,\n",
    "    \"random_state\":0,\n",
    "    \"min_sample_split\":50,\n",
    "    \"subsample\":0.8,\n",
    "    \"warm_start\":True\n",
    "}\n",
    "\n",
    "\n",
    "\n",
    "for learning_rate in lr_list:\n",
    "    xgBoost = XGBClassifier(n_estimators=parameters['n_estimators'], \n",
    "    learning_rate=learning_rate, \n",
    "    max_depth=parameters['max_depth'], random_state=parameters['random_state'], \n",
    "    subsample=parameters['subsample'], \n",
    "    )\n",
    "\n",
    "    parameters['learning_rate']=learning_rate\n",
    "    xgBoost.fit(X_train, y_train)\n",
    "\n",
    "    testingAcc = accuracy_score(y_test, xgBoost.predict(X_test))\n",
    "    trainingAcc = accuracy_score(y_train, xgBoost.predict(X_train))\n",
    "    \n",
    "    print(\"Learning rate: \", learning_rate)\n",
    "    # print(\"Accuracy score (training): {0:.3f}\".format(trainingAcc))\n",
    "    print(\"Accuracy score (validation): {0:.3f}\".format(testingAcc))\n",
    "    # print(f\"Feature importance {gradBoost.feature_importances_}\")\n",
    "\n",
    "    # pickle.dump(gradBoost, open('gradBoost.pkl', 'wb'))\n",
    "    saveModel(xgBoost, \"xgBoost\", X_test, y_test, parameters, xgBoost=True)"
   ]
  },
  {
   "cell_type": "code",
   "execution_count": 50,
   "metadata": {},
   "outputs": [
    {
     "name": "stdout",
     "output_type": "stream",
     "text": [
      "{'n_estimators': 100, 'max_features': 2, 'max_depth': 6, 'random_state': 0, 'min_sample_split': 50, 'subsample': 0.8, 'warm_start': True, 'learning_rate': 0.4}\n",
      "{'n_estimators': 100, 'max_features': 2, 'max_depth': 6, 'random_state': 0, 'min_sample_split': 50, 'subsample': 0.8, 'warm_start': True, 'learning_rate': 0.35}\n",
      "Best GB Accuracy:  0.9623541887592789\n",
      "Balanced GB Accuracy:  0.8809426667443804\n",
      "Best rF Accuracy:  0.8573700954400848\n",
      "Balanced rF Accuracy:  0.49815430047988185\n"
     ]
    },
    {
     "name": "stderr",
     "output_type": "stream",
     "text": [
      "/Users/benjaminli/opt/miniconda3/envs/seq/lib/python3.8/site-packages/sklearn/base.py:493: FutureWarning: The feature names should match those that were passed during fit. Starting version 1.2, an error will be raised.\n",
      "Feature names must be in the same order as they were in fit.\n",
      "\n",
      "  warnings.warn(message, FutureWarning)\n",
      "/Users/benjaminli/opt/miniconda3/envs/seq/lib/python3.8/site-packages/sklearn/base.py:493: FutureWarning: The feature names should match those that were passed during fit. Starting version 1.2, an error will be raised.\n",
      "Feature names must be in the same order as they were in fit.\n",
      "\n",
      "  warnings.warn(message, FutureWarning)\n"
     ]
    }
   ],
   "source": [
    "# Models within \"orig_models\" folder have the highest training acc but not as great cross val\n",
    "\n",
    "best_xgboost = pickle.load(open('curr_models/xgBoost.pkl', 'rb'))\n",
    "best_xgboost_params = pickle.load(open('curr_models/xgBoost-params.pkl', 'rb'))\n",
    "\n",
    "best_gradBoost = pickle.load(open('curr_models/gradBoost.pkl', 'rb'))\n",
    "best_gradBoost_params = pickle.load(open('curr_models/gradBoost-params.pkl', 'rb'))\n",
    "\n",
    "best_rF = pickle.load(open('curr_models/randforest.pkl', 'rb'))\n",
    "\n",
    "print(best_xgboost_params)\n",
    "print(best_gradBoost_params)\n",
    "\n",
    "\n",
    "# print(\"Best XG Accuracy: \", accuracy_score(y_test, best_xgboost.predict(X_test)))\n",
    "# print(\"Balanced XG Accuracy: \", balanced_accuracy_score(y_test, best_xgboost.predict(X_test)))\n",
    "cols_when_model_builds = best_gradBoost.feature_names_in_\n",
    "X_test=X_test[cols_when_model_builds]\n",
    "\n",
    "print(\"Best GB Accuracy: \", accuracy_score(y_test, best_gradBoost.predict(X_test)))\n",
    "print(\"Balanced GB Accuracy: \", balanced_accuracy_score(y_test, best_gradBoost.predict(X_test)))\n",
    "\n",
    "print(\"Best rF Accuracy: \", accuracy_score(y_test, best_rF.predict(X_test)))\n",
    "print(\"Balanced rF Accuracy: \", balanced_accuracy_score(y_test, best_rF.predict(X_test)))"
   ]
  },
  {
   "cell_type": "code",
   "execution_count": 40,
   "metadata": {},
   "outputs": [
    {
     "name": "stdout",
     "output_type": "stream",
     "text": [
      "precision recall: 0.9150372384473479\n",
      "[0.00045723 0.00013599 0.00065591 ... 0.00053945 0.00509031 0.01590035]\n"
     ]
    },
    {
     "data": {
      "image/png": "[encoded data removed]",
      "text/plain": [
       "<Figure size 640x480 with 1 Axes>"
      ]
     },
     "metadata": {},
     "output_type": "display_data"
    }
   ],
   "source": [
    "y_thing = y_test.to_numpy()\n",
    "precision, recall, thresholds = precision_recall_curve(y_thing, best_gradBoost.predict_proba(X_test)[::,1])\n",
    "aaa = auc(recall, precision)\n",
    "print(\"precision recall: \" + str(aaa))\n",
    "\n",
    "y_pred_proba = best_gradBoost.predict_proba(X_test)[::,1]\n",
    "fpr, tpr, _ = roc_curve(y_test, y_pred_proba)\n",
    "auc_thing = roc_auc_score(y_test, y_pred_proba)\n",
    "\n",
    "print(y_pred_proba)\n",
    "plt.plot(fpr,tpr,label=\"AUC=\"+str(auc_thing))\n",
    "plt.ylabel('True Positive Rate')\n",
    "plt.xlabel('False Positive Rate')\n",
    "plt.legend(loc=4)\n",
    "plt.show()\n"
   ]
  },
  {
   "cell_type": "code",
   "execution_count": 49,
   "metadata": {},
   "outputs": [
    {
     "name": "stdout",
     "output_type": "stream",
     "text": [
      "[0.1 0.4 0.1 ... 0.  0.4 0.2]\n"
     ]
    },
    {
     "name": "stderr",
     "output_type": "stream",
     "text": [
      "/Users/benjaminli/opt/miniconda3/envs/seq/lib/python3.8/site-packages/sklearn/base.py:493: FutureWarning: The feature names should match those that were passed during fit. Starting version 1.2, an error will be raised.\n",
      "Feature names must be in the same order as they were in fit.\n",
      "\n",
      "  warnings.warn(message, FutureWarning)\n"
     ]
    },
    {
     "data": {
      "image/png": "[encoded data removed]",
      "text/plain": [
       "<Figure size 640x480 with 1 Axes>"
      ]
     },
     "metadata": {},
     "output_type": "display_data"
    }
   ],
   "source": [
    "y_pred_proba = best_rF.predict_proba(X_test)[::,1]\n",
    "fpr, tpr, _ = roc_curve(y_test, y_pred_proba)\n",
    "auc_thing = roc_auc_score(y_test, y_pred_proba)\n",
    "\n",
    "print(y_pred_proba)\n",
    "plt.plot(fpr,tpr,label=\"AUC=\"+str(auc_thing))\n",
    "plt.ylabel('True Positive Rate')\n",
    "plt.xlabel('False Positive Rate')\n",
    "plt.legend(loc=4)\n",
    "plt.show()"
   ]
  },
  {
   "cell_type": "code",
   "execution_count": 46,
   "metadata": {},
   "outputs": [
    {
     "name": "stdout",
     "output_type": "stream",
     "text": [
      "Accuracy: 0.946 (0.014)\n"
     ]
    }
   ],
   "source": [
    "cv = RepeatedStratifiedKFold(n_splits=10, n_repeats=3, random_state=1)\n",
    "n_scores = cross_val_score(best_gradBoost, X_test, y_test, scoring='accuracy', cv=cv, n_jobs=-1, error_score='raise')\n",
    "print('Accuracy: %.3f (%.3f)' % (mean(n_scores), std(n_scores)))"
   ]
  },
  {
   "cell_type": "code",
   "execution_count": 43,
   "metadata": {},
   "outputs": [
    {
     "name": "stdout",
     "output_type": "stream",
     "text": [
      "Accuracy: 0.907 (0.016)\n"
     ]
    }
   ],
   "source": [
    "cv = RepeatedStratifiedKFold(n_splits=10, n_repeats=3, random_state=1)\n",
    "n_scores = cross_val_score(best_rF, X_test, y_test, scoring='accuracy', cv=cv, n_jobs=-1, error_score='raise')\n",
    "print('Accuracy: %.3f (%.3f)' % (mean(n_scores), std(n_scores)))"
   ]
  }
 ],
 "metadata": {
  "kernelspec": {
   "display_name": "Python 3.8.13 ('seq')",
   "language": "python",
   "name": "python3"
  },
  "language_info": {
   "codemirror_mode": {
    "name": "ipython",
    "version": 3
   },
   "file_extension": ".py",
   "mimetype": "text/x-python",
   "name": "python",
   "nbconvert_exporter": "python",
   "pygments_lexer": "ipython3",
   "version": "3.8.13"
  },
  "orig_nbformat": 4,
  "vscode": {
   "interpreter": {
    "hash": "e1360c63304de9435a2a3572d38e6c9496b6fb5d1617f35fbc8638664d664ab4"
   }
  }
 },
 "nbformat": 4,
 "nbformat_minor": 2
}
