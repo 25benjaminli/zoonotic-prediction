{
 "cells": [
  {
   "cell_type": "code",
   "execution_count": 2,
   "metadata": {},
   "outputs": [],
   "source": [
    "from itertools import permutations, product\n",
    "\n",
    "import functools\n",
    "\n",
    "import tqdm\n",
    "\n",
    "import pandas as pd\n",
    "\n",
    "from sklearn.linear_model import LogisticRegression\n",
    "from sklearn.neighbors import KNeighborsClassifier\n",
    "from sklearn.tree import DecisionTreeClassifier\n",
    "from sklearn.ensemble import GradientBoostingClassifier\n",
    "from sklearn.model_selection import RepeatedStratifiedKFold, train_test_split, cross_val_score\n",
    "from sklearn.metrics import accuracy_score, auc, confusion_matrix, balanced_accuracy_score, precision_recall_curve, auc, roc_curve, roc_auc_score\n",
    "from sklearn.inspection import permutation_importance\n",
    "\n",
    "from imblearn.ensemble import BalancedBaggingClassifier\n",
    "from xgboost import XGBClassifier\n",
    "\n",
    "import numpy as np\n",
    "from numpy import mean,std\n",
    "\n",
    "import pickle\n",
    "\n",
    "from os import path\n",
    "\n",
    "import matplotlib.pyplot as plt\n",
    "\n",
    "from warnings import simplefilter\n",
    "from collections import OrderedDict\n",
    "\n",
    "simplefilter(action=\"ignore\", category=pd.errors.PerformanceWarning)\n",
    "simplefilter(action='ignore', category=FutureWarning)\n",
    "\n"
   ]
  },
  {
   "cell_type": "code",
   "execution_count": 10,
   "metadata": {},
   "outputs": [],
   "source": [
    "df = pd.read_csv('virus_genome/human_infecting_virus', delimiter='\\t', header=None)\n",
    "df[['ID', 'DNA Sequence']] = df[0].str.split(expand=True)\n",
    "df = df.drop(0, axis=1)\n",
    "df['isZoonotic'] = 1\n",
    "\n",
    "\n",
    "df2 = pd.read_csv('virus_genome/Other_viruses', delimiter='\\t', header=None)\n",
    "df2[['ID', 'DNA Sequence']] = df2[0].str.split(expand=True)\n",
    "df2 = df2.drop(0, axis=1)\n",
    "df2['isZoonotic'] = 0\n",
    "\n",
    "# make both have the same amount of samples..?\n",
    "\n",
    "# thresh = len(df)\n",
    "# df2.drop(df2.index[thresh:len(df2.index)], inplace=True)\n",
    "\n",
    "dfother = pd.DataFrame()\n",
    "it = len(df)\n",
    "\n",
    "# iterate through each sequence\n",
    "for i in range(len(df2)):\n",
    "    dfother.at[it, 'DNA Sequence']=df2.at[i, 'DNA Sequence']\n",
    "    dfother.at[it, 'isZoonotic']=int(0)\n",
    "    dfother.at[it, 'ID']=df2.at[i, 'ID']\n",
    "    it+=1\n",
    "\n",
    "\n",
    "df.reset_index(drop=True, inplace=True)\n",
    "df2.reset_index(drop=True, inplace=True)\n",
    "\n",
    "mergedDf = pd.concat([df, dfother], axis=0)"
   ]
  },
  {
   "cell_type": "code",
   "execution_count": 11,
   "metadata": {},
   "outputs": [
    {
     "name": "stdout",
     "output_type": "stream",
     "text": [
      "9430\n"
     ]
    }
   ],
   "source": [
    "print(len(mergedDf))"
   ]
  },
  {
   "cell_type": "code",
   "execution_count": 13,
   "metadata": {},
   "outputs": [],
   "source": [
    "asdfX = pd.DataFrame()\n",
    "asdfY = pd.DataFrame()"
   ]
  },
  {
   "cell_type": "code",
   "execution_count": 14,
   "metadata": {},
   "outputs": [],
   "source": [
    "\n",
    "def resetkmerdict(permset)->OrderedDict:\n",
    "        kmerdict = OrderedDict()\n",
    "        for i in permset:\n",
    "            kmerdict[i]=0\n",
    "        return kmerdict\n",
    "\n",
    "def assign_kmers_to_dict(row, permset, kmer):\n",
    "    kmerdict=resetkmerdict(permset)\n",
    "    st = row[2] # tune for which column the sequence is in\n",
    "    for j in range(len(st)-kmer+1):\n",
    "        if not st[j:j+kmer] in permset: continue\n",
    "        kmerdict[st[j:j+kmer]]+=1\n",
    "    return kmerdict\n",
    "\n",
    "def getTrainParams(mergedDf):\n",
    "    kmer = 4\n",
    "    print(mergedDf)\n",
    "    s = product('acgt',repeat = kmer)\n",
    "    permset = set([\"\".join(x) for x in list(s)])\n",
    "\n",
    "    l = []\n",
    "    \n",
    "    for row in tqdm.tqdm(mergedDf.itertuples()):\n",
    "        l.append(assign_kmers_to_dict(row, permset, kmer))\n",
    "\n",
    "    finalkmerdict=pd.DataFrame(l)\n",
    "    # mergedDf.fillna(0, inplace=True)\n",
    "\n",
    "    X = finalkmerdict\n",
    "    Y = mergedDf['isZoonotic']\n",
    "    X = X.apply(lambda x: (x-x.min())/(x.max()-x.min()), axis=1)\n",
    "    print(X.head())\n",
    "    \n",
    "    # print(len(X))\n",
    "    # print(len(Y))\n",
    "\n",
    "    global asdfX\n",
    "    asdfX = X.copy()\n",
    "    global asdfY\n",
    "    asdfY = Y.copy()\n",
    "\n",
    "\n",
    "    place = pd.concat([X, Y], axis=1)\n",
    "    \n",
    "    print(place)\n",
    "\n",
    "    place.to_csv('info.csv', index=False)\n",
    "    print(\"TRUTH\")\n",
    "    print(place[place.isna().any(axis=1)])\n",
    "\n",
    "    return train_test_split(X, Y, test_size=0.2, random_state=1)"
   ]
  },
  {
   "cell_type": "code",
   "execution_count": 7,
   "metadata": {},
   "outputs": [],
   "source": [
    "for x in mergedDf['isZoonotic'].isna():\n",
    "    x and print(x)"
   ]
  },
  {
   "cell_type": "code",
   "execution_count": 15,
   "metadata": {},
   "outputs": [
    {
     "name": "stdout",
     "output_type": "stream",
     "text": [
      "           ID                                       DNA Sequence  isZoonotic\n",
      "0       37121  cttttaacaatcatagttttataaaagggtgtaaccgaagcggttt...         1.0\n",
      "1       37121  cttttaacaatcatagttttataaaagggtgtaaccgaagcggttt...         1.0\n",
      "2       37121  cttttaacaatcatagttttataaaagggtgtaaccgaagcggttt...         1.0\n",
      "3      129724  atactttacaattatcttgtaaaaagtagggtgtaaccgaaaaggg...         1.0\n",
      "4       59303  atggcggacgtgtgacatcaccgttcgctctttctaggatcctttg...         1.0\n",
      "...       ...                                                ...         ...\n",
      "9425   268315  ggatccacagaactccttgtatgtacagccgcgggtacccacagca...         0.0\n",
      "9426   130329  ctcatgtcattaataagaccatgcagaaaatgcaaatgaggcgaag...         0.0\n",
      "9427  1239437  ccgaagtgggatggcggctgccgccgcttcggcgcttggcgcttcg...         0.0\n",
      "9428   358812  gtatacgaggttagttcattctcgtatacacgattggacaaatcaa...         0.0\n",
      "9429    11287  atggaaggaggaattcgtgcagcgttttcaggcctgaatgatgtta...         0.0\n",
      "\n",
      "[9430 rows x 3 columns]\n"
     ]
    },
    {
     "name": "stderr",
     "output_type": "stream",
     "text": [
      "9430it [01:39, 94.81it/s] \n"
     ]
    },
    {
     "name": "stdout",
     "output_type": "stream",
     "text": [
      "       cctg      gtgt      acac      ccga      ttga      accg      ctca  \\\n",
      "0  0.297872  0.819149  0.446809  0.074468  0.265957  0.063830  0.106383   \n",
      "1  0.297872  0.819149  0.446809  0.074468  0.265957  0.063830  0.106383   \n",
      "2  0.297872  0.819149  0.446809  0.074468  0.265957  0.063830  0.106383   \n",
      "3  0.367347  0.857143  0.469388  0.040816  0.295918  0.081633  0.081633   \n",
      "4  0.483871  0.451613  0.580645  0.494624  0.311828  0.677419  0.129032   \n",
      "\n",
      "       tgtt      agcc      cgtt  ...      tggg      aata      tatg      gatc  \\\n",
      "0  0.712766  0.095745  0.085106  ...  0.372340  0.702128  0.617021  0.095745   \n",
      "1  0.712766  0.095745  0.085106  ...  0.372340  0.702128  0.617021  0.095745   \n",
      "2  0.712766  0.095745  0.085106  ...  0.372340  0.702128  0.617021  0.095745   \n",
      "3  0.806122  0.214286  0.102041  ...  0.285714  0.581633  0.744898  0.051020   \n",
      "4  0.204301  0.365591  0.129032  ...  0.204301  0.161290  0.161290  0.311828   \n",
      "\n",
      "       ttac      ggga      ggtc      atac      atta      ccgc  \n",
      "0  0.500000  0.202128  0.106383  0.500000  0.659574  0.021277  \n",
      "1  0.500000  0.202128  0.106383  0.500000  0.659574  0.021277  \n",
      "2  0.500000  0.202128  0.106383  0.500000  0.659574  0.021277  \n",
      "3  0.551020  0.204082  0.122449  0.438776  0.704082  0.142857  \n",
      "4  0.301075  0.290323  0.268817  0.376344  0.096774  0.462366  \n",
      "\n",
      "[5 rows x 256 columns]\n",
      "          cctg      gtgt      acac      ccga      ttga      accg      ctca  \\\n",
      "0     0.297872  0.819149  0.446809  0.074468  0.265957  0.063830  0.106383   \n",
      "1     0.297872  0.819149  0.446809  0.074468  0.265957  0.063830  0.106383   \n",
      "2     0.297872  0.819149  0.446809  0.074468  0.265957  0.063830  0.106383   \n",
      "3     0.367347  0.857143  0.469388  0.040816  0.295918  0.081633  0.081633   \n",
      "4     0.483871  0.451613  0.580645  0.494624  0.311828  0.677419  0.129032   \n",
      "...        ...       ...       ...       ...       ...       ...       ...   \n",
      "9425  0.440000  0.240000  0.320000  0.320000  0.440000  0.320000  0.280000   \n",
      "9426  0.231806  0.293801  0.247978  0.123989  0.442049  0.177898  0.183288   \n",
      "9427  0.333333  0.594203  0.463768  0.057971  0.869565  0.086957  0.246377   \n",
      "9428  0.481481  0.207407  0.407407  0.140741  0.385185  0.125926  0.162963   \n",
      "9429  0.540816  0.214286  0.642857  0.357143  0.387755  0.244898  0.785714   \n",
      "\n",
      "          tgtt      agcc      cgtt  ...      aata      tatg      gatc  \\\n",
      "0     0.712766  0.095745  0.085106  ...  0.702128  0.617021  0.095745   \n",
      "1     0.712766  0.095745  0.085106  ...  0.702128  0.617021  0.095745   \n",
      "2     0.712766  0.095745  0.085106  ...  0.702128  0.617021  0.095745   \n",
      "3     0.806122  0.214286  0.102041  ...  0.581633  0.744898  0.051020   \n",
      "4     0.204301  0.365591  0.129032  ...  0.161290  0.161290  0.311828   \n",
      "...        ...       ...       ...  ...       ...       ...       ...   \n",
      "9425  0.400000  0.400000  0.200000  ...  0.480000  0.320000  0.160000   \n",
      "9426  0.549865  0.183288  0.215633  ...  0.544474  0.328841  0.215633   \n",
      "9427  0.637681  0.159420  0.072464  ...  0.420290  0.492754  0.260870   \n",
      "9428  0.251852  0.355556  0.051852  ...  0.437037  0.325926  0.185185   \n",
      "9429  0.224490  0.234694  0.061224  ...  0.132653  0.173469  0.775510   \n",
      "\n",
      "          ttac      ggga      ggtc      atac      atta      ccgc  isZoonotic  \n",
      "0     0.500000  0.202128  0.106383  0.500000  0.659574  0.021277         1.0  \n",
      "1     0.500000  0.202128  0.106383  0.500000  0.659574  0.021277         1.0  \n",
      "2     0.500000  0.202128  0.106383  0.500000  0.659574  0.021277         1.0  \n",
      "3     0.551020  0.204082  0.122449  0.438776  0.704082  0.142857         1.0  \n",
      "4     0.301075  0.290323  0.268817  0.376344  0.096774  0.462366         1.0  \n",
      "...        ...       ...       ...       ...       ...       ...         ...  \n",
      "9425  0.360000  0.400000  0.200000  0.320000  0.280000  0.240000         0.0  \n",
      "9426  0.374663  0.129380  0.164420  0.312668  0.366577  0.145553         0.0  \n",
      "9427  0.304348  0.159420  0.188406  0.260870  0.260870  0.072464         0.0  \n",
      "9428  0.303704  0.607407  0.207407  0.340741  0.259259  0.066667         0.0  \n",
      "9429  0.132653  0.887755  0.428571  0.142857  0.122449  0.214286         0.0  \n",
      "\n",
      "[9430 rows x 257 columns]\n",
      "TRUTH\n",
      "Empty DataFrame\n",
      "Columns: [cctg, gtgt, acac, ccga, ttga, accg, ctca, tgtt, agcc, cgtt, aatg, catc, tccc, ttca, gccc, cgac, agaa, gcac, aaac, atgg, cgtg, ttat, gcat, gcga, ctag, tctg, acgt, gtct, ttcc, atct, aatc, cact, gtcc, cgaa, agct, gagg, tacc, cata, tcca, cgcc, tctt, tgcc, gtac, tgcg, gtgg, cgca, ggcg, ctgc, cggt, ttta, tcgt, agag, gatt, gcgg, caga, ccat, gacc, acag, ctaa, gaca, cagc, cccg, acga, gcgt, tgac, taca, cgat, tcac, ctga, tcga, cttt, tggt, ccaa, tccg, ccca, agtg, cccc, cgga, attt, cacg, cgtc, taat, tgtg, gatg, acat, gaaa, gttg, cagt, aaag, gcgc, actg, caag, ctcc, cttc, aaca, atcg, cctc, gcca, aagg, cagg, ...]\n",
      "Index: []\n",
      "\n",
      "[0 rows x 257 columns]\n"
     ]
    }
   ],
   "source": [
    "X_train, X_test, y_train, y_test = getTrainParams(mergedDf)\n",
    "\n",
    "zz = X_train.head()\n"
   ]
  },
  {
   "cell_type": "code",
   "execution_count": 21,
   "metadata": {},
   "outputs": [
    {
     "data": {
      "text/html": [
       "<style>#sk-container-id-1 {color: black;background-color: white;}#sk-container-id-1 pre{padding: 0;}#sk-container-id-1 div.sk-toggleable {background-color: white;}#sk-container-id-1 label.sk-toggleable__label {cursor: pointer;display: block;width: 100%;margin-bottom: 0;padding: 0.3em;box-sizing: border-box;text-align: center;}#sk-container-id-1 label.sk-toggleable__label-arrow:before {content: \"▸\";float: left;margin-right: 0.25em;color: #696969;}#sk-container-id-1 label.sk-toggleable__label-arrow:hover:before {color: black;}#sk-container-id-1 div.sk-estimator:hover label.sk-toggleable__label-arrow:before {color: black;}#sk-container-id-1 div.sk-toggleable__content {max-height: 0;max-width: 0;overflow: hidden;text-align: left;background-color: #f0f8ff;}#sk-container-id-1 div.sk-toggleable__content pre {margin: 0.2em;color: black;border-radius: 0.25em;background-color: #f0f8ff;}#sk-container-id-1 input.sk-toggleable__control:checked~div.sk-toggleable__content {max-height: 200px;max-width: 100%;overflow: auto;}#sk-container-id-1 input.sk-toggleable__control:checked~label.sk-toggleable__label-arrow:before {content: \"▾\";}#sk-container-id-1 div.sk-estimator input.sk-toggleable__control:checked~label.sk-toggleable__label {background-color: #d4ebff;}#sk-container-id-1 div.sk-label input.sk-toggleable__control:checked~label.sk-toggleable__label {background-color: #d4ebff;}#sk-container-id-1 input.sk-hidden--visually {border: 0;clip: rect(1px 1px 1px 1px);clip: rect(1px, 1px, 1px, 1px);height: 1px;margin: -1px;overflow: hidden;padding: 0;position: absolute;width: 1px;}#sk-container-id-1 div.sk-estimator {font-family: monospace;background-color: #f0f8ff;border: 1px dotted black;border-radius: 0.25em;box-sizing: border-box;margin-bottom: 0.5em;}#sk-container-id-1 div.sk-estimator:hover {background-color: #d4ebff;}#sk-container-id-1 div.sk-parallel-item::after {content: \"\";width: 100%;border-bottom: 1px solid gray;flex-grow: 1;}#sk-container-id-1 div.sk-label:hover label.sk-toggleable__label {background-color: #d4ebff;}#sk-container-id-1 div.sk-serial::before {content: \"\";position: absolute;border-left: 1px solid gray;box-sizing: border-box;top: 0;bottom: 0;left: 50%;z-index: 0;}#sk-container-id-1 div.sk-serial {display: flex;flex-direction: column;align-items: center;background-color: white;padding-right: 0.2em;padding-left: 0.2em;position: relative;}#sk-container-id-1 div.sk-item {position: relative;z-index: 1;}#sk-container-id-1 div.sk-parallel {display: flex;align-items: stretch;justify-content: center;background-color: white;position: relative;}#sk-container-id-1 div.sk-item::before, #sk-container-id-1 div.sk-parallel-item::before {content: \"\";position: absolute;border-left: 1px solid gray;box-sizing: border-box;top: 0;bottom: 0;left: 50%;z-index: -1;}#sk-container-id-1 div.sk-parallel-item {display: flex;flex-direction: column;z-index: 1;position: relative;background-color: white;}#sk-container-id-1 div.sk-parallel-item:first-child::after {align-self: flex-end;width: 50%;}#sk-container-id-1 div.sk-parallel-item:last-child::after {align-self: flex-start;width: 50%;}#sk-container-id-1 div.sk-parallel-item:only-child::after {width: 0;}#sk-container-id-1 div.sk-dashed-wrapped {border: 1px dashed gray;margin: 0 0.4em 0.5em 0.4em;box-sizing: border-box;padding-bottom: 0.4em;background-color: white;}#sk-container-id-1 div.sk-label label {font-family: monospace;font-weight: bold;display: inline-block;line-height: 1.2em;}#sk-container-id-1 div.sk-label-container {text-align: center;}#sk-container-id-1 div.sk-container {/* jupyter's `normalize.less` sets `[hidden] { display: none; }` but bootstrap.min.css set `[hidden] { display: none !important; }` so we also need the `!important` here to be able to override the default hidden behavior on the sphinx rendered scikit-learn.org. See: https://github.com/scikit-learn/scikit-learn/issues/21755 */display: inline-block !important;position: relative;}#sk-container-id-1 div.sk-text-repr-fallback {display: none;}</style><div id=\"sk-container-id-1\" class=\"sk-top-container\"><div class=\"sk-text-repr-fallback\"><pre>LogisticRegression(fit_intercept=False, max_iter=1000,\n",
       "                   multi_class=&#x27;multinomial&#x27;, random_state=42, solver=&#x27;saga&#x27;,\n",
       "                   tol=0.001)</pre><b>In a Jupyter environment, please rerun this cell to show the HTML representation or trust the notebook. <br />On GitHub, the HTML representation is unable to render, please try loading this page with nbviewer.org.</b></div><div class=\"sk-container\" hidden><div class=\"sk-item\"><div class=\"sk-estimator sk-toggleable\"><input class=\"sk-toggleable__control sk-hidden--visually\" id=\"sk-estimator-id-1\" type=\"checkbox\" checked><label for=\"sk-estimator-id-1\" class=\"sk-toggleable__label sk-toggleable__label-arrow\">LogisticRegression</label><div class=\"sk-toggleable__content\"><pre>LogisticRegression(fit_intercept=False, max_iter=1000,\n",
       "                   multi_class=&#x27;multinomial&#x27;, random_state=42, solver=&#x27;saga&#x27;,\n",
       "                   tol=0.001)</pre></div></div></div></div></div>"
      ],
      "text/plain": [
       "LogisticRegression(fit_intercept=False, max_iter=1000,\n",
       "                   multi_class='multinomial', random_state=42, solver='saga',\n",
       "                   tol=0.001)"
      ]
     },
     "execution_count": 21,
     "metadata": {},
     "output_type": "execute_result"
    }
   ],
   "source": [
    "lrmodel = LogisticRegression(\n",
    "    multi_class=\"multinomial\", max_iter=1000,\n",
    "    fit_intercept=False, tol=0.001, solver='saga', random_state=42)\n",
    "lrmodel.fit(X_train, y_train)"
   ]
  },
  {
   "cell_type": "code",
   "execution_count": 22,
   "metadata": {},
   "outputs": [
    {
     "name": "stdout",
     "output_type": "stream",
     "text": [
      "          cctg      gtgt      acac      ccga      ttga      accg      ctca  \\\n",
      "7555  0.732143  0.357143  0.696429  0.482143  0.892857  0.375000  0.839286   \n",
      "3005  0.112245  0.367347  0.602041  0.214286  0.561224  0.183673  0.479592   \n",
      "5636  0.029666  0.137206  0.201483  0.061805  0.380717  0.072930  0.114957   \n",
      "8800  0.048193  0.156627  0.506024  0.144578  0.373494  0.192771  0.156627   \n",
      "3832  0.078431  0.377451  0.122549  0.151961  0.411765  0.122549  0.210784   \n",
      "1297  0.155431  0.170412  0.099251  0.024345  0.378277  0.039326  0.102996   \n",
      "3304  0.285714  0.392857  0.285714  0.142857  0.607143  0.107143  0.107143   \n",
      "4977  0.370370  0.407407  0.470899  0.089947  0.592593  0.158730  0.629630   \n",
      "8281  0.904000  0.608000  0.424000  0.608000  0.136000  0.592000  0.440000   \n",
      "2947  0.299553  0.189270  0.175857  0.582712  0.245902  0.351714  0.223547   \n",
      "\n",
      "          tgtt      agcc      cgtt  ...      tggg      aata      tatg  \\\n",
      "7555  0.571429  0.500000  0.214286  ...  0.696429  0.160714  0.392857   \n",
      "3005  0.387755  0.224490  0.244898  ...  0.306122  0.387755  0.346939   \n",
      "5636  0.271941  0.056860  0.174289  ...  0.103832  0.496910  0.271941   \n",
      "8800  0.240964  0.168675  0.096386  ...  0.108434  0.506024  0.240964   \n",
      "3832  0.436275  0.088235  0.446078  ...  0.176471  0.220588  0.303922   \n",
      "1297  0.479401  0.048689  0.097378  ...  0.101124  0.380150  0.262172   \n",
      "3304  0.821429  0.250000  0.250000  ...  0.464286  1.000000  0.678571   \n",
      "4977  1.000000  0.333333  0.201058  ...  0.206349  0.354497  0.719577   \n",
      "8281  0.328000  0.464000  0.232000  ...  0.424000  0.016000  0.144000   \n",
      "2947  0.095380  0.311475  0.384501  ...  0.356185  0.016393  0.114754   \n",
      "\n",
      "          gatc      ttac      ggga      ggtc      atac      atta      ccgc  \n",
      "7555  0.446429  0.589286  0.571429  0.428571  0.285714  0.517857  0.178571  \n",
      "3005  0.336735  0.265306  0.316327  0.163265  0.346939  0.214286  0.061224  \n",
      "5636  0.054388  0.276885  0.093943  0.060569  0.258344  0.480841  0.011125  \n",
      "8800  0.204819  0.289157  0.301205  0.048193  0.457831  0.433735  0.096386  \n",
      "3832  0.142157  0.279412  0.127451  0.102941  0.171569  0.210784  0.142157  \n",
      "1297  0.102996  0.284644  0.084270  0.086142  0.194757  0.406367  0.024345  \n",
      "3304  0.285714  0.250000  0.357143  0.321429  0.428571  0.464286  0.214286  \n",
      "4977  0.174603  0.529101  0.079365  0.153439  0.423280  0.449735  0.195767  \n",
      "8281  0.568000  0.040000  0.376000  0.536000  0.048000  0.000000  0.712000  \n",
      "2947  0.184799  0.144560  0.180328  0.406855  0.028316  0.035768  0.375559  \n",
      "\n",
      "[10 rows x 256 columns]\n",
      "0.9347826086956522\n"
     ]
    }
   ],
   "source": [
    "# all 0s for some reason\n",
    "print(X_test[:10])\n",
    "predictions = lrmodel.predict(X_test)\n",
    "print(accuracy_score(y_test, predictions))"
   ]
  },
  {
   "cell_type": "code",
   "execution_count": 23,
   "metadata": {},
   "outputs": [
    {
     "name": "stdout",
     "output_type": "stream",
     "text": [
      "[ 0.05111878  0.68588106 -0.37934866 -1.0025827  -0.47984785  0.07477533\n",
      " -0.58451518  0.3854648   0.05092851  0.07978889  0.91971549  0.27988209\n",
      "  0.34029752 -0.13400676  0.07849638 -0.08514907  0.04406175 -0.49096057\n",
      "  0.16474512 -0.59343923 -0.01965866 -0.17820067 -0.35436524  0.39228988\n",
      "  0.3296067  -0.37285436 -0.0765294  -0.23979368  0.41046027  0.02390315\n",
      "  0.16718733  0.4499509   0.43811264 -1.09908662 -1.10011192  0.28518037\n",
      "  0.2998044  -0.2754323   0.76155611 -0.05125308  0.27602497 -0.65899298\n",
      " -0.08888375  0.49976565 -0.12079416 -0.29791872 -0.21557509 -0.1540932\n",
      " -0.33084827 -0.5296906   0.28585361  0.28527873  0.22063543  0.36831242\n",
      "  0.60566516  0.10016101 -0.07248715  0.59942893 -0.06164969 -0.12895664\n",
      "  0.18782043  0.50124692  0.08387745 -0.5544527  -0.03731634  1.02552241\n",
      " -0.62982019 -0.5642888  -0.44852577 -1.01437449 -0.20489381 -0.27801471\n",
      "  0.21287899 -1.00773061  0.33329683  1.01895143  0.35090056 -0.56800666\n",
      " -0.38139804 -0.21228479 -0.0545633   0.39707508  0.21795565  0.03312039\n",
      " -0.20486145 -0.28608108 -0.74574861  0.4004085   0.00628635  0.44622725\n",
      "  0.01220498  0.49067329  0.15800177  0.32194558  0.36132045 -0.71872282\n",
      " -0.55091037 -0.04974795  0.00663213  0.12644933 -0.8056337   0.40335092\n",
      " -0.04909833  0.99238964  0.64566527  0.00874434 -0.37564668  0.04865642\n",
      " -0.57566984 -0.53452453 -1.49971442 -0.71081809 -0.20232698 -0.46888007\n",
      " -0.4451227   0.49421031 -0.19132084  1.45094329 -0.13766881  0.22895164\n",
      "  0.40876856  0.00548332 -0.66527452 -0.31229467 -0.25307613  0.08958978\n",
      "  0.05584568  0.06894414 -0.73499401 -0.45251644  0.80026103 -0.01497971\n",
      "  0.23822766 -0.42881785  0.27646836 -0.36925359  0.14497267 -0.12183395\n",
      " -0.55605446 -0.11345306 -0.0456753   0.4262235  -0.41946144  0.4320884\n",
      " -0.00499751  0.37500615 -0.22907956  0.32158048  0.18488883  0.86234194\n",
      " -0.37773467  0.31810382  0.73085788 -0.49126216 -0.16449202 -0.05407344\n",
      " -0.80394712 -0.29234544  0.70641905 -0.00535738 -0.09145119  0.57577567\n",
      "  1.10196571 -1.74841596  0.5354374  -0.2719784  -0.52613407 -0.86723665\n",
      " -0.61036942  0.54068936 -0.05547406 -0.41760106  1.11686983 -1.13652179\n",
      " -0.16635881 -0.35484752 -0.03399018  0.53052998  0.54848762  0.11509916\n",
      "  0.18328715 -0.71946014  0.41366032 -0.10673884 -0.06139769 -0.16322388\n",
      "  0.20427459 -0.21727299  0.48048064 -0.27091466 -0.75826333 -0.49646741\n",
      " -0.32304809 -0.4584097  -0.39331533  0.32874553  0.36016606 -0.2974516\n",
      "  0.20784769  0.36299393  0.19207965 -0.40919656 -0.64034405  0.25322407\n",
      "  0.49466303  0.20819008  0.2082681   0.06282462 -0.99975136 -0.37520159\n",
      "  0.52356333  0.44560285  0.04042823 -1.16341408 -0.17394741 -0.20451016\n",
      "  0.36828041 -0.28671533 -0.10189885  0.23445846  0.48149717  0.27301371\n",
      "  0.53763414 -0.41563697 -0.01439622 -0.77094491 -0.7563091   0.02904599\n",
      "  0.35469075 -0.00290773  0.11555826 -0.2019336  -0.26674367  0.74629637\n",
      " -0.60343524 -0.44013926 -0.48583032 -0.77864023  0.5976997   0.04675653\n",
      " -0.78589465 -0.36369778  0.96120458 -0.15435831 -0.30544304 -0.17675438\n",
      " -0.29741561 -0.44736475 -0.75481827  0.18018694  0.29076214  0.33043289\n",
      "  0.50620173  0.55342323  0.33228429  0.31760083]\n"
     ]
    },
    {
     "data": {
      "image/png": "[encoded data removed]",
      "text/plain": [
       "<Figure size 640x480 with 1 Axes>"
      ]
     },
     "metadata": {},
     "output_type": "display_data"
    }
   ],
   "source": [
    "results = lrmodel.coef_[0]\n",
    "print(results)\n",
    "\n",
    "l = zip([x for x in X_test.columns.values],results)\n",
    "l = list(l)\n",
    "res = sorted(l, key= lambda x: x[1])\n",
    "\n",
    "plt.xticks(rotation=90)\n",
    "plt.tick_params(axis='x', which='major', labelsize=5)\n",
    "\n",
    "plt.bar([x[0] for x in res[200:]], [x[1] for x in res[200:]])\n",
    "plt.show()"
   ]
  }
 ],
 "metadata": {
  "kernelspec": {
   "display_name": "Python 3.8.13 ('seq')",
   "language": "python",
   "name": "python3"
  },
  "language_info": {
   "codemirror_mode": {
    "name": "ipython",
    "version": 3
   },
   "file_extension": ".py",
   "mimetype": "text/x-python",
   "name": "python",
   "nbconvert_exporter": "python",
   "pygments_lexer": "ipython3",
   "version": "3.8.13"
  },
  "orig_nbformat": 4,
  "vscode": {
   "interpreter": {
    "hash": "e1360c63304de9435a2a3572d38e6c9496b6fb5d1617f35fbc8638664d664ab4"
   }
  }
 },
 "nbformat": 4,
 "nbformat_minor": 2
}
