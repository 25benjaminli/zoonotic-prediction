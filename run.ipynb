{
 "cells": [
  {
   "cell_type": "code",
   "execution_count": 27,
   "metadata": {},
   "outputs": [],
   "source": [
    "from itertools import permutations, product\n",
    "\n",
    "import functools\n",
    "\n",
    "import tqdm\n",
    "\n",
    "import pandas as pd\n",
    "\n",
    "from sklearn.linear_model import LogisticRegression\n",
    "from sklearn.neighbors import KNeighborsClassifier\n",
    "from sklearn.tree import DecisionTreeClassifier\n",
    "from sklearn.ensemble import GradientBoostingClassifier\n",
    "from sklearn.model_selection import RepeatedStratifiedKFold, train_test_split, cross_val_score\n",
    "from sklearn.metrics import accuracy_score, auc, confusion_matrix, balanced_accuracy_score, precision_recall_curve, auc, roc_curve, roc_auc_score\n",
    "from sklearn.inspection import permutation_importance\n",
    "\n",
    "from imblearn.ensemble import BalancedBaggingClassifier\n",
    "from xgboost import XGBClassifier\n",
    "\n",
    "import numpy as np\n",
    "from numpy import mean,std\n",
    "\n",
    "import pickle\n",
    "\n",
    "from os import path\n",
    "\n",
    "import matplotlib.pyplot as plt\n",
    "\n",
    "from warnings import simplefilter\n",
    "from collections import OrderedDict\n",
    "\n",
    "simplefilter(action=\"ignore\", category=pd.errors.PerformanceWarning)\n",
    "\n"
   ]
  },
  {
   "cell_type": "code",
   "execution_count": 2,
   "metadata": {},
   "outputs": [
    {
     "name": "stdout",
     "output_type": "stream",
     "text": [
      "1236\n",
      "8192\n"
     ]
    }
   ],
   "source": [
    "df = pd.read_csv('virus_genome/human_infecting_virus', delimiter='\\t', header=None)\n",
    "df[['ID', 'DNA Sequence']] = df[0].str.split(expand=True)\n",
    "df = df.drop(0, axis=1)\n",
    "df['isZoonotic'] = 1\n",
    "\n",
    "\n",
    "df2 = pd.read_csv('virus_genome/Other_viruses', delimiter='\\t', header=None)\n",
    "df2[['ID', 'DNA Sequence']] = df2[0].str.split(expand=True)\n",
    "df2 = df2.drop(0, axis=1)\n",
    "df2['isZoonotic'] = 0\n",
    "\n",
    "# make both have the same amount of samples..?\n",
    "\n",
    "thresh = len(df)\n",
    "# df2.drop(df2.index[thresh:len(df2.index)], inplace=True)\n",
    "\n",
    "dfother = pd.DataFrame()\n",
    "it = len(df)+1\n",
    "\n",
    "print(len(df))\n",
    "print(len(df2))\n",
    "# iterate through each sequence\n",
    "for i in range(len(df2)):\n",
    "    dfother.at[it, 'DNA Sequence']=df2.at[i, 'DNA Sequence']\n",
    "    dfother.at[it, 'isZoonotic']=int(0)\n",
    "    dfother.at[it, 'ID']=df2.at[i, 'ID']\n",
    "    it+=1\n",
    "\n",
    "\n",
    "mergedDf = pd.concat([df, dfother], axis=0)\n"
   ]
  },
  {
   "cell_type": "code",
   "execution_count": 3,
   "metadata": {},
   "outputs": [],
   "source": [
    "def resetkmerdict(permset)->OrderedDict:\n",
    "        kmerdict = OrderedDict()\n",
    "        for i in permset:\n",
    "            kmerdict[i]=0\n",
    "        return kmerdict\n",
    "\n",
    "def assign_kmers_to_dict(row, permset, kmer):\n",
    "    kmerdict=resetkmerdict(permset)\n",
    "    st = row[2] # tune for which column the sequence is in\n",
    "    for j in range(len(st)-kmer+1):\n",
    "        if not st[j:j+kmer] in permset: continue\n",
    "        kmerdict[st[j:j+kmer]]+=1\n",
    "    return kmerdict\n",
    "\n",
    "def getTrainParams(mergedDf):\n",
    "    kmer = 4\n",
    "    print(mergedDf)\n",
    "    s = product('acgt',repeat = kmer)\n",
    "    permset = set([\"\".join(x) for x in list(s)])\n",
    "\n",
    "    l = []\n",
    "    \n",
    "    for row in tqdm.tqdm(mergedDf.itertuples()):\n",
    "        l.append(assign_kmers_to_dict(row, permset, kmer))\n",
    "        \n",
    "\n",
    "    finalkmerdict=pd.DataFrame(l)\n",
    "    mergedDf.fillna(0, inplace=True)\n",
    "\n",
    "    X = finalkmerdict\n",
    "    Y = mergedDf['isZoonotic']\n",
    "\n",
    "    print(X)\n",
    "    print(Y)\n",
    "    return train_test_split(X, Y, test_size=0.2, random_state=1)"
   ]
  },
  {
   "cell_type": "code",
   "execution_count": 4,
   "metadata": {},
   "outputs": [
    {
     "name": "stdout",
     "output_type": "stream",
     "text": [
      "           ID                                       DNA Sequence  isZoonotic\n",
      "0       37121  cttttaacaatcatagttttataaaagggtgtaaccgaagcggttt...         1.0\n",
      "1      129724  atactttacaattatcttgtaaaaagtagggtgtaaccgaaaaggg...         1.0\n",
      "2       59303  atggcggacgtgtgacatcaccgttcgctctttctaggatcctttg...         1.0\n",
      "3      120686  ttgttctacttcttactcattattataaattataatgtttgtataa...         1.0\n",
      "4       99565  gtgaatgatgatggcgtcgaaagacgtcgttgcagctactgctgct...         1.0\n",
      "...       ...                                                ...         ...\n",
      "9424   268315  ggatccacagaactccttgtatgtacagccgcgggtacccacagca...         0.0\n",
      "9425   130329  ctcatgtcattaataagaccatgcagaaaatgcaaatgaggcgaag...         0.0\n",
      "9426  1239437  ccgaagtgggatggcggctgccgccgcttcggcgcttggcgcttcg...         0.0\n",
      "9427   358812  gtatacgaggttagttcattctcgtatacacgattggacaaatcaa...         0.0\n",
      "9428    11287  atggaaggaggaattcgtgcagcgttttcaggcctgaatgatgtta...         0.0\n",
      "\n",
      "[9428 rows x 3 columns]\n"
     ]
    },
    {
     "name": "stderr",
     "output_type": "stream",
     "text": [
      "9428it [01:37, 96.80it/s] \n"
     ]
    },
    {
     "name": "stdout",
     "output_type": "stream",
     "text": [
      "      acct  cgta  gtga  tgaa  tacg  aggc  agtg  attg  caca  cgct  ...  tagg  \\\n",
      "0       40    13    23    40    13    26    41    51    53     5  ...    21   \n",
      "1       42    10    15    35    11    26    34    54    62    12  ...    27   \n",
      "2       61    41    52    58    48    61    62    31    51    37  ...    22   \n",
      "3       40     8    26    20    19    35    44    49    53     9  ...    27   \n",
      "4       26     5    42    42     3    47    28    52    38    10  ...    27   \n",
      "...    ...   ...   ...   ...   ...   ...   ...   ...   ...   ...  ...   ...   \n",
      "9423    10     4    11    20     1    16     8    14     8     2  ...    13   \n",
      "9424   100    89   114   156    86    77   121   213   155    83  ...    85   \n",
      "9425    24     6    35    54     7    29    40    45    51     9  ...    26   \n",
      "9426    68    13    61    86    33    53    67    48    74    17  ...    53   \n",
      "9427    69     6    44    35    14    57    47    43    88    17  ...    20   \n",
      "\n",
      "      tgtt  cttt  ggat  ggct  tacc  aagg  attt  tata  gttc  \n",
      "0       69    33    23    16    33    34    79    93    11  \n",
      "1       80    34    23    14    39    33    87    75     9  \n",
      "2       32    36    43    38    56    56    20    26    29  \n",
      "3       73    26    27    21    34    33    60    79    14  \n",
      "4       34    42    39    44    21    47    41    33    21  \n",
      "...    ...   ...   ...   ...   ...   ...   ...   ...   ...  \n",
      "9423    11    18    13    12    11    11    24     9     8  \n",
      "9424   231   269   106   120    96   127   317   156   117  \n",
      "9425    48    35    27    29    20    49    44    27    25  \n",
      "9426    40    42    47    45    57    91    56    49    26  \n",
      "9427    27    31    58    28    31    70    23     8    41  \n",
      "\n",
      "[9428 rows x 256 columns]\n",
      "0       1.0\n",
      "1       1.0\n",
      "2       1.0\n",
      "3       1.0\n",
      "4       1.0\n",
      "       ... \n",
      "9424    0.0\n",
      "9425    0.0\n",
      "9426    0.0\n",
      "9427    0.0\n",
      "9428    0.0\n",
      "Name: isZoonotic, Length: 9428, dtype: float64\n"
     ]
    }
   ],
   "source": [
    "X_train, X_test, y_train, y_test = getTrainParams(mergedDf)\n",
    "\n",
    "zz = X_train.head()\n"
   ]
  },
  {
   "cell_type": "code",
   "execution_count": 21,
   "metadata": {},
   "outputs": [
    {
     "data": {
      "text/html": [
       "<style>#sk-container-id-5 {color: black;background-color: white;}#sk-container-id-5 pre{padding: 0;}#sk-container-id-5 div.sk-toggleable {background-color: white;}#sk-container-id-5 label.sk-toggleable__label {cursor: pointer;display: block;width: 100%;margin-bottom: 0;padding: 0.3em;box-sizing: border-box;text-align: center;}#sk-container-id-5 label.sk-toggleable__label-arrow:before {content: \"▸\";float: left;margin-right: 0.25em;color: #696969;}#sk-container-id-5 label.sk-toggleable__label-arrow:hover:before {color: black;}#sk-container-id-5 div.sk-estimator:hover label.sk-toggleable__label-arrow:before {color: black;}#sk-container-id-5 div.sk-toggleable__content {max-height: 0;max-width: 0;overflow: hidden;text-align: left;background-color: #f0f8ff;}#sk-container-id-5 div.sk-toggleable__content pre {margin: 0.2em;color: black;border-radius: 0.25em;background-color: #f0f8ff;}#sk-container-id-5 input.sk-toggleable__control:checked~div.sk-toggleable__content {max-height: 200px;max-width: 100%;overflow: auto;}#sk-container-id-5 input.sk-toggleable__control:checked~label.sk-toggleable__label-arrow:before {content: \"▾\";}#sk-container-id-5 div.sk-estimator input.sk-toggleable__control:checked~label.sk-toggleable__label {background-color: #d4ebff;}#sk-container-id-5 div.sk-label input.sk-toggleable__control:checked~label.sk-toggleable__label {background-color: #d4ebff;}#sk-container-id-5 input.sk-hidden--visually {border: 0;clip: rect(1px 1px 1px 1px);clip: rect(1px, 1px, 1px, 1px);height: 1px;margin: -1px;overflow: hidden;padding: 0;position: absolute;width: 1px;}#sk-container-id-5 div.sk-estimator {font-family: monospace;background-color: #f0f8ff;border: 1px dotted black;border-radius: 0.25em;box-sizing: border-box;margin-bottom: 0.5em;}#sk-container-id-5 div.sk-estimator:hover {background-color: #d4ebff;}#sk-container-id-5 div.sk-parallel-item::after {content: \"\";width: 100%;border-bottom: 1px solid gray;flex-grow: 1;}#sk-container-id-5 div.sk-label:hover label.sk-toggleable__label {background-color: #d4ebff;}#sk-container-id-5 div.sk-serial::before {content: \"\";position: absolute;border-left: 1px solid gray;box-sizing: border-box;top: 0;bottom: 0;left: 50%;z-index: 0;}#sk-container-id-5 div.sk-serial {display: flex;flex-direction: column;align-items: center;background-color: white;padding-right: 0.2em;padding-left: 0.2em;position: relative;}#sk-container-id-5 div.sk-item {position: relative;z-index: 1;}#sk-container-id-5 div.sk-parallel {display: flex;align-items: stretch;justify-content: center;background-color: white;position: relative;}#sk-container-id-5 div.sk-item::before, #sk-container-id-5 div.sk-parallel-item::before {content: \"\";position: absolute;border-left: 1px solid gray;box-sizing: border-box;top: 0;bottom: 0;left: 50%;z-index: -1;}#sk-container-id-5 div.sk-parallel-item {display: flex;flex-direction: column;z-index: 1;position: relative;background-color: white;}#sk-container-id-5 div.sk-parallel-item:first-child::after {align-self: flex-end;width: 50%;}#sk-container-id-5 div.sk-parallel-item:last-child::after {align-self: flex-start;width: 50%;}#sk-container-id-5 div.sk-parallel-item:only-child::after {width: 0;}#sk-container-id-5 div.sk-dashed-wrapped {border: 1px dashed gray;margin: 0 0.4em 0.5em 0.4em;box-sizing: border-box;padding-bottom: 0.4em;background-color: white;}#sk-container-id-5 div.sk-label label {font-family: monospace;font-weight: bold;display: inline-block;line-height: 1.2em;}#sk-container-id-5 div.sk-label-container {text-align: center;}#sk-container-id-5 div.sk-container {/* jupyter's `normalize.less` sets `[hidden] { display: none; }` but bootstrap.min.css set `[hidden] { display: none !important; }` so we also need the `!important` here to be able to override the default hidden behavior on the sphinx rendered scikit-learn.org. See: https://github.com/scikit-learn/scikit-learn/issues/21755 */display: inline-block !important;position: relative;}#sk-container-id-5 div.sk-text-repr-fallback {display: none;}</style><div id=\"sk-container-id-5\" class=\"sk-top-container\"><div class=\"sk-text-repr-fallback\"><pre>LogisticRegression(fit_intercept=False, max_iter=1000,\n",
       "                   multi_class=&#x27;multinomial&#x27;, random_state=42, solver=&#x27;saga&#x27;,\n",
       "                   tol=0.001)</pre><b>In a Jupyter environment, please rerun this cell to show the HTML representation or trust the notebook. <br />On GitHub, the HTML representation is unable to render, please try loading this page with nbviewer.org.</b></div><div class=\"sk-container\" hidden><div class=\"sk-item\"><div class=\"sk-estimator sk-toggleable\"><input class=\"sk-toggleable__control sk-hidden--visually\" id=\"sk-estimator-id-9\" type=\"checkbox\" checked><label for=\"sk-estimator-id-9\" class=\"sk-toggleable__label sk-toggleable__label-arrow\">LogisticRegression</label><div class=\"sk-toggleable__content\"><pre>LogisticRegression(fit_intercept=False, max_iter=1000,\n",
       "                   multi_class=&#x27;multinomial&#x27;, random_state=42, solver=&#x27;saga&#x27;,\n",
       "                   tol=0.001)</pre></div></div></div></div></div>"
      ],
      "text/plain": [
       "LogisticRegression(fit_intercept=False, max_iter=1000,\n",
       "                   multi_class='multinomial', random_state=42, solver='saga',\n",
       "                   tol=0.001)"
      ]
     },
     "execution_count": 21,
     "metadata": {},
     "output_type": "execute_result"
    }
   ],
   "source": [
    "lrmodel = LogisticRegression(\n",
    "    multi_class=\"multinomial\", max_iter=1000,\n",
    "    fit_intercept=False, tol=0.001, solver='saga', random_state=42)\n",
    "lrmodel.fit(X_train, y_train)"
   ]
  },
  {
   "cell_type": "code",
   "execution_count": 22,
   "metadata": {},
   "outputs": [
    {
     "name": "stdout",
     "output_type": "stream",
     "text": [
      "      tcag  tttg  ccac  ctaa  acaa  ctca  taat  ctgg  gtat  caca  ...  accc  \\\n",
      "1302     4    28     5    11     7     3    22    13    12     3  ...     3   \n",
      "6596    49    78    13    40    40    40   100    25    46    21  ...    14   \n",
      "4095     9    23    11     8    11     8    16    13    10     7  ...     6   \n",
      "7284   823  1586   355   379   902   470   813   524   630   465  ...   375   \n",
      "4899    17    81    25    59    49    35    74    45    52    17  ...    37   \n",
      "6289    74    73    32    38    94    51    32    43    30    50  ...    26   \n",
      "7830   111    19   266     7   133   135     3   242    34   120  ...   273   \n",
      "2048   215    58   250    34   124   165    12   357    71   102  ...   301   \n",
      "7122   145   342   139   242   278   132   356   114   220   140  ...    64   \n",
      "7488    12    11    10     5     5     5     4     7     5     4  ...    12   \n",
      "\n",
      "      ccgg  caag  ctgc  ttga  atat  accg  agca  tttc  cagc  \n",
      "1302     7     7    12    25    17     8     2    20     4  \n",
      "6596    16    38    23    94    93    12    37    93    22  \n",
      "4095     2    11    10    18    17     2     7    13     5  \n",
      "7284   313   621   523  1403  1208   488   855  1650   696  \n",
      "4899     9    32    50    77    73    23    25    55    12  \n",
      "6289    15    55    35    85    61    12    42    47    36  \n",
      "7830   531   169   230    45    12   502   164    37   298  \n",
      "2048   551   203   342   107    17   447   202    86   381  \n",
      "7122     0   156   100   386   353    32   153   280   100  \n",
      "7488     7     8    10    12     7     6     6     7     3  \n",
      "\n",
      "[10 rows x 256 columns]\n",
      "0.8663838812301167\n"
     ]
    },
    {
     "name": "stderr",
     "output_type": "stream",
     "text": [
      "/Users/benjaminli/opt/miniconda3/envs/seq/lib/python3.8/site-packages/sklearn/base.py:493: FutureWarning: The feature names should match those that were passed during fit. Starting version 1.2, an error will be raised.\n",
      "Feature names must be in the same order as they were in fit.\n",
      "\n",
      "  warnings.warn(message, FutureWarning)\n"
     ]
    }
   ],
   "source": [
    "# all 0s for some reason\n",
    "print(X_test[:10])\n",
    "predictions = lrmodel.predict(X_test)\n",
    "print(accuracy_score(y_test, predictions))"
   ]
  },
  {
   "cell_type": "code",
   "execution_count": 38,
   "metadata": {},
   "outputs": [
    {
     "name": "stdout",
     "output_type": "stream",
     "text": [
      "[-2.20939378e-05 -3.35067775e-05 -1.77573679e-04 -2.71168138e-04\n",
      " -1.04570585e-04 -6.74218830e-06 -8.23807926e-05 -1.95724415e-04\n",
      "  6.30556602e-05 -8.11686544e-05  1.20973832e-04 -1.62273722e-04\n",
      " -1.23840323e-04 -2.23049633e-04 -2.34273102e-05 -1.85223431e-05\n",
      " -9.33616317e-05 -1.50787428e-04 -3.10976078e-05  6.48406957e-06\n",
      " -2.02802645e-04 -1.53804241e-04 -6.06829666e-06 -2.32788217e-05\n",
      " -4.29706712e-05 -1.08885967e-04 -1.23230506e-05 -1.29623263e-04\n",
      " -3.23079757e-05 -6.59108056e-05 -2.29161018e-04 -6.89614333e-05\n",
      "  1.25064818e-06  2.45316665e-05 -1.37129839e-04 -2.21716298e-05\n",
      " -1.42948716e-04  3.69887253e-05  5.30036893e-05 -2.87971082e-05\n",
      " -1.36098496e-05 -2.32609084e-06  1.32133427e-05 -6.90881362e-05\n",
      " -1.13430414e-05 -9.48623728e-06 -6.86282188e-05 -6.16273335e-05\n",
      " -1.23146683e-04 -1.02381773e-04 -2.98789051e-05 -1.93231885e-04\n",
      " -8.13688823e-05 -9.80540594e-05 -6.57521130e-05 -9.42001038e-05\n",
      " -2.59918191e-05 -1.86038836e-05 -6.59664215e-08  8.27083890e-05\n",
      " -6.07737425e-07 -6.95361753e-05 -1.04835855e-06  1.17491390e-04\n",
      "  8.51143785e-05  7.79860282e-05 -1.44584653e-04 -4.02448382e-05\n",
      " -1.92046423e-04 -5.11347323e-05  2.42367086e-05 -4.55071782e-05\n",
      " -8.16123680e-05 -1.44735451e-05 -5.18445080e-05  7.86248585e-05\n",
      " -7.76810898e-05 -1.18388165e-04 -1.30291034e-04 -6.58356343e-05\n",
      " -1.15442454e-04 -6.78160300e-05 -3.19976138e-05 -3.63198926e-05\n",
      "  3.70625011e-07  2.23690780e-05 -1.42495771e-04 -5.66287772e-05\n",
      " -1.17650417e-04 -9.56864939e-05  8.97162029e-05 -8.48343981e-05\n",
      "  1.71774515e-04 -1.80031602e-04  5.51764194e-05 -7.86522911e-05\n",
      "  8.09217057e-05 -2.52959010e-05  2.63874799e-05 -4.58302713e-05\n",
      "  2.51527930e-04 -1.05734671e-04 -5.01212560e-05 -1.29468067e-04\n",
      "  3.99985940e-05 -1.66933871e-04  9.91601241e-05 -7.48136119e-05\n",
      "  1.02241427e-04  6.54925247e-07  2.20248138e-05 -6.96424694e-05\n",
      " -3.42532626e-05  7.87442400e-05 -1.00077355e-04  1.56595483e-04\n",
      " -7.95205383e-06 -4.13455363e-05 -1.24942475e-04 -1.52051269e-04\n",
      "  6.19112607e-05  3.76914858e-05 -6.53055392e-05 -3.86825061e-06\n",
      "  6.23452981e-05  2.53195123e-05 -6.00723706e-05 -3.57242674e-06\n",
      " -1.17099981e-04 -5.15778555e-05  6.81252157e-06 -1.53253073e-04\n",
      "  1.16943467e-04 -2.34195445e-05 -2.18448593e-05 -5.45293284e-05\n",
      " -2.58329453e-05  7.20720596e-05  2.62013431e-05 -5.21578375e-05\n",
      " -1.92502819e-05  2.78137175e-06  7.04642334e-05 -1.51922801e-04\n",
      " -1.12589697e-04  1.58912655e-04  3.62037686e-05  7.11334013e-05\n",
      "  2.01170207e-05  6.43144986e-05  1.26106431e-04 -6.91464580e-05\n",
      " -9.45145806e-06 -1.02412179e-04 -1.55353769e-05 -9.21872175e-05\n",
      " -6.93114581e-05 -2.52726561e-05 -2.05155631e-04 -1.02392293e-04\n",
      " -2.32234746e-04  1.26570096e-04  1.20370530e-04 -1.34236498e-04\n",
      " -1.95400823e-04 -9.23892653e-05  4.54214582e-05 -3.12306751e-04\n",
      "  1.08305493e-05 -1.57707559e-04 -7.22284676e-05 -5.60850947e-05\n",
      " -5.02565513e-05  7.16889711e-05 -1.47915448e-04 -1.58428197e-05\n",
      " -1.82028865e-04 -8.16267951e-06 -1.47802505e-04 -1.18987536e-05\n",
      " -9.43582589e-05  4.03334905e-05  7.13440602e-05  2.23245319e-05\n",
      " -4.72981218e-05  6.06087910e-06  2.18815473e-04  1.20207159e-04\n",
      " -7.52108609e-05 -1.94624783e-05  1.03978892e-04 -1.68352442e-04\n",
      "  4.93964956e-05 -1.02321876e-04 -9.92925585e-05 -1.99068200e-04\n",
      " -7.78649494e-05  4.73923322e-05 -5.09564944e-05 -3.28069399e-05\n",
      " -3.12945811e-05  3.38993046e-05 -2.39697518e-05  6.84281305e-06\n",
      "  1.37419704e-04  9.20446014e-05 -1.05194550e-04 -3.86243808e-05\n",
      "  5.76776832e-05  9.45664694e-05 -9.78864046e-05 -1.20446133e-04\n",
      " -2.01068449e-04  4.60156674e-05 -4.80745351e-05  5.01298777e-05\n",
      "  4.65870628e-05 -2.65864820e-04 -5.15524673e-05 -4.63616871e-05\n",
      " -3.46351688e-05 -4.42385469e-05 -3.00910489e-05 -5.69765991e-05\n",
      " -5.45440607e-05 -8.19535127e-05 -2.09522785e-04  8.08180352e-05\n",
      " -8.95822681e-05 -1.49629373e-04 -4.53444721e-05  5.29875021e-05\n",
      " -6.34827934e-06 -6.25016468e-05 -8.18989078e-05  1.35545262e-04\n",
      " -7.60579484e-05 -2.57236935e-05 -1.13215540e-04  1.36801977e-04\n",
      " -2.50756095e-06 -1.00250439e-04  7.71892879e-05  5.16342299e-06\n",
      " -1.47369610e-05  4.27987770e-05 -8.02958529e-06 -1.10375789e-04\n",
      " -1.06463731e-04 -1.01022480e-04 -9.54335878e-05 -1.63492044e-05\n",
      " -2.01040572e-04 -7.84184467e-05  1.53029652e-04 -1.53153716e-04]\n"
     ]
    },
    {
     "data": {
      "image/png": "[encoded data removed]",
      "text/plain": [
       "<Figure size 640x480 with 1 Axes>"
      ]
     },
     "metadata": {},
     "output_type": "display_data"
    }
   ],
   "source": [
    "results = lrmodel.coef_[0]\n",
    "print(results)\n",
    "\n",
    "l = zip([x for x in X_test.columns.values],results)\n",
    "l = list(l)\n",
    "res = sorted(l, key= lambda x: x[1])\n",
    "\n",
    "plt.xticks(rotation=90)\n",
    "plt.tick_params(axis='x', which='major', labelsize=5)\n",
    "\n",
    "plt.bar([x[0] for x in res[200:]], [x[1] for x in res[200:]])\n",
    "plt.show()"
   ]
  },
  {
   "cell_type": "code",
   "execution_count": 7,
   "metadata": {},
   "outputs": [
    {
     "data": {
      "text/html": [
       "<style>#sk-container-id-2 {color: black;background-color: white;}#sk-container-id-2 pre{padding: 0;}#sk-container-id-2 div.sk-toggleable {background-color: white;}#sk-container-id-2 label.sk-toggleable__label {cursor: pointer;display: block;width: 100%;margin-bottom: 0;padding: 0.3em;box-sizing: border-box;text-align: center;}#sk-container-id-2 label.sk-toggleable__label-arrow:before {content: \"▸\";float: left;margin-right: 0.25em;color: #696969;}#sk-container-id-2 label.sk-toggleable__label-arrow:hover:before {color: black;}#sk-container-id-2 div.sk-estimator:hover label.sk-toggleable__label-arrow:before {color: black;}#sk-container-id-2 div.sk-toggleable__content {max-height: 0;max-width: 0;overflow: hidden;text-align: left;background-color: #f0f8ff;}#sk-container-id-2 div.sk-toggleable__content pre {margin: 0.2em;color: black;border-radius: 0.25em;background-color: #f0f8ff;}#sk-container-id-2 input.sk-toggleable__control:checked~div.sk-toggleable__content {max-height: 200px;max-width: 100%;overflow: auto;}#sk-container-id-2 input.sk-toggleable__control:checked~label.sk-toggleable__label-arrow:before {content: \"▾\";}#sk-container-id-2 div.sk-estimator input.sk-toggleable__control:checked~label.sk-toggleable__label {background-color: #d4ebff;}#sk-container-id-2 div.sk-label input.sk-toggleable__control:checked~label.sk-toggleable__label {background-color: #d4ebff;}#sk-container-id-2 input.sk-hidden--visually {border: 0;clip: rect(1px 1px 1px 1px);clip: rect(1px, 1px, 1px, 1px);height: 1px;margin: -1px;overflow: hidden;padding: 0;position: absolute;width: 1px;}#sk-container-id-2 div.sk-estimator {font-family: monospace;background-color: #f0f8ff;border: 1px dotted black;border-radius: 0.25em;box-sizing: border-box;margin-bottom: 0.5em;}#sk-container-id-2 div.sk-estimator:hover {background-color: #d4ebff;}#sk-container-id-2 div.sk-parallel-item::after {content: \"\";width: 100%;border-bottom: 1px solid gray;flex-grow: 1;}#sk-container-id-2 div.sk-label:hover label.sk-toggleable__label {background-color: #d4ebff;}#sk-container-id-2 div.sk-serial::before {content: \"\";position: absolute;border-left: 1px solid gray;box-sizing: border-box;top: 0;bottom: 0;left: 50%;z-index: 0;}#sk-container-id-2 div.sk-serial {display: flex;flex-direction: column;align-items: center;background-color: white;padding-right: 0.2em;padding-left: 0.2em;position: relative;}#sk-container-id-2 div.sk-item {position: relative;z-index: 1;}#sk-container-id-2 div.sk-parallel {display: flex;align-items: stretch;justify-content: center;background-color: white;position: relative;}#sk-container-id-2 div.sk-item::before, #sk-container-id-2 div.sk-parallel-item::before {content: \"\";position: absolute;border-left: 1px solid gray;box-sizing: border-box;top: 0;bottom: 0;left: 50%;z-index: -1;}#sk-container-id-2 div.sk-parallel-item {display: flex;flex-direction: column;z-index: 1;position: relative;background-color: white;}#sk-container-id-2 div.sk-parallel-item:first-child::after {align-self: flex-end;width: 50%;}#sk-container-id-2 div.sk-parallel-item:last-child::after {align-self: flex-start;width: 50%;}#sk-container-id-2 div.sk-parallel-item:only-child::after {width: 0;}#sk-container-id-2 div.sk-dashed-wrapped {border: 1px dashed gray;margin: 0 0.4em 0.5em 0.4em;box-sizing: border-box;padding-bottom: 0.4em;background-color: white;}#sk-container-id-2 div.sk-label label {font-family: monospace;font-weight: bold;display: inline-block;line-height: 1.2em;}#sk-container-id-2 div.sk-label-container {text-align: center;}#sk-container-id-2 div.sk-container {/* jupyter's `normalize.less` sets `[hidden] { display: none; }` but bootstrap.min.css set `[hidden] { display: none !important; }` so we also need the `!important` here to be able to override the default hidden behavior on the sphinx rendered scikit-learn.org. See: https://github.com/scikit-learn/scikit-learn/issues/21755 */display: inline-block !important;position: relative;}#sk-container-id-2 div.sk-text-repr-fallback {display: none;}</style><div id=\"sk-container-id-2\" class=\"sk-top-container\"><div class=\"sk-text-repr-fallback\"><pre>BalancedBaggingClassifier(base_estimator=KNeighborsClassifier(n_jobs=1,\n",
       "                                                              n_neighbors=1),\n",
       "                          n_jobs=1)</pre><b>In a Jupyter environment, please rerun this cell to show the HTML representation or trust the notebook. <br />On GitHub, the HTML representation is unable to render, please try loading this page with nbviewer.org.</b></div><div class=\"sk-container\" hidden><div class=\"sk-item sk-dashed-wrapped\"><div class=\"sk-label-container\"><div class=\"sk-label sk-toggleable\"><input class=\"sk-toggleable__control sk-hidden--visually\" id=\"sk-estimator-id-2\" type=\"checkbox\" ><label for=\"sk-estimator-id-2\" class=\"sk-toggleable__label sk-toggleable__label-arrow\">BalancedBaggingClassifier</label><div class=\"sk-toggleable__content\"><pre>BalancedBaggingClassifier(base_estimator=KNeighborsClassifier(n_jobs=1,\n",
       "                                                              n_neighbors=1),\n",
       "                          n_jobs=1)</pre></div></div></div><div class=\"sk-parallel\"><div class=\"sk-parallel-item\"><div class=\"sk-item\"><div class=\"sk-label-container\"><div class=\"sk-label sk-toggleable\"><input class=\"sk-toggleable__control sk-hidden--visually\" id=\"sk-estimator-id-3\" type=\"checkbox\" ><label for=\"sk-estimator-id-3\" class=\"sk-toggleable__label sk-toggleable__label-arrow\">base_estimator: KNeighborsClassifier</label><div class=\"sk-toggleable__content\"><pre>KNeighborsClassifier(n_jobs=1, n_neighbors=1)</pre></div></div></div><div class=\"sk-serial\"><div class=\"sk-item\"><div class=\"sk-estimator sk-toggleable\"><input class=\"sk-toggleable__control sk-hidden--visually\" id=\"sk-estimator-id-4\" type=\"checkbox\" ><label for=\"sk-estimator-id-4\" class=\"sk-toggleable__label sk-toggleable__label-arrow\">KNeighborsClassifier</label><div class=\"sk-toggleable__content\"><pre>KNeighborsClassifier(n_jobs=1, n_neighbors=1)</pre></div></div></div></div></div></div></div></div></div></div>"
      ],
      "text/plain": [
       "BalancedBaggingClassifier(base_estimator=KNeighborsClassifier(n_jobs=1,\n",
       "                                                              n_neighbors=1),\n",
       "                          n_jobs=1)"
      ]
     },
     "execution_count": 7,
     "metadata": {},
     "output_type": "execute_result"
    }
   ],
   "source": [
    "knntest = BalancedBaggingClassifier(base_estimator=KNeighborsClassifier(n_neighbors = 1, n_jobs = 1), n_estimators = 10, n_jobs = 1)\n",
    "\n",
    "knntest.fit(X_train, y_train)\n",
    "# knn = KNeighborsClassifier(n_neighbors=5)"
   ]
  },
  {
   "cell_type": "code",
   "execution_count": 8,
   "metadata": {},
   "outputs": [
    {
     "name": "stdout",
     "output_type": "stream",
     "text": [
      "[0. 0. 0. 0. 0. 1. 0. 0. 0. 0.]\n",
      "0.9109225874867445\n"
     ]
    }
   ],
   "source": [
    "predictions = knntest.predict(X_test)\n",
    "print(predictions[:10])\n",
    "print(accuracy_score(y_test, predictions))"
   ]
  },
  {
   "cell_type": "code",
   "execution_count": 9,
   "metadata": {},
   "outputs": [
    {
     "data": {
      "text/html": [
       "<style>#sk-container-id-3 {color: black;background-color: white;}#sk-container-id-3 pre{padding: 0;}#sk-container-id-3 div.sk-toggleable {background-color: white;}#sk-container-id-3 label.sk-toggleable__label {cursor: pointer;display: block;width: 100%;margin-bottom: 0;padding: 0.3em;box-sizing: border-box;text-align: center;}#sk-container-id-3 label.sk-toggleable__label-arrow:before {content: \"▸\";float: left;margin-right: 0.25em;color: #696969;}#sk-container-id-3 label.sk-toggleable__label-arrow:hover:before {color: black;}#sk-container-id-3 div.sk-estimator:hover label.sk-toggleable__label-arrow:before {color: black;}#sk-container-id-3 div.sk-toggleable__content {max-height: 0;max-width: 0;overflow: hidden;text-align: left;background-color: #f0f8ff;}#sk-container-id-3 div.sk-toggleable__content pre {margin: 0.2em;color: black;border-radius: 0.25em;background-color: #f0f8ff;}#sk-container-id-3 input.sk-toggleable__control:checked~div.sk-toggleable__content {max-height: 200px;max-width: 100%;overflow: auto;}#sk-container-id-3 input.sk-toggleable__control:checked~label.sk-toggleable__label-arrow:before {content: \"▾\";}#sk-container-id-3 div.sk-estimator input.sk-toggleable__control:checked~label.sk-toggleable__label {background-color: #d4ebff;}#sk-container-id-3 div.sk-label input.sk-toggleable__control:checked~label.sk-toggleable__label {background-color: #d4ebff;}#sk-container-id-3 input.sk-hidden--visually {border: 0;clip: rect(1px 1px 1px 1px);clip: rect(1px, 1px, 1px, 1px);height: 1px;margin: -1px;overflow: hidden;padding: 0;position: absolute;width: 1px;}#sk-container-id-3 div.sk-estimator {font-family: monospace;background-color: #f0f8ff;border: 1px dotted black;border-radius: 0.25em;box-sizing: border-box;margin-bottom: 0.5em;}#sk-container-id-3 div.sk-estimator:hover {background-color: #d4ebff;}#sk-container-id-3 div.sk-parallel-item::after {content: \"\";width: 100%;border-bottom: 1px solid gray;flex-grow: 1;}#sk-container-id-3 div.sk-label:hover label.sk-toggleable__label {background-color: #d4ebff;}#sk-container-id-3 div.sk-serial::before {content: \"\";position: absolute;border-left: 1px solid gray;box-sizing: border-box;top: 0;bottom: 0;left: 50%;z-index: 0;}#sk-container-id-3 div.sk-serial {display: flex;flex-direction: column;align-items: center;background-color: white;padding-right: 0.2em;padding-left: 0.2em;position: relative;}#sk-container-id-3 div.sk-item {position: relative;z-index: 1;}#sk-container-id-3 div.sk-parallel {display: flex;align-items: stretch;justify-content: center;background-color: white;position: relative;}#sk-container-id-3 div.sk-item::before, #sk-container-id-3 div.sk-parallel-item::before {content: \"\";position: absolute;border-left: 1px solid gray;box-sizing: border-box;top: 0;bottom: 0;left: 50%;z-index: -1;}#sk-container-id-3 div.sk-parallel-item {display: flex;flex-direction: column;z-index: 1;position: relative;background-color: white;}#sk-container-id-3 div.sk-parallel-item:first-child::after {align-self: flex-end;width: 50%;}#sk-container-id-3 div.sk-parallel-item:last-child::after {align-self: flex-start;width: 50%;}#sk-container-id-3 div.sk-parallel-item:only-child::after {width: 0;}#sk-container-id-3 div.sk-dashed-wrapped {border: 1px dashed gray;margin: 0 0.4em 0.5em 0.4em;box-sizing: border-box;padding-bottom: 0.4em;background-color: white;}#sk-container-id-3 div.sk-label label {font-family: monospace;font-weight: bold;display: inline-block;line-height: 1.2em;}#sk-container-id-3 div.sk-label-container {text-align: center;}#sk-container-id-3 div.sk-container {/* jupyter's `normalize.less` sets `[hidden] { display: none; }` but bootstrap.min.css set `[hidden] { display: none !important; }` so we also need the `!important` here to be able to override the default hidden behavior on the sphinx rendered scikit-learn.org. See: https://github.com/scikit-learn/scikit-learn/issues/21755 */display: inline-block !important;position: relative;}#sk-container-id-3 div.sk-text-repr-fallback {display: none;}</style><div id=\"sk-container-id-3\" class=\"sk-top-container\"><div class=\"sk-text-repr-fallback\"><pre>BalancedBaggingClassifier(base_estimator=DecisionTreeClassifier(max_features=&#x27;sqrt&#x27;))</pre><b>In a Jupyter environment, please rerun this cell to show the HTML representation or trust the notebook. <br />On GitHub, the HTML representation is unable to render, please try loading this page with nbviewer.org.</b></div><div class=\"sk-container\" hidden><div class=\"sk-item sk-dashed-wrapped\"><div class=\"sk-label-container\"><div class=\"sk-label sk-toggleable\"><input class=\"sk-toggleable__control sk-hidden--visually\" id=\"sk-estimator-id-5\" type=\"checkbox\" ><label for=\"sk-estimator-id-5\" class=\"sk-toggleable__label sk-toggleable__label-arrow\">BalancedBaggingClassifier</label><div class=\"sk-toggleable__content\"><pre>BalancedBaggingClassifier(base_estimator=DecisionTreeClassifier(max_features=&#x27;sqrt&#x27;))</pre></div></div></div><div class=\"sk-parallel\"><div class=\"sk-parallel-item\"><div class=\"sk-item\"><div class=\"sk-label-container\"><div class=\"sk-label sk-toggleable\"><input class=\"sk-toggleable__control sk-hidden--visually\" id=\"sk-estimator-id-6\" type=\"checkbox\" ><label for=\"sk-estimator-id-6\" class=\"sk-toggleable__label sk-toggleable__label-arrow\">base_estimator: DecisionTreeClassifier</label><div class=\"sk-toggleable__content\"><pre>DecisionTreeClassifier(max_features=&#x27;sqrt&#x27;)</pre></div></div></div><div class=\"sk-serial\"><div class=\"sk-item\"><div class=\"sk-estimator sk-toggleable\"><input class=\"sk-toggleable__control sk-hidden--visually\" id=\"sk-estimator-id-7\" type=\"checkbox\" ><label for=\"sk-estimator-id-7\" class=\"sk-toggleable__label sk-toggleable__label-arrow\">DecisionTreeClassifier</label><div class=\"sk-toggleable__content\"><pre>DecisionTreeClassifier(max_features=&#x27;sqrt&#x27;)</pre></div></div></div></div></div></div></div></div></div></div>"
      ],
      "text/plain": [
       "BalancedBaggingClassifier(base_estimator=DecisionTreeClassifier(max_features='sqrt'))"
      ]
     },
     "execution_count": 9,
     "metadata": {},
     "output_type": "execute_result"
    }
   ],
   "source": [
    "\n",
    "randforest = BalancedBaggingClassifier(base_estimator=DecisionTreeClassifier(max_features=\"sqrt\"))\n",
    "\n",
    "randforest.fit(X_train, y_train)"
   ]
  },
  {
   "cell_type": "code",
   "execution_count": 10,
   "metadata": {},
   "outputs": [],
   "source": [
    "def saveModel(model, name, X_test, y_test, params=None, dir='curr_models', gradBoost=False, xgBoost=False):\n",
    "    \n",
    "    \n",
    "    if not path.exists(f\"{dir}/{name}.pkl\"):\n",
    "        print(\"does not exist\")\n",
    "\n",
    "        pickle.dump(model, open(f'{dir}/{name}.pkl', 'wb'))\n",
    "    else:\n",
    "        predictions = model.predict(X_test)\n",
    "        currAcc = accuracy_score(y_test, predictions)\n",
    "\n",
    "        pickled_model = pickle.load(open(f'{dir}/{name}.pkl', 'rb'))\n",
    "        \n",
    "        if gradBoost:\n",
    "            # get features here \n",
    "            cols_when_model_builds = pickled_model.feature_names_in_\n",
    "            X_test=X_test[cols_when_model_builds]\n",
    "        elif xgBoost:\n",
    "            # put features into the same order that the model was trained in\n",
    "            cols_when_model_builds = pickled_model.get_booster().feature_names\n",
    "            X_test=X_test[cols_when_model_builds]\n",
    "        \n",
    "        picklePredictions=pickled_model.predict(X_test)\n",
    "        pickleAcc=accuracy_score(y_test, picklePredictions)\n",
    "        \n",
    "        if currAcc > pickleAcc:\n",
    "            print(\"update!\")\n",
    "            print(confusion_matrix(y_test, picklePredictions))\n",
    "\n",
    "            print(\"curr\", currAcc, \"pickle\", pickleAcc)\n",
    "            pickle.dump(model, open(f'{dir}/{name}.pkl', 'wb'))\n",
    "\n",
    "            if params != None:\n",
    "                pickle.dump(params, open(f'{dir}/{name}-params.pkl', 'wb'))\n",
    "        else:\n",
    "            print(\"no update\")\n",
    "            print(\"curr\", currAcc, \"pickle\", pickleAcc)\n",
    "            model=pickled_model\n",
    "    return model"
   ]
  },
  {
   "cell_type": "code",
   "execution_count": 11,
   "metadata": {},
   "outputs": [
    {
     "name": "stdout",
     "output_type": "stream",
     "text": [
      "update!\n",
      "[[1612   22]\n",
      " [ 251    1]]\n",
      "curr 0.9459172852598091 pickle 0.8552492046659597\n",
      "0.9459172852598091\n"
     ]
    },
    {
     "name": "stderr",
     "output_type": "stream",
     "text": [
      "/Users/benjaminli/opt/miniconda3/envs/seq/lib/python3.8/site-packages/sklearn/base.py:493: FutureWarning: The feature names should match those that were passed during fit. Starting version 1.2, an error will be raised.\n",
      "Feature names must be in the same order as they were in fit.\n",
      "\n",
      "  warnings.warn(message, FutureWarning)\n"
     ]
    }
   ],
   "source": [
    "saveModel(randforest, \"randforest\", X_test, y_test)\n",
    "\n",
    "predictions = randforest.predict(X_test)\n",
    "print(accuracy_score(y_test, predictions))\n",
    "\n",
    "# for i in range(1000):\n",
    "#     predictions[i] != y_test_list[i] and print(predictions[i], \"vs\", y_test_list[i])"
   ]
  },
  {
   "cell_type": "code",
   "execution_count": 12,
   "metadata": {},
   "outputs": [
    {
     "name": "stdout",
     "output_type": "stream",
     "text": [
      "0.9459172852598091\n"
     ]
    }
   ],
   "source": [
    "probability_predictions = randforest.predict_proba(X_test)\n",
    "preds = randforest.predict(X_test)\n",
    "print(accuracy_score(y_test, preds))\n"
   ]
  },
  {
   "cell_type": "code",
   "execution_count": 13,
   "metadata": {},
   "outputs": [
    {
     "name": "stdout",
     "output_type": "stream",
     "text": [
      "Learning rate:  0.05\n",
      "Accuracy score (validation): 0.957\n",
      "no update\n",
      "curr 0.957051961823966 pickle 0.9623541887592789\n",
      "Learning rate:  0.075\n",
      "Accuracy score (validation): 0.959\n",
      "no update\n",
      "curr 0.95864262990456 pickle 0.9623541887592789\n",
      "Learning rate:  0.1\n",
      "Accuracy score (validation): 0.957\n",
      "no update\n",
      "curr 0.957051961823966 pickle 0.9623541887592789\n",
      "Learning rate:  0.15\n",
      "Accuracy score (validation): 0.958\n",
      "no update\n",
      "curr 0.9581124072110286 pickle 0.9623541887592789\n",
      "Learning rate:  0.2\n",
      "Accuracy score (validation): 0.956\n",
      "no update\n",
      "curr 0.9559915164369035 pickle 0.9623541887592789\n",
      "Learning rate:  0.25\n",
      "Accuracy score (validation): 0.959\n",
      "no update\n",
      "curr 0.9591728525980912 pickle 0.9623541887592789\n",
      "Learning rate:  0.3\n",
      "Accuracy score (validation): 0.957\n",
      "no update\n",
      "curr 0.9565217391304348 pickle 0.9623541887592789\n",
      "Learning rate:  0.35\n",
      "Accuracy score (validation): 0.955\n",
      "no update\n",
      "curr 0.954931071049841 pickle 0.9623541887592789\n",
      "Learning rate:  0.4\n",
      "Accuracy score (validation): 0.953\n",
      "no update\n",
      "curr 0.9528101802757158 pickle 0.9623541887592789\n",
      "Learning rate:  0.45\n",
      "Accuracy score (validation): 0.957\n",
      "no update\n",
      "curr 0.957051961823966 pickle 0.9623541887592789\n",
      "Learning rate:  0.5\n",
      "Accuracy score (validation): 0.958\n",
      "no update\n",
      "curr 0.9581124072110286 pickle 0.9623541887592789\n",
      "Learning rate:  0.55\n",
      "Accuracy score (validation): 0.955\n",
      "no update\n",
      "curr 0.954931071049841 pickle 0.9623541887592789\n",
      "Learning rate:  0.6\n",
      "Accuracy score (validation): 0.951\n",
      "no update\n",
      "curr 0.9506892895015907 pickle 0.9623541887592789\n",
      "Learning rate:  0.65\n",
      "Accuracy score (validation): 0.911\n",
      "no update\n",
      "curr 0.9109225874867445 pickle 0.9623541887592789\n",
      "Learning rate:  0.7\n",
      "Accuracy score (validation): 0.950\n",
      "no update\n",
      "curr 0.9501590668080594 pickle 0.9623541887592789\n",
      "Learning rate:  0.75\n",
      "Accuracy score (validation): 0.859\n",
      "no update\n",
      "curr 0.8594909862142099 pickle 0.9623541887592789\n",
      "Learning rate:  0.8\n",
      "Accuracy score (validation): 0.875\n",
      "no update\n",
      "curr 0.8753976670201484 pickle 0.9623541887592789\n",
      "Learning rate:  0.85\n",
      "Accuracy score (validation): 0.944\n",
      "no update\n",
      "curr 0.943796394485684 pickle 0.9623541887592789\n",
      "Learning rate:  1\n",
      "Accuracy score (validation): 0.789\n",
      "no update\n",
      "curr 0.7889713679745494 pickle 0.9623541887592789\n"
     ]
    }
   ],
   "source": [
    "lr_list = [0.05, 0.075, 0.1, 0.15, 0.2, 0.25, 0.3, 0.35, 0.4, 0.45, 0.5, 0.55, 0.6, 0.65,0.7, 0.75, 0.8, 0.85, 1]\n",
    "\n",
    "parameters={\n",
    "   \"n_estimators\":100, # 200 kind of overfits I think\n",
    "    \"max_features\":2,\n",
    "    \"max_depth\":6,\n",
    "    \"random_state\":0,\n",
    "    \"min_sample_split\":50,\n",
    "    \"subsample\":0.8\n",
    "    # \"warm_start\":True\n",
    "}\n",
    "\n",
    "\n",
    "\n",
    "for learning_rate in lr_list:\n",
    "    gradBoost = GradientBoostingClassifier(n_estimators=parameters['n_estimators'], \n",
    "    learning_rate=learning_rate, max_features=parameters['max_features'], \n",
    "    max_depth=parameters['max_depth'], random_state=parameters['random_state'], \n",
    "    min_samples_split=parameters['min_sample_split'], subsample=parameters['subsample']\n",
    "    )\n",
    "\n",
    "    parameters['learning_rate']=learning_rate\n",
    "    gradBoost.fit(X_train, y_train)\n",
    "\n",
    "    testingAcc = accuracy_score(y_test, gradBoost.predict(X_test))\n",
    "    trainingAcc = accuracy_score(y_train, gradBoost.predict(X_train))\n",
    "    \n",
    "    print(\"Learning rate: \", learning_rate)\n",
    "    # print(\"Accuracy score (training): {0:.3f}\".format(trainingAcc))\n",
    "    print(\"Accuracy score (validation): {0:.3f}\".format(testingAcc))\n",
    "    # print(f\"Feature importance {gradBoost.feature_importances_}\")\n",
    "\n",
    "    # pickle.dump(gradBoost, open('gradBoost.pkl', 'wb'))\n",
    "    saveModel(gradBoost, \"gradBoost\", X_test, y_test, parameters, gradBoost=True)"
   ]
  },
  {
   "cell_type": "code",
   "execution_count": 14,
   "metadata": {},
   "outputs": [
    {
     "name": "stdout",
     "output_type": "stream",
     "text": [
      "Learning rate:  0.05\n",
      "Accuracy score (validation): 0.958\n",
      "no update\n",
      "curr 0.9575821845174973 pickle 0.9655355249204666\n",
      "Learning rate:  0.075\n",
      "Accuracy score (validation): 0.962\n",
      "no update\n",
      "curr 0.9618239660657476 pickle 0.9655355249204666\n",
      "Learning rate:  0.1\n",
      "Accuracy score (validation): 0.958\n",
      "no update\n",
      "curr 0.9581124072110286 pickle 0.9655355249204666\n",
      "Learning rate:  0.15\n",
      "Accuracy score (validation): 0.959\n",
      "no update\n",
      "curr 0.9591728525980912 pickle 0.9655355249204666\n",
      "Learning rate:  0.2\n",
      "Accuracy score (validation): 0.966\n",
      "no update\n",
      "curr 0.9655355249204666 pickle 0.9655355249204666\n",
      "Learning rate:  0.25\n",
      "Accuracy score (validation): 0.963\n",
      "no update\n",
      "curr 0.9628844114528102 pickle 0.9655355249204666\n",
      "Learning rate:  0.3\n",
      "Accuracy score (validation): 0.963\n",
      "no update\n",
      "curr 0.9634146341463414 pickle 0.9655355249204666\n",
      "Learning rate:  0.35\n",
      "Accuracy score (validation): 0.962\n",
      "no update\n",
      "curr 0.9618239660657476 pickle 0.9655355249204666\n",
      "Learning rate:  0.4\n",
      "Accuracy score (validation): 0.963\n",
      "no update\n",
      "curr 0.9628844114528102 pickle 0.9655355249204666\n",
      "Learning rate:  0.45\n",
      "Accuracy score (validation): 0.961\n",
      "no update\n",
      "curr 0.9612937433722163 pickle 0.9655355249204666\n",
      "Learning rate:  0.5\n",
      "Accuracy score (validation): 0.960\n",
      "no update\n",
      "curr 0.9602332979851538 pickle 0.9655355249204666\n",
      "Learning rate:  0.55\n",
      "Accuracy score (validation): 0.962\n",
      "no update\n",
      "curr 0.9623541887592789 pickle 0.9655355249204666\n",
      "Learning rate:  0.6\n",
      "Accuracy score (validation): 0.960\n",
      "no update\n",
      "curr 0.9602332979851538 pickle 0.9655355249204666\n",
      "Learning rate:  0.65\n",
      "Accuracy score (validation): 0.961\n",
      "no update\n",
      "curr 0.9612937433722163 pickle 0.9655355249204666\n",
      "Learning rate:  0.7\n",
      "Accuracy score (validation): 0.959\n",
      "no update\n",
      "curr 0.95864262990456 pickle 0.9655355249204666\n",
      "Learning rate:  0.75\n",
      "Accuracy score (validation): 0.960\n",
      "no update\n",
      "curr 0.9602332979851538 pickle 0.9655355249204666\n",
      "Learning rate:  0.8\n",
      "Accuracy score (validation): 0.964\n",
      "no update\n",
      "curr 0.9644750795334041 pickle 0.9655355249204666\n",
      "Learning rate:  0.85\n",
      "Accuracy score (validation): 0.960\n",
      "no update\n",
      "curr 0.9602332979851538 pickle 0.9655355249204666\n",
      "Learning rate:  1\n",
      "Accuracy score (validation): 0.961\n",
      "no update\n",
      "curr 0.9612937433722163 pickle 0.9655355249204666\n"
     ]
    }
   ],
   "source": [
    "lr_list = [0.05, 0.075, 0.1, 0.15, 0.2, 0.25, 0.3, 0.35, 0.4, 0.45, 0.5, 0.55, 0.6, 0.65,0.7, 0.75, 0.8, 0.85, 1]\n",
    "\n",
    "parameters={\n",
    "   \"n_estimators\":100, # 200 kind of overfits I think\n",
    "    \"max_features\":2,\n",
    "    \"max_depth\":6,\n",
    "    \"random_state\":0,\n",
    "    \"min_sample_split\":50,\n",
    "    \"subsample\":0.8,\n",
    "    \"warm_start\":True\n",
    "}\n",
    "\n",
    "\n",
    "\n",
    "for learning_rate in lr_list:\n",
    "    xgBoost = XGBClassifier(n_estimators=parameters['n_estimators'], \n",
    "    learning_rate=learning_rate, \n",
    "    max_depth=parameters['max_depth'], random_state=parameters['random_state'], \n",
    "    subsample=parameters['subsample'], \n",
    "    )\n",
    "\n",
    "    parameters['learning_rate']=learning_rate\n",
    "    xgBoost.fit(X_train, y_train)\n",
    "\n",
    "    testingAcc = accuracy_score(y_test, xgBoost.predict(X_test))\n",
    "    trainingAcc = accuracy_score(y_train, xgBoost.predict(X_train))\n",
    "    \n",
    "    print(\"Learning rate: \", learning_rate)\n",
    "    # print(\"Accuracy score (training): {0:.3f}\".format(trainingAcc))\n",
    "    print(\"Accuracy score (validation): {0:.3f}\".format(testingAcc))\n",
    "    # print(f\"Feature importance {gradBoost.feature_importances_}\")\n",
    "\n",
    "    # pickle.dump(gradBoost, open('gradBoost.pkl', 'wb'))\n",
    "    saveModel(xgBoost, \"xgBoost\", X_test, y_test, parameters, xgBoost=True)"
   ]
  },
  {
   "cell_type": "code",
   "execution_count": 15,
   "metadata": {},
   "outputs": [
    {
     "name": "stdout",
     "output_type": "stream",
     "text": [
      "{'n_estimators': 100, 'max_features': 2, 'max_depth': 6, 'random_state': 0, 'min_sample_split': 50, 'subsample': 0.8, 'warm_start': True, 'learning_rate': 0.4}\n",
      "{'n_estimators': 100, 'max_features': 2, 'max_depth': 6, 'random_state': 0, 'min_sample_split': 50, 'subsample': 0.8, 'warm_start': True, 'learning_rate': 0.35}\n",
      "Best GB Accuracy:  0.9623541887592789\n",
      "Balanced GB Accuracy:  0.8809426667443804\n",
      "Best rF Accuracy:  0.8547189819724285\n",
      "Balanced rF Accuracy:  0.49662431271978397\n"
     ]
    },
    {
     "name": "stderr",
     "output_type": "stream",
     "text": [
      "/Users/benjaminli/opt/miniconda3/envs/seq/lib/python3.8/site-packages/sklearn/base.py:493: FutureWarning: The feature names should match those that were passed during fit. Starting version 1.2, an error will be raised.\n",
      "Feature names must be in the same order as they were in fit.\n",
      "\n",
      "  warnings.warn(message, FutureWarning)\n",
      "/Users/benjaminli/opt/miniconda3/envs/seq/lib/python3.8/site-packages/sklearn/base.py:493: FutureWarning: The feature names should match those that were passed during fit. Starting version 1.2, an error will be raised.\n",
      "Feature names must be in the same order as they were in fit.\n",
      "\n",
      "  warnings.warn(message, FutureWarning)\n"
     ]
    }
   ],
   "source": [
    "# Models within \"orig_models\" folder have the highest training acc but not as great cross val\n",
    "\n",
    "best_xgboost = pickle.load(open('curr_models/xgBoost.pkl', 'rb'))\n",
    "best_xgboost_params = pickle.load(open('curr_models/xgBoost-params.pkl', 'rb'))\n",
    "\n",
    "best_gradBoost = pickle.load(open('curr_models/gradBoost.pkl', 'rb'))\n",
    "best_gradBoost_params = pickle.load(open('curr_models/gradBoost-params.pkl', 'rb'))\n",
    "\n",
    "best_rF = pickle.load(open('curr_models/randforest.pkl', 'rb'))\n",
    "\n",
    "print(best_xgboost_params)\n",
    "print(best_gradBoost_params)\n",
    "\n",
    "\n",
    "# print(\"Best XG Accuracy: \", accuracy_score(y_test, best_xgboost.predict(X_test)))\n",
    "# print(\"Balanced XG Accuracy: \", balanced_accuracy_score(y_test, best_xgboost.predict(X_test)))\n",
    "cols_when_model_builds = best_gradBoost.feature_names_in_\n",
    "X_test=X_test[cols_when_model_builds]\n",
    "\n",
    "print(\"Best GB Accuracy: \", accuracy_score(y_test, best_gradBoost.predict(X_test)))\n",
    "print(\"Balanced GB Accuracy: \", balanced_accuracy_score(y_test, best_gradBoost.predict(X_test)))\n",
    "\n",
    "print(\"Best rF Accuracy: \", accuracy_score(y_test, best_rF.predict(X_test)))\n",
    "print(\"Balanced rF Accuracy: \", balanced_accuracy_score(y_test, best_rF.predict(X_test)))"
   ]
  },
  {
   "cell_type": "code",
   "execution_count": 16,
   "metadata": {},
   "outputs": [
    {
     "name": "stdout",
     "output_type": "stream",
     "text": [
      "precision recall: 0.9150372384473479\n",
      "[0.00045723 0.00013599 0.00065591 ... 0.00053945 0.00509031 0.01590035]\n"
     ]
    },
    {
     "data": {
      "image/png": "[encoded data removed]",
      "text/plain": [
       "<Figure size 640x480 with 1 Axes>"
      ]
     },
     "metadata": {},
     "output_type": "display_data"
    }
   ],
   "source": [
    "y_thing = y_test.to_numpy()\n",
    "precision, recall, thresholds = precision_recall_curve(y_thing, best_gradBoost.predict_proba(X_test)[::,1])\n",
    "aaa = auc(recall, precision)\n",
    "print(\"precision recall: \" + str(aaa))\n",
    "\n",
    "y_pred_proba = best_gradBoost.predict_proba(X_test)[::,1]\n",
    "fpr, tpr, _ = roc_curve(y_test, y_pred_proba)\n",
    "auc_thing = roc_auc_score(y_test, y_pred_proba)\n",
    "\n",
    "print(y_pred_proba)\n",
    "plt.plot(fpr,tpr,label=\"AUC=\"+str(auc_thing))\n",
    "plt.ylabel('True Positive Rate')\n",
    "plt.xlabel('False Positive Rate')\n",
    "plt.legend(loc=4)\n",
    "plt.show()\n"
   ]
  },
  {
   "cell_type": "code",
   "execution_count": 17,
   "metadata": {},
   "outputs": [
    {
     "name": "stdout",
     "output_type": "stream",
     "text": [
      "[0.3 0.1 0.1 ... 0.1 0.3 0.2]\n"
     ]
    },
    {
     "name": "stderr",
     "output_type": "stream",
     "text": [
      "/Users/benjaminli/opt/miniconda3/envs/seq/lib/python3.8/site-packages/sklearn/base.py:493: FutureWarning: The feature names should match those that were passed during fit. Starting version 1.2, an error will be raised.\n",
      "Feature names must be in the same order as they were in fit.\n",
      "\n",
      "  warnings.warn(message, FutureWarning)\n"
     ]
    },
    {
     "data": {
      "image/png": "[encoded data removed]",
      "text/plain": [
       "<Figure size 640x480 with 1 Axes>"
      ]
     },
     "metadata": {},
     "output_type": "display_data"
    }
   ],
   "source": [
    "y_pred_proba = best_rF.predict_proba(X_test)[::,1]\n",
    "fpr, tpr, _ = roc_curve(y_test, y_pred_proba)\n",
    "auc_thing = roc_auc_score(y_test, y_pred_proba)\n",
    "\n",
    "print(y_pred_proba)\n",
    "plt.plot(fpr,tpr,label=\"AUC=\"+str(auc_thing))\n",
    "plt.ylabel('True Positive Rate')\n",
    "plt.xlabel('False Positive Rate')\n",
    "plt.legend(loc=4)\n",
    "plt.show()"
   ]
  },
  {
   "cell_type": "code",
   "execution_count": 18,
   "metadata": {},
   "outputs": [
    {
     "name": "stdout",
     "output_type": "stream",
     "text": [
      "Accuracy: 0.946 (0.014)\n"
     ]
    }
   ],
   "source": [
    "cv = RepeatedStratifiedKFold(n_splits=10, n_repeats=3, random_state=1)\n",
    "n_scores = cross_val_score(best_gradBoost, X_test, y_test, scoring='accuracy', cv=cv, n_jobs=-1, error_score='raise')\n",
    "print('Accuracy: %.3f (%.3f)' % (mean(n_scores), std(n_scores)))"
   ]
  },
  {
   "cell_type": "code",
   "execution_count": 19,
   "metadata": {},
   "outputs": [
    {
     "name": "stdout",
     "output_type": "stream",
     "text": [
      "Accuracy: 0.907 (0.019)\n"
     ]
    }
   ],
   "source": [
    "cv = RepeatedStratifiedKFold(n_splits=10, n_repeats=3, random_state=1)\n",
    "n_scores = cross_val_score(best_rF, X_test, y_test, scoring='accuracy', cv=cv, n_jobs=-1, error_score='raise')\n",
    "print('Accuracy: %.3f (%.3f)' % (mean(n_scores), std(n_scores)))"
   ]
  }
 ],
 "metadata": {
  "kernelspec": {
   "display_name": "Python 3.8.13 ('seq')",
   "language": "python",
   "name": "python3"
  },
  "language_info": {
   "codemirror_mode": {
    "name": "ipython",
    "version": 3
   },
   "file_extension": ".py",
   "mimetype": "text/x-python",
   "name": "python",
   "nbconvert_exporter": "python",
   "pygments_lexer": "ipython3",
   "version": "3.8.13"
  },
  "orig_nbformat": 4,
  "vscode": {
   "interpreter": {
    "hash": "e1360c63304de9435a2a3572d38e6c9496b6fb5d1617f35fbc8638664d664ab4"
   }
  }
 },
 "nbformat": 4,
 "nbformat_minor": 2
}
