{
 "cells": [
  {
   "cell_type": "code",
   "execution_count": 2,
   "metadata": {},
   "outputs": [],
   "source": [
    "import gzip\n",
    "import os\n",
    "from Bio import SeqIO, Entrez\n",
    "import pandas as pd\n",
    "import matplotlib.pyplot as plt\n",
    "import numpy as np\n",
    "from collections import OrderedDict\n",
    "\n",
    "Entrez.email = input(\"enter email\")"
   ]
  },
  {
   "cell_type": "code",
   "execution_count": 5,
   "metadata": {},
   "outputs": [],
   "source": [
    "#unzip each gz file in the refseq directory\n",
    "num = 0\n",
    "with gzip.open('../data/lineage/ncbi_lineages_2022-12-25.csv.gz', 'rb') as f_in:\n",
    "    with open('../data/lineage/lineages.csv', 'wb') as f_out:\n",
    "        f_out.write(f_in.read())\n",
    "        # num+=1\n",
    "\n",
    "# print(f'Unzipped {num} files')"
   ]
  },
  {
   "cell_type": "code",
   "execution_count": 6,
   "metadata": {},
   "outputs": [
    {
     "name": "stderr",
     "output_type": "stream",
     "text": [
      "/var/folders/vf/6r913rfx607_3y64x5l2zw4r0000gn/T/ipykernel_27160/1973181399.py:1: DtypeWarning: Columns (7,8,11,12,13,14,15,16,17,18,19,20,28,30,31,32,33,35,36,38,41,42,43,44,45,46,47,48,49,50,51,52,54,55,56,57,60,61,62,63,64,65,66,67,68) have mixed types. Specify dtype option on import or set low_memory=False.\n",
      "  lineages = pd.read_csv('../data/lineage/lineages.csv')\n"
     ]
    },
    {
     "name": "stdout",
     "output_type": "stream",
     "text": [
      "   tax_id superkingdom          phylum                class             order  \\\n",
      "0       1          NaN             NaN                  NaN               NaN   \n",
      "1       2     Bacteria             NaN                  NaN               NaN   \n",
      "2       6     Bacteria  Proteobacteria  Alphaproteobacteria  Hyphomicrobiales   \n",
      "3       7     Bacteria  Proteobacteria  Alphaproteobacteria  Hyphomicrobiales   \n",
      "4       9     Bacteria  Proteobacteria  Gammaproteobacteria  Enterobacterales   \n",
      "\n",
      "              family         genus                   species biotype clade  \\\n",
      "0                NaN           NaN                       NaN     NaN   NaN   \n",
      "1                NaN           NaN                       NaN     NaN   NaN   \n",
      "2  Xanthobacteraceae  Azorhizobium                       NaN     NaN   NaN   \n",
      "3  Xanthobacteraceae  Azorhizobium  Azorhizobium caulinodans     NaN   NaN   \n",
      "4        Erwiniaceae      Buchnera       Buchnera aphidicola     NaN   NaN   \n",
      "\n",
      "   ... subphylum subsection subspecies subtribe superclass superfamily  \\\n",
      "0  ...       NaN        NaN        NaN      NaN        NaN         NaN   \n",
      "1  ...       NaN        NaN        NaN      NaN        NaN         NaN   \n",
      "2  ...       NaN        NaN        NaN      NaN        NaN         NaN   \n",
      "3  ...       NaN        NaN        NaN      NaN        NaN         NaN   \n",
      "4  ...       NaN        NaN        NaN      NaN        NaN         NaN   \n",
      "\n",
      "  superorder superphylum tribe varietas  \n",
      "0        NaN         NaN   NaN      NaN  \n",
      "1        NaN         NaN   NaN      NaN  \n",
      "2        NaN         NaN   NaN      NaN  \n",
      "3        NaN         NaN   NaN      NaN  \n",
      "4        NaN         NaN   NaN      NaN  \n",
      "\n",
      "[5 rows x 69 columns]\n"
     ]
    }
   ],
   "source": [
    "lineages = pd.read_csv('../data/lineage/lineages.csv')\n",
    "print(lineages.head())"
   ]
  },
  {
   "cell_type": "code",
   "execution_count": 13,
   "metadata": {},
   "outputs": [
    {
     "name": "stdout",
     "output_type": "stream",
     "text": [
      "  accession accession.version  taxid        gi\n",
      "0    A12106            A12106      0    489462\n",
      "1    A12371            A12371      0    640579\n",
      "2    A12541            A12541      0    489533\n",
      "3    A12543            A12543      0    489535\n",
      "4    A13660          A13660.1  32630  27764020\n"
     ]
    }
   ],
   "source": [
    "acctotax = pd.read_csv('../data/acctotax.csv', sep='\\t')\n",
    "print(acctotax.head())"
   ]
  },
  {
   "cell_type": "code",
   "execution_count": 16,
   "metadata": {},
   "outputs": [
    {
     "name": "stdout",
     "output_type": "stream",
     "text": [
      "Empty DataFrame\n",
      "Columns: [accession, accession.version, taxid, gi]\n",
      "Index: []\n"
     ]
    },
    {
     "name": "stderr",
     "output_type": "stream",
     "text": [
      "/var/folders/vf/6r913rfx607_3y64x5l2zw4r0000gn/T/ipykernel_27160/2688147201.py:23: FutureWarning: The frame.append method is deprecated and will be removed from pandas in a future version. Use pandas.concat instead.\n",
      "  temp = temp.append({'ID': acctotax[acctotax['accession']==val['ID']], 'DNA Sequence': val['DNA Sequence'], 'isZoonotic': val['isZoonotic']}, ignore_index=True)\n"
     ]
    },
    {
     "name": "stdout",
     "output_type": "stream",
     "text": [
      "Empty DataFrame\n",
      "Columns: [accession, accession.version, taxid, gi]\n",
      "Index: []\n"
     ]
    },
    {
     "name": "stderr",
     "output_type": "stream",
     "text": [
      "/var/folders/vf/6r913rfx607_3y64x5l2zw4r0000gn/T/ipykernel_27160/2688147201.py:23: FutureWarning: The frame.append method is deprecated and will be removed from pandas in a future version. Use pandas.concat instead.\n",
      "  temp = temp.append({'ID': acctotax[acctotax['accession']==val['ID']], 'DNA Sequence': val['DNA Sequence'], 'isZoonotic': val['isZoonotic']}, ignore_index=True)\n"
     ]
    },
    {
     "name": "stdout",
     "output_type": "stream",
     "text": [
      "Empty DataFrame\n",
      "Columns: [accession, accession.version, taxid, gi]\n",
      "Index: []\n"
     ]
    },
    {
     "name": "stderr",
     "output_type": "stream",
     "text": [
      "/var/folders/vf/6r913rfx607_3y64x5l2zw4r0000gn/T/ipykernel_27160/2688147201.py:23: FutureWarning: The frame.append method is deprecated and will be removed from pandas in a future version. Use pandas.concat instead.\n",
      "  temp = temp.append({'ID': acctotax[acctotax['accession']==val['ID']], 'DNA Sequence': val['DNA Sequence'], 'isZoonotic': val['isZoonotic']}, ignore_index=True)\n"
     ]
    },
    {
     "name": "stdout",
     "output_type": "stream",
     "text": [
      "Empty DataFrame\n",
      "Columns: [accession, accession.version, taxid, gi]\n",
      "Index: []\n"
     ]
    },
    {
     "name": "stderr",
     "output_type": "stream",
     "text": [
      "/var/folders/vf/6r913rfx607_3y64x5l2zw4r0000gn/T/ipykernel_27160/2688147201.py:23: FutureWarning: The frame.append method is deprecated and will be removed from pandas in a future version. Use pandas.concat instead.\n",
      "  temp = temp.append({'ID': acctotax[acctotax['accession']==val['ID']], 'DNA Sequence': val['DNA Sequence'], 'isZoonotic': val['isZoonotic']}, ignore_index=True)\n"
     ]
    },
    {
     "name": "stdout",
     "output_type": "stream",
     "text": [
      "Empty DataFrame\n",
      "Columns: [accession, accession.version, taxid, gi]\n",
      "Index: []\n"
     ]
    },
    {
     "name": "stderr",
     "output_type": "stream",
     "text": [
      "/var/folders/vf/6r913rfx607_3y64x5l2zw4r0000gn/T/ipykernel_27160/2688147201.py:23: FutureWarning: The frame.append method is deprecated and will be removed from pandas in a future version. Use pandas.concat instead.\n",
      "  temp = temp.append({'ID': acctotax[acctotax['accession']==val['ID']], 'DNA Sequence': val['DNA Sequence'], 'isZoonotic': val['isZoonotic']}, ignore_index=True)\n"
     ]
    },
    {
     "name": "stdout",
     "output_type": "stream",
     "text": [
      "Empty DataFrame\n",
      "Columns: [accession, accession.version, taxid, gi]\n",
      "Index: []\n"
     ]
    },
    {
     "name": "stderr",
     "output_type": "stream",
     "text": [
      "/var/folders/vf/6r913rfx607_3y64x5l2zw4r0000gn/T/ipykernel_27160/2688147201.py:23: FutureWarning: The frame.append method is deprecated and will be removed from pandas in a future version. Use pandas.concat instead.\n",
      "  temp = temp.append({'ID': acctotax[acctotax['accession']==val['ID']], 'DNA Sequence': val['DNA Sequence'], 'isZoonotic': val['isZoonotic']}, ignore_index=True)\n"
     ]
    },
    {
     "name": "stdout",
     "output_type": "stream",
     "text": [
      "Empty DataFrame\n",
      "Columns: [accession, accession.version, taxid, gi]\n",
      "Index: []\n"
     ]
    },
    {
     "name": "stderr",
     "output_type": "stream",
     "text": [
      "/var/folders/vf/6r913rfx607_3y64x5l2zw4r0000gn/T/ipykernel_27160/2688147201.py:23: FutureWarning: The frame.append method is deprecated and will be removed from pandas in a future version. Use pandas.concat instead.\n",
      "  temp = temp.append({'ID': acctotax[acctotax['accession']==val['ID']], 'DNA Sequence': val['DNA Sequence'], 'isZoonotic': val['isZoonotic']}, ignore_index=True)\n"
     ]
    },
    {
     "name": "stdout",
     "output_type": "stream",
     "text": [
      "Empty DataFrame\n",
      "Columns: [accession, accession.version, taxid, gi]\n",
      "Index: []\n"
     ]
    },
    {
     "name": "stderr",
     "output_type": "stream",
     "text": [
      "/var/folders/vf/6r913rfx607_3y64x5l2zw4r0000gn/T/ipykernel_27160/2688147201.py:23: FutureWarning: The frame.append method is deprecated and will be removed from pandas in a future version. Use pandas.concat instead.\n",
      "  temp = temp.append({'ID': acctotax[acctotax['accession']==val['ID']], 'DNA Sequence': val['DNA Sequence'], 'isZoonotic': val['isZoonotic']}, ignore_index=True)\n"
     ]
    },
    {
     "name": "stdout",
     "output_type": "stream",
     "text": [
      "Empty DataFrame\n",
      "Columns: [accession, accession.version, taxid, gi]\n",
      "Index: []\n"
     ]
    },
    {
     "name": "stderr",
     "output_type": "stream",
     "text": [
      "/var/folders/vf/6r913rfx607_3y64x5l2zw4r0000gn/T/ipykernel_27160/2688147201.py:23: FutureWarning: The frame.append method is deprecated and will be removed from pandas in a future version. Use pandas.concat instead.\n",
      "  temp = temp.append({'ID': acctotax[acctotax['accession']==val['ID']], 'DNA Sequence': val['DNA Sequence'], 'isZoonotic': val['isZoonotic']}, ignore_index=True)\n"
     ]
    },
    {
     "name": "stdout",
     "output_type": "stream",
     "text": [
      "Empty DataFrame\n",
      "Columns: [accession, accession.version, taxid, gi]\n",
      "Index: []\n"
     ]
    },
    {
     "name": "stderr",
     "output_type": "stream",
     "text": [
      "/var/folders/vf/6r913rfx607_3y64x5l2zw4r0000gn/T/ipykernel_27160/2688147201.py:23: FutureWarning: The frame.append method is deprecated and will be removed from pandas in a future version. Use pandas.concat instead.\n",
      "  temp = temp.append({'ID': acctotax[acctotax['accession']==val['ID']], 'DNA Sequence': val['DNA Sequence'], 'isZoonotic': val['isZoonotic']}, ignore_index=True)\n"
     ]
    },
    {
     "name": "stdout",
     "output_type": "stream",
     "text": [
      "Empty DataFrame\n",
      "Columns: [accession, accession.version, taxid, gi]\n",
      "Index: []\n"
     ]
    },
    {
     "name": "stderr",
     "output_type": "stream",
     "text": [
      "/var/folders/vf/6r913rfx607_3y64x5l2zw4r0000gn/T/ipykernel_27160/2688147201.py:23: FutureWarning: The frame.append method is deprecated and will be removed from pandas in a future version. Use pandas.concat instead.\n",
      "  temp = temp.append({'ID': acctotax[acctotax['accession']==val['ID']], 'DNA Sequence': val['DNA Sequence'], 'isZoonotic': val['isZoonotic']}, ignore_index=True)\n"
     ]
    },
    {
     "name": "stdout",
     "output_type": "stream",
     "text": [
      "Empty DataFrame\n",
      "Columns: [accession, accession.version, taxid, gi]\n",
      "Index: []\n"
     ]
    },
    {
     "name": "stderr",
     "output_type": "stream",
     "text": [
      "/var/folders/vf/6r913rfx607_3y64x5l2zw4r0000gn/T/ipykernel_27160/2688147201.py:23: FutureWarning: The frame.append method is deprecated and will be removed from pandas in a future version. Use pandas.concat instead.\n",
      "  temp = temp.append({'ID': acctotax[acctotax['accession']==val['ID']], 'DNA Sequence': val['DNA Sequence'], 'isZoonotic': val['isZoonotic']}, ignore_index=True)\n"
     ]
    },
    {
     "name": "stdout",
     "output_type": "stream",
     "text": [
      "Empty DataFrame\n",
      "Columns: [accession, accession.version, taxid, gi]\n",
      "Index: []\n"
     ]
    },
    {
     "name": "stderr",
     "output_type": "stream",
     "text": [
      "/var/folders/vf/6r913rfx607_3y64x5l2zw4r0000gn/T/ipykernel_27160/2688147201.py:23: FutureWarning: The frame.append method is deprecated and will be removed from pandas in a future version. Use pandas.concat instead.\n",
      "  temp = temp.append({'ID': acctotax[acctotax['accession']==val['ID']], 'DNA Sequence': val['DNA Sequence'], 'isZoonotic': val['isZoonotic']}, ignore_index=True)\n"
     ]
    },
    {
     "name": "stdout",
     "output_type": "stream",
     "text": [
      "Empty DataFrame\n",
      "Columns: [accession, accession.version, taxid, gi]\n",
      "Index: []\n"
     ]
    },
    {
     "name": "stderr",
     "output_type": "stream",
     "text": [
      "/var/folders/vf/6r913rfx607_3y64x5l2zw4r0000gn/T/ipykernel_27160/2688147201.py:23: FutureWarning: The frame.append method is deprecated and will be removed from pandas in a future version. Use pandas.concat instead.\n",
      "  temp = temp.append({'ID': acctotax[acctotax['accession']==val['ID']], 'DNA Sequence': val['DNA Sequence'], 'isZoonotic': val['isZoonotic']}, ignore_index=True)\n"
     ]
    },
    {
     "name": "stdout",
     "output_type": "stream",
     "text": [
      "Empty DataFrame\n",
      "Columns: [accession, accession.version, taxid, gi]\n",
      "Index: []\n"
     ]
    },
    {
     "name": "stderr",
     "output_type": "stream",
     "text": [
      "/var/folders/vf/6r913rfx607_3y64x5l2zw4r0000gn/T/ipykernel_27160/2688147201.py:23: FutureWarning: The frame.append method is deprecated and will be removed from pandas in a future version. Use pandas.concat instead.\n",
      "  temp = temp.append({'ID': acctotax[acctotax['accession']==val['ID']], 'DNA Sequence': val['DNA Sequence'], 'isZoonotic': val['isZoonotic']}, ignore_index=True)\n"
     ]
    },
    {
     "name": "stdout",
     "output_type": "stream",
     "text": [
      "Empty DataFrame\n",
      "Columns: [accession, accession.version, taxid, gi]\n",
      "Index: []\n"
     ]
    },
    {
     "name": "stderr",
     "output_type": "stream",
     "text": [
      "/var/folders/vf/6r913rfx607_3y64x5l2zw4r0000gn/T/ipykernel_27160/2688147201.py:23: FutureWarning: The frame.append method is deprecated and will be removed from pandas in a future version. Use pandas.concat instead.\n",
      "  temp = temp.append({'ID': acctotax[acctotax['accession']==val['ID']], 'DNA Sequence': val['DNA Sequence'], 'isZoonotic': val['isZoonotic']}, ignore_index=True)\n"
     ]
    },
    {
     "name": "stdout",
     "output_type": "stream",
     "text": [
      "Empty DataFrame\n",
      "Columns: [accession, accession.version, taxid, gi]\n",
      "Index: []\n"
     ]
    },
    {
     "name": "stderr",
     "output_type": "stream",
     "text": [
      "/var/folders/vf/6r913rfx607_3y64x5l2zw4r0000gn/T/ipykernel_27160/2688147201.py:23: FutureWarning: The frame.append method is deprecated and will be removed from pandas in a future version. Use pandas.concat instead.\n",
      "  temp = temp.append({'ID': acctotax[acctotax['accession']==val['ID']], 'DNA Sequence': val['DNA Sequence'], 'isZoonotic': val['isZoonotic']}, ignore_index=True)\n"
     ]
    },
    {
     "name": "stdout",
     "output_type": "stream",
     "text": [
      "Empty DataFrame\n",
      "Columns: [accession, accession.version, taxid, gi]\n",
      "Index: []\n"
     ]
    },
    {
     "name": "stderr",
     "output_type": "stream",
     "text": [
      "/var/folders/vf/6r913rfx607_3y64x5l2zw4r0000gn/T/ipykernel_27160/2688147201.py:23: FutureWarning: The frame.append method is deprecated and will be removed from pandas in a future version. Use pandas.concat instead.\n",
      "  temp = temp.append({'ID': acctotax[acctotax['accession']==val['ID']], 'DNA Sequence': val['DNA Sequence'], 'isZoonotic': val['isZoonotic']}, ignore_index=True)\n"
     ]
    },
    {
     "name": "stdout",
     "output_type": "stream",
     "text": [
      "Empty DataFrame\n",
      "Columns: [accession, accession.version, taxid, gi]\n",
      "Index: []\n"
     ]
    },
    {
     "name": "stderr",
     "output_type": "stream",
     "text": [
      "/var/folders/vf/6r913rfx607_3y64x5l2zw4r0000gn/T/ipykernel_27160/2688147201.py:23: FutureWarning: The frame.append method is deprecated and will be removed from pandas in a future version. Use pandas.concat instead.\n",
      "  temp = temp.append({'ID': acctotax[acctotax['accession']==val['ID']], 'DNA Sequence': val['DNA Sequence'], 'isZoonotic': val['isZoonotic']}, ignore_index=True)\n"
     ]
    },
    {
     "name": "stdout",
     "output_type": "stream",
     "text": [
      "Empty DataFrame\n",
      "Columns: [accession, accession.version, taxid, gi]\n",
      "Index: []\n"
     ]
    },
    {
     "name": "stderr",
     "output_type": "stream",
     "text": [
      "/var/folders/vf/6r913rfx607_3y64x5l2zw4r0000gn/T/ipykernel_27160/2688147201.py:23: FutureWarning: The frame.append method is deprecated and will be removed from pandas in a future version. Use pandas.concat instead.\n",
      "  temp = temp.append({'ID': acctotax[acctotax['accession']==val['ID']], 'DNA Sequence': val['DNA Sequence'], 'isZoonotic': val['isZoonotic']}, ignore_index=True)\n"
     ]
    },
    {
     "name": "stdout",
     "output_type": "stream",
     "text": [
      "Empty DataFrame\n",
      "Columns: [accession, accession.version, taxid, gi]\n",
      "Index: []\n"
     ]
    },
    {
     "name": "stderr",
     "output_type": "stream",
     "text": [
      "/var/folders/vf/6r913rfx607_3y64x5l2zw4r0000gn/T/ipykernel_27160/2688147201.py:23: FutureWarning: The frame.append method is deprecated and will be removed from pandas in a future version. Use pandas.concat instead.\n",
      "  temp = temp.append({'ID': acctotax[acctotax['accession']==val['ID']], 'DNA Sequence': val['DNA Sequence'], 'isZoonotic': val['isZoonotic']}, ignore_index=True)\n"
     ]
    },
    {
     "name": "stdout",
     "output_type": "stream",
     "text": [
      "Empty DataFrame\n",
      "Columns: [accession, accession.version, taxid, gi]\n",
      "Index: []\n"
     ]
    },
    {
     "name": "stderr",
     "output_type": "stream",
     "text": [
      "/var/folders/vf/6r913rfx607_3y64x5l2zw4r0000gn/T/ipykernel_27160/2688147201.py:23: FutureWarning: The frame.append method is deprecated and will be removed from pandas in a future version. Use pandas.concat instead.\n",
      "  temp = temp.append({'ID': acctotax[acctotax['accession']==val['ID']], 'DNA Sequence': val['DNA Sequence'], 'isZoonotic': val['isZoonotic']}, ignore_index=True)\n"
     ]
    },
    {
     "name": "stdout",
     "output_type": "stream",
     "text": [
      "Empty DataFrame\n",
      "Columns: [accession, accession.version, taxid, gi]\n",
      "Index: []\n"
     ]
    },
    {
     "name": "stderr",
     "output_type": "stream",
     "text": [
      "/var/folders/vf/6r913rfx607_3y64x5l2zw4r0000gn/T/ipykernel_27160/2688147201.py:23: FutureWarning: The frame.append method is deprecated and will be removed from pandas in a future version. Use pandas.concat instead.\n",
      "  temp = temp.append({'ID': acctotax[acctotax['accession']==val['ID']], 'DNA Sequence': val['DNA Sequence'], 'isZoonotic': val['isZoonotic']}, ignore_index=True)\n"
     ]
    },
    {
     "name": "stdout",
     "output_type": "stream",
     "text": [
      "Empty DataFrame\n",
      "Columns: [accession, accession.version, taxid, gi]\n",
      "Index: []\n"
     ]
    },
    {
     "name": "stderr",
     "output_type": "stream",
     "text": [
      "/var/folders/vf/6r913rfx607_3y64x5l2zw4r0000gn/T/ipykernel_27160/2688147201.py:23: FutureWarning: The frame.append method is deprecated and will be removed from pandas in a future version. Use pandas.concat instead.\n",
      "  temp = temp.append({'ID': acctotax[acctotax['accession']==val['ID']], 'DNA Sequence': val['DNA Sequence'], 'isZoonotic': val['isZoonotic']}, ignore_index=True)\n"
     ]
    },
    {
     "name": "stdout",
     "output_type": "stream",
     "text": [
      "Empty DataFrame\n",
      "Columns: [accession, accession.version, taxid, gi]\n",
      "Index: []\n"
     ]
    },
    {
     "name": "stderr",
     "output_type": "stream",
     "text": [
      "/var/folders/vf/6r913rfx607_3y64x5l2zw4r0000gn/T/ipykernel_27160/2688147201.py:23: FutureWarning: The frame.append method is deprecated and will be removed from pandas in a future version. Use pandas.concat instead.\n",
      "  temp = temp.append({'ID': acctotax[acctotax['accession']==val['ID']], 'DNA Sequence': val['DNA Sequence'], 'isZoonotic': val['isZoonotic']}, ignore_index=True)\n"
     ]
    },
    {
     "name": "stdout",
     "output_type": "stream",
     "text": [
      "Empty DataFrame\n",
      "Columns: [accession, accession.version, taxid, gi]\n",
      "Index: []\n"
     ]
    },
    {
     "name": "stderr",
     "output_type": "stream",
     "text": [
      "/var/folders/vf/6r913rfx607_3y64x5l2zw4r0000gn/T/ipykernel_27160/2688147201.py:23: FutureWarning: The frame.append method is deprecated and will be removed from pandas in a future version. Use pandas.concat instead.\n",
      "  temp = temp.append({'ID': acctotax[acctotax['accession']==val['ID']], 'DNA Sequence': val['DNA Sequence'], 'isZoonotic': val['isZoonotic']}, ignore_index=True)\n"
     ]
    },
    {
     "name": "stdout",
     "output_type": "stream",
     "text": [
      "Empty DataFrame\n",
      "Columns: [accession, accession.version, taxid, gi]\n",
      "Index: []\n"
     ]
    },
    {
     "name": "stderr",
     "output_type": "stream",
     "text": [
      "/var/folders/vf/6r913rfx607_3y64x5l2zw4r0000gn/T/ipykernel_27160/2688147201.py:23: FutureWarning: The frame.append method is deprecated and will be removed from pandas in a future version. Use pandas.concat instead.\n",
      "  temp = temp.append({'ID': acctotax[acctotax['accession']==val['ID']], 'DNA Sequence': val['DNA Sequence'], 'isZoonotic': val['isZoonotic']}, ignore_index=True)\n"
     ]
    },
    {
     "name": "stdout",
     "output_type": "stream",
     "text": [
      "Empty DataFrame\n",
      "Columns: [accession, accession.version, taxid, gi]\n",
      "Index: []\n"
     ]
    },
    {
     "name": "stderr",
     "output_type": "stream",
     "text": [
      "/var/folders/vf/6r913rfx607_3y64x5l2zw4r0000gn/T/ipykernel_27160/2688147201.py:23: FutureWarning: The frame.append method is deprecated and will be removed from pandas in a future version. Use pandas.concat instead.\n",
      "  temp = temp.append({'ID': acctotax[acctotax['accession']==val['ID']], 'DNA Sequence': val['DNA Sequence'], 'isZoonotic': val['isZoonotic']}, ignore_index=True)\n"
     ]
    },
    {
     "name": "stdout",
     "output_type": "stream",
     "text": [
      "Empty DataFrame\n",
      "Columns: [accession, accession.version, taxid, gi]\n",
      "Index: []\n"
     ]
    },
    {
     "name": "stderr",
     "output_type": "stream",
     "text": [
      "/var/folders/vf/6r913rfx607_3y64x5l2zw4r0000gn/T/ipykernel_27160/2688147201.py:23: FutureWarning: The frame.append method is deprecated and will be removed from pandas in a future version. Use pandas.concat instead.\n",
      "  temp = temp.append({'ID': acctotax[acctotax['accession']==val['ID']], 'DNA Sequence': val['DNA Sequence'], 'isZoonotic': val['isZoonotic']}, ignore_index=True)\n"
     ]
    },
    {
     "name": "stdout",
     "output_type": "stream",
     "text": [
      "Empty DataFrame\n",
      "Columns: [accession, accession.version, taxid, gi]\n",
      "Index: []\n"
     ]
    },
    {
     "name": "stderr",
     "output_type": "stream",
     "text": [
      "/var/folders/vf/6r913rfx607_3y64x5l2zw4r0000gn/T/ipykernel_27160/2688147201.py:23: FutureWarning: The frame.append method is deprecated and will be removed from pandas in a future version. Use pandas.concat instead.\n",
      "  temp = temp.append({'ID': acctotax[acctotax['accession']==val['ID']], 'DNA Sequence': val['DNA Sequence'], 'isZoonotic': val['isZoonotic']}, ignore_index=True)\n"
     ]
    },
    {
     "name": "stdout",
     "output_type": "stream",
     "text": [
      "Empty DataFrame\n",
      "Columns: [accession, accession.version, taxid, gi]\n",
      "Index: []\n"
     ]
    },
    {
     "name": "stderr",
     "output_type": "stream",
     "text": [
      "/var/folders/vf/6r913rfx607_3y64x5l2zw4r0000gn/T/ipykernel_27160/2688147201.py:23: FutureWarning: The frame.append method is deprecated and will be removed from pandas in a future version. Use pandas.concat instead.\n",
      "  temp = temp.append({'ID': acctotax[acctotax['accession']==val['ID']], 'DNA Sequence': val['DNA Sequence'], 'isZoonotic': val['isZoonotic']}, ignore_index=True)\n"
     ]
    },
    {
     "name": "stdout",
     "output_type": "stream",
     "text": [
      "Empty DataFrame\n",
      "Columns: [accession, accession.version, taxid, gi]\n",
      "Index: []\n"
     ]
    },
    {
     "name": "stderr",
     "output_type": "stream",
     "text": [
      "/var/folders/vf/6r913rfx607_3y64x5l2zw4r0000gn/T/ipykernel_27160/2688147201.py:23: FutureWarning: The frame.append method is deprecated and will be removed from pandas in a future version. Use pandas.concat instead.\n",
      "  temp = temp.append({'ID': acctotax[acctotax['accession']==val['ID']], 'DNA Sequence': val['DNA Sequence'], 'isZoonotic': val['isZoonotic']}, ignore_index=True)\n"
     ]
    },
    {
     "name": "stdout",
     "output_type": "stream",
     "text": [
      "Empty DataFrame\n",
      "Columns: [accession, accession.version, taxid, gi]\n",
      "Index: []\n"
     ]
    },
    {
     "name": "stderr",
     "output_type": "stream",
     "text": [
      "/var/folders/vf/6r913rfx607_3y64x5l2zw4r0000gn/T/ipykernel_27160/2688147201.py:23: FutureWarning: The frame.append method is deprecated and will be removed from pandas in a future version. Use pandas.concat instead.\n",
      "  temp = temp.append({'ID': acctotax[acctotax['accession']==val['ID']], 'DNA Sequence': val['DNA Sequence'], 'isZoonotic': val['isZoonotic']}, ignore_index=True)\n"
     ]
    },
    {
     "name": "stdout",
     "output_type": "stream",
     "text": [
      "Empty DataFrame\n",
      "Columns: [accession, accession.version, taxid, gi]\n",
      "Index: []\n"
     ]
    },
    {
     "name": "stderr",
     "output_type": "stream",
     "text": [
      "/var/folders/vf/6r913rfx607_3y64x5l2zw4r0000gn/T/ipykernel_27160/2688147201.py:23: FutureWarning: The frame.append method is deprecated and will be removed from pandas in a future version. Use pandas.concat instead.\n",
      "  temp = temp.append({'ID': acctotax[acctotax['accession']==val['ID']], 'DNA Sequence': val['DNA Sequence'], 'isZoonotic': val['isZoonotic']}, ignore_index=True)\n"
     ]
    },
    {
     "name": "stdout",
     "output_type": "stream",
     "text": [
      "Empty DataFrame\n",
      "Columns: [accession, accession.version, taxid, gi]\n",
      "Index: []\n"
     ]
    },
    {
     "name": "stderr",
     "output_type": "stream",
     "text": [
      "/var/folders/vf/6r913rfx607_3y64x5l2zw4r0000gn/T/ipykernel_27160/2688147201.py:23: FutureWarning: The frame.append method is deprecated and will be removed from pandas in a future version. Use pandas.concat instead.\n",
      "  temp = temp.append({'ID': acctotax[acctotax['accession']==val['ID']], 'DNA Sequence': val['DNA Sequence'], 'isZoonotic': val['isZoonotic']}, ignore_index=True)\n"
     ]
    },
    {
     "name": "stdout",
     "output_type": "stream",
     "text": [
      "Empty DataFrame\n",
      "Columns: [accession, accession.version, taxid, gi]\n",
      "Index: []\n"
     ]
    },
    {
     "name": "stderr",
     "output_type": "stream",
     "text": [
      "/var/folders/vf/6r913rfx607_3y64x5l2zw4r0000gn/T/ipykernel_27160/2688147201.py:23: FutureWarning: The frame.append method is deprecated and will be removed from pandas in a future version. Use pandas.concat instead.\n",
      "  temp = temp.append({'ID': acctotax[acctotax['accession']==val['ID']], 'DNA Sequence': val['DNA Sequence'], 'isZoonotic': val['isZoonotic']}, ignore_index=True)\n"
     ]
    },
    {
     "name": "stdout",
     "output_type": "stream",
     "text": [
      "Empty DataFrame\n",
      "Columns: [accession, accession.version, taxid, gi]\n",
      "Index: []\n"
     ]
    },
    {
     "name": "stderr",
     "output_type": "stream",
     "text": [
      "/var/folders/vf/6r913rfx607_3y64x5l2zw4r0000gn/T/ipykernel_27160/2688147201.py:23: FutureWarning: The frame.append method is deprecated and will be removed from pandas in a future version. Use pandas.concat instead.\n",
      "  temp = temp.append({'ID': acctotax[acctotax['accession']==val['ID']], 'DNA Sequence': val['DNA Sequence'], 'isZoonotic': val['isZoonotic']}, ignore_index=True)\n"
     ]
    },
    {
     "name": "stdout",
     "output_type": "stream",
     "text": [
      "Empty DataFrame\n",
      "Columns: [accession, accession.version, taxid, gi]\n",
      "Index: []\n"
     ]
    },
    {
     "name": "stderr",
     "output_type": "stream",
     "text": [
      "/var/folders/vf/6r913rfx607_3y64x5l2zw4r0000gn/T/ipykernel_27160/2688147201.py:23: FutureWarning: The frame.append method is deprecated and will be removed from pandas in a future version. Use pandas.concat instead.\n",
      "  temp = temp.append({'ID': acctotax[acctotax['accession']==val['ID']], 'DNA Sequence': val['DNA Sequence'], 'isZoonotic': val['isZoonotic']}, ignore_index=True)\n"
     ]
    },
    {
     "name": "stdout",
     "output_type": "stream",
     "text": [
      "Empty DataFrame\n",
      "Columns: [accession, accession.version, taxid, gi]\n",
      "Index: []\n"
     ]
    },
    {
     "name": "stderr",
     "output_type": "stream",
     "text": [
      "/var/folders/vf/6r913rfx607_3y64x5l2zw4r0000gn/T/ipykernel_27160/2688147201.py:23: FutureWarning: The frame.append method is deprecated and will be removed from pandas in a future version. Use pandas.concat instead.\n",
      "  temp = temp.append({'ID': acctotax[acctotax['accession']==val['ID']], 'DNA Sequence': val['DNA Sequence'], 'isZoonotic': val['isZoonotic']}, ignore_index=True)\n"
     ]
    },
    {
     "name": "stdout",
     "output_type": "stream",
     "text": [
      "Empty DataFrame\n",
      "Columns: [accession, accession.version, taxid, gi]\n",
      "Index: []\n"
     ]
    },
    {
     "name": "stderr",
     "output_type": "stream",
     "text": [
      "/var/folders/vf/6r913rfx607_3y64x5l2zw4r0000gn/T/ipykernel_27160/2688147201.py:23: FutureWarning: The frame.append method is deprecated and will be removed from pandas in a future version. Use pandas.concat instead.\n",
      "  temp = temp.append({'ID': acctotax[acctotax['accession']==val['ID']], 'DNA Sequence': val['DNA Sequence'], 'isZoonotic': val['isZoonotic']}, ignore_index=True)\n"
     ]
    },
    {
     "name": "stdout",
     "output_type": "stream",
     "text": [
      "Empty DataFrame\n",
      "Columns: [accession, accession.version, taxid, gi]\n",
      "Index: []\n"
     ]
    },
    {
     "name": "stderr",
     "output_type": "stream",
     "text": [
      "/var/folders/vf/6r913rfx607_3y64x5l2zw4r0000gn/T/ipykernel_27160/2688147201.py:23: FutureWarning: The frame.append method is deprecated and will be removed from pandas in a future version. Use pandas.concat instead.\n",
      "  temp = temp.append({'ID': acctotax[acctotax['accession']==val['ID']], 'DNA Sequence': val['DNA Sequence'], 'isZoonotic': val['isZoonotic']}, ignore_index=True)\n"
     ]
    },
    {
     "name": "stdout",
     "output_type": "stream",
     "text": [
      "Empty DataFrame\n",
      "Columns: [accession, accession.version, taxid, gi]\n",
      "Index: []\n"
     ]
    },
    {
     "name": "stderr",
     "output_type": "stream",
     "text": [
      "/var/folders/vf/6r913rfx607_3y64x5l2zw4r0000gn/T/ipykernel_27160/2688147201.py:23: FutureWarning: The frame.append method is deprecated and will be removed from pandas in a future version. Use pandas.concat instead.\n",
      "  temp = temp.append({'ID': acctotax[acctotax['accession']==val['ID']], 'DNA Sequence': val['DNA Sequence'], 'isZoonotic': val['isZoonotic']}, ignore_index=True)\n"
     ]
    },
    {
     "name": "stdout",
     "output_type": "stream",
     "text": [
      "Empty DataFrame\n",
      "Columns: [accession, accession.version, taxid, gi]\n",
      "Index: []\n"
     ]
    },
    {
     "name": "stderr",
     "output_type": "stream",
     "text": [
      "/var/folders/vf/6r913rfx607_3y64x5l2zw4r0000gn/T/ipykernel_27160/2688147201.py:23: FutureWarning: The frame.append method is deprecated and will be removed from pandas in a future version. Use pandas.concat instead.\n",
      "  temp = temp.append({'ID': acctotax[acctotax['accession']==val['ID']], 'DNA Sequence': val['DNA Sequence'], 'isZoonotic': val['isZoonotic']}, ignore_index=True)\n"
     ]
    },
    {
     "name": "stdout",
     "output_type": "stream",
     "text": [
      "Empty DataFrame\n",
      "Columns: [accession, accession.version, taxid, gi]\n",
      "Index: []\n"
     ]
    },
    {
     "name": "stderr",
     "output_type": "stream",
     "text": [
      "/var/folders/vf/6r913rfx607_3y64x5l2zw4r0000gn/T/ipykernel_27160/2688147201.py:23: FutureWarning: The frame.append method is deprecated and will be removed from pandas in a future version. Use pandas.concat instead.\n",
      "  temp = temp.append({'ID': acctotax[acctotax['accession']==val['ID']], 'DNA Sequence': val['DNA Sequence'], 'isZoonotic': val['isZoonotic']}, ignore_index=True)\n"
     ]
    },
    {
     "name": "stdout",
     "output_type": "stream",
     "text": [
      "Empty DataFrame\n",
      "Columns: [accession, accession.version, taxid, gi]\n",
      "Index: []\n"
     ]
    },
    {
     "name": "stderr",
     "output_type": "stream",
     "text": [
      "/var/folders/vf/6r913rfx607_3y64x5l2zw4r0000gn/T/ipykernel_27160/2688147201.py:23: FutureWarning: The frame.append method is deprecated and will be removed from pandas in a future version. Use pandas.concat instead.\n",
      "  temp = temp.append({'ID': acctotax[acctotax['accession']==val['ID']], 'DNA Sequence': val['DNA Sequence'], 'isZoonotic': val['isZoonotic']}, ignore_index=True)\n"
     ]
    },
    {
     "name": "stdout",
     "output_type": "stream",
     "text": [
      "Empty DataFrame\n",
      "Columns: [accession, accession.version, taxid, gi]\n",
      "Index: []\n"
     ]
    },
    {
     "name": "stderr",
     "output_type": "stream",
     "text": [
      "/var/folders/vf/6r913rfx607_3y64x5l2zw4r0000gn/T/ipykernel_27160/2688147201.py:23: FutureWarning: The frame.append method is deprecated and will be removed from pandas in a future version. Use pandas.concat instead.\n",
      "  temp = temp.append({'ID': acctotax[acctotax['accession']==val['ID']], 'DNA Sequence': val['DNA Sequence'], 'isZoonotic': val['isZoonotic']}, ignore_index=True)\n"
     ]
    },
    {
     "name": "stdout",
     "output_type": "stream",
     "text": [
      "Empty DataFrame\n",
      "Columns: [accession, accession.version, taxid, gi]\n",
      "Index: []\n"
     ]
    },
    {
     "name": "stderr",
     "output_type": "stream",
     "text": [
      "/var/folders/vf/6r913rfx607_3y64x5l2zw4r0000gn/T/ipykernel_27160/2688147201.py:23: FutureWarning: The frame.append method is deprecated and will be removed from pandas in a future version. Use pandas.concat instead.\n",
      "  temp = temp.append({'ID': acctotax[acctotax['accession']==val['ID']], 'DNA Sequence': val['DNA Sequence'], 'isZoonotic': val['isZoonotic']}, ignore_index=True)\n"
     ]
    },
    {
     "name": "stdout",
     "output_type": "stream",
     "text": [
      "Empty DataFrame\n",
      "Columns: [accession, accession.version, taxid, gi]\n",
      "Index: []\n"
     ]
    },
    {
     "name": "stderr",
     "output_type": "stream",
     "text": [
      "/var/folders/vf/6r913rfx607_3y64x5l2zw4r0000gn/T/ipykernel_27160/2688147201.py:23: FutureWarning: The frame.append method is deprecated and will be removed from pandas in a future version. Use pandas.concat instead.\n",
      "  temp = temp.append({'ID': acctotax[acctotax['accession']==val['ID']], 'DNA Sequence': val['DNA Sequence'], 'isZoonotic': val['isZoonotic']}, ignore_index=True)\n"
     ]
    },
    {
     "name": "stdout",
     "output_type": "stream",
     "text": [
      "Empty DataFrame\n",
      "Columns: [accession, accession.version, taxid, gi]\n",
      "Index: []\n"
     ]
    },
    {
     "name": "stderr",
     "output_type": "stream",
     "text": [
      "/var/folders/vf/6r913rfx607_3y64x5l2zw4r0000gn/T/ipykernel_27160/2688147201.py:23: FutureWarning: The frame.append method is deprecated and will be removed from pandas in a future version. Use pandas.concat instead.\n",
      "  temp = temp.append({'ID': acctotax[acctotax['accession']==val['ID']], 'DNA Sequence': val['DNA Sequence'], 'isZoonotic': val['isZoonotic']}, ignore_index=True)\n"
     ]
    },
    {
     "name": "stdout",
     "output_type": "stream",
     "text": [
      "Empty DataFrame\n",
      "Columns: [accession, accession.version, taxid, gi]\n",
      "Index: []\n"
     ]
    },
    {
     "name": "stderr",
     "output_type": "stream",
     "text": [
      "/var/folders/vf/6r913rfx607_3y64x5l2zw4r0000gn/T/ipykernel_27160/2688147201.py:23: FutureWarning: The frame.append method is deprecated and will be removed from pandas in a future version. Use pandas.concat instead.\n",
      "  temp = temp.append({'ID': acctotax[acctotax['accession']==val['ID']], 'DNA Sequence': val['DNA Sequence'], 'isZoonotic': val['isZoonotic']}, ignore_index=True)\n"
     ]
    },
    {
     "name": "stdout",
     "output_type": "stream",
     "text": [
      "Empty DataFrame\n",
      "Columns: [accession, accession.version, taxid, gi]\n",
      "Index: []\n"
     ]
    },
    {
     "name": "stderr",
     "output_type": "stream",
     "text": [
      "/var/folders/vf/6r913rfx607_3y64x5l2zw4r0000gn/T/ipykernel_27160/2688147201.py:23: FutureWarning: The frame.append method is deprecated and will be removed from pandas in a future version. Use pandas.concat instead.\n",
      "  temp = temp.append({'ID': acctotax[acctotax['accession']==val['ID']], 'DNA Sequence': val['DNA Sequence'], 'isZoonotic': val['isZoonotic']}, ignore_index=True)\n"
     ]
    },
    {
     "name": "stdout",
     "output_type": "stream",
     "text": [
      "Empty DataFrame\n",
      "Columns: [accession, accession.version, taxid, gi]\n",
      "Index: []\n"
     ]
    },
    {
     "name": "stderr",
     "output_type": "stream",
     "text": [
      "/var/folders/vf/6r913rfx607_3y64x5l2zw4r0000gn/T/ipykernel_27160/2688147201.py:23: FutureWarning: The frame.append method is deprecated and will be removed from pandas in a future version. Use pandas.concat instead.\n",
      "  temp = temp.append({'ID': acctotax[acctotax['accession']==val['ID']], 'DNA Sequence': val['DNA Sequence'], 'isZoonotic': val['isZoonotic']}, ignore_index=True)\n"
     ]
    },
    {
     "name": "stdout",
     "output_type": "stream",
     "text": [
      "Empty DataFrame\n",
      "Columns: [accession, accession.version, taxid, gi]\n",
      "Index: []\n"
     ]
    },
    {
     "name": "stderr",
     "output_type": "stream",
     "text": [
      "/var/folders/vf/6r913rfx607_3y64x5l2zw4r0000gn/T/ipykernel_27160/2688147201.py:23: FutureWarning: The frame.append method is deprecated and will be removed from pandas in a future version. Use pandas.concat instead.\n",
      "  temp = temp.append({'ID': acctotax[acctotax['accession']==val['ID']], 'DNA Sequence': val['DNA Sequence'], 'isZoonotic': val['isZoonotic']}, ignore_index=True)\n"
     ]
    },
    {
     "name": "stdout",
     "output_type": "stream",
     "text": [
      "Empty DataFrame\n",
      "Columns: [accession, accession.version, taxid, gi]\n",
      "Index: []\n"
     ]
    },
    {
     "name": "stderr",
     "output_type": "stream",
     "text": [
      "/var/folders/vf/6r913rfx607_3y64x5l2zw4r0000gn/T/ipykernel_27160/2688147201.py:23: FutureWarning: The frame.append method is deprecated and will be removed from pandas in a future version. Use pandas.concat instead.\n",
      "  temp = temp.append({'ID': acctotax[acctotax['accession']==val['ID']], 'DNA Sequence': val['DNA Sequence'], 'isZoonotic': val['isZoonotic']}, ignore_index=True)\n"
     ]
    },
    {
     "name": "stdout",
     "output_type": "stream",
     "text": [
      "Empty DataFrame\n",
      "Columns: [accession, accession.version, taxid, gi]\n",
      "Index: []\n"
     ]
    },
    {
     "name": "stderr",
     "output_type": "stream",
     "text": [
      "/var/folders/vf/6r913rfx607_3y64x5l2zw4r0000gn/T/ipykernel_27160/2688147201.py:23: FutureWarning: The frame.append method is deprecated and will be removed from pandas in a future version. Use pandas.concat instead.\n",
      "  temp = temp.append({'ID': acctotax[acctotax['accession']==val['ID']], 'DNA Sequence': val['DNA Sequence'], 'isZoonotic': val['isZoonotic']}, ignore_index=True)\n"
     ]
    },
    {
     "name": "stdout",
     "output_type": "stream",
     "text": [
      "Empty DataFrame\n",
      "Columns: [accession, accession.version, taxid, gi]\n",
      "Index: []\n"
     ]
    },
    {
     "name": "stderr",
     "output_type": "stream",
     "text": [
      "/var/folders/vf/6r913rfx607_3y64x5l2zw4r0000gn/T/ipykernel_27160/2688147201.py:23: FutureWarning: The frame.append method is deprecated and will be removed from pandas in a future version. Use pandas.concat instead.\n",
      "  temp = temp.append({'ID': acctotax[acctotax['accession']==val['ID']], 'DNA Sequence': val['DNA Sequence'], 'isZoonotic': val['isZoonotic']}, ignore_index=True)\n"
     ]
    },
    {
     "name": "stdout",
     "output_type": "stream",
     "text": [
      "Empty DataFrame\n",
      "Columns: [accession, accession.version, taxid, gi]\n",
      "Index: []\n"
     ]
    },
    {
     "name": "stderr",
     "output_type": "stream",
     "text": [
      "/var/folders/vf/6r913rfx607_3y64x5l2zw4r0000gn/T/ipykernel_27160/2688147201.py:23: FutureWarning: The frame.append method is deprecated and will be removed from pandas in a future version. Use pandas.concat instead.\n",
      "  temp = temp.append({'ID': acctotax[acctotax['accession']==val['ID']], 'DNA Sequence': val['DNA Sequence'], 'isZoonotic': val['isZoonotic']}, ignore_index=True)\n"
     ]
    },
    {
     "name": "stdout",
     "output_type": "stream",
     "text": [
      "Empty DataFrame\n",
      "Columns: [accession, accession.version, taxid, gi]\n",
      "Index: []\n"
     ]
    },
    {
     "name": "stderr",
     "output_type": "stream",
     "text": [
      "/var/folders/vf/6r913rfx607_3y64x5l2zw4r0000gn/T/ipykernel_27160/2688147201.py:23: FutureWarning: The frame.append method is deprecated and will be removed from pandas in a future version. Use pandas.concat instead.\n",
      "  temp = temp.append({'ID': acctotax[acctotax['accession']==val['ID']], 'DNA Sequence': val['DNA Sequence'], 'isZoonotic': val['isZoonotic']}, ignore_index=True)\n"
     ]
    },
    {
     "name": "stdout",
     "output_type": "stream",
     "text": [
      "Empty DataFrame\n",
      "Columns: [accession, accession.version, taxid, gi]\n",
      "Index: []\n"
     ]
    },
    {
     "name": "stderr",
     "output_type": "stream",
     "text": [
      "/var/folders/vf/6r913rfx607_3y64x5l2zw4r0000gn/T/ipykernel_27160/2688147201.py:23: FutureWarning: The frame.append method is deprecated and will be removed from pandas in a future version. Use pandas.concat instead.\n",
      "  temp = temp.append({'ID': acctotax[acctotax['accession']==val['ID']], 'DNA Sequence': val['DNA Sequence'], 'isZoonotic': val['isZoonotic']}, ignore_index=True)\n"
     ]
    },
    {
     "name": "stdout",
     "output_type": "stream",
     "text": [
      "Empty DataFrame\n",
      "Columns: [accession, accession.version, taxid, gi]\n",
      "Index: []\n"
     ]
    },
    {
     "name": "stderr",
     "output_type": "stream",
     "text": [
      "/var/folders/vf/6r913rfx607_3y64x5l2zw4r0000gn/T/ipykernel_27160/2688147201.py:23: FutureWarning: The frame.append method is deprecated and will be removed from pandas in a future version. Use pandas.concat instead.\n",
      "  temp = temp.append({'ID': acctotax[acctotax['accession']==val['ID']], 'DNA Sequence': val['DNA Sequence'], 'isZoonotic': val['isZoonotic']}, ignore_index=True)\n"
     ]
    },
    {
     "name": "stdout",
     "output_type": "stream",
     "text": [
      "Empty DataFrame\n",
      "Columns: [accession, accession.version, taxid, gi]\n",
      "Index: []\n"
     ]
    },
    {
     "name": "stderr",
     "output_type": "stream",
     "text": [
      "/var/folders/vf/6r913rfx607_3y64x5l2zw4r0000gn/T/ipykernel_27160/2688147201.py:23: FutureWarning: The frame.append method is deprecated and will be removed from pandas in a future version. Use pandas.concat instead.\n",
      "  temp = temp.append({'ID': acctotax[acctotax['accession']==val['ID']], 'DNA Sequence': val['DNA Sequence'], 'isZoonotic': val['isZoonotic']}, ignore_index=True)\n"
     ]
    },
    {
     "name": "stdout",
     "output_type": "stream",
     "text": [
      "Empty DataFrame\n",
      "Columns: [accession, accession.version, taxid, gi]\n",
      "Index: []\n"
     ]
    },
    {
     "name": "stderr",
     "output_type": "stream",
     "text": [
      "/var/folders/vf/6r913rfx607_3y64x5l2zw4r0000gn/T/ipykernel_27160/2688147201.py:23: FutureWarning: The frame.append method is deprecated and will be removed from pandas in a future version. Use pandas.concat instead.\n",
      "  temp = temp.append({'ID': acctotax[acctotax['accession']==val['ID']], 'DNA Sequence': val['DNA Sequence'], 'isZoonotic': val['isZoonotic']}, ignore_index=True)\n"
     ]
    },
    {
     "name": "stdout",
     "output_type": "stream",
     "text": [
      "Empty DataFrame\n",
      "Columns: [accession, accession.version, taxid, gi]\n",
      "Index: []\n"
     ]
    },
    {
     "name": "stderr",
     "output_type": "stream",
     "text": [
      "/var/folders/vf/6r913rfx607_3y64x5l2zw4r0000gn/T/ipykernel_27160/2688147201.py:23: FutureWarning: The frame.append method is deprecated and will be removed from pandas in a future version. Use pandas.concat instead.\n",
      "  temp = temp.append({'ID': acctotax[acctotax['accession']==val['ID']], 'DNA Sequence': val['DNA Sequence'], 'isZoonotic': val['isZoonotic']}, ignore_index=True)\n"
     ]
    },
    {
     "name": "stdout",
     "output_type": "stream",
     "text": [
      "Empty DataFrame\n",
      "Columns: [accession, accession.version, taxid, gi]\n",
      "Index: []\n"
     ]
    },
    {
     "name": "stderr",
     "output_type": "stream",
     "text": [
      "/var/folders/vf/6r913rfx607_3y64x5l2zw4r0000gn/T/ipykernel_27160/2688147201.py:23: FutureWarning: The frame.append method is deprecated and will be removed from pandas in a future version. Use pandas.concat instead.\n",
      "  temp = temp.append({'ID': acctotax[acctotax['accession']==val['ID']], 'DNA Sequence': val['DNA Sequence'], 'isZoonotic': val['isZoonotic']}, ignore_index=True)\n"
     ]
    },
    {
     "name": "stdout",
     "output_type": "stream",
     "text": [
      "Empty DataFrame\n",
      "Columns: [accession, accession.version, taxid, gi]\n",
      "Index: []\n"
     ]
    },
    {
     "name": "stderr",
     "output_type": "stream",
     "text": [
      "/var/folders/vf/6r913rfx607_3y64x5l2zw4r0000gn/T/ipykernel_27160/2688147201.py:23: FutureWarning: The frame.append method is deprecated and will be removed from pandas in a future version. Use pandas.concat instead.\n",
      "  temp = temp.append({'ID': acctotax[acctotax['accession']==val['ID']], 'DNA Sequence': val['DNA Sequence'], 'isZoonotic': val['isZoonotic']}, ignore_index=True)\n"
     ]
    },
    {
     "name": "stdout",
     "output_type": "stream",
     "text": [
      "Empty DataFrame\n",
      "Columns: [accession, accession.version, taxid, gi]\n",
      "Index: []\n"
     ]
    },
    {
     "name": "stderr",
     "output_type": "stream",
     "text": [
      "/var/folders/vf/6r913rfx607_3y64x5l2zw4r0000gn/T/ipykernel_27160/2688147201.py:23: FutureWarning: The frame.append method is deprecated and will be removed from pandas in a future version. Use pandas.concat instead.\n",
      "  temp = temp.append({'ID': acctotax[acctotax['accession']==val['ID']], 'DNA Sequence': val['DNA Sequence'], 'isZoonotic': val['isZoonotic']}, ignore_index=True)\n"
     ]
    },
    {
     "name": "stdout",
     "output_type": "stream",
     "text": [
      "Empty DataFrame\n",
      "Columns: [accession, accession.version, taxid, gi]\n",
      "Index: []\n"
     ]
    },
    {
     "ename": "KeyboardInterrupt",
     "evalue": "",
     "output_type": "error",
     "traceback": [
      "\u001b[0;31m---------------------------------------------------------------------------\u001b[0m",
      "\u001b[0;31mKeyboardInterrupt\u001b[0m                         Traceback (most recent call last)",
      "\u001b[1;32m/Users/benjaminli/Documents/coding/scires/project/ncbistuff/x.ipynb Cell 5\u001b[0m in \u001b[0;36m<cell line: 20>\u001b[0;34m()\u001b[0m\n\u001b[1;32m     <a href='vscode-notebook-cell:/Users/benjaminli/Documents/coding/scires/project/ncbistuff/x.ipynb#W3sZmlsZQ%3D%3D?line=20'>21</a>\u001b[0m     val \u001b[39m=\u001b[39m nardus\u001b[39m.\u001b[39miloc[i]\n\u001b[1;32m     <a href='vscode-notebook-cell:/Users/benjaminli/Documents/coding/scires/project/ncbistuff/x.ipynb#W3sZmlsZQ%3D%3D?line=21'>22</a>\u001b[0m     \u001b[39mprint\u001b[39m(acctotax[acctotax[\u001b[39m'\u001b[39m\u001b[39maccession\u001b[39m\u001b[39m'\u001b[39m]\u001b[39m==\u001b[39mval[\u001b[39m'\u001b[39m\u001b[39mID\u001b[39m\u001b[39m'\u001b[39m]])\n\u001b[0;32m---> <a href='vscode-notebook-cell:/Users/benjaminli/Documents/coding/scires/project/ncbistuff/x.ipynb#W3sZmlsZQ%3D%3D?line=22'>23</a>\u001b[0m     temp \u001b[39m=\u001b[39m temp\u001b[39m.\u001b[39mappend({\u001b[39m'\u001b[39m\u001b[39mID\u001b[39m\u001b[39m'\u001b[39m: acctotax[acctotax[\u001b[39m'\u001b[39;49m\u001b[39maccession\u001b[39;49m\u001b[39m'\u001b[39;49m]\u001b[39m==\u001b[39;49mval[\u001b[39m'\u001b[39;49m\u001b[39mID\u001b[39;49m\u001b[39m'\u001b[39;49m]], \u001b[39m'\u001b[39m\u001b[39mDNA Sequence\u001b[39m\u001b[39m'\u001b[39m: val[\u001b[39m'\u001b[39m\u001b[39mDNA Sequence\u001b[39m\u001b[39m'\u001b[39m], \u001b[39m'\u001b[39m\u001b[39misZoonotic\u001b[39m\u001b[39m'\u001b[39m: val[\u001b[39m'\u001b[39m\u001b[39misZoonotic\u001b[39m\u001b[39m'\u001b[39m]}, ignore_index\u001b[39m=\u001b[39m\u001b[39mTrue\u001b[39;00m)\n\u001b[1;32m     <a href='vscode-notebook-cell:/Users/benjaminli/Documents/coding/scires/project/ncbistuff/x.ipynb#W3sZmlsZQ%3D%3D?line=24'>25</a>\u001b[0m \u001b[39mprint\u001b[39m(temp)\n\u001b[1;32m     <a href='vscode-notebook-cell:/Users/benjaminli/Documents/coding/scires/project/ncbistuff/x.ipynb#W3sZmlsZQ%3D%3D?line=26'>27</a>\u001b[0m df\u001b[39m.\u001b[39mreset_index(drop\u001b[39m=\u001b[39m\u001b[39mTrue\u001b[39;00m, inplace\u001b[39m=\u001b[39m\u001b[39mTrue\u001b[39;00m)\n",
      "File \u001b[0;32m~/opt/miniconda3/envs/seq/lib/python3.8/site-packages/pandas/core/ops/common.py:72\u001b[0m, in \u001b[0;36m_unpack_zerodim_and_defer.<locals>.new_method\u001b[0;34m(self, other)\u001b[0m\n\u001b[1;32m     68\u001b[0m             \u001b[39mreturn\u001b[39;00m \u001b[39mNotImplemented\u001b[39m\n\u001b[1;32m     70\u001b[0m other \u001b[39m=\u001b[39m item_from_zerodim(other)\n\u001b[0;32m---> 72\u001b[0m \u001b[39mreturn\u001b[39;00m method(\u001b[39mself\u001b[39;49m, other)\n",
      "File \u001b[0;32m~/opt/miniconda3/envs/seq/lib/python3.8/site-packages/pandas/core/arraylike.py:42\u001b[0m, in \u001b[0;36mOpsMixin.__eq__\u001b[0;34m(self, other)\u001b[0m\n\u001b[1;32m     40\u001b[0m \u001b[39m@unpack_zerodim_and_defer\u001b[39m(\u001b[39m\"\u001b[39m\u001b[39m__eq__\u001b[39m\u001b[39m\"\u001b[39m)\n\u001b[1;32m     41\u001b[0m \u001b[39mdef\u001b[39;00m \u001b[39m__eq__\u001b[39m(\u001b[39mself\u001b[39m, other):\n\u001b[0;32m---> 42\u001b[0m     \u001b[39mreturn\u001b[39;00m \u001b[39mself\u001b[39;49m\u001b[39m.\u001b[39;49m_cmp_method(other, operator\u001b[39m.\u001b[39;49meq)\n",
      "File \u001b[0;32m~/opt/miniconda3/envs/seq/lib/python3.8/site-packages/pandas/core/series.py:6243\u001b[0m, in \u001b[0;36mSeries._cmp_method\u001b[0;34m(self, other, op)\u001b[0m\n\u001b[1;32m   6240\u001b[0m rvalues \u001b[39m=\u001b[39m extract_array(other, extract_numpy\u001b[39m=\u001b[39m\u001b[39mTrue\u001b[39;00m, extract_range\u001b[39m=\u001b[39m\u001b[39mTrue\u001b[39;00m)\n\u001b[1;32m   6242\u001b[0m \u001b[39mwith\u001b[39;00m np\u001b[39m.\u001b[39merrstate(\u001b[39mall\u001b[39m\u001b[39m=\u001b[39m\u001b[39m\"\u001b[39m\u001b[39mignore\u001b[39m\u001b[39m\"\u001b[39m):\n\u001b[0;32m-> 6243\u001b[0m     res_values \u001b[39m=\u001b[39m ops\u001b[39m.\u001b[39;49mcomparison_op(lvalues, rvalues, op)\n\u001b[1;32m   6245\u001b[0m \u001b[39mreturn\u001b[39;00m \u001b[39mself\u001b[39m\u001b[39m.\u001b[39m_construct_result(res_values, name\u001b[39m=\u001b[39mres_name)\n",
      "File \u001b[0;32m~/opt/miniconda3/envs/seq/lib/python3.8/site-packages/pandas/core/ops/array_ops.py:287\u001b[0m, in \u001b[0;36mcomparison_op\u001b[0;34m(left, right, op)\u001b[0m\n\u001b[1;32m    284\u001b[0m     \u001b[39mreturn\u001b[39;00m invalid_comparison(lvalues, rvalues, op)\n\u001b[1;32m    286\u001b[0m \u001b[39melif\u001b[39;00m is_object_dtype(lvalues\u001b[39m.\u001b[39mdtype) \u001b[39mor\u001b[39;00m \u001b[39misinstance\u001b[39m(rvalues, \u001b[39mstr\u001b[39m):\n\u001b[0;32m--> 287\u001b[0m     res_values \u001b[39m=\u001b[39m comp_method_OBJECT_ARRAY(op, lvalues, rvalues)\n\u001b[1;32m    289\u001b[0m \u001b[39melse\u001b[39;00m:\n\u001b[1;32m    290\u001b[0m     res_values \u001b[39m=\u001b[39m _na_arithmetic_op(lvalues, rvalues, op, is_cmp\u001b[39m=\u001b[39m\u001b[39mTrue\u001b[39;00m)\n",
      "File \u001b[0;32m~/opt/miniconda3/envs/seq/lib/python3.8/site-packages/pandas/core/ops/array_ops.py:75\u001b[0m, in \u001b[0;36mcomp_method_OBJECT_ARRAY\u001b[0;34m(op, x, y)\u001b[0m\n\u001b[1;32m     73\u001b[0m     result \u001b[39m=\u001b[39m libops\u001b[39m.\u001b[39mvec_compare(x\u001b[39m.\u001b[39mravel(), y\u001b[39m.\u001b[39mravel(), op)\n\u001b[1;32m     74\u001b[0m \u001b[39melse\u001b[39;00m:\n\u001b[0;32m---> 75\u001b[0m     result \u001b[39m=\u001b[39m libops\u001b[39m.\u001b[39;49mscalar_compare(x\u001b[39m.\u001b[39;49mravel(), y, op)\n\u001b[1;32m     76\u001b[0m \u001b[39mreturn\u001b[39;00m result\u001b[39m.\u001b[39mreshape(x\u001b[39m.\u001b[39mshape)\n",
      "\u001b[0;31mKeyboardInterrupt\u001b[0m: "
     ]
    }
   ],
   "source": [
    "df = pd.read_csv('../data/dataset1/human_infecting_virus', delimiter='\\t', header=None)\n",
    "df[['ID', 'DNA Sequence']] = df[0].str.split(expand=True)\n",
    "df = df.drop(0, axis=1)\n",
    "df['isZoonotic'] = 1\n",
    "\n",
    "\n",
    "df2 = pd.read_csv('../data/dataset1/Other_viruses', delimiter='\\t', header=None)\n",
    "df2[['ID', 'DNA Sequence']] = df2[0].str.split(expand=True)\n",
    "df2 = df2.drop(0, axis=1)\n",
    "df2['isZoonotic'] = 0\n",
    "\n",
    "dfother = pd.DataFrame()\n",
    "it = len(df)\n",
    "\n",
    "nardus = pd.read_csv('../data/nardus_sequences.csv')\n",
    "nardus.reset_index(drop=True, inplace=True)\n",
    "\n",
    "\n",
    "temp = pd.DataFrame()\n",
    "for i in range(len(nardus)):\n",
    "    val = nardus.iloc[i]\n",
    "    len(acctotax[acctotax['accession']==val['ID']]) != 0 and print(acctotax[acctotax['accession']==val['ID']])\n",
    "    temp = temp.append({'ID': acctotax[acctotax['accession']==val['ID']], 'DNA Sequence': val['DNA Sequence'], 'isZoonotic': val['isZoonotic']}, ignore_index=True)\n",
    "\n",
    "print(temp)\n",
    "\n",
    "df.reset_index(drop=True, inplace=True)\n",
    "df2.reset_index(drop=True, inplace=True)\n",
    "\n",
    "mergedDf = pd.concat([df, df2, nardus], axis=0, ignore_index=True)\n",
    "mergedDf.reset_index(drop=True, inplace=True)\n",
    "mergedDf = mergedDf.drop_duplicates(subset=['ID'])"
   ]
  },
  {
   "cell_type": "code",
   "execution_count": 14,
   "metadata": {},
   "outputs": [
    {
     "ename": "NameError",
     "evalue": "name 'mergedDf' is not defined",
     "output_type": "error",
     "traceback": [
      "\u001b[0;31m---------------------------------------------------------------------------\u001b[0m",
      "\u001b[0;31mNameError\u001b[0m                                 Traceback (most recent call last)",
      "\u001b[1;32m/Users/benjaminli/Documents/coding/scires/project/ncbistuff/x.ipynb Cell 6\u001b[0m in \u001b[0;36m<cell line: 1>\u001b[0;34m()\u001b[0m\n\u001b[0;32m----> <a href='vscode-notebook-cell:/Users/benjaminli/Documents/coding/scires/project/ncbistuff/x.ipynb#W4sZmlsZQ%3D%3D?line=0'>1</a>\u001b[0m \u001b[39mprint\u001b[39m(mergedDf\u001b[39m.\u001b[39mtail())\n",
      "\u001b[0;31mNameError\u001b[0m: name 'mergedDf' is not defined"
     ]
    }
   ],
   "source": [
    "print(mergedDf.tail())"
   ]
  },
  {
   "cell_type": "code",
   "execution_count": 45,
   "metadata": {},
   "outputs": [
    {
     "name": "stdout",
     "output_type": "stream",
     "text": [
      "{'>10000bp': 5169, '10000bp': 3351, '3000bp': 1630, '5000bp': 1004, '1000bp': 122}\n",
      "['>10000bp', '10000bp', '3000bp', '5000bp', '1000bp']\n"
     ]
    },
    {
     "data": {
      "image/png": "[encoded data removed]",
      "text/plain": [
       "<Figure size 640x480 with 1 Axes>"
      ]
     },
     "metadata": {},
     "output_type": "display_data"
    }
   ],
   "source": [
    "l = [0]*5\n",
    "pieces = [1000,3000,5000,10000]\n",
    "di = OrderedDict({})\n",
    "for i in mergedDf['DNA Sequence']:\n",
    "    found = False\n",
    "    for piece in pieces:\n",
    "        if len(i) < piece: \n",
    "            di[str(piece)+\"bp\"]=di.get(str(piece)+\"bp\",0)+1\n",
    "            found = True\n",
    "            break\n",
    "    if not found:\n",
    "        di[\">10000bp\"]=di.get(\">10000bp\",0)+1\n",
    "\n",
    "di = dict(sorted(di.items(), key=lambda item: item[1], reverse=True))\n",
    "print(di)\n",
    "keys = list(di.keys())\n",
    "vals = list(di.values())\n",
    "print(keys)\n",
    "\n",
    "# move 500bp to the beginning\n",
    "# tempkey, tempval = keys[-1], vals[-1]\n",
    "# keys = keys[:len(keys)-1]\n",
    "# vals = vals[:len(vals)-1]\n",
    "# keys.insert(0, tempkey)\n",
    "# vals.insert(0, tempval)\n",
    "\n",
    "# print(keys)\n",
    "# print(vals)\n",
    "\n",
    "\n",
    "\n",
    "explode = (0.1, 0.1, 0.1, 0.1, 0.1)\n",
    "def aa(val):\n",
    "    return str(round(val, 1)) + '%' if round(val, 1) > 0 else ''\n",
    "plt.pie(vals, labels=keys,\n",
    "    shadow=True, autopct=aa, explode=explode,\n",
    "    wedgeprops = {\"edgecolor\" : \"black\",\n",
    "                      'linewidth': 1,\n",
    "                      'antialiased': True}, \n",
    "        textprops={'fontsize': 8})\n",
    "plt.axis('equal')\n",
    "plt.show()"
   ]
  },
  {
   "cell_type": "code",
   "execution_count": 54,
   "metadata": {},
   "outputs": [
    {
     "name": "stdout",
     "output_type": "stream",
     "text": [
      "NC_025403.1\n",
      "{'_seq': Seq('ACCAGAGGGAAAATATAACAATGTCGTTTTATAGCGATGTAAATAATACTTATG...GGT'), 'id': 'NC_025403.1', 'name': 'NC_025403', 'description': 'Achimota virus 1, complete genome', 'dbxrefs': ['BioProject:PRJNA485481'], 'annotations': {'molecule_type': 'RNA', 'topology': 'linear', 'data_file_division': 'VRL', 'date': '13-AUG-2018', 'accessions': ['NC_025403'], 'sequence_version': 1, 'keywords': ['RefSeq'], 'source': 'Achimota virus 1', 'organism': 'Achimota virus 1', 'taxonomy': ['Viruses', 'Riboviria', 'Orthornavirae', 'Negarnaviricota', 'Haploviricotina', 'Monjiviricetes', 'Mononegavirales', 'Paramyxoviridae', 'Rubulavirinae', 'Pararubulavirus', 'Achimota pararubulavirus 1'], 'references': [Reference(title='Novel, Potentially Zoonotic Paramyxoviruses from the African Straw-Colored Fruit Bat Eidolon helvum', ...), Reference(title='Direct Submission', ...), Reference(title='Direct Submission', ...)], 'comment': 'PROVISIONAL REFSEQ: This record has not yet been subject to final\\nNCBI review. The reference sequence is identical to JX051319.\\nCOMPLETENESS: full length.'}, '_per_letter_annotations': {}, 'features': [SeqFeature(FeatureLocation(ExactPosition(0), ExactPosition(15624), strand=1), type='source'), SeqFeature(FeatureLocation(ExactPosition(0), ExactPosition(55), strand=1), type='misc_feature'), SeqFeature(FeatureLocation(ExactPosition(55), ExactPosition(1846), strand=1), type='gene'), SeqFeature(FeatureLocation(ExactPosition(164), ExactPosition(1736), strand=1), type='CDS'), SeqFeature(FeatureLocation(ExactPosition(1855), ExactPosition(3310), strand=1), type='gene'), SeqFeature(FeatureLocation(ExactPosition(1961), ExactPosition(3165), strand=1), type='CDS'), SeqFeature(FeatureLocation(ExactPosition(1961), ExactPosition(2687), strand=1), type='CDS'), SeqFeature(FeatureLocation(ExactPosition(1961), ExactPosition(2461), strand=1), type='CDS'), SeqFeature(FeatureLocation(ExactPosition(2445), ExactPosition(2451), strand=1), type='misc_feature'), SeqFeature(FeatureLocation(ExactPosition(3318), ExactPosition(4756), strand=1), type='gene'), SeqFeature(FeatureLocation(ExactPosition(3353), ExactPosition(4484), strand=1), type='CDS'), SeqFeature(FeatureLocation(ExactPosition(4825), ExactPosition(6649), strand=1), type='gene'), SeqFeature(FeatureLocation(ExactPosition(4906), ExactPosition(6508), strand=1), type='CDS'), SeqFeature(FeatureLocation(ExactPosition(6691), ExactPosition(8645), strand=1), type='gene'), SeqFeature(FeatureLocation(ExactPosition(6733), ExactPosition(8521), strand=1), type='CDS'), SeqFeature(FeatureLocation(ExactPosition(8735), ExactPosition(15600), strand=1), type='gene'), SeqFeature(FeatureLocation(ExactPosition(8743), ExactPosition(15559), strand=1), type='CDS'), SeqFeature(FeatureLocation(ExactPosition(15559), ExactPosition(15624), strand=1), type='misc_feature')]}\n",
      "['Viruses', 'Riboviria', 'Orthornavirae', 'Negarnaviricota', 'Haploviricotina', 'Monjiviricetes', 'Mononegavirales', 'Paramyxoviridae', 'Rubulavirinae', 'Pararubulavirus', 'Achimota pararubulavirus 1']\n",
      "Achimota virus 1\n",
      "['NC_025403']\n",
      "1\n",
      "13-AUG-2018\n",
      "VRL\n",
      "['Viruses', 'Riboviria', 'Orthornavirae', 'Negarnaviricota', 'Haploviricotina', 'Monjiviricetes', 'Mononegavirales', 'Paramyxoviridae', 'Rubulavirinae', 'Pararubulavirus', 'Achimota pararubulavirus 1']\n",
      "NC_025404.1\n",
      "{'_seq': Seq('ACCAGAGGGAAAATTAAGAAAGGTCGTTCCAAGACGACTTAAAAGAAGATATCG...GGT'), 'id': 'NC_025404.1', 'name': 'NC_025404', 'description': 'Achimota virus 2, complete genome', 'dbxrefs': ['BioProject:PRJNA485481'], 'annotations': {'molecule_type': 'RNA', 'topology': 'linear', 'data_file_division': 'VRL', 'date': '13-AUG-2018', 'accessions': ['NC_025404'], 'sequence_version': 1, 'keywords': ['RefSeq'], 'source': 'Achimota virus 2', 'organism': 'Achimota virus 2', 'taxonomy': ['Viruses', 'Riboviria', 'Orthornavirae', 'Negarnaviricota', 'Haploviricotina', 'Monjiviricetes', 'Mononegavirales', 'Paramyxoviridae', 'Rubulavirinae', 'Pararubulavirus', 'Achimota pararubulavirus 2'], 'references': [Reference(title='Novel, Potentially Zoonotic Paramyxoviruses from the African Straw-Colored Fruit Bat Eidolon helvum', ...), Reference(title='Direct Submission', ...), Reference(title='Direct Submission', ...)], 'comment': 'PROVISIONAL REFSEQ: This record has not yet been subject to final\\nNCBI review. The reference sequence is identical to JX051320.\\nCOMPLETENESS: full length.'}, '_per_letter_annotations': {}, 'features': [SeqFeature(FeatureLocation(ExactPosition(0), ExactPosition(15504), strand=1), type='source'), SeqFeature(FeatureLocation(ExactPosition(0), ExactPosition(55), strand=1), type='misc_feature'), SeqFeature(FeatureLocation(ExactPosition(55), ExactPosition(1818), strand=1), type='gene'), SeqFeature(FeatureLocation(ExactPosition(164), ExactPosition(1706), strand=1), type='CDS'), SeqFeature(FeatureLocation(ExactPosition(1825), ExactPosition(3288), strand=1), type='gene'), SeqFeature(FeatureLocation(ExactPosition(1931), ExactPosition(3123), strand=1), type='CDS'), SeqFeature(FeatureLocation(ExactPosition(1931), ExactPosition(2639), strand=1), type='CDS'), SeqFeature(FeatureLocation(ExactPosition(1931), ExactPosition(2431), strand=1), type='CDS'), SeqFeature(FeatureLocation(ExactPosition(2409), ExactPosition(2414), strand=1), type='misc_feature'), SeqFeature(FeatureLocation(ExactPosition(3312), ExactPosition(4747), strand=1), type='gene'), SeqFeature(FeatureLocation(ExactPosition(3346), ExactPosition(4477), strand=1), type='CDS'), SeqFeature(FeatureLocation(ExactPosition(4771), ExactPosition(6647), strand=1), type='gene'), SeqFeature(FeatureLocation(ExactPosition(4868), ExactPosition(6464), strand=1), type='CDS'), SeqFeature(FeatureLocation(ExactPosition(6654), ExactPosition(8586), strand=1), type='gene'), SeqFeature(FeatureLocation(ExactPosition(6745), ExactPosition(8497), strand=1), type='CDS'), SeqFeature(FeatureLocation(ExactPosition(8609), ExactPosition(15481), strand=1), type='gene'), SeqFeature(FeatureLocation(ExactPosition(8617), ExactPosition(15439), strand=1), type='CDS'), SeqFeature(FeatureLocation(ExactPosition(15439), ExactPosition(15504), strand=1), type='misc_feature')]}\n",
      "['Viruses', 'Riboviria', 'Orthornavirae', 'Negarnaviricota', 'Haploviricotina', 'Monjiviricetes', 'Mononegavirales', 'Paramyxoviridae', 'Rubulavirinae', 'Pararubulavirus', 'Achimota pararubulavirus 2']\n",
      "Achimota virus 2\n",
      "['NC_025404']\n",
      "1\n",
      "13-AUG-2018\n",
      "VRL\n",
      "['Viruses', 'Riboviria', 'Orthornavirae', 'Negarnaviricota', 'Haploviricotina', 'Monjiviricetes', 'Mononegavirales', 'Paramyxoviridae', 'Rubulavirinae', 'Pararubulavirus', 'Achimota pararubulavirus 2']\n",
      "NC_028246.1\n",
      "{'_seq': Seq('ACGGAGAAAAACAAAAAAACTATAGTGATTAGATAAATAAGGAAAAGGACAACA...CGT'), 'id': 'NC_028246.1', 'name': 'NC_028246', 'description': 'Adelaide River virus isolate DPP61, complete genome', 'dbxrefs': ['BioProject:PRJNA485481'], 'annotations': {'molecule_type': 'RNA', 'topology': 'linear', 'data_file_division': 'VRL', 'date': '13-AUG-2018', 'accessions': ['NC_028246'], 'sequence_version': 1, 'keywords': ['RefSeq'], 'source': 'Adelaide River virus', 'organism': 'Adelaide River virus', 'taxonomy': ['Viruses', 'Riboviria', 'Orthornavirae', 'Negarnaviricota', 'Haploviricotina', 'Monjiviricetes', 'Mononegavirales', 'Rhabdoviridae', 'Alpharhabdovirinae', 'Ephemerovirus'], 'references': [Reference(title='Characterisation of Kotokan and Obodhiang viruses provides a novel insight into the genetic diversity of the ephemeroviruses', ...), Reference(title='Direct Submission', ...), Reference(title='Direct Submission', ...)], 'comment': 'PROVISIONAL REFSEQ: This record has not yet been subject to final\\nNCBI review. The reference sequence is identical to JN935380.\\nCOMPLETENESS: full length.'}, '_per_letter_annotations': {}, 'features': [SeqFeature(FeatureLocation(ExactPosition(0), ExactPosition(14627), strand=1), type='source'), SeqFeature(FeatureLocation(ExactPosition(50), ExactPosition(1405), strand=1), type='gene'), SeqFeature(FeatureLocation(ExactPosition(71), ExactPosition(1361), strand=1), type='CDS'), SeqFeature(FeatureLocation(ExactPosition(1406), ExactPosition(2338), strand=1), type='gene'), SeqFeature(FeatureLocation(ExactPosition(1419), ExactPosition(2322), strand=1), type='CDS'), SeqFeature(FeatureLocation(ExactPosition(2339), ExactPosition(3053), strand=1), type='gene'), SeqFeature(FeatureLocation(ExactPosition(2351), ExactPosition(3023), strand=1), type='CDS'), SeqFeature(FeatureLocation(ExactPosition(3054), ExactPosition(5071), strand=1), type='gene'), SeqFeature(FeatureLocation(ExactPosition(3068), ExactPosition(5051), strand=1), type='CDS'), SeqFeature(FeatureLocation(ExactPosition(5075), ExactPosition(6942), strand=1), type='gene'), SeqFeature(FeatureLocation(ExactPosition(5088), ExactPosition(6918), strand=1), type='CDS'), SeqFeature(FeatureLocation(ExactPosition(6943), ExactPosition(7625), strand=1), type='gene'), SeqFeature(FeatureLocation(ExactPosition(6953), ExactPosition(7280), strand=1), type='CDS'), SeqFeature(FeatureLocation(ExactPosition(7301), ExactPosition(7604), strand=1), type='CDS'), SeqFeature(FeatureLocation(ExactPosition(7626), ExactPosition(8119), strand=1), type='gene'), SeqFeature(FeatureLocation(ExactPosition(7639), ExactPosition(8080), strand=1), type='CDS'), SeqFeature(FeatureLocation(ExactPosition(8097), ExactPosition(14587), strand=1), type='gene'), SeqFeature(FeatureLocation(ExactPosition(8120), ExactPosition(14555), strand=1), type='CDS')]}\n",
      "['Viruses', 'Riboviria', 'Orthornavirae', 'Negarnaviricota', 'Haploviricotina', 'Monjiviricetes', 'Mononegavirales', 'Rhabdoviridae', 'Alpharhabdovirinae', 'Ephemerovirus']\n",
      "Adelaide River virus\n",
      "['NC_028246']\n",
      "1\n",
      "13-AUG-2018\n",
      "VRL\n",
      "['Viruses', 'Riboviria', 'Orthornavirae', 'Negarnaviricota', 'Haploviricotina', 'Monjiviricetes', 'Mononegavirales', 'Rhabdoviridae', 'Alpharhabdovirinae', 'Ephemerovirus']\n",
      "NC_002077.1\n",
      "{'_seq': Seq('TTGCCCACTCCCTCTCTGCGCGCTCGCTCGCTCGGTGGGGCCTGCGGACCAAAG...CAA'), 'id': 'NC_002077.1', 'name': 'NC_002077', 'description': 'Adeno-associated virus - 1, complete genome', 'dbxrefs': ['BioProject:PRJNA485481'], 'annotations': {'molecule_type': 'DNA', 'topology': 'linear', 'data_file_division': 'VRL', 'date': '13-AUG-2018', 'accessions': ['NC_002077'], 'sequence_version': 1, 'keywords': ['RefSeq'], 'source': 'Adeno-associated virus - 1', 'organism': 'Adeno-associated virus - 1', 'taxonomy': ['Viruses', 'Monodnaviria', 'Shotokuvirae', 'Cossaviricota', 'Quintoviricetes', 'Piccovirales', 'Parvoviridae', 'Parvovirinae', 'Dependoparvovirus'], 'references': [Reference(title='Gene therapy vectors based on adeno-associated virus type 1', ...), Reference(title='Direct Submission', ...), Reference(title='Direct Submission', ...)], 'comment': 'PROVISIONAL REFSEQ: This record has not yet been subject to final\\nNCBI review. The reference sequence is identical to AF063497.\\nCOMPLETENESS: full length.'}, '_per_letter_annotations': {}, 'features': [SeqFeature(FeatureLocation(ExactPosition(0), ExactPosition(4718), strand=1), type='source'), SeqFeature(FeatureLocation(ExactPosition(334), ExactPosition(2206), strand=1), type='gene'), SeqFeature(FeatureLocation(ExactPosition(334), ExactPosition(2206), strand=1), type='CDS'), SeqFeature(FeatureLocation(ExactPosition(2222), ExactPosition(4433), strand=1), type='gene'), SeqFeature(FeatureLocation(ExactPosition(2222), ExactPosition(4433), strand=1), type='CDS')]}\n",
      "['Viruses', 'Monodnaviria', 'Shotokuvirae', 'Cossaviricota', 'Quintoviricetes', 'Piccovirales', 'Parvoviridae', 'Parvovirinae', 'Dependoparvovirus']\n",
      "Adeno-associated virus - 1\n",
      "['NC_002077']\n",
      "1\n",
      "13-AUG-2018\n",
      "VRL\n",
      "['Viruses', 'Monodnaviria', 'Shotokuvirae', 'Cossaviricota', 'Quintoviricetes', 'Piccovirales', 'Parvoviridae', 'Parvovirinae', 'Dependoparvovirus']\n",
      "NC_006152.1\n",
      "{'_seq': Seq('CTCTCCCCCCTGTCGCGTTCGCTCGCTCGCTGGCTCGTTTGGGGGGGTGGCAGC...GAG'), 'id': 'NC_006152.1', 'name': 'NC_006152', 'description': 'Adeno-associated virus 5, complete genome', 'dbxrefs': ['BioProject:PRJNA485481'], 'annotations': {'molecule_type': 'ss-DNA', 'topology': 'linear', 'data_file_division': 'VRL', 'date': '13-AUG-2018', 'accessions': ['NC_006152'], 'sequence_version': 1, 'keywords': ['RefSeq'], 'source': 'adeno-associated virus 5', 'organism': 'adeno-associated virus 5', 'taxonomy': ['Viruses', 'Monodnaviria', 'Shotokuvirae', 'Cossaviricota', 'Quintoviricetes', 'Piccovirales', 'Parvoviridae', 'Parvovirinae', 'Dependoparvovirus'], 'references': [Reference(title='Cloning and characterization of adeno-associated virus type 5', ...), Reference(title='Direct Submission', ...), Reference(title='Direct Submission', ...)], 'comment': 'PROVISIONAL REFSEQ: This record has not yet been subject to final\\nNCBI review. The reference sequence was derived from AF085716.\\nCOMPLETENESS: full length.'}, '_per_letter_annotations': {}, 'features': [SeqFeature(FeatureLocation(ExactPosition(0), ExactPosition(4642), strand=1), type='source'), SeqFeature(FeatureLocation(ExactPosition(358), ExactPosition(2191), strand=1), type='gene'), SeqFeature(FeatureLocation(ExactPosition(358), ExactPosition(2191), strand=1), type='CDS'), SeqFeature(FeatureLocation(ExactPosition(2206), ExactPosition(4381), strand=1), type='gene'), SeqFeature(FeatureLocation(ExactPosition(2206), ExactPosition(4381), strand=1), type='CDS')]}\n",
      "['Viruses', 'Monodnaviria', 'Shotokuvirae', 'Cossaviricota', 'Quintoviricetes', 'Piccovirales', 'Parvoviridae', 'Parvovirinae', 'Dependoparvovirus']\n",
      "adeno-associated virus 5\n",
      "['NC_006152']\n",
      "1\n",
      "13-AUG-2018\n",
      "VRL\n",
      "['Viruses', 'Monodnaviria', 'Shotokuvirae', 'Cossaviricota', 'Quintoviricetes', 'Piccovirales', 'Parvoviridae', 'Parvovirinae', 'Dependoparvovirus']\n",
      "NC_010820.1\n",
      "{'_seq': Seq('TGTGGCTGATATCCACTAAAATAGTAGGCCCCCAGGAAAAGGATTATTGGAGAG...ACA'), 'id': 'NC_010820.1', 'name': 'NC_010820', 'description': 'Simian foamy virus 3, complete genome', 'dbxrefs': ['BioProject:PRJNA485481'], 'annotations': {'molecule_type': 'DNA', 'topology': 'linear', 'data_file_division': 'VRL', 'date': '13-AUG-2018', 'accessions': ['NC_010820'], 'sequence_version': 1, 'keywords': ['RefSeq'], 'source': 'African green monkey simian foamy virus', 'organism': 'African green monkey simian foamy virus', 'taxonomy': ['Viruses', 'Riboviria', 'Pararnavirae', 'Artverviricota', 'Revtraviricetes', 'Ortervirales', 'Retroviridae', 'Spumaretrovirinae', 'Spumavirus'], 'references': [Reference(title='Genomic organization and expression of simian foamy virus type 3 (SFV-3)', ...), Reference(title='Direct Submission', ...)], 'comment': 'VALIDATED REFSEQ: This record has undergone validation or\\npreliminary review. The reference sequence was derived from M74895.\\nCOMPLETENESS: full length.'}, '_per_letter_annotations': {}, 'features': [SeqFeature(FeatureLocation(ExactPosition(0), ExactPosition(13111), strand=1), type='source'), SeqFeature(FeatureLocation(ExactPosition(0), ExactPosition(1710), strand=1), type='repeat_region'), SeqFeature(FeatureLocation(ExactPosition(1710), ExactPosition(1728), strand=1), type='primer_bind'), SeqFeature(FeatureLocation(ExactPosition(1824), ExactPosition(3756), strand=1), type='gene'), SeqFeature(FeatureLocation(ExactPosition(1824), ExactPosition(3756), strand=1), type='CDS'), SeqFeature(FeatureLocation(ExactPosition(3703), ExactPosition(7135), strand=1), type='gene'), SeqFeature(FeatureLocation(ExactPosition(3703), ExactPosition(7135), strand=1), type='CDS'), SeqFeature(FeatureLocation(ExactPosition(7082), ExactPosition(10031), strand=1), type='gene'), SeqFeature(FeatureLocation(ExactPosition(7082), ExactPosition(10031), strand=1), type='CDS'), SeqFeature(FeatureLocation(ExactPosition(10000), ExactPosition(11705), strand=1), type='gene'), SeqFeature(CompoundLocation([FeatureLocation(ExactPosition(10000), ExactPosition(10271), strand=1), FeatureLocation(ExactPosition(10566), ExactPosition(11705), strand=1)], 'join'), type='CDS', location_operator='join'), SeqFeature(FeatureLocation(ExactPosition(10000), ExactPosition(10897), strand=1), type='CDS'), SeqFeature(FeatureLocation(ExactPosition(11403), ExactPosition(13111), strand=1), type='repeat_region')]}\n",
      "['Viruses', 'Riboviria', 'Pararnavirae', 'Artverviricota', 'Revtraviricetes', 'Ortervirales', 'Retroviridae', 'Spumaretrovirinae', 'Spumavirus']\n",
      "African green monkey simian foamy virus\n",
      "['NC_010820']\n",
      "1\n",
      "13-AUG-2018\n",
      "VRL\n",
      "['Viruses', 'Riboviria', 'Pararnavirae', 'Artverviricota', 'Revtraviricetes', 'Ortervirales', 'Retroviridae', 'Spumaretrovirinae', 'Spumavirus']\n",
      "NC_006021.1\n"
     ]
    },
    {
     "ename": "KeyboardInterrupt",
     "evalue": "",
     "output_type": "error",
     "traceback": [
      "\u001b[0;31m---------------------------------------------------------------------------\u001b[0m",
      "\u001b[0;31mKeyboardInterrupt\u001b[0m                         Traceback (most recent call last)",
      "\u001b[1;32m/Users/benjaminli/Documents/coding/scires/project/ncbistuff/x.ipynb Cell 7\u001b[0m in \u001b[0;36m<cell line: 3>\u001b[0;34m()\u001b[0m\n\u001b[1;32m      <a href='vscode-notebook-cell:/Users/benjaminli/Documents/coding/scires/project/ncbistuff/x.ipynb#W6sZmlsZQ%3D%3D?line=2'>3</a>\u001b[0m \u001b[39mfor\u001b[39;00m i \u001b[39min\u001b[39;00m \u001b[39mrange\u001b[39m(\u001b[39m9428\u001b[39m,\u001b[39mlen\u001b[39m(mergedDf)):\n\u001b[1;32m      <a href='vscode-notebook-cell:/Users/benjaminli/Documents/coding/scires/project/ncbistuff/x.ipynb#W6sZmlsZQ%3D%3D?line=3'>4</a>\u001b[0m     \u001b[39mprint\u001b[39m(mergedDf\u001b[39m.\u001b[39mat[i, \u001b[39m'\u001b[39m\u001b[39mID\u001b[39m\u001b[39m'\u001b[39m])\n\u001b[0;32m----> <a href='vscode-notebook-cell:/Users/benjaminli/Documents/coding/scires/project/ncbistuff/x.ipynb#W6sZmlsZQ%3D%3D?line=4'>5</a>\u001b[0m     handle \u001b[39m=\u001b[39m Entrez\u001b[39m.\u001b[39;49mefetch(db\u001b[39m=\u001b[39;49m\u001b[39m\"\u001b[39;49m\u001b[39mnucleotide\u001b[39;49m\u001b[39m\"\u001b[39;49m, \u001b[39mid\u001b[39;49m\u001b[39m=\u001b[39;49mmergedDf\u001b[39m.\u001b[39;49mat[i, \u001b[39m'\u001b[39;49m\u001b[39mID\u001b[39;49m\u001b[39m'\u001b[39;49m], rettype\u001b[39m=\u001b[39;49m\u001b[39m\"\u001b[39;49m\u001b[39mgb\u001b[39;49m\u001b[39m\"\u001b[39;49m, retmode\u001b[39m=\u001b[39;49m\u001b[39m\"\u001b[39;49m\u001b[39mtext\u001b[39;49m\u001b[39m\"\u001b[39;49m)\n\u001b[1;32m      <a href='vscode-notebook-cell:/Users/benjaminli/Documents/coding/scires/project/ncbistuff/x.ipynb#W6sZmlsZQ%3D%3D?line=5'>6</a>\u001b[0m     record \u001b[39m=\u001b[39m SeqIO\u001b[39m.\u001b[39mread(handle, \u001b[39m\"\u001b[39m\u001b[39mgb\u001b[39m\u001b[39m\"\u001b[39m)\n\u001b[1;32m      <a href='vscode-notebook-cell:/Users/benjaminli/Documents/coding/scires/project/ncbistuff/x.ipynb#W6sZmlsZQ%3D%3D?line=6'>7</a>\u001b[0m     \u001b[39mprint\u001b[39m(\u001b[39mvars\u001b[39m(record))\n",
      "File \u001b[0;32m~/opt/miniconda3/envs/seq/lib/python3.8/site-packages/Bio/Entrez/__init__.py:207\u001b[0m, in \u001b[0;36mefetch\u001b[0;34m(db, **keywords)\u001b[0m\n\u001b[1;32m    203\u001b[0m     \u001b[39mif\u001b[39;00m ids\u001b[39m.\u001b[39mcount(\u001b[39m\"\u001b[39m\u001b[39m,\u001b[39m\u001b[39m\"\u001b[39m) \u001b[39m>\u001b[39m\u001b[39m=\u001b[39m \u001b[39m200\u001b[39m:\n\u001b[1;32m    204\u001b[0m         \u001b[39m# NCBI prefers an HTTP POST instead of an HTTP GET if there are\u001b[39;00m\n\u001b[1;32m    205\u001b[0m         \u001b[39m# more than about 200 IDs\u001b[39;00m\n\u001b[1;32m    206\u001b[0m         post \u001b[39m=\u001b[39m \u001b[39mTrue\u001b[39;00m\n\u001b[0;32m--> 207\u001b[0m \u001b[39mreturn\u001b[39;00m _open(cgi, variables, post\u001b[39m=\u001b[39;49mpost)\n",
      "File \u001b[0;32m~/opt/miniconda3/envs/seq/lib/python3.8/site-packages/Bio/Entrez/__init__.py:606\u001b[0m, in \u001b[0;36m_open\u001b[0;34m(cgi, params, post, ecitmatch)\u001b[0m\n\u001b[1;32m    604\u001b[0m         handle \u001b[39m=\u001b[39m urlopen(cgi, data\u001b[39m=\u001b[39moptions\u001b[39m.\u001b[39mencode(\u001b[39m\"\u001b[39m\u001b[39mutf8\u001b[39m\u001b[39m\"\u001b[39m))\n\u001b[1;32m    605\u001b[0m     \u001b[39melse\u001b[39;00m:\n\u001b[0;32m--> 606\u001b[0m         handle \u001b[39m=\u001b[39m urlopen(cgi)\n\u001b[1;32m    607\u001b[0m \u001b[39mexcept\u001b[39;00m HTTPError \u001b[39mas\u001b[39;00m exception:\n\u001b[1;32m    608\u001b[0m     \u001b[39m# Reraise if the final try fails\u001b[39;00m\n\u001b[1;32m    609\u001b[0m     \u001b[39mif\u001b[39;00m i \u001b[39m>\u001b[39m\u001b[39m=\u001b[39m max_tries \u001b[39m-\u001b[39m \u001b[39m1\u001b[39m:\n",
      "File \u001b[0;32m~/opt/miniconda3/envs/seq/lib/python3.8/urllib/request.py:222\u001b[0m, in \u001b[0;36murlopen\u001b[0;34m(url, data, timeout, cafile, capath, cadefault, context)\u001b[0m\n\u001b[1;32m    220\u001b[0m \u001b[39melse\u001b[39;00m:\n\u001b[1;32m    221\u001b[0m     opener \u001b[39m=\u001b[39m _opener\n\u001b[0;32m--> 222\u001b[0m \u001b[39mreturn\u001b[39;00m opener\u001b[39m.\u001b[39;49mopen(url, data, timeout)\n",
      "File \u001b[0;32m~/opt/miniconda3/envs/seq/lib/python3.8/urllib/request.py:525\u001b[0m, in \u001b[0;36mOpenerDirector.open\u001b[0;34m(self, fullurl, data, timeout)\u001b[0m\n\u001b[1;32m    522\u001b[0m     req \u001b[39m=\u001b[39m meth(req)\n\u001b[1;32m    524\u001b[0m sys\u001b[39m.\u001b[39maudit(\u001b[39m'\u001b[39m\u001b[39murllib.Request\u001b[39m\u001b[39m'\u001b[39m, req\u001b[39m.\u001b[39mfull_url, req\u001b[39m.\u001b[39mdata, req\u001b[39m.\u001b[39mheaders, req\u001b[39m.\u001b[39mget_method())\n\u001b[0;32m--> 525\u001b[0m response \u001b[39m=\u001b[39m \u001b[39mself\u001b[39;49m\u001b[39m.\u001b[39;49m_open(req, data)\n\u001b[1;32m    527\u001b[0m \u001b[39m# post-process response\u001b[39;00m\n\u001b[1;32m    528\u001b[0m meth_name \u001b[39m=\u001b[39m protocol\u001b[39m+\u001b[39m\u001b[39m\"\u001b[39m\u001b[39m_response\u001b[39m\u001b[39m\"\u001b[39m\n",
      "File \u001b[0;32m~/opt/miniconda3/envs/seq/lib/python3.8/urllib/request.py:542\u001b[0m, in \u001b[0;36mOpenerDirector._open\u001b[0;34m(self, req, data)\u001b[0m\n\u001b[1;32m    539\u001b[0m     \u001b[39mreturn\u001b[39;00m result\n\u001b[1;32m    541\u001b[0m protocol \u001b[39m=\u001b[39m req\u001b[39m.\u001b[39mtype\n\u001b[0;32m--> 542\u001b[0m result \u001b[39m=\u001b[39m \u001b[39mself\u001b[39;49m\u001b[39m.\u001b[39;49m_call_chain(\u001b[39mself\u001b[39;49m\u001b[39m.\u001b[39;49mhandle_open, protocol, protocol \u001b[39m+\u001b[39;49m\n\u001b[1;32m    543\u001b[0m                           \u001b[39m'\u001b[39;49m\u001b[39m_open\u001b[39;49m\u001b[39m'\u001b[39;49m, req)\n\u001b[1;32m    544\u001b[0m \u001b[39mif\u001b[39;00m result:\n\u001b[1;32m    545\u001b[0m     \u001b[39mreturn\u001b[39;00m result\n",
      "File \u001b[0;32m~/opt/miniconda3/envs/seq/lib/python3.8/urllib/request.py:502\u001b[0m, in \u001b[0;36mOpenerDirector._call_chain\u001b[0;34m(self, chain, kind, meth_name, *args)\u001b[0m\n\u001b[1;32m    500\u001b[0m \u001b[39mfor\u001b[39;00m handler \u001b[39min\u001b[39;00m handlers:\n\u001b[1;32m    501\u001b[0m     func \u001b[39m=\u001b[39m \u001b[39mgetattr\u001b[39m(handler, meth_name)\n\u001b[0;32m--> 502\u001b[0m     result \u001b[39m=\u001b[39m func(\u001b[39m*\u001b[39;49margs)\n\u001b[1;32m    503\u001b[0m     \u001b[39mif\u001b[39;00m result \u001b[39mis\u001b[39;00m \u001b[39mnot\u001b[39;00m \u001b[39mNone\u001b[39;00m:\n\u001b[1;32m    504\u001b[0m         \u001b[39mreturn\u001b[39;00m result\n",
      "File \u001b[0;32m~/opt/miniconda3/envs/seq/lib/python3.8/urllib/request.py:1397\u001b[0m, in \u001b[0;36mHTTPSHandler.https_open\u001b[0;34m(self, req)\u001b[0m\n\u001b[1;32m   1396\u001b[0m \u001b[39mdef\u001b[39;00m \u001b[39mhttps_open\u001b[39m(\u001b[39mself\u001b[39m, req):\n\u001b[0;32m-> 1397\u001b[0m     \u001b[39mreturn\u001b[39;00m \u001b[39mself\u001b[39;49m\u001b[39m.\u001b[39;49mdo_open(http\u001b[39m.\u001b[39;49mclient\u001b[39m.\u001b[39;49mHTTPSConnection, req,\n\u001b[1;32m   1398\u001b[0m         context\u001b[39m=\u001b[39;49m\u001b[39mself\u001b[39;49m\u001b[39m.\u001b[39;49m_context, check_hostname\u001b[39m=\u001b[39;49m\u001b[39mself\u001b[39;49m\u001b[39m.\u001b[39;49m_check_hostname)\n",
      "File \u001b[0;32m~/opt/miniconda3/envs/seq/lib/python3.8/urllib/request.py:1358\u001b[0m, in \u001b[0;36mAbstractHTTPHandler.do_open\u001b[0;34m(self, http_class, req, **http_conn_args)\u001b[0m\n\u001b[1;32m   1356\u001b[0m     \u001b[39mexcept\u001b[39;00m \u001b[39mOSError\u001b[39;00m \u001b[39mas\u001b[39;00m err: \u001b[39m# timeout error\u001b[39;00m\n\u001b[1;32m   1357\u001b[0m         \u001b[39mraise\u001b[39;00m URLError(err)\n\u001b[0;32m-> 1358\u001b[0m     r \u001b[39m=\u001b[39m h\u001b[39m.\u001b[39;49mgetresponse()\n\u001b[1;32m   1359\u001b[0m \u001b[39mexcept\u001b[39;00m:\n\u001b[1;32m   1360\u001b[0m     h\u001b[39m.\u001b[39mclose()\n",
      "File \u001b[0;32m~/opt/miniconda3/envs/seq/lib/python3.8/http/client.py:1348\u001b[0m, in \u001b[0;36mHTTPConnection.getresponse\u001b[0;34m(self)\u001b[0m\n\u001b[1;32m   1346\u001b[0m \u001b[39mtry\u001b[39;00m:\n\u001b[1;32m   1347\u001b[0m     \u001b[39mtry\u001b[39;00m:\n\u001b[0;32m-> 1348\u001b[0m         response\u001b[39m.\u001b[39;49mbegin()\n\u001b[1;32m   1349\u001b[0m     \u001b[39mexcept\u001b[39;00m \u001b[39mConnectionError\u001b[39;00m:\n\u001b[1;32m   1350\u001b[0m         \u001b[39mself\u001b[39m\u001b[39m.\u001b[39mclose()\n",
      "File \u001b[0;32m~/opt/miniconda3/envs/seq/lib/python3.8/http/client.py:316\u001b[0m, in \u001b[0;36mHTTPResponse.begin\u001b[0;34m(self)\u001b[0m\n\u001b[1;32m    314\u001b[0m \u001b[39m# read until we get a non-100 response\u001b[39;00m\n\u001b[1;32m    315\u001b[0m \u001b[39mwhile\u001b[39;00m \u001b[39mTrue\u001b[39;00m:\n\u001b[0;32m--> 316\u001b[0m     version, status, reason \u001b[39m=\u001b[39m \u001b[39mself\u001b[39;49m\u001b[39m.\u001b[39;49m_read_status()\n\u001b[1;32m    317\u001b[0m     \u001b[39mif\u001b[39;00m status \u001b[39m!=\u001b[39m CONTINUE:\n\u001b[1;32m    318\u001b[0m         \u001b[39mbreak\u001b[39;00m\n",
      "File \u001b[0;32m~/opt/miniconda3/envs/seq/lib/python3.8/http/client.py:277\u001b[0m, in \u001b[0;36mHTTPResponse._read_status\u001b[0;34m(self)\u001b[0m\n\u001b[1;32m    276\u001b[0m \u001b[39mdef\u001b[39;00m \u001b[39m_read_status\u001b[39m(\u001b[39mself\u001b[39m):\n\u001b[0;32m--> 277\u001b[0m     line \u001b[39m=\u001b[39m \u001b[39mstr\u001b[39m(\u001b[39mself\u001b[39;49m\u001b[39m.\u001b[39;49mfp\u001b[39m.\u001b[39;49mreadline(_MAXLINE \u001b[39m+\u001b[39;49m \u001b[39m1\u001b[39;49m), \u001b[39m\"\u001b[39m\u001b[39miso-8859-1\u001b[39m\u001b[39m\"\u001b[39m)\n\u001b[1;32m    278\u001b[0m     \u001b[39mif\u001b[39;00m \u001b[39mlen\u001b[39m(line) \u001b[39m>\u001b[39m _MAXLINE:\n\u001b[1;32m    279\u001b[0m         \u001b[39mraise\u001b[39;00m LineTooLong(\u001b[39m\"\u001b[39m\u001b[39mstatus line\u001b[39m\u001b[39m\"\u001b[39m)\n",
      "File \u001b[0;32m~/opt/miniconda3/envs/seq/lib/python3.8/socket.py:669\u001b[0m, in \u001b[0;36mSocketIO.readinto\u001b[0;34m(self, b)\u001b[0m\n\u001b[1;32m    667\u001b[0m \u001b[39mwhile\u001b[39;00m \u001b[39mTrue\u001b[39;00m:\n\u001b[1;32m    668\u001b[0m     \u001b[39mtry\u001b[39;00m:\n\u001b[0;32m--> 669\u001b[0m         \u001b[39mreturn\u001b[39;00m \u001b[39mself\u001b[39;49m\u001b[39m.\u001b[39;49m_sock\u001b[39m.\u001b[39;49mrecv_into(b)\n\u001b[1;32m    670\u001b[0m     \u001b[39mexcept\u001b[39;00m timeout:\n\u001b[1;32m    671\u001b[0m         \u001b[39mself\u001b[39m\u001b[39m.\u001b[39m_timeout_occurred \u001b[39m=\u001b[39m \u001b[39mTrue\u001b[39;00m\n",
      "File \u001b[0;32m~/opt/miniconda3/envs/seq/lib/python3.8/ssl.py:1241\u001b[0m, in \u001b[0;36mSSLSocket.recv_into\u001b[0;34m(self, buffer, nbytes, flags)\u001b[0m\n\u001b[1;32m   1237\u001b[0m     \u001b[39mif\u001b[39;00m flags \u001b[39m!=\u001b[39m \u001b[39m0\u001b[39m:\n\u001b[1;32m   1238\u001b[0m         \u001b[39mraise\u001b[39;00m \u001b[39mValueError\u001b[39;00m(\n\u001b[1;32m   1239\u001b[0m           \u001b[39m\"\u001b[39m\u001b[39mnon-zero flags not allowed in calls to recv_into() on \u001b[39m\u001b[39m%s\u001b[39;00m\u001b[39m\"\u001b[39m \u001b[39m%\u001b[39m\n\u001b[1;32m   1240\u001b[0m           \u001b[39mself\u001b[39m\u001b[39m.\u001b[39m\u001b[39m__class__\u001b[39m)\n\u001b[0;32m-> 1241\u001b[0m     \u001b[39mreturn\u001b[39;00m \u001b[39mself\u001b[39;49m\u001b[39m.\u001b[39;49mread(nbytes, buffer)\n\u001b[1;32m   1242\u001b[0m \u001b[39melse\u001b[39;00m:\n\u001b[1;32m   1243\u001b[0m     \u001b[39mreturn\u001b[39;00m \u001b[39msuper\u001b[39m()\u001b[39m.\u001b[39mrecv_into(buffer, nbytes, flags)\n",
      "File \u001b[0;32m~/opt/miniconda3/envs/seq/lib/python3.8/ssl.py:1099\u001b[0m, in \u001b[0;36mSSLSocket.read\u001b[0;34m(self, len, buffer)\u001b[0m\n\u001b[1;32m   1097\u001b[0m \u001b[39mtry\u001b[39;00m:\n\u001b[1;32m   1098\u001b[0m     \u001b[39mif\u001b[39;00m buffer \u001b[39mis\u001b[39;00m \u001b[39mnot\u001b[39;00m \u001b[39mNone\u001b[39;00m:\n\u001b[0;32m-> 1099\u001b[0m         \u001b[39mreturn\u001b[39;00m \u001b[39mself\u001b[39;49m\u001b[39m.\u001b[39;49m_sslobj\u001b[39m.\u001b[39;49mread(\u001b[39mlen\u001b[39;49m, buffer)\n\u001b[1;32m   1100\u001b[0m     \u001b[39melse\u001b[39;00m:\n\u001b[1;32m   1101\u001b[0m         \u001b[39mreturn\u001b[39;00m \u001b[39mself\u001b[39m\u001b[39m.\u001b[39m_sslobj\u001b[39m.\u001b[39mread(\u001b[39mlen\u001b[39m)\n",
      "\u001b[0;31mKeyboardInterrupt\u001b[0m: "
     ]
    }
   ],
   "source": [
    "# print(lineages.loc[lineages['tax_id']==37121])\n",
    "# convert accession number to taxid\n",
    "for i in range(9428,len(mergedDf)):\n",
    "    print(mergedDf.at[i, 'ID'])\n",
    "    handle = Entrez.efetch(db=\"nucleotide\", id=mergedDf.at[i, 'ID'], rettype=\"gb\", retmode=\"text\")\n",
    "    record = SeqIO.read(handle, \"gb\")\n",
    "    print(vars(record))\n",
    "    print(record.annotations['taxonomy'])\n",
    "    print(record.annotations['organism'])\n",
    "    print(record.annotations['accessions'])\n",
    "    # print(record.annotations['gi'])\n",
    "    # print(record.annotations['db_source'])\n",
    "    print(record.annotations['sequence_version'])\n",
    "    print(record.annotations['date'])\n",
    "    print(record.annotations['data_file_division'])\n",
    "    print(record.annotations['taxonomy'])\n",
    "\n",
    "families = {}\n",
    "for r in mergedDf['ID']:\n",
    "    lineage = lineages.loc[lineages['tax_id'] == int(r)]\n",
    "    # print(lineage)\n",
    "    family = 'Other'\n",
    "    if (not lineage['family'].empty):\n",
    "        print(lineage['family'].iloc[0])\n",
    "    # if ():\n",
    "        if (lineage['family'].values[0] == 'nan'):\n",
    "            families['Other'] = families.get('Other', 0) + 1\n",
    "        else:\n",
    "            family = lineage['family'].values[0]\n",
    "            families[family] = families.get(family, 0) + 1\n",
    "\n",
    "    else:\n",
    "        print(\"hi\")\n",
    "        families[family] = families.get(family, 0) + 1\n",
    "print(dict(sorted(families.items(), key=lambda item: item[1], reverse=True)))\n",
    "colors = ['yellowgreen', 'gold', 'lightskyblue']\n",
    "\n",
    "keys = list(families.keys())\n",
    "vals = list(families.values())\n",
    "plt.pie(vals, labels=keys, colors=colors,\n",
    "    shadow=True)\n",
    "plt.axis('equal')\n",
    "plt.show()"
   ]
  },
  {
   "cell_type": "code",
   "execution_count": 27,
   "metadata": {},
   "outputs": [
    {
     "data": {
      "text/plain": [
       "9428"
      ]
     },
     "execution_count": 27,
     "metadata": {},
     "output_type": "execute_result"
    }
   ],
   "source": [
    "sum(families.values())"
   ]
  }
 ],
 "metadata": {
  "kernelspec": {
   "display_name": "seq",
   "language": "python",
   "name": "python3"
  },
  "language_info": {
   "codemirror_mode": {
    "name": "ipython",
    "version": 3
   },
   "file_extension": ".py",
   "mimetype": "text/x-python",
   "name": "python",
   "nbconvert_exporter": "python",
   "pygments_lexer": "ipython3",
   "version": "3.8.13"
  },
  "orig_nbformat": 4,
  "vscode": {
   "interpreter": {
    "hash": "e1360c63304de9435a2a3572d38e6c9496b6fb5d1617f35fbc8638664d664ab4"
   }
  }
 },
 "nbformat": 4,
 "nbformat_minor": 2
}
