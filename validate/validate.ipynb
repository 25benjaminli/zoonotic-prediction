{
 "cells": [
  {
   "cell_type": "code",
   "execution_count": 1,
   "metadata": {},
   "outputs": [
    {
     "name": "stdout",
     "output_type": "stream",
     "text": [
      "/Users/benjaminli/Documents/coding/scires/project/utils\n",
      "/Users/benjaminli/Documents/coding/scires/project\n"
     ]
    }
   ],
   "source": [
    "from itertools import permutations, product\n",
    "\n",
    "import pandas as pd\n",
    "\n",
    "from sklearn.linear_model import LogisticRegression\n",
    "from sklearn.neighbors import KNeighborsClassifier\n",
    "from sklearn.tree import DecisionTreeClassifier\n",
    "from sklearn.ensemble import GradientBoostingClassifier, VotingClassifier, StackingClassifier\n",
    "from sklearn.model_selection import RepeatedStratifiedKFold, train_test_split, cross_val_score\n",
    "from sklearn.metrics import accuracy_score, auc, confusion_matrix, balanced_accuracy_score, precision_recall_curve, auc, roc_curve, roc_auc_score, f1_score, recall_score, precision_score\n",
    "from sklearn.inspection import permutation_importance\n",
    "from sklearn import preprocessing\n",
    "\n",
    "from sklearn.neural_network import MLPClassifier\n",
    "from collections import Counter\n",
    "from imblearn.ensemble import BalancedBaggingClassifier, BalancedRandomForestClassifier\n",
    "import xgboost as xgb\n",
    "from xgboost import XGBClassifier\n",
    "\n",
    "import numpy as np\n",
    "from numpy import mean,std\n",
    "from sklearn.model_selection import GridSearchCV\n",
    "\n",
    "import pickle\n",
    "\n",
    "from ctgan import CTGANSynthesizer\n",
    "from mlxtend.classifier import StackingCVClassifier\n",
    "\n",
    "from os import path\n",
    "\n",
    "import matplotlib.pyplot as plt\n",
    "\n",
    "from warnings import simplefilter\n",
    "from collections import OrderedDict\n",
    "from sklearn.svm import SVC\n",
    "\n",
    "if (os.path.abspath('').split('/')[-1] == 'project'):\n",
    "    %cd utils\n",
    "elif (os.path.abspath('').split('/')[-1] == 'validate'):\n",
    "    %cd ../utils\n",
    "\n",
    "import query_utils\n",
    "import model_utils\n",
    "import validation_utils\n",
    "import data_utils\n",
    "\n",
    "if (os.path.abspath('').split('/')[-1] == 'utils'):\n",
    "    %cd ..\n",
    "\n",
    "\n",
    "simplefilter(action=\"ignore\", category=pd.errors.PerformanceWarning)\n",
    "simplefilter(action='ignore', category=FutureWarning)\n",
    "pd.options.mode.chained_assignment = None"
   ]
  },
  {
   "cell_type": "code",
   "execution_count": 2,
   "metadata": {},
   "outputs": [
    {
     "name": "stdout",
     "output_type": "stream",
     "text": [
      "working directory: /Users/benjaminli/Documents/coding/scires/project\n"
     ]
    }
   ],
   "source": [
    "dataset = data_utils.retrieveAllDatasets()"
   ]
  },
  {
   "cell_type": "code",
   "execution_count": 3,
   "metadata": {},
   "outputs": [],
   "source": [
    "gbm = pickle.load(open('models/curr_models/nardus_gridsearch.pkl', 'rb'))\n",
    "knn = pickle.load(open('models/curr_models/knn.pkl', 'rb'))\n",
    "# randforest = pickle.load(open('models/curr_models/randforest.pkl', 'rb'))\n",
    "svm = pickle.load(open('models/curr_models/svm.pkl', 'rb'))\n",
    "xgboost = pickle.load(open('models/curr_models/xgb-gridsearch.pkl', 'rb'))\n",
    "# xgboost_params = pickle.load(open('models/curr_models/xgBoost-params.pkl', 'rb'))\n",
    "\n",
    "mlp = pickle.load(open('models/curr_models/mlpClassifier.pkl', 'rb'))\n",
    "lr = pickle.load(open('models/curr_models/lrmodel.pkl', 'rb'))\n",
    "em = pickle.load(open('models/curr_models/em-test.pkl', 'rb'))\n",
    "\n",
    "# print(xgboost)\n",
    "# print(gbm.best_params_)\n",
    "# print(gbm.best_estimator_)\n",
    "# print(mlp)\n",
    "# print(xgboost)\n",
    "# print(knn)\n",
    "# print(em)\n",
    "ds = dataset['merged']['normalized-4']\n",
    "X_train, X_test, y_train, y_test = ds['X_train'], ds['X_test'], ds['y_train'], ds['y_test']\n",
    "X = pd.concat([X_train, X_test])\n",
    "y = np.concatenate([y_train, y_test], axis=0)"
   ]
  },
  {
   "cell_type": "code",
   "execution_count": null,
   "metadata": {},
   "outputs": [
    {
     "name": "stdout",
     "output_type": "stream",
     "text": [
      "StackingCVClassifier\n"
     ]
    },
    {
     "name": "stderr",
     "output_type": "stream",
     "text": [
      "[Parallel(n_jobs=-1)]: Using backend LokyBackend with 10 concurrent workers.\n"
     ]
    },
    {
     "name": "stdout",
     "output_type": "stream",
     "text": [
      "[CV] START .....................................................................\n",
      "[CV] START .....................................................................\n",
      "[CV] START .....................................................................\n",
      "[CV] START .....................................................................\n",
      "[CV] START .....................................................................\n",
      "[CV] START .....................................................................\n",
      "[CV] START .....................................................................\n",
      "[CV] START .....................................................................\n",
      "[CV] START .....................................................................\n",
      "[CV] START .....................................................................\n",
      "[CV] END ................................ score: (test=0.937) total time= 5.3min\n",
      "[CV] START .....................................................................\n",
      "[CV] END ................................ score: (test=0.939) total time= 5.3min\n",
      "[CV] START .....................................................................\n"
     ]
    },
    {
     "name": "stderr",
     "output_type": "stream",
     "text": [
      "[Parallel(n_jobs=-1)]: Done   2 out of  15 | elapsed:  5.3min remaining: 34.7min\n"
     ]
    },
    {
     "name": "stdout",
     "output_type": "stream",
     "text": [
      "[CV] END ................................ score: (test=0.928) total time= 5.3min\n",
      "[CV] START .....................................................................\n",
      "[CV] END ................................ score: (test=0.937) total time= 5.3min\n"
     ]
    },
    {
     "name": "stderr",
     "output_type": "stream",
     "text": [
      "[Parallel(n_jobs=-1)]: Done   4 out of  15 | elapsed:  5.4min remaining: 14.7min\n"
     ]
    },
    {
     "name": "stdout",
     "output_type": "stream",
     "text": [
      "[CV] START .....................................................................\n",
      "[CV] END ................................ score: (test=0.932) total time= 5.4min\n",
      "[CV] START .....................................................................\n",
      "[CV] END ................................ score: (test=0.930) total time= 5.4min\n"
     ]
    },
    {
     "name": "stderr",
     "output_type": "stream",
     "text": [
      "[Parallel(n_jobs=-1)]: Done   6 out of  15 | elapsed:  5.5min remaining:  8.2min\n"
     ]
    },
    {
     "name": "stdout",
     "output_type": "stream",
     "text": [
      "[CV] END ................................ score: (test=0.930) total time= 5.5min\n",
      "[CV] END ................................ score: (test=0.934) total time= 5.6min\n"
     ]
    },
    {
     "name": "stderr",
     "output_type": "stream",
     "text": [
      "[Parallel(n_jobs=-1)]: Done   8 out of  15 | elapsed:  5.7min remaining:  5.0min\n"
     ]
    },
    {
     "name": "stdout",
     "output_type": "stream",
     "text": [
      "[CV] END ................................ score: (test=0.939) total time= 5.7min\n",
      "[CV] END ................................ score: (test=0.938) total time= 5.8min\n"
     ]
    },
    {
     "name": "stderr",
     "output_type": "stream",
     "text": [
      "[Parallel(n_jobs=-1)]: Done  10 out of  15 | elapsed:  5.8min remaining:  2.9min\n"
     ]
    },
    {
     "name": "stdout",
     "output_type": "stream",
     "text": [
      "[CV] END ................................ score: (test=0.929) total time= 3.4min\n",
      "[CV] END ................................ score: (test=0.926) total time= 3.5min\n"
     ]
    },
    {
     "name": "stderr",
     "output_type": "stream",
     "text": [
      "[Parallel(n_jobs=-1)]: Done  12 out of  15 | elapsed:  8.9min remaining:  2.2min\n"
     ]
    },
    {
     "name": "stdout",
     "output_type": "stream",
     "text": [
      "[CV] END ................................ score: (test=0.942) total time= 3.6min\n",
      "[CV] END ................................ score: (test=0.936) total time= 3.7min\n",
      "[CV] END ................................ score: (test=0.931) total time= 3.7min\n",
      "Accuracy: 0.934 (0.005)\n",
      "0.934\n"
     ]
    },
    {
     "name": "stderr",
     "output_type": "stream",
     "text": [
      "[Parallel(n_jobs=-1)]: Done  15 out of  15 | elapsed:  9.0min finished\n"
     ]
    }
   ],
   "source": [
    "# print(validation_utils.cross_validate(zhang_GBM.best_estimator_, X, y)) # 0.937\n",
    "# print(validation_utils.cross_validate(zhang_svm, X, y)) # 0.93\n",
    "# print(validation_utils.cross_validate(merged_GBM.best_estimator_, X, y)) # 0.938\n",
    "# print(validation_utils.cross_validate(zhang_xgboost, X, y)) # 0.939\n",
    "\n",
    "# print(validation_utils.cross_validate(zhang_mlp, X, y)) # 0.93\n",
    "print(validation_utils.cross_validate(em.best_estimator_, X, y, verb=10)) # 0.943 accuracy"
   ]
  },
  {
   "cell_type": "code",
   "execution_count": null,
   "metadata": {},
   "outputs": [],
   "source": []
  },
  {
   "cell_type": "code",
   "execution_count": null,
   "metadata": {},
   "outputs": [
    {
     "name": "stdout",
     "output_type": "stream",
     "text": [
      "0.7667210440456771\n",
      "0.7121212121212122\n",
      "0.9330524344569289\n",
      "0.8303886925795053\n"
     ]
    }
   ],
   "source": [
    "print(f1_score(y_test, em.predict(X_test)))\n",
    "print(recall_score(y_test, em.predict(X_test)))\n",
    "print(accuracy_score(y_test, em.predict(X_test)))\n",
    "print(precision_score(y_test, em.predict(X_test)))\n",
    "# pickle.dump(em, open('models/curr_models/stacking-again.pkl', 'wb'))"
   ]
  },
  {
   "cell_type": "code",
   "execution_count": 4,
   "metadata": {},
   "outputs": [
    {
     "name": "stdout",
     "output_type": "stream",
     "text": [
      "StackingCVClassifier\n",
      "{'recall': (<function recall_score at 0x14f151c10>, {'average': 'macro'})}\n"
     ]
    },
    {
     "name": "stderr",
     "output_type": "stream",
     "text": [
      "[Parallel(n_jobs=-1)]: Using backend LokyBackend with 10 concurrent workers.\n",
      "[Parallel(n_jobs=-1)]: Done   2 out of  15 | elapsed:    2.2s remaining:   14.4s\n",
      "[Parallel(n_jobs=-1)]: Done   4 out of  15 | elapsed:    2.2s remaining:    6.2s\n",
      "[Parallel(n_jobs=-1)]: Done   6 out of  15 | elapsed:    2.2s remaining:    3.4s\n",
      "[Parallel(n_jobs=-1)]: Done   8 out of  15 | elapsed:    2.2s remaining:    2.0s\n",
      "[Parallel(n_jobs=-1)]: Done  10 out of  15 | elapsed:    2.2s remaining:    1.1s\n",
      "[Parallel(n_jobs=-1)]: Done  12 out of  15 | elapsed:    2.2s remaining:    0.6s\n"
     ]
    },
    {
     "ename": "BrokenProcessPool",
     "evalue": "A task has failed to un-serialize. Please ensure that the arguments of the function are all picklable.",
     "output_type": "error",
     "traceback": [
      "\u001b[0;31m---------------------------------------------------------------------------\u001b[0m",
      "\u001b[0;31m_RemoteTraceback\u001b[0m                          Traceback (most recent call last)",
      "\u001b[0;31m_RemoteTraceback\u001b[0m: \n\"\"\"\nTraceback (most recent call last):\n  File \"/Users/benjaminli/opt/miniconda3/envs/seq/lib/python3.8/site-packages/joblib/externals/loky/process_executor.py\", line 391, in _process_worker\n    call_item = call_queue.get(block=True, timeout=timeout)\n  File \"/Users/benjaminli/opt/miniconda3/envs/seq/lib/python3.8/multiprocessing/queues.py\", line 116, in get\n    return _ForkingPickler.loads(res)\nModuleNotFoundError: No module named 'validation_utils'\n\"\"\"",
      "\nThe above exception was the direct cause of the following exception:\n",
      "\u001b[0;31mBrokenProcessPool\u001b[0m                         Traceback (most recent call last)",
      "\u001b[1;32m/Users/benjaminli/Documents/coding/scires/project/validate/validate.ipynb Cell 9\u001b[0m in \u001b[0;36m<cell line: 4>\u001b[0;34m()\u001b[0m\n\u001b[1;32m      <a href='vscode-notebook-cell:/Users/benjaminli/Documents/coding/scires/project/validate/validate.ipynb#X16sZmlsZQ%3D%3D?line=0'>1</a>\u001b[0m \u001b[39m# validation_utils.cross_validate(knntest, X, y, verb=10, scoring='recall')\u001b[39;00m\n\u001b[1;32m      <a href='vscode-notebook-cell:/Users/benjaminli/Documents/coding/scires/project/validate/validate.ipynb#X16sZmlsZQ%3D%3D?line=1'>2</a>\u001b[0m \u001b[39m# validation_utils.cross_validate(randforest, X, y, verb=10, scoring='recall')\u001b[39;00m\n\u001b[1;32m      <a href='vscode-notebook-cell:/Users/benjaminli/Documents/coding/scires/project/validate/validate.ipynb#X16sZmlsZQ%3D%3D?line=2'>3</a>\u001b[0m \u001b[39m# validation_utils.cross_validate(temp_svm, X, y, verb=10, scoring='recall')\u001b[39;00m\n\u001b[0;32m----> <a href='vscode-notebook-cell:/Users/benjaminli/Documents/coding/scires/project/validate/validate.ipynb#X16sZmlsZQ%3D%3D?line=3'>4</a>\u001b[0m validation_utils\u001b[39m.\u001b[39;49mcross_validate(em, X, y, verb\u001b[39m=\u001b[39;49m\u001b[39m10\u001b[39;49m, scoring\u001b[39m=\u001b[39;49m[\u001b[39m'\u001b[39;49m\u001b[39mrecall\u001b[39;49m\u001b[39m'\u001b[39;49m])\n",
      "File \u001b[0;32m~/Documents/coding/scires/project/utils/validation_utils.py:415\u001b[0m, in \u001b[0;36mcross_validate\u001b[0;34m(model, X, y, verb, scoring, splits)\u001b[0m\n\u001b[1;32m    411\u001b[0m scorer \u001b[39m=\u001b[39m MultiScorer(realdi)\n\u001b[1;32m    414\u001b[0m cv \u001b[39m=\u001b[39m RepeatedStratifiedKFold(n_splits\u001b[39m=\u001b[39msplits, n_repeats\u001b[39m=\u001b[39m\u001b[39m3\u001b[39m, random_state\u001b[39m=\u001b[39m\u001b[39m1\u001b[39m)\n\u001b[0;32m--> 415\u001b[0m n_scores \u001b[39m=\u001b[39m cross_val_score(model, X, y, scoring\u001b[39m=\u001b[39;49mscorer, cv\u001b[39m=\u001b[39;49mcv, n_jobs\u001b[39m=\u001b[39;49m\u001b[39m-\u001b[39;49m\u001b[39m1\u001b[39;49m, error_score\u001b[39m=\u001b[39;49m\u001b[39m'\u001b[39;49m\u001b[39mraise\u001b[39;49m\u001b[39m'\u001b[39;49m, verbose\u001b[39m=\u001b[39;49mverb)\n\u001b[1;32m    416\u001b[0m \u001b[39m# print('Accuracy: %.3f (%.3f)' % (mean(n_scores), std(n_scores)))\u001b[39;00m\n\u001b[1;32m    417\u001b[0m \u001b[39mprint\u001b[39m(scorer)\n",
      "File \u001b[0;32m~/opt/miniconda3/envs/seq/lib/python3.8/site-packages/sklearn/model_selection/_validation.py:515\u001b[0m, in \u001b[0;36mcross_val_score\u001b[0;34m(estimator, X, y, groups, scoring, cv, n_jobs, verbose, fit_params, pre_dispatch, error_score)\u001b[0m\n\u001b[1;32m    512\u001b[0m \u001b[39m# To ensure multimetric format is not supported\u001b[39;00m\n\u001b[1;32m    513\u001b[0m scorer \u001b[39m=\u001b[39m check_scoring(estimator, scoring\u001b[39m=\u001b[39mscoring)\n\u001b[0;32m--> 515\u001b[0m cv_results \u001b[39m=\u001b[39m cross_validate(\n\u001b[1;32m    516\u001b[0m     estimator\u001b[39m=\u001b[39;49mestimator,\n\u001b[1;32m    517\u001b[0m     X\u001b[39m=\u001b[39;49mX,\n\u001b[1;32m    518\u001b[0m     y\u001b[39m=\u001b[39;49my,\n\u001b[1;32m    519\u001b[0m     groups\u001b[39m=\u001b[39;49mgroups,\n\u001b[1;32m    520\u001b[0m     scoring\u001b[39m=\u001b[39;49m{\u001b[39m\"\u001b[39;49m\u001b[39mscore\u001b[39;49m\u001b[39m\"\u001b[39;49m: scorer},\n\u001b[1;32m    521\u001b[0m     cv\u001b[39m=\u001b[39;49mcv,\n\u001b[1;32m    522\u001b[0m     n_jobs\u001b[39m=\u001b[39;49mn_jobs,\n\u001b[1;32m    523\u001b[0m     verbose\u001b[39m=\u001b[39;49mverbose,\n\u001b[1;32m    524\u001b[0m     fit_params\u001b[39m=\u001b[39;49mfit_params,\n\u001b[1;32m    525\u001b[0m     pre_dispatch\u001b[39m=\u001b[39;49mpre_dispatch,\n\u001b[1;32m    526\u001b[0m     error_score\u001b[39m=\u001b[39;49merror_score,\n\u001b[1;32m    527\u001b[0m )\n\u001b[1;32m    528\u001b[0m \u001b[39mreturn\u001b[39;00m cv_results[\u001b[39m\"\u001b[39m\u001b[39mtest_score\u001b[39m\u001b[39m\"\u001b[39m]\n",
      "File \u001b[0;32m~/opt/miniconda3/envs/seq/lib/python3.8/site-packages/sklearn/model_selection/_validation.py:266\u001b[0m, in \u001b[0;36mcross_validate\u001b[0;34m(estimator, X, y, groups, scoring, cv, n_jobs, verbose, fit_params, pre_dispatch, return_train_score, return_estimator, error_score)\u001b[0m\n\u001b[1;32m    263\u001b[0m \u001b[39m# We clone the estimator to make sure that all the folds are\u001b[39;00m\n\u001b[1;32m    264\u001b[0m \u001b[39m# independent, and that it is pickle-able.\u001b[39;00m\n\u001b[1;32m    265\u001b[0m parallel \u001b[39m=\u001b[39m Parallel(n_jobs\u001b[39m=\u001b[39mn_jobs, verbose\u001b[39m=\u001b[39mverbose, pre_dispatch\u001b[39m=\u001b[39mpre_dispatch)\n\u001b[0;32m--> 266\u001b[0m results \u001b[39m=\u001b[39m parallel(\n\u001b[1;32m    267\u001b[0m     delayed(_fit_and_score)(\n\u001b[1;32m    268\u001b[0m         clone(estimator),\n\u001b[1;32m    269\u001b[0m         X,\n\u001b[1;32m    270\u001b[0m         y,\n\u001b[1;32m    271\u001b[0m         scorers,\n\u001b[1;32m    272\u001b[0m         train,\n\u001b[1;32m    273\u001b[0m         test,\n\u001b[1;32m    274\u001b[0m         verbose,\n\u001b[1;32m    275\u001b[0m         \u001b[39mNone\u001b[39;49;00m,\n\u001b[1;32m    276\u001b[0m         fit_params,\n\u001b[1;32m    277\u001b[0m         return_train_score\u001b[39m=\u001b[39;49mreturn_train_score,\n\u001b[1;32m    278\u001b[0m         return_times\u001b[39m=\u001b[39;49m\u001b[39mTrue\u001b[39;49;00m,\n\u001b[1;32m    279\u001b[0m         return_estimator\u001b[39m=\u001b[39;49mreturn_estimator,\n\u001b[1;32m    280\u001b[0m         error_score\u001b[39m=\u001b[39;49merror_score,\n\u001b[1;32m    281\u001b[0m     )\n\u001b[1;32m    282\u001b[0m     \u001b[39mfor\u001b[39;49;00m train, test \u001b[39min\u001b[39;49;00m cv\u001b[39m.\u001b[39;49msplit(X, y, groups)\n\u001b[1;32m    283\u001b[0m )\n\u001b[1;32m    285\u001b[0m _warn_or_raise_about_fit_failures(results, error_score)\n\u001b[1;32m    287\u001b[0m \u001b[39m# For callabe scoring, the return type is only know after calling. If the\u001b[39;00m\n\u001b[1;32m    288\u001b[0m \u001b[39m# return type is a dictionary, the error scores can now be inserted with\u001b[39;00m\n\u001b[1;32m    289\u001b[0m \u001b[39m# the correct key.\u001b[39;00m\n",
      "File \u001b[0;32m~/opt/miniconda3/envs/seq/lib/python3.8/site-packages/joblib/parallel.py:1098\u001b[0m, in \u001b[0;36mParallel.__call__\u001b[0;34m(self, iterable)\u001b[0m\n\u001b[1;32m   1095\u001b[0m     \u001b[39mself\u001b[39m\u001b[39m.\u001b[39m_iterating \u001b[39m=\u001b[39m \u001b[39mFalse\u001b[39;00m\n\u001b[1;32m   1097\u001b[0m \u001b[39mwith\u001b[39;00m \u001b[39mself\u001b[39m\u001b[39m.\u001b[39m_backend\u001b[39m.\u001b[39mretrieval_context():\n\u001b[0;32m-> 1098\u001b[0m     \u001b[39mself\u001b[39;49m\u001b[39m.\u001b[39;49mretrieve()\n\u001b[1;32m   1099\u001b[0m \u001b[39m# Make sure that we get a last message telling us we are done\u001b[39;00m\n\u001b[1;32m   1100\u001b[0m elapsed_time \u001b[39m=\u001b[39m time\u001b[39m.\u001b[39mtime() \u001b[39m-\u001b[39m \u001b[39mself\u001b[39m\u001b[39m.\u001b[39m_start_time\n",
      "File \u001b[0;32m~/opt/miniconda3/envs/seq/lib/python3.8/site-packages/joblib/parallel.py:975\u001b[0m, in \u001b[0;36mParallel.retrieve\u001b[0;34m(self)\u001b[0m\n\u001b[1;32m    973\u001b[0m \u001b[39mtry\u001b[39;00m:\n\u001b[1;32m    974\u001b[0m     \u001b[39mif\u001b[39;00m \u001b[39mgetattr\u001b[39m(\u001b[39mself\u001b[39m\u001b[39m.\u001b[39m_backend, \u001b[39m'\u001b[39m\u001b[39msupports_timeout\u001b[39m\u001b[39m'\u001b[39m, \u001b[39mFalse\u001b[39;00m):\n\u001b[0;32m--> 975\u001b[0m         \u001b[39mself\u001b[39m\u001b[39m.\u001b[39m_output\u001b[39m.\u001b[39mextend(job\u001b[39m.\u001b[39;49mget(timeout\u001b[39m=\u001b[39;49m\u001b[39mself\u001b[39;49m\u001b[39m.\u001b[39;49mtimeout))\n\u001b[1;32m    976\u001b[0m     \u001b[39melse\u001b[39;00m:\n\u001b[1;32m    977\u001b[0m         \u001b[39mself\u001b[39m\u001b[39m.\u001b[39m_output\u001b[39m.\u001b[39mextend(job\u001b[39m.\u001b[39mget())\n",
      "File \u001b[0;32m~/opt/miniconda3/envs/seq/lib/python3.8/site-packages/joblib/_parallel_backends.py:567\u001b[0m, in \u001b[0;36mLokyBackend.wrap_future_result\u001b[0;34m(future, timeout)\u001b[0m\n\u001b[1;32m    564\u001b[0m \u001b[39m\"\"\"Wrapper for Future.result to implement the same behaviour as\u001b[39;00m\n\u001b[1;32m    565\u001b[0m \u001b[39mAsyncResults.get from multiprocessing.\"\"\"\u001b[39;00m\n\u001b[1;32m    566\u001b[0m \u001b[39mtry\u001b[39;00m:\n\u001b[0;32m--> 567\u001b[0m     \u001b[39mreturn\u001b[39;00m future\u001b[39m.\u001b[39;49mresult(timeout\u001b[39m=\u001b[39;49mtimeout)\n\u001b[1;32m    568\u001b[0m \u001b[39mexcept\u001b[39;00m CfTimeoutError \u001b[39mas\u001b[39;00m e:\n\u001b[1;32m    569\u001b[0m     \u001b[39mraise\u001b[39;00m \u001b[39mTimeoutError\u001b[39;00m \u001b[39mfrom\u001b[39;00m \u001b[39me\u001b[39;00m\n",
      "File \u001b[0;32m~/opt/miniconda3/envs/seq/lib/python3.8/concurrent/futures/_base.py:444\u001b[0m, in \u001b[0;36mFuture.result\u001b[0;34m(self, timeout)\u001b[0m\n\u001b[1;32m    442\u001b[0m     \u001b[39mraise\u001b[39;00m CancelledError()\n\u001b[1;32m    443\u001b[0m \u001b[39melif\u001b[39;00m \u001b[39mself\u001b[39m\u001b[39m.\u001b[39m_state \u001b[39m==\u001b[39m FINISHED:\n\u001b[0;32m--> 444\u001b[0m     \u001b[39mreturn\u001b[39;00m \u001b[39mself\u001b[39;49m\u001b[39m.\u001b[39;49m__get_result()\n\u001b[1;32m    445\u001b[0m \u001b[39melse\u001b[39;00m:\n\u001b[1;32m    446\u001b[0m     \u001b[39mraise\u001b[39;00m \u001b[39mTimeoutError\u001b[39;00m()\n",
      "File \u001b[0;32m~/opt/miniconda3/envs/seq/lib/python3.8/concurrent/futures/_base.py:389\u001b[0m, in \u001b[0;36mFuture.__get_result\u001b[0;34m(self)\u001b[0m\n\u001b[1;32m    387\u001b[0m \u001b[39mif\u001b[39;00m \u001b[39mself\u001b[39m\u001b[39m.\u001b[39m_exception:\n\u001b[1;32m    388\u001b[0m     \u001b[39mtry\u001b[39;00m:\n\u001b[0;32m--> 389\u001b[0m         \u001b[39mraise\u001b[39;00m \u001b[39mself\u001b[39m\u001b[39m.\u001b[39m_exception\n\u001b[1;32m    390\u001b[0m     \u001b[39mfinally\u001b[39;00m:\n\u001b[1;32m    391\u001b[0m         \u001b[39m# Break a reference cycle with the exception in self._exception\u001b[39;00m\n\u001b[1;32m    392\u001b[0m         \u001b[39mself\u001b[39m \u001b[39m=\u001b[39m \u001b[39mNone\u001b[39;00m\n",
      "\u001b[0;31mBrokenProcessPool\u001b[0m: A task has failed to un-serialize. Please ensure that the arguments of the function are all picklable."
     ]
    }
   ],
   "source": [
    "# validation_utils.cross_validate(knntest, X, y, verb=10, scoring='recall')\n",
    "# validation_utils.cross_validate(randforest, X, y, verb=10, scoring='recall')\n",
    "# validation_utils.cross_validate(temp_svm, X, y, verb=10, scoring='recall')\n",
    "validation_utils.cross_validate(em, X, y, verb=10, scoring=['recall'])"
   ]
  },
  {
   "cell_type": "code",
   "execution_count": null,
   "metadata": {},
   "outputs": [
    {
     "name": "stdout",
     "output_type": "stream",
     "text": [
      "[BalancedBaggingClassifier(base_estimator=XGBClassifier(base_score=0.5,\n",
      "                                                       booster='gbtree',\n",
      "                                                       callbacks=None,\n",
      "                                                       colsample_bylevel=1,\n",
      "                                                       colsample_bynode=1,\n",
      "                                                       colsample_bytree=0.8,\n",
      "                                                       early_stopping_rounds=None,\n",
      "                                                       enable_categorical=False,\n",
      "                                                       eval_metric=None,\n",
      "                                                       feature_types=None,\n",
      "                                                       gamma=0.6, gpu_id=-1,\n",
      "                                                       grow_policy='depthwise',\n",
      "                                                       importance_type=None,\n",
      "                                                       interaction_constraints='',\n",
      "                                                       learning_rate=0.1,\n",
      "                                                       max_bin=256,\n",
      "                                                       max_cat_threshold=64,\n",
      "                                                       max_cat_to_onehot=4,\n",
      "                                                       max_delta_step=0,\n",
      "                                                       max_depth=9,\n",
      "                                                       max_leaves=0,\n",
      "                                                       min_child_weight=3,\n",
      "                                                       missing=nan,\n",
      "                                                       monotone_constraints='()',\n",
      "                                                       n_estimators=250,\n",
      "                                                       n_jobs=-1,\n",
      "                                                       num_parallel_tree=1,\n",
      "                                                       predictor='auto',\n",
      "                                                       random_state=42, ...),\n",
      "                          n_jobs=-1, random_state=42), BalancedBaggingClassifier(base_estimator=SVC(C=2, gamma=0.6, probability=True,\n",
      "                                             random_state=42),\n",
      "                          n_jobs=-1, random_state=42), BalancedBaggingClassifier(base_estimator=MLPClassifier(alpha=0.6,\n",
      "                                                       hidden_layer_sizes=(100,\n",
      "                                                                           180,\n",
      "                                                                           180,\n",
      "                                                                           200,\n",
      "                                                                           200),\n",
      "                                                       max_iter=550,\n",
      "                                                       random_state=42),\n",
      "                          n_jobs=-1, random_state=42), BalancedBaggingClassifier(base_estimator=KNeighborsClassifier(n_jobs=-1,\n",
      "                                                              n_neighbors=1),\n",
      "                          n_estimators=20, n_jobs=-1), BalancedRandomForestClassifier(n_estimators=250, n_jobs=-1)]\n"
     ]
    }
   ],
   "source": [
    "print(em.clfs_)\n",
    "pickle.dump(em, open('models/curr_models/em-test.pkl', 'wb'))"
   ]
  },
  {
   "cell_type": "code",
   "execution_count": null,
   "metadata": {},
   "outputs": [],
   "source": [
    "pickle.dump(em, open('models/curr_models/final_merged_stackingcv-2.pkl', 'wb'))"
   ]
  },
  {
   "cell_type": "code",
   "execution_count": null,
   "metadata": {},
   "outputs": [
    {
     "name": "stdout",
     "output_type": "stream",
     "text": [
      "StackingCVClassifier\n"
     ]
    },
    {
     "name": "stderr",
     "output_type": "stream",
     "text": [
      "[Parallel(n_jobs=-1)]: Using backend LokyBackend with 10 concurrent workers.\n"
     ]
    },
    {
     "name": "stdout",
     "output_type": "stream",
     "text": [
      "Fitting 3 classifiers...Fitting 3 classifiers...\n",
      "\n",
      "Fitting 3 classifiers...Fitting 3 classifiers...Fitting 3 classifiers...\n",
      "\n",
      "\n",
      "Fitting 3 classifiers...Fitting 3 classifiers...\n",
      "\n",
      "Fitting 3 classifiers...\n",
      "Fitting classifier1: mlpclassifier (1/3)\n",
      "Fitting classifier1: mlpclassifier (1/3)\n",
      "Fitting classifier1: mlpclassifier (1/3)\n",
      "Fitting classifier1: mlpclassifier (1/3)\n",
      "Fitting classifier1: mlpclassifier (1/3)\n",
      "Fitting classifier1: mlpclassifier (1/3)\n",
      "Fitting classifier1: mlpclassifier (1/3)\n",
      "Fitting classifier1: mlpclassifier (1/3)\n",
      "Fitting 3 classifiers...\n",
      "Fitting 3 classifiers...\n",
      "Fitting classifier1: mlpclassifier (1/3)\n",
      "Fitting classifier1: mlpclassifier (1/3)\n"
     ]
    },
    {
     "name": "stderr",
     "output_type": "stream",
     "text": [
      "[Parallel(n_jobs=-1)]: Using backend ThreadingBackend with 10 concurrent workers.\n",
      "[Parallel(n_jobs=-1)]: Using backend ThreadingBackend with 10 concurrent workers.\n",
      "[Parallel(n_jobs=-1)]: Using backend ThreadingBackend with 10 concurrent workers.\n",
      "[Parallel(n_jobs=-1)]: Using backend ThreadingBackend with 10 concurrent workers.\n",
      "[Parallel(n_jobs=-1)]: Using backend ThreadingBackend with 10 concurrent workers.\n",
      "[Parallel(n_jobs=-1)]: Using backend ThreadingBackend with 10 concurrent workers.\n",
      "[Parallel(n_jobs=-1)]: Using backend ThreadingBackend with 10 concurrent workers.\n",
      "[Parallel(n_jobs=-1)]: Using backend ThreadingBackend with 10 concurrent workers.\n",
      "[Parallel(n_jobs=-1)]: Using backend ThreadingBackend with 10 concurrent workers.\n",
      "[Parallel(n_jobs=-1)]: Using backend ThreadingBackend with 10 concurrent workers.\n",
      "[Parallel(n_jobs=-1)]: Done   5 out of   5 | elapsed:  1.8min finished\n",
      "[Parallel(n_jobs=-1)]: Using backend ThreadingBackend with 10 concurrent workers.\n",
      "[Parallel(n_jobs=-1)]: Done   5 out of   5 | elapsed:  1.8min finished\n",
      "[Parallel(n_jobs=-1)]: Using backend ThreadingBackend with 10 concurrent workers.\n"
     ]
    },
    {
     "name": "stdout",
     "output_type": "stream",
     "text": [
      "Fitting classifier2: xgbclassifier (2/3)\n",
      "Fitting classifier2: xgbclassifier (2/3)\n"
     ]
    },
    {
     "name": "stderr",
     "output_type": "stream",
     "text": [
      "[Parallel(n_jobs=-1)]: Done   5 out of   5 | elapsed:  1.8min finished\n",
      "[Parallel(n_jobs=-1)]: Using backend ThreadingBackend with 10 concurrent workers.\n"
     ]
    },
    {
     "name": "stdout",
     "output_type": "stream",
     "text": [
      "Fitting classifier2: xgbclassifier (2/3)\n"
     ]
    },
    {
     "name": "stderr",
     "output_type": "stream",
     "text": [
      "[Parallel(n_jobs=-1)]: Done   5 out of   5 | elapsed:  1.8min finished\n",
      "[Parallel(n_jobs=-1)]: Using backend ThreadingBackend with 10 concurrent workers.\n"
     ]
    },
    {
     "name": "stdout",
     "output_type": "stream",
     "text": [
      "Fitting classifier2: xgbclassifier (2/3)\n"
     ]
    },
    {
     "name": "stderr",
     "output_type": "stream",
     "text": [
      "[Parallel(n_jobs=-1)]: Done   5 out of   5 | elapsed:  1.9min finished\n",
      "[Parallel(n_jobs=-1)]: Using backend ThreadingBackend with 10 concurrent workers.\n"
     ]
    },
    {
     "name": "stdout",
     "output_type": "stream",
     "text": [
      "Fitting classifier2: xgbclassifier (2/3)\n"
     ]
    },
    {
     "name": "stderr",
     "output_type": "stream",
     "text": [
      "[Parallel(n_jobs=-1)]: Done   5 out of   5 | elapsed:  1.9min finished\n",
      "[Parallel(n_jobs=-1)]: Using backend ThreadingBackend with 10 concurrent workers.\n"
     ]
    },
    {
     "name": "stdout",
     "output_type": "stream",
     "text": [
      "Fitting classifier2: xgbclassifier (2/3)\n"
     ]
    },
    {
     "name": "stderr",
     "output_type": "stream",
     "text": [
      "[Parallel(n_jobs=-1)]: Done   5 out of   5 | elapsed:  1.9min finished\n",
      "[Parallel(n_jobs=-1)]: Using backend ThreadingBackend with 10 concurrent workers.\n"
     ]
    },
    {
     "name": "stdout",
     "output_type": "stream",
     "text": [
      "Fitting classifier2: xgbclassifier (2/3)\n"
     ]
    },
    {
     "name": "stderr",
     "output_type": "stream",
     "text": [
      "[Parallel(n_jobs=-1)]: Done   5 out of   5 | elapsed:  2.0min finished\n",
      "[Parallel(n_jobs=-1)]: Using backend ThreadingBackend with 10 concurrent workers.\n"
     ]
    },
    {
     "name": "stdout",
     "output_type": "stream",
     "text": [
      "Fitting classifier2: xgbclassifier (2/3)\n"
     ]
    },
    {
     "name": "stderr",
     "output_type": "stream",
     "text": [
      "[Parallel(n_jobs=-1)]: Done   5 out of   5 | elapsed:  2.0min finished\n",
      "[Parallel(n_jobs=-1)]: Using backend ThreadingBackend with 10 concurrent workers.\n"
     ]
    },
    {
     "name": "stdout",
     "output_type": "stream",
     "text": [
      "Fitting classifier2: xgbclassifier (2/3)\n"
     ]
    },
    {
     "name": "stderr",
     "output_type": "stream",
     "text": [
      "[Parallel(n_jobs=-1)]: Done   5 out of   5 | elapsed:  2.1min finished\n",
      "[Parallel(n_jobs=-1)]: Using backend ThreadingBackend with 10 concurrent workers.\n"
     ]
    },
    {
     "name": "stdout",
     "output_type": "stream",
     "text": [
      "Fitting classifier2: xgbclassifier (2/3)\n"
     ]
    },
    {
     "name": "stderr",
     "output_type": "stream",
     "text": [
      "[Parallel(n_jobs=-1)]: Done   5 out of   5 | elapsed:  3.9min finished\n",
      "[Parallel(n_jobs=-1)]: Using backend ThreadingBackend with 10 concurrent workers.\n"
     ]
    },
    {
     "name": "stdout",
     "output_type": "stream",
     "text": [
      "Fitting classifier3: svc (3/3)\n"
     ]
    },
    {
     "name": "stderr",
     "output_type": "stream",
     "text": [
      "[Parallel(n_jobs=-1)]: Done   5 out of   5 | elapsed:  3.9min finished\n",
      "[Parallel(n_jobs=-1)]: Using backend ThreadingBackend with 10 concurrent workers.\n"
     ]
    },
    {
     "name": "stdout",
     "output_type": "stream",
     "text": [
      "Fitting classifier3: svc (3/3)\n"
     ]
    },
    {
     "name": "stderr",
     "output_type": "stream",
     "text": [
      "[Parallel(n_jobs=-1)]: Done   5 out of   5 | elapsed:  3.9min finished\n",
      "[Parallel(n_jobs=-1)]: Using backend ThreadingBackend with 10 concurrent workers.\n"
     ]
    },
    {
     "name": "stdout",
     "output_type": "stream",
     "text": [
      "Fitting classifier3: svc (3/3)\n"
     ]
    },
    {
     "name": "stderr",
     "output_type": "stream",
     "text": [
      "[Parallel(n_jobs=-1)]: Done   5 out of   5 | elapsed:  3.9min finished\n",
      "[Parallel(n_jobs=-1)]: Using backend ThreadingBackend with 10 concurrent workers.\n"
     ]
    },
    {
     "name": "stdout",
     "output_type": "stream",
     "text": [
      "Fitting classifier3: svc (3/3)\n"
     ]
    },
    {
     "name": "stderr",
     "output_type": "stream",
     "text": [
      "[Parallel(n_jobs=-1)]: Done   5 out of   5 | elapsed:  4.0min finished\n",
      "[Parallel(n_jobs=-1)]: Using backend ThreadingBackend with 10 concurrent workers.\n"
     ]
    },
    {
     "name": "stdout",
     "output_type": "stream",
     "text": [
      "Fitting classifier3: svc (3/3)\n"
     ]
    },
    {
     "name": "stderr",
     "output_type": "stream",
     "text": [
      "[Parallel(n_jobs=-1)]: Done   5 out of   5 | elapsed:  4.0min finished\n",
      "[Parallel(n_jobs=-1)]: Using backend ThreadingBackend with 10 concurrent workers.\n"
     ]
    },
    {
     "name": "stdout",
     "output_type": "stream",
     "text": [
      "Fitting classifier3: svc (3/3)\n"
     ]
    },
    {
     "name": "stderr",
     "output_type": "stream",
     "text": [
      "[Parallel(n_jobs=-1)]: Done   5 out of   5 | elapsed:  4.0min finished\n",
      "[Parallel(n_jobs=-1)]: Using backend ThreadingBackend with 10 concurrent workers.\n"
     ]
    },
    {
     "name": "stdout",
     "output_type": "stream",
     "text": [
      "Fitting classifier3: svc (3/3)\n"
     ]
    },
    {
     "name": "stderr",
     "output_type": "stream",
     "text": [
      "[Parallel(n_jobs=-1)]: Done   5 out of   5 | elapsed:  4.1min finished\n",
      "[Parallel(n_jobs=-1)]: Using backend ThreadingBackend with 10 concurrent workers.\n"
     ]
    },
    {
     "name": "stdout",
     "output_type": "stream",
     "text": [
      "Fitting classifier3: svc (3/3)\n"
     ]
    },
    {
     "name": "stderr",
     "output_type": "stream",
     "text": [
      "[Parallel(n_jobs=-1)]: Done   5 out of   5 | elapsed:  4.1min finished\n",
      "[Parallel(n_jobs=-1)]: Using backend ThreadingBackend with 10 concurrent workers.\n"
     ]
    },
    {
     "name": "stdout",
     "output_type": "stream",
     "text": [
      "Fitting classifier3: svc (3/3)\n"
     ]
    },
    {
     "name": "stderr",
     "output_type": "stream",
     "text": [
      "[Parallel(n_jobs=-1)]: Done   5 out of   5 | elapsed:  4.2min finished\n",
      "[Parallel(n_jobs=-1)]: Using backend ThreadingBackend with 10 concurrent workers.\n"
     ]
    },
    {
     "name": "stdout",
     "output_type": "stream",
     "text": [
      "Fitting classifier3: svc (3/3)\n"
     ]
    },
    {
     "name": "stderr",
     "output_type": "stream",
     "text": [
      "[Parallel(n_jobs=-1)]: Done   5 out of   5 | elapsed:  6.3min finished\n",
      "[Parallel(n_jobs=-1)]: Done   5 out of   5 | elapsed:  6.4min finished\n",
      "[Parallel(n_jobs=-1)]: Done   5 out of   5 | elapsed:  6.5min finished\n",
      "[Parallel(n_jobs=-1)]: Done   5 out of   5 | elapsed:  6.5min finished\n",
      "[Parallel(n_jobs=-1)]: Done   5 out of   5 | elapsed:  6.5min finished\n",
      "[Parallel(n_jobs=-1)]: Done   5 out of   5 | elapsed:  6.7min finished\n",
      "[Parallel(n_jobs=-1)]: Done   5 out of   5 | elapsed:  6.6min finished\n",
      "[Parallel(n_jobs=-1)]: Done   5 out of   5 | elapsed:  6.8min finished\n",
      "[Parallel(n_jobs=-1)]: Done   5 out of   5 | elapsed:  6.8min finished\n",
      "[Parallel(n_jobs=-1)]: Done   5 out of   5 | elapsed:  6.7min finished\n"
     ]
    },
    {
     "name": "stdout",
     "output_type": "stream",
     "text": [
      "Fitting 3 classifiers...\n",
      "Fitting classifier1: mlpclassifier (1/3)\n"
     ]
    },
    {
     "name": "stderr",
     "output_type": "stream",
     "text": [
      "[Parallel(n_jobs=-1)]: Using backend ThreadingBackend with 10 concurrent workers.\n"
     ]
    },
    {
     "name": "stdout",
     "output_type": "stream",
     "text": [
      "Fitting 3 classifiers...\n",
      "Fitting classifier1: mlpclassifier (1/3)\n"
     ]
    },
    {
     "name": "stderr",
     "output_type": "stream",
     "text": [
      "[Parallel(n_jobs=-1)]: Using backend ThreadingBackend with 10 concurrent workers.\n"
     ]
    },
    {
     "name": "stdout",
     "output_type": "stream",
     "text": [
      "Fitting 3 classifiers...\n",
      "Fitting classifier1: mlpclassifier (1/3)\n"
     ]
    },
    {
     "name": "stderr",
     "output_type": "stream",
     "text": [
      "[Parallel(n_jobs=-1)]: Using backend ThreadingBackend with 10 concurrent workers.\n"
     ]
    },
    {
     "name": "stdout",
     "output_type": "stream",
     "text": [
      "Fitting 3 classifiers...\n",
      "Fitting classifier1: mlpclassifier (1/3)\n"
     ]
    },
    {
     "name": "stderr",
     "output_type": "stream",
     "text": [
      "[Parallel(n_jobs=-1)]: Using backend ThreadingBackend with 10 concurrent workers.\n"
     ]
    },
    {
     "name": "stdout",
     "output_type": "stream",
     "text": [
      "Fitting 3 classifiers...\n",
      "Fitting classifier1: mlpclassifier (1/3)\n"
     ]
    },
    {
     "name": "stderr",
     "output_type": "stream",
     "text": [
      "[Parallel(n_jobs=-1)]: Using backend ThreadingBackend with 10 concurrent workers.\n",
      "[Parallel(n_jobs=-1)]: Done   5 out of   5 | elapsed:  1.2min finished\n",
      "[Parallel(n_jobs=-1)]: Using backend ThreadingBackend with 10 concurrent workers.\n"
     ]
    },
    {
     "name": "stdout",
     "output_type": "stream",
     "text": [
      "Fitting classifier2: xgbclassifier (2/3)\n"
     ]
    },
    {
     "name": "stderr",
     "output_type": "stream",
     "text": [
      "[Parallel(n_jobs=-1)]: Done   5 out of   5 | elapsed:  1.4min finished\n",
      "[Parallel(n_jobs=-1)]: Using backend ThreadingBackend with 10 concurrent workers.\n"
     ]
    },
    {
     "name": "stdout",
     "output_type": "stream",
     "text": [
      "Fitting classifier2: xgbclassifier (2/3)\n"
     ]
    },
    {
     "name": "stderr",
     "output_type": "stream",
     "text": [
      "[Parallel(n_jobs=-1)]: Done   5 out of   5 | elapsed:  1.3min finished\n",
      "[Parallel(n_jobs=-1)]: Using backend ThreadingBackend with 10 concurrent workers.\n"
     ]
    },
    {
     "name": "stdout",
     "output_type": "stream",
     "text": [
      "Fitting classifier2: xgbclassifier (2/3)\n"
     ]
    },
    {
     "name": "stderr",
     "output_type": "stream",
     "text": [
      "[Parallel(n_jobs=-1)]: Done   5 out of   5 | elapsed:  1.3min finished\n",
      "[Parallel(n_jobs=-1)]: Using backend ThreadingBackend with 10 concurrent workers.\n"
     ]
    },
    {
     "name": "stdout",
     "output_type": "stream",
     "text": [
      "Fitting classifier2: xgbclassifier (2/3)\n"
     ]
    },
    {
     "name": "stderr",
     "output_type": "stream",
     "text": [
      "[Parallel(n_jobs=-1)]: Done   5 out of   5 | elapsed:  1.4min finished\n",
      "[Parallel(n_jobs=-1)]: Using backend ThreadingBackend with 10 concurrent workers.\n"
     ]
    },
    {
     "name": "stdout",
     "output_type": "stream",
     "text": [
      "Fitting classifier2: xgbclassifier (2/3)\n"
     ]
    },
    {
     "name": "stderr",
     "output_type": "stream",
     "text": [
      "[Parallel(n_jobs=-1)]: Done   5 out of   5 | elapsed:  1.8min finished\n",
      "[Parallel(n_jobs=-1)]: Using backend ThreadingBackend with 10 concurrent workers.\n"
     ]
    },
    {
     "name": "stdout",
     "output_type": "stream",
     "text": [
      "Fitting classifier3: svc (3/3)\n"
     ]
    },
    {
     "name": "stderr",
     "output_type": "stream",
     "text": [
      "[Parallel(n_jobs=-1)]: Done   5 out of   5 | elapsed:  2.0min finished\n",
      "[Parallel(n_jobs=-1)]: Using backend ThreadingBackend with 10 concurrent workers.\n"
     ]
    },
    {
     "name": "stdout",
     "output_type": "stream",
     "text": [
      "Fitting classifier3: svc (3/3)\n"
     ]
    },
    {
     "name": "stderr",
     "output_type": "stream",
     "text": [
      "[Parallel(n_jobs=-1)]: Done   5 out of   5 | elapsed:  2.0min finished\n",
      "[Parallel(n_jobs=-1)]: Using backend ThreadingBackend with 10 concurrent workers.\n"
     ]
    },
    {
     "name": "stdout",
     "output_type": "stream",
     "text": [
      "Fitting classifier3: svc (3/3)\n"
     ]
    },
    {
     "name": "stderr",
     "output_type": "stream",
     "text": [
      "[Parallel(n_jobs=-1)]: Done   5 out of   5 | elapsed:  2.1min finished\n",
      "[Parallel(n_jobs=-1)]: Using backend ThreadingBackend with 10 concurrent workers.\n"
     ]
    },
    {
     "name": "stdout",
     "output_type": "stream",
     "text": [
      "Fitting classifier3: svc (3/3)\n"
     ]
    },
    {
     "name": "stderr",
     "output_type": "stream",
     "text": [
      "[Parallel(n_jobs=-1)]: Done   5 out of   5 | elapsed:  2.1min finished\n",
      "[Parallel(n_jobs=-1)]: Using backend ThreadingBackend with 10 concurrent workers.\n"
     ]
    },
    {
     "name": "stdout",
     "output_type": "stream",
     "text": [
      "Fitting classifier3: svc (3/3)\n"
     ]
    },
    {
     "name": "stderr",
     "output_type": "stream",
     "text": [
      "[Parallel(n_jobs=-1)]: Done   5 out of   5 | elapsed:  2.5min finished\n",
      "[Parallel(n_jobs=-1)]: Done   5 out of   5 | elapsed:  3.0min finished\n",
      "[Parallel(n_jobs=-1)]: Done   5 out of   5 | elapsed:  3.1min finished\n",
      "[Parallel(n_jobs=-1)]: Done   5 out of   5 | elapsed:  3.0min finished\n",
      "[Parallel(n_jobs=-1)]: Done   5 out of   5 | elapsed:  3.0min finished\n",
      "[Parallel(n_jobs=-1)]: Done  12 out of  15 | elapsed: 24.8min remaining:  6.2min\n"
     ]
    },
    {
     "name": "stdout",
     "output_type": "stream",
     "text": [
      "Accuracy: 0.941 (0.004)\n",
      "0.941\n"
     ]
    },
    {
     "name": "stderr",
     "output_type": "stream",
     "text": [
      "[Parallel(n_jobs=-1)]: Done  15 out of  15 | elapsed: 25.3min finished\n"
     ]
    }
   ],
   "source": [
    "print(validation_utils.cross_validate(em, X, y)) # 0.941"
   ]
  },
  {
   "cell_type": "code",
   "execution_count": null,
   "metadata": {},
   "outputs": [
    {
     "name": "stdout",
     "output_type": "stream",
     "text": [
      "Fitting 3 classifiers...\n",
      "Fitting classifier1: mlpclassifier (1/3)\n"
     ]
    },
    {
     "name": "stderr",
     "output_type": "stream",
     "text": [
      "[Parallel(n_jobs=-1)]: Using backend LokyBackend with 10 concurrent workers.\n",
      "[Parallel(n_jobs=-1)]: Done   5 out of   5 | elapsed:   18.3s finished\n",
      "[Parallel(n_jobs=-1)]: Using backend LokyBackend with 10 concurrent workers.\n"
     ]
    },
    {
     "name": "stdout",
     "output_type": "stream",
     "text": [
      "Fitting classifier2: xgbclassifier (2/3)\n"
     ]
    },
    {
     "name": "stderr",
     "output_type": "stream",
     "text": [
      "[Parallel(n_jobs=-1)]: Done   5 out of   5 | elapsed:   40.6s finished\n",
      "[Parallel(n_jobs=-1)]: Using backend LokyBackend with 10 concurrent workers.\n"
     ]
    },
    {
     "name": "stdout",
     "output_type": "stream",
     "text": [
      "Fitting classifier3: svc (3/3)\n"
     ]
    },
    {
     "name": "stderr",
     "output_type": "stream",
     "text": [
      "[Parallel(n_jobs=-1)]: Done   5 out of   5 | elapsed:   16.2s finished\n",
      "/Users/benjaminli/opt/miniconda3/envs/seq/lib/python3.8/site-packages/sklearn/neural_network/_multilayer_perceptron.py:709: UserWarning: Training interrupted by user.\n",
      "  warnings.warn(\"Training interrupted by user.\")\n"
     ]
    },
    {
     "name": "stdout",
     "output_type": "stream",
     "text": [
      "fit done\n",
      "auc split:  0.9536507936507935\n",
      "Fitting 3 classifiers...\n",
      "Fitting classifier1: mlpclassifier (1/3)\n"
     ]
    },
    {
     "name": "stderr",
     "output_type": "stream",
     "text": [
      "[Parallel(n_jobs=-1)]: Using backend LokyBackend with 10 concurrent workers.\n",
      "[Parallel(n_jobs=-1)]: Done   5 out of   5 | elapsed:   18.5s finished\n",
      "[Parallel(n_jobs=-1)]: Using backend LokyBackend with 10 concurrent workers.\n"
     ]
    },
    {
     "name": "stdout",
     "output_type": "stream",
     "text": [
      "Fitting classifier2: xgbclassifier (2/3)\n"
     ]
    },
    {
     "name": "stderr",
     "output_type": "stream",
     "text": [
      "[Parallel(n_jobs=-1)]: Done   5 out of   5 | elapsed:   41.1s finished\n",
      "[Parallel(n_jobs=-1)]: Using backend LokyBackend with 10 concurrent workers.\n"
     ]
    },
    {
     "name": "stdout",
     "output_type": "stream",
     "text": [
      "Fitting classifier3: svc (3/3)\n"
     ]
    },
    {
     "name": "stderr",
     "output_type": "stream",
     "text": [
      "[Parallel(n_jobs=-1)]: Done   5 out of   5 | elapsed:   16.5s finished\n"
     ]
    },
    {
     "name": "stdout",
     "output_type": "stream",
     "text": [
      "fit done\n",
      "auc split:  0.9532295482295483\n",
      "Fitting 3 classifiers...\n",
      "Fitting classifier1: mlpclassifier (1/3)\n"
     ]
    },
    {
     "name": "stderr",
     "output_type": "stream",
     "text": [
      "[Parallel(n_jobs=-1)]: Using backend LokyBackend with 10 concurrent workers.\n",
      "[Parallel(n_jobs=-1)]: Done   5 out of   5 | elapsed:   20.7s finished\n",
      "[Parallel(n_jobs=-1)]: Using backend LokyBackend with 10 concurrent workers.\n"
     ]
    },
    {
     "name": "stdout",
     "output_type": "stream",
     "text": [
      "Fitting classifier2: xgbclassifier (2/3)\n"
     ]
    },
    {
     "name": "stderr",
     "output_type": "stream",
     "text": [
      "[Parallel(n_jobs=-1)]: Done   5 out of   5 | elapsed:   40.5s finished\n",
      "[Parallel(n_jobs=-1)]: Using backend LokyBackend with 10 concurrent workers.\n"
     ]
    },
    {
     "name": "stdout",
     "output_type": "stream",
     "text": [
      "Fitting classifier3: svc (3/3)\n"
     ]
    },
    {
     "name": "stderr",
     "output_type": "stream",
     "text": [
      "[Parallel(n_jobs=-1)]: Done   5 out of   5 | elapsed:   16.7s finished\n"
     ]
    },
    {
     "name": "stdout",
     "output_type": "stream",
     "text": [
      "fit done\n",
      "auc split:  0.9483717401612137\n",
      "Fitting 3 classifiers...\n",
      "Fitting classifier1: mlpclassifier (1/3)\n"
     ]
    },
    {
     "name": "stderr",
     "output_type": "stream",
     "text": [
      "[Parallel(n_jobs=-1)]: Using backend LokyBackend with 10 concurrent workers.\n",
      "[Parallel(n_jobs=-1)]: Done   5 out of   5 | elapsed:   17.8s finished\n",
      "[Parallel(n_jobs=-1)]: Using backend LokyBackend with 10 concurrent workers.\n"
     ]
    },
    {
     "name": "stdout",
     "output_type": "stream",
     "text": [
      "Fitting classifier2: xgbclassifier (2/3)\n"
     ]
    },
    {
     "name": "stderr",
     "output_type": "stream",
     "text": [
      "[Parallel(n_jobs=-1)]: Done   5 out of   5 | elapsed:   40.6s finished\n",
      "[Parallel(n_jobs=-1)]: Using backend LokyBackend with 10 concurrent workers.\n"
     ]
    },
    {
     "name": "stdout",
     "output_type": "stream",
     "text": [
      "Fitting classifier3: svc (3/3)\n"
     ]
    },
    {
     "name": "stderr",
     "output_type": "stream",
     "text": [
      "[Parallel(n_jobs=-1)]: Done   5 out of   5 | elapsed:   16.4s finished\n"
     ]
    },
    {
     "name": "stdout",
     "output_type": "stream",
     "text": [
      "fit done\n",
      "auc split:  0.9596184492581937\n",
      "Fitting 3 classifiers...\n",
      "Fitting classifier1: mlpclassifier (1/3)\n"
     ]
    },
    {
     "name": "stderr",
     "output_type": "stream",
     "text": [
      "[Parallel(n_jobs=-1)]: Using backend LokyBackend with 10 concurrent workers.\n",
      "[Parallel(n_jobs=-1)]: Done   5 out of   5 | elapsed:   21.3s finished\n",
      "[Parallel(n_jobs=-1)]: Using backend LokyBackend with 10 concurrent workers.\n"
     ]
    },
    {
     "name": "stdout",
     "output_type": "stream",
     "text": [
      "Fitting classifier2: xgbclassifier (2/3)\n"
     ]
    },
    {
     "name": "stderr",
     "output_type": "stream",
     "text": [
      "[Parallel(n_jobs=-1)]: Done   5 out of   5 | elapsed:   40.4s finished\n",
      "[Parallel(n_jobs=-1)]: Using backend LokyBackend with 10 concurrent workers.\n"
     ]
    },
    {
     "name": "stdout",
     "output_type": "stream",
     "text": [
      "Fitting classifier3: svc (3/3)\n"
     ]
    },
    {
     "name": "stderr",
     "output_type": "stream",
     "text": [
      "[Parallel(n_jobs=-1)]: Done   5 out of   5 | elapsed:   15.9s finished\n"
     ]
    },
    {
     "name": "stdout",
     "output_type": "stream",
     "text": [
      "fit done\n",
      "auc split:  0.9508494144812799\n",
      "0.9531439891562059\n"
     ]
    },
    {
     "data": {
      "image/png": "[encoded data removed]",
      "text/plain": [
       "<Figure size 640x480 with 1 Axes>"
      ]
     },
     "metadata": {},
     "output_type": "display_data"
    },
    {
     "name": "stdout",
     "output_type": "stream",
     "text": [
      "None\n"
     ]
    }
   ],
   "source": [
    "print(validation_utils.draw_avg_roc_curve(em,\"ensemble\", X, y))"
   ]
  },
  {
   "cell_type": "code",
   "execution_count": null,
   "metadata": {},
   "outputs": [],
   "source": [
    "# print(validation_utils.cross_validate(em, X_test, y_test))\n",
    "# model, name, X, y\n",
    "ds = datasets['merged'][f'normalized-4']\n",
    "\n",
    "X_train, y_train, X_test, y_test = ds['X_train'], ds['y_train'], ds['X_test'], ds['y_test']\n",
    "\n",
    "X = pd.concat([X_train, X_test])\n",
    "y = np.concatenate([ds['y_train'], ds['y_test']], axis=0)\n",
    "\n",
    "print(validation_utils.draw_avg_roc_curve(em, \"ensemble\", X, y))"
   ]
  },
  {
   "cell_type": "code",
   "execution_count": null,
   "metadata": {},
   "outputs": [
    {
     "name": "stderr",
     "output_type": "stream",
     "text": [
      "/Users/benjaminli/opt/miniconda3/envs/seq/lib/python3.8/site-packages/sklearn/neural_network/_multilayer_perceptron.py:709: UserWarning: Training interrupted by user.\n",
      "  warnings.warn(\"Training interrupted by user.\")\n"
     ]
    }
   ],
   "source": [
    "ds = datasets['merged'][f'normalized-4']\n",
    "\n",
    "X_train, y_train, X_test, y_test = ds['X_train'], ds['y_train'], ds['X_test'], ds['y_test']\n",
    "\n",
    "X = pd.concat([X_train, X_test])\n",
    "y = np.concatenate([ds['y_train'], ds['y_test']], axis=0)\n",
    "\n",
    "print(validation_utils.draw_avg_roc_curve(em, \"ensemble\", X, y))"
   ]
  },
  {
   "cell_type": "code",
   "execution_count": null,
   "metadata": {},
   "outputs": [],
   "source": [
    "# models = OrderedDict({\n",
    "#     'zhang_GBM': zhang_GBM.best_estimator_,\n",
    "#     'zhang_knn': zhang_knn,\n",
    "#     'zhang_randforest': zhang_randforest,\n",
    "#     'zhang_svm': zhang_svm,\n",
    "#     'zhang_xgboost': zhang_xgboost,\n",
    "#     'zhang_mlp': zhang_mlp,\n",
    "#     'zhang_lr': zhang_lr,\n",
    "#     # 'nardus_GBM': nardus_GBM,\n",
    "#     'merged_GBM': merged_GBM.best_estimator_,\n",
    "#     'merged_ensemble': em.best_estimator_\n",
    "# })\n",
    "\n",
    "bestandworst = OrderedDict({\n",
    "    'KNN': knntest, # 87.6%, \n",
    "    'Random Forest': randforest, # 88.7%\n",
    "    # 'svm': svm, # 92.9%\n",
    "    # 'mlp': mlp, # 93.0%\n",
    "    # 'xgboost': xgboost.best_estimator_, # 93.4%\n",
    "    'Ensemble': em # 94.1%\n",
    "})\n"
   ]
  },
  {
   "attachments": {},
   "cell_type": "markdown",
   "metadata": {},
   "source": [
    "### Validate models on the merged dataset"
   ]
  },
  {
   "cell_type": "code",
   "execution_count": null,
   "metadata": {},
   "outputs": [],
   "source": [
    "# print(validation_utils.cross_validate(zhang_knn, X, y)) # 0.884\n",
    "# print(validation_utils.cross_validate(zhang_randforest, X, y)) # 0.896\n",
    "# print(validation_utils.cross_validate(zhang_svm, X, y)) # 0.93\n",
    "# print(validation_utils.cross_validate(zhang_mlp, X, y)) # 0.935\n",
    "# print(validation_utils.cross_validate(merged_GBM.best_estimator_, X, y)) # 0.938\n",
    "# print(validation_utils.cross_validate(em.best_estimator_, X, y)) # 0.943 accuracy\n",
    "\n",
    "scores_merged, scores_nardus, scores_zhang = [], [], []\n",
    "kmer = 4"
   ]
  },
  {
   "cell_type": "code",
   "execution_count": null,
   "metadata": {},
   "outputs": [],
   "source": [
    "ds = datasets['merged'][f'normalized-{kmer}']\n",
    "\n",
    "# this one is trained on only the nardus one\n",
    "\n",
    "\"\"\"\n",
    "{'learning_rate': 0.15, 'max_depth': 8, 'max_features': 3, 'min_samples_split': 30, 'n_estimators': 130, 'subsample': 0.8}\n",
    "\"\"\"\n",
    "X_train, y_train, X_test, y_test = ds['X_train'], ds['y_train'], ds['X_test'], ds['y_test']\n",
    "X = pd.concat([X_train, X_test])\n",
    "y = np.concatenate([y_train, y_test], axis=0)\n",
    "x=0\n",
    "for modelName in bestandworst.keys():\n",
    "    if x == 6: break\n",
    "    print(modelName)\n",
    "    scores_merged.append(validation_utils.cross_validate(bestandworst[modelName], X, y))\n",
    "    x+=1"
   ]
  },
  {
   "cell_type": "code",
   "execution_count": null,
   "metadata": {},
   "outputs": [
    {
     "name": "stdout",
     "output_type": "stream",
     "text": [
      "XGBClassifier\n",
      "xgboost\n"
     ]
    },
    {
     "name": "stderr",
     "output_type": "stream",
     "text": [
      "[Parallel(n_jobs=-1)]: Using backend LokyBackend with 10 concurrent workers.\n",
      "[Parallel(n_jobs=-1)]: Done  12 out of  15 | elapsed:  1.9min remaining:   28.2s\n"
     ]
    },
    {
     "name": "stdout",
     "output_type": "stream",
     "text": [
      "Accuracy: 0.952 (0.005)\n",
      "0.952\n"
     ]
    },
    {
     "name": "stderr",
     "output_type": "stream",
     "text": [
      "[Parallel(n_jobs=-1)]: Done  15 out of  15 | elapsed:  1.9min finished\n"
     ]
    }
   ],
   "source": [
    "print(validation_utils.cross_validate(xgboost.best_estimator_, X, y, scoring='roc_auc'))"
   ]
  },
  {
   "cell_type": "code",
   "execution_count": null,
   "metadata": {},
   "outputs": [
    {
     "ename": "NameError",
     "evalue": "name 'scores_merged' is not defined",
     "output_type": "error",
     "traceback": [
      "\u001b[0;31m---------------------------------------------------------------------------\u001b[0m\n",
      "\u001b[0;31mNameError\u001b[0m                                 Traceback (most recent call last)\n",
      "\u001b[1;32m/Users/benjaminli/Documents/coding/scires/project/train_and_vis/models.ipynb Cell 40\u001b[0m in \u001b[0;36m<cell line: 1>\u001b[0;34m()\u001b[0m\n",
      "\u001b[0;32m----> <a href='vscode-notebook-cell:/Users/benjaminli/Documents/coding/scires/project/train_and_vis/models.ipynb#X50sZmlsZQ%3D%3D?line=0'>1</a>\u001b[0m \u001b[39mprint\u001b[39m(scores_merged)\n",
      "\n",
      "\u001b[0;31mNameError\u001b[0m: name 'scores_merged' is not defined"
     ]
    }
   ],
   "source": [
    "print(scores_merged)"
   ]
  },
  {
   "attachments": {},
   "cell_type": "markdown",
   "metadata": {},
   "source": [
    "### Validate models on only zhang dataset"
   ]
  },
  {
   "cell_type": "code",
   "execution_count": null,
   "metadata": {},
   "outputs": [
    {
     "name": "stdout",
     "output_type": "stream",
     "text": [
      "zhang_knn\n",
      "BalancedBaggingClassifier\n"
     ]
    },
    {
     "name": "stderr",
     "output_type": "stream",
     "text": [
      "[Parallel(n_jobs=-1)]: Using backend LokyBackend with 10 concurrent workers.\n",
      "[Parallel(n_jobs=-1)]: Done  30 out of  30 | elapsed:    3.5s finished\n"
     ]
    },
    {
     "name": "stdout",
     "output_type": "stream",
     "text": [
      "Accuracy: 0.866 (0.031)\n",
      "tn: 1259, fp: 359, fn: 228, tp: 20\n",
      "zhang_randforest\n",
      "BalancedBaggingClassifier\n"
     ]
    },
    {
     "name": "stderr",
     "output_type": "stream",
     "text": [
      "[Parallel(n_jobs=-1)]: Using backend LokyBackend with 10 concurrent workers.\n",
      "[Parallel(n_jobs=-1)]: Done  30 out of  30 | elapsed:    0.4s finished\n",
      "[Parallel(n_jobs=-1)]: Using backend LokyBackend with 10 concurrent workers.\n"
     ]
    },
    {
     "name": "stdout",
     "output_type": "stream",
     "text": [
      "Accuracy: 0.906 (0.023)\n",
      "tn: 1600, fp: 18, fn: 248, tp: 0\n",
      "merged_GBM\n",
      "GradientBoostingClassifier\n",
      "gradboost\n"
     ]
    },
    {
     "name": "stderr",
     "output_type": "stream",
     "text": [
      "[Parallel(n_jobs=-1)]: Done  30 out of  30 | elapsed:    1.8s finished\n",
      "[Parallel(n_jobs=-1)]: Using backend LokyBackend with 10 concurrent workers.\n"
     ]
    },
    {
     "name": "stdout",
     "output_type": "stream",
     "text": [
      "Accuracy: 0.947 (0.015)\n",
      "tn: 1616, fp: 2, fn: 33, tp: 215\n",
      "merged_ensemble\n",
      "StackingCVClassifier\n"
     ]
    },
    {
     "name": "stderr",
     "output_type": "stream",
     "text": [
      "[Parallel(n_jobs=-1)]: Done  30 out of  30 | elapsed:  2.5min finished\n"
     ]
    },
    {
     "name": "stdout",
     "output_type": "stream",
     "text": [
      "Accuracy: 0.942 (0.014)\n",
      "tn: 1601, fp: 17, fn: 9, tp: 239\n"
     ]
    }
   ],
   "source": [
    "# only zhang new\n",
    "# parameters={\n",
    "#    'n_estimators': 120, 'max_features': 2, 'max_depth': 6, 'random_state': 0, 'min_sample_split': 50, 'subsample': 0.8, 'learning_rate': 0.3\n",
    "# }\n",
    "# onlyzhanggradBoost = GradientBoostingClassifier(n_estimators=parameters['n_estimators'], \n",
    "#     learning_rate=0.3, max_features=parameters['max_features'], \n",
    "#     max_depth=parameters['max_depth'], random_state=parameters['random_state'], \n",
    "#     min_samples_split=parameters['min_sample_split'], subsample=parameters['subsample']\n",
    "# )\n",
    "\n",
    "# onlyzhanggradBoost.fit(X_train, y_train)\n",
    "# print(validation_utils.cross_validate(onlyzhanggradBoost, X_test, y_test))\n",
    "\n",
    "ds = datasets['zhang'][f'normalized-{kmer}']\n",
    "\n",
    "X_train, y_train, X_test, y_test = ds['X_train'], ds['y_train'], ds['X_test'], ds['y_test']\n",
    "for modelName in bestandworst:\n",
    "    print(modelName)\n",
    "    scores_zhang.append(validation_utils.cross_validate(bestandworst[modelName], X_test, y_test))"
   ]
  },
  {
   "cell_type": "code",
   "execution_count": null,
   "metadata": {},
   "outputs": [
    {
     "name": "stdout",
     "output_type": "stream",
     "text": [
      "[]\n"
     ]
    }
   ],
   "source": [
    "print(scores_zhang)"
   ]
  },
  {
   "attachments": {},
   "cell_type": "markdown",
   "metadata": {},
   "source": [
    "### Validate models only on nardus dataset"
   ]
  },
  {
   "cell_type": "code",
   "execution_count": null,
   "metadata": {},
   "outputs": [],
   "source": [
    "ds = datasets['nardus'][f'normalized-{kmer}']\n",
    "\n",
    "X_train, y_train, X_test, y_test = ds['X_train'], ds['y_train'], ds['X_test'], ds['y_test']\n",
    "print(\"acc on nardus\")\n",
    "\n",
    "parameters={\n",
    "   'n_estimators': 120, 'max_features': 2, 'max_depth': 6, 'random_state': 0, 'min_sample_split': 50, 'subsample': 0.8, 'learning_rate': 0.3\n",
    "}\n",
    "\n",
    "param_test1 = {'n_estimators':range(100,140,10), 'learning_rate':[0.1,0.15,0.2], 'subsample':[0.8,0.85,0.9], 'max_depth':range(6,9,1), 'min_samples_split':range(10,40,10), 'max_features':range(2, 5)}\n",
    "\n",
    "onlynardgradBoost = GridSearchCV(estimator = GradientBoostingClassifier(\n",
    "    n_estimators=parameters['n_estimators'], max_features=parameters['max_features'], random_state=parameters['random_state']), \n",
    "param_grid = param_test1, scoring='roc_auc',n_jobs=-1, cv=5, verbose=10)\n",
    "\n",
    "onlynardgradBoost.fit(X_train, y_train)"
   ]
  },
  {
   "cell_type": "code",
   "execution_count": null,
   "metadata": {},
   "outputs": [],
   "source": [
    "pickle.dump(onlynardgradBoost, open('models/curr_models/onlynardgradBoost.pkl', 'wb'))"
   ]
  },
  {
   "cell_type": "code",
   "execution_count": null,
   "metadata": {},
   "outputs": [
    {
     "name": "stdout",
     "output_type": "stream",
     "text": [
      "zhang_knn\n",
      "BalancedBaggingClassifier\n"
     ]
    },
    {
     "name": "stderr",
     "output_type": "stream",
     "text": [
      "[Parallel(n_jobs=-1)]: Using backend LokyBackend with 10 concurrent workers.\n",
      "[Parallel(n_jobs=-1)]: Done  30 out of  30 | elapsed:    0.2s finished\n",
      "[Parallel(n_jobs=-1)]: Using backend LokyBackend with 10 concurrent workers.\n"
     ]
    },
    {
     "name": "stdout",
     "output_type": "stream",
     "text": [
      "Accuracy: 0.668 (0.085)\n",
      "tn: 237, fp: 43, fn: 81, tp: 9\n",
      "zhang_randforest\n",
      "BalancedBaggingClassifier\n"
     ]
    },
    {
     "name": "stderr",
     "output_type": "stream",
     "text": [
      "[Parallel(n_jobs=-1)]: Done  30 out of  30 | elapsed:    0.2s finished\n",
      "[Parallel(n_jobs=-1)]: Using backend LokyBackend with 10 concurrent workers.\n"
     ]
    },
    {
     "name": "stdout",
     "output_type": "stream",
     "text": [
      "Accuracy: 0.657 (0.071)\n",
      "tn: 279, fp: 1, fn: 90, tp: 0\n",
      "merged_GBM\n",
      "GradientBoostingClassifier\n",
      "gradboost\n"
     ]
    },
    {
     "name": "stderr",
     "output_type": "stream",
     "text": [
      "[Parallel(n_jobs=-1)]: Done  30 out of  30 | elapsed:    0.5s finished\n",
      "[Parallel(n_jobs=-1)]: Using backend LokyBackend with 10 concurrent workers.\n"
     ]
    },
    {
     "name": "stdout",
     "output_type": "stream",
     "text": [
      "Accuracy: 0.752 (0.033)\n",
      "tn: 276, fp: 4, fn: 7, tp: 83\n",
      "merged_ensemble\n",
      "StackingCVClassifier\n"
     ]
    },
    {
     "name": "stderr",
     "output_type": "stream",
     "text": [
      "[Parallel(n_jobs=-1)]: Done  30 out of  30 | elapsed:   41.3s finished\n"
     ]
    },
    {
     "name": "stdout",
     "output_type": "stream",
     "text": [
      "Accuracy: 0.687 (0.056)\n",
      "tn: 270, fp: 10, fn: 11, tp: 79\n"
     ]
    }
   ],
   "source": [
    "ds = datasets['nardus'][f'normalized-{kmer}']\n",
    "\n",
    "X_train, y_train, X_test, y_test = ds['X_train'], ds['y_train'], ds['X_test'], ds['y_test']\n",
    "\n",
    "for modelName in bestandworst:\n",
    "    print(modelName)\n",
    "    scores_nardus.append(validation_utils.cross_validate(bestandworst[modelName], X_test, y_test))"
   ]
  },
  {
   "cell_type": "code",
   "execution_count": null,
   "metadata": {},
   "outputs": [
    {
     "name": "stdout",
     "output_type": "stream",
     "text": [
      "[0.825, 0.875, 0.918, 0.911]\n",
      "[]\n",
      "[]\n"
     ]
    }
   ],
   "source": [
    "print(scores_merged)\n",
    "print(scores_nardus)\n",
    "print(scores_zhang)"
   ]
  },
  {
   "attachments": {},
   "cell_type": "markdown",
   "metadata": {},
   "source": [
    "### Draw validation"
   ]
  },
  {
   "cell_type": "code",
   "execution_count": null,
   "metadata": {},
   "outputs": [
    {
     "name": "stdout",
     "output_type": "stream",
     "text": [
      "[0.875, 0.887, 0.941]\n"
     ]
    },
    {
     "ename": "NameError",
     "evalue": "name 'scores_nardus' is not defined",
     "output_type": "error",
     "traceback": [
      "\u001b[0;31m---------------------------------------------------------------------------\u001b[0m\n",
      "\u001b[0;31mNameError\u001b[0m                                 Traceback (most recent call last)\n",
      "\u001b[1;32m/Users/benjaminli/Documents/coding/scires/project/train_and_vis/models.ipynb Cell 52\u001b[0m in \u001b[0;36m<cell line: 7>\u001b[0;34m()\u001b[0m\n",
      "\u001b[1;32m      <a href='vscode-notebook-cell:/Users/benjaminli/Documents/coding/scires/project/train_and_vis/models.ipynb#X63sZmlsZQ%3D%3D?line=2'>3</a>\u001b[0m \u001b[39m# scores_nardus = [0.761, 0.664, 0.66, 0.708, 0.74, 0.705, 0.713, 0.752, 0.707]\u001b[39;00m\n",
      "\u001b[1;32m      <a href='vscode-notebook-cell:/Users/benjaminli/Documents/coding/scires/project/train_and_vis/models.ipynb#X63sZmlsZQ%3D%3D?line=3'>4</a>\u001b[0m \u001b[39m# scores_zhang = [0.946, 0.866, 0.899, 0.931, 0.945, 0.935, 0.929, 0.947, 0.942]\u001b[39;00m\n",
      "\u001b[1;32m      <a href='vscode-notebook-cell:/Users/benjaminli/Documents/coding/scires/project/train_and_vis/models.ipynb#X63sZmlsZQ%3D%3D?line=4'>5</a>\u001b[0m \u001b[39m# scores_merged = [0.875, 0.887, 0.941]\u001b[39;00m\n",
      "\u001b[1;32m      <a href='vscode-notebook-cell:/Users/benjaminli/Documents/coding/scires/project/train_and_vis/models.ipynb#X63sZmlsZQ%3D%3D?line=5'>6</a>\u001b[0m \u001b[39mprint\u001b[39m(scores_merged)\n",
      "\u001b[0;32m----> <a href='vscode-notebook-cell:/Users/benjaminli/Documents/coding/scires/project/train_and_vis/models.ipynb#X63sZmlsZQ%3D%3D?line=6'>7</a>\u001b[0m \u001b[39mprint\u001b[39m(scores_nardus)\n",
      "\u001b[1;32m      <a href='vscode-notebook-cell:/Users/benjaminli/Documents/coding/scires/project/train_and_vis/models.ipynb#X63sZmlsZQ%3D%3D?line=7'>8</a>\u001b[0m \u001b[39mprint\u001b[39m(scores_zhang)\n",
      "\n",
      "\u001b[0;31mNameError\u001b[0m: name 'scores_nardus' is not defined"
     ]
    }
   ],
   "source": [
    "# these were autogenerated but saved here for convenience\n",
    "# scores_merged = [0.875, 0.887, 0.941]\n",
    "print(scores_merged)"
   ]
  },
  {
   "cell_type": "code",
   "execution_count": null,
   "metadata": {},
   "outputs": [
    {
     "name": "stderr",
     "output_type": "stream",
     "text": [
      "No artists with labels found to put in legend.  Note that artists whose label start with an underscore are ignored when legend() is called with no argument.\n"
     ]
    },
    {
     "name": "stdout",
     "output_type": "stream",
     "text": [
      "96.1 0.0\n",
      "90.7 1.0\n",
      "89.5 2.0\n"
     ]
    },
    {
     "data": {
      "image/png": "[encoded data removed]",
      "text/plain": [
       "<Figure size 1000x350 with 1 Axes>"
      ]
     },
     "metadata": {},
     "output_type": "display_data"
    }
   ],
   "source": [
    "merged_dc = OrderedDict(sorted(OrderedDict(map(lambda i,j : (i,j) , bestandworst.keys(),scores_merged)).items(), key=lambda x: x[1], reverse=True))\n",
    "# nardus_dc = OrderedDict(sorted(OrderedDict(map(lambda i,j : (i,j) , bestandworst.keys(),scores_nardus)).items(), key=lambda x: x[1], reverse=True))\n",
    "# zhang_dc = OrderedDict(sorted(OrderedDict(map(lambda i,j : (i,j) , bestandworst.keys(),scores_zhang)).items(), key=lambda x: x[1], reverse=True))\n",
    "\n",
    "validation_utils.draw_accuracies(bestandworst, None, None, merged_dc)"
   ]
  },
  {
   "cell_type": "code",
   "execution_count": null,
   "metadata": {},
   "outputs": [],
   "source": [
    "validation_utils.draw_accuracies(bestandworst, None, None, nardus_dc)\n",
    "validation_utils.draw_accuracies(bestandworst, None, None, zhang_dc)"
   ]
  },
  {
   "cell_type": "code",
   "execution_count": null,
   "metadata": {},
   "outputs": [
    {
     "name": "stdout",
     "output_type": "stream",
     "text": [
      "BalancedBaggingClassifier(base_estimator=KNeighborsClassifier(n_jobs=1,\n",
      "                                                              n_neighbors=1),\n",
      "                          n_jobs=1)\n",
      "fit done\n",
      "auc split:  0.9648249712235086\n",
      "fit done\n",
      "auc split:  0.972185803068156\n",
      "fit done\n",
      "auc split:  0.9548917078603387\n",
      "fit done\n",
      "auc split:  0.9592630231857874\n",
      "fit done\n",
      "auc split:  0.9607172781135914\n",
      "0.9623765566902766\n",
      "time for CV:  1.7443749904632568\n",
      "BalancedBaggingClassifier(base_estimator=DecisionTreeClassifier(max_features='sqrt'))\n",
      "fit done\n",
      "auc split:  0.959398740605322\n",
      "fit done\n",
      "auc split:  0.9641708649061591\n",
      "fit done\n",
      "auc split:  0.9524603856900021\n",
      "fit done\n",
      "auc split:  0.9459650707618187\n",
      "fit done\n",
      "auc split:  0.9557760787599496\n",
      "0.9555542281446503\n",
      "time for CV:  1.5419037342071533\n",
      "GradientBoostingClassifier(learning_rate=0.15, max_depth=8, max_features=3,\n",
      "                           min_samples_split=30, n_estimators=130,\n",
      "                           random_state=0, subsample=0.8)\n",
      "fit done\n",
      "auc split:  0.9672909472543841\n",
      "fit done\n",
      "auc split:  0.983079718373836\n",
      "fit done\n",
      "auc split:  0.9729074265840839\n",
      "fit done\n",
      "auc split:  0.971532169025394\n",
      "fit done\n",
      "auc split:  0.9685947692860135\n",
      "0.9726810061047424\n",
      "time for CV:  7.556425333023071\n",
      "StackingCVClassifier(classifiers=[MLPClassifier(hidden_layer_sizes=(256, 128,\n",
      "                                                                    64, 32,\n",
      "                                                                    16),\n",
      "                                                random_state=1),\n",
      "                                  XGBClassifier(base_score=None, booster=None,\n",
      "                                                callbacks=None,\n",
      "                                                colsample_bylevel=None,\n",
      "                                                colsample_bynode=None,\n",
      "                                                colsample_bytree=None,\n",
      "                                                early_stopping_rounds=None,\n",
      "                                                enable_categorical=False,\n",
      "                                                eval_metric=None,\n",
      "                                                feature_types=None, gamma=None,\n",
      "                                                gpu_id=None, grow_policy=...\n",
      "                                  GradientBoostingClassifier(learning_rate=0.2,\n",
      "                                                             max_depth=9,\n",
      "                                                             max_features=2,\n",
      "                                                             min_samples_split=25,\n",
      "                                                             n_estimators=130,\n",
      "                                                             random_state=0,\n",
      "                                                             subsample=0.85),\n",
      "                                  BalancedBaggingClassifier(base_estimator=KNeighborsClassifier(n_jobs=1,\n",
      "                                                                                                n_neighbors=1),\n",
      "                                                            n_jobs=1)],\n",
      "                     cv=5,\n",
      "                     meta_classifier=GradientBoostingClassifier(learning_rate=0.15,\n",
      "                                                                max_depth=6,\n",
      "                                                                max_features=2,\n",
      "                                                                random_state=0,\n",
      "                                                                subsample=0.8),\n",
      "                     use_probas=True)\n",
      "fit done\n",
      "auc split:  0.9760227503554744\n",
      "fit done\n",
      "auc split:  0.9791232217702805\n",
      "fit done\n",
      "auc split:  0.9701720364979192\n",
      "fit done\n",
      "auc split:  0.9691521128174245\n",
      "fit done\n",
      "auc split:  0.9699500768049156\n",
      "0.9728840396492029\n",
      "time for CV:  652.559761762619\n"
     ]
    },
    {
     "data": {
      "image/png": "[encoded data removed]",
      "text/plain": [
       "<Figure size 640x480 with 1 Axes>"
      ]
     },
     "metadata": {},
     "output_type": "display_data"
    }
   ],
   "source": [
    "ds = datasets['zhang'][f'normalized-4']\n",
    "X = pd.concat([ds['X_train'], ds['X_test']], axis=0)\n",
    "Y = np.concatenate([ds['y_train'], ds['y_test']], axis=0)\n",
    "\n",
    "validation_utils.draw_avg_roc_multiple(bestandworst, X, Y)"
   ]
  },
  {
   "cell_type": "code",
   "execution_count": null,
   "metadata": {},
   "outputs": [
    {
     "name": "stdout",
     "output_type": "stream",
     "text": [
      "GradientBoostingClassifier(max_depth=9, max_features=2, min_samples_split=20,\n",
      "                           n_estimators=140, random_state=0, subsample=0.9)\n",
      "fit done\n",
      "auc split:  0.7113195883786044\n",
      "fit done\n",
      "auc split:  0.7192962838719297\n",
      "fit done\n",
      "auc split:  0.7116198608708455\n",
      "fit done\n",
      "auc split:  0.709811265330102\n",
      "fit done\n",
      "auc split:  0.7658105939004815\n",
      "0.7235715184703926\n",
      "time for CV:  1.5528950691223145\n",
      "GradientBoostingClassifier(learning_rate=0.15, max_depth=8, max_features=3,\n",
      "                           min_samples_split=30, n_estimators=130,\n",
      "                           random_state=0, subsample=0.8)\n",
      "fit done\n",
      "auc split:  0.6916112141376677\n",
      "fit done\n",
      "auc split:  0.7147862387714786\n",
      "fit done\n",
      "auc split:  0.6807758842798778\n",
      "fit done\n",
      "auc split:  0.7069471983549974\n",
      "fit done\n",
      "auc split:  0.7439807383627608\n",
      "0.7076202547813565\n",
      "time for CV:  1.3861949443817139\n",
      "BalancedBaggingClassifier(base_estimator=KNeighborsClassifier(n_jobs=1,\n",
      "                                                              n_neighbors=1),\n",
      "                          n_jobs=1)\n",
      "fit done\n",
      "auc split:  0.7280462528635322\n",
      "fit done\n",
      "auc split:  0.7198926534719893\n",
      "fit done\n",
      "auc split:  0.6777393352718172\n",
      "fit done\n",
      "auc split:  0.6486010134390835\n",
      "fit done\n",
      "auc split:  0.6997993579454254\n",
      "0.6948157225983695\n",
      "time for CV:  0.41170287132263184\n",
      "BalancedBaggingClassifier(base_estimator=DecisionTreeClassifier(max_features='sqrt'))\n",
      "fit done\n",
      "auc split:  0.67223010072361\n",
      "fit done\n",
      "auc split:  0.6432405233143241\n",
      "fit done\n",
      "auc split:  0.6082667746328535\n",
      "fit done\n",
      "auc split:  0.6156458838216935\n",
      "fit done\n",
      "auc split:  0.6697833065810593\n",
      "0.6418333178147081\n",
      "time for CV:  0.39394712448120117\n",
      "SVC(kernel='linear', probability=True)\n",
      "fit done\n",
      "auc split:  0.6713210428711683\n",
      "fit done\n",
      "auc split:  0.6368481866636849\n",
      "fit done\n",
      "auc split:  0.6010894769774374\n",
      "fit done\n",
      "auc split:  0.6495557024307851\n",
      "fit done\n",
      "auc split:  0.6430176565008026\n",
      "0.6403664130887756\n",
      "time for CV:  4.570703029632568\n",
      "XGBClassifier(base_score=0.5, booster='gbtree', callbacks=None,\n",
      "              colsample_bylevel=1, colsample_bynode=1, colsample_bytree=1,\n",
      "              early_stopping_rounds=None, enable_categorical=False,\n",
      "              eval_metric=None, feature_types=None, gamma=0, gpu_id=-1,\n",
      "              grow_policy='depthwise', importance_type=None,\n",
      "              interaction_constraints='', learning_rate=0.25, max_bin=256,\n",
      "              max_cat_threshold=64, max_cat_to_onehot=4, max_delta_step=0,\n",
      "              max_depth=6, max_leaves=0, min_child_weight=1, missing=nan,\n",
      "              monotone_constraints='()', n_estimators=100, n_jobs=0,\n",
      "              num_parallel_tree=1, predictor='auto', random_state=0, ...)\n",
      "fit done\n",
      "auc split:  0.6974655467073925\n",
      "fit done\n",
      "auc split:  0.7214581236721458\n",
      "fit done\n",
      "auc split:  0.6813279840995251\n",
      "fit done\n",
      "auc split:  0.6847323198942499\n",
      "fit done\n",
      "auc split:  0.7403290529695024\n",
      "0.7050626054685631\n",
      "time for CV:  5.050374984741211\n",
      "MLPClassifier(hidden_layer_sizes=(256, 128, 64, 32, 16), random_state=1)\n",
      "fit done\n",
      "auc split:  0.7132831533398786\n",
      "fit done\n",
      "auc split:  0.7143016884714303\n",
      "fit done\n",
      "auc split:  0.6221428834333248\n",
      "fit done\n",
      "auc split:  0.6576705588602483\n",
      "fit done\n",
      "auc split:  0.7366773675762439\n",
      "0.6888151303362251\n",
      "time for CV:  25.609582901000977\n",
      "LogisticRegression(fit_intercept=False, max_iter=1000,\n",
      "                   multi_class='multinomial', random_state=42, solver='saga',\n",
      "                   tol=0.001)\n",
      "fit done\n",
      "auc split:  0.6811025053634412\n",
      "fit done\n",
      "auc split:  0.6371836445637185\n",
      "fit done\n",
      "auc split:  0.6080827413596378\n",
      "fit done\n",
      "auc split:  0.6772416831901299\n",
      "fit done\n",
      "auc split:  0.6418940609951846\n",
      "0.6491009270944224\n",
      "time for CV:  1.1529300212860107\n",
      "GradientBoostingClassifier(learning_rate=0.2, max_depth=9, max_features=2,\n",
      "                           min_samples_split=25, n_estimators=130,\n",
      "                           random_state=0, subsample=0.85)\n",
      "fit done\n",
      "auc split:  0.6921202865350351\n",
      "fit done\n",
      "auc split:  0.714338961571434\n",
      "fit done\n",
      "auc split:  0.7225146306452206\n",
      "fit done\n",
      "auc split:  0.7269956671807299\n",
      "fit done\n",
      "auc split:  0.7193820224719101\n",
      "0.7150703136808658\n",
      "time for CV:  1.3254237174987793\n",
      "StackingCVClassifier(classifiers=[MLPClassifier(hidden_layer_sizes=(256, 128,\n",
      "                                                                    64, 32,\n",
      "                                                                    16),\n",
      "                                                random_state=1),\n",
      "                                  XGBClassifier(base_score=None, booster=None,\n",
      "                                                callbacks=None,\n",
      "                                                colsample_bylevel=None,\n",
      "                                                colsample_bynode=None,\n",
      "                                                colsample_bytree=None,\n",
      "                                                early_stopping_rounds=None,\n",
      "                                                enable_categorical=False,\n",
      "                                                eval_metric=None,\n",
      "                                                feature_types=None, gamma=None,\n",
      "                                                gpu_id=None, grow_policy=...\n",
      "                                  GradientBoostingClassifier(learning_rate=0.2,\n",
      "                                                             max_depth=9,\n",
      "                                                             max_features=2,\n",
      "                                                             min_samples_split=25,\n",
      "                                                             n_estimators=130,\n",
      "                                                             random_state=0,\n",
      "                                                             subsample=0.85),\n",
      "                                  BalancedBaggingClassifier(base_estimator=KNeighborsClassifier(n_jobs=1,\n",
      "                                                                                                n_neighbors=1),\n",
      "                                                            n_jobs=1)],\n",
      "                     cv=5,\n",
      "                     meta_classifier=GradientBoostingClassifier(learning_rate=0.15,\n",
      "                                                                max_depth=6,\n",
      "                                                                max_features=2,\n",
      "                                                                random_state=0,\n",
      "                                                                subsample=0.8),\n",
      "                     use_probas=True)\n",
      "fit done\n",
      "auc split:  0.6784116941202138\n",
      "fit done\n",
      "auc split:  0.6923851056692385\n",
      "fit done\n",
      "auc split:  0.6483860281938975\n",
      "fit done\n",
      "auc split:  0.6407431886612323\n",
      "fit done\n",
      "auc split:  0.7016051364365972\n",
      "0.6723062306162358\n",
      "time for CV:  164.1034677028656\n"
     ]
    },
    {
     "data": {
      "image/png": "[encoded data removed]",
      "text/plain": [
       "<Figure size 640x480 with 1 Axes>"
      ]
     },
     "metadata": {},
     "output_type": "display_data"
    }
   ],
   "source": [
    "ds = datasets['nardus'][f'normalized-4']\n",
    "X = pd.concat([ds['X_train'], ds['X_test']], axis=0)\n",
    "Y = np.concatenate([ds['y_train'], ds['y_test']], axis=0)\n",
    "\n",
    "validation_utils.draw_avg_roc_multiple(models, X, Y)"
   ]
  },
  {
   "cell_type": "code",
   "execution_count": null,
   "metadata": {},
   "outputs": [
    {
     "name": "stdout",
     "output_type": "stream",
     "text": [
      "BalancedBaggingClassifier(base_estimator=KNeighborsClassifier(n_jobs=1,\n",
      "                                                              n_neighbors=1),\n",
      "                          n_jobs=1)\n",
      "fit done\n",
      "auc split:  0.9298784722222222\n",
      "fit done\n",
      "auc split:  0.9284667713239143\n",
      "fit done\n",
      "auc split:  0.9307861545756282\n",
      "fit done\n",
      "auc split:  0.9452706323687032\n",
      "fit done\n",
      "auc split:  0.932595502327601\n",
      "0.9333995065636138\n",
      "time for CV:  2.24573016166687\n",
      "BalancedBaggingClassifier(base_estimator=DecisionTreeClassifier(max_features='sqrt'))\n",
      "fit done\n",
      "auc split:  0.926518683862434\n",
      "fit done\n",
      "auc split:  0.9142141984999128\n",
      "fit done\n",
      "auc split:  0.916303461356093\n",
      "fit done\n",
      "auc split:  0.9301357040108309\n",
      "fit done\n",
      "auc split:  0.9227002527879039\n",
      "0.921974460103435\n",
      "time for CV:  1.9907898902893066\n",
      "StackingCVClassifier(classifiers=[MLPClassifier(hidden_layer_sizes=(256, 128,\n",
      "                                                                    64, 32),\n",
      "                                                random_state=42),\n",
      "                                  XGBClassifier(base_score=None, booster=None,\n",
      "                                                callbacks=None,\n",
      "                                                colsample_bylevel=None,\n",
      "                                                colsample_bynode=None,\n",
      "                                                colsample_bytree=0.8,\n",
      "                                                early_stopping_rounds=None,\n",
      "                                                enable_categorical=False,\n",
      "                                                eval_metric=None,\n",
      "                                                feature_types=None, gamma=0,\n",
      "                                                gpu_id=None, grow_policy=None,\n",
      "                                                i...\n",
      "                                                max_delta_step=None,\n",
      "                                                max_depth=9, max_leaves=None,\n",
      "                                                min_child_weight=1, missing=nan,\n",
      "                                                monotone_constraints=None,\n",
      "                                                n_estimators=250, n_jobs=-1,\n",
      "                                                num_parallel_tree=None,\n",
      "                                                predictor=None,\n",
      "                                                random_state=None, ...),\n",
      "                                  SVC(C=2, gamma=0.6, probability=True,\n",
      "                                      random_state=42)],\n",
      "                     cv=5,\n",
      "                     meta_classifier=LogisticRegression(C=1, random_state=42),\n",
      "                     n_jobs=-1, random_state=42, use_probas=True, verbose=1)\n",
      "Fitting 3 classifiers...\n",
      "Fitting classifier1: mlpclassifier (1/3)\n"
     ]
    },
    {
     "name": "stderr",
     "output_type": "stream",
     "text": [
      "[Parallel(n_jobs=-1)]: Using backend LokyBackend with 10 concurrent workers.\n",
      "[Parallel(n_jobs=-1)]: Done   5 out of   5 | elapsed:   18.2s finished\n",
      "[Parallel(n_jobs=-1)]: Using backend LokyBackend with 10 concurrent workers.\n"
     ]
    },
    {
     "name": "stdout",
     "output_type": "stream",
     "text": [
      "Fitting classifier2: xgbclassifier (2/3)\n"
     ]
    },
    {
     "name": "stderr",
     "output_type": "stream",
     "text": [
      "[Parallel(n_jobs=-1)]: Done   5 out of   5 | elapsed:   51.6s finished\n",
      "[Parallel(n_jobs=-1)]: Using backend LokyBackend with 10 concurrent workers.\n"
     ]
    },
    {
     "name": "stdout",
     "output_type": "stream",
     "text": [
      "Fitting classifier3: svc (3/3)\n"
     ]
    },
    {
     "name": "stderr",
     "output_type": "stream",
     "text": [
      "[Parallel(n_jobs=-1)]: Done   5 out of   5 | elapsed:  1.0min finished\n"
     ]
    },
    {
     "name": "stdout",
     "output_type": "stream",
     "text": [
      "fit done\n",
      "auc split:  0.9538988095238096\n",
      "Fitting 3 classifiers...\n",
      "Fitting classifier1: mlpclassifier (1/3)\n"
     ]
    },
    {
     "name": "stderr",
     "output_type": "stream",
     "text": [
      "[Parallel(n_jobs=-1)]: Using backend LokyBackend with 10 concurrent workers.\n"
     ]
    },
    {
     "name": "stdout",
     "output_type": "stream",
     "text": [
      "Fitting classifier2: xgbclassifier (2/3)\n"
     ]
    },
    {
     "name": "stderr",
     "output_type": "stream",
     "text": [
      "[Parallel(n_jobs=-1)]: Done   5 out of   5 | elapsed:   19.3s finished\n",
      "[Parallel(n_jobs=-1)]: Using backend LokyBackend with 10 concurrent workers.\n",
      "[Parallel(n_jobs=-1)]: Done   5 out of   5 | elapsed:   47.3s finished\n",
      "[Parallel(n_jobs=-1)]: Using backend LokyBackend with 10 concurrent workers.\n"
     ]
    },
    {
     "name": "stdout",
     "output_type": "stream",
     "text": [
      "Fitting classifier3: svc (3/3)\n"
     ]
    },
    {
     "name": "stderr",
     "output_type": "stream",
     "text": [
      "[Parallel(n_jobs=-1)]: Done   5 out of   5 | elapsed:  1.5min finished\n"
     ]
    },
    {
     "name": "stdout",
     "output_type": "stream",
     "text": [
      "fit done\n",
      "auc split:  0.9524777603349033\n",
      "Fitting 3 classifiers...\n",
      "Fitting classifier1: mlpclassifier (1/3)\n"
     ]
    },
    {
     "name": "stderr",
     "output_type": "stream",
     "text": [
      "[Parallel(n_jobs=-1)]: Using backend LokyBackend with 10 concurrent workers.\n",
      "[Parallel(n_jobs=-1)]: Done   5 out of   5 | elapsed:   25.7s finished\n",
      "[Parallel(n_jobs=-1)]: Using backend LokyBackend with 10 concurrent workers.\n"
     ]
    },
    {
     "name": "stdout",
     "output_type": "stream",
     "text": [
      "Fitting classifier2: xgbclassifier (2/3)\n"
     ]
    },
    {
     "name": "stderr",
     "output_type": "stream",
     "text": [
      "[Parallel(n_jobs=-1)]: Done   5 out of   5 | elapsed:  1.6min finished\n",
      "[Parallel(n_jobs=-1)]: Using backend LokyBackend with 10 concurrent workers.\n"
     ]
    },
    {
     "name": "stdout",
     "output_type": "stream",
     "text": [
      "Fitting classifier3: svc (3/3)\n"
     ]
    },
    {
     "name": "stderr",
     "output_type": "stream",
     "text": [
      "[Parallel(n_jobs=-1)]: Done   5 out of   5 | elapsed:   55.3s finished\n"
     ]
    },
    {
     "name": "stdout",
     "output_type": "stream",
     "text": [
      "fit done\n",
      "auc split:  0.9405841631104789\n",
      "Fitting 3 classifiers...\n",
      "Fitting classifier1: mlpclassifier (1/3)\n"
     ]
    },
    {
     "name": "stderr",
     "output_type": "stream",
     "text": [
      "[Parallel(n_jobs=-1)]: Using backend LokyBackend with 10 concurrent workers.\n",
      "[Parallel(n_jobs=-1)]: Done   5 out of   5 | elapsed:   17.7s finished\n",
      "[Parallel(n_jobs=-1)]: Using backend LokyBackend with 10 concurrent workers.\n"
     ]
    },
    {
     "name": "stdout",
     "output_type": "stream",
     "text": [
      "Fitting classifier2: xgbclassifier (2/3)\n"
     ]
    },
    {
     "name": "stderr",
     "output_type": "stream",
     "text": [
      "[Parallel(n_jobs=-1)]: Done   5 out of   5 | elapsed:   44.8s finished\n",
      "[Parallel(n_jobs=-1)]: Using backend LokyBackend with 10 concurrent workers.\n"
     ]
    },
    {
     "name": "stdout",
     "output_type": "stream",
     "text": [
      "Fitting classifier3: svc (3/3)\n"
     ]
    },
    {
     "name": "stderr",
     "output_type": "stream",
     "text": [
      "[Parallel(n_jobs=-1)]: Done   5 out of   5 | elapsed:  1.1min finished\n",
      "/Users/benjaminli/opt/miniconda3/envs/seq/lib/python3.8/site-packages/sklearn/neural_network/_multilayer_perceptron.py:709: UserWarning: Training interrupted by user.\n",
      "  warnings.warn(\"Training interrupted by user.\")\n"
     ]
    },
    {
     "ename": "KeyboardInterrupt",
     "evalue": "",
     "output_type": "error",
     "traceback": [
      "\u001b[0;31m---------------------------------------------------------------------------\u001b[0m\n",
      "\u001b[0;31mKeyboardInterrupt\u001b[0m                         Traceback (most recent call last)\n",
      "\u001b[1;32m/Users/benjaminli/Documents/coding/scires/project/train_and_vis/models.ipynb Cell 59\u001b[0m in \u001b[0;36m<cell line: 5>\u001b[0;34m()\u001b[0m\n",
      "\u001b[1;32m      <a href='vscode-notebook-cell:/Users/benjaminli/Documents/coding/scires/project/train_and_vis/models.ipynb#Y100sZmlsZQ%3D%3D?line=1'>2</a>\u001b[0m X \u001b[39m=\u001b[39m pd\u001b[39m.\u001b[39mconcat([ds[\u001b[39m'\u001b[39m\u001b[39mX_train\u001b[39m\u001b[39m'\u001b[39m], ds[\u001b[39m'\u001b[39m\u001b[39mX_test\u001b[39m\u001b[39m'\u001b[39m]], axis\u001b[39m=\u001b[39m\u001b[39m0\u001b[39m)\n",
      "\u001b[1;32m      <a href='vscode-notebook-cell:/Users/benjaminli/Documents/coding/scires/project/train_and_vis/models.ipynb#Y100sZmlsZQ%3D%3D?line=2'>3</a>\u001b[0m Y \u001b[39m=\u001b[39m np\u001b[39m.\u001b[39mconcatenate([ds[\u001b[39m'\u001b[39m\u001b[39my_train\u001b[39m\u001b[39m'\u001b[39m], ds[\u001b[39m'\u001b[39m\u001b[39my_test\u001b[39m\u001b[39m'\u001b[39m]], axis\u001b[39m=\u001b[39m\u001b[39m0\u001b[39m)\n",
      "\u001b[0;32m----> <a href='vscode-notebook-cell:/Users/benjaminli/Documents/coding/scires/project/train_and_vis/models.ipynb#Y100sZmlsZQ%3D%3D?line=4'>5</a>\u001b[0m l \u001b[39m=\u001b[39m validation_utils\u001b[39m.\u001b[39;49mdraw_avg_roc_multiple(bestandworst, X, Y)\n",
      "\n",
      "File \u001b[0;32m~/Documents/coding/scires/project/utils/validation_utils.py:105\u001b[0m, in \u001b[0;36mdraw_avg_roc_multiple\u001b[0;34m(models, X_test, y_test)\u001b[0m\n",
      "\u001b[1;32m    103\u001b[0m t \u001b[39m=\u001b[39m time\u001b[39m.\u001b[39mtime()\n",
      "\u001b[1;32m    104\u001b[0m \u001b[39mprint\u001b[39m(models[key])\n",
      "\u001b[0;32m--> 105\u001b[0m l\u001b[39m.\u001b[39mappend(draw_avg_roc_curve(models[key], key, X_test, y_test, multiple\u001b[39m=\u001b[39;49m\u001b[39mTrue\u001b[39;49;00m))\n",
      "\u001b[1;32m    106\u001b[0m \u001b[39mprint\u001b[39m(\u001b[39m\"\u001b[39m\u001b[39mtime for CV: \u001b[39m\u001b[39m\"\u001b[39m, time\u001b[39m.\u001b[39mtime() \u001b[39m-\u001b[39m t)\n",
      "\u001b[1;32m    107\u001b[0m \u001b[39m# plt.legend(loc='best')\u001b[39;00m\n",
      "\n",
      "File \u001b[0;32m~/Documents/coding/scires/project/utils/validation_utils.py:54\u001b[0m, in \u001b[0;36mdraw_avg_roc_curve\u001b[0;34m(model, name, X, y, multiple)\u001b[0m\n",
      "\u001b[1;32m     46\u001b[0m avgauc \u001b[39m=\u001b[39m \u001b[39m0\u001b[39m\n",
      "\u001b[1;32m     47\u001b[0m \u001b[39mfor\u001b[39;00m train, test \u001b[39min\u001b[39;00m kf\u001b[39m.\u001b[39msplit(X):\n",
      "\u001b[1;32m     48\u001b[0m     \u001b[39m# y_pred_proba = model.predict_proba(X.iloc[test])[::,1]\u001b[39;00m\n",
      "\u001b[1;32m     49\u001b[0m     \u001b[39m# fpr, tpr, _ = roc_curve(y[test], y_pred_proba)\u001b[39;00m\n",
      "\u001b[0;32m   (...)\u001b[0m\n",
      "\u001b[1;32m     52\u001b[0m     \u001b[39m# print(train)\u001b[39;00m\n",
      "\u001b[1;32m     53\u001b[0m     \u001b[39m# print(test)\u001b[39;00m\n",
      "\u001b[0;32m---> 54\u001b[0m     model \u001b[39m=\u001b[39m model\u001b[39m.\u001b[39;49mfit(X\u001b[39m.\u001b[39;49miloc[train], y[train])\n",
      "\u001b[1;32m     55\u001b[0m     \u001b[39mprint\u001b[39m(\u001b[39m\"\u001b[39m\u001b[39mfit done\u001b[39m\u001b[39m\"\u001b[39m)\n",
      "\u001b[1;32m     56\u001b[0m     y_score \u001b[39m=\u001b[39m model\u001b[39m.\u001b[39mpredict_proba(X\u001b[39m.\u001b[39miloc[test])\n",
      "\n",
      "File \u001b[0;32m~/opt/miniconda3/envs/seq/lib/python3.8/site-packages/mlxtend/classifier/stacking_cv_classification.py:292\u001b[0m, in \u001b[0;36mStackingCVClassifier.fit\u001b[0;34m(self, X, y, groups, sample_weight)\u001b[0m\n",
      "\u001b[1;32m    290\u001b[0m \u001b[39mfor\u001b[39;00m model \u001b[39min\u001b[39;00m \u001b[39mself\u001b[39m\u001b[39m.\u001b[39mclfs_:\n",
      "\u001b[1;32m    291\u001b[0m     \u001b[39mif\u001b[39;00m sample_weight \u001b[39mis\u001b[39;00m \u001b[39mNone\u001b[39;00m:\n",
      "\u001b[0;32m--> 292\u001b[0m         model\u001b[39m.\u001b[39;49mfit(X, y)\n",
      "\u001b[1;32m    293\u001b[0m     \u001b[39melse\u001b[39;00m:\n",
      "\u001b[1;32m    294\u001b[0m         model\u001b[39m.\u001b[39mfit(X, y, sample_weight\u001b[39m=\u001b[39msample_weight)\n",
      "\n",
      "File \u001b[0;32m~/opt/miniconda3/envs/seq/lib/python3.8/site-packages/sklearn/svm/_base.py:251\u001b[0m, in \u001b[0;36mBaseLibSVM.fit\u001b[0;34m(self, X, y, sample_weight)\u001b[0m\n",
      "\u001b[1;32m    248\u001b[0m     \u001b[39mprint\u001b[39m(\u001b[39m\"\u001b[39m\u001b[39m[LibSVM]\u001b[39m\u001b[39m\"\u001b[39m, end\u001b[39m=\u001b[39m\u001b[39m\"\u001b[39m\u001b[39m\"\u001b[39m)\n",
      "\u001b[1;32m    250\u001b[0m seed \u001b[39m=\u001b[39m rnd\u001b[39m.\u001b[39mrandint(np\u001b[39m.\u001b[39miinfo(\u001b[39m\"\u001b[39m\u001b[39mi\u001b[39m\u001b[39m\"\u001b[39m)\u001b[39m.\u001b[39mmax)\n",
      "\u001b[0;32m--> 251\u001b[0m fit(X, y, sample_weight, solver_type, kernel, random_seed\u001b[39m=\u001b[39;49mseed)\n",
      "\u001b[1;32m    252\u001b[0m \u001b[39m# see comment on the other call to np.iinfo in this file\u001b[39;00m\n",
      "\u001b[1;32m    254\u001b[0m \u001b[39mself\u001b[39m\u001b[39m.\u001b[39mshape_fit_ \u001b[39m=\u001b[39m X\u001b[39m.\u001b[39mshape \u001b[39mif\u001b[39;00m \u001b[39mhasattr\u001b[39m(X, \u001b[39m\"\u001b[39m\u001b[39mshape\u001b[39m\u001b[39m\"\u001b[39m) \u001b[39melse\u001b[39;00m (n_samples,)\n",
      "\n",
      "File \u001b[0;32m~/opt/miniconda3/envs/seq/lib/python3.8/site-packages/sklearn/svm/_base.py:333\u001b[0m, in \u001b[0;36mBaseLibSVM._dense_fit\u001b[0;34m(self, X, y, sample_weight, solver_type, kernel, random_seed)\u001b[0m\n",
      "\u001b[1;32m    319\u001b[0m libsvm\u001b[39m.\u001b[39mset_verbosity_wrap(\u001b[39mself\u001b[39m\u001b[39m.\u001b[39mverbose)\n",
      "\u001b[1;32m    321\u001b[0m \u001b[39m# we don't pass **self.get_params() to allow subclasses to\u001b[39;00m\n",
      "\u001b[1;32m    322\u001b[0m \u001b[39m# add other parameters to __init__\u001b[39;00m\n",
      "\u001b[1;32m    323\u001b[0m (\n",
      "\u001b[1;32m    324\u001b[0m     \u001b[39mself\u001b[39m\u001b[39m.\u001b[39msupport_,\n",
      "\u001b[1;32m    325\u001b[0m     \u001b[39mself\u001b[39m\u001b[39m.\u001b[39msupport_vectors_,\n",
      "\u001b[1;32m    326\u001b[0m     \u001b[39mself\u001b[39m\u001b[39m.\u001b[39m_n_support,\n",
      "\u001b[1;32m    327\u001b[0m     \u001b[39mself\u001b[39m\u001b[39m.\u001b[39mdual_coef_,\n",
      "\u001b[1;32m    328\u001b[0m     \u001b[39mself\u001b[39m\u001b[39m.\u001b[39mintercept_,\n",
      "\u001b[1;32m    329\u001b[0m     \u001b[39mself\u001b[39m\u001b[39m.\u001b[39m_probA,\n",
      "\u001b[1;32m    330\u001b[0m     \u001b[39mself\u001b[39m\u001b[39m.\u001b[39m_probB,\n",
      "\u001b[1;32m    331\u001b[0m     \u001b[39mself\u001b[39m\u001b[39m.\u001b[39mfit_status_,\n",
      "\u001b[1;32m    332\u001b[0m     \u001b[39mself\u001b[39m\u001b[39m.\u001b[39m_num_iter,\n",
      "\u001b[0;32m--> 333\u001b[0m ) \u001b[39m=\u001b[39m libsvm\u001b[39m.\u001b[39;49mfit(\n",
      "\u001b[1;32m    334\u001b[0m     X,\n",
      "\u001b[1;32m    335\u001b[0m     y,\n",
      "\u001b[1;32m    336\u001b[0m     svm_type\u001b[39m=\u001b[39;49msolver_type,\n",
      "\u001b[1;32m    337\u001b[0m     sample_weight\u001b[39m=\u001b[39;49msample_weight,\n",
      "\u001b[1;32m    338\u001b[0m     class_weight\u001b[39m=\u001b[39;49m\u001b[39mself\u001b[39;49m\u001b[39m.\u001b[39;49mclass_weight_,\n",
      "\u001b[1;32m    339\u001b[0m     kernel\u001b[39m=\u001b[39;49mkernel,\n",
      "\u001b[1;32m    340\u001b[0m     C\u001b[39m=\u001b[39;49m\u001b[39mself\u001b[39;49m\u001b[39m.\u001b[39;49mC,\n",
      "\u001b[1;32m    341\u001b[0m     nu\u001b[39m=\u001b[39;49m\u001b[39mself\u001b[39;49m\u001b[39m.\u001b[39;49mnu,\n",
      "\u001b[1;32m    342\u001b[0m     probability\u001b[39m=\u001b[39;49m\u001b[39mself\u001b[39;49m\u001b[39m.\u001b[39;49mprobability,\n",
      "\u001b[1;32m    343\u001b[0m     degree\u001b[39m=\u001b[39;49m\u001b[39mself\u001b[39;49m\u001b[39m.\u001b[39;49mdegree,\n",
      "\u001b[1;32m    344\u001b[0m     shrinking\u001b[39m=\u001b[39;49m\u001b[39mself\u001b[39;49m\u001b[39m.\u001b[39;49mshrinking,\n",
      "\u001b[1;32m    345\u001b[0m     tol\u001b[39m=\u001b[39;49m\u001b[39mself\u001b[39;49m\u001b[39m.\u001b[39;49mtol,\n",
      "\u001b[1;32m    346\u001b[0m     cache_size\u001b[39m=\u001b[39;49m\u001b[39mself\u001b[39;49m\u001b[39m.\u001b[39;49mcache_size,\n",
      "\u001b[1;32m    347\u001b[0m     coef0\u001b[39m=\u001b[39;49m\u001b[39mself\u001b[39;49m\u001b[39m.\u001b[39;49mcoef0,\n",
      "\u001b[1;32m    348\u001b[0m     gamma\u001b[39m=\u001b[39;49m\u001b[39mself\u001b[39;49m\u001b[39m.\u001b[39;49m_gamma,\n",
      "\u001b[1;32m    349\u001b[0m     epsilon\u001b[39m=\u001b[39;49m\u001b[39mself\u001b[39;49m\u001b[39m.\u001b[39;49mepsilon,\n",
      "\u001b[1;32m    350\u001b[0m     max_iter\u001b[39m=\u001b[39;49m\u001b[39mself\u001b[39;49m\u001b[39m.\u001b[39;49mmax_iter,\n",
      "\u001b[1;32m    351\u001b[0m     random_seed\u001b[39m=\u001b[39;49mrandom_seed,\n",
      "\u001b[1;32m    352\u001b[0m )\n",
      "\u001b[1;32m    354\u001b[0m \u001b[39mself\u001b[39m\u001b[39m.\u001b[39m_warn_from_fit_status()\n",
      "\n",
      "\u001b[0;31mKeyboardInterrupt\u001b[0m: "
     ]
    },
    {
     "data": {
      "image/png": "[encoded data removed]",
      "text/plain": [
       "<Figure size 640x480 with 1 Axes>"
      ]
     },
     "metadata": {},
     "output_type": "display_data"
    }
   ],
   "source": [
    "ds = datasets['merged'][f'normalized-4']\n",
    "X = pd.concat([ds['X_train'], ds['X_test']], axis=0)\n",
    "Y = np.concatenate([ds['y_train'], ds['y_test']], axis=0)\n",
    "\n",
    "l = validation_utils.draw_avg_roc_multiple(bestandworst, X, Y)"
   ]
  },
  {
   "cell_type": "code",
   "execution_count": null,
   "metadata": {},
   "outputs": [
    {
     "name": "stdout",
     "output_type": "stream",
     "text": [
      "BalancedBaggingClassifier\n",
      "precision recall: 0.7986487842724114\n",
      "BalancedBaggingClassifier\n",
      "precision recall: 0.7425944482785196\n",
      "StackingCVClassifier\n"
     ]
    },
    {
     "name": "stderr",
     "output_type": "stream",
     "text": [
      "No artists with labels found to put in legend.  Note that artists whose label start with an underscore are ignored when legend() is called with no argument.\n",
      "No artists with labels found to put in legend.  Note that artists whose label start with an underscore are ignored when legend() is called with no argument.\n"
     ]
    },
    {
     "name": "stdout",
     "output_type": "stream",
     "text": [
      "precision recall: 0.8506949901676641\n"
     ]
    },
    {
     "data": {
      "image/png": "[encoded data removed]",
      "text/plain": [
       "<Figure size 640x480 with 1 Axes>"
      ]
     },
     "metadata": {},
     "output_type": "display_data"
    },
    {
     "name": "stdout",
     "output_type": "stream",
     "text": [
      "KNN\n",
      "0.8759363295880149\n",
      "Random Forest\n",
      "0.87687265917603\n",
      "Ensemble\n",
      "0.9321161048689138\n"
     ]
    }
   ],
   "source": [
    "ds = datasets['merged'][f'normalized-4']\n",
    "X = pd.concat([ds['X_train'], ds['X_test']])\n",
    "y = np.concatenate([ds['y_train'], ds['y_test']], axis=0)\n",
    "\n",
    "X_train, X_test, y_train, y_test = train_test_split(X, y, test_size=0.2, random_state=42)\n",
    "\n",
    "validation_utils.draw_prec_roc_curve_multiple(bestandworst, X_test, y_test)\n",
    "for key in bestandworst:\n",
    "    print(key)\n",
    "    print(accuracy_score(y_test, bestandworst[key].predict(X_test)))"
   ]
  },
  {
   "cell_type": "code",
   "execution_count": null,
   "metadata": {},
   "outputs": [
    {
     "name": "stdout",
     "output_type": "stream",
     "text": [
      "          cccc      accc      cctg      actg      attg      tagg      aagc  \\\n",
      "5515  0.052900  0.083911  0.157242  0.177672  0.268515  0.195549  0.233127   \n",
      "1208  0.264151  0.603774  0.452830  0.415094  0.679245  0.226415  0.452830   \n",
      "7722  0.270975  0.409297  0.258503  0.142857  0.015873  0.007937  0.167800   \n",
      "2085  0.173244  0.172575  0.252843  0.113043  0.037458  0.023411  0.094983   \n",
      "2458  0.880000  0.360000  0.320000  0.440000  0.240000  0.200000  0.160000   \n",
      "...        ...       ...       ...       ...       ...       ...       ...   \n",
      "2260  0.140653  0.232305  0.358439  0.176044  0.093466  0.016334  0.242287   \n",
      "8611  0.608696  0.434783  0.434783  0.347826  0.391304  0.173913  0.956522   \n",
      "8983  0.018692  0.065421  0.112150  0.420561  0.607477  0.000000  0.196262   \n",
      "3678  0.007692  0.100000  0.146154  0.223077  0.530769  0.069231  0.392308   \n",
      "1034  0.750000  0.390625  0.328125  0.171875  0.046875  0.078125  0.171875   \n",
      "\n",
      "          tcga      tctc      tgcc  ...      tcac      cgcg      ggct  \\\n",
      "5515  0.046698  0.221087  0.104706  ...  0.094491  0.000000  0.103977   \n",
      "1208  0.000000  0.169811  0.396226  ...  0.622642  0.037736  0.320755   \n",
      "7722  0.579365  0.182540  0.227891  ...  0.290249  0.866213  0.226757   \n",
      "2085  0.438796  0.210702  0.213378  ...  0.205351  0.694314  0.175251   \n",
      "2458  0.200000  0.280000  0.000000  ...  0.000000  0.240000  0.240000   \n",
      "...        ...       ...       ...  ...       ...       ...       ...   \n",
      "2260  0.439201  0.108893  0.346642  ...  0.190563  0.695100  0.310345   \n",
      "8611  0.173913  0.695652  0.565217  ...  0.304348  0.217391  0.695652   \n",
      "8983  0.514019  0.420561  0.214953  ...  0.495327  0.205607  0.112150   \n",
      "3678  0.315385  0.176923  0.153846  ...  0.200000  0.115385  0.169231   \n",
      "1034  0.031250  0.078125  0.218750  ...  0.187500  0.328125  0.218750   \n",
      "\n",
      "          cttt      gtat      agtt      tcag      acgt      taac      tcgc  \n",
      "5515  0.527910  0.299891  0.431959  0.168187  0.044874  0.271069  0.019701  \n",
      "1208  0.301887  0.396226  0.396226  0.641509  0.226415  0.320755  0.132075  \n",
      "7722  0.010204  0.026077  0.075964  0.098639  0.250567  0.010204  0.546485  \n",
      "2085  0.017391  0.024749  0.090970  0.118395  0.225418  0.008027  0.422074  \n",
      "2458  0.160000  0.360000  0.240000  0.560000  0.000000  0.160000  0.200000  \n",
      "...        ...       ...       ...       ...       ...       ...       ...  \n",
      "2260  0.098911  0.036298  0.107985  0.141561  0.117967  0.011797  0.343920  \n",
      "8611  0.695652  0.260870  0.434783  0.304348  0.173913  0.086957  0.391304  \n",
      "8983  0.719626  0.271028  0.392523  0.457944  0.373832  0.224299  0.242991  \n",
      "3678  0.238462  0.207692  0.607692  0.184615  0.076923  0.169231  0.061538  \n",
      "1034  0.203125  0.093750  0.109375  0.250000  0.203125  0.187500  0.109375  \n",
      "\n",
      "[2136 rows x 256 columns]\n"
     ]
    }
   ],
   "source": [
    "print(ds['X_test'])"
   ]
  },
  {
   "cell_type": "code",
   "execution_count": null,
   "metadata": {},
   "outputs": [
    {
     "name": "stdout",
     "output_type": "stream",
     "text": [
      "[0.931, 0.915, 0.953]\n"
     ]
    }
   ],
   "source": [
    "print(l)"
   ]
  },
  {
   "cell_type": "code",
   "execution_count": 9,
   "metadata": {},
   "outputs": [],
   "source": [
    "curr_dir = 'models/curr_models'\n",
    "best_xgboost = pickle.load(open(f'{curr_dir}/xgBoost.pkl', 'rb'))\n",
    "best_xgboost_params = pickle.load(open(f'{curr_dir}/xgBoost-params.pkl', 'rb'))\n",
    "\n",
    "best_gradBoost = pickle.load(open(f'{curr_dir}/gradBoost.pkl', 'rb'))\n",
    "best_gradBoost_params = pickle.load(open(f'{curr_dir}/gradBoost-params.pkl', 'rb'))\n",
    "\n",
    "best_rF = pickle.load(open(f'{curr_dir}/randforest.pkl', 'rb'))\n",
    "lrmodel = pickle.load(open(f'{curr_dir}/lrmodel.pkl', 'rb'))\n",
    "\n",
    "nardus_gradBoost = pickle.load(open(f'{curr_dir}/nardus_gridsearch.pkl', 'rb'))\n",
    "\n",
    "mlp = pickle.load(open(f'{curr_dir}/mlpClassifier.pkl', 'rb'))\n",
    "\n",
    "svmmodel = pickle.load(open(f'{curr_dir}/svm.pkl', 'rb'))\n",
    "\n",
    "regnard = pickle.load(open(f'models/nardus_testing/gradBoost.pkl', 'rb'))\n",
    "\n",
    "knn = pickle.load(open(f'{curr_dir}/knn.pkl', 'rb'))\n"
   ]
  },
  {
   "cell_type": "code",
   "execution_count": 4,
   "metadata": {},
   "outputs": [
    {
     "name": "stdout",
     "output_type": "stream",
     "text": [
      "GradientBoostingClassifier\n",
      "gradboost\n"
     ]
    },
    {
     "name": "stderr",
     "output_type": "stream",
     "text": [
      "[Parallel(n_jobs=-1)]: Using backend LokyBackend with 10 concurrent workers.\n",
      "[Parallel(n_jobs=-1)]: Done  30 out of  30 | elapsed:    7.5s finished\n",
      "[Parallel(n_jobs=-1)]: Using backend LokyBackend with 10 concurrent workers.\n"
     ]
    },
    {
     "name": "stdout",
     "output_type": "stream",
     "text": [
      "Accuracy: 0.957 (0.008)\n",
      "tn: 4904, fp: 12, fn: 38, tp: 704\n",
      "GradientBoostingClassifier\n",
      "gradboost\n"
     ]
    },
    {
     "name": "stderr",
     "output_type": "stream",
     "text": [
      "[Parallel(n_jobs=-1)]: Done  30 out of  30 | elapsed:    4.6s finished\n",
      "[Parallel(n_jobs=-1)]: Using backend LokyBackend with 10 concurrent workers.\n"
     ]
    },
    {
     "name": "stdout",
     "output_type": "stream",
     "text": [
      "Accuracy: 0.958 (0.008)\n",
      "tn: 4897, fp: 19, fn: 28, tp: 714\n",
      "GradientBoostingClassifier\n",
      "gradboost\n"
     ]
    },
    {
     "name": "stderr",
     "output_type": "stream",
     "text": [
      "[Parallel(n_jobs=-1)]: Done  30 out of  30 | elapsed:    2.8s finished\n",
      "[Parallel(n_jobs=-1)]: Using backend LokyBackend with 10 concurrent workers.\n"
     ]
    },
    {
     "name": "stdout",
     "output_type": "stream",
     "text": [
      "Accuracy: 0.955 (0.008)\n",
      "tn: 4911, fp: 5, fn: 42, tp: 700\n",
      "BalancedBaggingClassifier\n"
     ]
    },
    {
     "name": "stderr",
     "output_type": "stream",
     "text": [
      "[Parallel(n_jobs=-1)]: Done  30 out of  30 | elapsed:    1.3s finished\n",
      "[Parallel(n_jobs=-1)]: Using backend LokyBackend with 10 concurrent workers.\n"
     ]
    },
    {
     "name": "stdout",
     "output_type": "stream",
     "text": [
      "Accuracy: 0.919 (0.011)\n",
      "tn: 4693, fp: 223, fn: 28, tp: 714\n",
      "LogisticRegression\n"
     ]
    },
    {
     "ename": "KeyboardInterrupt",
     "evalue": "",
     "output_type": "error",
     "traceback": [
      "\u001b[0;31m---------------------------------------------------------------------------\u001b[0m",
      "\u001b[0;31mKeyboardInterrupt\u001b[0m                         Traceback (most recent call last)",
      "\u001b[1;32m/Users/benjaminli/Documents/coding/scires/project/validate/validate.ipynb Cell 4\u001b[0m in \u001b[0;36m<cell line: 11>\u001b[0;34m()\u001b[0m\n\u001b[1;32m      <a href='vscode-notebook-cell:/Users/benjaminli/Documents/coding/scires/project/validate/validate.ipynb#W3sZmlsZQ%3D%3D?line=8'>9</a>\u001b[0m grad_score \u001b[39m=\u001b[39m validation_utils\u001b[39m.\u001b[39mcross_validate(best_gradBoost,X_test, y_test)\n\u001b[1;32m     <a href='vscode-notebook-cell:/Users/benjaminli/Documents/coding/scires/project/validate/validate.ipynb#W3sZmlsZQ%3D%3D?line=9'>10</a>\u001b[0m rf_score \u001b[39m=\u001b[39m validation_utils\u001b[39m.\u001b[39mcross_validate(best_rF,X_test, y_test)\n\u001b[0;32m---> <a href='vscode-notebook-cell:/Users/benjaminli/Documents/coding/scires/project/validate/validate.ipynb#W3sZmlsZQ%3D%3D?line=10'>11</a>\u001b[0m lr_score \u001b[39m=\u001b[39m validation_utils\u001b[39m.\u001b[39;49mcross_validate(lrmodel,X_test, y_test)\n",
      "File \u001b[0;32m~/Documents/coding/scires/project/utils/validation_utils.py:127\u001b[0m, in \u001b[0;36mcross_validate\u001b[0;34m(model, X_test, y_test)\u001b[0m\n\u001b[1;32m    124\u001b[0m X_test \u001b[39m=\u001b[39m transform_data(model, X_test)\n\u001b[1;32m    126\u001b[0m cv \u001b[39m=\u001b[39m RepeatedStratifiedKFold(n_splits\u001b[39m=\u001b[39m\u001b[39m10\u001b[39m, n_repeats\u001b[39m=\u001b[39m\u001b[39m3\u001b[39m, random_state\u001b[39m=\u001b[39m\u001b[39m1\u001b[39m)\n\u001b[0;32m--> 127\u001b[0m n_scores \u001b[39m=\u001b[39m cross_val_score(model, X_test, y_test, scoring\u001b[39m=\u001b[39;49m\u001b[39m'\u001b[39;49m\u001b[39maccuracy\u001b[39;49m\u001b[39m'\u001b[39;49m, cv\u001b[39m=\u001b[39;49mcv, n_jobs\u001b[39m=\u001b[39;49m\u001b[39m-\u001b[39;49m\u001b[39m1\u001b[39;49m, error_score\u001b[39m=\u001b[39;49m\u001b[39m'\u001b[39;49m\u001b[39mraise\u001b[39;49m\u001b[39m'\u001b[39;49m, verbose\u001b[39m=\u001b[39;49m\u001b[39m1\u001b[39;49m)\n\u001b[1;32m    128\u001b[0m \u001b[39mprint\u001b[39m(\u001b[39m'\u001b[39m\u001b[39mAccuracy: \u001b[39m\u001b[39m%.3f\u001b[39;00m\u001b[39m (\u001b[39m\u001b[39m%.3f\u001b[39;00m\u001b[39m)\u001b[39m\u001b[39m'\u001b[39m \u001b[39m%\u001b[39m (mean(n_scores), std(n_scores)))\n\u001b[1;32m    129\u001b[0m tn, fp, fn, tp \u001b[39m=\u001b[39m confusion_matrix(y_test, model\u001b[39m.\u001b[39mpredict(X_test))\u001b[39m.\u001b[39mravel()\n",
      "File \u001b[0;32m~/opt/miniconda3/envs/seq/lib/python3.8/site-packages/sklearn/model_selection/_validation.py:515\u001b[0m, in \u001b[0;36mcross_val_score\u001b[0;34m(estimator, X, y, groups, scoring, cv, n_jobs, verbose, fit_params, pre_dispatch, error_score)\u001b[0m\n\u001b[1;32m    512\u001b[0m \u001b[39m# To ensure multimetric format is not supported\u001b[39;00m\n\u001b[1;32m    513\u001b[0m scorer \u001b[39m=\u001b[39m check_scoring(estimator, scoring\u001b[39m=\u001b[39mscoring)\n\u001b[0;32m--> 515\u001b[0m cv_results \u001b[39m=\u001b[39m cross_validate(\n\u001b[1;32m    516\u001b[0m     estimator\u001b[39m=\u001b[39;49mestimator,\n\u001b[1;32m    517\u001b[0m     X\u001b[39m=\u001b[39;49mX,\n\u001b[1;32m    518\u001b[0m     y\u001b[39m=\u001b[39;49my,\n\u001b[1;32m    519\u001b[0m     groups\u001b[39m=\u001b[39;49mgroups,\n\u001b[1;32m    520\u001b[0m     scoring\u001b[39m=\u001b[39;49m{\u001b[39m\"\u001b[39;49m\u001b[39mscore\u001b[39;49m\u001b[39m\"\u001b[39;49m: scorer},\n\u001b[1;32m    521\u001b[0m     cv\u001b[39m=\u001b[39;49mcv,\n\u001b[1;32m    522\u001b[0m     n_jobs\u001b[39m=\u001b[39;49mn_jobs,\n\u001b[1;32m    523\u001b[0m     verbose\u001b[39m=\u001b[39;49mverbose,\n\u001b[1;32m    524\u001b[0m     fit_params\u001b[39m=\u001b[39;49mfit_params,\n\u001b[1;32m    525\u001b[0m     pre_dispatch\u001b[39m=\u001b[39;49mpre_dispatch,\n\u001b[1;32m    526\u001b[0m     error_score\u001b[39m=\u001b[39;49merror_score,\n\u001b[1;32m    527\u001b[0m )\n\u001b[1;32m    528\u001b[0m \u001b[39mreturn\u001b[39;00m cv_results[\u001b[39m\"\u001b[39m\u001b[39mtest_score\u001b[39m\u001b[39m\"\u001b[39m]\n",
      "File \u001b[0;32m~/opt/miniconda3/envs/seq/lib/python3.8/site-packages/sklearn/model_selection/_validation.py:266\u001b[0m, in \u001b[0;36mcross_validate\u001b[0;34m(estimator, X, y, groups, scoring, cv, n_jobs, verbose, fit_params, pre_dispatch, return_train_score, return_estimator, error_score)\u001b[0m\n\u001b[1;32m    263\u001b[0m \u001b[39m# We clone the estimator to make sure that all the folds are\u001b[39;00m\n\u001b[1;32m    264\u001b[0m \u001b[39m# independent, and that it is pickle-able.\u001b[39;00m\n\u001b[1;32m    265\u001b[0m parallel \u001b[39m=\u001b[39m Parallel(n_jobs\u001b[39m=\u001b[39mn_jobs, verbose\u001b[39m=\u001b[39mverbose, pre_dispatch\u001b[39m=\u001b[39mpre_dispatch)\n\u001b[0;32m--> 266\u001b[0m results \u001b[39m=\u001b[39m parallel(\n\u001b[1;32m    267\u001b[0m     delayed(_fit_and_score)(\n\u001b[1;32m    268\u001b[0m         clone(estimator),\n\u001b[1;32m    269\u001b[0m         X,\n\u001b[1;32m    270\u001b[0m         y,\n\u001b[1;32m    271\u001b[0m         scorers,\n\u001b[1;32m    272\u001b[0m         train,\n\u001b[1;32m    273\u001b[0m         test,\n\u001b[1;32m    274\u001b[0m         verbose,\n\u001b[1;32m    275\u001b[0m         \u001b[39mNone\u001b[39;49;00m,\n\u001b[1;32m    276\u001b[0m         fit_params,\n\u001b[1;32m    277\u001b[0m         return_train_score\u001b[39m=\u001b[39;49mreturn_train_score,\n\u001b[1;32m    278\u001b[0m         return_times\u001b[39m=\u001b[39;49m\u001b[39mTrue\u001b[39;49;00m,\n\u001b[1;32m    279\u001b[0m         return_estimator\u001b[39m=\u001b[39;49mreturn_estimator,\n\u001b[1;32m    280\u001b[0m         error_score\u001b[39m=\u001b[39;49merror_score,\n\u001b[1;32m    281\u001b[0m     )\n\u001b[1;32m    282\u001b[0m     \u001b[39mfor\u001b[39;49;00m train, test \u001b[39min\u001b[39;49;00m cv\u001b[39m.\u001b[39;49msplit(X, y, groups)\n\u001b[1;32m    283\u001b[0m )\n\u001b[1;32m    285\u001b[0m _warn_or_raise_about_fit_failures(results, error_score)\n\u001b[1;32m    287\u001b[0m \u001b[39m# For callabe scoring, the return type is only know after calling. If the\u001b[39;00m\n\u001b[1;32m    288\u001b[0m \u001b[39m# return type is a dictionary, the error scores can now be inserted with\u001b[39;00m\n\u001b[1;32m    289\u001b[0m \u001b[39m# the correct key.\u001b[39;00m\n",
      "File \u001b[0;32m~/opt/miniconda3/envs/seq/lib/python3.8/site-packages/joblib/parallel.py:1098\u001b[0m, in \u001b[0;36mParallel.__call__\u001b[0;34m(self, iterable)\u001b[0m\n\u001b[1;32m   1095\u001b[0m     \u001b[39mself\u001b[39m\u001b[39m.\u001b[39m_iterating \u001b[39m=\u001b[39m \u001b[39mFalse\u001b[39;00m\n\u001b[1;32m   1097\u001b[0m \u001b[39mwith\u001b[39;00m \u001b[39mself\u001b[39m\u001b[39m.\u001b[39m_backend\u001b[39m.\u001b[39mretrieval_context():\n\u001b[0;32m-> 1098\u001b[0m     \u001b[39mself\u001b[39;49m\u001b[39m.\u001b[39;49mretrieve()\n\u001b[1;32m   1099\u001b[0m \u001b[39m# Make sure that we get a last message telling us we are done\u001b[39;00m\n\u001b[1;32m   1100\u001b[0m elapsed_time \u001b[39m=\u001b[39m time\u001b[39m.\u001b[39mtime() \u001b[39m-\u001b[39m \u001b[39mself\u001b[39m\u001b[39m.\u001b[39m_start_time\n",
      "File \u001b[0;32m~/opt/miniconda3/envs/seq/lib/python3.8/site-packages/joblib/parallel.py:975\u001b[0m, in \u001b[0;36mParallel.retrieve\u001b[0;34m(self)\u001b[0m\n\u001b[1;32m    973\u001b[0m \u001b[39mtry\u001b[39;00m:\n\u001b[1;32m    974\u001b[0m     \u001b[39mif\u001b[39;00m \u001b[39mgetattr\u001b[39m(\u001b[39mself\u001b[39m\u001b[39m.\u001b[39m_backend, \u001b[39m'\u001b[39m\u001b[39msupports_timeout\u001b[39m\u001b[39m'\u001b[39m, \u001b[39mFalse\u001b[39;00m):\n\u001b[0;32m--> 975\u001b[0m         \u001b[39mself\u001b[39m\u001b[39m.\u001b[39m_output\u001b[39m.\u001b[39mextend(job\u001b[39m.\u001b[39;49mget(timeout\u001b[39m=\u001b[39;49m\u001b[39mself\u001b[39;49m\u001b[39m.\u001b[39;49mtimeout))\n\u001b[1;32m    976\u001b[0m     \u001b[39melse\u001b[39;00m:\n\u001b[1;32m    977\u001b[0m         \u001b[39mself\u001b[39m\u001b[39m.\u001b[39m_output\u001b[39m.\u001b[39mextend(job\u001b[39m.\u001b[39mget())\n",
      "File \u001b[0;32m~/opt/miniconda3/envs/seq/lib/python3.8/site-packages/joblib/_parallel_backends.py:567\u001b[0m, in \u001b[0;36mLokyBackend.wrap_future_result\u001b[0;34m(future, timeout)\u001b[0m\n\u001b[1;32m    564\u001b[0m \u001b[39m\"\"\"Wrapper for Future.result to implement the same behaviour as\u001b[39;00m\n\u001b[1;32m    565\u001b[0m \u001b[39mAsyncResults.get from multiprocessing.\"\"\"\u001b[39;00m\n\u001b[1;32m    566\u001b[0m \u001b[39mtry\u001b[39;00m:\n\u001b[0;32m--> 567\u001b[0m     \u001b[39mreturn\u001b[39;00m future\u001b[39m.\u001b[39;49mresult(timeout\u001b[39m=\u001b[39;49mtimeout)\n\u001b[1;32m    568\u001b[0m \u001b[39mexcept\u001b[39;00m CfTimeoutError \u001b[39mas\u001b[39;00m e:\n\u001b[1;32m    569\u001b[0m     \u001b[39mraise\u001b[39;00m \u001b[39mTimeoutError\u001b[39;00m \u001b[39mfrom\u001b[39;00m \u001b[39me\u001b[39;00m\n",
      "File \u001b[0;32m~/opt/miniconda3/envs/seq/lib/python3.8/concurrent/futures/_base.py:439\u001b[0m, in \u001b[0;36mFuture.result\u001b[0;34m(self, timeout)\u001b[0m\n\u001b[1;32m    436\u001b[0m \u001b[39melif\u001b[39;00m \u001b[39mself\u001b[39m\u001b[39m.\u001b[39m_state \u001b[39m==\u001b[39m FINISHED:\n\u001b[1;32m    437\u001b[0m     \u001b[39mreturn\u001b[39;00m \u001b[39mself\u001b[39m\u001b[39m.\u001b[39m__get_result()\n\u001b[0;32m--> 439\u001b[0m \u001b[39mself\u001b[39;49m\u001b[39m.\u001b[39;49m_condition\u001b[39m.\u001b[39;49mwait(timeout)\n\u001b[1;32m    441\u001b[0m \u001b[39mif\u001b[39;00m \u001b[39mself\u001b[39m\u001b[39m.\u001b[39m_state \u001b[39min\u001b[39;00m [CANCELLED, CANCELLED_AND_NOTIFIED]:\n\u001b[1;32m    442\u001b[0m     \u001b[39mraise\u001b[39;00m CancelledError()\n",
      "File \u001b[0;32m~/opt/miniconda3/envs/seq/lib/python3.8/threading.py:302\u001b[0m, in \u001b[0;36mCondition.wait\u001b[0;34m(self, timeout)\u001b[0m\n\u001b[1;32m    300\u001b[0m \u001b[39mtry\u001b[39;00m:    \u001b[39m# restore state no matter what (e.g., KeyboardInterrupt)\u001b[39;00m\n\u001b[1;32m    301\u001b[0m     \u001b[39mif\u001b[39;00m timeout \u001b[39mis\u001b[39;00m \u001b[39mNone\u001b[39;00m:\n\u001b[0;32m--> 302\u001b[0m         waiter\u001b[39m.\u001b[39;49macquire()\n\u001b[1;32m    303\u001b[0m         gotit \u001b[39m=\u001b[39m \u001b[39mTrue\u001b[39;00m\n\u001b[1;32m    304\u001b[0m     \u001b[39melse\u001b[39;00m:\n",
      "\u001b[0;31mKeyboardInterrupt\u001b[0m: "
     ]
    }
   ],
   "source": [
    "# Models within \"orig_models\" folder have the highest training acc but not as great cross validation\n",
    "\n",
    "nardus_score = validation_utils.cross_validate(nardus_gradBoost.best_estimator_, X_test, y_test)\n",
    "regnard_score = validation_utils.cross_validate(regnard, X_test, y_test)\n",
    "\n",
    "# val_utils.cross_validate(mlp,X_test, y_test)\n",
    "\n",
    "# xg_score = validation_utils.cross_validate(best_xgboost,X_test, y_test)\n",
    "grad_score = validation_utils.cross_validate(best_gradBoost,X_test, y_test)\n",
    "rf_score = validation_utils.cross_validate(best_rF,X_test, y_test)\n",
    "lr_score = validation_utils.cross_validate(lrmodel,X_test, y_test)"
   ]
  },
  {
   "cell_type": "code",
   "execution_count": 10,
   "metadata": {},
   "outputs": [],
   "source": [
    "models = OrderedDict({\n",
    "    \"merged_dataset_GBM\": nardus_gradBoost.best_estimator_,\n",
    "    \"xgboost_dataset1\": best_xgboost,\n",
    "    \"gradboost_dataset1\": best_gradBoost,\n",
    "    \"randomforest_dataset1\": best_rF,\n",
    "    \"logisticregression_dataset1\": lrmodel,\n",
    "    \"mlp_dataset1\": mlp,\n",
    "    \"svm_dataset1\": svmmodel,\n",
    "    \"gradboost_dataset2\": regnard,\n",
    "    \"knn_dataset1\": knn\n",
    "})"
   ]
  },
  {
   "cell_type": "code",
   "execution_count": 5,
   "metadata": {},
   "outputs": [
    {
     "name": "stdout",
     "output_type": "stream",
     "text": [
      "GradientBoostingClassifier\n",
      "gradboost\n"
     ]
    },
    {
     "name": "stderr",
     "output_type": "stream",
     "text": [
      "[Parallel(n_jobs=-1)]: Using backend LokyBackend with 10 concurrent workers.\n",
      "[Parallel(n_jobs=-1)]: Done  30 out of  30 | elapsed:    7.4s finished\n",
      "[Parallel(n_jobs=-1)]: Using backend LokyBackend with 10 concurrent workers.\n"
     ]
    },
    {
     "name": "stdout",
     "output_type": "stream",
     "text": [
      "Accuracy: 0.958 (0.007)\n",
      "tn: 4919, fp: 9, fn: 36, tp: 694\n",
      "XGBClassifier\n",
      "xgboost\n"
     ]
    },
    {
     "ename": "KeyboardInterrupt",
     "evalue": "",
     "output_type": "error",
     "traceback": [
      "\u001b[0;31m---------------------------------------------------------------------------\u001b[0m",
      "\u001b[0;31mKeyboardInterrupt\u001b[0m                         Traceback (most recent call last)",
      "\u001b[1;32m/Users/benjaminli/Documents/coding/scires/project/validate/validate.ipynb Cell 6\u001b[0m in \u001b[0;36m<cell line: 1>\u001b[0;34m()\u001b[0m\n\u001b[0;32m----> <a href='vscode-notebook-cell:/Users/benjaminli/Documents/coding/scires/project/validate/validate.ipynb#W5sZmlsZQ%3D%3D?line=0'>1</a>\u001b[0m cross_val_all \u001b[39m=\u001b[39m validation_utils\u001b[39m.\u001b[39;49mcross_validate_multiple(models, X_test, y_test)\n",
      "File \u001b[0;32m~/Documents/coding/scires/project/utils/validation_utils.py:143\u001b[0m, in \u001b[0;36mcross_validate_multiple\u001b[0;34m(models, X_test, y_test)\u001b[0m\n\u001b[1;32m    141\u001b[0m obj \u001b[39m=\u001b[39m {}\n\u001b[1;32m    142\u001b[0m \u001b[39mfor\u001b[39;00m key \u001b[39min\u001b[39;00m models:\n\u001b[0;32m--> 143\u001b[0m     obj[key] \u001b[39m=\u001b[39m cross_validate(models[key], X_test, y_test)\n\u001b[1;32m    145\u001b[0m \u001b[39mreturn\u001b[39;00m obj\n",
      "File \u001b[0;32m~/Documents/coding/scires/project/utils/validation_utils.py:134\u001b[0m, in \u001b[0;36mcross_validate\u001b[0;34m(model, X_test, y_test)\u001b[0m\n\u001b[1;32m    131\u001b[0m X_test \u001b[39m=\u001b[39m transform_data(model, X_test)\n\u001b[1;32m    133\u001b[0m cv \u001b[39m=\u001b[39m RepeatedStratifiedKFold(n_splits\u001b[39m=\u001b[39m\u001b[39m10\u001b[39m, n_repeats\u001b[39m=\u001b[39m\u001b[39m3\u001b[39m, random_state\u001b[39m=\u001b[39m\u001b[39m1\u001b[39m)\n\u001b[0;32m--> 134\u001b[0m n_scores \u001b[39m=\u001b[39m cross_val_score(model, X_test, y_test, scoring\u001b[39m=\u001b[39;49m\u001b[39m'\u001b[39;49m\u001b[39maccuracy\u001b[39;49m\u001b[39m'\u001b[39;49m, cv\u001b[39m=\u001b[39;49mcv, n_jobs\u001b[39m=\u001b[39;49m\u001b[39m-\u001b[39;49m\u001b[39m1\u001b[39;49m, error_score\u001b[39m=\u001b[39;49m\u001b[39m'\u001b[39;49m\u001b[39mraise\u001b[39;49m\u001b[39m'\u001b[39;49m, verbose\u001b[39m=\u001b[39;49m\u001b[39m1\u001b[39;49m)\n\u001b[1;32m    135\u001b[0m \u001b[39mprint\u001b[39m(\u001b[39m'\u001b[39m\u001b[39mAccuracy: \u001b[39m\u001b[39m%.3f\u001b[39;00m\u001b[39m (\u001b[39m\u001b[39m%.3f\u001b[39;00m\u001b[39m)\u001b[39m\u001b[39m'\u001b[39m \u001b[39m%\u001b[39m (mean(n_scores), std(n_scores)))\n\u001b[1;32m    136\u001b[0m tn, fp, fn, tp \u001b[39m=\u001b[39m confusion_matrix(y_test, model\u001b[39m.\u001b[39mpredict(X_test))\u001b[39m.\u001b[39mravel()\n",
      "File \u001b[0;32m~/opt/miniconda3/envs/seq/lib/python3.8/site-packages/sklearn/model_selection/_validation.py:515\u001b[0m, in \u001b[0;36mcross_val_score\u001b[0;34m(estimator, X, y, groups, scoring, cv, n_jobs, verbose, fit_params, pre_dispatch, error_score)\u001b[0m\n\u001b[1;32m    512\u001b[0m \u001b[39m# To ensure multimetric format is not supported\u001b[39;00m\n\u001b[1;32m    513\u001b[0m scorer \u001b[39m=\u001b[39m check_scoring(estimator, scoring\u001b[39m=\u001b[39mscoring)\n\u001b[0;32m--> 515\u001b[0m cv_results \u001b[39m=\u001b[39m cross_validate(\n\u001b[1;32m    516\u001b[0m     estimator\u001b[39m=\u001b[39;49mestimator,\n\u001b[1;32m    517\u001b[0m     X\u001b[39m=\u001b[39;49mX,\n\u001b[1;32m    518\u001b[0m     y\u001b[39m=\u001b[39;49my,\n\u001b[1;32m    519\u001b[0m     groups\u001b[39m=\u001b[39;49mgroups,\n\u001b[1;32m    520\u001b[0m     scoring\u001b[39m=\u001b[39;49m{\u001b[39m\"\u001b[39;49m\u001b[39mscore\u001b[39;49m\u001b[39m\"\u001b[39;49m: scorer},\n\u001b[1;32m    521\u001b[0m     cv\u001b[39m=\u001b[39;49mcv,\n\u001b[1;32m    522\u001b[0m     n_jobs\u001b[39m=\u001b[39;49mn_jobs,\n\u001b[1;32m    523\u001b[0m     verbose\u001b[39m=\u001b[39;49mverbose,\n\u001b[1;32m    524\u001b[0m     fit_params\u001b[39m=\u001b[39;49mfit_params,\n\u001b[1;32m    525\u001b[0m     pre_dispatch\u001b[39m=\u001b[39;49mpre_dispatch,\n\u001b[1;32m    526\u001b[0m     error_score\u001b[39m=\u001b[39;49merror_score,\n\u001b[1;32m    527\u001b[0m )\n\u001b[1;32m    528\u001b[0m \u001b[39mreturn\u001b[39;00m cv_results[\u001b[39m\"\u001b[39m\u001b[39mtest_score\u001b[39m\u001b[39m\"\u001b[39m]\n",
      "File \u001b[0;32m~/opt/miniconda3/envs/seq/lib/python3.8/site-packages/sklearn/model_selection/_validation.py:266\u001b[0m, in \u001b[0;36mcross_validate\u001b[0;34m(estimator, X, y, groups, scoring, cv, n_jobs, verbose, fit_params, pre_dispatch, return_train_score, return_estimator, error_score)\u001b[0m\n\u001b[1;32m    263\u001b[0m \u001b[39m# We clone the estimator to make sure that all the folds are\u001b[39;00m\n\u001b[1;32m    264\u001b[0m \u001b[39m# independent, and that it is pickle-able.\u001b[39;00m\n\u001b[1;32m    265\u001b[0m parallel \u001b[39m=\u001b[39m Parallel(n_jobs\u001b[39m=\u001b[39mn_jobs, verbose\u001b[39m=\u001b[39mverbose, pre_dispatch\u001b[39m=\u001b[39mpre_dispatch)\n\u001b[0;32m--> 266\u001b[0m results \u001b[39m=\u001b[39m parallel(\n\u001b[1;32m    267\u001b[0m     delayed(_fit_and_score)(\n\u001b[1;32m    268\u001b[0m         clone(estimator),\n\u001b[1;32m    269\u001b[0m         X,\n\u001b[1;32m    270\u001b[0m         y,\n\u001b[1;32m    271\u001b[0m         scorers,\n\u001b[1;32m    272\u001b[0m         train,\n\u001b[1;32m    273\u001b[0m         test,\n\u001b[1;32m    274\u001b[0m         verbose,\n\u001b[1;32m    275\u001b[0m         \u001b[39mNone\u001b[39;49;00m,\n\u001b[1;32m    276\u001b[0m         fit_params,\n\u001b[1;32m    277\u001b[0m         return_train_score\u001b[39m=\u001b[39;49mreturn_train_score,\n\u001b[1;32m    278\u001b[0m         return_times\u001b[39m=\u001b[39;49m\u001b[39mTrue\u001b[39;49;00m,\n\u001b[1;32m    279\u001b[0m         return_estimator\u001b[39m=\u001b[39;49mreturn_estimator,\n\u001b[1;32m    280\u001b[0m         error_score\u001b[39m=\u001b[39;49merror_score,\n\u001b[1;32m    281\u001b[0m     )\n\u001b[1;32m    282\u001b[0m     \u001b[39mfor\u001b[39;49;00m train, test \u001b[39min\u001b[39;49;00m cv\u001b[39m.\u001b[39;49msplit(X, y, groups)\n\u001b[1;32m    283\u001b[0m )\n\u001b[1;32m    285\u001b[0m _warn_or_raise_about_fit_failures(results, error_score)\n\u001b[1;32m    287\u001b[0m \u001b[39m# For callabe scoring, the return type is only know after calling. If the\u001b[39;00m\n\u001b[1;32m    288\u001b[0m \u001b[39m# return type is a dictionary, the error scores can now be inserted with\u001b[39;00m\n\u001b[1;32m    289\u001b[0m \u001b[39m# the correct key.\u001b[39;00m\n",
      "File \u001b[0;32m~/opt/miniconda3/envs/seq/lib/python3.8/site-packages/joblib/parallel.py:1098\u001b[0m, in \u001b[0;36mParallel.__call__\u001b[0;34m(self, iterable)\u001b[0m\n\u001b[1;32m   1095\u001b[0m     \u001b[39mself\u001b[39m\u001b[39m.\u001b[39m_iterating \u001b[39m=\u001b[39m \u001b[39mFalse\u001b[39;00m\n\u001b[1;32m   1097\u001b[0m \u001b[39mwith\u001b[39;00m \u001b[39mself\u001b[39m\u001b[39m.\u001b[39m_backend\u001b[39m.\u001b[39mretrieval_context():\n\u001b[0;32m-> 1098\u001b[0m     \u001b[39mself\u001b[39;49m\u001b[39m.\u001b[39;49mretrieve()\n\u001b[1;32m   1099\u001b[0m \u001b[39m# Make sure that we get a last message telling us we are done\u001b[39;00m\n\u001b[1;32m   1100\u001b[0m elapsed_time \u001b[39m=\u001b[39m time\u001b[39m.\u001b[39mtime() \u001b[39m-\u001b[39m \u001b[39mself\u001b[39m\u001b[39m.\u001b[39m_start_time\n",
      "File \u001b[0;32m~/opt/miniconda3/envs/seq/lib/python3.8/site-packages/joblib/parallel.py:975\u001b[0m, in \u001b[0;36mParallel.retrieve\u001b[0;34m(self)\u001b[0m\n\u001b[1;32m    973\u001b[0m \u001b[39mtry\u001b[39;00m:\n\u001b[1;32m    974\u001b[0m     \u001b[39mif\u001b[39;00m \u001b[39mgetattr\u001b[39m(\u001b[39mself\u001b[39m\u001b[39m.\u001b[39m_backend, \u001b[39m'\u001b[39m\u001b[39msupports_timeout\u001b[39m\u001b[39m'\u001b[39m, \u001b[39mFalse\u001b[39;00m):\n\u001b[0;32m--> 975\u001b[0m         \u001b[39mself\u001b[39m\u001b[39m.\u001b[39m_output\u001b[39m.\u001b[39mextend(job\u001b[39m.\u001b[39;49mget(timeout\u001b[39m=\u001b[39;49m\u001b[39mself\u001b[39;49m\u001b[39m.\u001b[39;49mtimeout))\n\u001b[1;32m    976\u001b[0m     \u001b[39melse\u001b[39;00m:\n\u001b[1;32m    977\u001b[0m         \u001b[39mself\u001b[39m\u001b[39m.\u001b[39m_output\u001b[39m.\u001b[39mextend(job\u001b[39m.\u001b[39mget())\n",
      "File \u001b[0;32m~/opt/miniconda3/envs/seq/lib/python3.8/site-packages/joblib/_parallel_backends.py:567\u001b[0m, in \u001b[0;36mLokyBackend.wrap_future_result\u001b[0;34m(future, timeout)\u001b[0m\n\u001b[1;32m    564\u001b[0m \u001b[39m\"\"\"Wrapper for Future.result to implement the same behaviour as\u001b[39;00m\n\u001b[1;32m    565\u001b[0m \u001b[39mAsyncResults.get from multiprocessing.\"\"\"\u001b[39;00m\n\u001b[1;32m    566\u001b[0m \u001b[39mtry\u001b[39;00m:\n\u001b[0;32m--> 567\u001b[0m     \u001b[39mreturn\u001b[39;00m future\u001b[39m.\u001b[39;49mresult(timeout\u001b[39m=\u001b[39;49mtimeout)\n\u001b[1;32m    568\u001b[0m \u001b[39mexcept\u001b[39;00m CfTimeoutError \u001b[39mas\u001b[39;00m e:\n\u001b[1;32m    569\u001b[0m     \u001b[39mraise\u001b[39;00m \u001b[39mTimeoutError\u001b[39;00m \u001b[39mfrom\u001b[39;00m \u001b[39me\u001b[39;00m\n",
      "File \u001b[0;32m~/opt/miniconda3/envs/seq/lib/python3.8/concurrent/futures/_base.py:439\u001b[0m, in \u001b[0;36mFuture.result\u001b[0;34m(self, timeout)\u001b[0m\n\u001b[1;32m    436\u001b[0m \u001b[39melif\u001b[39;00m \u001b[39mself\u001b[39m\u001b[39m.\u001b[39m_state \u001b[39m==\u001b[39m FINISHED:\n\u001b[1;32m    437\u001b[0m     \u001b[39mreturn\u001b[39;00m \u001b[39mself\u001b[39m\u001b[39m.\u001b[39m__get_result()\n\u001b[0;32m--> 439\u001b[0m \u001b[39mself\u001b[39;49m\u001b[39m.\u001b[39;49m_condition\u001b[39m.\u001b[39;49mwait(timeout)\n\u001b[1;32m    441\u001b[0m \u001b[39mif\u001b[39;00m \u001b[39mself\u001b[39m\u001b[39m.\u001b[39m_state \u001b[39min\u001b[39;00m [CANCELLED, CANCELLED_AND_NOTIFIED]:\n\u001b[1;32m    442\u001b[0m     \u001b[39mraise\u001b[39;00m CancelledError()\n",
      "File \u001b[0;32m~/opt/miniconda3/envs/seq/lib/python3.8/threading.py:302\u001b[0m, in \u001b[0;36mCondition.wait\u001b[0;34m(self, timeout)\u001b[0m\n\u001b[1;32m    300\u001b[0m \u001b[39mtry\u001b[39;00m:    \u001b[39m# restore state no matter what (e.g., KeyboardInterrupt)\u001b[39;00m\n\u001b[1;32m    301\u001b[0m     \u001b[39mif\u001b[39;00m timeout \u001b[39mis\u001b[39;00m \u001b[39mNone\u001b[39;00m:\n\u001b[0;32m--> 302\u001b[0m         waiter\u001b[39m.\u001b[39;49macquire()\n\u001b[1;32m    303\u001b[0m         gotit \u001b[39m=\u001b[39m \u001b[39mTrue\u001b[39;00m\n\u001b[1;32m    304\u001b[0m     \u001b[39melse\u001b[39;00m:\n",
      "\u001b[0;31mKeyboardInterrupt\u001b[0m: "
     ]
    }
   ],
   "source": [
    "cross_val_all = validation_utils.cross_validate_multiple(models, X_test, y_test)"
   ]
  },
  {
   "cell_type": "code",
   "execution_count": 2,
   "metadata": {},
   "outputs": [
    {
     "ename": "FileNotFoundError",
     "evalue": "[Errno 2] No such file or directory: 'models/searched'",
     "output_type": "error",
     "traceback": [
      "\u001b[0;31m---------------------------------------------------------------------------\u001b[0m",
      "\u001b[0;31mFileNotFoundError\u001b[0m                         Traceback (most recent call last)",
      "\u001b[1;32m/Users/benjaminli/Documents/coding/scires/project/validate/validate.ipynb Cell 7\u001b[0m in \u001b[0;36m<cell line: 3>\u001b[0;34m()\u001b[0m\n\u001b[1;32m      <a href='vscode-notebook-cell:/Users/benjaminli/Documents/coding/scires/project/validate/validate.ipynb#W6sZmlsZQ%3D%3D?line=0'>1</a>\u001b[0m \u001b[39mimport\u001b[39;00m \u001b[39mos\u001b[39;00m\n\u001b[1;32m      <a href='vscode-notebook-cell:/Users/benjaminli/Documents/coding/scires/project/validate/validate.ipynb#W6sZmlsZQ%3D%3D?line=1'>2</a>\u001b[0m di \u001b[39m=\u001b[39m {}\n\u001b[0;32m----> <a href='vscode-notebook-cell:/Users/benjaminli/Documents/coding/scires/project/validate/validate.ipynb#W6sZmlsZQ%3D%3D?line=2'>3</a>\u001b[0m \u001b[39mfor\u001b[39;00m model \u001b[39min\u001b[39;00m os\u001b[39m.\u001b[39;49mlistdir(\u001b[39m'\u001b[39;49m\u001b[39mmodels/searched\u001b[39;49m\u001b[39m'\u001b[39;49m):\n\u001b[1;32m      <a href='vscode-notebook-cell:/Users/benjaminli/Documents/coding/scires/project/validate/validate.ipynb#W6sZmlsZQ%3D%3D?line=3'>4</a>\u001b[0m     di[model] \u001b[39m=\u001b[39m pickle\u001b[39m.\u001b[39mload(\u001b[39mopen\u001b[39m(\u001b[39mf\u001b[39m\u001b[39m'\u001b[39m\u001b[39mmodels/searched/\u001b[39m\u001b[39m{\u001b[39;00mmodel\u001b[39m}\u001b[39;00m\u001b[39m'\u001b[39m, \u001b[39m'\u001b[39m\u001b[39mrb\u001b[39m\u001b[39m'\u001b[39m))\n\u001b[1;32m      <a href='vscode-notebook-cell:/Users/benjaminli/Documents/coding/scires/project/validate/validate.ipynb#W6sZmlsZQ%3D%3D?line=5'>6</a>\u001b[0m validation_utils\u001b[39m.\u001b[39mdraw_roc_multiple(models, X_test, y_test)\n",
      "\u001b[0;31mFileNotFoundError\u001b[0m: [Errno 2] No such file or directory: 'models/searched'"
     ]
    }
   ],
   "source": [
    "# import os\n",
    "# di = {}\n",
    "# for model in os.listdir('models/searched'):\n",
    "#     di[model] = pickle.load(open(f'models/searched/{model}', 'rb'))\n",
    "\n",
    "validation_utils.draw_roc_multiple(models, X_test, y_test) # implement averaging of the ROC curves"
   ]
  },
  {
   "cell_type": "code",
   "execution_count": 14,
   "metadata": {},
   "outputs": [
    {
     "name": "stdout",
     "output_type": "stream",
     "text": [
      "{'nardus': 0.9567572469433064, 'xgboost': 0.9596438287626256, 'gradboost': 0.9550489383658025, 'randomforest': 0.919641222885852, 'logisticregression': 0.9361365270959066, 'mlp': 0.9533396916726601, 'svm': 0.9403777478970575, 'regnard': 0.9575233747146564}\n"
     ]
    }
   ],
   "source": [
    "print(cross_val_all)\n",
    "real = OrderedDict()\n",
    "for key in cross_val_all:\n",
    "    real[key] = round(cross_val_all[key], 2)"
   ]
  },
  {
   "cell_type": "code",
   "execution_count": 15,
   "metadata": {},
   "outputs": [
    {
     "name": "stderr",
     "output_type": "stream",
     "text": [
      "No artists with labels found to put in legend.  Note that artists whose label start with an underscore are ignored when legend() is called with no argument.\n"
     ]
    },
    {
     "name": "stdout",
     "output_type": "stream",
     "text": [
      "0.96\n",
      "0.96\n",
      "0.96\n",
      "0.92\n",
      "0.94\n",
      "0.95\n",
      "0.94\n",
      "0.96\n"
     ]
    },
    {
     "data": {
      "image/png": "[encoded data removed]",
      "text/plain": [
       "<Figure size 640x480 with 1 Axes>"
      ]
     },
     "metadata": {},
     "output_type": "display_data"
    }
   ],
   "source": [
    "validation_utils.draw_accuracies(models, X_test, y_test, obj=real)"
   ]
  },
  {
   "cell_type": "code",
   "execution_count": null,
   "metadata": {},
   "outputs": [
    {
     "name": "stdout",
     "output_type": "stream",
     "text": [
      "<class 'sklearn.ensemble._gb.GradientBoostingClassifier'>\n"
     ]
    },
    {
     "data": {
      "image/png": "[encoded data removed]",
      "text/plain": [
       "<Figure size 640x480 with 1 Axes>"
      ]
     },
     "metadata": {},
     "output_type": "display_data"
    },
    {
     "data": {
      "image/png": "[encoded data removed]",
      "text/plain": [
       "<Figure size 640x480 with 1 Axes>"
      ]
     },
     "metadata": {},
     "output_type": "display_data"
    },
    {
     "data": {
      "image/png": "[encoded data removed]",
      "text/plain": [
       "<Figure size 640x480 with 1 Axes>"
      ]
     },
     "metadata": {},
     "output_type": "display_data"
    },
    {
     "data": {
      "image/png": "[encoded data removed]",
      "text/plain": [
       "<Figure size 640x480 with 1 Axes>"
      ]
     },
     "metadata": {},
     "output_type": "display_data"
    }
   ],
   "source": [
    "\"\"\"\n",
    "validation_utils.draw_roc_curve(nardus_gradBoost.best_estimator_, X_test, y_test)\n",
    "validation_utils.draw_roc_curve(best_xgboost, X_test, y_test)\n",
    "validation_utils.draw_roc_curve(best_rF, X_test, y_test)\n",
    "validation_utils.draw_roc_curve(best_gradBoost, X_test, y_test)\n",
    "validation_utils.draw_roc_curve(mlp, X_test, y_test)\n",
    "\n",
    "\"\"\"\n",
    "print(type(nardus_gradBoost.best_estimator_))\n",
    "validation_utils.draw_feature_importances(nardus_gradBoost.best_estimator_, X_test)\n",
    "validation_utils.draw_feature_importances(best_gradBoost, X_test)\n",
    "validation_utils.draw_feature_importances(best_xgboost, X_test)\n",
    "validation_utils.draw_feature_importances(regnard, X_test)"
   ]
  },
  {
   "cell_type": "code",
   "execution_count": null,
   "metadata": {},
   "outputs": [
    {
     "name": "stdout",
     "output_type": "stream",
     "text": [
      "rF & gb bound 1 ('cgcg', 0.0003015572826893574) 12\n",
      "rF & xg bound 0 ('cgac', 0.0005925319998248206) 21\n",
      "rF & gb bound 1 ('tatt', 0.0011150453509348468) 60\n",
      "rF & gb bound 0 ('ctcg', 0.001601226302398424) 96\n",
      "rF & xg bound 2 ('taac', 0.0016960808192351047) 105\n",
      "rF & xg bound 1 ('caaa', 0.0018456698283735272) 115\n",
      "gb & xg bound 1 ('agct', 0.002219047867503112) 122\n",
      "rF & xg bound 1 ('ctca', 0.0020714853411268937) 132\n",
      "rF & gb bound 2 ('gaac', 0.0025670387790062968) 151\n",
      "gb & xg bound 0 ('taag', 0.014197001200931161) 244\n"
     ]
    }
   ],
   "source": [
    "max_bound = 3\n",
    "for x in range(len(resrF)-max_bound+1):\n",
    "    for i in range(max_bound):\n",
    "        if resrF[x][0] == resgB[x+i][0]:  print(\"rF & gb bound\", i, resrF[x], x)\n",
    "        if resrF[x][0] == resxG[x+i][0]:  print(\"rF & xg bound\", i, resrF[x], x)\n",
    "        if resgB[x][0] == resxG[x+i][0]:  print(\"gb & xg bound\", i, resgB[x], x)"
   ]
  }
 ],
 "metadata": {
  "kernelspec": {
   "display_name": "Python 3.8.13 ('seq')",
   "language": "python",
   "name": "python3"
  },
  "language_info": {
   "codemirror_mode": {
    "name": "ipython",
    "version": 3
   },
   "file_extension": ".py",
   "mimetype": "text/x-python",
   "name": "python",
   "nbconvert_exporter": "python",
   "pygments_lexer": "ipython3",
   "version": "3.8.13 (default, Oct 19 2022, 17:52:09) \n[Clang 12.0.0 ]"
  },
  "orig_nbformat": 4,
  "vscode": {
   "interpreter": {
    "hash": "e1360c63304de9435a2a3572d38e6c9496b6fb5d1617f35fbc8638664d664ab4"
   }
  }
 },
 "nbformat": 4,
 "nbformat_minor": 2
}
