{
 "cells": [
  {
   "cell_type": "code",
   "execution_count": 2,
   "metadata": {},
   "outputs": [
    {
     "name": "stdout",
     "output_type": "stream",
     "text": [
      "/Users/benjaminli/Documents/coding/scires/project/utils\n",
      "/Users/benjaminli/Documents/coding/scires/project/utils\n",
      "/Users/benjaminli/Documents/coding/scires/project\n"
     ]
    }
   ],
   "source": [
    "from Bio import SeqIO, Entrez\n",
    "import os\n",
    "from urllib.error import HTTPError\n",
    "import pickle\n",
    "import pandas as pd\n",
    "from sklearn.model_selection import train_test_split\n",
    "from itertools import permutations, product\n",
    "from sklearn.metrics import accuracy_score, confusion_matrix, balanced_accuracy_score\n",
    "import tqdm\n",
    "import numpy as np\n",
    "from sklearn.model_selection import RepeatedStratifiedKFold, train_test_split, cross_val_score\n",
    "\n",
    "from numpy import mean\n",
    "from numpy import std\n",
    "import pickle\n",
    "from os import path\n",
    "from sklearn.model_selection import cross_val_score\n",
    "from warnings import simplefilter\n",
    "from collections import OrderedDict\n",
    "from sklearn.metrics import accuracy_score, auc, confusion_matrix, balanced_accuracy_score, precision_recall_curve, auc, roc_curve, roc_auc_score\n",
    "\n",
    "from concurrent.futures import ThreadPoolExecutor, as_completed\n",
    "import matplotlib.pyplot as plt\n",
    "from sklearn.ensemble import GradientBoostingClassifier\n",
    "from xgboost import XGBClassifier\n",
    "\n",
    "from sklearn.neighbors import KNeighborsClassifier\n",
    "from sklearn.tree import DecisionTreeClassifier\n",
    "from imblearn.ensemble import BalancedBaggingClassifier\n",
    "\n",
    "from sklearn.model_selection import GridSearchCV\n",
    "\n",
    "if (os.path.abspath('').split('/')[-1] == 'project'):\n",
    "    %cd utils\n",
    "elif (os.path.abspath('').split('/')[-1] == 'validate'):\n",
    "    %cd ../utils\n",
    "\n",
    "import query_utils\n",
    "import model_utils\n",
    "import validation_utils\n",
    "import data_utils\n",
    "\n",
    "\n",
    "print(os.path.abspath(''))\n",
    "\n",
    "if (os.path.abspath('').split('/')[-1] == 'utils'):\n",
    "    %cd ..\n",
    "\n",
    "simplefilter(action=\"ignore\", category=pd.errors.PerformanceWarning)\n",
    "simplefilter(action='ignore', category=FutureWarning)\n",
    "\n",
    "Entrez.tool = \"Zoonosis predictor\"\n",
    "\n",
    "Entrez.email = input(\"Enter an email address to use NCBI e-utils: \")"
   ]
  },
  {
   "cell_type": "code",
   "execution_count": 17,
   "metadata": {},
   "outputs": [],
   "source": [
    "def getSequences(mergedDf):\n",
    "    accession_list = [] # maintain order\n",
    "    isZoonotic_list = [] # maintain order\n",
    "    accession_set = set()\n",
    "    isZoonotic_set = set()\n",
    "\n",
    "\n",
    "    for row in tqdm.tqdm(mergedDf.itertuples()):\n",
    "        # row[13] = accession, row[15] = infects humans\n",
    "        for single_acc in row[14].split(\"; \"):\n",
    "            # print(single_acc)\n",
    "            if single_acc not in accession_set:\n",
    "                accession_list.append(single_acc)\n",
    "                isZoonotic_list.append(0 if not row[16] else 1)\n",
    "                # accession_set.add(single_acc)\n",
    "                # isZoonotic_set.add(row[15])\n",
    "                # print(0 if not row[16] else 1)\n",
    "\n",
    "    print(\"passed local retrieval\")\n",
    "    # TODO: RUN MULTIPLE THREADS TO SPEED UP\n",
    "    threads = []\n",
    "    vals = []\n",
    "\n",
    "    \n",
    "    for index, ID in enumerate(tqdm.tqdm(accession_list[:1000])): #only read the first 100 lol\n",
    "        # multithread for speed up\n",
    "        query_utils.queryKmer(ID, isZoonotic_list, index, vals)\n",
    "        # x = threading.Thread(target=queryKmer, args=(ID, isZoonotic_list, index, vals))\n",
    "        # threads.append(x)\n",
    "        # x.start()\n",
    "\n",
    "    # for index, thread in enumerate(tqdm.tqdm(threads)):\n",
    "    #     thread.join()\n",
    "    df = pd.DataFrame(vals)\n",
    "    df.to_csv(\"data/nardus_sequences.csv\")\n",
    "\n",
    "    return df\n",
    "    \n"
   ]
  },
  {
   "cell_type": "code",
   "execution_count": 9,
   "metadata": {},
   "outputs": [
    {
     "name": "stdout",
     "output_type": "stream",
     "text": [
      "{'learning_rate': 0.1, 'max_depth': 9, 'min_samples_split': 20, 'n_estimators': 140, 'subsample': 0.9} 0.9525684121565281\n"
     ]
    }
   ],
   "source": [
    "gradBoost = pickle.load(open('models/nardus_gridsearch.pkl', 'rb'))\n",
    "knn = pickle.load(open('models/curr_models/knn.pkl', 'rb'))\n",
    "randforest = pickle.load(open('models/curr_models/randforest.pkl', 'rb'))\n",
    "nardusother = pickle.load(open('models/curr_models/gradBoost.pkl', 'rb'))\n",
    "\n",
    "print(gradBoost.best_params_, gradBoost.best_score_)"
   ]
  },
  {
   "cell_type": "code",
   "execution_count": 11,
   "metadata": {},
   "outputs": [],
   "source": [
    "\n",
    "    # print(kmer_df)\n",
    "    # best_gradBoost = pickle.load(open('models/nardus_testing/gradBoost.pkl', 'rb'))\n",
    "    # cols_when_model_builds = best_gradBoost.feature_names_in_\n",
    "    # kmer_df=kmer_df[cols_when_model_builds]\n",
    "    \n",
    "    # print(best_gradBoost.predict_proba(kmer_df)[:,1])\n",
    "    # other = pickle.load(open('models/curr_models/gradBoost.pkl', 'rb'))\n",
    "    \n",
    "    # cols_when_model_builds = other.feature_names_in_\n",
    "    # kmer_df=kmer_df[cols_when_model_builds]\n",
    "    \n",
    "    # print(other.predict_proba(kmer_df)[:,1])\n",
    "\n",
    "    # asdaf = pickle.load(open('models/curr_models/knn.pkl', 'rb'))\n",
    "    \n",
    "    # print(asdaf.predict_proba(kmer_df)[:,1])\n",
    "\n",
    "    # asdaf = pickle.load(open('models/curr_models/randforest.pkl', 'rb'))\n",
    "    \n",
    "    # print(asdaf.predict_proba(kmer_df)[:,1])"
   ]
  }
 ],
 "metadata": {
  "kernelspec": {
   "display_name": "seq",
   "language": "python",
   "name": "python3"
  },
  "language_info": {
   "codemirror_mode": {
    "name": "ipython",
    "version": 3
   },
   "file_extension": ".py",
   "mimetype": "text/x-python",
   "name": "python",
   "nbconvert_exporter": "python",
   "pygments_lexer": "ipython3",
   "version": "3.8.13 (default, Oct 19 2022, 17:52:09) \n[Clang 12.0.0 ]"
  },
  "orig_nbformat": 4,
  "vscode": {
   "interpreter": {
    "hash": "e1360c63304de9435a2a3572d38e6c9496b6fb5d1617f35fbc8638664d664ab4"
   }
  }
 },
 "nbformat": 4,
 "nbformat_minor": 2
}
