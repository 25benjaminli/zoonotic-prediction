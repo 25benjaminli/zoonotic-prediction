{
 "cells": [
  {
   "cell_type": "code",
   "execution_count": 37,
   "metadata": {},
   "outputs": [
    {
     "name": "stdout",
     "output_type": "stream",
     "text": [
      "/Users/benjaminli/Documents/coding/scires/project/utils\n",
      "/Users/benjaminli/Documents/coding/scires/project\n"
     ]
    }
   ],
   "source": [
    "from Bio import SeqIO, Entrez\n",
    "import os\n",
    "from urllib.error import HTTPError\n",
    "import pickle\n",
    "import pandas as pd\n",
    "from sklearn.model_selection import train_test_split\n",
    "from itertools import permutations, product\n",
    "from sklearn.metrics import accuracy_score, confusion_matrix, balanced_accuracy_score\n",
    "import tqdm\n",
    "import numpy as np\n",
    "from sklearn.model_selection import RepeatedStratifiedKFold, train_test_split, cross_val_score\n",
    "\n",
    "from numpy import mean\n",
    "from numpy import std\n",
    "import pickle\n",
    "from os import path\n",
    "from sklearn.model_selection import cross_val_score\n",
    "from warnings import simplefilter\n",
    "from collections import OrderedDict\n",
    "from sklearn.metrics import accuracy_score, auc, confusion_matrix, balanced_accuracy_score, precision_recall_curve, auc, roc_curve, roc_auc_score\n",
    "\n",
    "from concurrent.futures import ThreadPoolExecutor, as_completed\n",
    "import matplotlib.pyplot as plt\n",
    "\n",
    "simplefilter(action=\"ignore\", category=pd.errors.PerformanceWarning)\n",
    "simplefilter(action='ignore', category=FutureWarning)\n",
    "\n",
    "Entrez.tool = \"Zoonosis predictor\"\n",
    "\n",
    "Entrez.email = input(\"Enter an email address to use NCBI e-utils: \")\n",
    "\n",
    "%cd ../utils\n",
    "import model_utils\n",
    "import validation_utils\n",
    "%cd .."
   ]
  },
  {
   "cell_type": "code",
   "execution_count": 2,
   "metadata": {},
   "outputs": [],
   "source": [
    "best_gradBoost = pickle.load(open('/models/curr_models/gradBoost.pkl', 'rb'))\n",
    "best_xgBoost = pickle.load(open('/models/curr_models/xgBoost.pkl', 'rb'))\n",
    "nardus_model = pickle.load(open('/models/nardus_testing/gradBoost.pkl', 'rb'))\n",
    "gridsearch = pickle.load(open('/models/gridsearch/gradBoost.pkl', 'rb')) # poorest model\n",
    "\n",
    "kmer = 4\n",
    "\n",
    "s = product('acgt',repeat = kmer)\n",
    "permset = set([\"\".join(x) for x in list(s)])\n",
    "\n",
    "preds = []\n",
    "reals = []\n",
    "for ind, file in enumerate(os.listdir(\"data/virome_contigs\")):\n",
    "    fasta_sequences = SeqIO.parse(open(f\"data/virome_contigs/{file}\"),'fasta')\n",
    "\n",
    "    fastas = [x for x in fasta_sequences]\n",
    "    for fasta in fastas:\n",
    "        name, sequence = fasta.id, str(fasta.seq)\n",
    "        X_info = sequence.lower()\n",
    "\n",
    "        oDict = assign_kmers_to_dict(X_info, permset, kmer) # convert ordereddict to pandas dataframe\n",
    "\n",
    "        kmer_df = pd.DataFrame()\n",
    "\n",
    "        for i in oDict:\n",
    "            kmer_df.at[0, i]=oDict[i]\n",
    "\n",
    "        cols_when_model_builds = best_gradBoost.feature_names_in_\n",
    "        kmer_df=kmer_df[cols_when_model_builds]\n",
    "        \n",
    "        gradboost = best_gradBoost.predict_proba(kmer_df)[:,1]\n",
    "        \n",
    "        cols_when_model_builds = best_xgBoost.get_booster().feature_names\n",
    "        kmer_df=kmer_df[cols_when_model_builds]\n",
    "\n",
    "        xgpred = best_xgBoost.predict_proba(kmer_df)[:,1]\n",
    "\n",
    "        cols_when_model_builds = nardus_model.feature_names_in_\n",
    "        kmer_df=kmer_df[cols_when_model_builds]\n",
    "        \n",
    "        narduspred = nardus_model.predict_proba(kmer_df)[:,1]\n",
    "\n",
    "        cols_when_model_builds = gridsearch.feature_names_in_\n",
    "        kmer_df=kmer_df[cols_when_model_builds]\n",
    "        \n",
    "        gridsearchpred = gridsearch.predict_proba(kmer_df)[:,1]\n",
    "\n",
    "        preds.append([gradboost, xgpred, narduspred, gridsearchpred])\n",
    "\n",
    "preds = np.array(preds)"
   ]
  }
 ],
 "metadata": {
  "kernelspec": {
   "display_name": "Python 3.8.13 ('seq')",
   "language": "python",
   "name": "python3"
  },
  "language_info": {
   "codemirror_mode": {
    "name": "ipython",
    "version": 3
   },
   "file_extension": ".py",
   "mimetype": "text/x-python",
   "name": "python",
   "nbconvert_exporter": "python",
   "pygments_lexer": "ipython3",
   "version": "3.8.13"
  },
  "orig_nbformat": 4,
  "vscode": {
   "interpreter": {
    "hash": "e1360c63304de9435a2a3572d38e6c9496b6fb5d1617f35fbc8638664d664ab4"
   }
  }
 },
 "nbformat": 4,
 "nbformat_minor": 2
}
