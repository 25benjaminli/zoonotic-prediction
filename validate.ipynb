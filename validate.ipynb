{
 "cells": [
  {
   "cell_type": "code",
   "execution_count": 36,
   "metadata": {},
   "outputs": [],
   "source": [
    "from Bio import SeqIO, Entrez\n",
    "import os\n",
    "from urllib.error import HTTPError\n",
    "import pickle\n",
    "import pandas as pd\n",
    "from sklearn.model_selection import train_test_split\n",
    "from itertools import permutations, product\n",
    "from sklearn.metrics import accuracy_score, confusion_matrix, balanced_accuracy_score\n",
    "import tqdm\n",
    "import numpy as np\n",
    "from sklearn.model_selection import RepeatedStratifiedKFold, train_test_split, cross_val_score\n",
    "\n",
    "from numpy import mean\n",
    "from numpy import std\n",
    "import pickle\n",
    "from os import path\n",
    "from sklearn.model_selection import cross_val_score\n",
    "from warnings import simplefilter\n",
    "from collections import OrderedDict\n",
    "from sklearn.metrics import accuracy_score, auc, confusion_matrix, balanced_accuracy_score, precision_recall_curve, auc, roc_curve, roc_auc_score\n",
    "\n",
    "from concurrent.futures import ThreadPoolExecutor, as_completed\n",
    "import matplotlib.pyplot as plt\n",
    "\n",
    "simplefilter(action=\"ignore\", category=pd.errors.PerformanceWarning)\n",
    "simplefilter(action='ignore', category=FutureWarning)\n",
    "\n",
    "Entrez.tool = \"Zoonosis predictor\"\n",
    "\n",
    "Entrez.email = input(\"Enter an email address to use NCBI e-utils: \")\n"
   ]
  },
  {
   "cell_type": "code",
   "execution_count": 90,
   "metadata": {},
   "outputs": [],
   "source": [
    "def resetkmerdict(permset)->OrderedDict:\n",
    "        kmerdict = OrderedDict()\n",
    "        for i in permset:\n",
    "            kmerdict[i]=0\n",
    "        return kmerdict\n",
    "\n",
    "def assign_kmers_to_dict(st, permset, kmer):\n",
    "    kmerdict=resetkmerdict(permset)\n",
    "    # st = row[2] # tune for which column the sequence is in\n",
    "    for j in range(len(st)-kmer+1):\n",
    "        if not st[j:j+kmer] in permset: continue\n",
    "        kmerdict[st[j:j+kmer]]+=1\n",
    "    return kmerdict\n",
    "\n",
    "def getTrainParams(mergedDf):\n",
    "    kmer = 4\n",
    "\n",
    "    s = product('acgt',repeat = kmer)\n",
    "    permset = set([\"\".join(x) for x in list(s)])\n",
    "    # print(permset)\n",
    "\n",
    "    l = []\n",
    "    \n",
    "    for row in tqdm.tqdm(mergedDf.itertuples()):\n",
    "        # print(row)\n",
    "        l.append(assign_kmers_to_dict(row[2], permset, kmer))\n",
    "    \n",
    "\n",
    "    finalkmerdict=pd.DataFrame(l)\n",
    "    # print(finalkmerdict)\n",
    "\n",
    "    # print(\"finished\")\n",
    "    mergedDf.fillna(0, inplace=True)\n",
    "\n",
    "    X = finalkmerdict\n",
    "    Y = mergedDf['isZoonotic']\n",
    "\n",
    "    # print(X)\n",
    "    # print(Y)\n",
    "    return train_test_split(X, Y, test_size=0.2, random_state=1)"
   ]
  },
  {
   "cell_type": "code",
   "execution_count": 11,
   "metadata": {},
   "outputs": [],
   "source": [
    "def queryKmer(ID, isZoonotic_list, index, everything):\n",
    "    try:\n",
    "        QueryHandle = Entrez.efetch(db=\"nucleotide\", id=ID, \n",
    "                                    rettype=\"gb\", retmode=\"text\")\n",
    "    except HTTPError as Error:\n",
    "        if Error.code == 400:  # Bad request\n",
    "            raise ValueError(f\"Accession number not found: {ID}\")\n",
    "        else:\n",
    "            raise\n",
    "\n",
    "    SeqRec = SeqIO.read(QueryHandle, \"genbank\")\n",
    "    # print(str(SeqRec.seq))\n",
    "    everything.append({'accession': ID, 'sequence': str(SeqRec.seq).lower(), 'isZoonotic': isZoonotic_list[index]})\n",
    "    "
   ]
  },
  {
   "cell_type": "code",
   "execution_count": 91,
   "metadata": {},
   "outputs": [],
   "source": [
    "def getSequences(mergedDf):\n",
    "    accession_list = [] # maintain order\n",
    "    isZoonotic_list = [] # maintain order\n",
    "    accession_set = set()\n",
    "    isZoonotic_set = set()\n",
    "\n",
    "\n",
    "    for row in tqdm.tqdm(mergedDf.itertuples()):\n",
    "        # row[13] = accession, row[15] = infects humans\n",
    "        for single_acc in row[14].split(\"; \"):\n",
    "            if single_acc not in accession_set:\n",
    "                accession_list.append(single_acc)\n",
    "                isZoonotic_list.append(row[15])\n",
    "                accession_set.add(single_acc)\n",
    "                isZoonotic_set.add(row[15])\n",
    "\n",
    "\n",
    "    # TODO: RUN MULTIPLE THREADS TO SPEED UP\n",
    "    threads = []\n",
    "    vals = []\n",
    "    \n",
    "    for index, ID in enumerate(tqdm.tqdm(accession_list[:100])): #only read the first 100 lol\n",
    "        # multithread for speed up\n",
    "        queryKmer(ID, isZoonotic_list, index, vals)\n",
    "        # x = threading.Thread(target=queryKmer, args=(ID, isZoonotic_list, index, vals))\n",
    "        # threads.append(x)\n",
    "        # x.start()\n",
    "\n",
    "    # for index, thread in enumerate(tqdm.tqdm(threads)):\n",
    "    #     thread.join()\n",
    "    df = pd.DataFrame(vals)\n",
    "\n",
    "    return df\n",
    "    \n"
   ]
  },
  {
   "cell_type": "code",
   "execution_count": 92,
   "metadata": {},
   "outputs": [
    {
     "name": "stderr",
     "output_type": "stream",
     "text": [
      "913it [00:00, 664480.23it/s]\n",
      "100%|██████████| 100/100 [00:43<00:00,  2.30it/s]\n",
      "100it [00:00, 316.59it/s]\n"
     ]
    }
   ],
   "source": [
    "mergedDf = pd.read_csv(\"FinalData_Cleaned.csv\") # read mollentze data\n",
    "sequences = getSequences(mergedDf)\n",
    "X_train, X_test, y_train, y_test = getTrainParams(sequences)"
   ]
  },
  {
   "cell_type": "code",
   "execution_count": 22,
   "metadata": {},
   "outputs": [
    {
     "name": "stdout",
     "output_type": "stream",
     "text": [
      "      accession                                           sequence  isZoonotic\n",
      "0   NC_025403.1  accagagggaaaatataacaatgtcgttttatagcgatgtaaataa...           1\n",
      "1   NC_025404.1  accagagggaaaattaagaaaggtcgttccaagacgacttaaaaga...           1\n",
      "2   NC_028246.1  acggagaaaaacaaaaaaactatagtgattagataaataaggaaaa...           1\n",
      "3   NC_002077.1  ttgcccactccctctctgcgcgctcgctcgctcggtggggcctgcg...           1\n",
      "4   NC_006152.1  ctctcccccctgtcgcgttcgctcgctcgctggctcgtttgggggg...           1\n",
      "..          ...                                                ...         ...\n",
      "95  NC_004218.1  gtattaaatttttgtaagtcgttatggaattatttagtgacagtgg...           1\n",
      "96  NC_004219.1  gtatttaaaattcatgtttttgcatcatggcgtgggttacgcaagc...           1\n",
      "97  NC_004220.1  gtattaaaaattacaagaacctaacattgcaatggagatcttgaga...           1\n",
      "98  NC_004221.1  gtatttaaaattatagaaagttctgaacctaggggtctttctgtct...           1\n",
      "99  NC_004204.1  gtattaaaattcagcaattgtccaatttaggaaacattctgtttaa...           1\n",
      "\n",
      "[100 rows x 3 columns]\n",
      "[1 1 1 1 1 1 1 1 1 1 1 1 1 1 1 1 1 1 1 1 1 1 1 1 1 1 1 1 1 1 1 1 1 1 1 1 1\n",
      " 1 1 1 1 1 1 1 1 1 1 1 1 1 1 1 1 1 1 1 1 1 1 1 1 1 1 1 1 1 1 1 1 1 1 1 1 1\n",
      " 1 1 1 1 1 1 1 1 1 1 1 1 1 1 1 1 1 1 1 1 1 1 1 1]\n",
      "98\n",
      "5\n",
      "45.0\n"
     ]
    }
   ],
   "source": [
    "best_gradBoost = pickle.load(open('curr_models/gradBoost.pkl', 'rb'))\n",
    "best_xgBoost = pickle.load(open('curr_models/xgBoost.pkl', 'rb'))\n",
    "kmer = 4\n",
    "print(sequences)\n",
    "\n",
    "s = product('acgt',repeat = kmer)\n",
    "permset = set([\"\".join(x) for x in list(s)])\n",
    "\n",
    "pred_arr = []\n",
    "xg_pred = []\n",
    "for ind, file in enumerate(os.listdir(\"./virome_contigs\")):\n",
    "    fasta_sequences = SeqIO.parse(open(f\"./virome_contigs/{file}\"),'fasta')\n",
    "\n",
    "    fasta = [x for x in fasta_sequences][0]\n",
    "    # print(fasta)\n",
    "    \n",
    "    name, sequence = fasta.id, str(fasta.seq)\n",
    "    X_info = sequence.lower()\n",
    "\n",
    "    oDict = assign_kmers_to_dict(X_info, permset, kmer) # convert ordereddict to pandas dataframe\n",
    "\n",
    "    kmer_df = pd.DataFrame()\n",
    "\n",
    "    for i in oDict:\n",
    "        kmer_df.at[0, i]=oDict[i]\n",
    "    cols_when_model_builds = best_gradBoost.feature_names_in_\n",
    "    kmer_df=kmer_df[cols_when_model_builds]\n",
    "    \n",
    "    pred_arr.append(best_gradBoost.predict(kmer_df))\n",
    "    \n",
    "    cols_when_model_builds = best_xgBoost.get_booster().feature_names\n",
    "    kmer_df=kmer_df[cols_when_model_builds]\n",
    "\n",
    "    xg_pred.append(best_xgBoost.predict(kmer_df))\n",
    "\n",
    "\n",
    "    \n",
    "pred_arr = np.asarray(pred_arr)\n",
    "xg_pred = np.asarray(xg_pred)\n",
    "\n",
    "\n",
    "    # print(best_gradBoost.predict(kmer_df), sequences.loc[ind]['isZoonotic'])\n",
    "    # print(best_gradBoost.predict(kmer_df), sequences['isZoonotic'])\n",
    "        # print(accuracy_score())\n",
    "\n",
    "print(sequences['isZoonotic'][sequences['isZoonotic'] == 1].to_numpy())\n",
    "print(len(sequences['isZoonotic'][sequences['isZoonotic'] == 1].to_numpy()))\n",
    "print(xg_pred.sum())\n",
    "print(pred_arr.sum())\n",
    "\n",
    "\n",
    "    # with open(output_file) as out_file:\n",
    "    #     for fasta in fasta_sequences:\n",
    "    #         name, sequence = fasta.id, str(fasta.seq)\n",
    "    #         new_sequence = some_function(sequence)\n",
    "    #         write_fasta(out_file)"
   ]
  },
  {
   "cell_type": "code",
   "execution_count": 20,
   "metadata": {},
   "outputs": [
    {
     "name": "stdout",
     "output_type": "stream",
     "text": [
      "0.33\n",
      "[[0]\n",
      " [0]\n",
      " [0]\n",
      " [0]\n",
      " [0]\n",
      " [0]\n",
      " [0]\n",
      " [0]\n",
      " [0]\n",
      " [0]\n",
      " [0]\n",
      " [0]\n",
      " [0]\n",
      " [0]\n",
      " [0]\n",
      " [0]\n",
      " [0]\n",
      " [0]\n",
      " [0]\n",
      " [0]\n",
      " [0]\n",
      " [0]\n",
      " [0]\n",
      " [0]\n",
      " [0]\n",
      " [0]\n",
      " [0]\n",
      " [0]\n",
      " [0]\n",
      " [0]\n",
      " [0]\n",
      " [0]\n",
      " [0]\n",
      " [0]\n",
      " [0]\n",
      " [0]\n",
      " [0]\n",
      " [0]\n",
      " [0]\n",
      " [0]\n",
      " [0]\n",
      " [0]\n",
      " [0]\n",
      " [0]\n",
      " [0]\n",
      " [0]\n",
      " [0]\n",
      " [0]\n",
      " [0]\n",
      " [0]\n",
      " [0]\n",
      " [0]\n",
      " [0]\n",
      " [0]\n",
      " [0]\n",
      " [0]\n",
      " [0]\n",
      " [0]\n",
      " [0]\n",
      " [0]\n",
      " [1]\n",
      " [0]\n",
      " [0]\n",
      " [0]\n",
      " [0]\n",
      " [0]\n",
      " [0]\n",
      " [0]\n",
      " [0]\n",
      " [1]\n",
      " [0]\n",
      " [0]\n",
      " [0]\n",
      " [0]\n",
      " [0]\n",
      " [0]\n",
      " [0]\n",
      " [0]\n",
      " [1]\n",
      " [1]\n",
      " [0]\n",
      " [0]\n",
      " [0]\n",
      " [0]\n",
      " [0]\n",
      " [0]\n",
      " [0]\n",
      " [0]\n",
      " [0]\n",
      " [0]\n",
      " [0]\n",
      " [0]\n",
      " [0]\n",
      " [0]\n",
      " [1]\n",
      " [0]\n",
      " [0]\n",
      " [0]\n",
      " [0]\n",
      " [0]\n",
      " [0]\n",
      " [0]\n",
      " [0]\n",
      " [0]\n",
      " [0]\n",
      " [0]\n",
      " [0]\n",
      " [0]\n",
      " [0]\n",
      " [0]\n",
      " [0]\n",
      " [0]\n",
      " [0]\n",
      " [0]\n",
      " [0]\n",
      " [0]\n",
      " [0]\n",
      " [0]\n",
      " [0]\n",
      " [0]\n",
      " [0]\n",
      " [0]\n",
      " [0]\n",
      " [0]\n",
      " [0]\n",
      " [0]\n",
      " [0]\n",
      " [0]\n",
      " [0]\n",
      " [0]\n",
      " [0]\n",
      " [0]\n",
      " [0]\n",
      " [0]\n",
      " [0]\n",
      " [0]\n",
      " [0]\n",
      " [0]\n",
      " [0]\n",
      " [0]\n",
      " [0]\n",
      " [0]\n",
      " [0]\n",
      " [0]\n",
      " [0]\n",
      " [0]\n",
      " [0]\n",
      " [0]\n",
      " [0]]\n",
      "0.07\n"
     ]
    }
   ],
   "source": [
    "print(accuracy_score(sequences['isZoonotic'], pred_arr[:100]))\n",
    "print(accuracy_score(sequences['isZoonotic'], xg_pred[:100]))"
   ]
  },
  {
   "cell_type": "code",
   "execution_count": 42,
   "metadata": {},
   "outputs": [
    {
     "name": "stdout",
     "output_type": "stream",
     "text": [
      "ID: PA544053.1\n",
      "Name: PA544053\n",
      "Description: WO 2022071435-A/1: SARS-CoV-2 PROTEIN-DERIVED PEPTIDES AND VACCINES INCLUDING THE SAME\n",
      "Number of features: 1\n",
      "/molecule_type=DNA\n",
      "/topology=linear\n",
      "/data_file_division=PAT\n",
      "/date=29-JUL-2022\n",
      "/accessions=['PA544053']\n",
      "/sequence_version=1\n",
      "/keywords=['WO 2022071435-A/1']\n",
      "/source=Severe acute respiratory syndrome coronavirus 2 (SARS-CoV-2)\n",
      "/organism=Severe acute respiratory syndrome coronavirus 2\n",
      "/taxonomy=['Viruses', 'Riboviria', 'Orthornavirae', 'Pisuviricota', 'Pisoniviricetes', 'Nidovirales', 'Cornidovirineae', 'Coronaviridae', 'Orthocoronavirinae', 'Betacoronavirus', 'Sarbecovirus']\n",
      "/references=[Reference(title='SARS-CoV-2 PROTEIN-DERIVED PEPTIDES AND VACCINES INCLUDING THE SAME', ...)]\n",
      "/comment=OS   Severe acute respiratory syndrome coronavirus 2 PN   WO\n",
      "2022071435-A/1\n",
      "PD   07-APR-2022\n",
      "PF   29-SEP-2021 WO 2021JP035967\n",
      "PR   30-SEP-2020 JP 2020-164630         ,30-APR-2021 JP\n",
      "PR   JP2021/017159       ,\n",
      "PR   25-AUG-2021 US 63/236927\n",
      "PA   ONCOTHERAPY SCIENCE INC,CANCER PRECISION MEDICINE INC,Kazuma\n",
      "PA   KIYOTANI,\n",
      "PA   Yusuke NAKAMURA\n",
      "PI   tetsuro hikichi,yusuke nakamura,kazuma kiyotani\n",
      "PT   'SARS-CoV-2 PROTEIN-DERIVED PEPTIDES AND VACCINES INCLUDING\n",
      "PT   THE SAME'\n",
      "PS   N16\n",
      "CC\n",
      "FH   Key             Location/Qualifiers.\n",
      "Seq('ATTAAAGGTTTATACCTTCCCAGGTAACAAACCAACCAACTTTCGATCTCTTGT...AAA')\n",
      "[0.05, 0.95]\n",
      "1.0\n"
     ]
    }
   ],
   "source": [
    "def getSingleSequence(accessionID):\n",
    "    try:\n",
    "        QueryHandle = Entrez.efetch(db=\"nucleotide\", id=accessionID, \n",
    "                                    rettype=\"gb\", retmode=\"text\")\n",
    "    except HTTPError as Error:\n",
    "        if Error.code == 400:  # Bad request\n",
    "            raise ValueError(f\"Accession number not found: {accessionID}\")\n",
    "        else:\n",
    "            raise\n",
    "\n",
    "    SeqRec = SeqIO.read(QueryHandle, \"genbank\")\n",
    "    print(str(SeqRec))\n",
    "\n",
    "    oDict = assign_kmers_to_dict(X_info, permset, kmer) # convert ordereddict to pandas dataframe\n",
    "\n",
    "    kmer_df = pd.DataFrame()\n",
    "\n",
    "    for i in oDict:\n",
    "        kmer_df.at[0, i]=oDict[i]\n",
    "    # print(best_gradBoost.predict_proba(kmer_df))\n",
    "\n",
    "    cols_when_model_builds = best_gradBoost.feature_names_in_\n",
    "    kmer_df=kmer_df[cols_when_model_builds]\n",
    "    \n",
    "    print([round(x, 2) for x in best_gradBoost.predict_proba(kmer_df).tolist()[0]])\n",
    "    print(best_gradBoost.predict(kmer_df).tolist()[0])\n",
    "\n",
    "    # ls = []\n",
    "    # ls.append({'accession': accessionID, 'sequence': str(SeqRec.seq).lower()})\n",
    "    # df = pd.DataFrame(ls)\n",
    "    # print(df)\n",
    "\n",
    "getSingleSequence(\"PA544053\")"
   ]
  },
  {
   "cell_type": "code",
   "execution_count": 42,
   "metadata": {},
   "outputs": [],
   "source": [
    "df = pd.read_csv('info.csv')\n",
    "X_train, X_test, y_train, y_test = train_test_split(df.loc[:, df.columns != 'isZoonotic'], df['isZoonotic'], test_size=0.5, random_state=2)"
   ]
  },
  {
   "cell_type": "code",
   "execution_count": 56,
   "metadata": {},
   "outputs": [
    {
     "name": "stdout",
     "output_type": "stream",
     "text": [
      "{'n_estimators': 100, 'max_features': 2, 'max_depth': 6, 'random_state': 0, 'subsample': 0.8, 'lambda': 0.5, 'alpha': 0.5, 'learning_rate': 0.25}\n",
      "{'n_estimators': 120, 'max_features': 2, 'max_depth': 6, 'random_state': 0, 'min_sample_split': 50, 'subsample': 0.8, 'learning_rate': 0.3}\n",
      "Best XG Accuracy:  0.992152704135737\n",
      "Balanced XG Accuracy:  0.9741508119878455\n",
      "[4076    5   38  596]\n",
      "Best GB Accuracy:  0.9908801696712619\n",
      "Balanced GB Accuracy:  0.9694189507891073\n",
      "[4076    5   38  596]\n",
      "[[4076    5]\n",
      " [  38  596]]\n",
      "Best rF Accuracy:  0.959915164369035\n",
      "Balanced rF Accuracy:  0.9561940499831101\n",
      "[3923  158   31  603]\n",
      "Best lR Accuracy:  0.9391304347826087\n",
      "Balanced lR Accuracy:  0.8289476430360901\n",
      "[3998   83  204  430]\n"
     ]
    }
   ],
   "source": [
    "# Models within \"orig_models\" folder have the highest training acc but not as great cross val\n",
    "\n",
    "curr_dir = 'curr_models'\n",
    "best_xgboost = pickle.load(open(f'{curr_dir}/xgBoost.pkl', 'rb'))\n",
    "best_xgboost_params = pickle.load(open(f'{curr_dir}/xgBoost-params.pkl', 'rb'))\n",
    "\n",
    "best_gradBoost = pickle.load(open(f'{curr_dir}/gradBoost.pkl', 'rb'))\n",
    "best_gradBoost_params = pickle.load(open(f'{curr_dir}/gradBoost-params.pkl', 'rb'))\n",
    "\n",
    "best_rF = pickle.load(open('curr_models/randforest.pkl', 'rb'))\n",
    "\n",
    "lrmodel = pickle.load(open(f'{curr_dir}/lrmodel.pkl', 'rb'))\n",
    "\n",
    "\n",
    "print(best_xgboost_params)\n",
    "print(best_gradBoost_params)\n",
    "\n",
    "cols_when_model_builds = best_xgboost.get_booster().feature_names\n",
    "X_test=X_test[cols_when_model_builds]\n",
    "\n",
    "print(\"Best XG Accuracy: \", accuracy_score(y_test, best_xgboost.predict(X_test)))\n",
    "print(\"Balanced XG Accuracy: \", balanced_accuracy_score(y_test, best_xgboost.predict(X_test)))\n",
    "print(confusion_matrix(y_test, best_gradBoost.predict(X_test)).ravel())\n",
    "\n",
    "\n",
    "cols_when_model_builds = best_gradBoost.feature_names_in_\n",
    "X_test=X_test[cols_when_model_builds]\n",
    "\n",
    "print(\"Best GB Accuracy: \", accuracy_score(y_test, best_gradBoost.predict(X_test)))\n",
    "print(\"Balanced GB Accuracy: \", balanced_accuracy_score(y_test, best_gradBoost.predict(X_test)))\n",
    "print(confusion_matrix(y_test, best_gradBoost.predict(X_test)).ravel())\n",
    "print(confusion_matrix(y_test, best_gradBoost.predict(X_test)))\n",
    "\n",
    "\n",
    "print(\"Best rF Accuracy: \", accuracy_score(y_test, best_rF.predict(X_test)))\n",
    "print(\"Balanced rF Accuracy: \", balanced_accuracy_score(y_test, best_rF.predict(X_test)))\n",
    "print(confusion_matrix(y_test, best_rF.predict(X_test)).ravel())\n",
    "\n",
    "\n",
    "print(\"Best lR Accuracy: \", accuracy_score(y_test, lrmodel.predict(X_test)))\n",
    "print(\"Balanced lR Accuracy: \", balanced_accuracy_score(y_test, lrmodel.predict(X_test)))\n",
    "print(confusion_matrix(y_test, lrmodel.predict(X_test)).ravel())"
   ]
  },
  {
   "cell_type": "code",
   "execution_count": 55,
   "metadata": {},
   "outputs": [
    {
     "name": "stdout",
     "output_type": "stream",
     "text": [
      "precision recall: 0.9884382934033406\n",
      "[4.2838318e-04 5.8350775e-05 3.3875853e-03 ... 1.7258626e-05 1.6734417e-04\n",
      " 5.2116264e-04]\n"
     ]
    },
    {
     "data": {
      "image/png": "[encoded data removed]",
      "text/plain": [
       "<Figure size 640x480 with 1 Axes>"
      ]
     },
     "metadata": {},
     "output_type": "display_data"
    }
   ],
   "source": [
    "# ALWAYS reset X columns to the right order\n",
    "\n",
    "cols_when_model_builds = best_xgboost.get_booster().feature_names\n",
    "X_test=X_test[cols_when_model_builds]\n",
    "\n",
    "y_thing = y_test.to_numpy()\n",
    "precision, recall, thresholds = precision_recall_curve(y_thing, best_xgboost.predict_proba(X_test)[::,1])\n",
    "aaa = auc(recall, precision)\n",
    "print(\"precision recall: \" + str(aaa))\n",
    "\n",
    "y_pred_proba = best_xgboost.predict_proba(X_test)[::,1]\n",
    "fpr, tpr, _ = roc_curve(y_test, y_pred_proba)\n",
    "auc_thing = roc_auc_score(y_test, y_pred_proba)\n",
    "\n",
    "print(y_pred_proba)\n",
    "plt.plot(fpr,tpr,label=\"AUC=\"+str(auc_thing))\n",
    "plt.ylabel('True Positive Rate')\n",
    "plt.xlabel('False Positive Rate')\n",
    "plt.legend(loc=4)\n",
    "plt.show()"
   ]
  },
  {
   "cell_type": "code",
   "execution_count": 53,
   "metadata": {},
   "outputs": [
    {
     "name": "stdout",
     "output_type": "stream",
     "text": [
      "Accuracy: 0.955 (0.008)\n"
     ]
    }
   ],
   "source": [
    "cols_when_model_builds = best_xgboost.get_booster().feature_names\n",
    "X_test=X_test[cols_when_model_builds]\n",
    "\n",
    "cv = RepeatedStratifiedKFold(n_splits=10, n_repeats=3, random_state=1)\n",
    "n_scores = cross_val_score(best_xgboost, X_test, y_test, scoring='accuracy', cv=cv, n_jobs=-1, error_score='raise')\n",
    "print('Accuracy: %.3f (%.3f)' % (mean(n_scores), std(n_scores)))"
   ]
  },
  {
   "cell_type": "code",
   "execution_count": 54,
   "metadata": {},
   "outputs": [
    {
     "name": "stdout",
     "output_type": "stream",
     "text": [
      "Accuracy: 0.953 (0.010)\n"
     ]
    }
   ],
   "source": [
    "cols_when_model_builds = best_gradBoost.feature_names_in_\n",
    "X_test=X_test[cols_when_model_builds]\n",
    "cv = RepeatedStratifiedKFold(n_splits=10, n_repeats=3, random_state=1)\n",
    "n_scores = cross_val_score(best_gradBoost, X_test, y_test, scoring='accuracy', cv=cv, n_jobs=-1, error_score='raise')\n",
    "print('Accuracy: %.3f (%.3f)' % (mean(n_scores), std(n_scores)))"
   ]
  },
  {
   "cell_type": "code",
   "execution_count": 51,
   "metadata": {},
   "outputs": [
    {
     "name": "stdout",
     "output_type": "stream",
     "text": [
      "Accuracy: 0.915 (0.017)\n"
     ]
    }
   ],
   "source": [
    "cv = RepeatedStratifiedKFold(n_splits=10, n_repeats=3, random_state=1)\n",
    "n_scores = cross_val_score(best_rF, X_test, y_test, scoring='accuracy', cv=cv, n_jobs=-1, error_score='raise')\n",
    "print('Accuracy: %.3f (%.3f)' % (mean(n_scores), std(n_scores)))"
   ]
  },
  {
   "cell_type": "code",
   "execution_count": null,
   "metadata": {},
   "outputs": [],
   "source": [
    "cv = RepeatedStratifiedKFold(n_splits=10, n_repeats=3, random_state=1)\n",
    "n_scores = cross_val_score(best_rF, X_test, y_test, scoring='accuracy', cv=cv, n_jobs=-1, error_score='raise')\n",
    "print('Accuracy: %.3f (%.3f)' % (mean(n_scores), std(n_scores)))"
   ]
  },
  {
   "cell_type": "code",
   "execution_count": 57,
   "metadata": {},
   "outputs": [
    {
     "data": {
      "image/png": "[encoded data removed]",
      "text/plain": [
       "<Figure size 640x480 with 1 Axes>"
      ]
     },
     "metadata": {},
     "output_type": "display_data"
    }
   ],
   "source": [
    "results = lrmodel.coef_[0]\n",
    "\n",
    "l = zip([x for x in X_test.columns.values],results)\n",
    "l = list(l)\n",
    "res = sorted(l, key= lambda x: x[1])\n",
    "\n",
    "plt.xticks(rotation=90)\n",
    "plt.tick_params(axis='x', which='major', labelsize=5)\n",
    "\n",
    "plt.bar([x[0] for x in res[230:]], [x[1] for x in res[230:]])\n",
    "plt.show()"
   ]
  },
  {
   "cell_type": "code",
   "execution_count": 65,
   "metadata": {},
   "outputs": [
    {
     "data": {
      "image/png": "[encoded data removed]",
      "text/plain": [
       "<Figure size 640x480 with 1 Axes>"
      ]
     },
     "metadata": {},
     "output_type": "display_data"
    }
   ],
   "source": [
    "results = best_xgBoost.feature_importances_\n",
    "\n",
    "l = zip([x for x in X_test.columns.values],results)\n",
    "l = list(l)\n",
    "resxG = sorted(l, key= lambda x: x[1])\n",
    "\n",
    "plt.xticks(rotation=90)\n",
    "plt.tick_params(axis='x', which='major', labelsize=10)\n",
    "\n",
    "plt.bar([x[0] for x in resxG[230:]], [x[1] for x in resxG[230:]])\n",
    "plt.show()"
   ]
  },
  {
   "cell_type": "code",
   "execution_count": 66,
   "metadata": {},
   "outputs": [
    {
     "data": {
      "image/png": "[encoded data removed]",
      "text/plain": [
       "<Figure size 640x480 with 1 Axes>"
      ]
     },
     "metadata": {},
     "output_type": "display_data"
    }
   ],
   "source": [
    "results = best_gradBoost.feature_importances_\n",
    "\n",
    "l = zip([x for x in X_test.columns.values],results)\n",
    "l = list(l)\n",
    "resgB = sorted(l, key= lambda x: x[1])\n",
    "\n",
    "plt.xticks(rotation=90)\n",
    "plt.tick_params(axis='x', which='major', labelsize=10)\n",
    "\n",
    "plt.bar([x[0] for x in resgB[230:]], [x[1] for x in resgB[230:]])\n",
    "plt.show()"
   ]
  },
  {
   "cell_type": "code",
   "execution_count": 67,
   "metadata": {},
   "outputs": [
    {
     "data": {
      "image/png": "[encoded data removed]",
      "text/plain": [
       "<Figure size 640x480 with 1 Axes>"
      ]
     },
     "metadata": {},
     "output_type": "display_data"
    }
   ],
   "source": [
    "# get feature importances as a mean of feature importances PER tree\n",
    "results = np.mean([est.steps[1][1].feature_importances_ for est in best_rF.estimators_], axis=0)\n",
    "\n",
    "\n",
    "l = zip([x for x in X_test.columns.values],results)\n",
    "l = list(l)\n",
    "resrF = sorted(l, key= lambda x: x[1])\n",
    "\n",
    "plt.xticks(rotation=90)\n",
    "plt.tick_params(axis='x', which='major', labelsize=10)\n",
    "\n",
    "plt.bar([x[0] for x in resrF[230:]], [x[1] for x in resrF[230:]])\n",
    "plt.show()"
   ]
  },
  {
   "cell_type": "code",
   "execution_count": 84,
   "metadata": {},
   "outputs": [
    {
     "name": "stdout",
     "output_type": "stream",
     "text": [
      "rF & gb bound 1 ('cgcg', 0.0003015572826893574) 12\n",
      "gb & xg bound 1 ('cgcc', 0.000778724560959825) 25\n",
      "rF & gb bound 1 ('tatt', 0.0011150453509348468) 60\n",
      "rF & gb bound 0 ('ctcg', 0.001601226302398424) 96\n",
      "rF & xg bound 2 ('gctg', 0.0018774850802867136) 117\n",
      "rF & gb bound 2 ('gaac', 0.0025670387790062968) 151\n",
      "rF & xg bound 0 ('atca', 0.002846641046067592) 172\n",
      "rF & xg bound 0 ('ccgc', 0.0029780245790469654) 178\n",
      "gb & xg bound 2 ('aact', 0.003920699567262284) 186\n",
      "rF & xg bound 2 ('cttg', 0.0035113486843959514) 195\n",
      "gb & xg bound 1 ('taag', 0.014197001200931161) 244\n",
      "gb & xg bound 1 ('taca', 0.015521578885323586) 247\n",
      "rF & xg bound 2 ('aaca', 0.04631862605267052) 253\n"
     ]
    }
   ],
   "source": [
    "max_bound = 3\n",
    "for x in range(len(resrF)-bound+1):\n",
    "    for i in range(max_bound):\n",
    "        if resrF[x][0] == resgB[x+i][0]:  print(\"rF & gb bound\", i, resrF[x], x)\n",
    "        if resrF[x][0] == resxG[x+i][0]:  print(\"rF & xg bound\", i, resrF[x], x)\n",
    "        if resgB[x][0] == resxG[x+i][0]:  print(\"gb & xg bound\", i, resgB[x], x)"
   ]
  }
 ],
 "metadata": {
  "kernelspec": {
   "display_name": "Python 3.8.13 ('seq')",
   "language": "python",
   "name": "python3"
  },
  "language_info": {
   "codemirror_mode": {
    "name": "ipython",
    "version": 3
   },
   "file_extension": ".py",
   "mimetype": "text/x-python",
   "name": "python",
   "nbconvert_exporter": "python",
   "pygments_lexer": "ipython3",
   "version": "3.8.13"
  },
  "orig_nbformat": 4,
  "vscode": {
   "interpreter": {
    "hash": "e1360c63304de9435a2a3572d38e6c9496b6fb5d1617f35fbc8638664d664ab4"
   }
  }
 },
 "nbformat": 4,
 "nbformat_minor": 2
}
