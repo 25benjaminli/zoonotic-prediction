{
 "cells": [
  {
   "cell_type": "code",
   "execution_count": 47,
   "metadata": {},
   "outputs": [],
   "source": [
    "from itertools import permutations, product\n",
    "\n",
    "import functools\n",
    "\n",
    "import tqdm\n",
    "\n",
    "import pandas as pd\n",
    "\n",
    "from sklearn.linear_model import LogisticRegression\n",
    "from sklearn.neighbors import KNeighborsClassifier\n",
    "from sklearn.tree import DecisionTreeClassifier\n",
    "from sklearn.ensemble import GradientBoostingClassifier\n",
    "from sklearn.model_selection import RepeatedStratifiedKFold, train_test_split, cross_val_score\n",
    "from sklearn.metrics import accuracy_score, auc, confusion_matrix, balanced_accuracy_score, precision_recall_curve, auc, roc_curve, roc_auc_score\n",
    "from sklearn.inspection import permutation_importance\n",
    "from sklearn import preprocessing\n",
    "from imblearn.ensemble import BalancedBaggingClassifier\n",
    "from xgboost import XGBClassifier\n",
    "\n",
    "import numpy as np\n",
    "from numpy import mean,std\n",
    "\n",
    "import pickle\n",
    "\n",
    "from os import path\n",
    "\n",
    "import matplotlib.pyplot as plt\n",
    "\n",
    "from warnings import simplefilter\n",
    "from collections import OrderedDict\n",
    "\n",
    "simplefilter(action=\"ignore\", category=pd.errors.PerformanceWarning)\n",
    "\n"
   ]
  },
  {
   "cell_type": "code",
   "execution_count": 48,
   "metadata": {},
   "outputs": [],
   "source": [
    "df = pd.read_csv('info.csv')\n",
    "# print(df.loc[:, df.columns != 'isZoonotic'])\n",
    "# print(df)\n",
    "# print(len(df.columns))\n",
    "\n",
    "X_train, X_test, y_train, y_test = train_test_split(df.loc[:, df.columns != 'isZoonotic'], df['isZoonotic'], test_size=0.2, random_state=1)\n",
    "for col in df.columns:\n",
    "    col != 'isZoonotic' and X_train[col].isnull().sum() != 0 and print(X_train[col].isnull().sum())\n"
   ]
  },
  {
   "cell_type": "code",
   "execution_count": 49,
   "metadata": {},
   "outputs": [
    {
     "data": {
      "text/html": [
       "<style>#sk-container-id-6 {color: black;background-color: white;}#sk-container-id-6 pre{padding: 0;}#sk-container-id-6 div.sk-toggleable {background-color: white;}#sk-container-id-6 label.sk-toggleable__label {cursor: pointer;display: block;width: 100%;margin-bottom: 0;padding: 0.3em;box-sizing: border-box;text-align: center;}#sk-container-id-6 label.sk-toggleable__label-arrow:before {content: \"▸\";float: left;margin-right: 0.25em;color: #696969;}#sk-container-id-6 label.sk-toggleable__label-arrow:hover:before {color: black;}#sk-container-id-6 div.sk-estimator:hover label.sk-toggleable__label-arrow:before {color: black;}#sk-container-id-6 div.sk-toggleable__content {max-height: 0;max-width: 0;overflow: hidden;text-align: left;background-color: #f0f8ff;}#sk-container-id-6 div.sk-toggleable__content pre {margin: 0.2em;color: black;border-radius: 0.25em;background-color: #f0f8ff;}#sk-container-id-6 input.sk-toggleable__control:checked~div.sk-toggleable__content {max-height: 200px;max-width: 100%;overflow: auto;}#sk-container-id-6 input.sk-toggleable__control:checked~label.sk-toggleable__label-arrow:before {content: \"▾\";}#sk-container-id-6 div.sk-estimator input.sk-toggleable__control:checked~label.sk-toggleable__label {background-color: #d4ebff;}#sk-container-id-6 div.sk-label input.sk-toggleable__control:checked~label.sk-toggleable__label {background-color: #d4ebff;}#sk-container-id-6 input.sk-hidden--visually {border: 0;clip: rect(1px 1px 1px 1px);clip: rect(1px, 1px, 1px, 1px);height: 1px;margin: -1px;overflow: hidden;padding: 0;position: absolute;width: 1px;}#sk-container-id-6 div.sk-estimator {font-family: monospace;background-color: #f0f8ff;border: 1px dotted black;border-radius: 0.25em;box-sizing: border-box;margin-bottom: 0.5em;}#sk-container-id-6 div.sk-estimator:hover {background-color: #d4ebff;}#sk-container-id-6 div.sk-parallel-item::after {content: \"\";width: 100%;border-bottom: 1px solid gray;flex-grow: 1;}#sk-container-id-6 div.sk-label:hover label.sk-toggleable__label {background-color: #d4ebff;}#sk-container-id-6 div.sk-serial::before {content: \"\";position: absolute;border-left: 1px solid gray;box-sizing: border-box;top: 0;bottom: 0;left: 50%;z-index: 0;}#sk-container-id-6 div.sk-serial {display: flex;flex-direction: column;align-items: center;background-color: white;padding-right: 0.2em;padding-left: 0.2em;position: relative;}#sk-container-id-6 div.sk-item {position: relative;z-index: 1;}#sk-container-id-6 div.sk-parallel {display: flex;align-items: stretch;justify-content: center;background-color: white;position: relative;}#sk-container-id-6 div.sk-item::before, #sk-container-id-6 div.sk-parallel-item::before {content: \"\";position: absolute;border-left: 1px solid gray;box-sizing: border-box;top: 0;bottom: 0;left: 50%;z-index: -1;}#sk-container-id-6 div.sk-parallel-item {display: flex;flex-direction: column;z-index: 1;position: relative;background-color: white;}#sk-container-id-6 div.sk-parallel-item:first-child::after {align-self: flex-end;width: 50%;}#sk-container-id-6 div.sk-parallel-item:last-child::after {align-self: flex-start;width: 50%;}#sk-container-id-6 div.sk-parallel-item:only-child::after {width: 0;}#sk-container-id-6 div.sk-dashed-wrapped {border: 1px dashed gray;margin: 0 0.4em 0.5em 0.4em;box-sizing: border-box;padding-bottom: 0.4em;background-color: white;}#sk-container-id-6 div.sk-label label {font-family: monospace;font-weight: bold;display: inline-block;line-height: 1.2em;}#sk-container-id-6 div.sk-label-container {text-align: center;}#sk-container-id-6 div.sk-container {/* jupyter's `normalize.less` sets `[hidden] { display: none; }` but bootstrap.min.css set `[hidden] { display: none !important; }` so we also need the `!important` here to be able to override the default hidden behavior on the sphinx rendered scikit-learn.org. See: https://github.com/scikit-learn/scikit-learn/issues/21755 */display: inline-block !important;position: relative;}#sk-container-id-6 div.sk-text-repr-fallback {display: none;}</style><div id=\"sk-container-id-6\" class=\"sk-top-container\"><div class=\"sk-text-repr-fallback\"><pre>LogisticRegression(fit_intercept=False, max_iter=1000,\n",
       "                   multi_class=&#x27;multinomial&#x27;, random_state=42, solver=&#x27;saga&#x27;,\n",
       "                   tol=0.001)</pre><b>In a Jupyter environment, please rerun this cell to show the HTML representation or trust the notebook. <br />On GitHub, the HTML representation is unable to render, please try loading this page with nbviewer.org.</b></div><div class=\"sk-container\" hidden><div class=\"sk-item\"><div class=\"sk-estimator sk-toggleable\"><input class=\"sk-toggleable__control sk-hidden--visually\" id=\"sk-estimator-id-14\" type=\"checkbox\" checked><label for=\"sk-estimator-id-14\" class=\"sk-toggleable__label sk-toggleable__label-arrow\">LogisticRegression</label><div class=\"sk-toggleable__content\"><pre>LogisticRegression(fit_intercept=False, max_iter=1000,\n",
       "                   multi_class=&#x27;multinomial&#x27;, random_state=42, solver=&#x27;saga&#x27;,\n",
       "                   tol=0.001)</pre></div></div></div></div></div>"
      ],
      "text/plain": [
       "LogisticRegression(fit_intercept=False, max_iter=1000,\n",
       "                   multi_class='multinomial', random_state=42, solver='saga',\n",
       "                   tol=0.001)"
      ]
     },
     "execution_count": 49,
     "metadata": {},
     "output_type": "execute_result"
    }
   ],
   "source": [
    "lrmodel = LogisticRegression(\n",
    "    multi_class=\"multinomial\", max_iter=1000,\n",
    "    fit_intercept=False, tol=0.001, solver='saga', random_state=42)\n",
    "lrmodel.fit(X_train, y_train)"
   ]
  },
  {
   "cell_type": "code",
   "execution_count": 50,
   "metadata": {},
   "outputs": [
    {
     "name": "stdout",
     "output_type": "stream",
     "text": [
      "          tggc      ttcc      tatg      gtat      aatg      acag      atgg  \\\n",
      "1302  0.225806  0.451613  0.483871  0.354839  0.612903  0.322581  0.258065   \n",
      "6596  0.096491  0.622807  0.324561  0.377193  0.500000  0.201754  0.219298   \n",
      "4095  0.387097  0.419355  0.677419  0.290323  0.451613  0.193548  0.290323   \n",
      "7284  0.238784  0.347956  0.250249  0.255733  0.409771  0.216351  0.284646   \n",
      "4899  0.294574  0.426357  0.620155  0.387597  0.565891  0.178295  0.426357   \n",
      "6289  0.276923  0.353846  0.392308  0.192308  0.538462  0.346154  0.469231   \n",
      "7830  0.328801  0.144623  0.023486  0.040791  0.045735  0.133498  0.173053   \n",
      "2048  0.397284  0.325976  0.040747  0.105263  0.027165  0.154499  0.166384   \n",
      "7122  0.177982  0.236697  0.352294  0.403670  0.585321  0.258716  0.313761   \n",
      "7488  0.684211  0.263158  0.421053  0.263158  0.473684  0.105263  0.210526   \n",
      "\n",
      "          tact      tcaa      aggc  ...      ggca      gacc      agct  \\\n",
      "1302  0.516129  0.354839  0.161290  ...  0.161290  0.161290  0.225806   \n",
      "6596  0.377193  0.578947  0.105263  ...  0.184211  0.078947  0.254386   \n",
      "4095  0.419355  0.387097  0.064516  ...  0.096774  0.193548  0.193548   \n",
      "7284  0.206879  0.586740  0.084746  ...  0.207378  0.121635  0.253739   \n",
      "4899  0.558140  0.410853  0.209302  ...  0.139535  0.255814  0.217054   \n",
      "6289  0.215385  0.600000  0.176923  ...  0.261538  0.153846  0.269231   \n",
      "7830  0.045735  0.140915  0.313968  ...  0.384425  0.578492  0.189122   \n",
      "2048  0.108659  0.286927  0.402377  ...  0.368421  0.731749  0.405772   \n",
      "7122  0.497248  0.521101  0.095413  ...  0.115596  0.095413  0.304587   \n",
      "7488  0.210526  0.789474  0.473684  ...  0.368421  0.315789  0.263158   \n",
      "\n",
      "          agta      tatc      acgt      cact      cttg      ctat      tctt  \n",
      "1302  0.096774  0.225806  0.290323  0.129032  0.483871  0.354839  0.483871  \n",
      "6596  0.464912  0.508772  0.184211  0.122807  0.403509  0.315789  0.824561  \n",
      "4095  0.322581  0.096774  0.193548  0.225806  0.290323  0.225806  0.516129  \n",
      "7284  0.156032  0.347458  0.158026  0.138584  0.291625  0.150548  0.473081  \n",
      "4899  0.162791  0.325581  0.193798  0.232558  0.472868  0.527132  0.449612  \n",
      "6289  0.192308  0.315385  0.123077  0.300000  0.361538  0.200000  0.438462  \n",
      "7830  0.064277  0.050680  0.237330  0.122373  0.060569  0.024722  0.086527  \n",
      "2048  0.101868  0.118846  0.441426  0.146010  0.227504  0.042445  0.258065  \n",
      "7122  0.451376  0.376147  0.299083  0.293578  0.332110  0.363303  0.493578  \n",
      "7488  0.368421  0.263158  0.368421  0.421053  0.210526  0.421053  0.473684  \n",
      "\n",
      "[10 rows x 256 columns]\n",
      "0.9406150583244963\n"
     ]
    }
   ],
   "source": [
    "# all 0s for some reason\n",
    "print(X_test[:10])\n",
    "predictions = lrmodel.predict(X_test)\n",
    "print(accuracy_score(y_test, predictions))"
   ]
  },
  {
   "cell_type": "code",
   "execution_count": 52,
   "metadata": {},
   "outputs": [
    {
     "data": {
      "image/png": "[encoded data removed]",
      "text/plain": [
       "<Figure size 640x480 with 1 Axes>"
      ]
     },
     "metadata": {},
     "output_type": "display_data"
    }
   ],
   "source": [
    "results = lrmodel.coef_[0]\n",
    "\n",
    "l = zip([x for x in X_test.columns.values],results)\n",
    "l = list(l)\n",
    "res = sorted(l, key= lambda x: x[1])\n",
    "\n",
    "plt.xticks(rotation=90)\n",
    "plt.tick_params(axis='x', which='major', labelsize=5)\n",
    "\n",
    "plt.bar([x[0] for x in res[200:]], [x[1] for x in res[200:]])\n",
    "plt.show()"
   ]
  },
  {
   "cell_type": "code",
   "execution_count": 39,
   "metadata": {},
   "outputs": [],
   "source": [
    "def getRealLength(kmer):\n",
    "    print(X_test.iloc[0])\n",
    "    \n",
    "    sums = [kmer-1+((X_test.iloc[x].sum())/kmer) for x in range(len(X_test))]\n",
    "    print(sums)"
   ]
  },
  {
   "cell_type": "code",
   "execution_count": 78,
   "metadata": {},
   "outputs": [
    {
     "data": {
      "text/html": [
       "<style>#sk-container-id-9 {color: black;background-color: white;}#sk-container-id-9 pre{padding: 0;}#sk-container-id-9 div.sk-toggleable {background-color: white;}#sk-container-id-9 label.sk-toggleable__label {cursor: pointer;display: block;width: 100%;margin-bottom: 0;padding: 0.3em;box-sizing: border-box;text-align: center;}#sk-container-id-9 label.sk-toggleable__label-arrow:before {content: \"▸\";float: left;margin-right: 0.25em;color: #696969;}#sk-container-id-9 label.sk-toggleable__label-arrow:hover:before {color: black;}#sk-container-id-9 div.sk-estimator:hover label.sk-toggleable__label-arrow:before {color: black;}#sk-container-id-9 div.sk-toggleable__content {max-height: 0;max-width: 0;overflow: hidden;text-align: left;background-color: #f0f8ff;}#sk-container-id-9 div.sk-toggleable__content pre {margin: 0.2em;color: black;border-radius: 0.25em;background-color: #f0f8ff;}#sk-container-id-9 input.sk-toggleable__control:checked~div.sk-toggleable__content {max-height: 200px;max-width: 100%;overflow: auto;}#sk-container-id-9 input.sk-toggleable__control:checked~label.sk-toggleable__label-arrow:before {content: \"▾\";}#sk-container-id-9 div.sk-estimator input.sk-toggleable__control:checked~label.sk-toggleable__label {background-color: #d4ebff;}#sk-container-id-9 div.sk-label input.sk-toggleable__control:checked~label.sk-toggleable__label {background-color: #d4ebff;}#sk-container-id-9 input.sk-hidden--visually {border: 0;clip: rect(1px 1px 1px 1px);clip: rect(1px, 1px, 1px, 1px);height: 1px;margin: -1px;overflow: hidden;padding: 0;position: absolute;width: 1px;}#sk-container-id-9 div.sk-estimator {font-family: monospace;background-color: #f0f8ff;border: 1px dotted black;border-radius: 0.25em;box-sizing: border-box;margin-bottom: 0.5em;}#sk-container-id-9 div.sk-estimator:hover {background-color: #d4ebff;}#sk-container-id-9 div.sk-parallel-item::after {content: \"\";width: 100%;border-bottom: 1px solid gray;flex-grow: 1;}#sk-container-id-9 div.sk-label:hover label.sk-toggleable__label {background-color: #d4ebff;}#sk-container-id-9 div.sk-serial::before {content: \"\";position: absolute;border-left: 1px solid gray;box-sizing: border-box;top: 0;bottom: 0;left: 50%;z-index: 0;}#sk-container-id-9 div.sk-serial {display: flex;flex-direction: column;align-items: center;background-color: white;padding-right: 0.2em;padding-left: 0.2em;position: relative;}#sk-container-id-9 div.sk-item {position: relative;z-index: 1;}#sk-container-id-9 div.sk-parallel {display: flex;align-items: stretch;justify-content: center;background-color: white;position: relative;}#sk-container-id-9 div.sk-item::before, #sk-container-id-9 div.sk-parallel-item::before {content: \"\";position: absolute;border-left: 1px solid gray;box-sizing: border-box;top: 0;bottom: 0;left: 50%;z-index: -1;}#sk-container-id-9 div.sk-parallel-item {display: flex;flex-direction: column;z-index: 1;position: relative;background-color: white;}#sk-container-id-9 div.sk-parallel-item:first-child::after {align-self: flex-end;width: 50%;}#sk-container-id-9 div.sk-parallel-item:last-child::after {align-self: flex-start;width: 50%;}#sk-container-id-9 div.sk-parallel-item:only-child::after {width: 0;}#sk-container-id-9 div.sk-dashed-wrapped {border: 1px dashed gray;margin: 0 0.4em 0.5em 0.4em;box-sizing: border-box;padding-bottom: 0.4em;background-color: white;}#sk-container-id-9 div.sk-label label {font-family: monospace;font-weight: bold;display: inline-block;line-height: 1.2em;}#sk-container-id-9 div.sk-label-container {text-align: center;}#sk-container-id-9 div.sk-container {/* jupyter's `normalize.less` sets `[hidden] { display: none; }` but bootstrap.min.css set `[hidden] { display: none !important; }` so we also need the `!important` here to be able to override the default hidden behavior on the sphinx rendered scikit-learn.org. See: https://github.com/scikit-learn/scikit-learn/issues/21755 */display: inline-block !important;position: relative;}#sk-container-id-9 div.sk-text-repr-fallback {display: none;}</style><div id=\"sk-container-id-9\" class=\"sk-top-container\"><div class=\"sk-text-repr-fallback\"><pre>BalancedBaggingClassifier(base_estimator=KNeighborsClassifier(n_jobs=1,\n",
       "                                                              n_neighbors=1),\n",
       "                          n_jobs=1)</pre><b>In a Jupyter environment, please rerun this cell to show the HTML representation or trust the notebook. <br />On GitHub, the HTML representation is unable to render, please try loading this page with nbviewer.org.</b></div><div class=\"sk-container\" hidden><div class=\"sk-item sk-dashed-wrapped\"><div class=\"sk-label-container\"><div class=\"sk-label sk-toggleable\"><input class=\"sk-toggleable__control sk-hidden--visually\" id=\"sk-estimator-id-21\" type=\"checkbox\" ><label for=\"sk-estimator-id-21\" class=\"sk-toggleable__label sk-toggleable__label-arrow\">BalancedBaggingClassifier</label><div class=\"sk-toggleable__content\"><pre>BalancedBaggingClassifier(base_estimator=KNeighborsClassifier(n_jobs=1,\n",
       "                                                              n_neighbors=1),\n",
       "                          n_jobs=1)</pre></div></div></div><div class=\"sk-parallel\"><div class=\"sk-parallel-item\"><div class=\"sk-item\"><div class=\"sk-label-container\"><div class=\"sk-label sk-toggleable\"><input class=\"sk-toggleable__control sk-hidden--visually\" id=\"sk-estimator-id-22\" type=\"checkbox\" ><label for=\"sk-estimator-id-22\" class=\"sk-toggleable__label sk-toggleable__label-arrow\">base_estimator: KNeighborsClassifier</label><div class=\"sk-toggleable__content\"><pre>KNeighborsClassifier(n_jobs=1, n_neighbors=1)</pre></div></div></div><div class=\"sk-serial\"><div class=\"sk-item\"><div class=\"sk-estimator sk-toggleable\"><input class=\"sk-toggleable__control sk-hidden--visually\" id=\"sk-estimator-id-23\" type=\"checkbox\" ><label for=\"sk-estimator-id-23\" class=\"sk-toggleable__label sk-toggleable__label-arrow\">KNeighborsClassifier</label><div class=\"sk-toggleable__content\"><pre>KNeighborsClassifier(n_jobs=1, n_neighbors=1)</pre></div></div></div></div></div></div></div></div></div></div>"
      ],
      "text/plain": [
       "BalancedBaggingClassifier(base_estimator=KNeighborsClassifier(n_jobs=1,\n",
       "                                                              n_neighbors=1),\n",
       "                          n_jobs=1)"
      ]
     },
     "execution_count": 78,
     "metadata": {},
     "output_type": "execute_result"
    }
   ],
   "source": [
    "knntest = BalancedBaggingClassifier(base_estimator=KNeighborsClassifier(n_neighbors = 1, n_jobs = 1), n_estimators = 10, n_jobs = 1)\n",
    "\n",
    "knntest.fit(X_train, y_train)\n",
    "# knn = KNeighborsClassifier(n_neighbors=5)"
   ]
  },
  {
   "cell_type": "code",
   "execution_count": 54,
   "metadata": {},
   "outputs": [
    {
     "name": "stdout",
     "output_type": "stream",
     "text": [
      "[0. 0. 0. 0. 0. 1. 0. 0. 0. 0.]\n",
      "0.9045599151643691\n"
     ]
    }
   ],
   "source": [
    "predictions = knntest.predict(X_test)\n",
    "print(predictions[:10])\n",
    "print(accuracy_score(y_test, predictions))"
   ]
  },
  {
   "cell_type": "code",
   "execution_count": 55,
   "metadata": {},
   "outputs": [
    {
     "data": {
      "text/html": [
       "<style>#sk-container-id-8 {color: black;background-color: white;}#sk-container-id-8 pre{padding: 0;}#sk-container-id-8 div.sk-toggleable {background-color: white;}#sk-container-id-8 label.sk-toggleable__label {cursor: pointer;display: block;width: 100%;margin-bottom: 0;padding: 0.3em;box-sizing: border-box;text-align: center;}#sk-container-id-8 label.sk-toggleable__label-arrow:before {content: \"▸\";float: left;margin-right: 0.25em;color: #696969;}#sk-container-id-8 label.sk-toggleable__label-arrow:hover:before {color: black;}#sk-container-id-8 div.sk-estimator:hover label.sk-toggleable__label-arrow:before {color: black;}#sk-container-id-8 div.sk-toggleable__content {max-height: 0;max-width: 0;overflow: hidden;text-align: left;background-color: #f0f8ff;}#sk-container-id-8 div.sk-toggleable__content pre {margin: 0.2em;color: black;border-radius: 0.25em;background-color: #f0f8ff;}#sk-container-id-8 input.sk-toggleable__control:checked~div.sk-toggleable__content {max-height: 200px;max-width: 100%;overflow: auto;}#sk-container-id-8 input.sk-toggleable__control:checked~label.sk-toggleable__label-arrow:before {content: \"▾\";}#sk-container-id-8 div.sk-estimator input.sk-toggleable__control:checked~label.sk-toggleable__label {background-color: #d4ebff;}#sk-container-id-8 div.sk-label input.sk-toggleable__control:checked~label.sk-toggleable__label {background-color: #d4ebff;}#sk-container-id-8 input.sk-hidden--visually {border: 0;clip: rect(1px 1px 1px 1px);clip: rect(1px, 1px, 1px, 1px);height: 1px;margin: -1px;overflow: hidden;padding: 0;position: absolute;width: 1px;}#sk-container-id-8 div.sk-estimator {font-family: monospace;background-color: #f0f8ff;border: 1px dotted black;border-radius: 0.25em;box-sizing: border-box;margin-bottom: 0.5em;}#sk-container-id-8 div.sk-estimator:hover {background-color: #d4ebff;}#sk-container-id-8 div.sk-parallel-item::after {content: \"\";width: 100%;border-bottom: 1px solid gray;flex-grow: 1;}#sk-container-id-8 div.sk-label:hover label.sk-toggleable__label {background-color: #d4ebff;}#sk-container-id-8 div.sk-serial::before {content: \"\";position: absolute;border-left: 1px solid gray;box-sizing: border-box;top: 0;bottom: 0;left: 50%;z-index: 0;}#sk-container-id-8 div.sk-serial {display: flex;flex-direction: column;align-items: center;background-color: white;padding-right: 0.2em;padding-left: 0.2em;position: relative;}#sk-container-id-8 div.sk-item {position: relative;z-index: 1;}#sk-container-id-8 div.sk-parallel {display: flex;align-items: stretch;justify-content: center;background-color: white;position: relative;}#sk-container-id-8 div.sk-item::before, #sk-container-id-8 div.sk-parallel-item::before {content: \"\";position: absolute;border-left: 1px solid gray;box-sizing: border-box;top: 0;bottom: 0;left: 50%;z-index: -1;}#sk-container-id-8 div.sk-parallel-item {display: flex;flex-direction: column;z-index: 1;position: relative;background-color: white;}#sk-container-id-8 div.sk-parallel-item:first-child::after {align-self: flex-end;width: 50%;}#sk-container-id-8 div.sk-parallel-item:last-child::after {align-self: flex-start;width: 50%;}#sk-container-id-8 div.sk-parallel-item:only-child::after {width: 0;}#sk-container-id-8 div.sk-dashed-wrapped {border: 1px dashed gray;margin: 0 0.4em 0.5em 0.4em;box-sizing: border-box;padding-bottom: 0.4em;background-color: white;}#sk-container-id-8 div.sk-label label {font-family: monospace;font-weight: bold;display: inline-block;line-height: 1.2em;}#sk-container-id-8 div.sk-label-container {text-align: center;}#sk-container-id-8 div.sk-container {/* jupyter's `normalize.less` sets `[hidden] { display: none; }` but bootstrap.min.css set `[hidden] { display: none !important; }` so we also need the `!important` here to be able to override the default hidden behavior on the sphinx rendered scikit-learn.org. See: https://github.com/scikit-learn/scikit-learn/issues/21755 */display: inline-block !important;position: relative;}#sk-container-id-8 div.sk-text-repr-fallback {display: none;}</style><div id=\"sk-container-id-8\" class=\"sk-top-container\"><div class=\"sk-text-repr-fallback\"><pre>BalancedBaggingClassifier(base_estimator=DecisionTreeClassifier(max_features=&#x27;sqrt&#x27;))</pre><b>In a Jupyter environment, please rerun this cell to show the HTML representation or trust the notebook. <br />On GitHub, the HTML representation is unable to render, please try loading this page with nbviewer.org.</b></div><div class=\"sk-container\" hidden><div class=\"sk-item sk-dashed-wrapped\"><div class=\"sk-label-container\"><div class=\"sk-label sk-toggleable\"><input class=\"sk-toggleable__control sk-hidden--visually\" id=\"sk-estimator-id-18\" type=\"checkbox\" ><label for=\"sk-estimator-id-18\" class=\"sk-toggleable__label sk-toggleable__label-arrow\">BalancedBaggingClassifier</label><div class=\"sk-toggleable__content\"><pre>BalancedBaggingClassifier(base_estimator=DecisionTreeClassifier(max_features=&#x27;sqrt&#x27;))</pre></div></div></div><div class=\"sk-parallel\"><div class=\"sk-parallel-item\"><div class=\"sk-item\"><div class=\"sk-label-container\"><div class=\"sk-label sk-toggleable\"><input class=\"sk-toggleable__control sk-hidden--visually\" id=\"sk-estimator-id-19\" type=\"checkbox\" ><label for=\"sk-estimator-id-19\" class=\"sk-toggleable__label sk-toggleable__label-arrow\">base_estimator: DecisionTreeClassifier</label><div class=\"sk-toggleable__content\"><pre>DecisionTreeClassifier(max_features=&#x27;sqrt&#x27;)</pre></div></div></div><div class=\"sk-serial\"><div class=\"sk-item\"><div class=\"sk-estimator sk-toggleable\"><input class=\"sk-toggleable__control sk-hidden--visually\" id=\"sk-estimator-id-20\" type=\"checkbox\" ><label for=\"sk-estimator-id-20\" class=\"sk-toggleable__label sk-toggleable__label-arrow\">DecisionTreeClassifier</label><div class=\"sk-toggleable__content\"><pre>DecisionTreeClassifier(max_features=&#x27;sqrt&#x27;)</pre></div></div></div></div></div></div></div></div></div></div>"
      ],
      "text/plain": [
       "BalancedBaggingClassifier(base_estimator=DecisionTreeClassifier(max_features='sqrt'))"
      ]
     },
     "execution_count": 55,
     "metadata": {},
     "output_type": "execute_result"
    }
   ],
   "source": [
    "randforest = BalancedBaggingClassifier(base_estimator=DecisionTreeClassifier(max_features=\"sqrt\"))\n",
    "\n",
    "randforest.fit(X_train, y_train)"
   ]
  },
  {
   "cell_type": "code",
   "execution_count": 56,
   "metadata": {},
   "outputs": [],
   "source": [
    "def saveModel(model, name, X_test, y_test, params=None, dir='curr_models', gradBoost=False, xgBoost=False):\n",
    "    \n",
    "    \n",
    "    if not path.exists(f\"{dir}/{name}.pkl\"):\n",
    "        print(\"does not exist\")\n",
    "\n",
    "        pickle.dump(model, open(f'{dir}/{name}.pkl', 'wb'))\n",
    "    else:\n",
    "        predictions = model.predict(X_test)\n",
    "        currAcc = accuracy_score(y_test, predictions)\n",
    "\n",
    "        pickled_model = pickle.load(open(f'{dir}/{name}.pkl', 'rb'))\n",
    "        \n",
    "        if gradBoost:\n",
    "            # get features here \n",
    "            cols_when_model_builds = pickled_model.feature_names_in_\n",
    "            X_test=X_test[cols_when_model_builds]\n",
    "        elif xgBoost:\n",
    "            # put features into the same order that the model was trained in\n",
    "            cols_when_model_builds = pickled_model.get_booster().feature_names\n",
    "            X_test=X_test[cols_when_model_builds]\n",
    "        \n",
    "        # .values?\n",
    "        \n",
    "        picklePredictions=pickled_model.predict(X_test)\n",
    "        pickleAcc=accuracy_score(y_test, picklePredictions)\n",
    "        \n",
    "        if currAcc > pickleAcc:\n",
    "            print(\"update!\")\n",
    "            print(confusion_matrix(y_test, picklePredictions))\n",
    "\n",
    "            print(\"curr\", currAcc, \"pickle\", pickleAcc)\n",
    "            pickle.dump(model, open(f'{dir}/{name}.pkl', 'wb'))\n",
    "\n",
    "            if params != None:\n",
    "                pickle.dump(params, open(f'{dir}/{name}-params.pkl', 'wb'))\n",
    "        else:\n",
    "            print(\"no update\")\n",
    "            print(\"curr\", currAcc, \"pickle\", pickleAcc)\n",
    "            print(confusion_matrix(y_test, picklePredictions))\n",
    "\n",
    "            model=pickled_model\n",
    "    return model"
   ]
  },
  {
   "cell_type": "code",
   "execution_count": 57,
   "metadata": {},
   "outputs": [
    {
     "name": "stdout",
     "output_type": "stream",
     "text": [
      "update!\n",
      "[[1536   98]\n",
      " [  43  209]]\n",
      "curr 0.9347826086956522 pickle 0.925238600212089\n",
      "0.9347826086956522\n"
     ]
    }
   ],
   "source": [
    "saveModel(randforest, \"randforest\", X_test, y_test)\n",
    "\n",
    "predictions = randforest.predict(X_test)\n",
    "print(accuracy_score(y_test, predictions))\n",
    "\n",
    "# for i in range(1000):\n",
    "#     predictions[i] != y_test_list[i] and print(predictions[i], \"vs\", y_test_list[i])"
   ]
  },
  {
   "cell_type": "code",
   "execution_count": 58,
   "metadata": {},
   "outputs": [
    {
     "name": "stdout",
     "output_type": "stream",
     "text": [
      "0.9347826086956522\n"
     ]
    }
   ],
   "source": [
    "probability_predictions = randforest.predict_proba(X_test)\n",
    "preds = randforest.predict(X_test)\n",
    "print(accuracy_score(y_test, preds))\n"
   ]
  },
  {
   "cell_type": "code",
   "execution_count": 61,
   "metadata": {},
   "outputs": [
    {
     "name": "stdout",
     "output_type": "stream",
     "text": [
      "Learning rate:  0.05\n",
      "Accuracy score (validation): 0.951\n",
      "no update\n",
      "curr 0.9506892895015907 pickle 0.95864262990456\n",
      "[[1610   24]\n",
      " [  54  198]]\n",
      "Learning rate:  0.075\n",
      "Accuracy score (validation): 0.957\n",
      "no update\n",
      "curr 0.957051961823966 pickle 0.95864262990456\n",
      "[[1610   24]\n",
      " [  54  198]]\n",
      "Learning rate:  0.1\n",
      "Accuracy score (validation): 0.957\n",
      "no update\n",
      "curr 0.957051961823966 pickle 0.95864262990456\n",
      "[[1610   24]\n",
      " [  54  198]]\n",
      "Learning rate:  0.15\n",
      "Accuracy score (validation): 0.960\n",
      "update!\n",
      "[[1610   24]\n",
      " [  54  198]]\n",
      "curr 0.9597030752916225 pickle 0.95864262990456\n",
      "Learning rate:  0.2\n",
      "Accuracy score (validation): 0.958\n",
      "no update\n",
      "curr 0.9581124072110286 pickle 0.9597030752916225\n",
      "[[1619   15]\n",
      " [  61  191]]\n",
      "Learning rate:  0.25\n",
      "Accuracy score (validation): 0.958\n",
      "no update\n",
      "curr 0.9581124072110286 pickle 0.9597030752916225\n",
      "[[1619   15]\n",
      " [  61  191]]\n",
      "Learning rate:  0.3\n",
      "Accuracy score (validation): 0.957\n",
      "no update\n",
      "curr 0.9565217391304348 pickle 0.9597030752916225\n",
      "[[1619   15]\n",
      " [  61  191]]\n",
      "Learning rate:  0.35\n",
      "Accuracy score (validation): 0.955\n",
      "no update\n",
      "curr 0.9554612937433722 pickle 0.9597030752916225\n",
      "[[1619   15]\n",
      " [  61  191]]\n",
      "Learning rate:  0.4\n",
      "Accuracy score (validation): 0.956\n",
      "no update\n",
      "curr 0.9559915164369035 pickle 0.9597030752916225\n",
      "[[1619   15]\n",
      " [  61  191]]\n",
      "Learning rate:  0.45\n",
      "Accuracy score (validation): 0.952\n",
      "no update\n",
      "curr 0.9522799575821845 pickle 0.9597030752916225\n",
      "[[1619   15]\n",
      " [  61  191]]\n",
      "Learning rate:  0.5\n",
      "Accuracy score (validation): 0.953\n",
      "no update\n",
      "curr 0.953340402969247 pickle 0.9597030752916225\n",
      "[[1619   15]\n",
      " [  61  191]]\n",
      "Learning rate:  0.55\n",
      "Accuracy score (validation): 0.957\n",
      "no update\n",
      "curr 0.957051961823966 pickle 0.9597030752916225\n",
      "[[1619   15]\n",
      " [  61  191]]\n",
      "Learning rate:  0.6\n",
      "Accuracy score (validation): 0.879\n",
      "no update\n",
      "curr 0.8791092258748674 pickle 0.9597030752916225\n",
      "[[1619   15]\n",
      " [  61  191]]\n",
      "Learning rate:  0.65\n",
      "Accuracy score (validation): 0.882\n",
      "no update\n",
      "curr 0.8822905620360552 pickle 0.9597030752916225\n",
      "[[1619   15]\n",
      " [  61  191]]\n",
      "Learning rate:  0.7\n",
      "Accuracy score (validation): 0.899\n",
      "no update\n",
      "curr 0.898727465535525 pickle 0.9597030752916225\n",
      "[[1619   15]\n",
      " [  61  191]]\n",
      "Learning rate:  0.75\n",
      "Accuracy score (validation): 0.882\n",
      "no update\n",
      "curr 0.8822905620360552 pickle 0.9597030752916225\n",
      "[[1619   15]\n",
      " [  61  191]]\n",
      "Learning rate:  0.8\n",
      "Accuracy score (validation): 0.809\n",
      "no update\n",
      "curr 0.8085896076352068 pickle 0.9597030752916225\n",
      "[[1619   15]\n",
      " [  61  191]]\n",
      "Learning rate:  0.85\n",
      "Accuracy score (validation): 0.777\n",
      "no update\n",
      "curr 0.7767762460233298 pickle 0.9597030752916225\n",
      "[[1619   15]\n",
      " [  61  191]]\n",
      "Learning rate:  1\n",
      "Accuracy score (validation): 0.839\n",
      "no update\n",
      "curr 0.8393425238600212 pickle 0.9597030752916225\n",
      "[[1619   15]\n",
      " [  61  191]]\n"
     ]
    }
   ],
   "source": [
    "lr_list = [0.05, 0.075, 0.1, 0.15, 0.2, 0.25, 0.3, 0.35, 0.4, 0.45, 0.5, 0.55, 0.6, 0.65,0.7, 0.75, 0.8, 0.85, 1]\n",
    "\n",
    "parameters={\n",
    "   \"n_estimators\":120, # 200 kind of overfits I think\n",
    "    \"max_features\":2,\n",
    "    \"max_depth\":6,\n",
    "    \"random_state\":0,\n",
    "    \"min_sample_split\":50,\n",
    "    \"subsample\":0.8\n",
    "    # \"warm_start\":True\n",
    "}\n",
    "\n",
    "\n",
    "# careful with WARM START - only works after a lot of iterations\n",
    "for learning_rate in lr_list:\n",
    "    gradBoost = GradientBoostingClassifier(n_estimators=parameters['n_estimators'], \n",
    "    learning_rate=learning_rate, max_features=parameters['max_features'], \n",
    "    max_depth=parameters['max_depth'], random_state=parameters['random_state'], \n",
    "    min_samples_split=parameters['min_sample_split'], subsample=parameters['subsample']\n",
    "    )\n",
    "\n",
    "    parameters['learning_rate']=learning_rate\n",
    "    gradBoost.fit(X_train, y_train)\n",
    "\n",
    "    cols_when_model_builds = gradBoost.feature_names_in_\n",
    "    X_test=X_test[cols_when_model_builds]\n",
    "    \n",
    "    testingAcc = accuracy_score(y_test, gradBoost.predict(X_test))\n",
    "    trainingAcc = accuracy_score(y_train, gradBoost.predict(X_train))\n",
    "    \n",
    "    print(\"Learning rate: \", learning_rate)\n",
    "    # print(\"Accuracy score (training): {0:.3f}\".format(trainingAcc))\n",
    "    print(\"Accuracy score (validation): {0:.3f}\".format(testingAcc))\n",
    "    # print(f\"Feature importance {gradBoost.feature_importances_}\")\n",
    "\n",
    "    # pickle.dump(gradBoost, open('gradBoost.pkl', 'wb'))\n",
    "    saveModel(gradBoost, \"gradBoost\", X_test, y_test, parameters, gradBoost=True)"
   ]
  },
  {
   "cell_type": "code",
   "execution_count": 62,
   "metadata": {},
   "outputs": [
    {
     "name": "stdout",
     "output_type": "stream",
     "text": [
      "Learning rate:  0.05\n",
      "Accuracy score (validation): 0.961\n",
      "no update\n",
      "curr 0.9612937433722163 pickle 0.9650053022269353\n",
      "[[1620   14]\n",
      " [  52  200]]\n",
      "Learning rate:  0.075\n",
      "Accuracy score (validation): 0.962\n",
      "no update\n",
      "curr 0.9623541887592789 pickle 0.9650053022269353\n",
      "[[1620   14]\n",
      " [  52  200]]\n"
     ]
    },
    {
     "ename": "KeyboardInterrupt",
     "evalue": "",
     "output_type": "error",
     "traceback": [
      "\u001b[0;31m---------------------------------------------------------------------------\u001b[0m",
      "\u001b[0;31mKeyboardInterrupt\u001b[0m                         Traceback (most recent call last)",
      "\u001b[1;32m/Users/benjaminli/Documents/coding/scires/project/models.ipynb Cell 14\u001b[0m in \u001b[0;36m<cell line: 15>\u001b[0;34m()\u001b[0m\n\u001b[1;32m     <a href='vscode-notebook-cell:/Users/benjaminli/Documents/coding/scires/project/models.ipynb#X15sZmlsZQ%3D%3D?line=15'>16</a>\u001b[0m xgBoost \u001b[39m=\u001b[39m XGBClassifier(n_estimators\u001b[39m=\u001b[39mparameters[\u001b[39m'\u001b[39m\u001b[39mn_estimators\u001b[39m\u001b[39m'\u001b[39m], \n\u001b[1;32m     <a href='vscode-notebook-cell:/Users/benjaminli/Documents/coding/scires/project/models.ipynb#X15sZmlsZQ%3D%3D?line=16'>17</a>\u001b[0m learning_rate\u001b[39m=\u001b[39mlearning_rate, \n\u001b[1;32m     <a href='vscode-notebook-cell:/Users/benjaminli/Documents/coding/scires/project/models.ipynb#X15sZmlsZQ%3D%3D?line=17'>18</a>\u001b[0m max_depth\u001b[39m=\u001b[39mparameters[\u001b[39m'\u001b[39m\u001b[39mmax_depth\u001b[39m\u001b[39m'\u001b[39m], random_state\u001b[39m=\u001b[39mparameters[\u001b[39m'\u001b[39m\u001b[39mrandom_state\u001b[39m\u001b[39m'\u001b[39m], \n\u001b[1;32m     <a href='vscode-notebook-cell:/Users/benjaminli/Documents/coding/scires/project/models.ipynb#X15sZmlsZQ%3D%3D?line=18'>19</a>\u001b[0m subsample\u001b[39m=\u001b[39mparameters[\u001b[39m'\u001b[39m\u001b[39msubsample\u001b[39m\u001b[39m'\u001b[39m], \n\u001b[1;32m     <a href='vscode-notebook-cell:/Users/benjaminli/Documents/coding/scires/project/models.ipynb#X15sZmlsZQ%3D%3D?line=19'>20</a>\u001b[0m )\n\u001b[1;32m     <a href='vscode-notebook-cell:/Users/benjaminli/Documents/coding/scires/project/models.ipynb#X15sZmlsZQ%3D%3D?line=21'>22</a>\u001b[0m parameters[\u001b[39m'\u001b[39m\u001b[39mlearning_rate\u001b[39m\u001b[39m'\u001b[39m]\u001b[39m=\u001b[39mlearning_rate\n\u001b[0;32m---> <a href='vscode-notebook-cell:/Users/benjaminli/Documents/coding/scires/project/models.ipynb#X15sZmlsZQ%3D%3D?line=22'>23</a>\u001b[0m xgBoost\u001b[39m.\u001b[39;49mfit(X_train, y_train)\n\u001b[1;32m     <a href='vscode-notebook-cell:/Users/benjaminli/Documents/coding/scires/project/models.ipynb#X15sZmlsZQ%3D%3D?line=24'>25</a>\u001b[0m \u001b[39m# ALWAYS reset feature names\u001b[39;00m\n\u001b[1;32m     <a href='vscode-notebook-cell:/Users/benjaminli/Documents/coding/scires/project/models.ipynb#X15sZmlsZQ%3D%3D?line=25'>26</a>\u001b[0m cols_when_model_builds \u001b[39m=\u001b[39m xgBoost\u001b[39m.\u001b[39mget_booster()\u001b[39m.\u001b[39mfeature_names\n",
      "File \u001b[0;32m~/opt/miniconda3/envs/seq/lib/python3.8/site-packages/xgboost/core.py:620\u001b[0m, in \u001b[0;36mrequire_keyword_args.<locals>.throw_if.<locals>.inner_f\u001b[0;34m(*args, **kwargs)\u001b[0m\n\u001b[1;32m    618\u001b[0m \u001b[39mfor\u001b[39;00m k, arg \u001b[39min\u001b[39;00m \u001b[39mzip\u001b[39m(sig\u001b[39m.\u001b[39mparameters, args):\n\u001b[1;32m    619\u001b[0m     kwargs[k] \u001b[39m=\u001b[39m arg\n\u001b[0;32m--> 620\u001b[0m \u001b[39mreturn\u001b[39;00m func(\u001b[39m*\u001b[39;49m\u001b[39m*\u001b[39;49mkwargs)\n",
      "File \u001b[0;32m~/opt/miniconda3/envs/seq/lib/python3.8/site-packages/xgboost/sklearn.py:1516\u001b[0m, in \u001b[0;36mXGBClassifier.fit\u001b[0;34m(self, X, y, sample_weight, base_margin, eval_set, eval_metric, early_stopping_rounds, verbose, xgb_model, sample_weight_eval_set, base_margin_eval_set, feature_weights, callbacks)\u001b[0m\n\u001b[1;32m   1488\u001b[0m (\n\u001b[1;32m   1489\u001b[0m     model,\n\u001b[1;32m   1490\u001b[0m     metric,\n\u001b[0;32m   (...)\u001b[0m\n\u001b[1;32m   1495\u001b[0m     xgb_model, eval_metric, params, early_stopping_rounds, callbacks\n\u001b[1;32m   1496\u001b[0m )\n\u001b[1;32m   1497\u001b[0m train_dmatrix, evals \u001b[39m=\u001b[39m _wrap_evaluation_matrices(\n\u001b[1;32m   1498\u001b[0m     missing\u001b[39m=\u001b[39m\u001b[39mself\u001b[39m\u001b[39m.\u001b[39mmissing,\n\u001b[1;32m   1499\u001b[0m     X\u001b[39m=\u001b[39mX,\n\u001b[0;32m   (...)\u001b[0m\n\u001b[1;32m   1513\u001b[0m     feature_types\u001b[39m=\u001b[39m\u001b[39mself\u001b[39m\u001b[39m.\u001b[39mfeature_types,\n\u001b[1;32m   1514\u001b[0m )\n\u001b[0;32m-> 1516\u001b[0m \u001b[39mself\u001b[39m\u001b[39m.\u001b[39m_Booster \u001b[39m=\u001b[39m train(\n\u001b[1;32m   1517\u001b[0m     params,\n\u001b[1;32m   1518\u001b[0m     train_dmatrix,\n\u001b[1;32m   1519\u001b[0m     \u001b[39mself\u001b[39;49m\u001b[39m.\u001b[39;49mget_num_boosting_rounds(),\n\u001b[1;32m   1520\u001b[0m     evals\u001b[39m=\u001b[39;49mevals,\n\u001b[1;32m   1521\u001b[0m     early_stopping_rounds\u001b[39m=\u001b[39;49mearly_stopping_rounds,\n\u001b[1;32m   1522\u001b[0m     evals_result\u001b[39m=\u001b[39;49mevals_result,\n\u001b[1;32m   1523\u001b[0m     obj\u001b[39m=\u001b[39;49mobj,\n\u001b[1;32m   1524\u001b[0m     custom_metric\u001b[39m=\u001b[39;49mmetric,\n\u001b[1;32m   1525\u001b[0m     verbose_eval\u001b[39m=\u001b[39;49mverbose,\n\u001b[1;32m   1526\u001b[0m     xgb_model\u001b[39m=\u001b[39;49mmodel,\n\u001b[1;32m   1527\u001b[0m     callbacks\u001b[39m=\u001b[39;49mcallbacks,\n\u001b[1;32m   1528\u001b[0m )\n\u001b[1;32m   1530\u001b[0m \u001b[39mif\u001b[39;00m \u001b[39mnot\u001b[39;00m callable(\u001b[39mself\u001b[39m\u001b[39m.\u001b[39mobjective):\n\u001b[1;32m   1531\u001b[0m     \u001b[39mself\u001b[39m\u001b[39m.\u001b[39mobjective \u001b[39m=\u001b[39m params[\u001b[39m\"\u001b[39m\u001b[39mobjective\u001b[39m\u001b[39m\"\u001b[39m]\n",
      "File \u001b[0;32m~/opt/miniconda3/envs/seq/lib/python3.8/site-packages/xgboost/core.py:620\u001b[0m, in \u001b[0;36mrequire_keyword_args.<locals>.throw_if.<locals>.inner_f\u001b[0;34m(*args, **kwargs)\u001b[0m\n\u001b[1;32m    618\u001b[0m \u001b[39mfor\u001b[39;00m k, arg \u001b[39min\u001b[39;00m \u001b[39mzip\u001b[39m(sig\u001b[39m.\u001b[39mparameters, args):\n\u001b[1;32m    619\u001b[0m     kwargs[k] \u001b[39m=\u001b[39m arg\n\u001b[0;32m--> 620\u001b[0m \u001b[39mreturn\u001b[39;00m func(\u001b[39m*\u001b[39;49m\u001b[39m*\u001b[39;49mkwargs)\n",
      "File \u001b[0;32m~/opt/miniconda3/envs/seq/lib/python3.8/site-packages/xgboost/training.py:185\u001b[0m, in \u001b[0;36mtrain\u001b[0;34m(params, dtrain, num_boost_round, evals, obj, feval, maximize, early_stopping_rounds, evals_result, verbose_eval, xgb_model, callbacks, custom_metric)\u001b[0m\n\u001b[1;32m    183\u001b[0m \u001b[39mif\u001b[39;00m cb_container\u001b[39m.\u001b[39mbefore_iteration(bst, i, dtrain, evals):\n\u001b[1;32m    184\u001b[0m     \u001b[39mbreak\u001b[39;00m\n\u001b[0;32m--> 185\u001b[0m bst\u001b[39m.\u001b[39;49mupdate(dtrain, i, obj)\n\u001b[1;32m    186\u001b[0m \u001b[39mif\u001b[39;00m cb_container\u001b[39m.\u001b[39mafter_iteration(bst, i, dtrain, evals):\n\u001b[1;32m    187\u001b[0m     \u001b[39mbreak\u001b[39;00m\n",
      "File \u001b[0;32m~/opt/miniconda3/envs/seq/lib/python3.8/site-packages/xgboost/core.py:1918\u001b[0m, in \u001b[0;36mBooster.update\u001b[0;34m(self, dtrain, iteration, fobj)\u001b[0m\n\u001b[1;32m   1915\u001b[0m \u001b[39mself\u001b[39m\u001b[39m.\u001b[39m_validate_dmatrix_features(dtrain)\n\u001b[1;32m   1917\u001b[0m \u001b[39mif\u001b[39;00m fobj \u001b[39mis\u001b[39;00m \u001b[39mNone\u001b[39;00m:\n\u001b[0;32m-> 1918\u001b[0m     _check_call(_LIB\u001b[39m.\u001b[39;49mXGBoosterUpdateOneIter(\u001b[39mself\u001b[39;49m\u001b[39m.\u001b[39;49mhandle,\n\u001b[1;32m   1919\u001b[0m                                             ctypes\u001b[39m.\u001b[39;49mc_int(iteration),\n\u001b[1;32m   1920\u001b[0m                                             dtrain\u001b[39m.\u001b[39;49mhandle))\n\u001b[1;32m   1921\u001b[0m \u001b[39melse\u001b[39;00m:\n\u001b[1;32m   1922\u001b[0m     pred \u001b[39m=\u001b[39m \u001b[39mself\u001b[39m\u001b[39m.\u001b[39mpredict(dtrain, output_margin\u001b[39m=\u001b[39m\u001b[39mTrue\u001b[39;00m, training\u001b[39m=\u001b[39m\u001b[39mTrue\u001b[39;00m)\n",
      "\u001b[0;31mKeyboardInterrupt\u001b[0m: "
     ]
    }
   ],
   "source": [
    "lr_list = [0.05, 0.075, 0.1, 0.15, 0.2, 0.25, 0.3, 0.35, 0.4, 0.45, 0.5, 0.55, 0.6, 0.65,0.7, 0.75, 0.8, 0.85, 1]\n",
    "\n",
    "parameters={\n",
    "   \"n_estimators\":100, # 200 kind of overfits I think\n",
    "    \"max_features\":2,\n",
    "    \"max_depth\":6,\n",
    "    \"random_state\":0,\n",
    "    \"subsample\":0.8,\n",
    "    'lambda': 0.5, # regularization?\n",
    "    'alpha': 0.5\n",
    "}\n",
    "\n",
    "\n",
    "\n",
    "for learning_rate in lr_list:\n",
    "    xgBoost = XGBClassifier(n_estimators=parameters['n_estimators'], \n",
    "    learning_rate=learning_rate, \n",
    "    max_depth=parameters['max_depth'], random_state=parameters['random_state'], \n",
    "    subsample=parameters['subsample'], \n",
    "    )\n",
    "\n",
    "    parameters['learning_rate']=learning_rate\n",
    "    xgBoost.fit(X_train, y_train)\n",
    "\n",
    "    # ALWAYS reset feature names\n",
    "    cols_when_model_builds = xgBoost.get_booster().feature_names\n",
    "    X_test=X_test[cols_when_model_builds]\n",
    "\n",
    "    testingAcc = accuracy_score(y_test, xgBoost.predict(X_test))\n",
    "    trainingAcc = accuracy_score(y_train, xgBoost.predict(X_train))\n",
    "    \n",
    "    print(\"Learning rate: \", learning_rate)\n",
    "    # print(\"Accuracy score (training): {0:.3f}\".format(trainingAcc))\n",
    "    print(\"Accuracy score (validation): {0:.3f}\".format(testingAcc))\n",
    "    # print(f\"Feature importance {gradBoost.feature_importances_}\")\n",
    "\n",
    "    # pickle.dump(gradBoost, open('gradBoost.pkl', 'wb'))\n",
    "    saveModel(xgBoost, \"xgBoost\", X_test, y_test, parameters, xgBoost=True)"
   ]
  },
  {
   "cell_type": "code",
   "execution_count": 68,
   "metadata": {},
   "outputs": [
    {
     "name": "stdout",
     "output_type": "stream",
     "text": [
      "{'n_estimators': 100, 'max_features': 2, 'max_depth': 6, 'random_state': 0, 'subsample': 0.8, 'lambda': 0.5, 'alpha': 0.5, 'learning_rate': 0.25}\n",
      "{'n_estimators': 120, 'max_features': 2, 'max_depth': 6, 'random_state': 0, 'min_sample_split': 50, 'subsample': 0.8, 'learning_rate': 0.15}\n",
      "Best XG Accuracy:  0.9650053022269353\n",
      "Balanced XG Accuracy:  0.8925414310971227\n",
      "[[1619   15]\n",
      " [  61  191]]\n",
      "Best GB Accuracy:  0.9597030752916225\n",
      "Balanced GB Accuracy:  0.8743782906879602\n",
      "[[1619   15]\n",
      " [  61  191]]\n",
      "Best rF Accuracy:  0.9347826086956522\n",
      "Balanced rF Accuracy:  0.8918808649530804\n",
      "[[1553   81]\n",
      " [  42  210]]\n",
      "Best lR Accuracy:  0.9406150583244963\n",
      "Balanced lR Accuracy:  0.8297997901731071\n",
      "[[1603   31]\n",
      " [  81  171]]\n"
     ]
    }
   ],
   "source": [
    "# Models within \"orig_models\" folder have the highest training acc but not as great cross val\n",
    "\n",
    "best_xgboost = pickle.load(open('curr_models/xgBoost.pkl', 'rb'))\n",
    "best_xgboost_params = pickle.load(open('curr_models/xgBoost-params.pkl', 'rb'))\n",
    "\n",
    "best_gradBoost = pickle.load(open('curr_models/gradBoost.pkl', 'rb'))\n",
    "best_gradBoost_params = pickle.load(open('curr_models/gradBoost-params.pkl', 'rb'))\n",
    "\n",
    "best_rF = pickle.load(open('curr_models/randforest.pkl', 'rb'))\n",
    "\n",
    "print(best_xgboost_params)\n",
    "print(best_gradBoost_params)\n",
    "\n",
    "cols_when_model_builds = best_xgboost.get_booster().feature_names\n",
    "X_test=X_test[cols_when_model_builds]\n",
    "\n",
    "print(\"Best XG Accuracy: \", accuracy_score(y_test, best_xgboost.predict(X_test)))\n",
    "print(\"Balanced XG Accuracy: \", balanced_accuracy_score(y_test, best_xgboost.predict(X_test)))\n",
    "print(confusion_matrix(y_test, best_gradBoost.predict(X_test)))\n",
    "\n",
    "\n",
    "cols_when_model_builds = best_gradBoost.feature_names_in_\n",
    "X_test=X_test[cols_when_model_builds]\n",
    "\n",
    "print(\"Best GB Accuracy: \", accuracy_score(y_test, best_gradBoost.predict(X_test)))\n",
    "print(\"Balanced GB Accuracy: \", balanced_accuracy_score(y_test, best_gradBoost.predict(X_test)))\n",
    "print(confusion_matrix(y_test, best_gradBoost.predict(X_test)))\n",
    "\n",
    "print(\"Best rF Accuracy: \", accuracy_score(y_test, best_rF.predict(X_test)))\n",
    "print(\"Balanced rF Accuracy: \", balanced_accuracy_score(y_test, best_rF.predict(X_test)))\n",
    "print(confusion_matrix(y_test, best_rF.predict(X_test)))\n",
    "\n",
    "\n",
    "print(\"Best lR Accuracy: \", accuracy_score(y_test, lrmodel.predict(X_test)))\n",
    "print(\"Balanced lR Accuracy: \", balanced_accuracy_score(y_test, lrmodel.predict(X_test)))\n",
    "print(confusion_matrix(y_test, lrmodel.predict(X_test)))\n"
   ]
  },
  {
   "cell_type": "code",
   "execution_count": 69,
   "metadata": {},
   "outputs": [
    {
     "name": "stdout",
     "output_type": "stream",
     "text": [
      "precision recall: 0.9102284209119\n",
      "[0.00133047 0.00039226 0.00157543 ... 0.0013788  0.05729642 0.00091007]\n"
     ]
    },
    {
     "data": {
      "image/png": "[encoded data removed]",
      "text/plain": [
       "<Figure size 640x480 with 1 Axes>"
      ]
     },
     "metadata": {},
     "output_type": "display_data"
    }
   ],
   "source": [
    "# ALWAYS reset X columns to the right order\n",
    "cols_when_model_builds = best_gradBoost.feature_names_in_\n",
    "X_test=X_test[cols_when_model_builds]\n",
    "\n",
    "y_thing = y_test.to_numpy()\n",
    "precision, recall, thresholds = precision_recall_curve(y_thing, best_gradBoost.predict_proba(X_test)[::,1])\n",
    "aaa = auc(recall, precision)\n",
    "print(\"precision recall: \" + str(aaa))\n",
    "\n",
    "y_pred_proba = best_gradBoost.predict_proba(X_test)[::,1]\n",
    "fpr, tpr, _ = roc_curve(y_test, y_pred_proba)\n",
    "auc_thing = roc_auc_score(y_test, y_pred_proba)\n",
    "\n",
    "print(y_pred_proba)\n",
    "plt.plot(fpr,tpr,label=\"AUC=\"+str(auc_thing))\n",
    "plt.ylabel('True Positive Rate')\n",
    "plt.xlabel('False Positive Rate')\n",
    "plt.legend(loc=4)\n",
    "plt.show()\n"
   ]
  },
  {
   "cell_type": "code",
   "execution_count": 70,
   "metadata": {},
   "outputs": [
    {
     "name": "stdout",
     "output_type": "stream",
     "text": [
      "precision recall: 0.9231663914507396\n",
      "[2.4202900e-04 1.2568987e-04 4.0366469e-04 ... 2.4270930e-04 1.2962392e-02\n",
      " 1.3155343e-05]\n"
     ]
    },
    {
     "data": {
      "image/png": "[encoded data removed]",
      "text/plain": [
       "<Figure size 640x480 with 1 Axes>"
      ]
     },
     "metadata": {},
     "output_type": "display_data"
    }
   ],
   "source": [
    "# ALWAYS reset X columns to the right order\n",
    "\n",
    "cols_when_model_builds = best_xgboost.get_booster().feature_names\n",
    "X_test=X_test[cols_when_model_builds]\n",
    "\n",
    "y_thing = y_test.to_numpy()\n",
    "precision, recall, thresholds = precision_recall_curve(y_thing, best_xgboost.predict_proba(X_test)[::,1])\n",
    "aaa = auc(recall, precision)\n",
    "print(\"precision recall: \" + str(aaa))\n",
    "\n",
    "y_pred_proba = best_xgboost.predict_proba(X_test)[::,1]\n",
    "fpr, tpr, _ = roc_curve(y_test, y_pred_proba)\n",
    "auc_thing = roc_auc_score(y_test, y_pred_proba)\n",
    "\n",
    "print(y_pred_proba)\n",
    "plt.plot(fpr,tpr,label=\"AUC=\"+str(auc_thing))\n",
    "plt.ylabel('True Positive Rate')\n",
    "plt.xlabel('False Positive Rate')\n",
    "plt.legend(loc=4)\n",
    "plt.show()"
   ]
  },
  {
   "cell_type": "code",
   "execution_count": 71,
   "metadata": {},
   "outputs": [
    {
     "name": "stdout",
     "output_type": "stream",
     "text": [
      "Accuracy: 0.946 (0.014)\n"
     ]
    }
   ],
   "source": [
    "cv = RepeatedStratifiedKFold(n_splits=10, n_repeats=3, random_state=1)\n",
    "n_scores = cross_val_score(best_xgboost, X_test, y_test, scoring='accuracy', cv=cv, n_jobs=-1, error_score='raise')\n",
    "print('Accuracy: %.3f (%.3f)' % (mean(n_scores), std(n_scores)))"
   ]
  },
  {
   "cell_type": "code",
   "execution_count": 72,
   "metadata": {},
   "outputs": [
    {
     "name": "stdout",
     "output_type": "stream",
     "text": [
      "Accuracy: 0.947 (0.014)\n"
     ]
    }
   ],
   "source": [
    "cv = RepeatedStratifiedKFold(n_splits=10, n_repeats=3, random_state=1)\n",
    "n_scores = cross_val_score(best_gradBoost, X_test, y_test, scoring='accuracy', cv=cv, n_jobs=-1, error_score='raise')\n",
    "print('Accuracy: %.3f (%.3f)' % (mean(n_scores), std(n_scores)))"
   ]
  },
  {
   "cell_type": "code",
   "execution_count": 73,
   "metadata": {},
   "outputs": [
    {
     "name": "stdout",
     "output_type": "stream",
     "text": [
      "[0.1 0.1 0.  ... 0.  0.3 0. ]\n"
     ]
    },
    {
     "data": {
      "image/png": "[encoded data removed]",
      "text/plain": [
       "<Figure size 640x480 with 1 Axes>"
      ]
     },
     "metadata": {},
     "output_type": "display_data"
    }
   ],
   "source": [
    "y_pred_proba = best_rF.predict_proba(X_test)[::,1]\n",
    "fpr, tpr, _ = roc_curve(y_test, y_pred_proba)\n",
    "auc_thing = roc_auc_score(y_test, y_pred_proba)\n",
    "\n",
    "print(y_pred_proba)\n",
    "plt.plot(fpr,tpr,label=\"AUC=\"+str(auc_thing))\n",
    "plt.ylabel('True Positive Rate')\n",
    "plt.xlabel('False Positive Rate')\n",
    "plt.legend(loc=4)\n",
    "plt.show()"
   ]
  },
  {
   "cell_type": "code",
   "execution_count": 77,
   "metadata": {},
   "outputs": [
    {
     "name": "stdout",
     "output_type": "stream",
     "text": [
      "[3.82075073e-03 4.41432276e-04 6.71296181e-03 ... 6.55295130e-04\n",
      " 1.10691162e-01 5.58013109e-05]\n"
     ]
    },
    {
     "data": {
      "image/png": "[encoded data removed]",
      "text/plain": [
       "<Figure size 640x480 with 1 Axes>"
      ]
     },
     "metadata": {},
     "output_type": "display_data"
    }
   ],
   "source": [
    "y_pred_proba = lrmodel.predict_proba(X_test)[::,1]\n",
    "fpr, tpr, _ = roc_curve(y_test, y_pred_proba)\n",
    "auc_thing = roc_auc_score(y_test, y_pred_proba)\n",
    "\n",
    "print(y_pred_proba)\n",
    "plt.plot(fpr,tpr,label=\"AUC=\"+str(auc_thing))\n",
    "plt.ylabel('True Positive Rate')\n",
    "plt.xlabel('False Positive Rate')\n",
    "plt.legend(loc=4)\n",
    "plt.show()"
   ]
  },
  {
   "cell_type": "code",
   "execution_count": 75,
   "metadata": {},
   "outputs": [
    {
     "name": "stdout",
     "output_type": "stream",
     "text": [
      "Accuracy: 0.906 (0.023)\n"
     ]
    }
   ],
   "source": [
    "cv = RepeatedStratifiedKFold(n_splits=10, n_repeats=3, random_state=1)\n",
    "n_scores = cross_val_score(best_rF, X_test, y_test, scoring='accuracy', cv=cv, n_jobs=-1, error_score='raise')\n",
    "print('Accuracy: %.3f (%.3f)' % (mean(n_scores), std(n_scores)))"
   ]
  },
  {
   "cell_type": "code",
   "execution_count": 76,
   "metadata": {},
   "outputs": [
    {
     "name": "stdout",
     "output_type": "stream",
     "text": [
      "Accuracy: 0.937 (0.016)\n"
     ]
    }
   ],
   "source": [
    "cv = RepeatedStratifiedKFold(n_splits=10, n_repeats=3, random_state=1)\n",
    "n_scores = cross_val_score(lrmodel, X_test, y_test, scoring='accuracy', cv=cv, n_jobs=-1, error_score='raise')\n",
    "print('Accuracy: %.3f (%.3f)' % (mean(n_scores), std(n_scores)))"
   ]
  },
  {
   "cell_type": "code",
   "execution_count": 79,
   "metadata": {},
   "outputs": [
    {
     "name": "stdout",
     "output_type": "stream",
     "text": [
      "Accuracy: 0.865 (0.021)\n"
     ]
    }
   ],
   "source": [
    "cv = RepeatedStratifiedKFold(n_splits=10, n_repeats=3, random_state=1)\n",
    "n_scores = cross_val_score(knntest, X_test, y_test, scoring='accuracy', cv=cv, n_jobs=-1, error_score='raise')\n",
    "print('Accuracy: %.3f (%.3f)' % (mean(n_scores), std(n_scores)))"
   ]
  }
 ],
 "metadata": {
  "kernelspec": {
   "display_name": "Python 3.8.13 ('seq')",
   "language": "python",
   "name": "python3"
  },
  "language_info": {
   "codemirror_mode": {
    "name": "ipython",
    "version": 3
   },
   "file_extension": ".py",
   "mimetype": "text/x-python",
   "name": "python",
   "nbconvert_exporter": "python",
   "pygments_lexer": "ipython3",
   "version": "3.8.13"
  },
  "orig_nbformat": 4,
  "vscode": {
   "interpreter": {
    "hash": "e1360c63304de9435a2a3572d38e6c9496b6fb5d1617f35fbc8638664d664ab4"
   }
  }
 },
 "nbformat": 4,
 "nbformat_minor": 2
}
