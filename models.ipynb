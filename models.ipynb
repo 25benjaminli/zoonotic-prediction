{
 "cells": [
  {
   "cell_type": "code",
   "execution_count": 1,
   "metadata": {},
   "outputs": [],
   "source": [
    "from itertools import permutations, product\n",
    "\n",
    "import pandas as pd\n",
    "\n",
    "from sklearn.linear_model import LogisticRegression\n",
    "from sklearn.neighbors import KNeighborsClassifier\n",
    "from sklearn.tree import DecisionTreeClassifier\n",
    "from sklearn.ensemble import GradientBoostingClassifier\n",
    "from sklearn.model_selection import RepeatedStratifiedKFold, train_test_split, cross_val_score\n",
    "from sklearn.metrics import accuracy_score, auc, confusion_matrix, balanced_accuracy_score, precision_recall_curve, auc, roc_curve, roc_auc_score\n",
    "from sklearn.inspection import permutation_importance\n",
    "from sklearn import preprocessing\n",
    "\n",
    "from imblearn.ensemble import BalancedBaggingClassifier\n",
    "from xgboost import XGBClassifier\n",
    "\n",
    "import numpy as np\n",
    "from numpy import mean,std\n",
    "\n",
    "import pickle\n",
    "\n",
    "from ctgan import CTGANSynthesizer\n",
    "\n",
    "from os import path\n",
    "\n",
    "import matplotlib.pyplot as plt\n",
    "\n",
    "from warnings import simplefilter\n",
    "from collections import OrderedDict\n",
    "\n",
    "simplefilter(action=\"ignore\", category=pd.errors.PerformanceWarning)\n",
    "simplefilter(action='ignore', category=FutureWarning)\n",
    "pd.options.mode.chained_assignment = None\n",
    "\n",
    "\n"
   ]
  },
  {
   "cell_type": "code",
   "execution_count": 2,
   "metadata": {},
   "outputs": [],
   "source": [
    "df = pd.read_csv('data/info.csv')"
   ]
  },
  {
   "cell_type": "code",
   "execution_count": 3,
   "metadata": {},
   "outputs": [],
   "source": [
    "def saveModel(model, name, X_test, y_test, params=None, dir='models/curr_models', gradBoost=False, xgBoost=False):\n",
    "    if not path.exists(f\"{dir}/{name}.pkl\"):\n",
    "        print(\"does not exist\")\n",
    "\n",
    "        pickle.dump(model, open(f'{dir}/{name}.pkl', 'wb'))\n",
    "    else:\n",
    "        predictions = model.predict(X_test)\n",
    "        currAcc = accuracy_score(y_test, predictions)\n",
    "\n",
    "        pickled_model = pickle.load(open(f'{dir}/{name}.pkl', 'rb'))\n",
    "        \n",
    "        if gradBoost:\n",
    "            # get features here \n",
    "            cols_when_model_builds = pickled_model.feature_names_in_\n",
    "            X_test=X_test[cols_when_model_builds]\n",
    "        elif xgBoost:\n",
    "            # put features into the same order that the model was trained in\n",
    "            cols_when_model_builds = pickled_model.get_booster().feature_names\n",
    "            X_test=X_test[cols_when_model_builds]\n",
    "        \n",
    "        # .values?\n",
    "        \n",
    "        picklePredictions=pickled_model.predict(X_test)\n",
    "        pickleAcc=accuracy_score(y_test, picklePredictions)\n",
    "        \n",
    "        if currAcc > pickleAcc:\n",
    "            print(\"update!\")\n",
    "\n",
    "            # TP, FP, FN, TN\n",
    "            print(confusion_matrix(y_test, picklePredictions).ravel())\n",
    "\n",
    "            print(\"curr\", currAcc, \"pickle\", pickleAcc)\n",
    "            pickle.dump(model, open(f'{dir}/{name}.pkl', 'wb'))\n",
    "\n",
    "            if params != None:\n",
    "                pickle.dump(params, open(f'{dir}/{name}-params.pkl', 'wb'))\n",
    "        else:\n",
    "            print(\"no update\")\n",
    "            print(\"curr\", currAcc, \"pickle\", pickleAcc)\n",
    "            \n",
    "            # TP, FP, FN, TN\n",
    "            print(confusion_matrix(y_test, picklePredictions).ravel())\n",
    "\n",
    "            model=pickled_model\n",
    "    return model"
   ]
  },
  {
   "cell_type": "code",
   "execution_count": 51,
   "metadata": {},
   "outputs": [
    {
     "name": "stdout",
     "output_type": "stream",
     "text": [
      "          tggc      ttcc      tatg  ...      cttg      ctat      tctt\n",
      "0     0.329787  0.297872  0.617021  ...  0.148936  0.393617  0.170213\n",
      "1     0.377551  0.255102  0.744898  ...  0.153061  0.367347  0.112245\n",
      "2     0.462366  0.279570  0.161290  ...  0.182796  0.193548  0.118280\n",
      "3     0.455446  0.188119  0.475248  ...  0.188119  0.386139  0.138614\n",
      "4     0.666667  0.333333  0.575758  ...  0.636364  0.515152  0.424242\n",
      "...        ...       ...       ...  ...       ...       ...       ...\n",
      "1195  0.404762  0.333333  0.571429  ...  0.261905  0.357143  0.202381\n",
      "1196  0.417582  0.252747  0.637363  ...  0.208791  0.274725  0.153846\n",
      "1197  0.341463  0.146341  0.329268  ...  0.207317  0.231707  0.231707\n",
      "1198  0.192308  0.153846  0.461538  ...  0.166667  0.320513  0.230769\n",
      "1199  0.226190  0.273810  0.428571  ...  0.166667  0.357143  0.285714\n",
      "\n",
      "[1200 rows x 256 columns]\n",
      "Epoch 1, Loss G:  1.1869,Loss D: -5.0061\n",
      "Epoch 2, Loss G: -2.9529,Loss D:  0.5745\n",
      "Epoch 3, Loss G: -3.6013,Loss D: -0.6512\n",
      "Epoch 4, Loss G: -3.6648,Loss D: -0.0287\n",
      "Epoch 5, Loss G: -2.6083,Loss D: -0.1692\n",
      "Epoch 6, Loss G: -2.4560,Loss D:  1.3139\n",
      "Epoch 7, Loss G: -2.5601,Loss D: -1.6735\n",
      "Epoch 8, Loss G: -2.2482,Loss D:  3.5135\n",
      "Epoch 9, Loss G: -1.8771,Loss D:  0.4029\n",
      "Epoch 10, Loss G: -0.3123,Loss D: -1.3971\n"
     ]
    }
   ],
   "source": [
    "isZoonotic = df.loc[df['isZoonotic']==1][:1200]\n",
    "isZoonotic = isZoonotic.loc[:, isZoonotic.columns != 'isZoonotic']\n",
    "print(isZoonotic)\n",
    "\n",
    "posGanModel = CTGANSynthesizer(batch_size=60, epochs=10, verbose=True)\n",
    "posGanModel.fit(isZoonotic)\n",
    "\n",
    "# check if current model is better than pickled model\n",
    "posGanModel.save('models/curr_models/posGanModel.pkl')"
   ]
  },
  {
   "cell_type": "code",
   "execution_count": 50,
   "metadata": {},
   "outputs": [
    {
     "name": "stdout",
     "output_type": "stream",
     "text": [
      "          tggc      ttcc      tatg  ...      cttg      ctat      tctt\n",
      "0     0.329787  0.297872  0.617021  ...  0.148936  0.393617  0.170213\n",
      "1     0.377551  0.255102  0.744898  ...  0.153061  0.367347  0.112245\n",
      "2     0.462366  0.279570  0.161290  ...  0.182796  0.193548  0.118280\n",
      "3     0.455446  0.188119  0.475248  ...  0.188119  0.386139  0.138614\n",
      "4     0.666667  0.333333  0.575758  ...  0.636364  0.515152  0.424242\n",
      "...        ...       ...       ...  ...       ...       ...       ...\n",
      "1195  0.404762  0.333333  0.571429  ...  0.261905  0.357143  0.202381\n",
      "1196  0.417582  0.252747  0.637363  ...  0.208791  0.274725  0.153846\n",
      "1197  0.341463  0.146341  0.329268  ...  0.207317  0.231707  0.231707\n",
      "1198  0.192308  0.153846  0.461538  ...  0.166667  0.320513  0.230769\n",
      "1199  0.226190  0.273810  0.428571  ...  0.166667  0.357143  0.285714\n",
      "\n",
      "[1200 rows x 256 columns]\n",
      "Epoch 1, Loss G:  1.8207,Loss D: -5.4888\n",
      "Epoch 2, Loss G: -1.7336,Loss D: -0.0555\n",
      "Epoch 3, Loss G: -1.9224,Loss D:  1.3800\n",
      "Epoch 4, Loss G: -0.3142,Loss D:  0.9002\n",
      "Epoch 5, Loss G:  0.2182,Loss D:  2.5544\n",
      "Epoch 6, Loss G:  0.4122,Loss D: -0.4554\n",
      "Epoch 7, Loss G: -1.5571,Loss D:  1.5836\n",
      "Epoch 8, Loss G:  0.5802,Loss D: -0.5996\n",
      "Epoch 9, Loss G:  0.9459,Loss D: -0.2177\n",
      "Epoch 10, Loss G: -0.0489,Loss D: -0.7818\n"
     ]
    }
   ],
   "source": [
    "notZoonotic = df.loc[df['isZoonotic']==0][:3000]\n",
    "notZoonotic = isZoonotic.loc[:, isZoonotic.columns != 'isZoonotic']\n",
    "print(notZoonotic)\n",
    "\n",
    "negGanModel = CTGANSynthesizer(batch_size=60, epochs=10, verbose=True)\n",
    "negGanModel.fit(notZoonotic)\n",
    "negGanModel.save('models/curr_models/negGanModel.pkl')"
   ]
  },
  {
   "cell_type": "code",
   "execution_count": 4,
   "metadata": {},
   "outputs": [],
   "source": [
    "\"\"\"\n",
    "n_syntheticPos = 100\n",
    "n_syntheticNeg = 100\n",
    "\n",
    "# consider storing NON-normalized data in CSV? Then calculate normalized values later for more accuracy\n",
    "# generate sythetic labeled data\n",
    "x_orig= pd.concat([negGanModel.sample(n_syntheticNeg), posGanModel.sample(n_syntheticPos)], axis=0, ignore_index=True)\n",
    "\n",
    "y_orig = pd.concat([pd.DataFrame(np.zeros(n_syntheticNeg)), pd.DataFrame(np.ones(n_syntheticPos))], axis=0, ignore_index=True)\n",
    "\n",
    "\n",
    "X_vals = pd.concat([df.loc[:, df.columns != 'isZoonotic'], x_orig], axis=0, ignore_index=True)\n",
    "Y_vals = pd.concat([df['isZoonotic'], y_orig], axis=0, ignore_index=True)\n",
    "\"\"\"\n",
    "\n",
    "X_train, X_test, y_train, y_test = train_test_split(df.loc[:, df.columns != 'isZoonotic'], df['isZoonotic'], test_size=0.2, random_state=1)\n",
    "# for col in df.columns:\n",
    "#     col != 'isZoonotic' and X_train[col].isnull().sum() != 0 and print(X_train[col].isnull().sum())\n",
    "\n",
    "y_train = y_train.values.ravel()\n",
    "\n",
    "y_test = y_test.values.ravel()\n"
   ]
  },
  {
   "cell_type": "code",
   "execution_count": 5,
   "metadata": {},
   "outputs": [
    {
     "name": "stdout",
     "output_type": "stream",
     "text": [
      "9430\n"
     ]
    }
   ],
   "source": [
    "print(len(X_train)+len(X_test))"
   ]
  },
  {
   "cell_type": "code",
   "execution_count": 8,
   "metadata": {},
   "outputs": [
    {
     "ename": "NameError",
     "evalue": "name 'saveModel' is not defined",
     "output_type": "error",
     "traceback": [
      "\u001b[0;31m---------------------------------------------------------------------------\u001b[0m",
      "\u001b[0;31mNameError\u001b[0m                                 Traceback (most recent call last)",
      "\u001b[1;32m/Users/benjaminli/Documents/coding/scires/project/models.ipynb Cell 8\u001b[0m in \u001b[0;36m<cell line: 6>\u001b[0;34m()\u001b[0m\n\u001b[1;32m      <a href='vscode-notebook-cell:/Users/benjaminli/Documents/coding/scires/project/models.ipynb#X10sZmlsZQ%3D%3D?line=0'>1</a>\u001b[0m lrmodel \u001b[39m=\u001b[39m LogisticRegression(\n\u001b[1;32m      <a href='vscode-notebook-cell:/Users/benjaminli/Documents/coding/scires/project/models.ipynb#X10sZmlsZQ%3D%3D?line=1'>2</a>\u001b[0m     multi_class\u001b[39m=\u001b[39m\u001b[39m\"\u001b[39m\u001b[39mmultinomial\u001b[39m\u001b[39m\"\u001b[39m, max_iter\u001b[39m=\u001b[39m\u001b[39m1000\u001b[39m,\n\u001b[1;32m      <a href='vscode-notebook-cell:/Users/benjaminli/Documents/coding/scires/project/models.ipynb#X10sZmlsZQ%3D%3D?line=2'>3</a>\u001b[0m     fit_intercept\u001b[39m=\u001b[39m\u001b[39mFalse\u001b[39;00m, tol\u001b[39m=\u001b[39m\u001b[39m0.001\u001b[39m, solver\u001b[39m=\u001b[39m\u001b[39m'\u001b[39m\u001b[39msaga\u001b[39m\u001b[39m'\u001b[39m, random_state\u001b[39m=\u001b[39m\u001b[39m42\u001b[39m)\n\u001b[1;32m      <a href='vscode-notebook-cell:/Users/benjaminli/Documents/coding/scires/project/models.ipynb#X10sZmlsZQ%3D%3D?line=3'>4</a>\u001b[0m lrmodel\u001b[39m.\u001b[39mfit(X_train, y_train)\n\u001b[0;32m----> <a href='vscode-notebook-cell:/Users/benjaminli/Documents/coding/scires/project/models.ipynb#X10sZmlsZQ%3D%3D?line=5'>6</a>\u001b[0m saveModel(lrmodel, \u001b[39m\"\u001b[39m\u001b[39mlrmodel\u001b[39m\u001b[39m\"\u001b[39m, X_test, y_test, \u001b[39mdir\u001b[39m\u001b[39m=\u001b[39m\u001b[39m'\u001b[39m\u001b[39mmodels/misc\u001b[39m\u001b[39m'\u001b[39m)\n",
      "\u001b[0;31mNameError\u001b[0m: name 'saveModel' is not defined"
     ]
    }
   ],
   "source": [
    "lrmodel = LogisticRegression(\n",
    "    multi_class=\"multinomial\", max_iter=1000,\n",
    "    fit_intercept=False, tol=0.001, solver='saga', random_state=42)\n",
    "lrmodel.fit(X_train, y_train)\n",
    "\n",
    "saveModel(lrmodel, \"lrmodel\", X_test, y_test, dir='models/misc')"
   ]
  },
  {
   "cell_type": "code",
   "execution_count": 6,
   "metadata": {},
   "outputs": [
    {
     "ename": "NameError",
     "evalue": "name 'lrmodel' is not defined",
     "output_type": "error",
     "traceback": [
      "\u001b[0;31m---------------------------------------------------------------------------\u001b[0m",
      "\u001b[0;31mNameError\u001b[0m                                 Traceback (most recent call last)",
      "\u001b[1;32m/Users/benjaminli/Documents/coding/scires/project/models.ipynb Cell 9\u001b[0m in \u001b[0;36m<cell line: 2>\u001b[0;34m()\u001b[0m\n\u001b[1;32m      <a href='vscode-notebook-cell:/Users/benjaminli/Documents/coding/scires/project/models.ipynb#X11sZmlsZQ%3D%3D?line=0'>1</a>\u001b[0m \u001b[39m# all 0s for some reason\u001b[39;00m\n\u001b[0;32m----> <a href='vscode-notebook-cell:/Users/benjaminli/Documents/coding/scires/project/models.ipynb#X11sZmlsZQ%3D%3D?line=1'>2</a>\u001b[0m predictions \u001b[39m=\u001b[39m lrmodel\u001b[39m.\u001b[39mpredict(X_test)\n\u001b[1;32m      <a href='vscode-notebook-cell:/Users/benjaminli/Documents/coding/scires/project/models.ipynb#X11sZmlsZQ%3D%3D?line=2'>3</a>\u001b[0m picklething \u001b[39m=\u001b[39m pickle\u001b[39m.\u001b[39mload(\u001b[39mopen\u001b[39m(\u001b[39m'\u001b[39m\u001b[39mmodels/curr_models/lrmodel.pkl\u001b[39m\u001b[39m'\u001b[39m, \u001b[39m'\u001b[39m\u001b[39mrb\u001b[39m\u001b[39m'\u001b[39m))\n\u001b[1;32m      <a href='vscode-notebook-cell:/Users/benjaminli/Documents/coding/scires/project/models.ipynb#X11sZmlsZQ%3D%3D?line=3'>4</a>\u001b[0m \u001b[39mprint\u001b[39m(accuracy_score(y_test, predictions), accuracy_score(y_test, picklething\u001b[39m.\u001b[39mpredict(X_test)))\n",
      "\u001b[0;31mNameError\u001b[0m: name 'lrmodel' is not defined"
     ]
    }
   ],
   "source": [
    "# all 0s for some reason\n",
    "predictions = lrmodel.predict(X_test)\n",
    "picklething = pickle.load(open('models/curr_models/lrmodel.pkl', 'rb'))\n",
    "print(accuracy_score(y_test, predictions), accuracy_score(y_test, picklething.predict(X_test)))"
   ]
  },
  {
   "cell_type": "code",
   "execution_count": 17,
   "metadata": {},
   "outputs": [
    {
     "data": {
      "image/png": "[encoded data removed]",
      "text/plain": [
       "<Figure size 640x480 with 1 Axes>"
      ]
     },
     "metadata": {},
     "output_type": "display_data"
    }
   ],
   "source": [
    "results = lrmodel.coef_[0]\n",
    "\n",
    "l = zip([x for x in X_test.columns.values],results)\n",
    "l = list(l)\n",
    "res = sorted(l, key= lambda x: x[1])\n",
    "\n",
    "plt.xticks(rotation=90)\n",
    "plt.tick_params(axis='x', which='major', labelsize=5)\n",
    "\n",
    "plt.bar([x[0] for x in res[230:]], [x[1] for x in res[230:]])\n",
    "plt.show()"
   ]
  },
  {
   "cell_type": "code",
   "execution_count": 109,
   "metadata": {},
   "outputs": [],
   "source": [
    "def getRealLength(kmer):\n",
    "    print(X_test.iloc[0])\n",
    "    sums = [kmer-1+((X_test.iloc[x].sum())/kmer) for x in range(len(X_test))]\n",
    "    print(sums)"
   ]
  },
  {
   "cell_type": "code",
   "execution_count": 18,
   "metadata": {},
   "outputs": [
    {
     "data": {
      "text/html": [
       "<style>#sk-container-id-1 {color: black;background-color: white;}#sk-container-id-1 pre{padding: 0;}#sk-container-id-1 div.sk-toggleable {background-color: white;}#sk-container-id-1 label.sk-toggleable__label {cursor: pointer;display: block;width: 100%;margin-bottom: 0;padding: 0.3em;box-sizing: border-box;text-align: center;}#sk-container-id-1 label.sk-toggleable__label-arrow:before {content: \"▸\";float: left;margin-right: 0.25em;color: #696969;}#sk-container-id-1 label.sk-toggleable__label-arrow:hover:before {color: black;}#sk-container-id-1 div.sk-estimator:hover label.sk-toggleable__label-arrow:before {color: black;}#sk-container-id-1 div.sk-toggleable__content {max-height: 0;max-width: 0;overflow: hidden;text-align: left;background-color: #f0f8ff;}#sk-container-id-1 div.sk-toggleable__content pre {margin: 0.2em;color: black;border-radius: 0.25em;background-color: #f0f8ff;}#sk-container-id-1 input.sk-toggleable__control:checked~div.sk-toggleable__content {max-height: 200px;max-width: 100%;overflow: auto;}#sk-container-id-1 input.sk-toggleable__control:checked~label.sk-toggleable__label-arrow:before {content: \"▾\";}#sk-container-id-1 div.sk-estimator input.sk-toggleable__control:checked~label.sk-toggleable__label {background-color: #d4ebff;}#sk-container-id-1 div.sk-label input.sk-toggleable__control:checked~label.sk-toggleable__label {background-color: #d4ebff;}#sk-container-id-1 input.sk-hidden--visually {border: 0;clip: rect(1px 1px 1px 1px);clip: rect(1px, 1px, 1px, 1px);height: 1px;margin: -1px;overflow: hidden;padding: 0;position: absolute;width: 1px;}#sk-container-id-1 div.sk-estimator {font-family: monospace;background-color: #f0f8ff;border: 1px dotted black;border-radius: 0.25em;box-sizing: border-box;margin-bottom: 0.5em;}#sk-container-id-1 div.sk-estimator:hover {background-color: #d4ebff;}#sk-container-id-1 div.sk-parallel-item::after {content: \"\";width: 100%;border-bottom: 1px solid gray;flex-grow: 1;}#sk-container-id-1 div.sk-label:hover label.sk-toggleable__label {background-color: #d4ebff;}#sk-container-id-1 div.sk-serial::before {content: \"\";position: absolute;border-left: 1px solid gray;box-sizing: border-box;top: 0;bottom: 0;left: 50%;z-index: 0;}#sk-container-id-1 div.sk-serial {display: flex;flex-direction: column;align-items: center;background-color: white;padding-right: 0.2em;padding-left: 0.2em;position: relative;}#sk-container-id-1 div.sk-item {position: relative;z-index: 1;}#sk-container-id-1 div.sk-parallel {display: flex;align-items: stretch;justify-content: center;background-color: white;position: relative;}#sk-container-id-1 div.sk-item::before, #sk-container-id-1 div.sk-parallel-item::before {content: \"\";position: absolute;border-left: 1px solid gray;box-sizing: border-box;top: 0;bottom: 0;left: 50%;z-index: -1;}#sk-container-id-1 div.sk-parallel-item {display: flex;flex-direction: column;z-index: 1;position: relative;background-color: white;}#sk-container-id-1 div.sk-parallel-item:first-child::after {align-self: flex-end;width: 50%;}#sk-container-id-1 div.sk-parallel-item:last-child::after {align-self: flex-start;width: 50%;}#sk-container-id-1 div.sk-parallel-item:only-child::after {width: 0;}#sk-container-id-1 div.sk-dashed-wrapped {border: 1px dashed gray;margin: 0 0.4em 0.5em 0.4em;box-sizing: border-box;padding-bottom: 0.4em;background-color: white;}#sk-container-id-1 div.sk-label label {font-family: monospace;font-weight: bold;display: inline-block;line-height: 1.2em;}#sk-container-id-1 div.sk-label-container {text-align: center;}#sk-container-id-1 div.sk-container {/* jupyter's `normalize.less` sets `[hidden] { display: none; }` but bootstrap.min.css set `[hidden] { display: none !important; }` so we also need the `!important` here to be able to override the default hidden behavior on the sphinx rendered scikit-learn.org. See: https://github.com/scikit-learn/scikit-learn/issues/21755 */display: inline-block !important;position: relative;}#sk-container-id-1 div.sk-text-repr-fallback {display: none;}</style><div id=\"sk-container-id-1\" class=\"sk-top-container\"><div class=\"sk-text-repr-fallback\"><pre>BalancedBaggingClassifier(base_estimator=KNeighborsClassifier(n_jobs=1,\n",
       "                                                              n_neighbors=1),\n",
       "                          n_jobs=1)</pre><b>In a Jupyter environment, please rerun this cell to show the HTML representation or trust the notebook. <br />On GitHub, the HTML representation is unable to render, please try loading this page with nbviewer.org.</b></div><div class=\"sk-container\" hidden><div class=\"sk-item sk-dashed-wrapped\"><div class=\"sk-label-container\"><div class=\"sk-label sk-toggleable\"><input class=\"sk-toggleable__control sk-hidden--visually\" id=\"sk-estimator-id-1\" type=\"checkbox\" ><label for=\"sk-estimator-id-1\" class=\"sk-toggleable__label sk-toggleable__label-arrow\">BalancedBaggingClassifier</label><div class=\"sk-toggleable__content\"><pre>BalancedBaggingClassifier(base_estimator=KNeighborsClassifier(n_jobs=1,\n",
       "                                                              n_neighbors=1),\n",
       "                          n_jobs=1)</pre></div></div></div><div class=\"sk-parallel\"><div class=\"sk-parallel-item\"><div class=\"sk-item\"><div class=\"sk-label-container\"><div class=\"sk-label sk-toggleable\"><input class=\"sk-toggleable__control sk-hidden--visually\" id=\"sk-estimator-id-2\" type=\"checkbox\" ><label for=\"sk-estimator-id-2\" class=\"sk-toggleable__label sk-toggleable__label-arrow\">base_estimator: KNeighborsClassifier</label><div class=\"sk-toggleable__content\"><pre>KNeighborsClassifier(n_jobs=1, n_neighbors=1)</pre></div></div></div><div class=\"sk-serial\"><div class=\"sk-item\"><div class=\"sk-estimator sk-toggleable\"><input class=\"sk-toggleable__control sk-hidden--visually\" id=\"sk-estimator-id-3\" type=\"checkbox\" ><label for=\"sk-estimator-id-3\" class=\"sk-toggleable__label sk-toggleable__label-arrow\">KNeighborsClassifier</label><div class=\"sk-toggleable__content\"><pre>KNeighborsClassifier(n_jobs=1, n_neighbors=1)</pre></div></div></div></div></div></div></div></div></div></div>"
      ],
      "text/plain": [
       "BalancedBaggingClassifier(base_estimator=KNeighborsClassifier(n_jobs=1,\n",
       "                                                              n_neighbors=1),\n",
       "                          n_jobs=1)"
      ]
     },
     "execution_count": 18,
     "metadata": {},
     "output_type": "execute_result"
    }
   ],
   "source": [
    "knntest = BalancedBaggingClassifier(base_estimator=KNeighborsClassifier(n_neighbors = 1, n_jobs = 1), n_estimators = 10, n_jobs = 1)\n",
    "\n",
    "knntest.fit(X_train, y_train)\n",
    "# knn = KNeighborsClassifier(n_neighbors=5)"
   ]
  },
  {
   "cell_type": "code",
   "execution_count": 19,
   "metadata": {},
   "outputs": [
    {
     "name": "stdout",
     "output_type": "stream",
     "text": [
      "[1. 0. 0. 0. 0. 0. 0. 0. 0. 0.]\n",
      "0.8913043478260869\n",
      "no update\n",
      "curr 0.8913043478260869 pickle 0.8997879109225875\n",
      "[1462  172   17  235]\n"
     ]
    },
    {
     "data": {
      "text/html": [
       "<style>#sk-container-id-2 {color: black;background-color: white;}#sk-container-id-2 pre{padding: 0;}#sk-container-id-2 div.sk-toggleable {background-color: white;}#sk-container-id-2 label.sk-toggleable__label {cursor: pointer;display: block;width: 100%;margin-bottom: 0;padding: 0.3em;box-sizing: border-box;text-align: center;}#sk-container-id-2 label.sk-toggleable__label-arrow:before {content: \"▸\";float: left;margin-right: 0.25em;color: #696969;}#sk-container-id-2 label.sk-toggleable__label-arrow:hover:before {color: black;}#sk-container-id-2 div.sk-estimator:hover label.sk-toggleable__label-arrow:before {color: black;}#sk-container-id-2 div.sk-toggleable__content {max-height: 0;max-width: 0;overflow: hidden;text-align: left;background-color: #f0f8ff;}#sk-container-id-2 div.sk-toggleable__content pre {margin: 0.2em;color: black;border-radius: 0.25em;background-color: #f0f8ff;}#sk-container-id-2 input.sk-toggleable__control:checked~div.sk-toggleable__content {max-height: 200px;max-width: 100%;overflow: auto;}#sk-container-id-2 input.sk-toggleable__control:checked~label.sk-toggleable__label-arrow:before {content: \"▾\";}#sk-container-id-2 div.sk-estimator input.sk-toggleable__control:checked~label.sk-toggleable__label {background-color: #d4ebff;}#sk-container-id-2 div.sk-label input.sk-toggleable__control:checked~label.sk-toggleable__label {background-color: #d4ebff;}#sk-container-id-2 input.sk-hidden--visually {border: 0;clip: rect(1px 1px 1px 1px);clip: rect(1px, 1px, 1px, 1px);height: 1px;margin: -1px;overflow: hidden;padding: 0;position: absolute;width: 1px;}#sk-container-id-2 div.sk-estimator {font-family: monospace;background-color: #f0f8ff;border: 1px dotted black;border-radius: 0.25em;box-sizing: border-box;margin-bottom: 0.5em;}#sk-container-id-2 div.sk-estimator:hover {background-color: #d4ebff;}#sk-container-id-2 div.sk-parallel-item::after {content: \"\";width: 100%;border-bottom: 1px solid gray;flex-grow: 1;}#sk-container-id-2 div.sk-label:hover label.sk-toggleable__label {background-color: #d4ebff;}#sk-container-id-2 div.sk-serial::before {content: \"\";position: absolute;border-left: 1px solid gray;box-sizing: border-box;top: 0;bottom: 0;left: 50%;z-index: 0;}#sk-container-id-2 div.sk-serial {display: flex;flex-direction: column;align-items: center;background-color: white;padding-right: 0.2em;padding-left: 0.2em;position: relative;}#sk-container-id-2 div.sk-item {position: relative;z-index: 1;}#sk-container-id-2 div.sk-parallel {display: flex;align-items: stretch;justify-content: center;background-color: white;position: relative;}#sk-container-id-2 div.sk-item::before, #sk-container-id-2 div.sk-parallel-item::before {content: \"\";position: absolute;border-left: 1px solid gray;box-sizing: border-box;top: 0;bottom: 0;left: 50%;z-index: -1;}#sk-container-id-2 div.sk-parallel-item {display: flex;flex-direction: column;z-index: 1;position: relative;background-color: white;}#sk-container-id-2 div.sk-parallel-item:first-child::after {align-self: flex-end;width: 50%;}#sk-container-id-2 div.sk-parallel-item:last-child::after {align-self: flex-start;width: 50%;}#sk-container-id-2 div.sk-parallel-item:only-child::after {width: 0;}#sk-container-id-2 div.sk-dashed-wrapped {border: 1px dashed gray;margin: 0 0.4em 0.5em 0.4em;box-sizing: border-box;padding-bottom: 0.4em;background-color: white;}#sk-container-id-2 div.sk-label label {font-family: monospace;font-weight: bold;display: inline-block;line-height: 1.2em;}#sk-container-id-2 div.sk-label-container {text-align: center;}#sk-container-id-2 div.sk-container {/* jupyter's `normalize.less` sets `[hidden] { display: none; }` but bootstrap.min.css set `[hidden] { display: none !important; }` so we also need the `!important` here to be able to override the default hidden behavior on the sphinx rendered scikit-learn.org. See: https://github.com/scikit-learn/scikit-learn/issues/21755 */display: inline-block !important;position: relative;}#sk-container-id-2 div.sk-text-repr-fallback {display: none;}</style><div id=\"sk-container-id-2\" class=\"sk-top-container\"><div class=\"sk-text-repr-fallback\"><pre>BalancedBaggingClassifier(base_estimator=KNeighborsClassifier(n_jobs=1,\n",
       "                                                              n_neighbors=1),\n",
       "                          n_jobs=1)</pre><b>In a Jupyter environment, please rerun this cell to show the HTML representation or trust the notebook. <br />On GitHub, the HTML representation is unable to render, please try loading this page with nbviewer.org.</b></div><div class=\"sk-container\" hidden><div class=\"sk-item sk-dashed-wrapped\"><div class=\"sk-label-container\"><div class=\"sk-label sk-toggleable\"><input class=\"sk-toggleable__control sk-hidden--visually\" id=\"sk-estimator-id-4\" type=\"checkbox\" ><label for=\"sk-estimator-id-4\" class=\"sk-toggleable__label sk-toggleable__label-arrow\">BalancedBaggingClassifier</label><div class=\"sk-toggleable__content\"><pre>BalancedBaggingClassifier(base_estimator=KNeighborsClassifier(n_jobs=1,\n",
       "                                                              n_neighbors=1),\n",
       "                          n_jobs=1)</pre></div></div></div><div class=\"sk-parallel\"><div class=\"sk-parallel-item\"><div class=\"sk-item\"><div class=\"sk-label-container\"><div class=\"sk-label sk-toggleable\"><input class=\"sk-toggleable__control sk-hidden--visually\" id=\"sk-estimator-id-5\" type=\"checkbox\" ><label for=\"sk-estimator-id-5\" class=\"sk-toggleable__label sk-toggleable__label-arrow\">base_estimator: KNeighborsClassifier</label><div class=\"sk-toggleable__content\"><pre>KNeighborsClassifier(n_jobs=1, n_neighbors=1)</pre></div></div></div><div class=\"sk-serial\"><div class=\"sk-item\"><div class=\"sk-estimator sk-toggleable\"><input class=\"sk-toggleable__control sk-hidden--visually\" id=\"sk-estimator-id-6\" type=\"checkbox\" ><label for=\"sk-estimator-id-6\" class=\"sk-toggleable__label sk-toggleable__label-arrow\">KNeighborsClassifier</label><div class=\"sk-toggleable__content\"><pre>KNeighborsClassifier(n_jobs=1, n_neighbors=1)</pre></div></div></div></div></div></div></div></div></div></div>"
      ],
      "text/plain": [
       "BalancedBaggingClassifier(base_estimator=KNeighborsClassifier(n_jobs=1,\n",
       "                                                              n_neighbors=1),\n",
       "                          n_jobs=1)"
      ]
     },
     "execution_count": 19,
     "metadata": {},
     "output_type": "execute_result"
    }
   ],
   "source": [
    "predictions = knntest.predict(X_test)\n",
    "print(predictions[:10])\n",
    "print(accuracy_score(y_test, predictions))\n",
    "saveModel(knntest, \"knn\", X_test, y_test)"
   ]
  },
  {
   "cell_type": "code",
   "execution_count": 20,
   "metadata": {},
   "outputs": [
    {
     "data": {
      "text/html": [
       "<style>#sk-container-id-3 {color: black;background-color: white;}#sk-container-id-3 pre{padding: 0;}#sk-container-id-3 div.sk-toggleable {background-color: white;}#sk-container-id-3 label.sk-toggleable__label {cursor: pointer;display: block;width: 100%;margin-bottom: 0;padding: 0.3em;box-sizing: border-box;text-align: center;}#sk-container-id-3 label.sk-toggleable__label-arrow:before {content: \"▸\";float: left;margin-right: 0.25em;color: #696969;}#sk-container-id-3 label.sk-toggleable__label-arrow:hover:before {color: black;}#sk-container-id-3 div.sk-estimator:hover label.sk-toggleable__label-arrow:before {color: black;}#sk-container-id-3 div.sk-toggleable__content {max-height: 0;max-width: 0;overflow: hidden;text-align: left;background-color: #f0f8ff;}#sk-container-id-3 div.sk-toggleable__content pre {margin: 0.2em;color: black;border-radius: 0.25em;background-color: #f0f8ff;}#sk-container-id-3 input.sk-toggleable__control:checked~div.sk-toggleable__content {max-height: 200px;max-width: 100%;overflow: auto;}#sk-container-id-3 input.sk-toggleable__control:checked~label.sk-toggleable__label-arrow:before {content: \"▾\";}#sk-container-id-3 div.sk-estimator input.sk-toggleable__control:checked~label.sk-toggleable__label {background-color: #d4ebff;}#sk-container-id-3 div.sk-label input.sk-toggleable__control:checked~label.sk-toggleable__label {background-color: #d4ebff;}#sk-container-id-3 input.sk-hidden--visually {border: 0;clip: rect(1px 1px 1px 1px);clip: rect(1px, 1px, 1px, 1px);height: 1px;margin: -1px;overflow: hidden;padding: 0;position: absolute;width: 1px;}#sk-container-id-3 div.sk-estimator {font-family: monospace;background-color: #f0f8ff;border: 1px dotted black;border-radius: 0.25em;box-sizing: border-box;margin-bottom: 0.5em;}#sk-container-id-3 div.sk-estimator:hover {background-color: #d4ebff;}#sk-container-id-3 div.sk-parallel-item::after {content: \"\";width: 100%;border-bottom: 1px solid gray;flex-grow: 1;}#sk-container-id-3 div.sk-label:hover label.sk-toggleable__label {background-color: #d4ebff;}#sk-container-id-3 div.sk-serial::before {content: \"\";position: absolute;border-left: 1px solid gray;box-sizing: border-box;top: 0;bottom: 0;left: 50%;z-index: 0;}#sk-container-id-3 div.sk-serial {display: flex;flex-direction: column;align-items: center;background-color: white;padding-right: 0.2em;padding-left: 0.2em;position: relative;}#sk-container-id-3 div.sk-item {position: relative;z-index: 1;}#sk-container-id-3 div.sk-parallel {display: flex;align-items: stretch;justify-content: center;background-color: white;position: relative;}#sk-container-id-3 div.sk-item::before, #sk-container-id-3 div.sk-parallel-item::before {content: \"\";position: absolute;border-left: 1px solid gray;box-sizing: border-box;top: 0;bottom: 0;left: 50%;z-index: -1;}#sk-container-id-3 div.sk-parallel-item {display: flex;flex-direction: column;z-index: 1;position: relative;background-color: white;}#sk-container-id-3 div.sk-parallel-item:first-child::after {align-self: flex-end;width: 50%;}#sk-container-id-3 div.sk-parallel-item:last-child::after {align-self: flex-start;width: 50%;}#sk-container-id-3 div.sk-parallel-item:only-child::after {width: 0;}#sk-container-id-3 div.sk-dashed-wrapped {border: 1px dashed gray;margin: 0 0.4em 0.5em 0.4em;box-sizing: border-box;padding-bottom: 0.4em;background-color: white;}#sk-container-id-3 div.sk-label label {font-family: monospace;font-weight: bold;display: inline-block;line-height: 1.2em;}#sk-container-id-3 div.sk-label-container {text-align: center;}#sk-container-id-3 div.sk-container {/* jupyter's `normalize.less` sets `[hidden] { display: none; }` but bootstrap.min.css set `[hidden] { display: none !important; }` so we also need the `!important` here to be able to override the default hidden behavior on the sphinx rendered scikit-learn.org. See: https://github.com/scikit-learn/scikit-learn/issues/21755 */display: inline-block !important;position: relative;}#sk-container-id-3 div.sk-text-repr-fallback {display: none;}</style><div id=\"sk-container-id-3\" class=\"sk-top-container\"><div class=\"sk-text-repr-fallback\"><pre>BalancedBaggingClassifier(base_estimator=DecisionTreeClassifier(max_features=&#x27;sqrt&#x27;))</pre><b>In a Jupyter environment, please rerun this cell to show the HTML representation or trust the notebook. <br />On GitHub, the HTML representation is unable to render, please try loading this page with nbviewer.org.</b></div><div class=\"sk-container\" hidden><div class=\"sk-item sk-dashed-wrapped\"><div class=\"sk-label-container\"><div class=\"sk-label sk-toggleable\"><input class=\"sk-toggleable__control sk-hidden--visually\" id=\"sk-estimator-id-7\" type=\"checkbox\" ><label for=\"sk-estimator-id-7\" class=\"sk-toggleable__label sk-toggleable__label-arrow\">BalancedBaggingClassifier</label><div class=\"sk-toggleable__content\"><pre>BalancedBaggingClassifier(base_estimator=DecisionTreeClassifier(max_features=&#x27;sqrt&#x27;))</pre></div></div></div><div class=\"sk-parallel\"><div class=\"sk-parallel-item\"><div class=\"sk-item\"><div class=\"sk-label-container\"><div class=\"sk-label sk-toggleable\"><input class=\"sk-toggleable__control sk-hidden--visually\" id=\"sk-estimator-id-8\" type=\"checkbox\" ><label for=\"sk-estimator-id-8\" class=\"sk-toggleable__label sk-toggleable__label-arrow\">base_estimator: DecisionTreeClassifier</label><div class=\"sk-toggleable__content\"><pre>DecisionTreeClassifier(max_features=&#x27;sqrt&#x27;)</pre></div></div></div><div class=\"sk-serial\"><div class=\"sk-item\"><div class=\"sk-estimator sk-toggleable\"><input class=\"sk-toggleable__control sk-hidden--visually\" id=\"sk-estimator-id-9\" type=\"checkbox\" ><label for=\"sk-estimator-id-9\" class=\"sk-toggleable__label sk-toggleable__label-arrow\">DecisionTreeClassifier</label><div class=\"sk-toggleable__content\"><pre>DecisionTreeClassifier(max_features=&#x27;sqrt&#x27;)</pre></div></div></div></div></div></div></div></div></div></div>"
      ],
      "text/plain": [
       "BalancedBaggingClassifier(base_estimator=DecisionTreeClassifier(max_features='sqrt'))"
      ]
     },
     "execution_count": 20,
     "metadata": {},
     "output_type": "execute_result"
    }
   ],
   "source": [
    "randforest = BalancedBaggingClassifier(base_estimator=DecisionTreeClassifier(max_features=\"sqrt\"))\n",
    "\n",
    "randforest.fit(X_train, y_train)"
   ]
  },
  {
   "cell_type": "code",
   "execution_count": 21,
   "metadata": {},
   "outputs": [
    {
     "name": "stdout",
     "output_type": "stream",
     "text": [
      "no update\n",
      "curr 0.9294803817603393 pickle 0.9305408271474019\n",
      "[1540   94   37  215]\n",
      "0.9294803817603393\n"
     ]
    }
   ],
   "source": [
    "saveModel(randforest, \"randforest\", X_test, y_test)\n",
    "\n",
    "predictions = randforest.predict(X_test)\n",
    "print(accuracy_score(y_test, predictions))\n",
    "\n",
    "# for i in range(1000):\n",
    "#     predictions[i] != y_test_list[i] and print(predictions[i], \"vs\", y_test_list[i])"
   ]
  },
  {
   "cell_type": "code",
   "execution_count": 22,
   "metadata": {},
   "outputs": [
    {
     "name": "stdout",
     "output_type": "stream",
     "text": [
      "0.9294803817603393\n"
     ]
    }
   ],
   "source": [
    "probability_predictions = randforest.predict_proba(X_test)\n",
    "preds = randforest.predict(X_test)\n",
    "print(accuracy_score(y_test, preds))\n"
   ]
  },
  {
   "cell_type": "code",
   "execution_count": 38,
   "metadata": {},
   "outputs": [
    {
     "name": "stdout",
     "output_type": "stream",
     "text": [
      "Learning rate:  0.05\n",
      "Accuracy score (validation): 0.957\n",
      "no update\n",
      "curr 0.9565217391304348 pickle 0.9883351007423118\n",
      "[1629    5   17  235]\n",
      "Learning rate:  0.075\n",
      "Accuracy score (validation): 0.958\n",
      "no update\n",
      "curr 0.9581124072110286 pickle 0.9883351007423118\n",
      "[1629    5   17  235]\n",
      "Learning rate:  0.1\n",
      "Accuracy score (validation): 0.956\n",
      "no update\n",
      "curr 0.9559915164369035 pickle 0.9883351007423118\n",
      "[1629    5   17  235]\n",
      "Learning rate:  0.15\n",
      "Accuracy score (validation): 0.960\n",
      "no update\n",
      "curr 0.9602332979851538 pickle 0.9883351007423118\n",
      "[1629    5   17  235]\n",
      "Learning rate:  0.2\n",
      "Accuracy score (validation): 0.963\n",
      "no update\n",
      "curr 0.9628844114528102 pickle 0.9883351007423118\n",
      "[1629    5   17  235]\n",
      "Learning rate:  0.25\n",
      "Accuracy score (validation): 0.958\n",
      "no update\n",
      "curr 0.9575821845174973 pickle 0.9883351007423118\n",
      "[1629    5   17  235]\n",
      "Learning rate:  0.3\n",
      "Accuracy score (validation): 0.958\n",
      "no update\n",
      "curr 0.9575821845174973 pickle 0.9883351007423118\n",
      "[1629    5   17  235]\n",
      "Learning rate:  0.35\n",
      "Accuracy score (validation): 0.956\n",
      "no update\n",
      "curr 0.9559915164369035 pickle 0.9883351007423118\n",
      "[1629    5   17  235]\n",
      "Learning rate:  0.4\n",
      "Accuracy score (validation): 0.951\n",
      "no update\n",
      "curr 0.9506892895015907 pickle 0.9883351007423118\n",
      "[1629    5   17  235]\n",
      "Learning rate:  0.45\n",
      "Accuracy score (validation): 0.958\n",
      "no update\n",
      "curr 0.9581124072110286 pickle 0.9883351007423118\n",
      "[1629    5   17  235]\n",
      "Learning rate:  0.5\n",
      "Accuracy score (validation): 0.956\n",
      "no update\n",
      "curr 0.9559915164369035 pickle 0.9883351007423118\n",
      "[1629    5   17  235]\n",
      "Learning rate:  0.55\n",
      "Accuracy score (validation): 0.951\n",
      "no update\n",
      "curr 0.9506892895015907 pickle 0.9883351007423118\n",
      "[1629    5   17  235]\n",
      "Learning rate:  0.6\n",
      "Accuracy score (validation): 0.949\n",
      "no update\n",
      "curr 0.9490986214209968 pickle 0.9883351007423118\n",
      "[1629    5   17  235]\n",
      "Learning rate:  0.65\n",
      "Accuracy score (validation): 0.955\n",
      "no update\n",
      "curr 0.954931071049841 pickle 0.9883351007423118\n",
      "[1629    5   17  235]\n",
      "Learning rate:  0.7\n",
      "Accuracy score (validation): 0.843\n",
      "no update\n",
      "curr 0.8430540827147401 pickle 0.9883351007423118\n",
      "[1629    5   17  235]\n",
      "Learning rate:  0.75\n",
      "Accuracy score (validation): 0.748\n",
      "no update\n",
      "curr 0.7476139978791092 pickle 0.9883351007423118\n",
      "[1629    5   17  235]\n",
      "Learning rate:  0.8\n",
      "Accuracy score (validation): 0.801\n",
      "no update\n",
      "curr 0.8011664899257688 pickle 0.9883351007423118\n",
      "[1629    5   17  235]\n",
      "Learning rate:  0.85\n",
      "Accuracy score (validation): 0.870\n",
      "no update\n",
      "curr 0.8695652173913043 pickle 0.9883351007423118\n",
      "[1629    5   17  235]\n",
      "Learning rate:  1\n",
      "Accuracy score (validation): 0.860\n",
      "no update\n",
      "curr 0.8600212089077413 pickle 0.9883351007423118\n",
      "[1629    5   17  235]\n"
     ]
    }
   ],
   "source": [
    "lr_list = [0.05, 0.075, 0.1, 0.15, 0.2, 0.25, 0.3, 0.35, 0.4, 0.45, 0.5, 0.55, 0.6, 0.65,0.7, 0.75, 0.8, 0.85, 1]\n",
    "\n",
    "parameters={\n",
    "   \"n_estimators\":120, # 200 kind of overfits I think\n",
    "    \"max_features\":2,\n",
    "    \"max_depth\":6,\n",
    "    \"random_state\":0,\n",
    "    \"min_sample_split\":50,\n",
    "    \"subsample\":0.8\n",
    "    # \"warm_start\":True\n",
    "}\n",
    "\n",
    "\n",
    "# careful with WARM START - only works after a lot of iterations\n",
    "for learning_rate in lr_list:\n",
    "    gradBoost = GradientBoostingClassifier(n_estimators=parameters['n_estimators'], \n",
    "    learning_rate=learning_rate, max_features=parameters['max_features'], \n",
    "    max_depth=parameters['max_depth'], random_state=parameters['random_state'], \n",
    "    min_samples_split=parameters['min_sample_split'], subsample=parameters['subsample']\n",
    "    )\n",
    "\n",
    "    parameters['learning_rate']=learning_rate\n",
    "    gradBoost.fit(X_train, y_train)\n",
    "\n",
    "    cols_when_model_builds = gradBoost.feature_names_in_\n",
    "    X_test=X_test[cols_when_model_builds]\n",
    "    \n",
    "    testingAcc = accuracy_score(y_test, gradBoost.predict(X_test))\n",
    "    trainingAcc = accuracy_score(y_train, gradBoost.predict(X_train))\n",
    "    \n",
    "    print(\"Learning rate: \", learning_rate)\n",
    "    # print(\"Accuracy score (training): {0:.3f}\".format(trainingAcc))\n",
    "    print(\"Accuracy score (validation): {0:.3f}\".format(testingAcc))\n",
    "    # print(f\"Feature importance {gradBoost.feature_importances_}\")\n",
    "\n",
    "    # pickle.dump(gradBoost, open('gradBoost.pkl', 'wb'))\n",
    "    saveModel(gradBoost, \"gradBoost\", X_test, y_test, parameters, gradBoost=True, dir=\"models/synthetic_data_testing\")"
   ]
  },
  {
   "cell_type": "code",
   "execution_count": 39,
   "metadata": {},
   "outputs": [
    {
     "name": "stdout",
     "output_type": "stream",
     "text": [
      "Learning rate:  0.05\n",
      "Accuracy score (validation): 0.960\n",
      "no update\n",
      "curr 0.9602332979851538 pickle 0.9904559915164369\n",
      "[1632    2   16  236]\n",
      "Learning rate:  0.075\n",
      "Accuracy score (validation): 0.962\n",
      "no update\n",
      "curr 0.9623541887592789 pickle 0.9904559915164369\n",
      "[1632    2   16  236]\n",
      "Learning rate:  0.1\n",
      "Accuracy score (validation): 0.962\n",
      "no update\n",
      "curr 0.9618239660657476 pickle 0.9904559915164369\n",
      "[1632    2   16  236]\n",
      "Learning rate:  0.15\n",
      "Accuracy score (validation): 0.963\n",
      "no update\n",
      "curr 0.9634146341463414 pickle 0.9904559915164369\n",
      "[1632    2   16  236]\n",
      "Learning rate:  0.2\n",
      "Accuracy score (validation): 0.966\n",
      "no update\n",
      "curr 0.9655355249204666 pickle 0.9904559915164369\n",
      "[1632    2   16  236]\n",
      "Learning rate:  0.25\n",
      "Accuracy score (validation): 0.963\n",
      "no update\n",
      "curr 0.9634146341463414 pickle 0.9904559915164369\n",
      "[1632    2   16  236]\n",
      "Learning rate:  0.3\n",
      "Accuracy score (validation): 0.961\n",
      "no update\n",
      "curr 0.9612937433722163 pickle 0.9904559915164369\n",
      "[1632    2   16  236]\n",
      "Learning rate:  0.35\n",
      "Accuracy score (validation): 0.962\n",
      "no update\n",
      "curr 0.9623541887592789 pickle 0.9904559915164369\n",
      "[1632    2   16  236]\n",
      "Learning rate:  0.4\n",
      "Accuracy score (validation): 0.959\n",
      "no update\n",
      "curr 0.9591728525980912 pickle 0.9904559915164369\n",
      "[1632    2   16  236]\n",
      "Learning rate:  0.45\n",
      "Accuracy score (validation): 0.960\n",
      "no update\n",
      "curr 0.9602332979851538 pickle 0.9904559915164369\n",
      "[1632    2   16  236]\n",
      "Learning rate:  0.5\n",
      "Accuracy score (validation): 0.960\n",
      "no update\n",
      "curr 0.9602332979851538 pickle 0.9904559915164369\n",
      "[1632    2   16  236]\n",
      "Learning rate:  0.55\n",
      "Accuracy score (validation): 0.960\n",
      "no update\n",
      "curr 0.9602332979851538 pickle 0.9904559915164369\n",
      "[1632    2   16  236]\n",
      "Learning rate:  0.6\n",
      "Accuracy score (validation): 0.962\n",
      "no update\n",
      "curr 0.9618239660657476 pickle 0.9904559915164369\n",
      "[1632    2   16  236]\n",
      "Learning rate:  0.65\n",
      "Accuracy score (validation): 0.955\n",
      "no update\n",
      "curr 0.954931071049841 pickle 0.9904559915164369\n",
      "[1632    2   16  236]\n",
      "Learning rate:  0.7\n",
      "Accuracy score (validation): 0.956\n",
      "no update\n",
      "curr 0.9559915164369035 pickle 0.9904559915164369\n",
      "[1632    2   16  236]\n",
      "Learning rate:  0.75\n",
      "Accuracy score (validation): 0.953\n",
      "no update\n",
      "curr 0.953340402969247 pickle 0.9904559915164369\n",
      "[1632    2   16  236]\n",
      "Learning rate:  0.8\n",
      "Accuracy score (validation): 0.959\n",
      "no update\n",
      "curr 0.95864262990456 pickle 0.9904559915164369\n",
      "[1632    2   16  236]\n",
      "Learning rate:  0.85\n",
      "Accuracy score (validation): 0.951\n",
      "no update\n",
      "curr 0.9512195121951219 pickle 0.9904559915164369\n",
      "[1632    2   16  236]\n",
      "Learning rate:  1\n",
      "Accuracy score (validation): 0.956\n",
      "no update\n",
      "curr 0.9559915164369035 pickle 0.9904559915164369\n",
      "[1632    2   16  236]\n"
     ]
    }
   ],
   "source": [
    "lr_list = [0.05, 0.075, 0.1, 0.15, 0.2, 0.25, 0.3, 0.35, 0.4, 0.45, 0.5, 0.55, 0.6, 0.65,0.7, 0.75, 0.8, 0.85, 1]\n",
    "\n",
    "parameters={\n",
    "   \"n_estimators\":100, # 200 kind of overfits I think\n",
    "    \"max_features\":2,\n",
    "    \"max_depth\":6,\n",
    "    \"random_state\":0,\n",
    "    \"subsample\":0.8,\n",
    "    'lambda': 0.5, # regularization?\n",
    "    'alpha': 0.5\n",
    "}\n",
    "\n",
    "\n",
    "\n",
    "for learning_rate in lr_list:\n",
    "    xgBoost = XGBClassifier(n_estimators=parameters['n_estimators'], \n",
    "    learning_rate=learning_rate, \n",
    "    max_depth=parameters['max_depth'], random_state=parameters['random_state'], \n",
    "    subsample=parameters['subsample'], \n",
    "    )\n",
    "\n",
    "    parameters['learning_rate']=learning_rate\n",
    "    xgBoost.fit(X_train, y_train)\n",
    "\n",
    "    # ALWAYS reset feature names\n",
    "    cols_when_model_builds = xgBoost.get_booster().feature_names\n",
    "    X_test=X_test[cols_when_model_builds]\n",
    "\n",
    "    testingAcc = accuracy_score(y_test, xgBoost.predict(X_test))\n",
    "    trainingAcc = accuracy_score(y_train, xgBoost.predict(X_train))\n",
    "    \n",
    "    print(\"Learning rate: \", learning_rate)\n",
    "    # print(\"Accuracy score (training): {0:.3f}\".format(trainingAcc))\n",
    "    print(\"Accuracy score (validation): {0:.3f}\".format(testingAcc))\n",
    "    # print(f\"Feature importance {gradBoost.feature_importances_}\")\n",
    "\n",
    "    # pickle.dump(gradBoost, open('gradBoost.pkl', 'wb'))\n",
    "    saveModel(xgBoost, \"xgBoost\", X_test, y_test, parameters, xgBoost=True, dir=\"models/synthetic_data_testing\")"
   ]
  },
  {
   "cell_type": "code",
   "execution_count": 14,
   "metadata": {},
   "outputs": [
    {
     "name": "stdout",
     "output_type": "stream",
     "text": [
      "{'n_estimators': 100, 'max_features': 2, 'max_depth': 6, 'random_state': 0, 'subsample': 0.8, 'lambda': 0.5, 'alpha': 0.5, 'learning_rate': 0.25}\n",
      "{'n_estimators': 120, 'max_features': 2, 'max_depth': 6, 'random_state': 0, 'min_sample_split': 50, 'subsample': 0.8, 'learning_rate': 0.3}\n",
      "1886\n",
      "Best nardus GBM Accuracy:  0.9777306468716861\n",
      "Balanced nardus GBM Accuracy:  0.9300917021235259\n",
      "[1626    8   34  218]\n",
      "Best XG Accuracy:  0.9920466595970308\n",
      "Balanced XG Accuracy:  0.97359435410231\n",
      "[1631    3   15  237]\n",
      "Best GB Accuracy:  0.9904559915164369\n",
      "Balanced GB Accuracy:  0.9693201025820365\n",
      "[1631    3   15  237]\n",
      "[[1631    3]\n",
      " [  15  237]]\n",
      "Best rF Accuracy:  0.8552492046659597\n",
      "Balanced rF Accuracy:  0.49525218083969613\n",
      "[1612   22  251    1]\n"
     ]
    }
   ],
   "source": [
    "# Models within \"orig_models\" folder have the highest training acc but not as great cross val\n",
    "\n",
    "best_xgboost = pickle.load(open('models/curr_models/xgBoost.pkl', 'rb'))\n",
    "best_xgboost_params = pickle.load(open('models/curr_models/xgBoost-params.pkl', 'rb'))\n",
    "\n",
    "best_gradBoost = pickle.load(open('models/curr_models/gradBoost.pkl', 'rb'))\n",
    "best_gradBoost_params = pickle.load(open('models/curr_models/gradBoost-params.pkl', 'rb'))\n",
    "\n",
    "best_rF = pickle.load(open('models/curr_models/randforest.pkl', 'rb'))\n",
    "\n",
    "\n",
    "print(best_xgboost_params)\n",
    "print(best_gradBoost_params)\n",
    "\n",
    "nardus_gradBoost = pickle.load(open(f'models/nardus_gridsearch.pkl', 'rb'))\n",
    "\n",
    "cols_when_model_builds = nardus_gradBoost.feature_names_in_\n",
    "X_test=X_test[cols_when_model_builds]\n",
    "\n",
    "print(len(X_test))\n",
    "print(\"Best nardus GBM Accuracy: \", accuracy_score(y_test, nardus_gradBoost.predict(X_test)))\n",
    "print(\"Balanced nardus GBM Accuracy: \", balanced_accuracy_score(y_test, nardus_gradBoost.predict(X_test)))\n",
    "print(confusion_matrix(y_test, nardus_gradBoost.predict(X_test)).ravel())\n",
    "\n",
    "cols_when_model_builds = best_xgboost.get_booster().feature_names\n",
    "X_test=X_test[cols_when_model_builds]\n",
    "\n",
    "print(\"Best XG Accuracy: \", accuracy_score(y_test, best_xgboost.predict(X_test)))\n",
    "print(\"Balanced XG Accuracy: \", balanced_accuracy_score(y_test, best_xgboost.predict(X_test)))\n",
    "print(confusion_matrix(y_test, best_gradBoost.predict(X_test)).ravel())\n",
    "\n",
    "\n",
    "cols_when_model_builds = best_gradBoost.feature_names_in_\n",
    "X_test=X_test[cols_when_model_builds]\n",
    "\n",
    "print(\"Best GB Accuracy: \", accuracy_score(y_test, best_gradBoost.predict(X_test)))\n",
    "print(\"Balanced GB Accuracy: \", balanced_accuracy_score(y_test, best_gradBoost.predict(X_test)))\n",
    "print(confusion_matrix(y_test, best_gradBoost.predict(X_test)).ravel())\n",
    "print(confusion_matrix(y_test, best_gradBoost.predict(X_test)))\n",
    "\n",
    "\n",
    "print(\"Best rF Accuracy: \", accuracy_score(y_test, best_rF.predict(X_test)))\n",
    "print(\"Balanced rF Accuracy: \", balanced_accuracy_score(y_test, best_rF.predict(X_test)))\n",
    "print(confusion_matrix(y_test, best_rF.predict(X_test)).ravel())\n",
    "\n",
    "\n"
   ]
  },
  {
   "cell_type": "code",
   "execution_count": 8,
   "metadata": {},
   "outputs": [
    {
     "name": "stdout",
     "output_type": "stream",
     "text": [
      "precision recall: 0.9866752433527054\n",
      "[6.96492584e-03 1.38793020e-03 8.93577784e-04 ... 1.40547567e-03\n",
      " 1.94242149e-03 9.17914786e-01]\n"
     ]
    },
    {
     "data": {
      "image/png": "[encoded data removed]",
      "text/plain": [
       "<Figure size 640x480 with 1 Axes>"
      ]
     },
     "metadata": {},
     "output_type": "display_data"
    }
   ],
   "source": [
    "# ALWAYS reset X columns to the right order\n",
    "cols_when_model_builds = best_gradBoost.feature_names_in_\n",
    "X_test=X_test[cols_when_model_builds]\n",
    "\n",
    "y_thing = y_test\n",
    "precision, recall, thresholds = precision_recall_curve(y_thing, best_gradBoost.predict_proba(X_test)[::,1])\n",
    "aaa = auc(recall, precision)\n",
    "print(\"precision recall: \" + str(aaa))\n",
    "\n",
    "y_pred_proba = best_gradBoost.predict_proba(X_test)[::,1]\n",
    "fpr, tpr, _ = roc_curve(y_test, y_pred_proba)\n",
    "auc_thing = roc_auc_score(y_test, y_pred_proba)\n",
    "\n",
    "print(y_pred_proba)\n",
    "plt.plot(fpr,tpr,label=\"AUC=\"+str(auc_thing))\n",
    "plt.ylabel('True Positive Rate')\n",
    "plt.xlabel('False Positive Rate')\n",
    "plt.legend(loc=4)\n",
    "plt.show()\n"
   ]
  },
  {
   "cell_type": "code",
   "execution_count": 15,
   "metadata": {},
   "outputs": [
    {
     "name": "stdout",
     "output_type": "stream",
     "text": [
      "precision recall: 0.9607981856872869\n",
      "[0.00582382 0.00151332 0.00109172 ... 0.00140075 0.00179154 0.96858333]\n"
     ]
    },
    {
     "data": {
      "image/png": "[encoded data removed]",
      "text/plain": [
       "<Figure size 640x480 with 1 Axes>"
      ]
     },
     "metadata": {},
     "output_type": "display_data"
    }
   ],
   "source": [
    "# ALWAYS reset X columns to the right order\n",
    "cols_when_model_builds = nardus_gradBoost.feature_names_in_\n",
    "X_test=X_test[cols_when_model_builds]\n",
    "\n",
    "y_thing = y_test\n",
    "precision, recall, thresholds = precision_recall_curve(y_thing, nardus_gradBoost.predict_proba(X_test)[::,1])\n",
    "aaa = auc(recall, precision)\n",
    "print(\"precision recall: \" + str(aaa))\n",
    "\n",
    "y_pred_proba = nardus_gradBoost.predict_proba(X_test)[::,1]\n",
    "fpr, tpr, _ = roc_curve(y_test, y_pred_proba)\n",
    "auc_thing = roc_auc_score(y_test, y_pred_proba)\n",
    "\n",
    "print(y_pred_proba)\n",
    "plt.plot(fpr,tpr,label=\"AUC=\"+str(auc_thing))\n",
    "plt.ylabel('True Positive Rate')\n",
    "plt.xlabel('False Positive Rate')\n",
    "plt.legend(loc=4)\n",
    "plt.show()\n"
   ]
  },
  {
   "cell_type": "code",
   "execution_count": 10,
   "metadata": {},
   "outputs": [
    {
     "name": "stdout",
     "output_type": "stream",
     "text": [
      "precision recall: 0.9853873015806424\n",
      "[9.9809328e-04 8.7908549e-05 7.8032710e-05 ... 2.4402520e-04 3.1285256e-04\n",
      " 8.8636583e-01]\n"
     ]
    },
    {
     "data": {
      "image/png": "[encoded data removed]",
      "text/plain": [
       "<Figure size 640x480 with 1 Axes>"
      ]
     },
     "metadata": {},
     "output_type": "display_data"
    }
   ],
   "source": [
    "# ALWAYS reset X columns to the right order\n",
    "\n",
    "cols_when_model_builds = best_xgboost.get_booster().feature_names\n",
    "X_test=X_test[cols_when_model_builds]\n",
    "\n",
    "y_thing = y_test\n",
    "precision, recall, thresholds = precision_recall_curve(y_thing, best_xgboost.predict_proba(X_test)[::,1])\n",
    "aaa = auc(recall, precision)\n",
    "print(\"precision recall: \" + str(aaa))\n",
    "\n",
    "y_pred_proba = best_xgboost.predict_proba(X_test)[::,1]\n",
    "fpr, tpr, _ = roc_curve(y_test, y_pred_proba)\n",
    "auc_thing = roc_auc_score(y_test, y_pred_proba)\n",
    "\n",
    "print(y_pred_proba)\n",
    "plt.plot(fpr,tpr,label=\"AUC=\"+str(auc_thing))\n",
    "plt.ylabel('True Positive Rate')\n",
    "plt.xlabel('False Positive Rate')\n",
    "plt.legend(loc=4)\n",
    "plt.show()"
   ]
  },
  {
   "cell_type": "code",
   "execution_count": 11,
   "metadata": {},
   "outputs": [
    {
     "name": "stdout",
     "output_type": "stream",
     "text": [
      "Accuracy: 0.950 (0.013)\n"
     ]
    }
   ],
   "source": [
    "cv = RepeatedStratifiedKFold(n_splits=10, n_repeats=3, random_state=1)\n",
    "n_scores = cross_val_score(nardus_gradBoost, X_test, y_test, scoring='accuracy', cv=cv, n_jobs=-1, error_score='raise')\n",
    "print('Accuracy: %.3f (%.3f)' % (mean(n_scores), std(n_scores)))"
   ]
  },
  {
   "cell_type": "code",
   "execution_count": null,
   "metadata": {},
   "outputs": [
    {
     "name": "stdout",
     "output_type": "stream",
     "text": [
      "Accuracy: 0.946 (0.011)\n"
     ]
    }
   ],
   "source": [
    "cv = RepeatedStratifiedKFold(n_splits=10, n_repeats=3, random_state=1)\n",
    "n_scores = cross_val_score(best_xgboost, X_test, y_test, scoring='accuracy', cv=cv, n_jobs=-1, error_score='raise')\n",
    "print('Accuracy: %.3f (%.3f)' % (mean(n_scores), std(n_scores)))"
   ]
  },
  {
   "cell_type": "code",
   "execution_count": 12,
   "metadata": {},
   "outputs": [
    {
     "name": "stdout",
     "output_type": "stream",
     "text": [
      "Accuracy: 0.948 (0.014)\n"
     ]
    }
   ],
   "source": [
    "cv = RepeatedStratifiedKFold(n_splits=10, n_repeats=3, random_state=1)\n",
    "n_scores = cross_val_score(best_gradBoost, X_test, y_test, scoring='accuracy', cv=cv, n_jobs=-1, error_score='raise')\n",
    "print('Accuracy: %.3f (%.3f)' % (mean(n_scores), std(n_scores)))"
   ]
  },
  {
   "cell_type": "code",
   "execution_count": 13,
   "metadata": {},
   "outputs": [
    {
     "ename": "AttributeError",
     "evalue": "'numpy.ndarray' object has no attribute 'to_numpy'",
     "output_type": "error",
     "traceback": [
      "\u001b[0;31m---------------------------------------------------------------------------\u001b[0m",
      "\u001b[0;31mAttributeError\u001b[0m                            Traceback (most recent call last)",
      "\u001b[1;32m/Users/benjaminli/Documents/coding/scires/project/models.ipynb Cell 26\u001b[0m in \u001b[0;36m<cell line: 4>\u001b[0;34m()\u001b[0m\n\u001b[1;32m      <a href='vscode-notebook-cell:/Users/benjaminli/Documents/coding/scires/project/models.ipynb#X34sZmlsZQ%3D%3D?line=1'>2</a>\u001b[0m fpr, tpr, _ \u001b[39m=\u001b[39m roc_curve(y_test, y_pred_proba)\n\u001b[1;32m      <a href='vscode-notebook-cell:/Users/benjaminli/Documents/coding/scires/project/models.ipynb#X34sZmlsZQ%3D%3D?line=2'>3</a>\u001b[0m auc_thing \u001b[39m=\u001b[39m roc_auc_score(y_test, y_pred_proba)\n\u001b[0;32m----> <a href='vscode-notebook-cell:/Users/benjaminli/Documents/coding/scires/project/models.ipynb#X34sZmlsZQ%3D%3D?line=3'>4</a>\u001b[0m y_thing \u001b[39m=\u001b[39m y_test\u001b[39m.\u001b[39;49mto_numpy()\n\u001b[1;32m      <a href='vscode-notebook-cell:/Users/benjaminli/Documents/coding/scires/project/models.ipynb#X34sZmlsZQ%3D%3D?line=4'>5</a>\u001b[0m precision, recall, thresholds \u001b[39m=\u001b[39m precision_recall_curve(y_thing, best_xgboost\u001b[39m.\u001b[39mpredict_proba(X_test)[::,\u001b[39m1\u001b[39m])\n\u001b[1;32m      <a href='vscode-notebook-cell:/Users/benjaminli/Documents/coding/scires/project/models.ipynb#X34sZmlsZQ%3D%3D?line=5'>6</a>\u001b[0m aaa \u001b[39m=\u001b[39m auc(recall, precision)\n",
      "\u001b[0;31mAttributeError\u001b[0m: 'numpy.ndarray' object has no attribute 'to_numpy'"
     ]
    }
   ],
   "source": [
    "y_pred_proba = best_rF.predict_proba(X_test)[::,1]\n",
    "fpr, tpr, _ = roc_curve(y_test, y_pred_proba)\n",
    "auc_thing = roc_auc_score(y_test, y_pred_proba)\n",
    "y_thing = y_test.to_numpy()\n",
    "precision, recall, thresholds = precision_recall_curve(y_thing, best_xgboost.predict_proba(X_test)[::,1])\n",
    "aaa = auc(recall, precision)\n",
    "\n",
    "print(aaa)\n",
    "print(y_pred_proba)\n",
    "plt.plot(fpr,tpr,label=\"AUC=\"+str(auc_thing))\n",
    "plt.ylabel('True Positive Rate')\n",
    "plt.xlabel('False Positive Rate')\n",
    "plt.legend(loc=4)\n",
    "plt.show()"
   ]
  },
  {
   "cell_type": "code",
   "execution_count": 88,
   "metadata": {},
   "outputs": [
    {
     "name": "stdout",
     "output_type": "stream",
     "text": [
      "[0.0147458  0.00089454 0.79553342 ... 0.04186395 0.59232453 0.00169825]\n"
     ]
    },
    {
     "data": {
      "image/png": "[encoded data removed]",
      "text/plain": [
       "<Figure size 640x480 with 1 Axes>"
      ]
     },
     "metadata": {},
     "output_type": "display_data"
    }
   ],
   "source": [
    "y_pred_proba = lrmodel.predict_proba(X_test)[::,1]\n",
    "fpr, tpr, _ = roc_curve(y_test, y_pred_proba)\n",
    "auc_thing = roc_auc_score(y_test, y_pred_proba)\n",
    "\n",
    "print(y_pred_proba)\n",
    "plt.plot(fpr,tpr,label=\"AUC=\"+str(auc_thing))\n",
    "plt.ylabel('True Positive Rate')\n",
    "plt.xlabel('False Positive Rate')\n",
    "plt.legend(loc=4)\n",
    "plt.show()"
   ]
  },
  {
   "cell_type": "code",
   "execution_count": 16,
   "metadata": {},
   "outputs": [
    {
     "name": "stdout",
     "output_type": "stream",
     "text": [
      "Accuracy: 0.900 (0.023)\n"
     ]
    }
   ],
   "source": [
    "cv = RepeatedStratifiedKFold(n_splits=10, n_repeats=3, random_state=1)\n",
    "n_scores = cross_val_score(best_rF, X_test, y_test, scoring='accuracy', cv=cv, n_jobs=-1, error_score='raise')\n",
    "print('Accuracy: %.3f (%.3f)' % (mean(n_scores), std(n_scores)))"
   ]
  },
  {
   "cell_type": "code",
   "execution_count": 15,
   "metadata": {},
   "outputs": [
    {
     "ename": "NameError",
     "evalue": "name 'lrmodel' is not defined",
     "output_type": "error",
     "traceback": [
      "\u001b[0;31m---------------------------------------------------------------------------\u001b[0m",
      "\u001b[0;31mNameError\u001b[0m                                 Traceback (most recent call last)",
      "\u001b[1;32m/Users/benjaminli/Documents/coding/scires/project/models.ipynb Cell 29\u001b[0m in \u001b[0;36m<cell line: 2>\u001b[0;34m()\u001b[0m\n\u001b[1;32m      <a href='vscode-notebook-cell:/Users/benjaminli/Documents/coding/scires/project/models.ipynb#X35sZmlsZQ%3D%3D?line=0'>1</a>\u001b[0m cv \u001b[39m=\u001b[39m RepeatedStratifiedKFold(n_splits\u001b[39m=\u001b[39m\u001b[39m10\u001b[39m, n_repeats\u001b[39m=\u001b[39m\u001b[39m3\u001b[39m, random_state\u001b[39m=\u001b[39m\u001b[39m1\u001b[39m)\n\u001b[0;32m----> <a href='vscode-notebook-cell:/Users/benjaminli/Documents/coding/scires/project/models.ipynb#X35sZmlsZQ%3D%3D?line=1'>2</a>\u001b[0m n_scores \u001b[39m=\u001b[39m cross_val_score(lrmodel, X_test, y_test, scoring\u001b[39m=\u001b[39m\u001b[39m'\u001b[39m\u001b[39maccuracy\u001b[39m\u001b[39m'\u001b[39m, cv\u001b[39m=\u001b[39mcv, n_jobs\u001b[39m=\u001b[39m\u001b[39m-\u001b[39m\u001b[39m1\u001b[39m, error_score\u001b[39m=\u001b[39m\u001b[39m'\u001b[39m\u001b[39mraise\u001b[39m\u001b[39m'\u001b[39m)\n\u001b[1;32m      <a href='vscode-notebook-cell:/Users/benjaminli/Documents/coding/scires/project/models.ipynb#X35sZmlsZQ%3D%3D?line=2'>3</a>\u001b[0m \u001b[39mprint\u001b[39m(\u001b[39m'\u001b[39m\u001b[39mAccuracy: \u001b[39m\u001b[39m%.3f\u001b[39;00m\u001b[39m (\u001b[39m\u001b[39m%.3f\u001b[39;00m\u001b[39m)\u001b[39m\u001b[39m'\u001b[39m \u001b[39m%\u001b[39m (mean(n_scores), std(n_scores)))\n",
      "\u001b[0;31mNameError\u001b[0m: name 'lrmodel' is not defined"
     ]
    }
   ],
   "source": [
    "cv = RepeatedStratifiedKFold(n_splits=10, n_repeats=3, random_state=1)\n",
    "n_scores = cross_val_score(lrmodel, X_test, y_test, scoring='accuracy', cv=cv, n_jobs=-1, error_score='raise')\n",
    "print('Accuracy: %.3f (%.3f)' % (mean(n_scores), std(n_scores)))"
   ]
  },
  {
   "cell_type": "code",
   "execution_count": 14,
   "metadata": {},
   "outputs": [
    {
     "ename": "NameError",
     "evalue": "name 'knntest' is not defined",
     "output_type": "error",
     "traceback": [
      "\u001b[0;31m---------------------------------------------------------------------------\u001b[0m",
      "\u001b[0;31mNameError\u001b[0m                                 Traceback (most recent call last)",
      "\u001b[1;32m/Users/benjaminli/Documents/coding/scires/project/models.ipynb Cell 30\u001b[0m in \u001b[0;36m<cell line: 2>\u001b[0;34m()\u001b[0m\n\u001b[1;32m      <a href='vscode-notebook-cell:/Users/benjaminli/Documents/coding/scires/project/models.ipynb#X36sZmlsZQ%3D%3D?line=0'>1</a>\u001b[0m cv \u001b[39m=\u001b[39m RepeatedStratifiedKFold(n_splits\u001b[39m=\u001b[39m\u001b[39m10\u001b[39m, n_repeats\u001b[39m=\u001b[39m\u001b[39m3\u001b[39m, random_state\u001b[39m=\u001b[39m\u001b[39m1\u001b[39m)\n\u001b[0;32m----> <a href='vscode-notebook-cell:/Users/benjaminli/Documents/coding/scires/project/models.ipynb#X36sZmlsZQ%3D%3D?line=1'>2</a>\u001b[0m n_scores \u001b[39m=\u001b[39m cross_val_score(knntest, X_test, y_test, scoring\u001b[39m=\u001b[39m\u001b[39m'\u001b[39m\u001b[39maccuracy\u001b[39m\u001b[39m'\u001b[39m, cv\u001b[39m=\u001b[39mcv, n_jobs\u001b[39m=\u001b[39m\u001b[39m-\u001b[39m\u001b[39m1\u001b[39m, error_score\u001b[39m=\u001b[39m\u001b[39m'\u001b[39m\u001b[39mraise\u001b[39m\u001b[39m'\u001b[39m)\n\u001b[1;32m      <a href='vscode-notebook-cell:/Users/benjaminli/Documents/coding/scires/project/models.ipynb#X36sZmlsZQ%3D%3D?line=2'>3</a>\u001b[0m \u001b[39mprint\u001b[39m(\u001b[39m'\u001b[39m\u001b[39mAccuracy: \u001b[39m\u001b[39m%.3f\u001b[39;00m\u001b[39m (\u001b[39m\u001b[39m%.3f\u001b[39;00m\u001b[39m)\u001b[39m\u001b[39m'\u001b[39m \u001b[39m%\u001b[39m (mean(n_scores), std(n_scores)))\n",
      "\u001b[0;31mNameError\u001b[0m: name 'knntest' is not defined"
     ]
    }
   ],
   "source": [
    "cv = RepeatedStratifiedKFold(n_splits=10, n_repeats=3, random_state=1)\n",
    "n_scores = cross_val_score(knntest, X_test, y_test, scoring='accuracy', cv=cv, n_jobs=-1, error_score='raise')\n",
    "print('Accuracy: %.3f (%.3f)' % (mean(n_scores), std(n_scores)))"
   ]
  }
 ],
 "metadata": {
  "kernelspec": {
   "display_name": "Python 3.8.13 ('seq')",
   "language": "python",
   "name": "python3"
  },
  "language_info": {
   "codemirror_mode": {
    "name": "ipython",
    "version": 3
   },
   "file_extension": ".py",
   "mimetype": "text/x-python",
   "name": "python",
   "nbconvert_exporter": "python",
   "pygments_lexer": "ipython3",
   "version": "3.8.13"
  },
  "orig_nbformat": 4,
  "vscode": {
   "interpreter": {
    "hash": "e1360c63304de9435a2a3572d38e6c9496b6fb5d1617f35fbc8638664d664ab4"
   }
  }
 },
 "nbformat": 4,
 "nbformat_minor": 2
}
