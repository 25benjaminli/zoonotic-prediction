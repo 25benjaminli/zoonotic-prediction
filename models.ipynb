{
 "cells": [
  {
   "cell_type": "code",
   "execution_count": 2,
   "metadata": {},
   "outputs": [],
   "source": [
    "from itertools import permutations, product\n",
    "\n",
    "import functools\n",
    "\n",
    "import tqdm\n",
    "\n",
    "import pandas as pd\n",
    "\n",
    "from sklearn.linear_model import LogisticRegression\n",
    "from sklearn.neighbors import KNeighborsClassifier\n",
    "from sklearn.tree import DecisionTreeClassifier\n",
    "from sklearn.ensemble import GradientBoostingClassifier\n",
    "from sklearn.model_selection import RepeatedStratifiedKFold, train_test_split, cross_val_score\n",
    "from sklearn.metrics import accuracy_score, auc, confusion_matrix, balanced_accuracy_score, precision_recall_curve, auc, roc_curve, roc_auc_score\n",
    "from sklearn.inspection import permutation_importance\n",
    "\n",
    "from imblearn.ensemble import BalancedBaggingClassifier\n",
    "from xgboost import XGBClassifier\n",
    "\n",
    "import numpy as np\n",
    "from numpy import mean,std\n",
    "\n",
    "import pickle\n",
    "\n",
    "from os import path\n",
    "\n",
    "import matplotlib.pyplot as plt\n",
    "\n",
    "from warnings import simplefilter\n",
    "from collections import OrderedDict\n",
    "\n",
    "simplefilter(action=\"ignore\", category=pd.errors.PerformanceWarning)\n",
    "\n"
   ]
  },
  {
   "cell_type": "code",
   "execution_count": 5,
   "metadata": {},
   "outputs": [
    {
     "name": "stdout",
     "output_type": "stream",
     "text": [
      "Series([], Name: isZoonotic, dtype: float64)\n"
     ]
    }
   ],
   "source": [
    "df = pd.read_csv('info.csv')\n",
    "# print(df.loc[:, df.columns != 'isZoonotic'])\n",
    "# print(df)\n",
    "# print(len(df.columns))\n",
    "\n",
    "X_train, X_test, y_train, y_test = train_test_split(df.loc[:, df.columns != 'isZoonotic'], df['isZoonotic'], test_size=0.2, random_state=1)\n",
    "for col in df.columns:\n",
    "    col != 'isZoonotic' and X_train[col].isnull().sum() != 0 and print(X_train[col].isnull().sum())\n"
   ]
  },
  {
   "cell_type": "code",
   "execution_count": 6,
   "metadata": {},
   "outputs": [
    {
     "data": {
      "text/html": [
       "<style>#sk-container-id-1 {color: black;background-color: white;}#sk-container-id-1 pre{padding: 0;}#sk-container-id-1 div.sk-toggleable {background-color: white;}#sk-container-id-1 label.sk-toggleable__label {cursor: pointer;display: block;width: 100%;margin-bottom: 0;padding: 0.3em;box-sizing: border-box;text-align: center;}#sk-container-id-1 label.sk-toggleable__label-arrow:before {content: \"▸\";float: left;margin-right: 0.25em;color: #696969;}#sk-container-id-1 label.sk-toggleable__label-arrow:hover:before {color: black;}#sk-container-id-1 div.sk-estimator:hover label.sk-toggleable__label-arrow:before {color: black;}#sk-container-id-1 div.sk-toggleable__content {max-height: 0;max-width: 0;overflow: hidden;text-align: left;background-color: #f0f8ff;}#sk-container-id-1 div.sk-toggleable__content pre {margin: 0.2em;color: black;border-radius: 0.25em;background-color: #f0f8ff;}#sk-container-id-1 input.sk-toggleable__control:checked~div.sk-toggleable__content {max-height: 200px;max-width: 100%;overflow: auto;}#sk-container-id-1 input.sk-toggleable__control:checked~label.sk-toggleable__label-arrow:before {content: \"▾\";}#sk-container-id-1 div.sk-estimator input.sk-toggleable__control:checked~label.sk-toggleable__label {background-color: #d4ebff;}#sk-container-id-1 div.sk-label input.sk-toggleable__control:checked~label.sk-toggleable__label {background-color: #d4ebff;}#sk-container-id-1 input.sk-hidden--visually {border: 0;clip: rect(1px 1px 1px 1px);clip: rect(1px, 1px, 1px, 1px);height: 1px;margin: -1px;overflow: hidden;padding: 0;position: absolute;width: 1px;}#sk-container-id-1 div.sk-estimator {font-family: monospace;background-color: #f0f8ff;border: 1px dotted black;border-radius: 0.25em;box-sizing: border-box;margin-bottom: 0.5em;}#sk-container-id-1 div.sk-estimator:hover {background-color: #d4ebff;}#sk-container-id-1 div.sk-parallel-item::after {content: \"\";width: 100%;border-bottom: 1px solid gray;flex-grow: 1;}#sk-container-id-1 div.sk-label:hover label.sk-toggleable__label {background-color: #d4ebff;}#sk-container-id-1 div.sk-serial::before {content: \"\";position: absolute;border-left: 1px solid gray;box-sizing: border-box;top: 0;bottom: 0;left: 50%;z-index: 0;}#sk-container-id-1 div.sk-serial {display: flex;flex-direction: column;align-items: center;background-color: white;padding-right: 0.2em;padding-left: 0.2em;position: relative;}#sk-container-id-1 div.sk-item {position: relative;z-index: 1;}#sk-container-id-1 div.sk-parallel {display: flex;align-items: stretch;justify-content: center;background-color: white;position: relative;}#sk-container-id-1 div.sk-item::before, #sk-container-id-1 div.sk-parallel-item::before {content: \"\";position: absolute;border-left: 1px solid gray;box-sizing: border-box;top: 0;bottom: 0;left: 50%;z-index: -1;}#sk-container-id-1 div.sk-parallel-item {display: flex;flex-direction: column;z-index: 1;position: relative;background-color: white;}#sk-container-id-1 div.sk-parallel-item:first-child::after {align-self: flex-end;width: 50%;}#sk-container-id-1 div.sk-parallel-item:last-child::after {align-self: flex-start;width: 50%;}#sk-container-id-1 div.sk-parallel-item:only-child::after {width: 0;}#sk-container-id-1 div.sk-dashed-wrapped {border: 1px dashed gray;margin: 0 0.4em 0.5em 0.4em;box-sizing: border-box;padding-bottom: 0.4em;background-color: white;}#sk-container-id-1 div.sk-label label {font-family: monospace;font-weight: bold;display: inline-block;line-height: 1.2em;}#sk-container-id-1 div.sk-label-container {text-align: center;}#sk-container-id-1 div.sk-container {/* jupyter's `normalize.less` sets `[hidden] { display: none; }` but bootstrap.min.css set `[hidden] { display: none !important; }` so we also need the `!important` here to be able to override the default hidden behavior on the sphinx rendered scikit-learn.org. See: https://github.com/scikit-learn/scikit-learn/issues/21755 */display: inline-block !important;position: relative;}#sk-container-id-1 div.sk-text-repr-fallback {display: none;}</style><div id=\"sk-container-id-1\" class=\"sk-top-container\"><div class=\"sk-text-repr-fallback\"><pre>LogisticRegression(fit_intercept=False, max_iter=1000,\n",
       "                   multi_class=&#x27;multinomial&#x27;, random_state=42, solver=&#x27;saga&#x27;,\n",
       "                   tol=0.001)</pre><b>In a Jupyter environment, please rerun this cell to show the HTML representation or trust the notebook. <br />On GitHub, the HTML representation is unable to render, please try loading this page with nbviewer.org.</b></div><div class=\"sk-container\" hidden><div class=\"sk-item\"><div class=\"sk-estimator sk-toggleable\"><input class=\"sk-toggleable__control sk-hidden--visually\" id=\"sk-estimator-id-1\" type=\"checkbox\" checked><label for=\"sk-estimator-id-1\" class=\"sk-toggleable__label sk-toggleable__label-arrow\">LogisticRegression</label><div class=\"sk-toggleable__content\"><pre>LogisticRegression(fit_intercept=False, max_iter=1000,\n",
       "                   multi_class=&#x27;multinomial&#x27;, random_state=42, solver=&#x27;saga&#x27;,\n",
       "                   tol=0.001)</pre></div></div></div></div></div>"
      ],
      "text/plain": [
       "LogisticRegression(fit_intercept=False, max_iter=1000,\n",
       "                   multi_class='multinomial', random_state=42, solver='saga',\n",
       "                   tol=0.001)"
      ]
     },
     "execution_count": 6,
     "metadata": {},
     "output_type": "execute_result"
    }
   ],
   "source": [
    "lrmodel = LogisticRegression(\n",
    "    multi_class=\"multinomial\", max_iter=1000,\n",
    "    fit_intercept=False, tol=0.001, solver='saga', random_state=42)\n",
    "lrmodel.fit(X_train, y_train)"
   ]
  },
  {
   "cell_type": "code",
   "execution_count": 7,
   "metadata": {},
   "outputs": [
    {
     "name": "stdout",
     "output_type": "stream",
     "text": [
      "      tggc  ttcc  tatg  gtat  aatg  acag  atgg  tact  tcaa  aggc  ...  ggca  \\\n",
      "1302     8    15    16    12    20    11     9    17    12     6  ...     6   \n",
      "6596    14    74    40    46    60    26    28    46    69    15  ...    24   \n",
      "4095    13    14    22    10    15     7    10    14    13     3  ...     4   \n",
      "7284   596   815   619   630   939   551   688   532  1294   287  ...   533   \n",
      "4899    40    57    82    52    75    25    57    74    55    29  ...    20   \n",
      "6289    41    51    56    30    75    50    66    33    83    28  ...    39   \n",
      "7830   267   118    20    34    38   109   141    38   115   255  ...   312   \n",
      "2048   243   201    33    71    25   100   107    73   178   246  ...   226   \n",
      "7122    97   129   192   220   319   141   171   271   284    52  ...    63   \n",
      "7488    13     5     8     5     9     2     4     4    15     9  ...     7   \n",
      "\n",
      "      gacc  agct  agta  tatc  acgt  cact  cttg  ctat  tctt  \n",
      "1302     6     8     4     8    10     5    16    12    16  \n",
      "6596    12    32    56    61    24    17    49    39    97  \n",
      "4095     7     7    11     4     7     8    10     8    17  \n",
      "7284   361   626   430   814   434   395   702   419  1066  \n",
      "4899    35    30    23    44    27    32    63    70    60  \n",
      "6289    25    40    30    46    21    44    52    31    62  \n",
      "7830   469   154    53    42   193   100    50    21    71  \n",
      "2048   440   248    69    79   269    95   143    34   161  \n",
      "7122    52   166   246   205   163   160   181   198   269  \n",
      "7488     6     5     7     5     7     8     4     8     9  \n",
      "\n",
      "[10 rows x 256 columns]\n",
      "0.8658536585365854\n"
     ]
    }
   ],
   "source": [
    "# all 0s for some reason\n",
    "print(X_test[:10])\n",
    "predictions = lrmodel.predict(X_test)\n",
    "print(accuracy_score(y_test, predictions))"
   ]
  },
  {
   "cell_type": "code",
   "execution_count": 8,
   "metadata": {},
   "outputs": [
    {
     "name": "stdout",
     "output_type": "stream",
     "text": [
      "[-1.00077355e-04 -2.21716298e-05 -1.12589697e-04 -3.12945811e-05\n",
      " -5.60850947e-05  7.16889711e-05 -1.23146683e-04 -9.45145806e-06\n",
      " -2.23049633e-04 -6.74218830e-06 -1.44735451e-05  5.51764194e-05\n",
      " -4.58302713e-05 -2.20939378e-05 -1.02321876e-04 -3.63198926e-05\n",
      "  2.23245319e-05 -1.77573679e-04  2.45316665e-05 -1.93231885e-04\n",
      "  1.16943467e-04  2.23690780e-05  6.54925247e-07 -1.52051269e-04\n",
      "  4.54214582e-05 -5.15778555e-05  6.43144986e-05 -4.42385469e-05\n",
      "  3.99985940e-05 -1.57707559e-04  1.20973832e-04 -6.06829666e-06\n",
      " -6.34827934e-06 -6.96424694e-05 -2.01068449e-04 -1.80031602e-04\n",
      " -1.53804241e-04 -1.85223431e-05 -3.86825061e-06 -7.95205383e-06\n",
      "  2.20248138e-05  2.62013431e-05 -1.62273722e-04 -5.45293284e-05\n",
      " -2.71168138e-04  7.86248585e-05 -2.18448593e-05  3.38993046e-05\n",
      " -3.35067775e-05 -5.18445080e-05  7.79860282e-05  1.02241427e-04\n",
      " -4.72981218e-05 -7.78649494e-05 -6.90881362e-05 -5.21578375e-05\n",
      " -7.76810898e-05 -6.89614333e-05 -1.02381773e-04  5.01298777e-05\n",
      "  1.37419704e-04  1.36801977e-04 -1.05194550e-04  8.51143785e-05\n",
      "  1.20370530e-04 -3.42532626e-05  7.20720596e-05 -1.02392293e-04\n",
      " -3.12306751e-04 -2.98789051e-05 -1.24942475e-04  1.56595483e-04\n",
      " -7.52108609e-05 -1.17650417e-04 -8.23807926e-05  7.04642334e-05\n",
      "  1.03978892e-04  8.08180352e-05 -9.92925585e-05 -2.32234746e-04\n",
      " -8.16123680e-05  6.81252157e-06 -9.43582589e-05 -3.23079757e-05\n",
      "  1.53029652e-04 -1.18987536e-05  1.71774515e-04  5.76776832e-05\n",
      " -1.51922801e-04 -2.34273102e-05 -2.02802645e-04 -1.44584653e-04\n",
      " -1.53253073e-04  4.93964956e-05  8.97162029e-05 -6.91464580e-05\n",
      "  2.63874799e-05  1.20207159e-04 -1.02412179e-04 -9.54335878e-05\n",
      " -6.59664215e-08  9.20446014e-05 -9.80540594e-05 -1.01022480e-04\n",
      " -9.33616317e-05  8.27083890e-05 -5.69765991e-05 -1.29468067e-04\n",
      " -7.86522911e-05  6.84281305e-06 -6.86282188e-05 -8.18989078e-05\n",
      " -1.66933871e-04 -8.11686544e-05  1.26570096e-04 -7.84184467e-05\n",
      " -6.16273335e-05 -4.29706712e-05 -9.21872175e-05 -5.11347323e-05\n",
      "  1.26106431e-04  2.78137175e-06 -1.68352442e-04 -4.02448382e-05\n",
      " -5.09564944e-05 -5.02565513e-05 -9.78864046e-05 -1.29623263e-04\n",
      "  4.60156674e-05 -1.37129839e-04  6.19112607e-05 -4.53444721e-05\n",
      " -6.57521130e-05  2.42367086e-05 -1.58428197e-05 -1.23840323e-04\n",
      " -2.05155631e-04  1.25064818e-06  5.16342299e-06 -9.56864939e-05\n",
      " -6.58356343e-05  3.62037686e-05 -6.07737425e-07  7.11334013e-05\n",
      "  3.76914858e-05 -1.49629373e-04 -8.48343981e-05 -1.95724415e-04\n",
      " -5.45440607e-05 -8.02958529e-06  7.13440602e-05 -3.00910489e-05\n",
      " -1.04570585e-04 -3.46351688e-05 -2.57236935e-05 -2.52726561e-05\n",
      "  3.70625011e-07 -2.50756095e-06  4.27987770e-05 -1.13430414e-05\n",
      " -2.01040572e-04 -3.57242674e-06  6.30556602e-05  9.45664694e-05\n",
      " -1.47802505e-04 -1.23230506e-05 -1.99068200e-04 -3.19976138e-05\n",
      " -6.78160300e-05 -1.30291034e-04  3.69887253e-05  8.09217057e-05\n",
      " -1.92502819e-05 -2.34195445e-05 -6.95361753e-05 -2.65864820e-04\n",
      " -2.52959010e-05 -2.59918191e-05  5.30036893e-05 -3.28069399e-05\n",
      " -3.10976078e-05  4.73923322e-05 -8.19535127e-05  2.18815473e-04\n",
      "  1.58912655e-04 -7.22284676e-05 -2.39697518e-05 -6.25016468e-05\n",
      "  9.91601241e-05 -1.55353769e-05 -1.10375789e-04  6.06087910e-06\n",
      " -1.42948716e-04 -4.80745351e-05 -1.82028865e-04 -1.20446133e-04\n",
      " -2.32788217e-05 -1.63492044e-05  1.32133427e-05 -1.17099981e-04\n",
      " -1.92046423e-04  6.23452981e-05 -7.48136119e-05 -1.42495771e-04\n",
      " -1.94624783e-05 -8.95822681e-05 -1.47915448e-04 -1.00250439e-04\n",
      " -8.13688823e-05  7.71892879e-05 -6.00723706e-05 -1.13215540e-04\n",
      " -1.05734671e-04  1.35545262e-04 -1.53153716e-04 -1.04835855e-06\n",
      " -5.01212560e-05 -6.53055392e-05 -1.86038836e-05 -2.29161018e-04\n",
      " -2.32609084e-06 -1.95400823e-04 -1.15442454e-04 -1.18388165e-04\n",
      "  1.08305493e-05  2.51527930e-04 -1.34236498e-04 -2.09522785e-04\n",
      "  1.17491390e-04 -4.55071782e-05 -1.06463731e-04 -6.59108056e-05\n",
      " -9.42001038e-05  2.53195123e-05 -8.16267951e-06 -2.87971082e-05\n",
      " -1.36098496e-05 -3.86243808e-05 -4.13455363e-05  7.87442400e-05\n",
      " -5.66287772e-05  5.29875021e-05 -9.23892653e-05  4.03334905e-05\n",
      "  2.01170207e-05  4.65870628e-05 -5.15524673e-05 -4.63616871e-05\n",
      " -1.08885967e-04  6.48406957e-06 -1.47369610e-05 -7.60579484e-05\n",
      " -2.58329453e-05 -1.50787428e-04 -9.48623728e-06 -6.93114581e-05]\n"
     ]
    },
    {
     "data": {
      "image/png": "[encoded data removed]",
      "text/plain": [
       "<Figure size 640x480 with 1 Axes>"
      ]
     },
     "metadata": {},
     "output_type": "display_data"
    }
   ],
   "source": [
    "results = lrmodel.coef_[0]\n",
    "print(results)\n",
    "\n",
    "l = zip([x for x in X_test.columns.values],results)\n",
    "l = list(l)\n",
    "res = sorted(l, key= lambda x: x[1])\n",
    "\n",
    "plt.xticks(rotation=90)\n",
    "plt.tick_params(axis='x', which='major', labelsize=5)\n",
    "\n",
    "plt.bar([x[0] for x in res[200:]], [x[1] for x in res[200:]])\n",
    "plt.show()"
   ]
  },
  {
   "cell_type": "code",
   "execution_count": 9,
   "metadata": {},
   "outputs": [
    {
     "data": {
      "text/html": [
       "<style>#sk-container-id-2 {color: black;background-color: white;}#sk-container-id-2 pre{padding: 0;}#sk-container-id-2 div.sk-toggleable {background-color: white;}#sk-container-id-2 label.sk-toggleable__label {cursor: pointer;display: block;width: 100%;margin-bottom: 0;padding: 0.3em;box-sizing: border-box;text-align: center;}#sk-container-id-2 label.sk-toggleable__label-arrow:before {content: \"▸\";float: left;margin-right: 0.25em;color: #696969;}#sk-container-id-2 label.sk-toggleable__label-arrow:hover:before {color: black;}#sk-container-id-2 div.sk-estimator:hover label.sk-toggleable__label-arrow:before {color: black;}#sk-container-id-2 div.sk-toggleable__content {max-height: 0;max-width: 0;overflow: hidden;text-align: left;background-color: #f0f8ff;}#sk-container-id-2 div.sk-toggleable__content pre {margin: 0.2em;color: black;border-radius: 0.25em;background-color: #f0f8ff;}#sk-container-id-2 input.sk-toggleable__control:checked~div.sk-toggleable__content {max-height: 200px;max-width: 100%;overflow: auto;}#sk-container-id-2 input.sk-toggleable__control:checked~label.sk-toggleable__label-arrow:before {content: \"▾\";}#sk-container-id-2 div.sk-estimator input.sk-toggleable__control:checked~label.sk-toggleable__label {background-color: #d4ebff;}#sk-container-id-2 div.sk-label input.sk-toggleable__control:checked~label.sk-toggleable__label {background-color: #d4ebff;}#sk-container-id-2 input.sk-hidden--visually {border: 0;clip: rect(1px 1px 1px 1px);clip: rect(1px, 1px, 1px, 1px);height: 1px;margin: -1px;overflow: hidden;padding: 0;position: absolute;width: 1px;}#sk-container-id-2 div.sk-estimator {font-family: monospace;background-color: #f0f8ff;border: 1px dotted black;border-radius: 0.25em;box-sizing: border-box;margin-bottom: 0.5em;}#sk-container-id-2 div.sk-estimator:hover {background-color: #d4ebff;}#sk-container-id-2 div.sk-parallel-item::after {content: \"\";width: 100%;border-bottom: 1px solid gray;flex-grow: 1;}#sk-container-id-2 div.sk-label:hover label.sk-toggleable__label {background-color: #d4ebff;}#sk-container-id-2 div.sk-serial::before {content: \"\";position: absolute;border-left: 1px solid gray;box-sizing: border-box;top: 0;bottom: 0;left: 50%;z-index: 0;}#sk-container-id-2 div.sk-serial {display: flex;flex-direction: column;align-items: center;background-color: white;padding-right: 0.2em;padding-left: 0.2em;position: relative;}#sk-container-id-2 div.sk-item {position: relative;z-index: 1;}#sk-container-id-2 div.sk-parallel {display: flex;align-items: stretch;justify-content: center;background-color: white;position: relative;}#sk-container-id-2 div.sk-item::before, #sk-container-id-2 div.sk-parallel-item::before {content: \"\";position: absolute;border-left: 1px solid gray;box-sizing: border-box;top: 0;bottom: 0;left: 50%;z-index: -1;}#sk-container-id-2 div.sk-parallel-item {display: flex;flex-direction: column;z-index: 1;position: relative;background-color: white;}#sk-container-id-2 div.sk-parallel-item:first-child::after {align-self: flex-end;width: 50%;}#sk-container-id-2 div.sk-parallel-item:last-child::after {align-self: flex-start;width: 50%;}#sk-container-id-2 div.sk-parallel-item:only-child::after {width: 0;}#sk-container-id-2 div.sk-dashed-wrapped {border: 1px dashed gray;margin: 0 0.4em 0.5em 0.4em;box-sizing: border-box;padding-bottom: 0.4em;background-color: white;}#sk-container-id-2 div.sk-label label {font-family: monospace;font-weight: bold;display: inline-block;line-height: 1.2em;}#sk-container-id-2 div.sk-label-container {text-align: center;}#sk-container-id-2 div.sk-container {/* jupyter's `normalize.less` sets `[hidden] { display: none; }` but bootstrap.min.css set `[hidden] { display: none !important; }` so we also need the `!important` here to be able to override the default hidden behavior on the sphinx rendered scikit-learn.org. See: https://github.com/scikit-learn/scikit-learn/issues/21755 */display: inline-block !important;position: relative;}#sk-container-id-2 div.sk-text-repr-fallback {display: none;}</style><div id=\"sk-container-id-2\" class=\"sk-top-container\"><div class=\"sk-text-repr-fallback\"><pre>BalancedBaggingClassifier(base_estimator=KNeighborsClassifier(n_jobs=1,\n",
       "                                                              n_neighbors=1),\n",
       "                          n_jobs=1)</pre><b>In a Jupyter environment, please rerun this cell to show the HTML representation or trust the notebook. <br />On GitHub, the HTML representation is unable to render, please try loading this page with nbviewer.org.</b></div><div class=\"sk-container\" hidden><div class=\"sk-item sk-dashed-wrapped\"><div class=\"sk-label-container\"><div class=\"sk-label sk-toggleable\"><input class=\"sk-toggleable__control sk-hidden--visually\" id=\"sk-estimator-id-2\" type=\"checkbox\" ><label for=\"sk-estimator-id-2\" class=\"sk-toggleable__label sk-toggleable__label-arrow\">BalancedBaggingClassifier</label><div class=\"sk-toggleable__content\"><pre>BalancedBaggingClassifier(base_estimator=KNeighborsClassifier(n_jobs=1,\n",
       "                                                              n_neighbors=1),\n",
       "                          n_jobs=1)</pre></div></div></div><div class=\"sk-parallel\"><div class=\"sk-parallel-item\"><div class=\"sk-item\"><div class=\"sk-label-container\"><div class=\"sk-label sk-toggleable\"><input class=\"sk-toggleable__control sk-hidden--visually\" id=\"sk-estimator-id-3\" type=\"checkbox\" ><label for=\"sk-estimator-id-3\" class=\"sk-toggleable__label sk-toggleable__label-arrow\">base_estimator: KNeighborsClassifier</label><div class=\"sk-toggleable__content\"><pre>KNeighborsClassifier(n_jobs=1, n_neighbors=1)</pre></div></div></div><div class=\"sk-serial\"><div class=\"sk-item\"><div class=\"sk-estimator sk-toggleable\"><input class=\"sk-toggleable__control sk-hidden--visually\" id=\"sk-estimator-id-4\" type=\"checkbox\" ><label for=\"sk-estimator-id-4\" class=\"sk-toggleable__label sk-toggleable__label-arrow\">KNeighborsClassifier</label><div class=\"sk-toggleable__content\"><pre>KNeighborsClassifier(n_jobs=1, n_neighbors=1)</pre></div></div></div></div></div></div></div></div></div></div>"
      ],
      "text/plain": [
       "BalancedBaggingClassifier(base_estimator=KNeighborsClassifier(n_jobs=1,\n",
       "                                                              n_neighbors=1),\n",
       "                          n_jobs=1)"
      ]
     },
     "execution_count": 9,
     "metadata": {},
     "output_type": "execute_result"
    }
   ],
   "source": [
    "knntest = BalancedBaggingClassifier(base_estimator=KNeighborsClassifier(n_neighbors = 1, n_jobs = 1), n_estimators = 10, n_jobs = 1)\n",
    "\n",
    "knntest.fit(X_train, y_train)\n",
    "# knn = KNeighborsClassifier(n_neighbors=5)"
   ]
  },
  {
   "cell_type": "code",
   "execution_count": 10,
   "metadata": {},
   "outputs": [
    {
     "name": "stdout",
     "output_type": "stream",
     "text": [
      "[0. 0. 0. 0. 0. 1. 0. 0. 0. 0.]\n",
      "0.9178154825026511\n"
     ]
    }
   ],
   "source": [
    "predictions = knntest.predict(X_test)\n",
    "print(predictions[:10])\n",
    "print(accuracy_score(y_test, predictions))"
   ]
  },
  {
   "cell_type": "code",
   "execution_count": 11,
   "metadata": {},
   "outputs": [
    {
     "data": {
      "text/html": [
       "<style>#sk-container-id-3 {color: black;background-color: white;}#sk-container-id-3 pre{padding: 0;}#sk-container-id-3 div.sk-toggleable {background-color: white;}#sk-container-id-3 label.sk-toggleable__label {cursor: pointer;display: block;width: 100%;margin-bottom: 0;padding: 0.3em;box-sizing: border-box;text-align: center;}#sk-container-id-3 label.sk-toggleable__label-arrow:before {content: \"▸\";float: left;margin-right: 0.25em;color: #696969;}#sk-container-id-3 label.sk-toggleable__label-arrow:hover:before {color: black;}#sk-container-id-3 div.sk-estimator:hover label.sk-toggleable__label-arrow:before {color: black;}#sk-container-id-3 div.sk-toggleable__content {max-height: 0;max-width: 0;overflow: hidden;text-align: left;background-color: #f0f8ff;}#sk-container-id-3 div.sk-toggleable__content pre {margin: 0.2em;color: black;border-radius: 0.25em;background-color: #f0f8ff;}#sk-container-id-3 input.sk-toggleable__control:checked~div.sk-toggleable__content {max-height: 200px;max-width: 100%;overflow: auto;}#sk-container-id-3 input.sk-toggleable__control:checked~label.sk-toggleable__label-arrow:before {content: \"▾\";}#sk-container-id-3 div.sk-estimator input.sk-toggleable__control:checked~label.sk-toggleable__label {background-color: #d4ebff;}#sk-container-id-3 div.sk-label input.sk-toggleable__control:checked~label.sk-toggleable__label {background-color: #d4ebff;}#sk-container-id-3 input.sk-hidden--visually {border: 0;clip: rect(1px 1px 1px 1px);clip: rect(1px, 1px, 1px, 1px);height: 1px;margin: -1px;overflow: hidden;padding: 0;position: absolute;width: 1px;}#sk-container-id-3 div.sk-estimator {font-family: monospace;background-color: #f0f8ff;border: 1px dotted black;border-radius: 0.25em;box-sizing: border-box;margin-bottom: 0.5em;}#sk-container-id-3 div.sk-estimator:hover {background-color: #d4ebff;}#sk-container-id-3 div.sk-parallel-item::after {content: \"\";width: 100%;border-bottom: 1px solid gray;flex-grow: 1;}#sk-container-id-3 div.sk-label:hover label.sk-toggleable__label {background-color: #d4ebff;}#sk-container-id-3 div.sk-serial::before {content: \"\";position: absolute;border-left: 1px solid gray;box-sizing: border-box;top: 0;bottom: 0;left: 50%;z-index: 0;}#sk-container-id-3 div.sk-serial {display: flex;flex-direction: column;align-items: center;background-color: white;padding-right: 0.2em;padding-left: 0.2em;position: relative;}#sk-container-id-3 div.sk-item {position: relative;z-index: 1;}#sk-container-id-3 div.sk-parallel {display: flex;align-items: stretch;justify-content: center;background-color: white;position: relative;}#sk-container-id-3 div.sk-item::before, #sk-container-id-3 div.sk-parallel-item::before {content: \"\";position: absolute;border-left: 1px solid gray;box-sizing: border-box;top: 0;bottom: 0;left: 50%;z-index: -1;}#sk-container-id-3 div.sk-parallel-item {display: flex;flex-direction: column;z-index: 1;position: relative;background-color: white;}#sk-container-id-3 div.sk-parallel-item:first-child::after {align-self: flex-end;width: 50%;}#sk-container-id-3 div.sk-parallel-item:last-child::after {align-self: flex-start;width: 50%;}#sk-container-id-3 div.sk-parallel-item:only-child::after {width: 0;}#sk-container-id-3 div.sk-dashed-wrapped {border: 1px dashed gray;margin: 0 0.4em 0.5em 0.4em;box-sizing: border-box;padding-bottom: 0.4em;background-color: white;}#sk-container-id-3 div.sk-label label {font-family: monospace;font-weight: bold;display: inline-block;line-height: 1.2em;}#sk-container-id-3 div.sk-label-container {text-align: center;}#sk-container-id-3 div.sk-container {/* jupyter's `normalize.less` sets `[hidden] { display: none; }` but bootstrap.min.css set `[hidden] { display: none !important; }` so we also need the `!important` here to be able to override the default hidden behavior on the sphinx rendered scikit-learn.org. See: https://github.com/scikit-learn/scikit-learn/issues/21755 */display: inline-block !important;position: relative;}#sk-container-id-3 div.sk-text-repr-fallback {display: none;}</style><div id=\"sk-container-id-3\" class=\"sk-top-container\"><div class=\"sk-text-repr-fallback\"><pre>BalancedBaggingClassifier(base_estimator=DecisionTreeClassifier(max_features=&#x27;sqrt&#x27;))</pre><b>In a Jupyter environment, please rerun this cell to show the HTML representation or trust the notebook. <br />On GitHub, the HTML representation is unable to render, please try loading this page with nbviewer.org.</b></div><div class=\"sk-container\" hidden><div class=\"sk-item sk-dashed-wrapped\"><div class=\"sk-label-container\"><div class=\"sk-label sk-toggleable\"><input class=\"sk-toggleable__control sk-hidden--visually\" id=\"sk-estimator-id-5\" type=\"checkbox\" ><label for=\"sk-estimator-id-5\" class=\"sk-toggleable__label sk-toggleable__label-arrow\">BalancedBaggingClassifier</label><div class=\"sk-toggleable__content\"><pre>BalancedBaggingClassifier(base_estimator=DecisionTreeClassifier(max_features=&#x27;sqrt&#x27;))</pre></div></div></div><div class=\"sk-parallel\"><div class=\"sk-parallel-item\"><div class=\"sk-item\"><div class=\"sk-label-container\"><div class=\"sk-label sk-toggleable\"><input class=\"sk-toggleable__control sk-hidden--visually\" id=\"sk-estimator-id-6\" type=\"checkbox\" ><label for=\"sk-estimator-id-6\" class=\"sk-toggleable__label sk-toggleable__label-arrow\">base_estimator: DecisionTreeClassifier</label><div class=\"sk-toggleable__content\"><pre>DecisionTreeClassifier(max_features=&#x27;sqrt&#x27;)</pre></div></div></div><div class=\"sk-serial\"><div class=\"sk-item\"><div class=\"sk-estimator sk-toggleable\"><input class=\"sk-toggleable__control sk-hidden--visually\" id=\"sk-estimator-id-7\" type=\"checkbox\" ><label for=\"sk-estimator-id-7\" class=\"sk-toggleable__label sk-toggleable__label-arrow\">DecisionTreeClassifier</label><div class=\"sk-toggleable__content\"><pre>DecisionTreeClassifier(max_features=&#x27;sqrt&#x27;)</pre></div></div></div></div></div></div></div></div></div></div>"
      ],
      "text/plain": [
       "BalancedBaggingClassifier(base_estimator=DecisionTreeClassifier(max_features='sqrt'))"
      ]
     },
     "execution_count": 11,
     "metadata": {},
     "output_type": "execute_result"
    }
   ],
   "source": [
    "\n",
    "randforest = BalancedBaggingClassifier(base_estimator=DecisionTreeClassifier(max_features=\"sqrt\"))\n",
    "\n",
    "randforest.fit(X_train, y_train)"
   ]
  },
  {
   "cell_type": "code",
   "execution_count": null,
   "metadata": {},
   "outputs": [],
   "source": [
    "def saveModel(model, name, X_test, y_test, params=None, dir='curr_models', gradBoost=False, xgBoost=False):\n",
    "    \n",
    "    \n",
    "    if not path.exists(f\"{dir}/{name}.pkl\"):\n",
    "        print(\"does not exist\")\n",
    "\n",
    "        pickle.dump(model, open(f'{dir}/{name}.pkl', 'wb'))\n",
    "    else:\n",
    "        predictions = model.predict(X_test)\n",
    "        currAcc = accuracy_score(y_test, predictions)\n",
    "\n",
    "        pickled_model = pickle.load(open(f'{dir}/{name}.pkl', 'rb'))\n",
    "        \n",
    "        if gradBoost:\n",
    "            # get features here \n",
    "            cols_when_model_builds = pickled_model.feature_names_in_\n",
    "            X_test=X_test[cols_when_model_builds]\n",
    "        elif xgBoost:\n",
    "            # put features into the same order that the model was trained in\n",
    "            cols_when_model_builds = pickled_model.get_booster().feature_names\n",
    "            X_test=X_test[cols_when_model_builds]\n",
    "        \n",
    "        # .values?\n",
    "        \n",
    "        picklePredictions=pickled_model.predict(X_test)\n",
    "        pickleAcc=accuracy_score(y_test, picklePredictions)\n",
    "        \n",
    "        if currAcc > pickleAcc:\n",
    "            print(\"update!\")\n",
    "            print(confusion_matrix(y_test, picklePredictions))\n",
    "\n",
    "            print(\"curr\", currAcc, \"pickle\", pickleAcc)\n",
    "            pickle.dump(model, open(f'{dir}/{name}.pkl', 'wb'))\n",
    "\n",
    "            if params != None:\n",
    "                pickle.dump(params, open(f'{dir}/{name}-params.pkl', 'wb'))\n",
    "        else:\n",
    "            print(\"no update\")\n",
    "            print(\"curr\", currAcc, \"pickle\", pickleAcc)\n",
    "            print(confusion_matrix(y_test, picklePredictions))\n",
    "\n",
    "            model=pickled_model\n",
    "    return model"
   ]
  },
  {
   "cell_type": "code",
   "execution_count": null,
   "metadata": {},
   "outputs": [
    {
     "name": "stdout",
     "output_type": "stream",
     "text": [
      "update!\n",
      "[[1583   51]\n",
      " [ 249    3]]\n",
      "curr 0.9321314952279958 pickle 0.8409331919406151\n",
      "0.9321314952279958\n"
     ]
    },
    {
     "name": "stderr",
     "output_type": "stream",
     "text": [
      "/Users/benjaminli/opt/miniconda3/envs/seq/lib/python3.8/site-packages/sklearn/base.py:493: FutureWarning: The feature names should match those that were passed during fit. Starting version 1.2, an error will be raised.\n",
      "Feature names must be in the same order as they were in fit.\n",
      "\n",
      "  warnings.warn(message, FutureWarning)\n"
     ]
    }
   ],
   "source": [
    "saveModel(randforest, \"randforest\", X_test, y_test)\n",
    "\n",
    "predictions = randforest.predict(X_test)\n",
    "print(accuracy_score(y_test, predictions))\n",
    "\n",
    "# for i in range(1000):\n",
    "#     predictions[i] != y_test_list[i] and print(predictions[i], \"vs\", y_test_list[i])"
   ]
  },
  {
   "cell_type": "code",
   "execution_count": null,
   "metadata": {},
   "outputs": [
    {
     "name": "stdout",
     "output_type": "stream",
     "text": [
      "0.9321314952279958\n"
     ]
    }
   ],
   "source": [
    "probability_predictions = randforest.predict_proba(X_test)\n",
    "preds = randforest.predict(X_test)\n",
    "print(accuracy_score(y_test, preds))\n"
   ]
  },
  {
   "cell_type": "code",
   "execution_count": null,
   "metadata": {},
   "outputs": [
    {
     "name": "stdout",
     "output_type": "stream",
     "text": [
      "Learning rate:  0.05\n",
      "Accuracy score (validation): 0.953\n",
      "no update\n",
      "curr 0.953340402969247 pickle 0.9623541887592789\n",
      "[[1621   13]\n",
      " [  58  194]]\n",
      "Learning rate:  0.075\n",
      "Accuracy score (validation): 0.956\n",
      "no update\n",
      "curr 0.9559915164369035 pickle 0.9623541887592789\n",
      "[[1621   13]\n",
      " [  58  194]]\n",
      "Learning rate:  0.1\n",
      "Accuracy score (validation): 0.958\n",
      "no update\n",
      "curr 0.9581124072110286 pickle 0.9623541887592789\n",
      "[[1621   13]\n",
      " [  58  194]]\n",
      "Learning rate:  0.15\n",
      "Accuracy score (validation): 0.958\n",
      "no update\n",
      "curr 0.9581124072110286 pickle 0.9623541887592789\n",
      "[[1621   13]\n",
      " [  58  194]]\n",
      "Learning rate:  0.2\n",
      "Accuracy score (validation): 0.959\n",
      "no update\n",
      "curr 0.9591728525980912 pickle 0.9623541887592789\n",
      "[[1621   13]\n",
      " [  58  194]]\n",
      "Learning rate:  0.25\n",
      "Accuracy score (validation): 0.958\n",
      "no update\n",
      "curr 0.9575821845174973 pickle 0.9623541887592789\n",
      "[[1621   13]\n",
      " [  58  194]]\n",
      "Learning rate:  0.3\n",
      "Accuracy score (validation): 0.959\n",
      "no update\n",
      "curr 0.9591728525980912 pickle 0.9623541887592789\n",
      "[[1621   13]\n",
      " [  58  194]]\n",
      "Learning rate:  0.35\n",
      "Accuracy score (validation): 0.953\n",
      "no update\n",
      "curr 0.953340402969247 pickle 0.9623541887592789\n",
      "[[1621   13]\n",
      " [  58  194]]\n",
      "Learning rate:  0.4\n",
      "Accuracy score (validation): 0.955\n",
      "no update\n",
      "curr 0.9554612937433722 pickle 0.9623541887592789\n",
      "[[1621   13]\n",
      " [  58  194]]\n",
      "Learning rate:  0.45\n",
      "Accuracy score (validation): 0.958\n",
      "no update\n",
      "curr 0.9581124072110286 pickle 0.9623541887592789\n",
      "[[1621   13]\n",
      " [  58  194]]\n",
      "Learning rate:  0.5\n",
      "Accuracy score (validation): 0.955\n",
      "no update\n",
      "curr 0.9554612937433722 pickle 0.9623541887592789\n",
      "[[1621   13]\n",
      " [  58  194]]\n",
      "Learning rate:  0.55\n",
      "Accuracy score (validation): 0.952\n",
      "no update\n",
      "curr 0.9517497348886532 pickle 0.9623541887592789\n",
      "[[1621   13]\n",
      " [  58  194]]\n",
      "Learning rate:  0.6\n",
      "Accuracy score (validation): 0.951\n",
      "no update\n",
      "curr 0.9506892895015907 pickle 0.9623541887592789\n",
      "[[1621   13]\n",
      " [  58  194]]\n",
      "Learning rate:  0.65\n",
      "Accuracy score (validation): 0.953\n",
      "no update\n",
      "curr 0.953340402969247 pickle 0.9623541887592789\n",
      "[[1621   13]\n",
      " [  58  194]]\n",
      "Learning rate:  0.7\n",
      "Accuracy score (validation): 0.882\n",
      "no update\n",
      "curr 0.8817603393425238 pickle 0.9623541887592789\n",
      "[[1621   13]\n",
      " [  58  194]]\n",
      "Learning rate:  0.75\n",
      "Accuracy score (validation): 0.883\n",
      "no update\n",
      "curr 0.8833510074231177 pickle 0.9623541887592789\n",
      "[[1621   13]\n",
      " [  58  194]]\n",
      "Learning rate:  0.8\n",
      "Accuracy score (validation): 0.889\n",
      "no update\n",
      "curr 0.8886532343584306 pickle 0.9623541887592789\n",
      "[[1621   13]\n",
      " [  58  194]]\n",
      "Learning rate:  0.85\n",
      "Accuracy score (validation): 0.840\n",
      "no update\n",
      "curr 0.8404029692470838 pickle 0.9623541887592789\n",
      "[[1621   13]\n",
      " [  58  194]]\n",
      "Learning rate:  1\n",
      "Accuracy score (validation): 0.817\n",
      "no update\n",
      "curr 0.8165429480381761 pickle 0.9623541887592789\n",
      "[[1621   13]\n",
      " [  58  194]]\n"
     ]
    }
   ],
   "source": [
    "lr_list = [0.05, 0.075, 0.1, 0.15, 0.2, 0.25, 0.3, 0.35, 0.4, 0.45, 0.5, 0.55, 0.6, 0.65,0.7, 0.75, 0.8, 0.85, 1]\n",
    "\n",
    "parameters={\n",
    "   \"n_estimators\":100, # 200 kind of overfits I think\n",
    "    \"max_features\":2,\n",
    "    \"max_depth\":6,\n",
    "    \"random_state\":0,\n",
    "    \"min_sample_split\":50,\n",
    "    \"subsample\":0.8\n",
    "    # \"warm_start\":True\n",
    "}\n",
    "\n",
    "\n",
    "# careful with WARM START - only works after a lot of iterations\n",
    "for learning_rate in lr_list:\n",
    "    gradBoost = GradientBoostingClassifier(n_estimators=parameters['n_estimators'], \n",
    "    learning_rate=learning_rate, max_features=parameters['max_features'], \n",
    "    max_depth=parameters['max_depth'], random_state=parameters['random_state'], \n",
    "    min_samples_split=parameters['min_sample_split'], subsample=parameters['subsample']\n",
    "    )\n",
    "\n",
    "    parameters['learning_rate']=learning_rate\n",
    "    gradBoost.fit(X_train, y_train)\n",
    "\n",
    "    cols_when_model_builds = gradBoost.feature_names_in_\n",
    "    X_test=X_test[cols_when_model_builds]\n",
    "    \n",
    "    testingAcc = accuracy_score(y_test, gradBoost.predict(X_test))\n",
    "    trainingAcc = accuracy_score(y_train, gradBoost.predict(X_train))\n",
    "    \n",
    "    print(\"Learning rate: \", learning_rate)\n",
    "    # print(\"Accuracy score (training): {0:.3f}\".format(trainingAcc))\n",
    "    print(\"Accuracy score (validation): {0:.3f}\".format(testingAcc))\n",
    "    # print(f\"Feature importance {gradBoost.feature_importances_}\")\n",
    "\n",
    "    # pickle.dump(gradBoost, open('gradBoost.pkl', 'wb'))\n",
    "    saveModel(gradBoost, \"gradBoost\", X_test, y_test, parameters, gradBoost=True)"
   ]
  },
  {
   "cell_type": "code",
   "execution_count": null,
   "metadata": {},
   "outputs": [
    {
     "name": "stdout",
     "output_type": "stream",
     "text": [
      "Learning rate:  0.05\n",
      "Accuracy score (validation): 0.958\n",
      "no update\n",
      "curr 0.9581124072110286 pickle 0.9639448568398727\n",
      "[[1617   17]\n",
      " [  51  201]]\n",
      "Learning rate:  0.075\n",
      "Accuracy score (validation): 0.960\n",
      "no update\n",
      "curr 0.9597030752916225 pickle 0.9639448568398727\n",
      "[[1617   17]\n",
      " [  51  201]]\n",
      "Learning rate:  0.1\n",
      "Accuracy score (validation): 0.958\n",
      "no update\n",
      "curr 0.9575821845174973 pickle 0.9639448568398727\n",
      "[[1617   17]\n",
      " [  51  201]]\n",
      "Learning rate:  0.15\n",
      "Accuracy score (validation): 0.963\n",
      "no update\n",
      "curr 0.9628844114528102 pickle 0.9639448568398727\n",
      "[[1617   17]\n",
      " [  51  201]]\n",
      "Learning rate:  0.2\n",
      "Accuracy score (validation): 0.961\n",
      "no update\n",
      "curr 0.9607635206786851 pickle 0.9639448568398727\n",
      "[[1617   17]\n",
      " [  51  201]]\n",
      "Learning rate:  0.25\n",
      "Accuracy score (validation): 0.962\n",
      "no update\n",
      "curr 0.9623541887592789 pickle 0.9639448568398727\n",
      "[[1617   17]\n",
      " [  51  201]]\n",
      "Learning rate:  0.3\n",
      "Accuracy score (validation): 0.963\n",
      "no update\n",
      "curr 0.9634146341463414 pickle 0.9639448568398727\n",
      "[[1617   17]\n",
      " [  51  201]]\n",
      "Learning rate:  0.35\n",
      "Accuracy score (validation): 0.964\n",
      "no update\n",
      "curr 0.9639448568398727 pickle 0.9639448568398727\n",
      "[[1617   17]\n",
      " [  51  201]]\n",
      "Learning rate:  0.4\n",
      "Accuracy score (validation): 0.960\n",
      "no update\n",
      "curr 0.9597030752916225 pickle 0.9639448568398727\n",
      "[[1617   17]\n",
      " [  51  201]]\n",
      "Learning rate:  0.45\n",
      "Accuracy score (validation): 0.959\n",
      "no update\n",
      "curr 0.9591728525980912 pickle 0.9639448568398727\n",
      "[[1617   17]\n",
      " [  51  201]]\n",
      "Learning rate:  0.5\n",
      "Accuracy score (validation): 0.960\n",
      "no update\n",
      "curr 0.9597030752916225 pickle 0.9639448568398727\n",
      "[[1617   17]\n",
      " [  51  201]]\n",
      "Learning rate:  0.55\n",
      "Accuracy score (validation): 0.960\n",
      "no update\n",
      "curr 0.9597030752916225 pickle 0.9639448568398727\n",
      "[[1617   17]\n",
      " [  51  201]]\n",
      "Learning rate:  0.6\n",
      "Accuracy score (validation): 0.963\n",
      "no update\n",
      "curr 0.9634146341463414 pickle 0.9639448568398727\n",
      "[[1617   17]\n",
      " [  51  201]]\n",
      "Learning rate:  0.65\n",
      "Accuracy score (validation): 0.959\n",
      "no update\n",
      "curr 0.9591728525980912 pickle 0.9639448568398727\n",
      "[[1617   17]\n",
      " [  51  201]]\n",
      "Learning rate:  0.7\n",
      "Accuracy score (validation): 0.959\n",
      "no update\n",
      "curr 0.95864262990456 pickle 0.9639448568398727\n",
      "[[1617   17]\n",
      " [  51  201]]\n",
      "Learning rate:  0.75\n",
      "Accuracy score (validation): 0.956\n",
      "no update\n",
      "curr 0.9559915164369035 pickle 0.9639448568398727\n",
      "[[1617   17]\n",
      " [  51  201]]\n",
      "Learning rate:  0.8\n",
      "Accuracy score (validation): 0.958\n",
      "no update\n",
      "curr 0.9575821845174973 pickle 0.9639448568398727\n",
      "[[1617   17]\n",
      " [  51  201]]\n",
      "Learning rate:  0.85\n",
      "Accuracy score (validation): 0.956\n",
      "no update\n",
      "curr 0.9559915164369035 pickle 0.9639448568398727\n",
      "[[1617   17]\n",
      " [  51  201]]\n",
      "Learning rate:  1\n",
      "Accuracy score (validation): 0.959\n",
      "no update\n",
      "curr 0.95864262990456 pickle 0.9639448568398727\n",
      "[[1617   17]\n",
      " [  51  201]]\n"
     ]
    }
   ],
   "source": [
    "lr_list = [0.05, 0.075, 0.1, 0.15, 0.2, 0.25, 0.3, 0.35, 0.4, 0.45, 0.5, 0.55, 0.6, 0.65,0.7, 0.75, 0.8, 0.85, 1]\n",
    "\n",
    "parameters={\n",
    "   \"n_estimators\":100, # 200 kind of overfits I think\n",
    "    \"max_features\":2,\n",
    "    \"max_depth\":6,\n",
    "    \"random_state\":0,\n",
    "    \"subsample\":0.8,\n",
    "    'lambda': 0.5, # regularization?\n",
    "    'alpha': 0.5\n",
    "}\n",
    "\n",
    "\n",
    "\n",
    "for learning_rate in lr_list:\n",
    "    xgBoost = XGBClassifier(n_estimators=parameters['n_estimators'], \n",
    "    learning_rate=learning_rate, \n",
    "    max_depth=parameters['max_depth'], random_state=parameters['random_state'], \n",
    "    subsample=parameters['subsample'], \n",
    "    )\n",
    "\n",
    "    parameters['learning_rate']=learning_rate\n",
    "    xgBoost.fit(X_train, y_train)\n",
    "\n",
    "    # ALWAYS reset feature names\n",
    "    cols_when_model_builds = xgBoost.get_booster().feature_names\n",
    "    X_test=X_test[cols_when_model_builds]\n",
    "\n",
    "    testingAcc = accuracy_score(y_test, xgBoost.predict(X_test))\n",
    "    trainingAcc = accuracy_score(y_train, xgBoost.predict(X_train))\n",
    "    \n",
    "    print(\"Learning rate: \", learning_rate)\n",
    "    # print(\"Accuracy score (training): {0:.3f}\".format(trainingAcc))\n",
    "    print(\"Accuracy score (validation): {0:.3f}\".format(testingAcc))\n",
    "    # print(f\"Feature importance {gradBoost.feature_importances_}\")\n",
    "\n",
    "    # pickle.dump(gradBoost, open('gradBoost.pkl', 'wb'))\n",
    "    saveModel(xgBoost, \"xgBoost\", X_test, y_test, parameters, xgBoost=True)"
   ]
  },
  {
   "cell_type": "code",
   "execution_count": null,
   "metadata": {},
   "outputs": [
    {
     "name": "stdout",
     "output_type": "stream",
     "text": [
      "{'n_estimators': 100, 'max_features': 2, 'max_depth': 6, 'random_state': 0, 'subsample': 0.8, 'lambda': 0.5, 'alpha': 0.5, 'learning_rate': 0.35}\n",
      "{'n_estimators': 100, 'max_features': 2, 'max_depth': 6, 'random_state': 0, 'min_sample_split': 50, 'subsample': 0.8, 'warm_start': True, 'learning_rate': 0.35}\n"
     ]
    },
    {
     "ename": "NameError",
     "evalue": "name 'X_test' is not defined",
     "output_type": "error",
     "traceback": [
      "\u001b[0;31m---------------------------------------------------------------------------\u001b[0m\n",
      "\u001b[0;31mNameError\u001b[0m                                 Traceback (most recent call last)\n",
      "\u001b[1;32m/Users/benjaminli/Documents/coding/scires/project/run.ipynb Cell 16\u001b[0m in \u001b[0;36m<cell line: 16>\u001b[0;34m()\u001b[0m\n",
      "\u001b[1;32m     <a href='vscode-notebook-cell:/Users/benjaminli/Documents/coding/scires/project/run.ipynb#X21sZmlsZQ%3D%3D?line=11'>12</a>\u001b[0m \u001b[39mprint\u001b[39m(best_gradBoost_params)\n",
      "\u001b[1;32m     <a href='vscode-notebook-cell:/Users/benjaminli/Documents/coding/scires/project/run.ipynb#X21sZmlsZQ%3D%3D?line=14'>15</a>\u001b[0m cols_when_model_builds \u001b[39m=\u001b[39m best_xgboost\u001b[39m.\u001b[39mget_booster()\u001b[39m.\u001b[39mfeature_names\n",
      "\u001b[0;32m---> <a href='vscode-notebook-cell:/Users/benjaminli/Documents/coding/scires/project/run.ipynb#X21sZmlsZQ%3D%3D?line=15'>16</a>\u001b[0m X_test\u001b[39m=\u001b[39mX_test[cols_when_model_builds]\n",
      "\u001b[1;32m     <a href='vscode-notebook-cell:/Users/benjaminli/Documents/coding/scires/project/run.ipynb#X21sZmlsZQ%3D%3D?line=17'>18</a>\u001b[0m \u001b[39mprint\u001b[39m(\u001b[39m\"\u001b[39m\u001b[39mBest XG Accuracy: \u001b[39m\u001b[39m\"\u001b[39m, accuracy_score(y_test, best_xgboost\u001b[39m.\u001b[39mpredict(X_test)))\n",
      "\u001b[1;32m     <a href='vscode-notebook-cell:/Users/benjaminli/Documents/coding/scires/project/run.ipynb#X21sZmlsZQ%3D%3D?line=18'>19</a>\u001b[0m \u001b[39mprint\u001b[39m(\u001b[39m\"\u001b[39m\u001b[39mBalanced XG Accuracy: \u001b[39m\u001b[39m\"\u001b[39m, balanced_accuracy_score(y_test, best_xgboost\u001b[39m.\u001b[39mpredict(X_test)))\n",
      "\n",
      "\u001b[0;31mNameError\u001b[0m: name 'X_test' is not defined"
     ]
    }
   ],
   "source": [
    "# Models within \"orig_models\" folder have the highest training acc but not as great cross val\n",
    "\n",
    "best_xgboost = pickle.load(open('curr_models/xgBoost.pkl', 'rb'))\n",
    "best_xgboost_params = pickle.load(open('curr_models/xgBoost-params.pkl', 'rb'))\n",
    "\n",
    "best_gradBoost = pickle.load(open('curr_models/gradBoost.pkl', 'rb'))\n",
    "best_gradBoost_params = pickle.load(open('curr_models/gradBoost-params.pkl', 'rb'))\n",
    "\n",
    "best_rF = pickle.load(open('curr_models/randforest.pkl', 'rb'))\n",
    "\n",
    "print(best_xgboost_params)\n",
    "print(best_gradBoost_params)\n",
    "\n",
    "cols_when_model_builds = best_xgboost.get_booster().feature_names\n",
    "X_test=X_test[cols_when_model_builds]\n",
    "\n",
    "print(\"Best XG Accuracy: \", accuracy_score(y_test, best_xgboost.predict(X_test)))\n",
    "print(\"Balanced XG Accuracy: \", balanced_accuracy_score(y_test, best_xgboost.predict(X_test)))\n",
    "cols_when_model_builds = best_gradBoost.feature_names_in_\n",
    "X_test=X_test[cols_when_model_builds]\n",
    "\n",
    "print(\"Best GB Accuracy: \", accuracy_score(y_test, best_gradBoost.predict(X_test)))\n",
    "print(\"Balanced GB Accuracy: \", balanced_accuracy_score(y_test, best_gradBoost.predict(X_test)))\n",
    "\n",
    "print(\"Best rF Accuracy: \", accuracy_score(y_test, best_rF.predict(X_test)))\n",
    "print(\"Balanced rF Accuracy: \", balanced_accuracy_score(y_test, best_rF.predict(X_test)))"
   ]
  },
  {
   "cell_type": "code",
   "execution_count": null,
   "metadata": {},
   "outputs": [
    {
     "name": "stdout",
     "output_type": "stream",
     "text": [
      "precision recall: 0.9150372384473479\n",
      "[0.00045723 0.00013599 0.00065591 ... 0.00053945 0.00509031 0.01590035]\n"
     ]
    },
    {
     "data": {
      "image/png": "[encoded data removed]",
      "text/plain": [
       "<Figure size 640x480 with 1 Axes>"
      ]
     },
     "metadata": {},
     "output_type": "display_data"
    }
   ],
   "source": [
    "# ALWAYS reset X columns to the right order\n",
    "cols_when_model_builds = best_gradBoost.feature_names_in_\n",
    "X_test=X_test[cols_when_model_builds]\n",
    "\n",
    "\n",
    "\n",
    "y_thing = y_test.to_numpy()\n",
    "precision, recall, thresholds = precision_recall_curve(y_thing, best_gradBoost.predict_proba(X_test)[::,1])\n",
    "aaa = auc(recall, precision)\n",
    "print(\"precision recall: \" + str(aaa))\n",
    "\n",
    "y_pred_proba = best_gradBoost.predict_proba(X_test)[::,1]\n",
    "fpr, tpr, _ = roc_curve(y_test, y_pred_proba)\n",
    "auc_thing = roc_auc_score(y_test, y_pred_proba)\n",
    "\n",
    "print(y_pred_proba)\n",
    "plt.plot(fpr,tpr,label=\"AUC=\"+str(auc_thing))\n",
    "plt.ylabel('True Positive Rate')\n",
    "plt.xlabel('False Positive Rate')\n",
    "plt.legend(loc=4)\n",
    "plt.show()\n"
   ]
  },
  {
   "cell_type": "code",
   "execution_count": null,
   "metadata": {},
   "outputs": [
    {
     "ename": "NameError",
     "evalue": "name 'best_xgboost' is not defined",
     "output_type": "error",
     "traceback": [
      "\u001b[0;31m---------------------------------------------------------------------------\u001b[0m\n",
      "\u001b[0;31mNameError\u001b[0m                                 Traceback (most recent call last)\n",
      "\u001b[1;32m/Users/benjaminli/Documents/coding/scires/project/run.ipynb Cell 18\u001b[0m in \u001b[0;36m<cell line: 3>\u001b[0;34m()\u001b[0m\n",
      "\u001b[1;32m      <a href='vscode-notebook-cell:/Users/benjaminli/Documents/coding/scires/project/run.ipynb#X23sZmlsZQ%3D%3D?line=0'>1</a>\u001b[0m \u001b[39m# ALWAYS reset X columns to the right order\u001b[39;00m\n",
      "\u001b[0;32m----> <a href='vscode-notebook-cell:/Users/benjaminli/Documents/coding/scires/project/run.ipynb#X23sZmlsZQ%3D%3D?line=2'>3</a>\u001b[0m cols_when_model_builds \u001b[39m=\u001b[39m best_xgboost\u001b[39m.\u001b[39mget_booster()\u001b[39m.\u001b[39mfeature_names\n",
      "\u001b[1;32m      <a href='vscode-notebook-cell:/Users/benjaminli/Documents/coding/scires/project/run.ipynb#X23sZmlsZQ%3D%3D?line=3'>4</a>\u001b[0m X_test\u001b[39m=\u001b[39mX_test[cols_when_model_builds]\n",
      "\u001b[1;32m      <a href='vscode-notebook-cell:/Users/benjaminli/Documents/coding/scires/project/run.ipynb#X23sZmlsZQ%3D%3D?line=5'>6</a>\u001b[0m y_thing \u001b[39m=\u001b[39m y_test\u001b[39m.\u001b[39mto_numpy()\n",
      "\n",
      "\u001b[0;31mNameError\u001b[0m: name 'best_xgboost' is not defined"
     ]
    }
   ],
   "source": [
    "# ALWAYS reset X columns to the right order\n",
    "\n",
    "cols_when_model_builds = best_xgboost.get_booster().feature_names\n",
    "X_test=X_test[cols_when_model_builds]\n",
    "\n",
    "y_thing = y_test.to_numpy()\n",
    "precision, recall, thresholds = precision_recall_curve(y_thing, best_xgboost.predict_proba(X_test)[::,1])\n",
    "aaa = auc(recall, precision)\n",
    "print(\"precision recall: \" + str(aaa))\n",
    "\n",
    "y_pred_proba = best_xgboost.predict_proba(X_test)[::,1]\n",
    "fpr, tpr, _ = roc_curve(y_test, y_pred_proba)\n",
    "auc_thing = roc_auc_score(y_test, y_pred_proba)\n",
    "\n",
    "print(y_pred_proba)\n",
    "plt.plot(fpr,tpr,label=\"AUC=\"+str(auc_thing))\n",
    "plt.ylabel('True Positive Rate')\n",
    "plt.xlabel('False Positive Rate')\n",
    "plt.legend(loc=4)\n",
    "plt.show()"
   ]
  },
  {
   "cell_type": "code",
   "execution_count": null,
   "metadata": {},
   "outputs": [
    {
     "name": "stdout",
     "output_type": "stream",
     "text": [
      "Accuracy: 0.945 (0.016)\n"
     ]
    }
   ],
   "source": [
    "cv = RepeatedStratifiedKFold(n_splits=10, n_repeats=3, random_state=1)\n",
    "n_scores = cross_val_score(best_xgboost, X_test, y_test, scoring='accuracy', cv=cv, n_jobs=-1, error_score='raise')\n",
    "print('Accuracy: %.3f (%.3f)' % (mean(n_scores), std(n_scores)))"
   ]
  },
  {
   "cell_type": "code",
   "execution_count": null,
   "metadata": {},
   "outputs": [
    {
     "name": "stdout",
     "output_type": "stream",
     "text": [
      "[0.3 0.1 0.4 ... 0.2 0.2 0.1]\n"
     ]
    },
    {
     "name": "stderr",
     "output_type": "stream",
     "text": [
      "/Users/benjaminli/opt/miniconda3/envs/seq/lib/python3.8/site-packages/sklearn/base.py:493: FutureWarning: The feature names should match those that were passed during fit. Starting version 1.2, an error will be raised.\n",
      "Feature names must be in the same order as they were in fit.\n",
      "\n",
      "  warnings.warn(message, FutureWarning)\n"
     ]
    },
    {
     "data": {
      "image/png": "[encoded data removed]",
      "text/plain": [
       "<Figure size 640x480 with 1 Axes>"
      ]
     },
     "metadata": {},
     "output_type": "display_data"
    }
   ],
   "source": [
    "y_pred_proba = best_rF.predict_proba(X_test)[::,1]\n",
    "fpr, tpr, _ = roc_curve(y_test, y_pred_proba)\n",
    "auc_thing = roc_auc_score(y_test, y_pred_proba)\n",
    "\n",
    "print(y_pred_proba)\n",
    "plt.plot(fpr,tpr,label=\"AUC=\"+str(auc_thing))\n",
    "plt.ylabel('True Positive Rate')\n",
    "plt.xlabel('False Positive Rate')\n",
    "plt.legend(loc=4)\n",
    "plt.show()"
   ]
  },
  {
   "cell_type": "code",
   "execution_count": null,
   "metadata": {},
   "outputs": [
    {
     "name": "stdout",
     "output_type": "stream",
     "text": [
      "Accuracy: 0.946 (0.014)\n"
     ]
    }
   ],
   "source": [
    "cv = RepeatedStratifiedKFold(n_splits=10, n_repeats=3, random_state=1)\n",
    "n_scores = cross_val_score(best_gradBoost, X_test, y_test, scoring='accuracy', cv=cv, n_jobs=-1, error_score='raise')\n",
    "print('Accuracy: %.3f (%.3f)' % (mean(n_scores), std(n_scores)))"
   ]
  },
  {
   "cell_type": "code",
   "execution_count": null,
   "metadata": {},
   "outputs": [
    {
     "name": "stdout",
     "output_type": "stream",
     "text": [
      "Accuracy: 0.908 (0.016)\n"
     ]
    }
   ],
   "source": [
    "cv = RepeatedStratifiedKFold(n_splits=10, n_repeats=3, random_state=1)\n",
    "n_scores = cross_val_score(best_rF, X_test, y_test, scoring='accuracy', cv=cv, n_jobs=-1, error_score='raise')\n",
    "print('Accuracy: %.3f (%.3f)' % (mean(n_scores), std(n_scores)))"
   ]
  }
 ],
 "metadata": {
  "kernelspec": {
   "display_name": "Python 3.8.13 ('seq')",
   "language": "python",
   "name": "python3"
  },
  "language_info": {
   "codemirror_mode": {
    "name": "ipython",
    "version": 3
   },
   "file_extension": ".py",
   "mimetype": "text/x-python",
   "name": "python",
   "nbconvert_exporter": "python",
   "pygments_lexer": "ipython3",
   "version": "3.8.13"
  },
  "orig_nbformat": 4,
  "vscode": {
   "interpreter": {
    "hash": "e1360c63304de9435a2a3572d38e6c9496b6fb5d1617f35fbc8638664d664ab4"
   }
  }
 },
 "nbformat": 4,
 "nbformat_minor": 2
}
