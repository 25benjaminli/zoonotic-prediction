{
 "cells": [
  {
   "cell_type": "code",
   "execution_count": 3,
   "metadata": {},
   "outputs": [],
   "source": [
    "import pandas as pd\n",
    "from sklearn.linear_model import LogisticRegression\n",
    "from sklearn.model_selection import train_test_split\n",
    "from itertools import permutations\n",
    "import functools"
   ]
  },
  {
   "cell_type": "code",
   "execution_count": 4,
   "metadata": {},
   "outputs": [],
   "source": [
    "df = pd.read_csv('virus_genome/human_infecting_virus', delimiter='\\t', header=None)\n",
    "df[['ID', 'DNA Sequence']] = df[0].str.split(expand=True)\n",
    "df = df.drop(0, axis=1)\n",
    "df['isZoonotic'] = 1\n",
    "\n",
    "\n",
    "df2 = pd.read_csv('virus_genome/Other_viruses', delimiter='\\t', header=None)\n",
    "df2[['ID', 'DNA Sequence']] = df2[0].str.split(expand=True)\n",
    "df2 = df2.drop(0, axis=1)\n",
    "df2['isZoonotic'] = 0\n",
    "\n",
    "dfcopy = df2.copy()\n",
    "\n",
    "dfother = pd.DataFrame()\n",
    "it = len(df)+1\n",
    "kmer = 4\n",
    "\n",
    "# iterate through each sequence\n",
    "for i in range(len(df2)):\n",
    "    dfother.at[it, 'DNA Sequence']=df2.at[i, 'DNA Sequence']\n",
    "    dfother.at[it, 'isZoonotic']=int(0)\n",
    "    dfother.at[it, 'ID']=df2.at[i, 'ID']\n",
    "\n",
    "    it+=1\n",
    "\n",
    "\n",
    "mergedDf = pd.concat([df, dfother], axis=0)\n"
   ]
  },
  {
   "cell_type": "code",
   "execution_count": null,
   "metadata": {},
   "outputs": [
    {
     "name": "stdout",
     "output_type": "stream",
     "text": [
      "(1236, 3)\n",
      "(8192, 3)\n",
      "           ID                                       DNA Sequence  isZoonotic\n",
      "0       37121  cttttaacaatcatagttttataaaagggtgtaaccgaagcggttt...         1.0\n",
      "1      129724  atactttacaattatcttgtaaaaagtagggtgtaaccgaaaaggg...         1.0\n",
      "2       59303  atggcggacgtgtgacatcaccgttcgctctttctaggatcctttg...         1.0\n",
      "3      120686  ttgttctacttcttactcattattataaattataatgtttgtataa...         1.0\n",
      "4       99565  gtgaatgatgatggcgtcgaaagacgtcgttgcagctactgctgct...         1.0\n",
      "...       ...                                                ...         ...\n",
      "9424   268315  ggatccacagaactccttgtatgtacagccgcgggtacccacagca...         0.0\n",
      "9425   130329  ctcatgtcattaataagaccatgcagaaaatgcaaatgaggcgaag...         0.0\n",
      "9426  1239437  ccgaagtgggatggcggctgccgccgcttcggcgcttggcgcttcg...         0.0\n",
      "9427   358812  gtatacgaggttagttcattctcgtatacacgattggacaaatcaa...         0.0\n",
      "9428    11287  atggaaggaggaattcgtgcagcgttttcaggcctgaatgatgtta...         0.0\n",
      "\n",
      "[9428 rows x 3 columns]\n"
     ]
    }
   ],
   "source": [
    "print(df.shape)\n",
    "print(df2.shape)\n",
    "\n",
    "print(mergedDf)"
   ]
  },
  {
   "cell_type": "code",
   "execution_count": null,
   "metadata": {},
   "outputs": [
    {
     "name": "stdout",
     "output_type": "stream",
     "text": [
      "24\n"
     ]
    }
   ],
   "source": [
    "# generate permutations of a kmer value\n",
    "kmer = 4\n",
    "l = list(permutations('acgt'))\n",
    "print(len(l))"
   ]
  },
  {
   "cell_type": "code",
   "execution_count": null,
   "metadata": {},
   "outputs": [
    {
     "name": "stdout",
     "output_type": "stream",
     "text": [
      "ID                                                          37121\n",
      "DNA Sequence    cttttaacaatcatagttttataaaagggtgtaaccgaagcggttt...\n",
      "isZoonotic                                                    1.0\n",
      "Name: 0, dtype: object\n",
      "cttt\n",
      "tttt\n",
      "ttta\n",
      "ttaa\n",
      "taac\n",
      "aaca\n",
      "acaa\n",
      "caat\n",
      "aatc\n",
      "atca\n",
      "tcat\n",
      "cata\n",
      "atag\n",
      "tagt\n",
      "agtt\n",
      "gttt\n",
      "tttt\n",
      "ttta\n",
      "ttat\n",
      "tata\n",
      "atac\n",
      "tact\n",
      "actt\n",
      "cttt\n",
      "ttta\n",
      "ttac\n",
      "taca\n",
      "acaa\n",
      "caat\n",
      "aatt\n",
      "atta\n",
      "ttat\n",
      "tatc\n",
      "atct\n",
      "tctt\n",
      "cttg\n",
      "ttgt\n",
      "tgta\n",
      "gtaa\n",
      "taaa\n"
     ]
    }
   ],
   "source": [
    "dna = mergedDf['DNA Sequence']\n",
    "Y = mergedDf['isZoonotic']\n",
    "print(mergedDf.loc[0])\n",
    "kmer = 4\n",
    "for i in range(2): # tweak numbers\n",
    "    for j in range(20):\n",
    "        st = str(dna.iloc[i])\n",
    "        print(st[j:j+kmer])\n",
    "        try:\n",
    "            mergedDf.at[i,st[j:j+kmer]]+=1\n",
    "        except Exception as e:\n",
    "            mergedDf.at[i,st[j:j+kmer]]= 1\n",
    "\n",
    "\n"
   ]
  },
  {
   "cell_type": "code",
   "execution_count": null,
   "metadata": {},
   "outputs": [
    {
     "name": "stdout",
     "output_type": "stream",
     "text": [
      "      tttt  ttta  ttaa  taac  aaca  acaa  caat  aatc  atca  tcat  ...  aatt  \\\n",
      "0      2.0   2.0   1.0   1.0   1.0   1.0   1.0   1.0   1.0   1.0  ...   0.0   \n",
      "1      0.0   0.0   0.0   0.0   0.0   0.0   0.0   0.0   0.0   0.0  ...   1.0   \n",
      "2      0.0   0.0   0.0   0.0   0.0   0.0   0.0   0.0   0.0   0.0  ...   0.0   \n",
      "3      0.0   0.0   0.0   0.0   0.0   0.0   0.0   0.0   0.0   0.0  ...   0.0   \n",
      "4      0.0   0.0   0.0   0.0   0.0   0.0   0.0   0.0   0.0   0.0  ...   0.0   \n",
      "...    ...   ...   ...   ...   ...   ...   ...   ...   ...   ...  ...   ...   \n",
      "9424   0.0   0.0   0.0   0.0   0.0   0.0   0.0   0.0   0.0   0.0  ...   0.0   \n",
      "9425   0.0   0.0   0.0   0.0   0.0   0.0   0.0   0.0   0.0   0.0  ...   0.0   \n",
      "9426   0.0   0.0   0.0   0.0   0.0   0.0   0.0   0.0   0.0   0.0  ...   0.0   \n",
      "9427   0.0   0.0   0.0   0.0   0.0   0.0   0.0   0.0   0.0   0.0  ...   0.0   \n",
      "9428   0.0   0.0   0.0   0.0   0.0   0.0   0.0   0.0   0.0   0.0  ...   0.0   \n",
      "\n",
      "      atta  tatc  atct  tctt  cttg  ttgt  tgta  gtaa  taaa  \n",
      "0      0.0   0.0   0.0   0.0   0.0   0.0   0.0   0.0   0.0  \n",
      "1      1.0   1.0   1.0   1.0   1.0   1.0   1.0   1.0   1.0  \n",
      "2      0.0   0.0   0.0   0.0   0.0   0.0   0.0   0.0   0.0  \n",
      "3      0.0   0.0   0.0   0.0   0.0   0.0   0.0   0.0   0.0  \n",
      "4      0.0   0.0   0.0   0.0   0.0   0.0   0.0   0.0   0.0  \n",
      "...    ...   ...   ...   ...   ...   ...   ...   ...   ...  \n",
      "9424   0.0   0.0   0.0   0.0   0.0   0.0   0.0   0.0   0.0  \n",
      "9425   0.0   0.0   0.0   0.0   0.0   0.0   0.0   0.0   0.0  \n",
      "9426   0.0   0.0   0.0   0.0   0.0   0.0   0.0   0.0   0.0  \n",
      "9427   0.0   0.0   0.0   0.0   0.0   0.0   0.0   0.0   0.0  \n",
      "9428   0.0   0.0   0.0   0.0   0.0   0.0   0.0   0.0   0.0  \n",
      "\n",
      "[9428 rows x 32 columns]\n",
      "0       1.0\n",
      "1       1.0\n",
      "2       1.0\n",
      "3       1.0\n",
      "4       1.0\n",
      "       ... \n",
      "9424    0.0\n",
      "9425    0.0\n",
      "9426    0.0\n",
      "9427    0.0\n",
      "9428    0.0\n",
      "Name: isZoonotic, Length: 9428, dtype: float64\n"
     ]
    }
   ],
   "source": [
    "mergedDf.fillna(0, inplace=True)\n",
    "\n",
    "X = mergedDf[mergedDf.columns[4:len(mergedDf.columns)]]\n",
    "Y = mergedDf['isZoonotic']\n",
    "\n",
    "\n",
    "\n",
    "print(X)\n",
    "print(Y)\n"
   ]
  },
  {
   "cell_type": "code",
   "execution_count": null,
   "metadata": {},
   "outputs": [
    {
     "name": "stdout",
     "output_type": "stream",
     "text": [
      "      tttt  ttta  ttaa  taac  aaca  acaa  caat  aatc  atca  tcat  ...  aatt  \\\n",
      "1303   0.0   0.0   0.0   0.0   0.0   0.0   0.0   0.0   0.0   0.0  ...   0.0   \n",
      "6597   0.0   0.0   0.0   0.0   0.0   0.0   0.0   0.0   0.0   0.0  ...   0.0   \n",
      "4096   0.0   0.0   0.0   0.0   0.0   0.0   0.0   0.0   0.0   0.0  ...   0.0   \n",
      "7285   0.0   0.0   0.0   0.0   0.0   0.0   0.0   0.0   0.0   0.0  ...   0.0   \n",
      "4900   0.0   0.0   0.0   0.0   0.0   0.0   0.0   0.0   0.0   0.0  ...   0.0   \n",
      "...    ...   ...   ...   ...   ...   ...   ...   ...   ...   ...  ...   ...   \n",
      "4287   0.0   0.0   0.0   0.0   0.0   0.0   0.0   0.0   0.0   0.0  ...   0.0   \n",
      "5019   0.0   0.0   0.0   0.0   0.0   0.0   0.0   0.0   0.0   0.0  ...   0.0   \n",
      "422    0.0   0.0   0.0   0.0   0.0   0.0   0.0   0.0   0.0   0.0  ...   0.0   \n",
      "7322   0.0   0.0   0.0   0.0   0.0   0.0   0.0   0.0   0.0   0.0  ...   0.0   \n",
      "5932   0.0   0.0   0.0   0.0   0.0   0.0   0.0   0.0   0.0   0.0  ...   0.0   \n",
      "\n",
      "      atta  tatc  atct  tctt  cttg  ttgt  tgta  gtaa  taaa  \n",
      "1303   0.0   0.0   0.0   0.0   0.0   0.0   0.0   0.0   0.0  \n",
      "6597   0.0   0.0   0.0   0.0   0.0   0.0   0.0   0.0   0.0  \n",
      "4096   0.0   0.0   0.0   0.0   0.0   0.0   0.0   0.0   0.0  \n",
      "7285   0.0   0.0   0.0   0.0   0.0   0.0   0.0   0.0   0.0  \n",
      "4900   0.0   0.0   0.0   0.0   0.0   0.0   0.0   0.0   0.0  \n",
      "...    ...   ...   ...   ...   ...   ...   ...   ...   ...  \n",
      "4287   0.0   0.0   0.0   0.0   0.0   0.0   0.0   0.0   0.0  \n",
      "5019   0.0   0.0   0.0   0.0   0.0   0.0   0.0   0.0   0.0  \n",
      "422    0.0   0.0   0.0   0.0   0.0   0.0   0.0   0.0   0.0  \n",
      "7322   0.0   0.0   0.0   0.0   0.0   0.0   0.0   0.0   0.0  \n",
      "5932   0.0   0.0   0.0   0.0   0.0   0.0   0.0   0.0   0.0  \n",
      "\n",
      "[3112 rows x 32 columns]\n"
     ]
    }
   ],
   "source": [
    "X_train, X_test, y_train, y_test = train_test_split(X, Y, test_size=0.33, random_state=1)\n",
    "\n",
    "print(X_test)\n"
   ]
  },
  {
   "cell_type": "code",
   "execution_count": null,
   "metadata": {},
   "outputs": [],
   "source": [
    "model = LogisticRegression(\n",
    "    multi_class=\"multinomial\", max_iter=1000,\n",
    "    fit_intercept=False, tol=0.001, solver='saga', random_state=42)"
   ]
  },
  {
   "cell_type": "code",
   "execution_count": null,
   "metadata": {},
   "outputs": [
    {
     "data": {
      "text/html": [
       "<style>#sk-container-id-2 {color: black;background-color: white;}#sk-container-id-2 pre{padding: 0;}#sk-container-id-2 div.sk-toggleable {background-color: white;}#sk-container-id-2 label.sk-toggleable__label {cursor: pointer;display: block;width: 100%;margin-bottom: 0;padding: 0.3em;box-sizing: border-box;text-align: center;}#sk-container-id-2 label.sk-toggleable__label-arrow:before {content: \"▸\";float: left;margin-right: 0.25em;color: #696969;}#sk-container-id-2 label.sk-toggleable__label-arrow:hover:before {color: black;}#sk-container-id-2 div.sk-estimator:hover label.sk-toggleable__label-arrow:before {color: black;}#sk-container-id-2 div.sk-toggleable__content {max-height: 0;max-width: 0;overflow: hidden;text-align: left;background-color: #f0f8ff;}#sk-container-id-2 div.sk-toggleable__content pre {margin: 0.2em;color: black;border-radius: 0.25em;background-color: #f0f8ff;}#sk-container-id-2 input.sk-toggleable__control:checked~div.sk-toggleable__content {max-height: 200px;max-width: 100%;overflow: auto;}#sk-container-id-2 input.sk-toggleable__control:checked~label.sk-toggleable__label-arrow:before {content: \"▾\";}#sk-container-id-2 div.sk-estimator input.sk-toggleable__control:checked~label.sk-toggleable__label {background-color: #d4ebff;}#sk-container-id-2 div.sk-label input.sk-toggleable__control:checked~label.sk-toggleable__label {background-color: #d4ebff;}#sk-container-id-2 input.sk-hidden--visually {border: 0;clip: rect(1px 1px 1px 1px);clip: rect(1px, 1px, 1px, 1px);height: 1px;margin: -1px;overflow: hidden;padding: 0;position: absolute;width: 1px;}#sk-container-id-2 div.sk-estimator {font-family: monospace;background-color: #f0f8ff;border: 1px dotted black;border-radius: 0.25em;box-sizing: border-box;margin-bottom: 0.5em;}#sk-container-id-2 div.sk-estimator:hover {background-color: #d4ebff;}#sk-container-id-2 div.sk-parallel-item::after {content: \"\";width: 100%;border-bottom: 1px solid gray;flex-grow: 1;}#sk-container-id-2 div.sk-label:hover label.sk-toggleable__label {background-color: #d4ebff;}#sk-container-id-2 div.sk-serial::before {content: \"\";position: absolute;border-left: 1px solid gray;box-sizing: border-box;top: 0;bottom: 0;left: 50%;z-index: 0;}#sk-container-id-2 div.sk-serial {display: flex;flex-direction: column;align-items: center;background-color: white;padding-right: 0.2em;padding-left: 0.2em;position: relative;}#sk-container-id-2 div.sk-item {position: relative;z-index: 1;}#sk-container-id-2 div.sk-parallel {display: flex;align-items: stretch;justify-content: center;background-color: white;position: relative;}#sk-container-id-2 div.sk-item::before, #sk-container-id-2 div.sk-parallel-item::before {content: \"\";position: absolute;border-left: 1px solid gray;box-sizing: border-box;top: 0;bottom: 0;left: 50%;z-index: -1;}#sk-container-id-2 div.sk-parallel-item {display: flex;flex-direction: column;z-index: 1;position: relative;background-color: white;}#sk-container-id-2 div.sk-parallel-item:first-child::after {align-self: flex-end;width: 50%;}#sk-container-id-2 div.sk-parallel-item:last-child::after {align-self: flex-start;width: 50%;}#sk-container-id-2 div.sk-parallel-item:only-child::after {width: 0;}#sk-container-id-2 div.sk-dashed-wrapped {border: 1px dashed gray;margin: 0 0.4em 0.5em 0.4em;box-sizing: border-box;padding-bottom: 0.4em;background-color: white;}#sk-container-id-2 div.sk-label label {font-family: monospace;font-weight: bold;display: inline-block;line-height: 1.2em;}#sk-container-id-2 div.sk-label-container {text-align: center;}#sk-container-id-2 div.sk-container {/* jupyter's `normalize.less` sets `[hidden] { display: none; }` but bootstrap.min.css set `[hidden] { display: none !important; }` so we also need the `!important` here to be able to override the default hidden behavior on the sphinx rendered scikit-learn.org. See: https://github.com/scikit-learn/scikit-learn/issues/21755 */display: inline-block !important;position: relative;}#sk-container-id-2 div.sk-text-repr-fallback {display: none;}</style><div id=\"sk-container-id-2\" class=\"sk-top-container\"><div class=\"sk-text-repr-fallback\"><pre>LogisticRegression(fit_intercept=False, max_iter=1000,\n",
       "                   multi_class=&#x27;multinomial&#x27;, random_state=42, solver=&#x27;saga&#x27;,\n",
       "                   tol=0.001)</pre><b>In a Jupyter environment, please rerun this cell to show the HTML representation or trust the notebook. <br />On GitHub, the HTML representation is unable to render, please try loading this page with nbviewer.org.</b></div><div class=\"sk-container\" hidden><div class=\"sk-item\"><div class=\"sk-estimator sk-toggleable\"><input class=\"sk-toggleable__control sk-hidden--visually\" id=\"sk-estimator-id-2\" type=\"checkbox\" checked><label for=\"sk-estimator-id-2\" class=\"sk-toggleable__label sk-toggleable__label-arrow\">LogisticRegression</label><div class=\"sk-toggleable__content\"><pre>LogisticRegression(fit_intercept=False, max_iter=1000,\n",
       "                   multi_class=&#x27;multinomial&#x27;, random_state=42, solver=&#x27;saga&#x27;,\n",
       "                   tol=0.001)</pre></div></div></div></div></div>"
      ],
      "text/plain": [
       "LogisticRegression(fit_intercept=False, max_iter=1000,\n",
       "                   multi_class='multinomial', random_state=42, solver='saga',\n",
       "                   tol=0.001)"
      ]
     },
     "metadata": {},
     "output_type": "display_data"
    }
   ],
   "source": [
    "model.fit(X_train, y_train)"
   ]
  },
  {
   "cell_type": "code",
   "execution_count": null,
   "metadata": {},
   "outputs": [
    {
     "name": "stdout",
     "output_type": "stream",
     "text": [
      "      tttt  ttta  ttaa  taac  aaca  acaa  caat  aatc  atca  tcat  ...  aatt  \\\n",
      "1303   0.0   0.0   0.0   0.0   0.0   0.0   0.0   0.0   0.0   0.0  ...   0.0   \n",
      "6597   0.0   0.0   0.0   0.0   0.0   0.0   0.0   0.0   0.0   0.0  ...   0.0   \n",
      "4096   0.0   0.0   0.0   0.0   0.0   0.0   0.0   0.0   0.0   0.0  ...   0.0   \n",
      "7285   0.0   0.0   0.0   0.0   0.0   0.0   0.0   0.0   0.0   0.0  ...   0.0   \n",
      "4900   0.0   0.0   0.0   0.0   0.0   0.0   0.0   0.0   0.0   0.0  ...   0.0   \n",
      "...    ...   ...   ...   ...   ...   ...   ...   ...   ...   ...  ...   ...   \n",
      "4287   0.0   0.0   0.0   0.0   0.0   0.0   0.0   0.0   0.0   0.0  ...   0.0   \n",
      "5019   0.0   0.0   0.0   0.0   0.0   0.0   0.0   0.0   0.0   0.0  ...   0.0   \n",
      "422    0.0   0.0   0.0   0.0   0.0   0.0   0.0   0.0   0.0   0.0  ...   0.0   \n",
      "7322   0.0   0.0   0.0   0.0   0.0   0.0   0.0   0.0   0.0   0.0  ...   0.0   \n",
      "5932   0.0   0.0   0.0   0.0   0.0   0.0   0.0   0.0   0.0   0.0  ...   0.0   \n",
      "\n",
      "      atta  tatc  atct  tctt  cttg  ttgt  tgta  gtaa  taaa  \n",
      "1303   0.0   0.0   0.0   0.0   0.0   0.0   0.0   0.0   0.0  \n",
      "6597   0.0   0.0   0.0   0.0   0.0   0.0   0.0   0.0   0.0  \n",
      "4096   0.0   0.0   0.0   0.0   0.0   0.0   0.0   0.0   0.0  \n",
      "7285   0.0   0.0   0.0   0.0   0.0   0.0   0.0   0.0   0.0  \n",
      "4900   0.0   0.0   0.0   0.0   0.0   0.0   0.0   0.0   0.0  \n",
      "...    ...   ...   ...   ...   ...   ...   ...   ...   ...  \n",
      "4287   0.0   0.0   0.0   0.0   0.0   0.0   0.0   0.0   0.0  \n",
      "5019   0.0   0.0   0.0   0.0   0.0   0.0   0.0   0.0   0.0  \n",
      "422    0.0   0.0   0.0   0.0   0.0   0.0   0.0   0.0   0.0  \n",
      "7322   0.0   0.0   0.0   0.0   0.0   0.0   0.0   0.0   0.0  \n",
      "5932   0.0   0.0   0.0   0.0   0.0   0.0   0.0   0.0   0.0  \n",
      "\n",
      "[3112 rows x 32 columns]\n",
      "1.0\n"
     ]
    }
   ],
   "source": [
    "predictions = model.predict(X_test)\n",
    "print(X_test)\n",
    "\n",
    "print(model.score(X_test, predictions))\n"
   ]
  },
  {
   "cell_type": "code",
   "execution_count": null,
   "metadata": {},
   "outputs": [
    {
     "name": "stdout",
     "output_type": "stream",
     "text": [
      "a bcdef\n"
     ]
    }
   ],
   "source": [
    "print(model.predict())"
   ]
  }
 ],
 "metadata": {
  "kernelspec": {
   "display_name": "Python 3.8.13 ('seq')",
   "language": "python",
   "name": "python3"
  },
  "language_info": {
   "codemirror_mode": {
    "name": "ipython",
    "version": 3
   },
   "file_extension": ".py",
   "mimetype": "text/x-python",
   "name": "python",
   "nbconvert_exporter": "python",
   "pygments_lexer": "ipython3",
   "version": "3.8.13"
  },
  "orig_nbformat": 4,
  "vscode": {
   "interpreter": {
    "hash": "e1360c63304de9435a2a3572d38e6c9496b6fb5d1617f35fbc8638664d664ab4"
   }
  }
 },
 "nbformat": 4,
 "nbformat_minor": 2
}
