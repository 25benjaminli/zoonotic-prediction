{
 "cells": [
  {
   "cell_type": "code",
   "execution_count": 83,
   "metadata": {},
   "outputs": [],
   "source": [
    "import pandas as pd\n",
    "from sklearn.linear_model import LogisticRegression\n",
    "from sklearn.neighbors import KNeighborsClassifier\n",
    "from sklearn.tree import DecisionTreeClassifier\n",
    "from imblearn.ensemble import BalancedBaggingClassifier\n",
    "from sklearn.model_selection import train_test_split\n",
    "from itertools import permutations, product\n",
    "import functools\n",
    "from sklearn.metrics import accuracy_score, confusion_matrix\n",
    "import tqdm\n",
    "from numba import njit,jit\n",
    "import numpy as np\n",
    "import pickle\n",
    "from os import path\n",
    "\n",
    "from warnings import simplefilter\n",
    "from collections import OrderedDict\n",
    "\n",
    "simplefilter(action=\"ignore\", category=pd.errors.PerformanceWarning)\n"
   ]
  },
  {
   "cell_type": "code",
   "execution_count": 4,
   "metadata": {},
   "outputs": [
    {
     "name": "stdout",
     "output_type": "stream",
     "text": [
      "1236\n",
      "8192\n"
     ]
    }
   ],
   "source": [
    "df = pd.read_csv('virus_genome/human_infecting_virus', delimiter='\\t', header=None)\n",
    "df[['ID', 'DNA Sequence']] = df[0].str.split(expand=True)\n",
    "df = df.drop(0, axis=1)\n",
    "df['isZoonotic'] = 1\n",
    "\n",
    "\n",
    "df2 = pd.read_csv('virus_genome/Other_viruses', delimiter='\\t', header=None)\n",
    "df2[['ID', 'DNA Sequence']] = df2[0].str.split(expand=True)\n",
    "df2 = df2.drop(0, axis=1)\n",
    "df2['isZoonotic'] = 0\n",
    "\n",
    "# make both have the same amount of samples..?\n",
    "\n",
    "thresh = len(df)\n",
    "# df2.drop(df2.index[thresh:len(df2.index)], inplace=True)\n",
    "\n",
    "dfother = pd.DataFrame()\n",
    "it = len(df)+1\n",
    "kmer = 4\n",
    "\n",
    "print(len(df))\n",
    "print(len(df2))\n",
    "# iterate through each sequence\n",
    "for i in range(len(df2)):\n",
    "    dfother.at[it, 'DNA Sequence']=df2.at[i, 'DNA Sequence']\n",
    "    dfother.at[it, 'isZoonotic']=int(0)\n",
    "    dfother.at[it, 'ID']=df2.at[i, 'ID']\n",
    "\n",
    "    it+=1\n",
    "\n",
    "\n",
    "mergedDf = pd.concat([df, dfother], axis=0)\n"
   ]
  },
  {
   "cell_type": "code",
   "execution_count": 5,
   "metadata": {},
   "outputs": [
    {
     "name": "stdout",
     "output_type": "stream",
     "text": [
      "           ID                                       DNA Sequence  isZoonotic\n",
      "0       37121  cttttaacaatcatagttttataaaagggtgtaaccgaagcggttt...         1.0\n",
      "1      129724  atactttacaattatcttgtaaaaagtagggtgtaaccgaaaaggg...         1.0\n",
      "2       59303  atggcggacgtgtgacatcaccgttcgctctttctaggatcctttg...         1.0\n",
      "3      120686  ttgttctacttcttactcattattataaattataatgtttgtataa...         1.0\n",
      "4       99565  gtgaatgatgatggcgtcgaaagacgtcgttgcagctactgctgct...         1.0\n",
      "...       ...                                                ...         ...\n",
      "9424   268315  ggatccacagaactccttgtatgtacagccgcgggtacccacagca...         0.0\n",
      "9425   130329  ctcatgtcattaataagaccatgcagaaaatgcaaatgaggcgaag...         0.0\n",
      "9426  1239437  ccgaagtgggatggcggctgccgccgcttcggcgcttggcgcttcg...         0.0\n",
      "9427   358812  gtatacgaggttagttcattctcgtatacacgattggacaaatcaa...         0.0\n",
      "9428    11287  atggaaggaggaattcgtgcagcgttttcaggcctgaatgatgtta...         0.0\n",
      "\n",
      "[9428 rows x 3 columns]\n"
     ]
    }
   ],
   "source": [
    "# print(df.shape)\n",
    "# print(df2.shape)\n",
    "\n",
    "print(mergedDf)"
   ]
  },
  {
   "cell_type": "code",
   "execution_count": 6,
   "metadata": {},
   "outputs": [
    {
     "name": "stdout",
     "output_type": "stream",
     "text": [
      "{'atac', 'ccta', 'aaca', 'aaat', 'aggc', 'tcgc', 'ttaa', 'taga', 'accc', 'tcca', 'cggt', 'ctcc', 'tata', 'gttt', 'gtag', 'gaat', 'cgct', 'aatt', 'cacc', 'tact', 'accg', 'attt', 'aact', 'taca', 'tttg', 'ccct', 'tctg', 'cgtc', 'ctga', 'cgga', 'cctc', 'ccgg', 'cgcc', 'tctc', 'ggta', 'ccca', 'gtta', 'catc', 'cgca', 'caat', 'tcag', 'cata', 'gaga', 'ttgt', 'gtaa', 'agcg', 'agct', 'cgcg', 'tcgg', 'gatc', 'tgtg', 'aata', 'cagc', 'ctag', 'gcat', 'acat', 'ttac', 'cctg', 'acac', 'atag', 'tggt', 'gcgt', 'cact', 'cttc', 'ctaa', 'agtt', 'tttt', 'cccg', 'ttgc', 'gcag', 'tgcc', 'agcc', 'cgat', 'ggct', 'gatg', 'gttg', 'ccga', 'tgta', 'atct', 'ccag', 'ccgt', 'ctta', 'atcg', 'ggcc', 'atta', 'gacg', 'tacg', 'tgat', 'gcca', 'catt', 'ctgc', 'aagt', 'aaga', 'gccc', 'acgc', 'caaa', 'ggtc', 'ggat', 'tagt', 'gcac', 'atca', 'aggg', 'cccc', 'agac', 'tatc', 'cgta', 'gact', 'agtg', 'tcga', 'tgtt', 'gctg', 'agaa', 'cagt', 'gcga', 'tgag', 'agca', 'ttct', 'acga', 'gcta', 'aagg', 'cgtg', 'tgac', 'ctat', 'atgc', 'cgac', 'gggt', 'agga', 'ctac', 'tggc', 'gaca', 'gacc', 'actg', 'gaaa', 'gagg', 'aaac', 'gtgg', 'tgga', 'cacg', 'acag', 'gggc', 'gcct', 'ggtt', 'gtct', 'gctc', 'gata', 'gagt', 'cttg', 'tggg', 'aggt', 'tatg', 'tgct', 'acct', 'gaag', 'ggca', 'acgg', 'gtac', 'gctt', 'acta', 'aaag', 'tagg', 'tcgt', 'agat', 'cggg', 'ctca', 'tacc', 'caac', 'cttt', 'ccac', 'gggg', 'tgtc', 'ataa', 'gtat', 'cgtt', 'tcct', 'cggc', 'gccg', 'atat', 'ctgg', 'cagg', 'taac', 'gaac', 'ccaa', 'gtca', 'caag', 'agtc', 'acgt', 'catg', 'gcgg', 'gtga', 'tgcg', 'ggac', 'ttga', 'ctct', 'ggtg', 'aaaa', 'atga', 'agag', 'tcaa', 'aacc', 'attc', 'ggcg', 'gtgc', 'tcta', 'taaa', 'tccg', 'gagc', 'caga', 'cgaa', 'tcat', 'ttta', 'ggaa', 'aacg', 'gtgt', 'tagc', 'ttca', 'tctt', 'ttgg', 'cctt', 'tcac', 'gcaa', 'ctgt', 'tgca', 'ccat', 'ggga', 'aagc', 'atcc', 'aatg', 'gatt', 'gtcc', 'ggag', 'gtcg', 'taat', 'tatt', 'atgt', 'gttc', 'cgag', 'agta', 'aatc', 'ttcc', 'tttc', 'acca', 'actc', 'actt', 'atgg', 'acaa', 'ctcg', 'gcgc', 'ttag', 'ccgc', 'ttcg', 'tgaa', 'tccc', 'taag', 'ttat', 'caca', 'attg'}\n",
      "256\n"
     ]
    }
   ],
   "source": [
    "kmer = 4\n",
    "s = product('acgt',repeat = kmer)\n",
    "permset = set([\"\".join(x) for x in list(s)])\n",
    "\n",
    "del s\n",
    "print(permset)\n",
    "print(len(permset))\n"
   ]
  },
  {
   "cell_type": "code",
   "execution_count": 7,
   "metadata": {},
   "outputs": [],
   "source": [
    "def ComputeKmerVector(sequence,k,KmerCount):\n",
    "    n = len(sequence)\n",
    "    # find number of occurrences of certain kmers, then \n",
    "    for j in range(0,n-k+1):\n",
    "        kmer = sequence[j:(j+k)]\n",
    "        if kmer in KmerCount:\n",
    "            KmerCount[kmer] += 1\n",
    "        else:\n",
    "            continue\n",
    "\n",
    "    KmerVec = OrderedDict()\n",
    "\n",
    "    \n",
    "    for m in KmerCount:\n",
    "        KmerVec[m] = float(KmerCount[m])/float(n-k+1)\n",
    "    Vec = list(KmerVec.values())\n",
    "    \n",
    "    return Vec\n",
    "def queryKmer(name,kmer):\n",
    "    \n",
    "    KmerCount = OrderedDict()\n",
    "    s = itertools.product('acgt',repeat = kmer)\n",
    "    sl = list(s)\n",
    "    for i in range(0,len(sl)):\n",
    "        a0 = str(sl[i])\n",
    "        a1 = a0.replace(\"(\",\"\")\n",
    "        a2 = a1.replace(\")\",\"\")\n",
    "        a3 = a2.replace(\",\",\"\")\n",
    "        a4 = a3.replace(\"'\",\"\")\n",
    "        a4 = a4.replace(\" \", \"\")\n",
    "        KmerCount[a4] = 0\n",
    "    zero = [0 for _ in range(len(sl))]\n",
    "    \n",
    "    total_lst = list()\n",
    "    for line in name:\n",
    "        tt = line.strip('\\n').split(' ')\n",
    "        Seq = tt[1].upper()\n",
    "        KmerCount = OrderedDict(zip(KmerCount.keys(),zero))\n",
    "        temp = \" \".join(map(str,ComputeKmerVector(Seq,kmer,KmerCount)))\n",
    "        temp = tt[0]+' '+temp\n",
    "        IVL = temp.split(' ')\n",
    "        total_lst.append(IVL)\n",
    "    ID_VEC_LABEL = pd.DataFrame(total_lst)\n",
    "    return ID_VEC_LABEL"
   ]
  },
  {
   "cell_type": "code",
   "execution_count": 29,
   "metadata": {},
   "outputs": [
    {
     "name": "stderr",
     "output_type": "stream",
     "text": [
      "9428it [01:18, 120.68it/s]\n"
     ]
    },
    {
     "name": "stdout",
     "output_type": "stream",
     "text": [
      "      atac  ccta  aaca  aaat  aggc  tcgc  ttaa  taga  accc  tcca  ...  gcgc  \\\n",
      "0       49    33    79    63    26     3    56    40    21    28  ...     5   \n",
      "1       44    34    59    68    26    11    47    32    27    27  ...     7   \n",
      "2       48    37    71    43    61    31    18    30    51    59  ...    42   \n",
      "3       43    43    61    48    35    10    41    39    33    32  ...    10   \n",
      "4       26    22    45    39    47     8    30    22    47    38  ...    12   \n",
      "...    ...   ...   ...   ...   ...   ...   ...   ...   ...   ...  ...   ...   \n",
      "9423     9     8    13    14    16     4     4     6     9    19  ...     5   \n",
      "9424   143    67   193   289    77    76   204   125    62   140  ...   106   \n",
      "9425    22    21    49    55    29     9    30    31    15    29  ...    10   \n",
      "9426    52    38    86    70    53    12    42    51    58    31  ...    14   \n",
      "9427    19    40    58    39    57    22     5    35    53    65  ...    15   \n",
      "\n",
      "      ttag  ccgc  ttcg  tgaa  tccc  taag  ttat  caca  attg  \n",
      "0       28     4     5    40     8    30    68    53    51  \n",
      "1       31    15     5    35     8    24    74    62    54  \n",
      "2       19    56    28    58    42    33    15    51    31  \n",
      "3       34     9    11    20    17    26    55    53    49  \n",
      "4       22    21     6    42    23    17    40    38    52  \n",
      "...    ...   ...   ...   ...   ...   ...   ...   ...   ...  \n",
      "9423     4     7     7    20     9     8    12     8    14  \n",
      "9424   104    81    86   156    77   123   188   155   213  \n",
      "9425    18     9     9    54    14    31    30    51    45  \n",
      "9426    33    15    19    86    22    47    50    74    48  \n",
      "9427    15    26    32    35    71    12    10    88    43  \n",
      "\n",
      "[9428 rows x 256 columns]\n",
      "finished\n"
     ]
    }
   ],
   "source": [
    "dna = mergedDf['DNA Sequence']\n",
    "Y = mergedDf['isZoonotic']\n",
    "\n",
    "kmer = 4\n",
    "\n",
    "def resetkmerdict()->OrderedDict:\n",
    "    kmerdict = OrderedDict()\n",
    "    for i in permset:\n",
    "        kmerdict[i]=0\n",
    "    return kmerdict\n",
    "\n",
    "def assign_kmers_to_dict(row):\n",
    "    kmerdict=resetkmerdict()\n",
    "    st = row[2]\n",
    "    for j in range(len(st)-kmer+1):\n",
    "        if not st[j:j+kmer] in permset: continue\n",
    "        kmerdict[st[j:j+kmer]]+=1\n",
    "    return kmerdict\n",
    "\n",
    "\n",
    "asdf=0\n",
    "l = []\n",
    "\n",
    "for row in tqdm.tqdm(mergedDf.itertuples()):\n",
    "    l.append(assign_kmers_to_dict(row))\n",
    "\n",
    "finalkmerdict=pd.DataFrame(l)\n",
    "print(finalkmerdict)\n",
    "\n",
    "print(\"finished\")"
   ]
  },
  {
   "cell_type": "code",
   "execution_count": 9,
   "metadata": {},
   "outputs": [],
   "source": [
    "# mergedDf.drop(mergedDf.index[100:mergedDf.shape[0]], inplace=True)\n",
    "\n",
    "for i in range(3, mergedDf.shape[1]-1):\n",
    "    for j in range(0, 100):\n",
    "        print(mergedDf.head().loc[j])\n",
    "        str(mergedDf.head().loc[j][mergedDf.columns[i]]) != \"nan\" and print(mergedDf.head().loc[0][mergedDf.columns[i]])\n",
    "# print(len(mergedDf))\n"
   ]
  },
  {
   "cell_type": "code",
   "execution_count": 38,
   "metadata": {},
   "outputs": [
    {
     "name": "stdout",
     "output_type": "stream",
     "text": [
      "      atac  ccta  aaca  aaat  aggc  tcgc  ttaa  taga  accc  tcca  ...  gcgc  \\\n",
      "0       49    33    79    63    26     3    56    40    21    28  ...     5   \n",
      "1       44    34    59    68    26    11    47    32    27    27  ...     7   \n",
      "2       48    37    71    43    61    31    18    30    51    59  ...    42   \n",
      "3       43    43    61    48    35    10    41    39    33    32  ...    10   \n",
      "4       26    22    45    39    47     8    30    22    47    38  ...    12   \n",
      "...    ...   ...   ...   ...   ...   ...   ...   ...   ...   ...  ...   ...   \n",
      "9423     9     8    13    14    16     4     4     6     9    19  ...     5   \n",
      "9424   143    67   193   289    77    76   204   125    62   140  ...   106   \n",
      "9425    22    21    49    55    29     9    30    31    15    29  ...    10   \n",
      "9426    52    38    86    70    53    12    42    51    58    31  ...    14   \n",
      "9427    19    40    58    39    57    22     5    35    53    65  ...    15   \n",
      "\n",
      "      ttag  ccgc  ttcg  tgaa  tccc  taag  ttat  caca  attg  \n",
      "0       28     4     5    40     8    30    68    53    51  \n",
      "1       31    15     5    35     8    24    74    62    54  \n",
      "2       19    56    28    58    42    33    15    51    31  \n",
      "3       34     9    11    20    17    26    55    53    49  \n",
      "4       22    21     6    42    23    17    40    38    52  \n",
      "...    ...   ...   ...   ...   ...   ...   ...   ...   ...  \n",
      "9423     4     7     7    20     9     8    12     8    14  \n",
      "9424   104    81    86   156    77   123   188   155   213  \n",
      "9425    18     9     9    54    14    31    30    51    45  \n",
      "9426    33    15    19    86    22    47    50    74    48  \n",
      "9427    15    26    32    35    71    12    10    88    43  \n",
      "\n",
      "[9428 rows x 256 columns]\n",
      "0       1.0\n",
      "1       1.0\n",
      "2       1.0\n",
      "3       1.0\n",
      "4       1.0\n",
      "       ... \n",
      "9424    0.0\n",
      "9425    0.0\n",
      "9426    0.0\n",
      "9427    0.0\n",
      "9428    0.0\n",
      "Name: isZoonotic, Length: 9428, dtype: float64\n"
     ]
    }
   ],
   "source": [
    "mergedDf.fillna(0, inplace=True)\n",
    "\n",
    "X = finalkmerdict\n",
    "Y = mergedDf['isZoonotic']\n",
    "\n",
    "print(X)\n",
    "print(Y)"
   ]
  },
  {
   "cell_type": "code",
   "execution_count": 11,
   "metadata": {},
   "outputs": [
    {
     "name": "stdout",
     "output_type": "stream",
     "text": [
      "           ID                                       DNA Sequence  isZoonotic\n",
      "0       37121  cttttaacaatcatagttttataaaagggtgtaaccgaagcggttt...         1.0\n",
      "1      129724  atactttacaattatcttgtaaaaagtagggtgtaaccgaaaaggg...         1.0\n",
      "2       59303  atggcggacgtgtgacatcaccgttcgctctttctaggatcctttg...         1.0\n",
      "3      120686  ttgttctacttcttactcattattataaattataatgtttgtataa...         1.0\n",
      "4       99565  gtgaatgatgatggcgtcgaaagacgtcgttgcagctactgctgct...         1.0\n",
      "...       ...                                                ...         ...\n",
      "9424   268315  ggatccacagaactccttgtatgtacagccgcgggtacccacagca...         0.0\n",
      "9425   130329  ctcatgtcattaataagaccatgcagaaaatgcaaatgaggcgaag...         0.0\n",
      "9426  1239437  ccgaagtgggatggcggctgccgccgcttcggcgcttggcgcttcg...         0.0\n",
      "9427   358812  gtatacgaggttagttcattctcgtatacacgattggacaaatcaa...         0.0\n",
      "9428    11287  atggaaggaggaattcgtgcagcgttttcaggcctgaatgatgtta...         0.0\n",
      "\n",
      "[9428 rows x 3 columns]\n"
     ]
    }
   ],
   "source": [
    "print(mergedDf)"
   ]
  },
  {
   "cell_type": "code",
   "execution_count": 32,
   "metadata": {},
   "outputs": [],
   "source": [
    "X_train, X_test, y_train, y_test = train_test_split(X, Y, test_size=0.1, random_state=1)\n",
    "\n",
    "zz = X_train.head()\n",
    "\n",
    "# print([mergedDf[x].sum() for x in mergedDf if x != 'ID' and x != 'DNA Sequence' and x != 'isZoonotic'])\n",
    "# for i in range(10):\n",
    "#     print(i)\n",
    "#     print(mergedDf[mergedDf.isin([i]).any(axis=1)])\n",
    "# print(mergedDf.loc[mergedDf[mergedDf.columns] == 1])"
   ]
  },
  {
   "cell_type": "code",
   "execution_count": 44,
   "metadata": {},
   "outputs": [
    {
     "data": {
      "text/html": [
       "<style>#sk-container-id-4 {color: black;background-color: white;}#sk-container-id-4 pre{padding: 0;}#sk-container-id-4 div.sk-toggleable {background-color: white;}#sk-container-id-4 label.sk-toggleable__label {cursor: pointer;display: block;width: 100%;margin-bottom: 0;padding: 0.3em;box-sizing: border-box;text-align: center;}#sk-container-id-4 label.sk-toggleable__label-arrow:before {content: \"▸\";float: left;margin-right: 0.25em;color: #696969;}#sk-container-id-4 label.sk-toggleable__label-arrow:hover:before {color: black;}#sk-container-id-4 div.sk-estimator:hover label.sk-toggleable__label-arrow:before {color: black;}#sk-container-id-4 div.sk-toggleable__content {max-height: 0;max-width: 0;overflow: hidden;text-align: left;background-color: #f0f8ff;}#sk-container-id-4 div.sk-toggleable__content pre {margin: 0.2em;color: black;border-radius: 0.25em;background-color: #f0f8ff;}#sk-container-id-4 input.sk-toggleable__control:checked~div.sk-toggleable__content {max-height: 200px;max-width: 100%;overflow: auto;}#sk-container-id-4 input.sk-toggleable__control:checked~label.sk-toggleable__label-arrow:before {content: \"▾\";}#sk-container-id-4 div.sk-estimator input.sk-toggleable__control:checked~label.sk-toggleable__label {background-color: #d4ebff;}#sk-container-id-4 div.sk-label input.sk-toggleable__control:checked~label.sk-toggleable__label {background-color: #d4ebff;}#sk-container-id-4 input.sk-hidden--visually {border: 0;clip: rect(1px 1px 1px 1px);clip: rect(1px, 1px, 1px, 1px);height: 1px;margin: -1px;overflow: hidden;padding: 0;position: absolute;width: 1px;}#sk-container-id-4 div.sk-estimator {font-family: monospace;background-color: #f0f8ff;border: 1px dotted black;border-radius: 0.25em;box-sizing: border-box;margin-bottom: 0.5em;}#sk-container-id-4 div.sk-estimator:hover {background-color: #d4ebff;}#sk-container-id-4 div.sk-parallel-item::after {content: \"\";width: 100%;border-bottom: 1px solid gray;flex-grow: 1;}#sk-container-id-4 div.sk-label:hover label.sk-toggleable__label {background-color: #d4ebff;}#sk-container-id-4 div.sk-serial::before {content: \"\";position: absolute;border-left: 1px solid gray;box-sizing: border-box;top: 0;bottom: 0;left: 50%;z-index: 0;}#sk-container-id-4 div.sk-serial {display: flex;flex-direction: column;align-items: center;background-color: white;padding-right: 0.2em;padding-left: 0.2em;position: relative;}#sk-container-id-4 div.sk-item {position: relative;z-index: 1;}#sk-container-id-4 div.sk-parallel {display: flex;align-items: stretch;justify-content: center;background-color: white;position: relative;}#sk-container-id-4 div.sk-item::before, #sk-container-id-4 div.sk-parallel-item::before {content: \"\";position: absolute;border-left: 1px solid gray;box-sizing: border-box;top: 0;bottom: 0;left: 50%;z-index: -1;}#sk-container-id-4 div.sk-parallel-item {display: flex;flex-direction: column;z-index: 1;position: relative;background-color: white;}#sk-container-id-4 div.sk-parallel-item:first-child::after {align-self: flex-end;width: 50%;}#sk-container-id-4 div.sk-parallel-item:last-child::after {align-self: flex-start;width: 50%;}#sk-container-id-4 div.sk-parallel-item:only-child::after {width: 0;}#sk-container-id-4 div.sk-dashed-wrapped {border: 1px dashed gray;margin: 0 0.4em 0.5em 0.4em;box-sizing: border-box;padding-bottom: 0.4em;background-color: white;}#sk-container-id-4 div.sk-label label {font-family: monospace;font-weight: bold;display: inline-block;line-height: 1.2em;}#sk-container-id-4 div.sk-label-container {text-align: center;}#sk-container-id-4 div.sk-container {/* jupyter's `normalize.less` sets `[hidden] { display: none; }` but bootstrap.min.css set `[hidden] { display: none !important; }` so we also need the `!important` here to be able to override the default hidden behavior on the sphinx rendered scikit-learn.org. See: https://github.com/scikit-learn/scikit-learn/issues/21755 */display: inline-block !important;position: relative;}#sk-container-id-4 div.sk-text-repr-fallback {display: none;}</style><div id=\"sk-container-id-4\" class=\"sk-top-container\"><div class=\"sk-text-repr-fallback\"><pre>LogisticRegression(fit_intercept=False, max_iter=1000,\n",
       "                   multi_class=&#x27;multinomial&#x27;, random_state=42, solver=&#x27;saga&#x27;,\n",
       "                   tol=0.001)</pre><b>In a Jupyter environment, please rerun this cell to show the HTML representation or trust the notebook. <br />On GitHub, the HTML representation is unable to render, please try loading this page with nbviewer.org.</b></div><div class=\"sk-container\" hidden><div class=\"sk-item\"><div class=\"sk-estimator sk-toggleable\"><input class=\"sk-toggleable__control sk-hidden--visually\" id=\"sk-estimator-id-6\" type=\"checkbox\" checked><label for=\"sk-estimator-id-6\" class=\"sk-toggleable__label sk-toggleable__label-arrow\">LogisticRegression</label><div class=\"sk-toggleable__content\"><pre>LogisticRegression(fit_intercept=False, max_iter=1000,\n",
       "                   multi_class=&#x27;multinomial&#x27;, random_state=42, solver=&#x27;saga&#x27;,\n",
       "                   tol=0.001)</pre></div></div></div></div></div>"
      ],
      "text/plain": [
       "LogisticRegression(fit_intercept=False, max_iter=1000,\n",
       "                   multi_class='multinomial', random_state=42, solver='saga',\n",
       "                   tol=0.001)"
      ]
     },
     "execution_count": 44,
     "metadata": {},
     "output_type": "execute_result"
    }
   ],
   "source": [
    "model = LogisticRegression(\n",
    "    multi_class=\"multinomial\", max_iter=1000,\n",
    "    fit_intercept=False, tol=0.001, solver='saga', random_state=42)\n",
    "model.fit(X_train, y_train)"
   ]
  },
  {
   "cell_type": "code",
   "execution_count": 46,
   "metadata": {},
   "outputs": [
    {
     "name": "stdout",
     "output_type": "stream",
     "text": [
      "[]\n",
      "0.8685047720042418\n"
     ]
    }
   ],
   "source": [
    "# all 0s for some reason\n",
    "predictions = model.predict(X_test)\n",
    "asdf = [x for x in predictions if x == 1]\n",
    "print(asdf)\n",
    "print(accuracy_score(y_test, predictions))"
   ]
  },
  {
   "cell_type": "code",
   "execution_count": 59,
   "metadata": {},
   "outputs": [
    {
     "data": {
      "text/html": [
       "<style>#sk-container-id-10 {color: black;background-color: white;}#sk-container-id-10 pre{padding: 0;}#sk-container-id-10 div.sk-toggleable {background-color: white;}#sk-container-id-10 label.sk-toggleable__label {cursor: pointer;display: block;width: 100%;margin-bottom: 0;padding: 0.3em;box-sizing: border-box;text-align: center;}#sk-container-id-10 label.sk-toggleable__label-arrow:before {content: \"▸\";float: left;margin-right: 0.25em;color: #696969;}#sk-container-id-10 label.sk-toggleable__label-arrow:hover:before {color: black;}#sk-container-id-10 div.sk-estimator:hover label.sk-toggleable__label-arrow:before {color: black;}#sk-container-id-10 div.sk-toggleable__content {max-height: 0;max-width: 0;overflow: hidden;text-align: left;background-color: #f0f8ff;}#sk-container-id-10 div.sk-toggleable__content pre {margin: 0.2em;color: black;border-radius: 0.25em;background-color: #f0f8ff;}#sk-container-id-10 input.sk-toggleable__control:checked~div.sk-toggleable__content {max-height: 200px;max-width: 100%;overflow: auto;}#sk-container-id-10 input.sk-toggleable__control:checked~label.sk-toggleable__label-arrow:before {content: \"▾\";}#sk-container-id-10 div.sk-estimator input.sk-toggleable__control:checked~label.sk-toggleable__label {background-color: #d4ebff;}#sk-container-id-10 div.sk-label input.sk-toggleable__control:checked~label.sk-toggleable__label {background-color: #d4ebff;}#sk-container-id-10 input.sk-hidden--visually {border: 0;clip: rect(1px 1px 1px 1px);clip: rect(1px, 1px, 1px, 1px);height: 1px;margin: -1px;overflow: hidden;padding: 0;position: absolute;width: 1px;}#sk-container-id-10 div.sk-estimator {font-family: monospace;background-color: #f0f8ff;border: 1px dotted black;border-radius: 0.25em;box-sizing: border-box;margin-bottom: 0.5em;}#sk-container-id-10 div.sk-estimator:hover {background-color: #d4ebff;}#sk-container-id-10 div.sk-parallel-item::after {content: \"\";width: 100%;border-bottom: 1px solid gray;flex-grow: 1;}#sk-container-id-10 div.sk-label:hover label.sk-toggleable__label {background-color: #d4ebff;}#sk-container-id-10 div.sk-serial::before {content: \"\";position: absolute;border-left: 1px solid gray;box-sizing: border-box;top: 0;bottom: 0;left: 50%;z-index: 0;}#sk-container-id-10 div.sk-serial {display: flex;flex-direction: column;align-items: center;background-color: white;padding-right: 0.2em;padding-left: 0.2em;position: relative;}#sk-container-id-10 div.sk-item {position: relative;z-index: 1;}#sk-container-id-10 div.sk-parallel {display: flex;align-items: stretch;justify-content: center;background-color: white;position: relative;}#sk-container-id-10 div.sk-item::before, #sk-container-id-10 div.sk-parallel-item::before {content: \"\";position: absolute;border-left: 1px solid gray;box-sizing: border-box;top: 0;bottom: 0;left: 50%;z-index: -1;}#sk-container-id-10 div.sk-parallel-item {display: flex;flex-direction: column;z-index: 1;position: relative;background-color: white;}#sk-container-id-10 div.sk-parallel-item:first-child::after {align-self: flex-end;width: 50%;}#sk-container-id-10 div.sk-parallel-item:last-child::after {align-self: flex-start;width: 50%;}#sk-container-id-10 div.sk-parallel-item:only-child::after {width: 0;}#sk-container-id-10 div.sk-dashed-wrapped {border: 1px dashed gray;margin: 0 0.4em 0.5em 0.4em;box-sizing: border-box;padding-bottom: 0.4em;background-color: white;}#sk-container-id-10 div.sk-label label {font-family: monospace;font-weight: bold;display: inline-block;line-height: 1.2em;}#sk-container-id-10 div.sk-label-container {text-align: center;}#sk-container-id-10 div.sk-container {/* jupyter's `normalize.less` sets `[hidden] { display: none; }` but bootstrap.min.css set `[hidden] { display: none !important; }` so we also need the `!important` here to be able to override the default hidden behavior on the sphinx rendered scikit-learn.org. See: https://github.com/scikit-learn/scikit-learn/issues/21755 */display: inline-block !important;position: relative;}#sk-container-id-10 div.sk-text-repr-fallback {display: none;}</style><div id=\"sk-container-id-10\" class=\"sk-top-container\"><div class=\"sk-text-repr-fallback\"><pre>BalancedBaggingClassifier(base_estimator=KNeighborsClassifier(n_jobs=1,\n",
       "                                                              n_neighbors=1),\n",
       "                          n_jobs=1)</pre><b>In a Jupyter environment, please rerun this cell to show the HTML representation or trust the notebook. <br />On GitHub, the HTML representation is unable to render, please try loading this page with nbviewer.org.</b></div><div class=\"sk-container\" hidden><div class=\"sk-item sk-dashed-wrapped\"><div class=\"sk-label-container\"><div class=\"sk-label sk-toggleable\"><input class=\"sk-toggleable__control sk-hidden--visually\" id=\"sk-estimator-id-22\" type=\"checkbox\" ><label for=\"sk-estimator-id-22\" class=\"sk-toggleable__label sk-toggleable__label-arrow\">BalancedBaggingClassifier</label><div class=\"sk-toggleable__content\"><pre>BalancedBaggingClassifier(base_estimator=KNeighborsClassifier(n_jobs=1,\n",
       "                                                              n_neighbors=1),\n",
       "                          n_jobs=1)</pre></div></div></div><div class=\"sk-parallel\"><div class=\"sk-parallel-item\"><div class=\"sk-item\"><div class=\"sk-label-container\"><div class=\"sk-label sk-toggleable\"><input class=\"sk-toggleable__control sk-hidden--visually\" id=\"sk-estimator-id-23\" type=\"checkbox\" ><label for=\"sk-estimator-id-23\" class=\"sk-toggleable__label sk-toggleable__label-arrow\">base_estimator: KNeighborsClassifier</label><div class=\"sk-toggleable__content\"><pre>KNeighborsClassifier(n_jobs=1, n_neighbors=1)</pre></div></div></div><div class=\"sk-serial\"><div class=\"sk-item\"><div class=\"sk-estimator sk-toggleable\"><input class=\"sk-toggleable__control sk-hidden--visually\" id=\"sk-estimator-id-24\" type=\"checkbox\" ><label for=\"sk-estimator-id-24\" class=\"sk-toggleable__label sk-toggleable__label-arrow\">KNeighborsClassifier</label><div class=\"sk-toggleable__content\"><pre>KNeighborsClassifier(n_jobs=1, n_neighbors=1)</pre></div></div></div></div></div></div></div></div></div></div>"
      ],
      "text/plain": [
       "BalancedBaggingClassifier(base_estimator=KNeighborsClassifier(n_jobs=1,\n",
       "                                                              n_neighbors=1),\n",
       "                          n_jobs=1)"
      ]
     },
     "execution_count": 59,
     "metadata": {},
     "output_type": "execute_result"
    }
   ],
   "source": [
    "knntest = BalancedBaggingClassifier(base_estimator=KNeighborsClassifier(n_neighbors = 1, n_jobs = 1), n_estimators = 10, n_jobs = 1)\n",
    "\n",
    "knntest.fit(X_train, y_train)\n",
    "# knn = KNeighborsClassifier(n_neighbors=5)"
   ]
  },
  {
   "cell_type": "code",
   "execution_count": 60,
   "metadata": {},
   "outputs": [
    {
     "name": "stdout",
     "output_type": "stream",
     "text": [
      "[0. 0. 0. 0. 0. 1. 0. 0. 0. 0.]\n",
      "0.9236479321314952\n"
     ]
    }
   ],
   "source": [
    "predictions = knntest.predict(X_test)\n",
    "print(predictions[:10])\n",
    "print(accuracy_score(y_test, predictions))"
   ]
  },
  {
   "cell_type": "code",
   "execution_count": null,
   "metadata": {},
   "outputs": [],
   "source": []
  },
  {
   "cell_type": "code",
   "execution_count": 74,
   "metadata": {},
   "outputs": [
    {
     "name": "stderr",
     "output_type": "stream",
     "text": [
      "/Users/benjaminli/opt/miniconda3/envs/seq/lib/python3.8/site-packages/sklearn/tree/_classes.py:298: FutureWarning: `max_features='auto'` has been deprecated in 1.1 and will be removed in 1.3. To keep the past behaviour, explicitly set `max_features='sqrt'`.\n",
      "  warnings.warn(\n",
      "/Users/benjaminli/opt/miniconda3/envs/seq/lib/python3.8/site-packages/sklearn/tree/_classes.py:298: FutureWarning: `max_features='auto'` has been deprecated in 1.1 and will be removed in 1.3. To keep the past behaviour, explicitly set `max_features='sqrt'`.\n",
      "  warnings.warn(\n",
      "/Users/benjaminli/opt/miniconda3/envs/seq/lib/python3.8/site-packages/sklearn/tree/_classes.py:298: FutureWarning: `max_features='auto'` has been deprecated in 1.1 and will be removed in 1.3. To keep the past behaviour, explicitly set `max_features='sqrt'`.\n",
      "  warnings.warn(\n",
      "/Users/benjaminli/opt/miniconda3/envs/seq/lib/python3.8/site-packages/sklearn/tree/_classes.py:298: FutureWarning: `max_features='auto'` has been deprecated in 1.1 and will be removed in 1.3. To keep the past behaviour, explicitly set `max_features='sqrt'`.\n",
      "  warnings.warn(\n",
      "/Users/benjaminli/opt/miniconda3/envs/seq/lib/python3.8/site-packages/sklearn/tree/_classes.py:298: FutureWarning: `max_features='auto'` has been deprecated in 1.1 and will be removed in 1.3. To keep the past behaviour, explicitly set `max_features='sqrt'`.\n",
      "  warnings.warn(\n",
      "/Users/benjaminli/opt/miniconda3/envs/seq/lib/python3.8/site-packages/sklearn/tree/_classes.py:298: FutureWarning: `max_features='auto'` has been deprecated in 1.1 and will be removed in 1.3. To keep the past behaviour, explicitly set `max_features='sqrt'`.\n",
      "  warnings.warn(\n",
      "/Users/benjaminli/opt/miniconda3/envs/seq/lib/python3.8/site-packages/sklearn/tree/_classes.py:298: FutureWarning: `max_features='auto'` has been deprecated in 1.1 and will be removed in 1.3. To keep the past behaviour, explicitly set `max_features='sqrt'`.\n",
      "  warnings.warn(\n",
      "/Users/benjaminli/opt/miniconda3/envs/seq/lib/python3.8/site-packages/sklearn/tree/_classes.py:298: FutureWarning: `max_features='auto'` has been deprecated in 1.1 and will be removed in 1.3. To keep the past behaviour, explicitly set `max_features='sqrt'`.\n",
      "  warnings.warn(\n",
      "/Users/benjaminli/opt/miniconda3/envs/seq/lib/python3.8/site-packages/sklearn/tree/_classes.py:298: FutureWarning: `max_features='auto'` has been deprecated in 1.1 and will be removed in 1.3. To keep the past behaviour, explicitly set `max_features='sqrt'`.\n",
      "  warnings.warn(\n",
      "/Users/benjaminli/opt/miniconda3/envs/seq/lib/python3.8/site-packages/sklearn/tree/_classes.py:298: FutureWarning: `max_features='auto'` has been deprecated in 1.1 and will be removed in 1.3. To keep the past behaviour, explicitly set `max_features='sqrt'`.\n",
      "  warnings.warn(\n"
     ]
    },
    {
     "data": {
      "text/html": [
       "<style>#sk-container-id-14 {color: black;background-color: white;}#sk-container-id-14 pre{padding: 0;}#sk-container-id-14 div.sk-toggleable {background-color: white;}#sk-container-id-14 label.sk-toggleable__label {cursor: pointer;display: block;width: 100%;margin-bottom: 0;padding: 0.3em;box-sizing: border-box;text-align: center;}#sk-container-id-14 label.sk-toggleable__label-arrow:before {content: \"▸\";float: left;margin-right: 0.25em;color: #696969;}#sk-container-id-14 label.sk-toggleable__label-arrow:hover:before {color: black;}#sk-container-id-14 div.sk-estimator:hover label.sk-toggleable__label-arrow:before {color: black;}#sk-container-id-14 div.sk-toggleable__content {max-height: 0;max-width: 0;overflow: hidden;text-align: left;background-color: #f0f8ff;}#sk-container-id-14 div.sk-toggleable__content pre {margin: 0.2em;color: black;border-radius: 0.25em;background-color: #f0f8ff;}#sk-container-id-14 input.sk-toggleable__control:checked~div.sk-toggleable__content {max-height: 200px;max-width: 100%;overflow: auto;}#sk-container-id-14 input.sk-toggleable__control:checked~label.sk-toggleable__label-arrow:before {content: \"▾\";}#sk-container-id-14 div.sk-estimator input.sk-toggleable__control:checked~label.sk-toggleable__label {background-color: #d4ebff;}#sk-container-id-14 div.sk-label input.sk-toggleable__control:checked~label.sk-toggleable__label {background-color: #d4ebff;}#sk-container-id-14 input.sk-hidden--visually {border: 0;clip: rect(1px 1px 1px 1px);clip: rect(1px, 1px, 1px, 1px);height: 1px;margin: -1px;overflow: hidden;padding: 0;position: absolute;width: 1px;}#sk-container-id-14 div.sk-estimator {font-family: monospace;background-color: #f0f8ff;border: 1px dotted black;border-radius: 0.25em;box-sizing: border-box;margin-bottom: 0.5em;}#sk-container-id-14 div.sk-estimator:hover {background-color: #d4ebff;}#sk-container-id-14 div.sk-parallel-item::after {content: \"\";width: 100%;border-bottom: 1px solid gray;flex-grow: 1;}#sk-container-id-14 div.sk-label:hover label.sk-toggleable__label {background-color: #d4ebff;}#sk-container-id-14 div.sk-serial::before {content: \"\";position: absolute;border-left: 1px solid gray;box-sizing: border-box;top: 0;bottom: 0;left: 50%;z-index: 0;}#sk-container-id-14 div.sk-serial {display: flex;flex-direction: column;align-items: center;background-color: white;padding-right: 0.2em;padding-left: 0.2em;position: relative;}#sk-container-id-14 div.sk-item {position: relative;z-index: 1;}#sk-container-id-14 div.sk-parallel {display: flex;align-items: stretch;justify-content: center;background-color: white;position: relative;}#sk-container-id-14 div.sk-item::before, #sk-container-id-14 div.sk-parallel-item::before {content: \"\";position: absolute;border-left: 1px solid gray;box-sizing: border-box;top: 0;bottom: 0;left: 50%;z-index: -1;}#sk-container-id-14 div.sk-parallel-item {display: flex;flex-direction: column;z-index: 1;position: relative;background-color: white;}#sk-container-id-14 div.sk-parallel-item:first-child::after {align-self: flex-end;width: 50%;}#sk-container-id-14 div.sk-parallel-item:last-child::after {align-self: flex-start;width: 50%;}#sk-container-id-14 div.sk-parallel-item:only-child::after {width: 0;}#sk-container-id-14 div.sk-dashed-wrapped {border: 1px dashed gray;margin: 0 0.4em 0.5em 0.4em;box-sizing: border-box;padding-bottom: 0.4em;background-color: white;}#sk-container-id-14 div.sk-label label {font-family: monospace;font-weight: bold;display: inline-block;line-height: 1.2em;}#sk-container-id-14 div.sk-label-container {text-align: center;}#sk-container-id-14 div.sk-container {/* jupyter's `normalize.less` sets `[hidden] { display: none; }` but bootstrap.min.css set `[hidden] { display: none !important; }` so we also need the `!important` here to be able to override the default hidden behavior on the sphinx rendered scikit-learn.org. See: https://github.com/scikit-learn/scikit-learn/issues/21755 */display: inline-block !important;position: relative;}#sk-container-id-14 div.sk-text-repr-fallback {display: none;}</style><div id=\"sk-container-id-14\" class=\"sk-top-container\"><div class=\"sk-text-repr-fallback\"><pre>BalancedBaggingClassifier(base_estimator=DecisionTreeClassifier(max_features=&#x27;auto&#x27;))</pre><b>In a Jupyter environment, please rerun this cell to show the HTML representation or trust the notebook. <br />On GitHub, the HTML representation is unable to render, please try loading this page with nbviewer.org.</b></div><div class=\"sk-container\" hidden><div class=\"sk-item sk-dashed-wrapped\"><div class=\"sk-label-container\"><div class=\"sk-label sk-toggleable\"><input class=\"sk-toggleable__control sk-hidden--visually\" id=\"sk-estimator-id-34\" type=\"checkbox\" ><label for=\"sk-estimator-id-34\" class=\"sk-toggleable__label sk-toggleable__label-arrow\">BalancedBaggingClassifier</label><div class=\"sk-toggleable__content\"><pre>BalancedBaggingClassifier(base_estimator=DecisionTreeClassifier(max_features=&#x27;auto&#x27;))</pre></div></div></div><div class=\"sk-parallel\"><div class=\"sk-parallel-item\"><div class=\"sk-item\"><div class=\"sk-label-container\"><div class=\"sk-label sk-toggleable\"><input class=\"sk-toggleable__control sk-hidden--visually\" id=\"sk-estimator-id-35\" type=\"checkbox\" ><label for=\"sk-estimator-id-35\" class=\"sk-toggleable__label sk-toggleable__label-arrow\">base_estimator: DecisionTreeClassifier</label><div class=\"sk-toggleable__content\"><pre>DecisionTreeClassifier(max_features=&#x27;auto&#x27;)</pre></div></div></div><div class=\"sk-serial\"><div class=\"sk-item\"><div class=\"sk-estimator sk-toggleable\"><input class=\"sk-toggleable__control sk-hidden--visually\" id=\"sk-estimator-id-36\" type=\"checkbox\" ><label for=\"sk-estimator-id-36\" class=\"sk-toggleable__label sk-toggleable__label-arrow\">DecisionTreeClassifier</label><div class=\"sk-toggleable__content\"><pre>DecisionTreeClassifier(max_features=&#x27;auto&#x27;)</pre></div></div></div></div></div></div></div></div></div></div>"
      ],
      "text/plain": [
       "BalancedBaggingClassifier(base_estimator=DecisionTreeClassifier(max_features='auto'))"
      ]
     },
     "execution_count": 74,
     "metadata": {},
     "output_type": "execute_result"
    }
   ],
   "source": [
    "randforest = BalancedBaggingClassifier(base_estimator=DecisionTreeClassifier(max_features=\"auto\"))\n",
    "\n",
    "randforest.fit(X_train, y_train)"
   ]
  },
  {
   "cell_type": "code",
   "execution_count": 86,
   "metadata": {},
   "outputs": [
    {
     "name": "stdout",
     "output_type": "stream",
     "text": [
      "[0. 0. 0. 0. 0. 0. 0. 0. 0. 0. 0. 0. 0. 0. 0. 0. 1. 0. 0. 0. 1. 1. 0. 0.\n",
      " 0. 0. 0. 0. 0. 0. 1. 1. 0. 1. 0. 0. 0. 0. 1. 0. 0. 0. 0. 0. 0. 0. 1. 0.\n",
      " 0. 0. 0. 1. 0. 0. 0. 0. 0. 0. 0. 0. 0. 0. 0. 0. 0. 0. 1. 0. 0. 0. 0. 0.\n",
      " 0. 0. 0. 0. 0. 0. 0. 1. 1. 0. 0. 0. 0. 0. 0. 0. 0. 0. 0. 0. 0. 0. 0. 0.\n",
      " 0. 0. 0. 0.]\n",
      "accuracy same/lower\n",
      "0.0 vs 0.0\n",
      "0.0 vs 0.0\n",
      "0.0 vs 0.0\n",
      "0.0 vs 0.0\n",
      "0.0 vs 0.0\n",
      "0.0 vs 0.0\n",
      "0.0 vs 0.0\n",
      "0.0 vs 0.0\n",
      "0.0 vs 0.0\n",
      "0.0 vs 0.0\n",
      "0.0 vs 0.0\n",
      "0.0 vs 0.0\n",
      "0.0 vs 0.0\n",
      "0.0 vs 0.0\n",
      "0.0 vs 0.0\n",
      "0.0 vs 0.0\n",
      "1.0 vs 1.0\n",
      "0.0 vs 0.0\n",
      "0.0 vs 0.0\n",
      "0.0 vs 0.0\n",
      "1.0 vs 1.0\n",
      "1.0 vs 0.0\n",
      "0.0 vs 0.0\n",
      "0.0 vs 0.0\n",
      "0.0 vs 0.0\n",
      "0.0 vs 0.0\n",
      "0.0 vs 0.0\n",
      "0.0 vs 0.0\n",
      "0.0 vs 0.0\n",
      "0.0 vs 0.0\n",
      "1.0 vs 1.0\n",
      "1.0 vs 1.0\n",
      "0.0 vs 0.0\n",
      "1.0 vs 1.0\n",
      "0.0 vs 0.0\n",
      "0.0 vs 0.0\n",
      "0.0 vs 0.0\n",
      "0.0 vs 0.0\n",
      "1.0 vs 0.0\n",
      "0.0 vs 0.0\n",
      "0.0 vs 0.0\n",
      "0.0 vs 0.0\n",
      "0.0 vs 0.0\n",
      "0.0 vs 0.0\n",
      "0.0 vs 0.0\n",
      "0.0 vs 0.0\n",
      "1.0 vs 0.0\n",
      "0.0 vs 0.0\n",
      "0.0 vs 0.0\n",
      "0.0 vs 0.0\n",
      "0.0 vs 0.0\n",
      "1.0 vs 1.0\n",
      "0.0 vs 0.0\n",
      "0.0 vs 0.0\n",
      "0.0 vs 0.0\n",
      "0.0 vs 0.0\n",
      "0.0 vs 0.0\n",
      "0.0 vs 0.0\n",
      "0.0 vs 0.0\n",
      "0.0 vs 0.0\n",
      "0.0 vs 0.0\n",
      "0.0 vs 0.0\n",
      "0.0 vs 0.0\n",
      "0.0 vs 0.0\n",
      "0.0 vs 0.0\n",
      "0.0 vs 0.0\n",
      "1.0 vs 1.0\n",
      "0.0 vs 0.0\n",
      "0.0 vs 0.0\n",
      "0.0 vs 0.0\n",
      "0.0 vs 0.0\n",
      "0.0 vs 0.0\n",
      "0.0 vs 0.0\n",
      "0.0 vs 0.0\n",
      "0.0 vs 0.0\n",
      "0.0 vs 0.0\n",
      "0.0 vs 0.0\n",
      "0.0 vs 0.0\n",
      "0.0 vs 0.0\n",
      "1.0 vs 0.0\n",
      "1.0 vs 1.0\n",
      "0.0 vs 0.0\n",
      "0.0 vs 0.0\n",
      "0.0 vs 0.0\n",
      "0.0 vs 0.0\n",
      "0.0 vs 0.0\n",
      "0.0 vs 0.0\n",
      "0.0 vs 0.0\n",
      "0.0 vs 0.0\n",
      "0.0 vs 0.0\n",
      "0.0 vs 0.0\n",
      "0.0 vs 0.0\n",
      "0.0 vs 0.0\n",
      "0.0 vs 0.0\n",
      "0.0 vs 0.0\n",
      "0.0 vs 0.0\n",
      "0.0 vs 0.0\n",
      "0.0 vs 0.0\n",
      "0.0 vs 0.0\n",
      "0.0 vs 0.0\n",
      "0.9342523860021209\n",
      "[[777  42]\n",
      " [ 20 104]]\n"
     ]
    },
    {
     "name": "stderr",
     "output_type": "stream",
     "text": [
      "/var/folders/vf/6r913rfx607_3y64x5l2zw4r0000gn/T/ipykernel_75427/3030018759.py:3: FutureWarning: The behavior of `series[i:j]` with an integer-dtype index is deprecated. In a future version, this will be treated as *label-based* indexing, consistent with e.g. `series[i]` lookups. To retain the old behavior, use `series.iloc[i:j]`. To get the future behavior, use `series.loc[i:j]`.\n",
      "  y_test_list = [x for x in y_test[:100]]\n"
     ]
    }
   ],
   "source": [
    "predictions = randforest.predict(X_test)\n",
    "print(predictions[:100])\n",
    "y_test_list = [x for x in y_test[:100]]\n",
    "\n",
    "if not path.exists(\"randomforest.pkl\"):\n",
    "    pickle.dump(randforest, open('randomforest.pkl', 'wb'))\n",
    "else:\n",
    "    pickled_model = pickle.load(open('randomforest.pkl', 'rb'))\n",
    "    if accuracy_score(y_test, predictions) > accuracy_score(pickled_model.predict(X_test), predictions):\n",
    "        print(\"accuracy higher, updating model pickle\")\n",
    "        pickle.dump(randforest, open('randomforest.pkl', 'wb'))\n",
    "    else:\n",
    "        print(\"accuracy same/lower\")\n",
    "\n",
    "\n",
    "\n",
    "for i in range(100):\n",
    "    print(predictions[i], \"vs\", y_test_list[i])\n",
    "\n",
    "print(accuracy_score(y_test, predictions))\n",
    "print(confusion_matrix(y_test, predictions))"
   ]
  },
  {
   "cell_type": "code",
   "execution_count": null,
   "metadata": {},
   "outputs": [],
   "source": []
  }
 ],
 "metadata": {
  "kernelspec": {
   "display_name": "Python 3.8.13 ('seq')",
   "language": "python",
   "name": "python3"
  },
  "language_info": {
   "codemirror_mode": {
    "name": "ipython",
    "version": 3
   },
   "file_extension": ".py",
   "mimetype": "text/x-python",
   "name": "python",
   "nbconvert_exporter": "python",
   "pygments_lexer": "ipython3",
   "version": "3.8.13"
  },
  "orig_nbformat": 4,
  "vscode": {
   "interpreter": {
    "hash": "e1360c63304de9435a2a3572d38e6c9496b6fb5d1617f35fbc8638664d664ab4"
   }
  }
 },
 "nbformat": 4,
 "nbformat_minor": 2
}
