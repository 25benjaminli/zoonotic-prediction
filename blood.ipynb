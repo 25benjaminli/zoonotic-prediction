{
 "cells": [
  {
   "cell_type": "code",
   "execution_count": 1,
   "metadata": {},
   "outputs": [],
   "source": [
    "from Bio import SeqIO, Entrez\n",
    "import os\n",
    "from urllib.error import HTTPError\n",
    "import pickle\n",
    "import pandas as pd\n",
    "from sklearn.model_selection import train_test_split\n",
    "from itertools import permutations, product\n",
    "from sklearn.metrics import accuracy_score, confusion_matrix, balanced_accuracy_score\n",
    "import tqdm\n",
    "import numpy as np\n",
    "from sklearn.model_selection import RepeatedStratifiedKFold, train_test_split, cross_val_score\n",
    "\n",
    "from numpy import mean\n",
    "from numpy import std\n",
    "import pickle\n",
    "from os import path\n",
    "from sklearn.model_selection import cross_val_score\n",
    "from warnings import simplefilter\n",
    "from collections import OrderedDict\n",
    "from sklearn.metrics import accuracy_score, auc, confusion_matrix, balanced_accuracy_score, precision_recall_curve, auc, roc_curve, roc_auc_score\n",
    "\n",
    "from concurrent.futures import ThreadPoolExecutor, as_completed\n",
    "import matplotlib.pyplot as plt\n",
    "\n",
    "simplefilter(action=\"ignore\", category=pd.errors.PerformanceWarning)\n",
    "simplefilter(action='ignore', category=FutureWarning)\n",
    "\n",
    "Entrez.tool = \"Zoonosis predictor\"\n",
    "\n",
    "Entrez.email = input(\"Enter an email address to use NCBI e-utils: \")"
   ]
  },
  {
   "cell_type": "code",
   "execution_count": null,
   "metadata": {},
   "outputs": [
    {
     "name": "stdout",
     "output_type": "stream",
     "text": [
      "      accession                                           sequence  isZoonotic\n",
      "0   NC_025403.1  accagagggaaaatataacaatgtcgttttatagcgatgtaaataa...           1\n",
      "1   NC_025404.1  accagagggaaaattaagaaaggtcgttccaagacgacttaaaaga...           1\n",
      "2   NC_028246.1  acggagaaaaacaaaaaaactatagtgattagataaataaggaaaa...           1\n",
      "3   NC_002077.1  ttgcccactccctctctgcgcgctcgctcgctcggtggggcctgcg...           1\n",
      "4   NC_006152.1  ctctcccccctgtcgcgttcgctcgctcgctggctcgtttgggggg...           1\n",
      "..          ...                                                ...         ...\n",
      "95  NC_004218.1  gtattaaatttttgtaagtcgttatggaattatttagtgacagtgg...           1\n",
      "96  NC_004219.1  gtatttaaaattcatgtttttgcatcatggcgtgggttacgcaagc...           1\n",
      "97  NC_004220.1  gtattaaaaattacaagaacctaacattgcaatggagatcttgaga...           1\n",
      "98  NC_004221.1  gtatttaaaattatagaaagttctgaacctaggggtctttctgtct...           1\n",
      "99  NC_004204.1  gtattaaaattcagcaattgtccaatttaggaaacattctgtttaa...           1\n",
      "\n",
      "[100 rows x 3 columns]\n",
      "[1 1 1 1 1 1 1 1 1 1 1 1 1 1 1 1 1 1 1 1 1 1 1 1 1 1 1 1 1 1 1 1 1 1 1 1 1\n",
      " 1 1 1 1 1 1 1 1 1 1 1 1 1 1 1 1 1 1 1 1 1 1 1 1 1 1 1 1 1 1 1 1 1 1 1 1 1\n",
      " 1 1 1 1 1 1 1 1 1 1 1 1 1 1 1 1 1 1 1 1 1 1 1 1]\n",
      "98\n",
      "48\n",
      "145.0\n"
     ]
    }
   ],
   "source": [
    "best_gradBoost = pickle.load(open('curr_models/gradBoost.pkl', 'rb'))\n",
    "best_xgBoost = pickle.load(open('curr_models/xgBoost.pkl', 'rb'))\n",
    "kmer = 4\n",
    "\n",
    "s = product('acgt',repeat = kmer)\n",
    "permset = set([\"\".join(x) for x in list(s)])\n",
    "\n",
    "pred_arr = []\n",
    "xg_pred = []\n",
    "for ind, file in enumerate(os.listdir(\"./virome_contigs\")):\n",
    "    fasta_sequences = SeqIO.parse(open(f\"./virome_contigs/{file}\"),'fasta')\n",
    "\n",
    "    fasta = [x for x in fasta_sequences][0]\n",
    "    # print(fasta)\n",
    "    \n",
    "    name, sequence = fasta.id, str(fasta.seq)\n",
    "    X_info = sequence.lower()\n",
    "\n",
    "    oDict = assign_kmers_to_dict(X_info, permset, kmer) # convert ordereddict to pandas dataframe\n",
    "\n",
    "    kmer_df = pd.DataFrame()\n",
    "\n",
    "    for i in oDict:\n",
    "        kmer_df.at[0, i]=oDict[i]\n",
    "    cols_when_model_builds = best_gradBoost.feature_names_in_\n",
    "    kmer_df=kmer_df[cols_when_model_builds]\n",
    "    \n",
    "    pred_arr.append(best_gradBoost.predict(kmer_df))\n",
    "    \n",
    "    cols_when_model_builds = best_xgBoost.get_booster().feature_names\n",
    "    kmer_df=kmer_df[cols_when_model_builds]\n",
    "\n",
    "    xg_pred.append(best_xgBoost.predict(kmer_df))\n",
    "\n",
    "\n",
    "    \n",
    "pred_arr = np.asarray(pred_arr)\n",
    "xg_pred = np.asarray(xg_pred)\n",
    "\n",
    "\n",
    "    # print(best_gradBoost.predict(kmer_df), sequences.loc[ind]['isZoonotic'])\n",
    "    # print(best_gradBoost.predict(kmer_df), sequences['isZoonotic'])\n",
    "        # print(accuracy_score())"
   ]
  },
  {
   "cell_type": "code",
   "execution_count": null,
   "metadata": {},
   "outputs": [],
   "source": [
    "print(sequence['isZoonotic'])"
   ]
  }
 ],
 "metadata": {
  "kernelspec": {
   "display_name": "Python 3.8.13 ('seq')",
   "language": "python",
   "name": "python3"
  },
  "language_info": {
   "codemirror_mode": {
    "name": "ipython",
    "version": 3
   },
   "file_extension": ".py",
   "mimetype": "text/x-python",
   "name": "python",
   "nbconvert_exporter": "python",
   "pygments_lexer": "ipython3",
   "version": "3.8.13 (default, Oct 19 2022, 17:52:09) \n[Clang 12.0.0 ]"
  },
  "orig_nbformat": 4,
  "vscode": {
   "interpreter": {
    "hash": "e1360c63304de9435a2a3572d38e6c9496b6fb5d1617f35fbc8638664d664ab4"
   }
  }
 },
 "nbformat": 4,
 "nbformat_minor": 2
}
