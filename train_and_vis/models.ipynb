{
 "cells": [
  {
   "attachments": {},
   "cell_type": "markdown",
   "metadata": {},
   "source": [
    "# import packages"
   ]
  },
  {
   "cell_type": "code",
   "execution_count": 74,
   "metadata": {},
   "outputs": [
    {
     "name": "stdout",
     "output_type": "stream",
     "text": [
      "/Users/benjaminli/Documents/coding/scires/project/utils\n",
      "/Users/benjaminli/Documents/coding/scires/project\n"
     ]
    }
   ],
   "source": [
    "from itertools import permutations, product\n",
    "\n",
    "import pandas as pd\n",
    "\n",
    "from sklearn.linear_model import LogisticRegression\n",
    "from sklearn.neighbors import KNeighborsClassifier\n",
    "from sklearn.tree import DecisionTreeClassifier\n",
    "from sklearn.ensemble import GradientBoostingClassifier, VotingClassifier, StackingClassifier\n",
    "from sklearn.model_selection import RepeatedStratifiedKFold, train_test_split, cross_val_score\n",
    "from sklearn.metrics import accuracy_score, auc, confusion_matrix, balanced_accuracy_score, precision_recall_curve, auc, roc_curve, roc_auc_score, f1_score, recall_score, precision_score\n",
    "from sklearn.inspection import permutation_importance\n",
    "from sklearn import preprocessing\n",
    "\n",
    "from sklearn.neural_network import MLPClassifier\n",
    "\n",
    "from imblearn.ensemble import BalancedBaggingClassifier\n",
    "import xgboost as xgb\n",
    "from xgboost import XGBClassifier\n",
    "\n",
    "import numpy as np\n",
    "from numpy import mean,std\n",
    "from sklearn.model_selection import GridSearchCV\n",
    "\n",
    "import pickle\n",
    "\n",
    "from ctgan import CTGANSynthesizer\n",
    "from mlxtend.classifier import StackingCVClassifier\n",
    "\n",
    "from os import path\n",
    "\n",
    "import matplotlib.pyplot as plt\n",
    "\n",
    "from warnings import simplefilter\n",
    "from collections import OrderedDict\n",
    "from sklearn.svm import SVC\n",
    "\n",
    "if (os.path.abspath('').split('/')[-1] == 'project'):\n",
    "    %cd utils\n",
    "elif (os.path.abspath('').split('/')[-1] == 'train_and_vis'):\n",
    "    %cd ../utils\n",
    "\n",
    "import query_utils\n",
    "import model_utils\n",
    "import validation_utils\n",
    "import data_utils\n",
    "\n",
    "if (os.path.abspath('').split('/')[-1] == 'utils'):\n",
    "    %cd ..\n",
    "\n",
    "\n",
    "simplefilter(action=\"ignore\", category=pd.errors.PerformanceWarning)\n",
    "simplefilter(action='ignore', category=FutureWarning)\n",
    "pd.options.mode.chained_assignment = None"
   ]
  },
  {
   "attachments": {},
   "cell_type": "markdown",
   "metadata": {},
   "source": [
    "### Synthetic Data creation\n",
    "Performed with CTGANSynthesizer"
   ]
  },
  {
   "cell_type": "code",
   "execution_count": 2,
   "metadata": {},
   "outputs": [
    {
     "ename": "NameError",
     "evalue": "name 'df' is not defined",
     "output_type": "error",
     "traceback": [
      "\u001b[0;31m---------------------------------------------------------------------------\u001b[0m",
      "\u001b[0;31mNameError\u001b[0m                                 Traceback (most recent call last)",
      "\u001b[1;32m/Users/benjaminli/Documents/coding/scires/project/train_and_vis/models.ipynb Cell 4\u001b[0m in \u001b[0;36m<cell line: 1>\u001b[0;34m()\u001b[0m\n\u001b[0;32m----> <a href='vscode-notebook-cell:/Users/benjaminli/Documents/coding/scires/project/train_and_vis/models.ipynb#W2sZmlsZQ%3D%3D?line=0'>1</a>\u001b[0m isZoonotic \u001b[39m=\u001b[39m df\u001b[39m.\u001b[39mloc[df[\u001b[39m'\u001b[39m\u001b[39misZoonotic\u001b[39m\u001b[39m'\u001b[39m]\u001b[39m==\u001b[39m\u001b[39m1\u001b[39m][:\u001b[39m1200\u001b[39m]\n\u001b[1;32m      <a href='vscode-notebook-cell:/Users/benjaminli/Documents/coding/scires/project/train_and_vis/models.ipynb#W2sZmlsZQ%3D%3D?line=1'>2</a>\u001b[0m isZoonotic \u001b[39m=\u001b[39m isZoonotic\u001b[39m.\u001b[39mloc[:, isZoonotic\u001b[39m.\u001b[39mcolumns \u001b[39m!=\u001b[39m \u001b[39m'\u001b[39m\u001b[39misZoonotic\u001b[39m\u001b[39m'\u001b[39m]\n\u001b[1;32m      <a href='vscode-notebook-cell:/Users/benjaminli/Documents/coding/scires/project/train_and_vis/models.ipynb#W2sZmlsZQ%3D%3D?line=2'>3</a>\u001b[0m \u001b[39mprint\u001b[39m(isZoonotic)\n",
      "\u001b[0;31mNameError\u001b[0m: name 'df' is not defined"
     ]
    }
   ],
   "source": [
    "isZoonotic = df.loc[df['isZoonotic']==1][:1200]\n",
    "isZoonotic = isZoonotic.loc[:, isZoonotic.columns != 'isZoonotic']\n",
    "print(isZoonotic)\n",
    "\n",
    "posGanModel = CTGANSynthesizer(batch_size=60, epochs=10, verbose=True)\n",
    "posGanModel.fit(isZoonotic)\n",
    "\n",
    "# check if current model is better than pickled model\n",
    "posGanModel.save('models/curr_models/posGanModel.pkl')\n",
    "\n",
    "notZoonotic = df.loc[df['isZoonotic']==0][:3000]\n",
    "notZoonotic = isZoonotic.loc[:, isZoonotic.columns != 'isZoonotic']\n",
    "print(notZoonotic)\n",
    "\n",
    "negGanModel = CTGANSynthesizer(batch_size=60, epochs=10, verbose=True)\n",
    "negGanModel.fit(notZoonotic)\n",
    "negGanModel.save('models/curr_models/negGanModel.pkl')"
   ]
  },
  {
   "attachments": {},
   "cell_type": "markdown",
   "metadata": {},
   "source": [
    "# Dataset retrieval\n",
    "Workings of the function is packaged into data_utils (for readability). Data is generated within \"process_data.ipynb\"."
   ]
  },
  {
   "cell_type": "code",
   "execution_count": 2,
   "metadata": {},
   "outputs": [
    {
     "name": "stdout",
     "output_type": "stream",
     "text": [
      "working directory: /Users/benjaminli/Documents/coding/scires/project\n",
      "kmer: 3\n",
      "zhang reg 9329\n",
      "zhang norm 9329\n",
      "nardus reg 1848\n",
      "nardus norm 1848\n",
      "merge reg 10676\n",
      "merge norm 10676\n",
      "kmer: 4\n",
      "zhang reg 9329\n",
      "zhang norm 9329\n",
      "nardus reg 1848\n",
      "nardus norm 1848\n",
      "merge reg 10676\n",
      "merge norm 10676\n",
      "kmer: 5\n",
      "zhang reg 9329\n",
      "zhang norm 9329\n",
      "nardus reg 1848\n",
      "nardus norm 1848\n",
      "merge reg 10676\n",
      "merge norm 10676\n",
      "kmer: 6\n",
      "zhang reg 9329\n",
      "zhang norm 9329\n",
      "nardus reg 1848\n",
      "nardus norm 1848\n",
      "merge reg 10676\n",
      "merge norm 10676\n"
     ]
    }
   ],
   "source": [
    "datasets = data_utils.retrieveAllDatasets()"
   ]
  },
  {
   "attachments": {},
   "cell_type": "markdown",
   "metadata": {},
   "source": [
    "# TODO"
   ]
  },
  {
   "attachments": {},
   "cell_type": "markdown",
   "metadata": {},
   "source": [
    "### Generate & validate performance of KNN (baseline) on dataset"
   ]
  },
  {
   "cell_type": "code",
   "execution_count": 77,
   "metadata": {},
   "outputs": [
    {
     "name": "stdout",
     "output_type": "stream",
     "text": [
      "Fitting 5 folds for each of 5 candidates, totalling 25 fits\n",
      "[CV 1/5; 1/5] START n_neighbors=1...............................................\n",
      "Fitting 5 folds for each of 5 candidates, totalling 25 fits\n",
      "[CV 1/5; 1/5] START n_neighbors=1...............................................\n",
      "Fitting 5 folds for each of 5 candidates, totalling 25 fits\n",
      "[CV 1/5; 1/5] START n_neighbors=1...............................................\n",
      "[CV 1/5; 1/5] END ................n_neighbors=1;, score=0.899 total time=   0.0s\n",
      "[CV 2/5; 1/5] START n_neighbors=1...............................................\n",
      "[CV 1/5; 1/5] END ................n_neighbors=1;, score=0.890 total time=   0.0s\n",
      "[CV 2/5; 1/5] START n_neighbors=1...............................................\n",
      "[CV 1/5; 1/5] END ................n_neighbors=1;, score=0.927 total time=   0.0s\n",
      "[CV 2/5; 1/5] START n_neighbors=1...............................................\n",
      "Fitting 5 folds for each of 5 candidates, totalling 25 fits\n",
      "[CV 1/5; 1/5] START n_neighbors=1...............................................\n",
      "Fitting 5 folds for each of 5 candidates, totalling 25 fits\n",
      "[CV 1/5; 1/5] START n_neighbors=1...............................................\n",
      "Fitting 5 folds for each of 5 candidates, totalling 25 fits\n",
      "[CV 1/5; 1/5] START n_neighbors=1...............................................\n",
      "[CV 2/5; 1/5] END ................n_neighbors=1;, score=0.911 total time=   0.0s\n",
      "[CV 3/5; 1/5] START n_neighbors=1...............................................\n",
      "[CV 2/5; 1/5] END ................n_neighbors=1;, score=0.888 total time=   0.0s\n",
      "[CV 3/5; 1/5] START n_neighbors=1...............................................\n",
      "[CV 2/5; 1/5] END ................n_neighbors=1;, score=0.922 total time=   0.0s\n",
      "[CV 3/5; 1/5] START n_neighbors=1...............................................\n",
      "[CV 1/5; 1/5] END ................n_neighbors=1;, score=0.879 total time=   0.0s\n",
      "[CV 2/5; 1/5] START n_neighbors=1...............................................\n",
      "[CV 1/5; 1/5] END ................n_neighbors=1;, score=0.901 total time=   0.1s\n",
      "[CV 2/5; 1/5] START n_neighbors=1...............................................\n",
      "[CV 1/5; 1/5] END ................n_neighbors=1;, score=0.896 total time=   0.0s\n",
      "[CV 2/5; 1/5] START n_neighbors=1...............................................\n",
      "[CV 3/5; 1/5] END ................n_neighbors=1;, score=0.889 total time=   0.0s\n",
      "[CV 4/5; 1/5] START n_neighbors=1...............................................\n",
      "[CV 2/5; 1/5] END ................n_neighbors=1;, score=0.874 total time=   0.0s\n",
      "[CV 3/5; 1/5] START n_neighbors=1...............................................\n",
      "Fitting 5 folds for each of 5 candidates, totalling 25 fits\n",
      "[CV 1/5; 1/5] START n_neighbors=1...............................................\n",
      "Fitting 5 folds for each of 5 candidates, totalling 25 fits\n",
      "[CV 2/5; 1/5] END ................n_neighbors=1;, score=0.885 total time=   0.0s\n",
      "[CV 1/5; 1/5] START n_neighbors=1...............................................\n",
      "[CV 3/5; 1/5] START n_neighbors=1...............................................\n",
      "Fitting 5 folds for each of 5 candidates, totalling 25 fits\n",
      "[CV 1/5; 1/5] START n_neighbors=1...............................................\n",
      "[CV 4/5; 1/5] END ................n_neighbors=1;, score=0.905 total time=   0.0s\n",
      "[CV 5/5; 1/5] START n_neighbors=1...............................................\n",
      "[CV 3/5; 1/5] END ................n_neighbors=1;, score=0.895 total time=   0.0s\n",
      "[CV 4/5; 1/5] START n_neighbors=1...............................................\n",
      "[CV 3/5; 1/5] END ................n_neighbors=1;, score=0.902 total time=   0.1s\n",
      "[CV 4/5; 1/5] START n_neighbors=1...............................................\n",
      "Fitting 5 folds for each of 5 candidates, totalling 25 fits\n",
      "[CV 1/5; 1/5] START n_neighbors=1...............................................\n",
      "[CV 3/5; 1/5] END ................n_neighbors=1;, score=0.893 total time=   0.1s\n",
      "[CV 4/5; 1/5] START n_neighbors=1...............................................\n",
      "[CV 1/5; 1/5] END ................n_neighbors=1;, score=0.906 total time=   0.0s\n",
      "[CV 2/5; 1/5] START n_neighbors=1...............................................\n",
      "[CV 1/5; 1/5] END ................n_neighbors=1;, score=0.903 total time=   0.0s\n",
      "[CV 3/5; 1/5] END ................n_neighbors=1;, score=0.899 total time=   0.1s\n",
      "[CV 2/5; 1/5] START n_neighbors=1...............................................\n",
      "[CV 2/5; 1/5] END ................n_neighbors=1;, score=0.888 total time=   0.1s\n",
      "[CV 3/5; 1/5] START n_neighbors=1...............................................\n",
      "[CV 4/5; 1/5] START n_neighbors=1...............................................\n",
      "[CV 5/5; 1/5] END ................n_neighbors=1;, score=0.889 total time=   0.0s\n",
      "[CV 1/5; 2/5] START n_neighbors=3...............................................\n",
      "[CV 1/5; 1/5] END ................n_neighbors=1;, score=0.864 total time=   0.1s\n",
      "[CV 2/5; 1/5] START n_neighbors=1...............................................\n",
      "[CV 4/5; 1/5] END ................n_neighbors=1;, score=0.900 total time=   0.0s\n",
      "[CV 5/5; 1/5] START n_neighbors=1...............................................\n",
      "[CV 2/5; 1/5] END ................n_neighbors=1;, score=0.904 total time=   0.0s\n",
      "[CV 3/5; 1/5] START n_neighbors=1...............................................\n",
      "[CV 4/5; 1/5] END ................n_neighbors=1;, score=0.915 total time=   0.0s\n",
      "[CV 5/5; 1/5] START n_neighbors=1...............................................\n",
      "[CV 1/5; 1/5] END ................n_neighbors=1;, score=0.876 total time=   0.0s\n",
      "[CV 4/5; 1/5] END ................n_neighbors=1;, score=0.913 total time=   0.1s\n",
      "[CV 2/5; 1/5] START n_neighbors=1...............................................\n",
      "[CV 5/5; 1/5] START n_neighbors=1...............................................\n",
      "[CV 3/5; 1/5] END ................n_neighbors=1;, score=0.892 total time=   0.0s\n",
      "[CV 4/5; 1/5] START n_neighbors=1...............................................\n",
      "[CV 1/5; 2/5] END ................n_neighbors=3;, score=0.875 total time=   0.0s\n",
      "[CV 2/5; 2/5] START n_neighbors=3...............................................\n",
      "[CV 2/5; 1/5] END ................n_neighbors=1;, score=0.881 total time=   0.0s\n",
      "[CV 3/5; 1/5] START n_neighbors=1...............................................\n",
      "[CV 2/5; 1/5] END ................n_neighbors=1;, score=0.899 total time=   0.0s\n",
      "[CV 3/5; 1/5] START n_neighbors=1...............................................\n",
      "[CV 4/5; 1/5] END ................n_neighbors=1;, score=0.903 total time=   0.1s\n",
      "[CV 5/5; 1/5] START n_neighbors=1...............................................\n",
      "[CV 4/5; 1/5] END ................n_neighbors=1;, score=0.909 total time=   0.0s\n",
      "[CV 5/5; 1/5] START n_neighbors=1...............................................\n",
      "[CV 2/5; 2/5] END ................n_neighbors=3;, score=0.853 total time=   0.0s\n",
      "[CV 3/5; 2/5] START n_neighbors=3...............................................\n",
      "[CV 3/5; 1/5] END ................n_neighbors=1;, score=0.867 total time=   0.0s\n",
      "[CV 4/5; 1/5] START n_neighbors=1...............................................\n",
      "[CV 2/5; 1/5] END ................n_neighbors=1;, score=0.911 total time=   0.1s\n",
      "[CV 3/5; 1/5] START n_neighbors=1...............................................\n",
      "[CV 5/5; 1/5] END ................n_neighbors=1;, score=0.897 total time=   0.0s\n",
      "[CV 1/5; 2/5] START n_neighbors=3...............................................\n",
      "[CV 3/5; 1/5] END ................n_neighbors=1;, score=0.887 total time=   0.0s\n",
      "[CV 5/5; 1/5] END ................n_neighbors=1;, score=0.860 total time=   0.0s\n",
      "[CV 1/5; 2/5] START n_neighbors=3...............................................\n",
      "[CV 4/5; 1/5] START n_neighbors=1...............................................\n",
      "[CV 5/5; 1/5] END ................n_neighbors=1;, score=0.898 total time=   0.1s\n",
      "[CV 1/5; 2/5] START n_neighbors=3...............................................\n",
      "[CV 3/5; 2/5] END ................n_neighbors=3;, score=0.838 total time=   0.0s\n",
      "[CV 4/5; 2/5] START n_neighbors=3...............................................\n",
      "[CV 3/5; 1/5] END ................n_neighbors=1;, score=0.901 total time=   0.0s\n",
      "[CV 4/5; 1/5] END ................n_neighbors=1;, score=0.915 total time=   0.0s\n",
      "[CV 4/5; 1/5] START n_neighbors=1...............................................\n",
      "[CV 5/5; 1/5] START n_neighbors=1...............................................\n",
      "[CV 1/5; 2/5] END ................n_neighbors=3;, score=0.856 total time=   0.0s\n",
      "[CV 2/5; 2/5] START n_neighbors=3...............................................\n",
      "[CV 5/5; 1/5] END ................n_neighbors=1;, score=0.865 total time=   0.1s\n",
      "[CV 1/5; 2/5] START n_neighbors=3...............................................\n",
      "[CV 1/5; 2/5] END ................n_neighbors=3;, score=0.858 total time=   0.0s\n",
      "[CV 2/5; 2/5] START n_neighbors=3...............................................\n",
      "[CV 3/5; 1/5] END ................n_neighbors=1;, score=0.891 total time=   0.1s\n",
      "[CV 4/5; 1/5] START n_neighbors=1...............................................\n",
      "[CV 5/5; 1/5] END ................n_neighbors=1;, score=0.902 total time=   0.1s\n",
      "[CV 1/5; 2/5] START n_neighbors=3...............................................\n",
      "[CV 4/5; 1/5] END ................n_neighbors=1;, score=0.885 total time=   0.0s\n",
      "[CV 5/5; 1/5] START n_neighbors=1...............................................\n",
      "[CV 1/5; 2/5] END ................n_neighbors=3;, score=0.834 total time=   0.0s\n",
      "[CV 2/5; 2/5] START n_neighbors=3...............................................\n",
      "[CV 2/5; 2/5] END ................n_neighbors=3;, score=0.846 total time=   0.0s\n",
      "[CV 3/5; 2/5] START n_neighbors=3...............................................\n",
      "[CV 4/5; 1/5] END ................n_neighbors=1;, score=0.869 total time=   0.0s\n",
      "[CV 5/5; 1/5] START n_neighbors=1...............................................\n",
      "[CV 2/5; 2/5] END ................n_neighbors=3;, score=0.892 total time=   0.0s\n",
      "[CV 3/5; 2/5] START n_neighbors=3...............................................\n",
      "[CV 1/5; 2/5] END ................n_neighbors=3;, score=0.877 total time=   0.0s\n",
      "[CV 2/5; 2/5] START n_neighbors=3...............................................\n",
      "[CV 5/5; 1/5] END ................n_neighbors=1;, score=0.896 total time=   0.0s\n",
      "[CV 5/5; 1/5] END ................n_neighbors=1;, score=0.904 total time=   0.0s\n",
      "[CV 1/5; 2/5] START n_neighbors=3...............................................\n",
      "[CV 1/5; 2/5] START n_neighbors=3...............................................\n",
      "[CV 1/5; 2/5] END ................n_neighbors=3;, score=0.871 total time=   0.0s\n",
      "[CV 2/5; 2/5] START n_neighbors=3...............................................\n",
      "[CV 4/5; 1/5] END ................n_neighbors=1;, score=0.879 total time=   0.0s\n",
      "[CV 5/5; 1/5] START n_neighbors=1...............................................\n",
      "[CV 5/5; 1/5] END ................n_neighbors=1;, score=0.874 total time=   0.0s\n",
      "[CV 1/5; 2/5] START n_neighbors=3...............................................\n",
      "[CV 4/5; 2/5] END ................n_neighbors=3;, score=0.857 total time=   0.1s\n",
      "[CV 5/5; 2/5] START n_neighbors=3...............................................\n",
      "[CV 3/5; 2/5] END ................n_neighbors=3;, score=0.863 total time=   0.0s\n",
      "[CV 4/5; 2/5] START n_neighbors=3...............................................\n",
      "[CV 2/5; 2/5] END ................n_neighbors=3;, score=0.857 total time=   0.0s\n",
      "[CV 3/5; 2/5] START n_neighbors=3...............................................\n",
      "[CV 3/5; 2/5] END ................n_neighbors=3;, score=0.850 total time=   0.0s\n",
      "[CV 4/5; 2/5] START n_neighbors=3...............................................\n",
      "[CV 2/5; 2/5] END ................n_neighbors=3;, score=0.838 total time=   0.0s\n",
      "[CV 3/5; 2/5] START n_neighbors=3...............................................\n",
      "[CV 1/5; 2/5] END ................n_neighbors=3;, score=0.863 total time=   0.0s\n",
      "[CV 2/5; 2/5] START n_neighbors=3...............................................\n",
      "[CV 2/5; 2/5] END ................n_neighbors=3;, score=0.861 total time=   0.0s\n",
      "[CV 3/5; 2/5] START n_neighbors=3...............................................\n",
      "[CV 5/5; 2/5] END ................n_neighbors=3;, score=0.873 total time=   0.0s\n",
      "[CV 1/5; 3/5] START n_neighbors=5...............................................\n",
      "[CV 5/5; 1/5] END ................n_neighbors=1;, score=0.861 total time=   0.0s\n",
      "[CV 1/5; 2/5] START n_neighbors=3...............................................\n",
      "[CV 1/5; 2/5] END ................n_neighbors=3;, score=0.824 total time=   0.0s\n",
      "[CV 2/5; 2/5] START n_neighbors=3...............................................\n",
      "[CV 1/5; 2/5] END ................n_neighbors=3;, score=0.856 total time=   0.0s\n",
      "[CV 2/5; 2/5] START n_neighbors=3...............................................\n",
      "[CV 4/5; 2/5] END ................n_neighbors=3;, score=0.853 total time=   0.0s\n",
      "[CV 5/5; 2/5] START n_neighbors=3...............................................\n",
      "[CV 2/5; 2/5] END ................n_neighbors=3;, score=0.846 total time=   0.0s\n",
      "[CV 3/5; 2/5] START n_neighbors=3...............................................\n",
      "[CV 4/5; 2/5] END ................n_neighbors=3;, score=0.870 total time=   0.0s\n",
      "[CV 5/5; 2/5] START n_neighbors=3...............................................\n",
      "[CV 3/5; 2/5] END ................n_neighbors=3;, score=0.834 total time=   0.0s\n",
      "[CV 4/5; 2/5] START n_neighbors=3...............................................\n",
      "[CV 1/5; 2/5] END ................n_neighbors=3;, score=0.851 total time=   0.0s\n",
      "[CV 3/5; 2/5] END ................n_neighbors=3;, score=0.846 total time=   0.0s\n",
      "[CV 4/5; 2/5] START n_neighbors=3...............................................[CV 2/5; 2/5] START n_neighbors=3...............................................\n",
      "\n",
      "[CV 3/5; 2/5] END ................n_neighbors=3;, score=0.879 total time=   0.0s\n",
      "[CV 4/5; 2/5] START n_neighbors=3...............................................\n",
      "[CV 5/5; 2/5] END ................n_neighbors=3;, score=0.845 total time=   0.0s\n",
      "[CV 1/5; 3/5] START n_neighbors=5...............................................\n",
      "[CV 5/5; 2/5] END ................n_neighbors=3;, score=0.839 total time=   0.0s\n",
      "[CV 1/5; 3/5] START n_neighbors=5...............................................\n",
      "[CV 2/5; 2/5] END ................n_neighbors=3;, score=0.854 total time=   0.0s\n",
      "[CV 3/5; 2/5] START n_neighbors=3...............................................\n",
      "[CV 4/5; 2/5] END ................n_neighbors=3;, score=0.852 total time=   0.0s\n",
      "[CV 4/5; 2/5] END ................n_neighbors=3;, score=0.879 total time=   0.0s\n",
      "[CV 5/5; 2/5] START n_neighbors=3...............................................\n",
      "[CV 5/5; 2/5] START n_neighbors=3...............................................\n",
      "[CV 1/5; 3/5] END ................n_neighbors=5;, score=0.877 total time=   0.0s\n",
      "[CV 2/5; 3/5] START n_neighbors=5...............................................\n",
      "[CV 2/5; 2/5] END ................n_neighbors=3;, score=0.870 total time=   0.0s\n",
      "[CV 3/5; 2/5] START n_neighbors=3...............................................\n",
      "[CV 3/5; 2/5] END ................n_neighbors=3;, score=0.831 total time=   0.0s\n",
      "[CV 4/5; 2/5] START n_neighbors=3...............................................\n",
      "[CV 4/5; 2/5] END ................n_neighbors=3;, score=0.881 total time=   0.0s\n",
      "[CV 5/5; 2/5] START n_neighbors=3...............................................\n",
      "[CV 5/5; 2/5] END ................n_neighbors=3;, score=0.844 total time=   0.0s\n",
      "[CV 2/5; 2/5] END ................n_neighbors=3;, score=0.871 total time=   0.1s\n",
      "[CV 3/5; 2/5] START n_neighbors=3...............................................\n",
      "[CV 1/5; 3/5] START n_neighbors=5...............................................\n",
      "[CV 5/5; 2/5] END ................n_neighbors=3;, score=0.856 total time=   0.0s\n",
      "[CV 3/5; 2/5] END ................n_neighbors=3;, score=0.853 total time=   0.0s\n",
      "[CV 1/5; 3/5] START n_neighbors=5...............................................\n",
      "[CV 1/5; 3/5] END ................n_neighbors=5;, score=0.818 total time=   0.0s\n",
      "[CV 4/5; 2/5] START n_neighbors=3...............................................\n",
      "[CV 3/5; 2/5] END ................n_neighbors=3;, score=0.854 total time=   0.0s\n",
      "[CV 4/5; 2/5] START n_neighbors=3...............................................\n",
      "[CV 2/5; 3/5] START n_neighbors=5...............................................\n",
      "[CV 2/5; 3/5] END ................n_neighbors=5;, score=0.842 total time=   0.0s\n",
      "[CV 3/5; 3/5] START n_neighbors=5...............................................\n",
      "[CV 5/5; 2/5] END ................n_neighbors=3;, score=0.827 total time=   0.0s\n",
      "[CV 1/5; 3/5] START n_neighbors=5...............................................\n",
      "[CV 4/5; 2/5] END ................n_neighbors=3;, score=0.871 total time=   0.0s\n",
      "[CV 5/5; 2/5] START n_neighbors=3...............................................\n",
      "[CV 3/5; 2/5] END ................n_neighbors=3;, score=0.887 total time=   0.0s\n",
      "[CV 1/5; 3/5] END ................n_neighbors=5;, score=0.830 total time=   0.1s\n",
      "[CV 4/5; 2/5] START n_neighbors=3...............................................\n",
      "[CV 4/5; 2/5] END ................n_neighbors=3;, score=0.845 total time=   0.0s\n",
      "[CV 1/5; 3/5] END ................n_neighbors=5;, score=0.830 total time=   0.0s\n",
      "[CV 2/5; 3/5] START n_neighbors=5...............................................\n",
      "[CV 5/5; 2/5] START n_neighbors=3...............................................\n",
      "[CV 2/5; 3/5] START n_neighbors=5...............................................\n",
      "[CV 1/5; 3/5] END ................n_neighbors=5;, score=0.849 total time=   0.0s\n",
      "[CV 4/5; 2/5] END ................n_neighbors=3;, score=0.808 total time=   0.0s\n",
      "[CV 2/5; 3/5] START n_neighbors=5...............................................\n",
      "[CV 5/5; 2/5] START n_neighbors=3...............................................\n",
      "[CV 1/5; 3/5] END ................n_neighbors=5;, score=0.857 total time=   0.0s\n",
      "[CV 2/5; 3/5] START n_neighbors=5...............................................\n",
      "[CV 5/5; 2/5] END ................n_neighbors=3;, score=0.848 total time=   0.0s\n",
      "[CV 1/5; 3/5] START n_neighbors=5...............................................\n",
      "[CV 3/5; 3/5] END ................n_neighbors=5;, score=0.828 total time=   0.0s\n",
      "[CV 4/5; 3/5] START n_neighbors=5...............................................\n",
      "[CV 2/5; 3/5] END ................n_neighbors=5;, score=0.884 total time=   0.0s\n",
      "[CV 3/5; 3/5] START n_neighbors=5...............................................\n",
      "[CV 1/5; 3/5] END ................n_neighbors=5;, score=0.859 total time=   0.0s\n",
      "[CV 2/5; 3/5] START n_neighbors=5...............................................\n",
      "[CV 5/5; 2/5] END ................n_neighbors=3;, score=0.817 total time=   0.0s\n",
      "[CV 1/5; 3/5] START n_neighbors=5...............................................\n",
      "[CV 2/5; 3/5] END ................n_neighbors=5;, score=0.834 total time=   0.0s\n",
      "[CV 5/5; 2/5] END ................n_neighbors=3;, score=0.860 total time=   0.0s\n",
      "[CV 3/5; 3/5] START n_neighbors=5...............................................\n",
      "[CV 4/5; 3/5] END ................n_neighbors=5;, score=0.832 total time=   0.0s\n",
      "[CV 5/5; 3/5] START n_neighbors=5...............................................\n",
      "[CV 1/5; 3/5] START n_neighbors=5...............................................\n",
      "[CV 2/5; 3/5] END ................n_neighbors=5;, score=0.830 total time=   0.0s\n",
      "[CV 3/5; 3/5] START n_neighbors=5...............................................\n",
      "[CV 2/5; 3/5] END ................n_neighbors=5;, score=0.836 total time=   0.0s\n",
      "[CV 3/5; 3/5] START n_neighbors=5...............................................\n",
      "[CV 3/5; 3/5] END ................n_neighbors=5;, score=0.853 total time=   0.0s\n",
      "[CV 4/5; 3/5] START n_neighbors=5...............................................\n",
      "[CV 4/5; 2/5] END ................n_neighbors=3;, score=0.841 total time=   0.0s\n",
      "[CV 5/5; 2/5] START n_neighbors=3...............................................\n",
      "[CV 2/5; 3/5] END ................n_neighbors=5;, score=0.844 total time=   0.0s\n",
      "[CV 3/5; 3/5] START n_neighbors=5...............................................\n",
      "[CV 3/5; 3/5] END ................n_neighbors=5;, score=0.832 total time=   0.0s\n",
      "[CV 4/5; 3/5] START n_neighbors=5...............................................\n",
      "[CV 5/5; 3/5] END ................n_neighbors=5;, score=0.857 total time=   0.0s\n",
      "[CV 1/5; 4/5] START n_neighbors=7...............................................\n",
      "[CV 1/5; 3/5] END ................n_neighbors=5;, score=0.850 total time=   0.0s\n",
      "[CV 2/5; 3/5] START n_neighbors=5...............................................\n",
      "[CV 1/5; 3/5] END ................n_neighbors=5;, score=0.805 total time=   0.0s\n",
      "[CV 2/5; 3/5] START n_neighbors=5...............................................\n",
      "[CV 3/5; 3/5] END ................n_neighbors=5;, score=0.807 total time=   0.0s\n",
      "[CV 2/5; 3/5] END ................n_neighbors=5;, score=0.855 total time=   0.0s\n",
      "[CV 3/5; 3/5] START n_neighbors=5...............................................\n",
      "[CV 4/5; 3/5] START n_neighbors=5...............................................\n",
      "[CV 5/5; 2/5] END ................n_neighbors=3;, score=0.833 total time=   0.0s\n",
      "[CV 1/5; 3/5] START n_neighbors=5...............................................\n",
      "[CV 3/5; 3/5] END ................n_neighbors=5;, score=0.802 total time=   0.0s\n",
      "[CV 4/5; 3/5] START n_neighbors=5...............................................\n",
      "[CV 3/5; 3/5] END ................n_neighbors=5;, score=0.825 total time=   0.0s\n",
      "[CV 4/5; 3/5] START n_neighbors=5...............................................\n",
      "[CV 4/5; 3/5] END ................n_neighbors=5;, score=0.832 total time=   0.0s\n",
      "[CV 5/5; 3/5] START n_neighbors=5...............................................\n",
      "[CV 1/5; 4/5] END ................n_neighbors=7;, score=0.873 total time=   0.0s\n",
      "[CV 2/5; 4/5] START n_neighbors=7...............................................\n",
      "[CV 4/5; 3/5] END ................n_neighbors=5;, score=0.857 total time=   0.0s\n",
      "[CV 4/5; 3/5] END ................n_neighbors=5;, score=0.827 total time=   0.0s\n",
      "[CV 5/5; 3/5] START n_neighbors=5...............................................\n",
      "[CV 5/5; 3/5] START n_neighbors=5...............................................\n",
      "[CV 2/5; 3/5] END ................n_neighbors=5;, score=0.846 total time=   0.0s\n",
      "[CV 3/5; 3/5] START n_neighbors=5...............................................\n",
      "[CV 1/5; 3/5] END ................n_neighbors=5;, score=0.838 total time=   0.0s\n",
      "[CV 2/5; 3/5] START n_neighbors=5...............................................\n",
      "[CV 3/5; 3/5] END ................n_neighbors=5;, score=0.847 total time=   0.0s\n",
      "[CV 4/5; 3/5] START n_neighbors=5...............................................\n",
      "[CV 2/5; 3/5] END ................n_neighbors=5;, score=0.840 total time=   0.0s\n",
      "[CV 3/5; 3/5] START n_neighbors=5...............................................\n",
      "[CV 5/5; 3/5] END ................n_neighbors=5;, score=0.827 total time=   0.0s\n",
      "[CV 4/5; 3/5] END ................n_neighbors=5;, score=0.852 total time=   0.0s\n",
      "[CV 1/5; 4/5] START n_neighbors=7...............................................\n",
      "[CV 5/5; 3/5] START n_neighbors=5...............................................\n",
      "[CV 2/5; 4/5] END ................n_neighbors=7;, score=0.826 total time=   0.0s\n",
      "[CV 3/5; 4/5] START n_neighbors=7...............................................\n",
      "[CV 5/5; 3/5] END ................n_neighbors=5;, score=0.815 total time=   0.0s\n",
      "[CV 2/5; 3/5] END ................n_neighbors=5;, score=0.842 total time=   0.0s\n",
      "[CV 1/5; 4/5] START n_neighbors=7...............................................\n",
      "[CV 3/5; 3/5] START n_neighbors=5...............................................\n",
      "[CV 4/5; 3/5] END ................n_neighbors=5;, score=0.860 total time=   0.0s\n",
      "[CV 5/5; 3/5] START n_neighbors=5...............................................\n",
      "[CV 5/5; 3/5] END ................n_neighbors=5;, score=0.825 total time=   0.0s\n",
      "[CV 1/5; 4/5] START n_neighbors=7...............................................\n",
      "[CV 3/5; 3/5] END ................n_neighbors=5;, score=0.858 total time=   0.0s\n",
      "[CV 4/5; 3/5] START n_neighbors=5...............................................\n",
      "[CV 4/5; 3/5] END ................n_neighbors=5;, score=0.863 total time=   0.0s\n",
      "[CV 5/5; 3/5] START n_neighbors=5...............................................\n",
      "[CV 1/5; 4/5] END ................n_neighbors=7;, score=0.822 total time=   0.0s\n",
      "[CV 2/5; 4/5] START n_neighbors=7...............................................\n",
      "[CV 3/5; 3/5] END ................n_neighbors=5;, score=0.853 total time=   0.0s\n",
      "[CV 4/5; 3/5] START n_neighbors=5...............................................\n",
      "[CV 3/5; 4/5] END ................n_neighbors=7;, score=0.818 total time=   0.0s\n",
      "[CV 4/5; 4/5] START n_neighbors=7...............................................\n",
      "[CV 5/5; 3/5] END ................n_neighbors=5;, score=0.821 total time=   0.0s\n",
      "[CV 1/5; 4/5] END ................n_neighbors=7;, score=0.826 total time=   0.0s\n",
      "[CV 1/5; 4/5] START n_neighbors=7...............................................\n",
      "[CV 2/5; 4/5] START n_neighbors=7...............................................\n",
      "[CV 3/5; 3/5] END ................n_neighbors=5;, score=0.859 total time=   0.0s\n",
      "[CV 4/5; 3/5] START n_neighbors=5...............................................\n",
      "[CV 5/5; 3/5] END ................n_neighbors=5;, score=0.854 total time=   0.0s\n",
      "[CV 1/5; 4/5] START n_neighbors=7...............................................\n",
      "[CV 4/5; 3/5] END ................n_neighbors=5;, score=0.820 total time=   0.0s\n",
      "[CV 5/5; 3/5] START n_neighbors=5...............................................\n",
      "[CV 4/5; 3/5] END ................n_neighbors=5;, score=0.815 total time=   0.0s\n",
      "[CV 5/5; 3/5] START n_neighbors=5...............................................\n",
      "[CV 1/5; 4/5] END ................n_neighbors=7;, score=0.846 total time=   0.0s\n",
      "[CV 2/5; 4/5] START n_neighbors=7...............................................\n",
      "[CV 5/5; 3/5] END ................n_neighbors=5;, score=0.829 total time=   0.0s\n",
      "[CV 1/5; 4/5] START n_neighbors=7...............................................\n",
      "[CV 2/5; 4/5] END ................n_neighbors=7;, score=0.842 total time=   0.0s\n",
      "[CV 3/5; 4/5] START n_neighbors=7...............................................\n",
      "[CV 2/5; 4/5] END ................n_neighbors=7;, score=0.854 total time=   0.0s\n",
      "[CV 3/5; 4/5] START n_neighbors=7...............................................\n",
      "[CV 1/5; 4/5] END ................n_neighbors=7;, score=0.830 total time=   0.0s\n",
      "[CV 2/5; 4/5] START n_neighbors=7...............................................\n",
      "[CV 5/5; 3/5] END ................n_neighbors=5;, score=0.837 total time=   0.0s\n",
      "[CV 1/5; 4/5] START n_neighbors=7...............................................\n",
      "[CV 4/5; 3/5] END ................n_neighbors=5;, score=0.821 total time=   0.0s\n",
      "[CV 5/5; 3/5] END ................n_neighbors=5;, score=0.802 total time=   0.0s\n",
      "[CV 5/5; 3/5] START n_neighbors=5...............................................\n",
      "[CV 1/5; 4/5] START n_neighbors=7...............................................\n",
      "[CV 1/5; 4/5] END ................n_neighbors=7;, score=0.867 total time=   0.0s\n",
      "[CV 2/5; 4/5] START n_neighbors=7...............................................\n",
      "[CV 1/5; 4/5] END ................n_neighbors=7;, score=0.841 total time=   0.0s\n",
      "[CV 2/5; 4/5] START n_neighbors=7...............................................\n",
      "[CV 2/5; 4/5] END ................n_neighbors=7;, score=0.830 total time=   0.0s\n",
      "[CV 3/5; 4/5] START n_neighbors=7...............................................\n",
      "[CV 4/5; 4/5] END ................n_neighbors=7;, score=0.824 total time=   0.0s\n",
      "[CV 5/5; 4/5] START n_neighbors=7...............................................\n",
      "[CV 3/5; 4/5] END ................n_neighbors=7;, score=0.837 total time=   0.0s\n",
      "[CV 4/5; 4/5] START n_neighbors=7...............................................\n",
      "[CV 2/5; 4/5] END ................n_neighbors=7;, score=0.812 total time=   0.0s\n",
      "[CV 3/5; 4/5] START n_neighbors=7...............................................\n",
      "[CV 1/5; 4/5] END ................n_neighbors=7;, score=0.837 total time=   0.0s\n",
      "[CV 2/5; 4/5] START n_neighbors=7...............................................\n",
      "[CV 5/5; 3/5] END ................n_neighbors=5;, score=0.829 total time=   0.0s\n",
      "[CV 1/5; 4/5] START n_neighbors=7...............................................\n",
      "[CV 3/5; 4/5] END ................n_neighbors=7;, score=0.826 total time=   0.0s\n",
      "[CV 4/5; 4/5] START n_neighbors=7...............................................\n",
      "[CV 5/5; 4/5] END ................n_neighbors=7;, score=0.843 total time=   0.0s\n",
      "[CV 1/5; 5/5] START n_neighbors=9...............................................\n",
      "[CV 1/5; 4/5] END ................n_neighbors=7;, score=0.815 total time=   0.0s\n",
      "[CV 2/5; 4/5] START n_neighbors=7...............................................\n",
      "[CV 3/5; 4/5] END ................n_neighbors=7;, score=0.799 total time=   0.0s\n",
      "[CV 3/5; 4/5] END ................n_neighbors=7;, score=0.791 total time=   0.0s\n",
      "[CV 4/5; 4/5] START n_neighbors=7...............................................\n",
      "[CV 4/5; 4/5] START n_neighbors=7...............................................\n",
      "[CV 2/5; 4/5] END ................n_neighbors=7;, score=0.831 total time=   0.0s\n",
      "[CV 3/5; 4/5] START n_neighbors=7...............................................\n",
      "[CV 2/5; 4/5] END ................n_neighbors=7;, score=0.825 total time=   0.0s\n",
      "[CV 3/5; 4/5] START n_neighbors=7...............................................\n",
      "[CV 4/5; 4/5] END ................n_neighbors=7;, score=0.803 total time=   0.0s\n",
      "[CV 5/5; 4/5] START n_neighbors=7...............................................\n",
      "[CV 2/5; 4/5] END ................n_neighbors=7;, score=0.827 total time=   0.0s\n",
      "[CV 3/5; 4/5] START n_neighbors=7...............................................\n",
      "[CV 4/5; 4/5] END ................n_neighbors=7;, score=0.844 total time=   0.0s\n",
      "[CV 4/5; 4/5] END ................n_neighbors=7;, score=0.815 total time=   0.0s\n",
      "[CV 5/5; 4/5] START n_neighbors=7...............................................\n",
      "[CV 5/5; 4/5] START n_neighbors=7...............................................\n",
      "[CV 2/5; 4/5] END ................n_neighbors=7;, score=0.842 total time=   0.0s\n",
      "[CV 3/5; 4/5] START n_neighbors=7...............................................\n",
      "[CV 4/5; 4/5] END ................n_neighbors=7;, score=0.830 total time=   0.0s\n",
      "[CV 5/5; 4/5] START n_neighbors=7...............................................\n",
      "[CV 3/5; 4/5] END ................n_neighbors=7;, score=0.835 total time=   0.0s\n",
      "[CV 4/5; 4/5] START n_neighbors=7...............................................\n",
      "[CV 3/5; 4/5] END ................n_neighbors=7;, score=0.817 total time=   0.0s\n",
      "[CV 4/5; 4/5] START n_neighbors=7...............................................\n",
      "[CV 1/5; 5/5] END ................n_neighbors=9;, score=0.861 total time=   0.0s\n",
      "[CV 2/5; 5/5] START n_neighbors=9...............................................\n",
      "[CV 1/5; 4/5] END ................n_neighbors=7;, score=0.822 total time=   0.0s\n",
      "[CV 2/5; 4/5] START n_neighbors=7...............................................\n",
      "[CV 5/5; 4/5] END ................n_neighbors=7;, score=0.823 total time=   0.0s\n",
      "[CV 1/5; 5/5] START n_neighbors=9...............................................\n",
      "[CV 5/5; 4/5] END ................n_neighbors=7;, score=0.807 total time=   0.0s\n",
      "[CV 1/5; 5/5] START n_neighbors=9...............................................\n",
      "[CV 5/5; 4/5] END ................n_neighbors=7;, score=0.813 total time=   0.0s\n",
      "[CV 1/5; 5/5] START n_neighbors=9...............................................\n",
      "[CV 3/5; 4/5] END ................n_neighbors=7;, score=0.838 total time=   0.0s\n",
      "[CV 4/5; 4/5] START n_neighbors=7...............................................\n",
      "[CV 3/5; 4/5] END ................n_neighbors=7;, score=0.835 total time=   0.0s\n",
      "[CV 4/5; 4/5] START n_neighbors=7...............................................\n",
      "[CV 4/5; 4/5] END ................n_neighbors=7;, score=0.823 total time=   0.0s\n",
      "[CV 5/5; 4/5] START n_neighbors=7...............................................\n",
      "[CV 4/5; 4/5] END ................n_neighbors=7;, score=0.841 total time=   0.0s\n",
      "[CV 2/5; 5/5] END ................n_neighbors=9;, score=0.824 total time=   0.0s\n",
      "[CV 2/5; 4/5] END ................n_neighbors=7;, score=0.834 total time=   0.0s\n",
      "[CV 5/5; 4/5] START n_neighbors=7...............................................\n",
      "[CV 3/5; 5/5] START n_neighbors=9...............................................\n",
      "[CV 3/5; 4/5] START n_neighbors=7...............................................\n",
      "[CV 1/5; 5/5] END ................n_neighbors=9;, score=0.810 total time=   0.0s\n",
      "[CV 2/5; 5/5] START n_neighbors=9...............................................\n",
      "[CV 4/5; 4/5] END ................n_neighbors=7;, score=0.831 total time=   0.0s\n",
      "[CV 5/5; 4/5] START n_neighbors=7...............................................\n",
      "[CV 5/5; 4/5] END ................n_neighbors=7;, score=0.815 total time=   0.0s\n",
      "[CV 1/5; 5/5] START n_neighbors=9...............................................\n",
      "[CV 5/5; 4/5] END ................n_neighbors=7;, score=0.830 total time=   0.0s\n",
      "[CV 1/5; 5/5] START n_neighbors=9...............................................\n",
      "[CV 1/5; 5/5] END ................n_neighbors=9;, score=0.849 total time=   0.0s\n",
      "[CV 2/5; 5/5] START n_neighbors=9...............................................\n",
      "[CV 3/5; 4/5] END ................n_neighbors=7;, score=0.859 total time=   0.0s\n",
      "[CV 5/5; 4/5] END ................n_neighbors=7;, score=0.829 total time=   0.0s\n",
      "[CV 4/5; 4/5] START n_neighbors=7...............................................\n",
      "[CV 1/5; 5/5] START n_neighbors=9...............................................\n",
      "[CV 3/5; 5/5] END ................n_neighbors=9;, score=0.818 total time=   0.0s\n",
      "[CV 4/5; 5/5] START n_neighbors=9...............................................\n",
      "[CV 4/5; 4/5] END ................n_neighbors=7;, score=0.794 total time=   0.0s\n",
      "[CV 5/5; 4/5] START n_neighbors=7...............................................\n",
      "[CV 1/5; 5/5] END ................n_neighbors=9;, score=0.828 total time=   0.0s\n",
      "[CV 2/5; 5/5] START n_neighbors=9...............................................\n",
      "[CV 5/5; 4/5] END ................n_neighbors=7;, score=0.818 total time=   0.0s\n",
      "[CV 1/5; 5/5] START n_neighbors=9...............................................\n",
      "[CV 2/5; 5/5] END ................n_neighbors=9;, score=0.840 total time=   0.0s\n",
      "[CV 3/5; 5/5] START n_neighbors=9...............................................\n",
      "[CV 1/5; 5/5] END ................n_neighbors=9;, score=0.867 total time=   0.0s\n",
      "[CV 2/5; 5/5] START n_neighbors=9...............................................\n",
      "[CV 2/5; 5/5] END ................n_neighbors=9;, score=0.813 total time=   0.0s\n",
      "[CV 4/5; 5/5] END ................n_neighbors=9;, score=0.802 total time=   0.0s\n",
      "[CV 3/5; 5/5] START n_neighbors=9...............................................\n",
      "[CV 1/5; 5/5] END ................n_neighbors=9;, score=0.847 total time=   0.0s\n",
      "[CV 5/5; 5/5] START n_neighbors=9...............................................\n",
      "[CV 2/5; 5/5] START n_neighbors=9...............................................\n",
      "[CV 5/5; 4/5] END ................n_neighbors=7;, score=0.819 total time=   0.0s\n",
      "[CV 1/5; 5/5] START n_neighbors=9...............................................\n",
      "[CV 4/5; 4/5] END ................n_neighbors=7;, score=0.808 total time=   0.0s\n",
      "[CV 1/5; 5/5] END ................n_neighbors=9;, score=0.798 total time=   0.0s\n",
      "[CV 2/5; 5/5] END ................n_neighbors=9;, score=0.834 total time=   0.0s\n",
      "[CV 5/5; 4/5] START n_neighbors=7...............................................\n",
      "[CV 2/5; 5/5] START n_neighbors=9...............................................\n",
      "[CV 3/5; 5/5] START n_neighbors=9...............................................\n",
      "[CV 1/5; 5/5] END ................n_neighbors=9;, score=0.827 total time=   0.0s\n",
      "[CV 2/5; 5/5] START n_neighbors=9...............................................\n",
      "[CV 3/5; 5/5] END ................n_neighbors=9;, score=0.801 total time=   0.0s\n",
      "[CV 4/5; 5/5] START n_neighbors=9...............................................\n",
      "[CV 3/5; 5/5] END ................n_neighbors=9;, score=0.825 total time=   0.0s\n",
      "[CV 4/5; 5/5] START n_neighbors=9...............................................\n",
      "[CV 2/5; 5/5] END ................n_neighbors=9;, score=0.815 total time=   0.0s\n",
      "[CV 3/5; 5/5] START n_neighbors=9...............................................\n",
      "[CV 2/5; 5/5] END ................n_neighbors=9;, score=0.812 total time=   0.0s\n",
      "[CV 5/5; 4/5] END ................n_neighbors=7;, score=0.821 total time=   0.0s\n",
      "[CV 3/5; 5/5] START n_neighbors=9...............................................\n",
      "[CV 1/5; 5/5] START n_neighbors=9...............................................\n",
      "[CV 5/5; 5/5] END ................n_neighbors=9;, score=0.835 total time=   0.0s\n",
      "[CV 2/5; 5/5] END ................n_neighbors=9;, score=0.835 total time=   0.0s\n",
      "[CV 3/5; 5/5] START n_neighbors=9...............................................\n",
      "[CV 1/5; 5/5] END ................n_neighbors=9;, score=0.794 total time=   0.0s\n",
      "[CV 2/5; 5/5] START n_neighbors=9...............................................\n",
      "[CV 4/5; 5/5] END ................n_neighbors=9;, score=0.817 total time=   0.0s\n",
      "[CV 5/5; 5/5] START n_neighbors=9...............................................\n",
      "[CV 2/5; 5/5] END ................n_neighbors=9;, score=0.820 total time=   0.0s\n",
      "[CV 3/5; 5/5] END ................n_neighbors=9;, score=0.824 total time=   0.0s\n",
      "[CV 3/5; 5/5] START n_neighbors=9...............................................\n",
      "[CV 4/5; 5/5] START n_neighbors=9...............................................\n",
      "[CV 3/5; 5/5] END ................n_neighbors=9;, score=0.800 total time=   0.0s\n",
      "[CV 4/5; 5/5] START n_neighbors=9...............................................\n",
      "[CV 3/5; 5/5] END ................n_neighbors=9;, score=0.773 total time=   0.0s\n",
      "[CV 4/5; 5/5] START n_neighbors=9...............................................\n",
      "[CV 4/5; 5/5] END ................n_neighbors=9;, score=0.799 total time=   0.0s\n",
      "[CV 5/5; 5/5] START n_neighbors=9...............................................\n",
      "[CV 1/5; 5/5] END ................n_neighbors=9;, score=0.822 total time=   0.0s\n",
      "[CV 2/5; 5/5] START n_neighbors=9...............................................\n",
      "[CV 2/5; 5/5] END ................n_neighbors=9;, score=0.838 total time=   0.0s\n",
      "[CV 3/5; 5/5] START n_neighbors=9...............................................\n",
      "[CV 3/5; 5/5] END ................n_neighbors=9;, score=0.822 total time=   0.0s\n",
      "[CV 5/5; 5/5] END ................n_neighbors=9;, score=0.800 total time=   0.0s\n",
      "[CV 4/5; 5/5] START n_neighbors=9...............................................\n",
      "[CV 4/5; 5/5] END ................n_neighbors=9;, score=0.817 total time=   0.0s\n",
      "[CV 5/5; 5/5] START n_neighbors=9...............................................\n",
      "[CV 4/5; 5/5] END ................n_neighbors=9;, score=0.805 total time=   0.0s\n",
      "[CV 5/5; 5/5] START n_neighbors=9...............................................\n",
      "[CV 4/5; 5/5] END ................n_neighbors=9;, score=0.824 total time=   0.0s\n",
      "[CV 5/5; 5/5] START n_neighbors=9...............................................\n",
      "[CV 5/5; 5/5] END ................n_neighbors=9;, score=0.799 total time=   0.0s\n",
      "[CV 3/5; 5/5] END ................n_neighbors=9;, score=0.811 total time=   0.0s\n",
      "[CV 4/5; 5/5] START n_neighbors=9...............................................\n",
      "[CV 2/5; 5/5] END ................n_neighbors=9;, score=0.824 total time=   0.0s\n",
      "[CV 3/5; 5/5] START n_neighbors=9...............................................\n",
      "[CV 3/5; 5/5] END ................n_neighbors=9;, score=0.841 total time=   0.0s\n",
      "[CV 4/5; 5/5] START n_neighbors=9...............................................\n",
      "[CV 5/5; 5/5] END ................n_neighbors=9;, score=0.821 total time=   0.0s\n",
      "[CV 5/5; 5/5] END ................n_neighbors=9;, score=0.821 total time=   0.0s\n",
      "[CV 4/5; 5/5] END ................n_neighbors=9;, score=0.808 total time=   0.0s\n",
      "[CV 5/5; 5/5] START n_neighbors=9...............................................\n",
      "[CV 5/5; 5/5] END ................n_neighbors=9;, score=0.818 total time=   0.0s\n",
      "[CV 4/5; 5/5] END ................n_neighbors=9;, score=0.783 total time=   0.0s\n",
      "[CV 5/5; 5/5] START n_neighbors=9...............................................\n",
      "[CV 3/5; 5/5] END ................n_neighbors=9;, score=0.857 total time=   0.0s\n",
      "[CV 4/5; 5/5] START n_neighbors=9...............................................\n",
      "[CV 4/5; 5/5] END ................n_neighbors=9;, score=0.847 total time=   0.0s\n",
      "[CV 5/5; 5/5] START n_neighbors=9...............................................\n",
      "[CV 5/5; 5/5] END ................n_neighbors=9;, score=0.812 total time=   0.0s\n",
      "[CV 5/5; 5/5] END ................n_neighbors=9;, score=0.808 total time=   0.0s\n",
      "[CV 4/5; 5/5] END ................n_neighbors=9;, score=0.796 total time=   0.0s\n",
      "[CV 5/5; 5/5] START n_neighbors=9...............................................\n",
      "[CV 5/5; 5/5] END ................n_neighbors=9;, score=0.829 total time=   0.0s\n",
      "[CV 5/5; 5/5] END ................n_neighbors=9;, score=0.817 total time=   0.0s\n",
      "0.8773408239700374\n",
      "(array([1, 0, 0, ..., 0, 0, 1]), array([1, 0, 0, ..., 0, 0, 1]))\n",
      "[1591  215   47  283]\n"
     ]
    }
   ],
   "source": [
    "kmer = 4\n",
    "ds = datasets['merged'][f'normalized-{kmer}']\n",
    "\n",
    "X_train, X_test = ds['X_train'], ds['X_test']\n",
    "\n",
    "X = pd.concat([X_train, X_test])\n",
    "y = np.concatenate([ds['y_train'], ds['y_test']], axis=0)\n",
    "\n",
    "X_train, X_test, y_train, y_test = train_test_split(X, y, test_size=0.2, random_state=42)\n",
    "param = {\n",
    "    'n_neighbors': [1, 3, 5, 7, 9]\n",
    "}\n",
    "\n",
    "knntest = BalancedBaggingClassifier(base_estimator=GridSearchCV(KNeighborsClassifier(n_neighbors = 1, n_jobs = -1), param_grid=param, verbose=10), n_estimators = 10, n_jobs = -1)\n",
    "\n",
    "knntest.fit(X_train, y_train)\n",
    "print(knntest.score(X_test, y_test))\n",
    "print((y_test, knntest.predict(X_test)))\n",
    "print(confusion_matrix(y_test, knntest.predict(X_test)).ravel())\n",
    "\n",
    "pickle.dump(knntest, open('models/curr_models/knn.pkl', 'wb'))"
   ]
  },
  {
   "cell_type": "code",
   "execution_count": null,
   "metadata": {},
   "outputs": [],
   "source": [
    "predictions = knntest.predict(X_test)\n",
    "picklething = pickle.load(open('models/curr_models/kmer4/knn.pkl', 'rb'))\n",
    "picklescore = validation_utils.cross_validate(picklething, X_test, y_test)\n",
    "# print(knntest, picklescore)\n",
    "# saveModel(knntest, \"knn\", X_test, y_test)"
   ]
  },
  {
   "cell_type": "code",
   "execution_count": 20,
   "metadata": {},
   "outputs": [
    {
     "name": "stdout",
     "output_type": "stream",
     "text": [
      "0.826\n"
     ]
    }
   ],
   "source": [
    "print(picklescore)"
   ]
  },
  {
   "attachments": {},
   "cell_type": "markdown",
   "metadata": {},
   "source": [
    "### Evaluate & validate performance of random forest (baseline) on dataset"
   ]
  },
  {
   "cell_type": "code",
   "execution_count": 16,
   "metadata": {},
   "outputs": [
    {
     "name": "stdout",
     "output_type": "stream",
     "text": [
      "BalancedBaggingClassifier\n"
     ]
    },
    {
     "name": "stderr",
     "output_type": "stream",
     "text": [
      "[Parallel(n_jobs=-1)]: Using backend LokyBackend with 10 concurrent workers.\n"
     ]
    },
    {
     "name": "stdout",
     "output_type": "stream",
     "text": [
      "Accuracy: 0.887 (0.005)\n",
      "0.887\n"
     ]
    },
    {
     "name": "stderr",
     "output_type": "stream",
     "text": [
      "[Parallel(n_jobs=-1)]: Done  12 out of  15 | elapsed:    1.4s remaining:    0.3s\n",
      "[Parallel(n_jobs=-1)]: Done  15 out of  15 | elapsed:    1.4s finished\n"
     ]
    }
   ],
   "source": [
    "kmer = 4\n",
    "ds = datasets['merged'][f'normalized-{kmer}']\n",
    "\n",
    "X_train, y_train, X_test, y_test = ds['X_train'], ds['y_train'], ds['X_test'], ds['y_test']\n",
    "\n",
    "X = pd.concat([X_train, X_test])\n",
    "y = np.concatenate([ds['y_train'], ds['y_test']], axis=0)\n",
    "\n",
    "X_train, X_test, y_train, y_test = train_test_split(X, y, test_size=0.2, random_state=42)\n",
    "\n",
    "randforest = BalancedBaggingClassifier(base_estimator=DecisionTreeClassifier(max_features=\"sqrt\"))\n",
    "\n",
    "# randforest.fit(X_train, y_train)\n",
    "randforest.fit(X_train, y_train)\n",
    "print(validation_utils.cross_validate(randforest, X, y))\n",
    "pickle.dump(randforest, open('models/curr_models/randforest.pkl', 'wb'))\n",
    "# model_utils.saveModel(randforest, \"randforest\", X, y)"
   ]
  },
  {
   "cell_type": "code",
   "execution_count": null,
   "metadata": {},
   "outputs": [],
   "source": [
    "probability_predictions = randforest.predict_proba(X_test)\n",
    "preds = randforest.predict(X_test)\n",
    "print(validation_utils.cross_validate(randforest, X_test, y_test))"
   ]
  },
  {
   "attachments": {},
   "cell_type": "markdown",
   "metadata": {},
   "source": [
    "### XGB classifier"
   ]
  },
  {
   "cell_type": "code",
   "execution_count": 67,
   "metadata": {},
   "outputs": [
    {
     "name": "stdout",
     "output_type": "stream",
     "text": [
      "Fitting 5 folds for each of 36 candidates, totalling 180 fits\n",
      "[CV 3/5; 2/36] START colsample_bytree=0.8, gamma=0.6, max_depth=7, min_child_weight=1, n_estimators=300, scale_pos_weight=3, subsample=0.8\n",
      "[CV 4/5; 2/36] START colsample_bytree=0.8, gamma=0.6, max_depth=7, min_child_weight=1, n_estimators=300, scale_pos_weight=3, subsample=0.8\n",
      "[CV 2/5; 1/36] START colsample_bytree=0.8, gamma=0.6, max_depth=7, min_child_weight=1, n_estimators=250, scale_pos_weight=3, subsample=0.8\n",
      "[CV 1/5; 1/36] START colsample_bytree=0.8, gamma=0.6, max_depth=7, min_child_weight=1, n_estimators=250, scale_pos_weight=3, subsample=0.8\n",
      "[CV 1/5; 2/36] START colsample_bytree=0.8, gamma=0.6, max_depth=7, min_child_weight=1, n_estimators=300, scale_pos_weight=3, subsample=0.8\n",
      "[CV 4/5; 1/36] START colsample_bytree=0.8, gamma=0.6, max_depth=7, min_child_weight=1, n_estimators=250, scale_pos_weight=3, subsample=0.8\n",
      "[CV 2/5; 2/36] START colsample_bytree=0.8, gamma=0.6, max_depth=7, min_child_weight=1, n_estimators=300, scale_pos_weight=3, subsample=0.8\n",
      "[CV 5/5; 1/36] START colsample_bytree=0.8, gamma=0.6, max_depth=7, min_child_weight=1, n_estimators=250, scale_pos_weight=3, subsample=0.8\n",
      "[CV 5/5; 2/36] START colsample_bytree=0.8, gamma=0.6, max_depth=7, min_child_weight=1, n_estimators=300, scale_pos_weight=3, subsample=0.8\n",
      "[CV 3/5; 1/36] START colsample_bytree=0.8, gamma=0.6, max_depth=7, min_child_weight=1, n_estimators=250, scale_pos_weight=3, subsample=0.8\n",
      "[CV 5/5; 1/36] END colsample_bytree=0.8, gamma=0.6, max_depth=7, min_child_weight=1, n_estimators=250, scale_pos_weight=3, subsample=0.8;, score=0.655 total time=  43.8s\n",
      "[CV 1/5; 1/36] END colsample_bytree=0.8, gamma=0.6, max_depth=7, min_child_weight=1, n_estimators=250, scale_pos_weight=3, subsample=0.8;, score=0.664 total time=  43.8s\n",
      "[CV 4/5; 1/36] END colsample_bytree=0.8, gamma=0.6, max_depth=7, min_child_weight=1, n_estimators=250, scale_pos_weight=3, subsample=0.8;, score=0.610 total time=  43.8s\n",
      "[CV 1/5; 3/36] START colsample_bytree=0.8, gamma=0.6, max_depth=7, min_child_weight=1, n_estimators=350, scale_pos_weight=3, subsample=0.8\n",
      "[CV 2/5; 3/36] START colsample_bytree=0.8, gamma=0.6, max_depth=7, min_child_weight=1, n_estimators=350, scale_pos_weight=3, subsample=0.8\n",
      "[CV 3/5; 3/36] START colsample_bytree=0.8, gamma=0.6, max_depth=7, min_child_weight=1, n_estimators=350, scale_pos_weight=3, subsample=0.8\n",
      "[CV 2/5; 1/36] END colsample_bytree=0.8, gamma=0.6, max_depth=7, min_child_weight=1, n_estimators=250, scale_pos_weight=3, subsample=0.8;, score=0.679 total time=  44.2s\n",
      "[CV 4/5; 3/36] START colsample_bytree=0.8, gamma=0.6, max_depth=7, min_child_weight=1, n_estimators=350, scale_pos_weight=3, subsample=0.8\n",
      "[CV 3/5; 1/36] END colsample_bytree=0.8, gamma=0.6, max_depth=7, min_child_weight=1, n_estimators=250, scale_pos_weight=3, subsample=0.8;, score=0.687 total time=  44.5s\n",
      "[CV 5/5; 3/36] START colsample_bytree=0.8, gamma=0.6, max_depth=7, min_child_weight=1, n_estimators=350, scale_pos_weight=3, subsample=0.8\n",
      "[CV 3/5; 2/36] END colsample_bytree=0.8, gamma=0.6, max_depth=7, min_child_weight=1, n_estimators=300, scale_pos_weight=3, subsample=0.8;, score=0.695 total time=  52.0s\n",
      "[CV 1/5; 4/36] START colsample_bytree=0.8, gamma=0.6, max_depth=7, min_child_weight=3, n_estimators=250, scale_pos_weight=3, subsample=0.8\n",
      "[CV 4/5; 2/36] END colsample_bytree=0.8, gamma=0.6, max_depth=7, min_child_weight=1, n_estimators=300, scale_pos_weight=3, subsample=0.8;, score=0.610 total time=  52.2s\n",
      "[CV 2/5; 4/36] START colsample_bytree=0.8, gamma=0.6, max_depth=7, min_child_weight=3, n_estimators=250, scale_pos_weight=3, subsample=0.8\n",
      "[CV 1/5; 2/36] END colsample_bytree=0.8, gamma=0.6, max_depth=7, min_child_weight=1, n_estimators=300, scale_pos_weight=3, subsample=0.8;, score=0.660 total time=  52.5s\n",
      "[CV 3/5; 4/36] START colsample_bytree=0.8, gamma=0.6, max_depth=7, min_child_weight=3, n_estimators=250, scale_pos_weight=3, subsample=0.8\n",
      "[CV 5/5; 2/36] END colsample_bytree=0.8, gamma=0.6, max_depth=7, min_child_weight=1, n_estimators=300, scale_pos_weight=3, subsample=0.8;, score=0.651 total time=  52.7s\n",
      "[CV 2/5; 2/36] END colsample_bytree=0.8, gamma=0.6, max_depth=7, min_child_weight=1, n_estimators=300, scale_pos_weight=3, subsample=0.8;, score=0.683 total time=  52.7s\n",
      "[CV 4/5; 4/36] START colsample_bytree=0.8, gamma=0.6, max_depth=7, min_child_weight=3, n_estimators=250, scale_pos_weight=3, subsample=0.8\n",
      "[CV 5/5; 4/36] START colsample_bytree=0.8, gamma=0.6, max_depth=7, min_child_weight=3, n_estimators=250, scale_pos_weight=3, subsample=0.8\n",
      "[CV 4/5; 4/36] END colsample_bytree=0.8, gamma=0.6, max_depth=7, min_child_weight=3, n_estimators=250, scale_pos_weight=3, subsample=0.8;, score=0.606 total time=  43.1s\n",
      "[CV 1/5; 5/36] START colsample_bytree=0.8, gamma=0.6, max_depth=7, min_child_weight=3, n_estimators=300, scale_pos_weight=3, subsample=0.8\n",
      "[CV 2/5; 4/36] END colsample_bytree=0.8, gamma=0.6, max_depth=7, min_child_weight=3, n_estimators=250, scale_pos_weight=3, subsample=0.8;, score=0.687 total time=  43.9s\n",
      "[CV 1/5; 4/36] END colsample_bytree=0.8, gamma=0.6, max_depth=7, min_child_weight=3, n_estimators=250, scale_pos_weight=3, subsample=0.8;, score=0.656 total time=  44.2s\n",
      "[CV 2/5; 5/36] START colsample_bytree=0.8, gamma=0.6, max_depth=7, min_child_weight=3, n_estimators=300, scale_pos_weight=3, subsample=0.8\n",
      "[CV 3/5; 5/36] START colsample_bytree=0.8, gamma=0.6, max_depth=7, min_child_weight=3, n_estimators=300, scale_pos_weight=3, subsample=0.8\n",
      "[CV 3/5; 4/36] END colsample_bytree=0.8, gamma=0.6, max_depth=7, min_child_weight=3, n_estimators=250, scale_pos_weight=3, subsample=0.8;, score=0.671 total time=  43.9s\n",
      "[CV 4/5; 5/36] START colsample_bytree=0.8, gamma=0.6, max_depth=7, min_child_weight=3, n_estimators=300, scale_pos_weight=3, subsample=0.8\n",
      "[CV 5/5; 4/36] END colsample_bytree=0.8, gamma=0.6, max_depth=7, min_child_weight=3, n_estimators=250, scale_pos_weight=3, subsample=0.8;, score=0.671 total time=  44.0s\n",
      "[CV 5/5; 5/36] START colsample_bytree=0.8, gamma=0.6, max_depth=7, min_child_weight=3, n_estimators=300, scale_pos_weight=3, subsample=0.8\n",
      "[CV 4/5; 3/36] END colsample_bytree=0.8, gamma=0.6, max_depth=7, min_child_weight=1, n_estimators=350, scale_pos_weight=3, subsample=0.8;, score=0.618 total time= 1.1min\n",
      "[CV 3/5; 3/36] END colsample_bytree=0.8, gamma=0.6, max_depth=7, min_child_weight=1, n_estimators=350, scale_pos_weight=3, subsample=0.8;, score=0.695 total time= 1.1min\n",
      "[CV 2/5; 6/36] START colsample_bytree=0.8, gamma=0.6, max_depth=7, min_child_weight=3, n_estimators=350, scale_pos_weight=3, subsample=0.8\n",
      "[CV 1/5; 6/36] START colsample_bytree=0.8, gamma=0.6, max_depth=7, min_child_weight=3, n_estimators=350, scale_pos_weight=3, subsample=0.8\n",
      "[CV 1/5; 3/36] END colsample_bytree=0.8, gamma=0.6, max_depth=7, min_child_weight=1, n_estimators=350, scale_pos_weight=3, subsample=0.8;, score=0.660 total time= 1.1min\n",
      "[CV 3/5; 6/36] START colsample_bytree=0.8, gamma=0.6, max_depth=7, min_child_weight=3, n_estimators=350, scale_pos_weight=3, subsample=0.8\n",
      "[CV 2/5; 3/36] END colsample_bytree=0.8, gamma=0.6, max_depth=7, min_child_weight=1, n_estimators=350, scale_pos_weight=3, subsample=0.8;, score=0.671 total time= 1.1min\n",
      "[CV 4/5; 6/36] START colsample_bytree=0.8, gamma=0.6, max_depth=7, min_child_weight=3, n_estimators=350, scale_pos_weight=3, subsample=0.8\n",
      "[CV 5/5; 3/36] END colsample_bytree=0.8, gamma=0.6, max_depth=7, min_child_weight=1, n_estimators=350, scale_pos_weight=3, subsample=0.8;, score=0.663 total time= 1.1min\n",
      "[CV 5/5; 6/36] START colsample_bytree=0.8, gamma=0.6, max_depth=7, min_child_weight=3, n_estimators=350, scale_pos_weight=3, subsample=0.8\n",
      "[CV 1/5; 5/36] END colsample_bytree=0.8, gamma=0.6, max_depth=7, min_child_weight=3, n_estimators=300, scale_pos_weight=3, subsample=0.8;, score=0.664 total time=  53.9s\n",
      "[CV 4/5; 5/36] END colsample_bytree=0.8, gamma=0.6, max_depth=7, min_child_weight=3, n_estimators=300, scale_pos_weight=3, subsample=0.8;, score=0.606 total time=  53.4s\n",
      "[CV 2/5; 7/36] START colsample_bytree=0.8, gamma=0.6, max_depth=8, min_child_weight=1, n_estimators=250, scale_pos_weight=3, subsample=0.8\n",
      "[CV 1/5; 7/36] START colsample_bytree=0.8, gamma=0.6, max_depth=8, min_child_weight=1, n_estimators=250, scale_pos_weight=3, subsample=0.8\n",
      "[CV 2/5; 5/36] END colsample_bytree=0.8, gamma=0.6, max_depth=7, min_child_weight=3, n_estimators=300, scale_pos_weight=3, subsample=0.8;, score=0.683 total time=  53.7s\n",
      "[CV 3/5; 7/36] START colsample_bytree=0.8, gamma=0.6, max_depth=8, min_child_weight=1, n_estimators=250, scale_pos_weight=3, subsample=0.8\n",
      "[CV 3/5; 5/36] END colsample_bytree=0.8, gamma=0.6, max_depth=7, min_child_weight=3, n_estimators=300, scale_pos_weight=3, subsample=0.8;, score=0.667 total time=  53.8s\n",
      "[CV 4/5; 7/36] START colsample_bytree=0.8, gamma=0.6, max_depth=8, min_child_weight=1, n_estimators=250, scale_pos_weight=3, subsample=0.8\n",
      "[CV 5/5; 5/36] END colsample_bytree=0.8, gamma=0.6, max_depth=7, min_child_weight=3, n_estimators=300, scale_pos_weight=3, subsample=0.8;, score=0.675 total time=  54.0s\n",
      "[CV 5/5; 7/36] START colsample_bytree=0.8, gamma=0.6, max_depth=8, min_child_weight=1, n_estimators=250, scale_pos_weight=3, subsample=0.8\n",
      "[CV 1/5; 8/36] START colsample_bytree=0.8, gamma=0.6, max_depth=8, min_child_weight=1, n_estimators=300, scale_pos_weight=3, subsample=0.8\n",
      "[CV 3/5; 8/36] START colsample_bytree=0.8, gamma=0.6, max_depth=8, min_child_weight=1, n_estimators=300, scale_pos_weight=3, subsample=0.8\n",
      "[CV 4/5; 8/36] START colsample_bytree=0.8, gamma=0.6, max_depth=8, min_child_weight=1, n_estimators=300, scale_pos_weight=3, subsample=0.8\n"
     ]
    },
    {
     "ename": "KeyboardInterrupt",
     "evalue": "",
     "output_type": "error",
     "traceback": [
      "\u001b[0;31m---------------------------------------------------------------------------\u001b[0m",
      "\u001b[0;31mKeyboardInterrupt\u001b[0m                         Traceback (most recent call last)",
      "\u001b[1;32m/Users/benjaminli/Documents/coding/scires/project/train_and_vis/models.ipynb Cell 16\u001b[0m in \u001b[0;36m<cell line: 32>\u001b[0;34m()\u001b[0m\n\u001b[1;32m      <a href='vscode-notebook-cell:/Users/benjaminli/Documents/coding/scires/project/train_and_vis/models.ipynb#Y111sZmlsZQ%3D%3D?line=8'>9</a>\u001b[0m param \u001b[39m=\u001b[39m {\n\u001b[1;32m     <a href='vscode-notebook-cell:/Users/benjaminli/Documents/coding/scires/project/train_and_vis/models.ipynb#Y111sZmlsZQ%3D%3D?line=9'>10</a>\u001b[0m     \u001b[39m'\u001b[39m\u001b[39mn_estimators\u001b[39m\u001b[39m'\u001b[39m: [\u001b[39m250\u001b[39m, \u001b[39m300\u001b[39m, \u001b[39m350\u001b[39m],\n\u001b[1;32m     <a href='vscode-notebook-cell:/Users/benjaminli/Documents/coding/scires/project/train_and_vis/models.ipynb#Y111sZmlsZQ%3D%3D?line=10'>11</a>\u001b[0m     \u001b[39m'\u001b[39m\u001b[39mmax_depth\u001b[39m\u001b[39m'\u001b[39m: [\u001b[39m7\u001b[39m, \u001b[39m8\u001b[39m,\u001b[39m9\u001b[39m],\n\u001b[0;32m   (...)\u001b[0m\n\u001b[1;32m     <a href='vscode-notebook-cell:/Users/benjaminli/Documents/coding/scires/project/train_and_vis/models.ipynb#Y111sZmlsZQ%3D%3D?line=15'>16</a>\u001b[0m     \u001b[39m'\u001b[39m\u001b[39mscale_pos_weight\u001b[39m\u001b[39m'\u001b[39m: [\u001b[39m3\u001b[39m]\n\u001b[1;32m     <a href='vscode-notebook-cell:/Users/benjaminli/Documents/coding/scires/project/train_and_vis/models.ipynb#Y111sZmlsZQ%3D%3D?line=16'>17</a>\u001b[0m }\n\u001b[1;32m     <a href='vscode-notebook-cell:/Users/benjaminli/Documents/coding/scires/project/train_and_vis/models.ipynb#Y111sZmlsZQ%3D%3D?line=18'>19</a>\u001b[0m xgb1 \u001b[39m=\u001b[39m GridSearchCV(estimator\u001b[39m=\u001b[39mXGBClassifier(\n\u001b[1;32m     <a href='vscode-notebook-cell:/Users/benjaminli/Documents/coding/scires/project/train_and_vis/models.ipynb#Y111sZmlsZQ%3D%3D?line=19'>20</a>\u001b[0m  learning_rate \u001b[39m=\u001b[39m\u001b[39m0.1\u001b[39m,\n\u001b[1;32m     <a href='vscode-notebook-cell:/Users/benjaminli/Documents/coding/scires/project/train_and_vis/models.ipynb#Y111sZmlsZQ%3D%3D?line=20'>21</a>\u001b[0m  n_estimators\u001b[39m=\u001b[39m\u001b[39m200\u001b[39m,\n\u001b[0;32m   (...)\u001b[0m\n\u001b[1;32m     <a href='vscode-notebook-cell:/Users/benjaminli/Documents/coding/scires/project/train_and_vis/models.ipynb#Y111sZmlsZQ%3D%3D?line=28'>29</a>\u001b[0m  seed\u001b[39m=\u001b[39m\u001b[39m42\u001b[39m,\n\u001b[1;32m     <a href='vscode-notebook-cell:/Users/benjaminli/Documents/coding/scires/project/train_and_vis/models.ipynb#Y111sZmlsZQ%3D%3D?line=29'>30</a>\u001b[0m  n_jobs\u001b[39m=\u001b[39m\u001b[39m-\u001b[39m\u001b[39m1\u001b[39m), param_grid\u001b[39m=\u001b[39mparam, scoring\u001b[39m=\u001b[39m\u001b[39m'\u001b[39m\u001b[39mrecall\u001b[39m\u001b[39m'\u001b[39m, n_jobs\u001b[39m=\u001b[39m\u001b[39m-\u001b[39m\u001b[39m1\u001b[39m, cv\u001b[39m=\u001b[39m\u001b[39m5\u001b[39m, verbose\u001b[39m=\u001b[39m\u001b[39m10\u001b[39m)\n\u001b[0;32m---> <a href='vscode-notebook-cell:/Users/benjaminli/Documents/coding/scires/project/train_and_vis/models.ipynb#Y111sZmlsZQ%3D%3D?line=31'>32</a>\u001b[0m xgb1\u001b[39m.\u001b[39;49mfit(X_train, y_train)\n",
      "File \u001b[0;32m~/opt/miniconda3/envs/seq/lib/python3.8/site-packages/sklearn/model_selection/_search.py:875\u001b[0m, in \u001b[0;36mBaseSearchCV.fit\u001b[0;34m(self, X, y, groups, **fit_params)\u001b[0m\n\u001b[1;32m    869\u001b[0m     results \u001b[39m=\u001b[39m \u001b[39mself\u001b[39m\u001b[39m.\u001b[39m_format_results(\n\u001b[1;32m    870\u001b[0m         all_candidate_params, n_splits, all_out, all_more_results\n\u001b[1;32m    871\u001b[0m     )\n\u001b[1;32m    873\u001b[0m     \u001b[39mreturn\u001b[39;00m results\n\u001b[0;32m--> 875\u001b[0m \u001b[39mself\u001b[39;49m\u001b[39m.\u001b[39;49m_run_search(evaluate_candidates)\n\u001b[1;32m    877\u001b[0m \u001b[39m# multimetric is determined here because in the case of a callable\u001b[39;00m\n\u001b[1;32m    878\u001b[0m \u001b[39m# self.scoring the return type is only known after calling\u001b[39;00m\n\u001b[1;32m    879\u001b[0m first_test_score \u001b[39m=\u001b[39m all_out[\u001b[39m0\u001b[39m][\u001b[39m\"\u001b[39m\u001b[39mtest_scores\u001b[39m\u001b[39m\"\u001b[39m]\n",
      "File \u001b[0;32m~/opt/miniconda3/envs/seq/lib/python3.8/site-packages/sklearn/model_selection/_search.py:1379\u001b[0m, in \u001b[0;36mGridSearchCV._run_search\u001b[0;34m(self, evaluate_candidates)\u001b[0m\n\u001b[1;32m   1377\u001b[0m \u001b[39mdef\u001b[39;00m \u001b[39m_run_search\u001b[39m(\u001b[39mself\u001b[39m, evaluate_candidates):\n\u001b[1;32m   1378\u001b[0m     \u001b[39m\"\"\"Search all candidates in param_grid\"\"\"\u001b[39;00m\n\u001b[0;32m-> 1379\u001b[0m     evaluate_candidates(ParameterGrid(\u001b[39mself\u001b[39;49m\u001b[39m.\u001b[39;49mparam_grid))\n",
      "File \u001b[0;32m~/opt/miniconda3/envs/seq/lib/python3.8/site-packages/sklearn/model_selection/_search.py:822\u001b[0m, in \u001b[0;36mBaseSearchCV.fit.<locals>.evaluate_candidates\u001b[0;34m(candidate_params, cv, more_results)\u001b[0m\n\u001b[1;32m    814\u001b[0m \u001b[39mif\u001b[39;00m \u001b[39mself\u001b[39m\u001b[39m.\u001b[39mverbose \u001b[39m>\u001b[39m \u001b[39m0\u001b[39m:\n\u001b[1;32m    815\u001b[0m     \u001b[39mprint\u001b[39m(\n\u001b[1;32m    816\u001b[0m         \u001b[39m\"\u001b[39m\u001b[39mFitting \u001b[39m\u001b[39m{0}\u001b[39;00m\u001b[39m folds for each of \u001b[39m\u001b[39m{1}\u001b[39;00m\u001b[39m candidates,\u001b[39m\u001b[39m\"\u001b[39m\n\u001b[1;32m    817\u001b[0m         \u001b[39m\"\u001b[39m\u001b[39m totalling \u001b[39m\u001b[39m{2}\u001b[39;00m\u001b[39m fits\u001b[39m\u001b[39m\"\u001b[39m\u001b[39m.\u001b[39mformat(\n\u001b[1;32m    818\u001b[0m             n_splits, n_candidates, n_candidates \u001b[39m*\u001b[39m n_splits\n\u001b[1;32m    819\u001b[0m         )\n\u001b[1;32m    820\u001b[0m     )\n\u001b[0;32m--> 822\u001b[0m out \u001b[39m=\u001b[39m parallel(\n\u001b[1;32m    823\u001b[0m     delayed(_fit_and_score)(\n\u001b[1;32m    824\u001b[0m         clone(base_estimator),\n\u001b[1;32m    825\u001b[0m         X,\n\u001b[1;32m    826\u001b[0m         y,\n\u001b[1;32m    827\u001b[0m         train\u001b[39m=\u001b[39;49mtrain,\n\u001b[1;32m    828\u001b[0m         test\u001b[39m=\u001b[39;49mtest,\n\u001b[1;32m    829\u001b[0m         parameters\u001b[39m=\u001b[39;49mparameters,\n\u001b[1;32m    830\u001b[0m         split_progress\u001b[39m=\u001b[39;49m(split_idx, n_splits),\n\u001b[1;32m    831\u001b[0m         candidate_progress\u001b[39m=\u001b[39;49m(cand_idx, n_candidates),\n\u001b[1;32m    832\u001b[0m         \u001b[39m*\u001b[39;49m\u001b[39m*\u001b[39;49mfit_and_score_kwargs,\n\u001b[1;32m    833\u001b[0m     )\n\u001b[1;32m    834\u001b[0m     \u001b[39mfor\u001b[39;49;00m (cand_idx, parameters), (split_idx, (train, test)) \u001b[39min\u001b[39;49;00m product(\n\u001b[1;32m    835\u001b[0m         \u001b[39menumerate\u001b[39;49m(candidate_params), \u001b[39menumerate\u001b[39;49m(cv\u001b[39m.\u001b[39;49msplit(X, y, groups))\n\u001b[1;32m    836\u001b[0m     )\n\u001b[1;32m    837\u001b[0m )\n\u001b[1;32m    839\u001b[0m \u001b[39mif\u001b[39;00m \u001b[39mlen\u001b[39m(out) \u001b[39m<\u001b[39m \u001b[39m1\u001b[39m:\n\u001b[1;32m    840\u001b[0m     \u001b[39mraise\u001b[39;00m \u001b[39mValueError\u001b[39;00m(\n\u001b[1;32m    841\u001b[0m         \u001b[39m\"\u001b[39m\u001b[39mNo fits were performed. \u001b[39m\u001b[39m\"\u001b[39m\n\u001b[1;32m    842\u001b[0m         \u001b[39m\"\u001b[39m\u001b[39mWas the CV iterator empty? \u001b[39m\u001b[39m\"\u001b[39m\n\u001b[1;32m    843\u001b[0m         \u001b[39m\"\u001b[39m\u001b[39mWere there no candidates?\u001b[39m\u001b[39m\"\u001b[39m\n\u001b[1;32m    844\u001b[0m     )\n",
      "File \u001b[0;32m~/opt/miniconda3/envs/seq/lib/python3.8/site-packages/joblib/parallel.py:1098\u001b[0m, in \u001b[0;36mParallel.__call__\u001b[0;34m(self, iterable)\u001b[0m\n\u001b[1;32m   1095\u001b[0m     \u001b[39mself\u001b[39m\u001b[39m.\u001b[39m_iterating \u001b[39m=\u001b[39m \u001b[39mFalse\u001b[39;00m\n\u001b[1;32m   1097\u001b[0m \u001b[39mwith\u001b[39;00m \u001b[39mself\u001b[39m\u001b[39m.\u001b[39m_backend\u001b[39m.\u001b[39mretrieval_context():\n\u001b[0;32m-> 1098\u001b[0m     \u001b[39mself\u001b[39;49m\u001b[39m.\u001b[39;49mretrieve()\n\u001b[1;32m   1099\u001b[0m \u001b[39m# Make sure that we get a last message telling us we are done\u001b[39;00m\n\u001b[1;32m   1100\u001b[0m elapsed_time \u001b[39m=\u001b[39m time\u001b[39m.\u001b[39mtime() \u001b[39m-\u001b[39m \u001b[39mself\u001b[39m\u001b[39m.\u001b[39m_start_time\n",
      "File \u001b[0;32m~/opt/miniconda3/envs/seq/lib/python3.8/site-packages/joblib/parallel.py:975\u001b[0m, in \u001b[0;36mParallel.retrieve\u001b[0;34m(self)\u001b[0m\n\u001b[1;32m    973\u001b[0m \u001b[39mtry\u001b[39;00m:\n\u001b[1;32m    974\u001b[0m     \u001b[39mif\u001b[39;00m \u001b[39mgetattr\u001b[39m(\u001b[39mself\u001b[39m\u001b[39m.\u001b[39m_backend, \u001b[39m'\u001b[39m\u001b[39msupports_timeout\u001b[39m\u001b[39m'\u001b[39m, \u001b[39mFalse\u001b[39;00m):\n\u001b[0;32m--> 975\u001b[0m         \u001b[39mself\u001b[39m\u001b[39m.\u001b[39m_output\u001b[39m.\u001b[39mextend(job\u001b[39m.\u001b[39;49mget(timeout\u001b[39m=\u001b[39;49m\u001b[39mself\u001b[39;49m\u001b[39m.\u001b[39;49mtimeout))\n\u001b[1;32m    976\u001b[0m     \u001b[39melse\u001b[39;00m:\n\u001b[1;32m    977\u001b[0m         \u001b[39mself\u001b[39m\u001b[39m.\u001b[39m_output\u001b[39m.\u001b[39mextend(job\u001b[39m.\u001b[39mget())\n",
      "File \u001b[0;32m~/opt/miniconda3/envs/seq/lib/python3.8/site-packages/joblib/_parallel_backends.py:567\u001b[0m, in \u001b[0;36mLokyBackend.wrap_future_result\u001b[0;34m(future, timeout)\u001b[0m\n\u001b[1;32m    564\u001b[0m \u001b[39m\"\"\"Wrapper for Future.result to implement the same behaviour as\u001b[39;00m\n\u001b[1;32m    565\u001b[0m \u001b[39mAsyncResults.get from multiprocessing.\"\"\"\u001b[39;00m\n\u001b[1;32m    566\u001b[0m \u001b[39mtry\u001b[39;00m:\n\u001b[0;32m--> 567\u001b[0m     \u001b[39mreturn\u001b[39;00m future\u001b[39m.\u001b[39;49mresult(timeout\u001b[39m=\u001b[39;49mtimeout)\n\u001b[1;32m    568\u001b[0m \u001b[39mexcept\u001b[39;00m CfTimeoutError \u001b[39mas\u001b[39;00m e:\n\u001b[1;32m    569\u001b[0m     \u001b[39mraise\u001b[39;00m \u001b[39mTimeoutError\u001b[39;00m \u001b[39mfrom\u001b[39;00m \u001b[39me\u001b[39;00m\n",
      "File \u001b[0;32m~/opt/miniconda3/envs/seq/lib/python3.8/concurrent/futures/_base.py:439\u001b[0m, in \u001b[0;36mFuture.result\u001b[0;34m(self, timeout)\u001b[0m\n\u001b[1;32m    436\u001b[0m \u001b[39melif\u001b[39;00m \u001b[39mself\u001b[39m\u001b[39m.\u001b[39m_state \u001b[39m==\u001b[39m FINISHED:\n\u001b[1;32m    437\u001b[0m     \u001b[39mreturn\u001b[39;00m \u001b[39mself\u001b[39m\u001b[39m.\u001b[39m__get_result()\n\u001b[0;32m--> 439\u001b[0m \u001b[39mself\u001b[39;49m\u001b[39m.\u001b[39;49m_condition\u001b[39m.\u001b[39;49mwait(timeout)\n\u001b[1;32m    441\u001b[0m \u001b[39mif\u001b[39;00m \u001b[39mself\u001b[39m\u001b[39m.\u001b[39m_state \u001b[39min\u001b[39;00m [CANCELLED, CANCELLED_AND_NOTIFIED]:\n\u001b[1;32m    442\u001b[0m     \u001b[39mraise\u001b[39;00m CancelledError()\n",
      "File \u001b[0;32m~/opt/miniconda3/envs/seq/lib/python3.8/threading.py:302\u001b[0m, in \u001b[0;36mCondition.wait\u001b[0;34m(self, timeout)\u001b[0m\n\u001b[1;32m    300\u001b[0m \u001b[39mtry\u001b[39;00m:    \u001b[39m# restore state no matter what (e.g., KeyboardInterrupt)\u001b[39;00m\n\u001b[1;32m    301\u001b[0m     \u001b[39mif\u001b[39;00m timeout \u001b[39mis\u001b[39;00m \u001b[39mNone\u001b[39;00m:\n\u001b[0;32m--> 302\u001b[0m         waiter\u001b[39m.\u001b[39;49macquire()\n\u001b[1;32m    303\u001b[0m         gotit \u001b[39m=\u001b[39m \u001b[39mTrue\u001b[39;00m\n\u001b[1;32m    304\u001b[0m     \u001b[39melse\u001b[39;00m:\n",
      "\u001b[0;31mKeyboardInterrupt\u001b[0m: "
     ]
    }
   ],
   "source": [
    "kmer = 4\n",
    "ds = datasets['merged'][f'normalized-{kmer}']\n",
    "\n",
    "X_train, y_train, X_test, y_test = ds['X_train'], ds['y_train'], ds['X_test'], ds['y_test']\n",
    "X = pd.concat([X_train, X_test])\n",
    "y = np.concatenate([y_train, y_test], axis=0)\n",
    "X_train, X_test, y_train, y_test = train_test_split(X, y, test_size=0.2, random_state=42)\n",
    "\n",
    "param = {\n",
    "    'n_estimators': [250, 300, 350],\n",
    "    'max_depth': [7, 8,9],\n",
    "    'min_child_weight': [1, 3],\n",
    "    'gamma': [0.6],\n",
    "    'subsample': [0.8],\n",
    "    'colsample_bytree': [0.8, 0.9],\n",
    "    'scale_pos_weight': [3]\n",
    "}\n",
    "\n",
    "xgb1 = GridSearchCV(estimator=XGBClassifier(\n",
    " learning_rate =0.1,\n",
    " n_estimators=200,\n",
    " max_depth=8,\n",
    " min_child_weight=1,\n",
    " gamma=0,\n",
    " subsample=0.8,\n",
    " colsample_bytree=0.8,\n",
    " objective= 'binary:logistic',\n",
    "#  scale_pos_weight=1,\n",
    " seed=42,\n",
    " n_jobs=-1), param_grid=param, scoring='recall', n_jobs=-1, cv=5, verbose=10)\n",
    "\n",
    "xgb1.fit(X_train, y_train)"
   ]
  },
  {
   "cell_type": "code",
   "execution_count": 21,
   "metadata": {},
   "outputs": [
    {
     "name": "stdout",
     "output_type": "stream",
     "text": [
      "[1763   43  112  218]\n"
     ]
    }
   ],
   "source": [
    "# print(xgb1.best_score_)\n",
    "print(confusion_matrix(y_test, xgb1.predict(X_test)).ravel())\n",
    "pickle.dump(xgb1, open('models/curr_models/xgb-grid-real.pkl', 'wb'))\n",
    "# print(validation_utils.cross_validate(xgb1.best_estimator_, X, y))"
   ]
  },
  {
   "cell_type": "code",
   "execution_count": 24,
   "metadata": {},
   "outputs": [
    {
     "name": "stdout",
     "output_type": "stream",
     "text": [
      "{'colsample_bytree': 0.8, 'gamma': 0.0, 'max_depth': 9, 'min_child_weight': 1, 'n_estimators': 250, 'scale_pos_weight': 3, 'subsample': 0.8}\n"
     ]
    }
   ],
   "source": [
    "print(xgb1.best_params_)"
   ]
  },
  {
   "attachments": {},
   "cell_type": "markdown",
   "metadata": {},
   "source": [
    "### Grid-Searched version of the Gradient Boosting classifier"
   ]
  },
  {
   "cell_type": "code",
   "execution_count": null,
   "metadata": {},
   "outputs": [],
   "source": [
    "ds = datasets['merged'][f'normalized-{kmer}']\n",
    "\n",
    "X_train, y_train, X_test, y_test = ds['X_train'], ds['y_train'], ds['X_test'], ds['y_test']\n",
    "\n",
    "\"\"\"\n",
    "{'n_estimators': 120, 'max_features': 2, 'max_depth': 6, 'random_state': 0, 'min_sample_split': 50, 'subsample': 0.8, 'learning_rate': 0.3}\n",
    "\"\"\"\n",
    "\n",
    "parameters={\n",
    "   'n_estimators': 120, 'max_features': 2, 'max_depth': 6, 'random_state': 42, 'min_sample_split': 50, 'subsample': 0.8, 'learning_rate': 0.3\n",
    "}\n",
    "\n",
    "param_test1 = {'n_estimators':range(100,140,10), 'learning_rate':[0.1,0.15,0.2], 'subsample':[0.8,0.85,0.9], 'max_depth':range(6,9,1), 'min_samples_split':range(10,40,10), 'max_features':range(2, 5)}\n",
    "\n",
    "gradBoost = GridSearchCV(estimator = GradientBoostingClassifier(\n",
    "    n_estimators=parameters['n_estimators'], max_features=parameters['max_features'], random_state=parameters['random_state']), \n",
    "param_grid = param_test1, scoring='roc_auc',n_jobs=-1, cv=5, verbose=10)\n",
    "\n",
    "# parameters['learning_rate']=learning_rate\n",
    "gradBoost.fit(X_train, y_train)"
   ]
  },
  {
   "attachments": {},
   "cell_type": "markdown",
   "metadata": {},
   "source": [
    "### Load available models"
   ]
  },
  {
   "cell_type": "code",
   "execution_count": 3,
   "metadata": {},
   "outputs": [
    {
     "name": "stdout",
     "output_type": "stream",
     "text": [
      "GridSearchCV(cv=5,\n",
      "             estimator=XGBClassifier(base_score=None, booster=None,\n",
      "                                     callbacks=None, colsample_bylevel=None,\n",
      "                                     colsample_bynode=None,\n",
      "                                     colsample_bytree=0.8,\n",
      "                                     early_stopping_rounds=None,\n",
      "                                     enable_categorical=False, eval_metric=None,\n",
      "                                     feature_types=None, gamma=0, gpu_id=None,\n",
      "                                     grow_policy=None, importance_type=None,\n",
      "                                     interaction_constraints=None,\n",
      "                                     learning_rate=0.1, max_b...\n",
      "                                     max_leaves=None, min_child_weight=1,\n",
      "                                     missing=nan, monotone_constraints=None,\n",
      "                                     n_estimators=200, n_jobs=-1,\n",
      "                                     num_parallel_tree=None, predictor=None,\n",
      "                                     random_state=None, ...),\n",
      "             n_jobs=-1,\n",
      "             param_grid={'colsample_bytree': [0.8, 0.9],\n",
      "                         'gamma': [0.0, 0.2, 0.4], 'max_depth': [7, 8, 9],\n",
      "                         'min_child_weight': [1, 3],\n",
      "                         'n_estimators': [200, 250, 300],\n",
      "                         'scale_pos_weight': [1, 3], 'subsample': [0.8]},\n",
      "             scoring='accuracy', verbose=10)\n",
      "{'learning_rate': 0.15, 'max_depth': 8, 'max_features': 3, 'min_samples_split': 30, 'n_estimators': 130, 'subsample': 0.8}\n",
      "GradientBoostingClassifier(learning_rate=0.15, max_depth=8, max_features=3,\n",
      "                           min_samples_split=30, n_estimators=130,\n",
      "                           random_state=0, subsample=0.8)\n",
      "MLPClassifier(hidden_layer_sizes=(256, 128, 64, 32, 16), random_state=1)\n",
      "GridSearchCV(cv=5,\n",
      "             estimator=XGBClassifier(base_score=None, booster=None,\n",
      "                                     callbacks=None, colsample_bylevel=None,\n",
      "                                     colsample_bynode=None,\n",
      "                                     colsample_bytree=0.8,\n",
      "                                     early_stopping_rounds=None,\n",
      "                                     enable_categorical=False, eval_metric=None,\n",
      "                                     feature_types=None, gamma=0, gpu_id=None,\n",
      "                                     grow_policy=None, importance_type=None,\n",
      "                                     interaction_constraints=None,\n",
      "                                     learning_rate=0.1, max_b...\n",
      "                                     max_leaves=None, min_child_weight=1,\n",
      "                                     missing=nan, monotone_constraints=None,\n",
      "                                     n_estimators=200, n_jobs=-1,\n",
      "                                     num_parallel_tree=None, predictor=None,\n",
      "                                     random_state=None, ...),\n",
      "             n_jobs=-1,\n",
      "             param_grid={'colsample_bytree': [0.8, 0.9],\n",
      "                         'gamma': [0.0, 0.2, 0.4], 'max_depth': [7, 8, 9],\n",
      "                         'min_child_weight': [1, 3],\n",
      "                         'n_estimators': [200, 250, 300],\n",
      "                         'scale_pos_weight': [1, 3], 'subsample': [0.8]},\n",
      "             scoring='accuracy', verbose=10)\n",
      "BalancedBaggingClassifier(base_estimator=KNeighborsClassifier(n_jobs=1,\n",
      "                                                              n_neighbors=1),\n",
      "                          n_jobs=1)\n",
      "StackingCVClassifier(classifiers=[MLPClassifier(hidden_layer_sizes=(256, 128,\n",
      "                                                                    64, 32),\n",
      "                                                random_state=42),\n",
      "                                  XGBClassifier(base_score=None, booster=None,\n",
      "                                                callbacks=None,\n",
      "                                                colsample_bylevel=None,\n",
      "                                                colsample_bynode=None,\n",
      "                                                colsample_bytree=0.8,\n",
      "                                                early_stopping_rounds=None,\n",
      "                                                enable_categorical=False,\n",
      "                                                eval_metric=None,\n",
      "                                                feature_types=None, gamma=0,\n",
      "                                                gpu_id=None, grow_policy=None,\n",
      "                                                i...\n",
      "                                                max_delta_step=None,\n",
      "                                                max_depth=9, max_leaves=None,\n",
      "                                                min_child_weight=1, missing=nan,\n",
      "                                                monotone_constraints=None,\n",
      "                                                n_estimators=250, n_jobs=-1,\n",
      "                                                num_parallel_tree=None,\n",
      "                                                predictor=None,\n",
      "                                                random_state=None, ...),\n",
      "                                  SVC(C=2, gamma=0.6, probability=True,\n",
      "                                      random_state=42)],\n",
      "                     cv=5,\n",
      "                     meta_classifier=LogisticRegression(C=1, random_state=42),\n",
      "                     n_jobs=-1, random_state=42, use_probas=True, verbose=1)\n"
     ]
    }
   ],
   "source": [
    "gbm = pickle.load(open('models/curr_models/nardus_gridsearch.pkl', 'rb'))\n",
    "knn = pickle.load(open('models/curr_models/knn.pkl', 'rb'))\n",
    "randforest = pickle.load(open('models/curr_models/randforest.pkl', 'rb'))\n",
    "svm = pickle.load(open('models/curr_models/svm.pkl', 'rb'))\n",
    "xgboost = pickle.load(open('models/curr_models/xgb-gridsearch.pkl', 'rb'))\n",
    "# xgboost_params = pickle.load(open('models/curr_models/xgBoost-params.pkl', 'rb'))\n",
    "\n",
    "mlp = pickle.load(open('models/curr_models/mlpClassifier.pkl', 'rb'))\n",
    "lr = pickle.load(open('models/curr_models/lrmodel.pkl', 'rb'))\n",
    "em = pickle.load(open('models/curr_models/final_merged_stackingcv.pkl', 'rb'))\n",
    "\n",
    "print(xgboost)\n",
    "print(gbm.best_params_)\n",
    "print(gbm.best_estimator_)\n",
    "print(mlp)\n",
    "print(xgboost)\n",
    "print(knn)\n",
    "print(em)"
   ]
  },
  {
   "cell_type": "code",
   "execution_count": 19,
   "metadata": {},
   "outputs": [
    {
     "name": "stdout",
     "output_type": "stream",
     "text": [
      "StackingCVClassifier\n"
     ]
    },
    {
     "name": "stderr",
     "output_type": "stream",
     "text": [
      "[Parallel(n_jobs=-1)]: Using backend LokyBackend with 10 concurrent workers.\n"
     ]
    },
    {
     "name": "stdout",
     "output_type": "stream",
     "text": [
      "[CV] START .....................................................................\n",
      "[CV] START .....................................................................\n",
      "[CV] START .....................................................................\n",
      "[CV] START .....................................................................\n",
      "[CV] START .....................................................................\n",
      "[CV] START .....................................................................\n",
      "[CV] START .....................................................................\n",
      "[CV] START .....................................................................\n",
      "[CV] START .....................................................................\n",
      "[CV] START .....................................................................\n",
      "[CV] END ................................ score: (test=0.937) total time= 5.3min\n",
      "[CV] START .....................................................................\n",
      "[CV] END ................................ score: (test=0.939) total time= 5.3min\n",
      "[CV] START .....................................................................\n"
     ]
    },
    {
     "name": "stderr",
     "output_type": "stream",
     "text": [
      "[Parallel(n_jobs=-1)]: Done   2 out of  15 | elapsed:  5.3min remaining: 34.7min\n"
     ]
    },
    {
     "name": "stdout",
     "output_type": "stream",
     "text": [
      "[CV] END ................................ score: (test=0.928) total time= 5.3min\n",
      "[CV] START .....................................................................\n",
      "[CV] END ................................ score: (test=0.937) total time= 5.3min\n"
     ]
    },
    {
     "name": "stderr",
     "output_type": "stream",
     "text": [
      "[Parallel(n_jobs=-1)]: Done   4 out of  15 | elapsed:  5.4min remaining: 14.7min\n"
     ]
    },
    {
     "name": "stdout",
     "output_type": "stream",
     "text": [
      "[CV] START .....................................................................\n",
      "[CV] END ................................ score: (test=0.932) total time= 5.4min\n",
      "[CV] START .....................................................................\n",
      "[CV] END ................................ score: (test=0.930) total time= 5.4min\n"
     ]
    },
    {
     "name": "stderr",
     "output_type": "stream",
     "text": [
      "[Parallel(n_jobs=-1)]: Done   6 out of  15 | elapsed:  5.5min remaining:  8.2min\n"
     ]
    },
    {
     "name": "stdout",
     "output_type": "stream",
     "text": [
      "[CV] END ................................ score: (test=0.930) total time= 5.5min\n",
      "[CV] END ................................ score: (test=0.934) total time= 5.6min\n"
     ]
    },
    {
     "name": "stderr",
     "output_type": "stream",
     "text": [
      "[Parallel(n_jobs=-1)]: Done   8 out of  15 | elapsed:  5.7min remaining:  5.0min\n"
     ]
    },
    {
     "name": "stdout",
     "output_type": "stream",
     "text": [
      "[CV] END ................................ score: (test=0.939) total time= 5.7min\n",
      "[CV] END ................................ score: (test=0.938) total time= 5.8min\n"
     ]
    },
    {
     "name": "stderr",
     "output_type": "stream",
     "text": [
      "[Parallel(n_jobs=-1)]: Done  10 out of  15 | elapsed:  5.8min remaining:  2.9min\n"
     ]
    },
    {
     "name": "stdout",
     "output_type": "stream",
     "text": [
      "[CV] END ................................ score: (test=0.929) total time= 3.4min\n",
      "[CV] END ................................ score: (test=0.926) total time= 3.5min\n"
     ]
    },
    {
     "name": "stderr",
     "output_type": "stream",
     "text": [
      "[Parallel(n_jobs=-1)]: Done  12 out of  15 | elapsed:  8.9min remaining:  2.2min\n"
     ]
    },
    {
     "name": "stdout",
     "output_type": "stream",
     "text": [
      "[CV] END ................................ score: (test=0.942) total time= 3.6min\n",
      "[CV] END ................................ score: (test=0.936) total time= 3.7min\n",
      "[CV] END ................................ score: (test=0.931) total time= 3.7min\n",
      "Accuracy: 0.934 (0.005)\n",
      "0.934\n"
     ]
    },
    {
     "name": "stderr",
     "output_type": "stream",
     "text": [
      "[Parallel(n_jobs=-1)]: Done  15 out of  15 | elapsed:  9.0min finished\n"
     ]
    }
   ],
   "source": [
    "# print(validation_utils.cross_validate(zhang_GBM.best_estimator_, X, y)) # 0.937\n",
    "# print(validation_utils.cross_validate(zhang_svm, X, y)) # 0.93\n",
    "# print(validation_utils.cross_validate(merged_GBM.best_estimator_, X, y)) # 0.938\n",
    "# print(validation_utils.cross_validate(zhang_xgboost, X, y)) # 0.939\n",
    "\n",
    "# print(validation_utils.cross_validate(zhang_mlp, X, y)) # 0.93\n",
    "print(validation_utils.cross_validate(em.best_estimator_, X, y, verb=10)) # 0.943 accuracy"
   ]
  },
  {
   "cell_type": "code",
   "execution_count": 13,
   "metadata": {},
   "outputs": [
    {
     "name": "stdout",
     "output_type": "stream",
     "text": [
      "SVC\n"
     ]
    },
    {
     "name": "stderr",
     "output_type": "stream",
     "text": [
      "[Parallel(n_jobs=-1)]: Using backend LokyBackend with 10 concurrent workers.\n",
      "[Parallel(n_jobs=-1)]: Done  12 out of  15 | elapsed:  1.3min remaining:   19.1s\n"
     ]
    },
    {
     "name": "stdout",
     "output_type": "stream",
     "text": [
      "Accuracy: 0.929 (0.004)\n",
      "0.929\n"
     ]
    },
    {
     "name": "stderr",
     "output_type": "stream",
     "text": [
      "[Parallel(n_jobs=-1)]: Done  15 out of  15 | elapsed:  1.3min finished\n"
     ]
    }
   ],
   "source": [
    "temp_svm = SVC(kernel='rbf', C=2, probability=True)\n",
    "\n",
    "print(validation_utils.cross_validate(temp_svm, X, y)) # 0.943 accuracy"
   ]
  },
  {
   "cell_type": "code",
   "execution_count": 20,
   "metadata": {},
   "outputs": [
    {
     "name": "stdout",
     "output_type": "stream",
     "text": [
      "SVC\n"
     ]
    },
    {
     "name": "stderr",
     "output_type": "stream",
     "text": [
      "[Parallel(n_jobs=-1)]: Using backend LokyBackend with 10 concurrent workers.\n"
     ]
    },
    {
     "name": "stdout",
     "output_type": "stream",
     "text": [
      "[CV] START .....................................................................\n",
      "[CV] START .....................................................................\n",
      "[CV] START .....................................................................\n",
      "[CV] START .....................................................................\n",
      "[CV] START .....................................................................\n",
      "[CV] START .....................................................................\n",
      "[CV] START .....................................................................\n",
      "[CV] START .....................................................................\n",
      "[CV] START .....................................................................\n",
      "[CV] START .....................................................................\n",
      "[CV] END ................................ score: (test=0.933) total time= 2.0min\n",
      "[CV] START .....................................................................\n",
      "[CV] END ................................ score: (test=0.941) total time= 2.1min\n",
      "[CV] START .....................................................................\n"
     ]
    },
    {
     "name": "stderr",
     "output_type": "stream",
     "text": [
      "[Parallel(n_jobs=-1)]: Done   2 out of  15 | elapsed:  2.2min remaining: 14.0min\n"
     ]
    },
    {
     "name": "stdout",
     "output_type": "stream",
     "text": [
      "[CV] END ................................ score: (test=0.939) total time= 2.1min\n",
      "[CV] START .....................................................................\n",
      "[CV] END ................................ score: (test=0.938) total time= 2.2min\n",
      "[CV] START .....................................................................\n"
     ]
    },
    {
     "name": "stderr",
     "output_type": "stream",
     "text": [
      "[Parallel(n_jobs=-1)]: Done   4 out of  15 | elapsed:  2.3min remaining:  6.2min\n"
     ]
    },
    {
     "name": "stdout",
     "output_type": "stream",
     "text": [
      "[CV] END ................................ score: (test=0.937) total time= 2.3min\n",
      "[CV] START .....................................................................\n",
      "[CV] END ................................ score: (test=0.943) total time= 2.3min\n"
     ]
    },
    {
     "name": "stderr",
     "output_type": "stream",
     "text": [
      "[Parallel(n_jobs=-1)]: Done   6 out of  15 | elapsed:  2.3min remaining:  3.4min\n"
     ]
    },
    {
     "name": "stdout",
     "output_type": "stream",
     "text": [
      "[CV] END ................................ score: (test=0.944) total time= 2.3min\n",
      "[CV] END ................................ score: (test=0.944) total time= 2.3min\n"
     ]
    },
    {
     "name": "stderr",
     "output_type": "stream",
     "text": [
      "[Parallel(n_jobs=-1)]: Done   8 out of  15 | elapsed:  2.3min remaining:  2.1min\n"
     ]
    },
    {
     "name": "stdout",
     "output_type": "stream",
     "text": [
      "[CV] END ................................ score: (test=0.937) total time= 2.4min\n",
      "[CV] END ................................ score: (test=0.944) total time= 2.4min\n"
     ]
    },
    {
     "name": "stderr",
     "output_type": "stream",
     "text": [
      "[Parallel(n_jobs=-1)]: Done  10 out of  15 | elapsed:  2.5min remaining:  1.2min\n"
     ]
    },
    {
     "name": "stdout",
     "output_type": "stream",
     "text": [
      "[CV] END ................................ score: (test=0.944) total time= 1.5min\n",
      "[CV] END ................................ score: (test=0.932) total time= 1.5min\n"
     ]
    },
    {
     "name": "stderr",
     "output_type": "stream",
     "text": [
      "[Parallel(n_jobs=-1)]: Done  12 out of  15 | elapsed:  3.7min remaining:   55.3s\n"
     ]
    },
    {
     "name": "stdout",
     "output_type": "stream",
     "text": [
      "[CV] END ................................ score: (test=0.934) total time= 1.5min\n",
      "[CV] END ................................ score: (test=0.947) total time= 1.5min\n",
      "[CV] END ................................ score: (test=0.936) total time= 1.5min\n",
      "Accuracy: 0.940 (0.004)\n",
      "0.94\n"
     ]
    },
    {
     "name": "stderr",
     "output_type": "stream",
     "text": [
      "[Parallel(n_jobs=-1)]: Done  15 out of  15 | elapsed:  3.8min finished\n"
     ]
    }
   ],
   "source": [
    "svm_real = SVC(kernel='rbf', C=2,gamma=0.6, probability=True)\n",
    "print(validation_utils.cross_validate(svm_real, X, y, verb=10))"
   ]
  },
  {
   "cell_type": "code",
   "execution_count": 18,
   "metadata": {},
   "outputs": [
    {
     "ename": "AttributeError",
     "evalue": "'GridSearchCV' object has no attribute 'best_estimator_'",
     "output_type": "error",
     "traceback": [
      "\u001b[0;31m---------------------------------------------------------------------------\u001b[0m",
      "\u001b[0;31mAttributeError\u001b[0m                            Traceback (most recent call last)",
      "\u001b[1;32m/Users/benjaminli/Documents/coding/scires/project/train_and_vis/models.ipynb Cell 26\u001b[0m in \u001b[0;36m<cell line: 1>\u001b[0;34m()\u001b[0m\n\u001b[0;32m----> <a href='vscode-notebook-cell:/Users/benjaminli/Documents/coding/scires/project/train_and_vis/models.ipynb#Y126sZmlsZQ%3D%3D?line=0'>1</a>\u001b[0m \u001b[39mprint\u001b[39m(temp_svm\u001b[39m.\u001b[39;49mbest_estimator_)\n",
      "\u001b[0;31mAttributeError\u001b[0m: 'GridSearchCV' object has no attribute 'best_estimator_'"
     ]
    }
   ],
   "source": [
    "# print(temp_svm.best_estimator_)"
   ]
  },
  {
   "cell_type": "code",
   "execution_count": 65,
   "metadata": {},
   "outputs": [
    {
     "name": "stdout",
     "output_type": "stream",
     "text": [
      "GradientBoostingClassifier\n",
      "gradboost\n"
     ]
    },
    {
     "name": "stderr",
     "output_type": "stream",
     "text": [
      "[Parallel(n_jobs=-1)]: Using backend LokyBackend with 10 concurrent workers.\n"
     ]
    },
    {
     "name": "stdout",
     "output_type": "stream",
     "text": [
      "Accuracy: 0.939 (0.005)\n",
      "0.939\n"
     ]
    },
    {
     "name": "stderr",
     "output_type": "stream",
     "text": [
      "[Parallel(n_jobs=-1)]: Done  30 out of  30 | elapsed:    9.1s finished\n"
     ]
    }
   ],
   "source": [
    "# # TODO: use gridsearch to find best SVM later for comparison\n",
    "\n",
    "# kmer = 4\n",
    "\n",
    "# ds = datasets['nardus'][f'normalized-{kmer}']\n",
    "\n",
    "# X_train, y_train, X_test, y_test = ds['X_train'], ds['y_train'], ds['X_test'], ds['y_test']\n",
    "\n",
    "# X = pd.concat([X_train, X_test])\n",
    "# y = np.concatenate([ds['y_train'], ds['y_test']], axis=0)\n",
    "\n",
    "# X_train, X_test, y_train, y_test = train_test_split(X, y, test_size=0.2, random_state=42)\n",
    "\n",
    "# temp_GBM = GradientBoostingClassifier(learning_rate=0.2, max_depth=9, max_features=2,\n",
    "#                            min_samples_split=25, n_estimators=130,\n",
    "#                            random_state=42, subsample=0.85)\n",
    "# temp_GBM.fit(X_train, y_train)\n",
    "\n",
    "# # assess on merged\n",
    "# ds = datasets['merged'][f'normalized-{kmer}']\n",
    "\n",
    "# X_train, y_train, X_test, y_test = ds['X_train'], ds['y_train'], ds['X_test'], ds['y_test']\n",
    "\n",
    "# X = pd.concat([X_train, X_test])\n",
    "# y = np.concatenate([ds['y_train'], ds['y_test']], axis=0)\n",
    "\n",
    "# print(validation_utils.cross_validate(temp_GBM, X, y))\n"
   ]
  },
  {
   "cell_type": "code",
   "execution_count": 4,
   "metadata": {},
   "outputs": [],
   "source": [
    "pickle.dump(temp_svm, open('models/curr_models/svm.pkl', 'wb'))"
   ]
  },
  {
   "cell_type": "code",
   "execution_count": 66,
   "metadata": {},
   "outputs": [
    {
     "name": "stdout",
     "output_type": "stream",
     "text": [
      "[[(80, 80, 80, 80, 80), (80, 80, 80, 80, 100), (80, 80, 80, 80, 120), (80, 80, 80, 80, 140), (80, 80, 80, 80, 160), (80, 80, 80, 80, 180), (80, 80, 80, 80, 200), (80, 80, 80, 100, 100), (80, 80, 80, 100, 120), (80, 80, 80, 100, 140), (80, 80, 80, 100, 160), (80, 80, 80, 100, 180), (80, 80, 80, 100, 200), (80, 80, 80, 120, 120), (80, 80, 80, 120, 140), (80, 80, 80, 120, 160), (80, 80, 80, 120, 180), (80, 80, 80, 120, 200), (80, 80, 80, 140, 140), (80, 80, 80, 140, 160), (80, 80, 80, 140, 180), (80, 80, 80, 140, 200), (80, 80, 80, 160, 160), (80, 80, 80, 160, 180), (80, 80, 80, 160, 200), (80, 80, 80, 180, 180), (80, 80, 80, 180, 200), (80, 80, 80, 200, 200), (80, 80, 100, 100, 100), (80, 80, 100, 100, 120), (80, 80, 100, 100, 140), (80, 80, 100, 100, 160), (80, 80, 100, 100, 180), (80, 80, 100, 100, 200), (80, 80, 100, 120, 120), (80, 80, 100, 120, 140), (80, 80, 100, 120, 160), (80, 80, 100, 120, 180), (80, 80, 100, 120, 200), (80, 80, 100, 140, 140), (80, 80, 100, 140, 160), (80, 80, 100, 140, 180), (80, 80, 100, 140, 200), (80, 80, 100, 160, 160), (80, 80, 100, 160, 180), (80, 80, 100, 160, 200), (80, 80, 100, 180, 180), (80, 80, 100, 180, 200), (80, 80, 100, 200, 200), (80, 80, 120, 120, 120), (80, 80, 120, 120, 140), (80, 80, 120, 120, 160), (80, 80, 120, 120, 180), (80, 80, 120, 120, 200), (80, 80, 120, 140, 140), (80, 80, 120, 140, 160), (80, 80, 120, 140, 180), (80, 80, 120, 140, 200), (80, 80, 120, 160, 160), (80, 80, 120, 160, 180), (80, 80, 120, 160, 200), (80, 80, 120, 180, 180), (80, 80, 120, 180, 200), (80, 80, 120, 200, 200), (80, 80, 140, 140, 140), (80, 80, 140, 140, 160), (80, 80, 140, 140, 180), (80, 80, 140, 140, 200), (80, 80, 140, 160, 160), (80, 80, 140, 160, 180), (80, 80, 140, 160, 200), (80, 80, 140, 180, 180), (80, 80, 140, 180, 200), (80, 80, 140, 200, 200), (80, 80, 160, 160, 160), (80, 80, 160, 160, 180), (80, 80, 160, 160, 200), (80, 80, 160, 180, 180), (80, 80, 160, 180, 200), (80, 80, 160, 200, 200), (80, 80, 180, 180, 180), (80, 80, 180, 180, 200), (80, 80, 180, 200, 200), (80, 80, 200, 200, 200), (80, 100, 100, 100, 100), (80, 100, 100, 100, 120), (80, 100, 100, 100, 140), (80, 100, 100, 100, 160), (80, 100, 100, 100, 180), (80, 100, 100, 100, 200), (80, 100, 100, 120, 120), (80, 100, 100, 120, 140), (80, 100, 100, 120, 160), (80, 100, 100, 120, 180), (80, 100, 100, 120, 200), (80, 100, 100, 140, 140), (80, 100, 100, 140, 160), (80, 100, 100, 140, 180), (80, 100, 100, 140, 200), (80, 100, 100, 160, 160), (80, 100, 100, 160, 180), (80, 100, 100, 160, 200), (80, 100, 100, 180, 180), (80, 100, 100, 180, 200), (80, 100, 100, 200, 200), (80, 100, 120, 120, 120), (80, 100, 120, 120, 140), (80, 100, 120, 120, 160), (80, 100, 120, 120, 180), (80, 100, 120, 120, 200), (80, 100, 120, 140, 140), (80, 100, 120, 140, 160), (80, 100, 120, 140, 180), (80, 100, 120, 140, 200), (80, 100, 120, 160, 160), (80, 100, 120, 160, 180), (80, 100, 120, 160, 200), (80, 100, 120, 180, 180), (80, 100, 120, 180, 200), (80, 100, 120, 200, 200), (80, 100, 140, 140, 140), (80, 100, 140, 140, 160), (80, 100, 140, 140, 180), (80, 100, 140, 140, 200), (80, 100, 140, 160, 160), (80, 100, 140, 160, 180), (80, 100, 140, 160, 200), (80, 100, 140, 180, 180), (80, 100, 140, 180, 200), (80, 100, 140, 200, 200), (80, 100, 160, 160, 160), (80, 100, 160, 160, 180), (80, 100, 160, 160, 200), (80, 100, 160, 180, 180), (80, 100, 160, 180, 200), (80, 100, 160, 200, 200), (80, 100, 180, 180, 180), (80, 100, 180, 180, 200), (80, 100, 180, 200, 200), (80, 100, 200, 200, 200), (80, 120, 120, 120, 120), (80, 120, 120, 120, 140), (80, 120, 120, 120, 160), (80, 120, 120, 120, 180), (80, 120, 120, 120, 200), (80, 120, 120, 140, 140), (80, 120, 120, 140, 160), (80, 120, 120, 140, 180), (80, 120, 120, 140, 200), (80, 120, 120, 160, 160), (80, 120, 120, 160, 180), (80, 120, 120, 160, 200), (80, 120, 120, 180, 180), (80, 120, 120, 180, 200), (80, 120, 120, 200, 200), (80, 120, 140, 140, 140), (80, 120, 140, 140, 160), (80, 120, 140, 140, 180), (80, 120, 140, 140, 200), (80, 120, 140, 160, 160), (80, 120, 140, 160, 180), (80, 120, 140, 160, 200), (80, 120, 140, 180, 180), (80, 120, 140, 180, 200), (80, 120, 140, 200, 200), (80, 120, 160, 160, 160), (80, 120, 160, 160, 180), (80, 120, 160, 160, 200), (80, 120, 160, 180, 180), (80, 120, 160, 180, 200), (80, 120, 160, 200, 200), (80, 120, 180, 180, 180), (80, 120, 180, 180, 200), (80, 120, 180, 200, 200), (80, 120, 200, 200, 200), (80, 140, 140, 140, 140), (80, 140, 140, 140, 160), (80, 140, 140, 140, 180), (80, 140, 140, 140, 200), (80, 140, 140, 160, 160), (80, 140, 140, 160, 180), (80, 140, 140, 160, 200), (80, 140, 140, 180, 180), (80, 140, 140, 180, 200), (80, 140, 140, 200, 200), (80, 140, 160, 160, 160), (80, 140, 160, 160, 180), (80, 140, 160, 160, 200), (80, 140, 160, 180, 180), (80, 140, 160, 180, 200), (80, 140, 160, 200, 200), (80, 140, 180, 180, 180), (80, 140, 180, 180, 200), (80, 140, 180, 200, 200), (80, 140, 200, 200, 200), (80, 160, 160, 160, 160), (80, 160, 160, 160, 180), (80, 160, 160, 160, 200), (80, 160, 160, 180, 180), (80, 160, 160, 180, 200), (80, 160, 160, 200, 200), (80, 160, 180, 180, 180), (80, 160, 180, 180, 200), (80, 160, 180, 200, 200), (80, 160, 200, 200, 200), (80, 180, 180, 180, 180), (80, 180, 180, 180, 200), (80, 180, 180, 200, 200), (80, 180, 200, 200, 200), (80, 200, 200, 200, 200), (100, 100, 100, 100, 100), (100, 100, 100, 100, 120), (100, 100, 100, 100, 140), (100, 100, 100, 100, 160), (100, 100, 100, 100, 180), (100, 100, 100, 100, 200), (100, 100, 100, 120, 120), (100, 100, 100, 120, 140), (100, 100, 100, 120, 160), (100, 100, 100, 120, 180), (100, 100, 100, 120, 200), (100, 100, 100, 140, 140), (100, 100, 100, 140, 160), (100, 100, 100, 140, 180), (100, 100, 100, 140, 200), (100, 100, 100, 160, 160), (100, 100, 100, 160, 180), (100, 100, 100, 160, 200), (100, 100, 100, 180, 180), (100, 100, 100, 180, 200), (100, 100, 100, 200, 200), (100, 100, 120, 120, 120), (100, 100, 120, 120, 140), (100, 100, 120, 120, 160), (100, 100, 120, 120, 180), (100, 100, 120, 120, 200), (100, 100, 120, 140, 140), (100, 100, 120, 140, 160), (100, 100, 120, 140, 180), (100, 100, 120, 140, 200), (100, 100, 120, 160, 160), (100, 100, 120, 160, 180), (100, 100, 120, 160, 200), (100, 100, 120, 180, 180), (100, 100, 120, 180, 200), (100, 100, 120, 200, 200), (100, 100, 140, 140, 140), (100, 100, 140, 140, 160), (100, 100, 140, 140, 180), (100, 100, 140, 140, 200), (100, 100, 140, 160, 160), (100, 100, 140, 160, 180), (100, 100, 140, 160, 200), (100, 100, 140, 180, 180), (100, 100, 140, 180, 200), (100, 100, 140, 200, 200), (100, 100, 160, 160, 160), (100, 100, 160, 160, 180), (100, 100, 160, 160, 200), (100, 100, 160, 180, 180), (100, 100, 160, 180, 200), (100, 100, 160, 200, 200), (100, 100, 180, 180, 180), (100, 100, 180, 180, 200), (100, 100, 180, 200, 200), (100, 100, 200, 200, 200), (100, 120, 120, 120, 120), (100, 120, 120, 120, 140), (100, 120, 120, 120, 160), (100, 120, 120, 120, 180), (100, 120, 120, 120, 200), (100, 120, 120, 140, 140), (100, 120, 120, 140, 160), (100, 120, 120, 140, 180), (100, 120, 120, 140, 200), (100, 120, 120, 160, 160), (100, 120, 120, 160, 180), (100, 120, 120, 160, 200), (100, 120, 120, 180, 180), (100, 120, 120, 180, 200), (100, 120, 120, 200, 200), (100, 120, 140, 140, 140), (100, 120, 140, 140, 160), (100, 120, 140, 140, 180), (100, 120, 140, 140, 200), (100, 120, 140, 160, 160), (100, 120, 140, 160, 180), (100, 120, 140, 160, 200), (100, 120, 140, 180, 180), (100, 120, 140, 180, 200), (100, 120, 140, 200, 200), (100, 120, 160, 160, 160), (100, 120, 160, 160, 180), (100, 120, 160, 160, 200), (100, 120, 160, 180, 180), (100, 120, 160, 180, 200), (100, 120, 160, 200, 200), (100, 120, 180, 180, 180), (100, 120, 180, 180, 200), (100, 120, 180, 200, 200), (100, 120, 200, 200, 200), (100, 140, 140, 140, 140), (100, 140, 140, 140, 160), (100, 140, 140, 140, 180), (100, 140, 140, 140, 200), (100, 140, 140, 160, 160), (100, 140, 140, 160, 180), (100, 140, 140, 160, 200), (100, 140, 140, 180, 180), (100, 140, 140, 180, 200), (100, 140, 140, 200, 200), (100, 140, 160, 160, 160), (100, 140, 160, 160, 180), (100, 140, 160, 160, 200), (100, 140, 160, 180, 180), (100, 140, 160, 180, 200), (100, 140, 160, 200, 200), (100, 140, 180, 180, 180), (100, 140, 180, 180, 200), (100, 140, 180, 200, 200), (100, 140, 200, 200, 200), (100, 160, 160, 160, 160), (100, 160, 160, 160, 180), (100, 160, 160, 160, 200), (100, 160, 160, 180, 180), (100, 160, 160, 180, 200), (100, 160, 160, 200, 200), (100, 160, 180, 180, 180), (100, 160, 180, 180, 200), (100, 160, 180, 200, 200), (100, 160, 200, 200, 200), (100, 180, 180, 180, 180), (100, 180, 180, 180, 200), (100, 180, 180, 200, 200), (100, 180, 200, 200, 200), (100, 200, 200, 200, 200), (120, 120, 120, 120, 120), (120, 120, 120, 120, 140), (120, 120, 120, 120, 160), (120, 120, 120, 120, 180), (120, 120, 120, 120, 200), (120, 120, 120, 140, 140), (120, 120, 120, 140, 160), (120, 120, 120, 140, 180), (120, 120, 120, 140, 200), (120, 120, 120, 160, 160), (120, 120, 120, 160, 180), (120, 120, 120, 160, 200), (120, 120, 120, 180, 180), (120, 120, 120, 180, 200), (120, 120, 120, 200, 200), (120, 120, 140, 140, 140), (120, 120, 140, 140, 160), (120, 120, 140, 140, 180), (120, 120, 140, 140, 200), (120, 120, 140, 160, 160), (120, 120, 140, 160, 180), (120, 120, 140, 160, 200), (120, 120, 140, 180, 180), (120, 120, 140, 180, 200), (120, 120, 140, 200, 200), (120, 120, 160, 160, 160), (120, 120, 160, 160, 180), (120, 120, 160, 160, 200), (120, 120, 160, 180, 180), (120, 120, 160, 180, 200), (120, 120, 160, 200, 200), (120, 120, 180, 180, 180), (120, 120, 180, 180, 200), (120, 120, 180, 200, 200), (120, 120, 200, 200, 200), (120, 140, 140, 140, 140), (120, 140, 140, 140, 160), (120, 140, 140, 140, 180), (120, 140, 140, 140, 200), (120, 140, 140, 160, 160), (120, 140, 140, 160, 180), (120, 140, 140, 160, 200), (120, 140, 140, 180, 180), (120, 140, 140, 180, 200), (120, 140, 140, 200, 200), (120, 140, 160, 160, 160), (120, 140, 160, 160, 180), (120, 140, 160, 160, 200), (120, 140, 160, 180, 180), (120, 140, 160, 180, 200), (120, 140, 160, 200, 200), (120, 140, 180, 180, 180), (120, 140, 180, 180, 200), (120, 140, 180, 200, 200), (120, 140, 200, 200, 200), (120, 160, 160, 160, 160), (120, 160, 160, 160, 180), (120, 160, 160, 160, 200), (120, 160, 160, 180, 180), (120, 160, 160, 180, 200), (120, 160, 160, 200, 200), (120, 160, 180, 180, 180), (120, 160, 180, 180, 200), (120, 160, 180, 200, 200), (120, 160, 200, 200, 200), (120, 180, 180, 180, 180), (120, 180, 180, 180, 200), (120, 180, 180, 200, 200), (120, 180, 200, 200, 200), (120, 200, 200, 200, 200), (140, 140, 140, 140, 140), (140, 140, 140, 140, 160), (140, 140, 140, 140, 180), (140, 140, 140, 140, 200), (140, 140, 140, 160, 160), (140, 140, 140, 160, 180), (140, 140, 140, 160, 200), (140, 140, 140, 180, 180), (140, 140, 140, 180, 200), (140, 140, 140, 200, 200), (140, 140, 160, 160, 160), (140, 140, 160, 160, 180), (140, 140, 160, 160, 200), (140, 140, 160, 180, 180), (140, 140, 160, 180, 200), (140, 140, 160, 200, 200), (140, 140, 180, 180, 180), (140, 140, 180, 180, 200), (140, 140, 180, 200, 200), (140, 140, 200, 200, 200), (140, 160, 160, 160, 160), (140, 160, 160, 160, 180), (140, 160, 160, 160, 200), (140, 160, 160, 180, 180), (140, 160, 160, 180, 200), (140, 160, 160, 200, 200), (140, 160, 180, 180, 180), (140, 160, 180, 180, 200), (140, 160, 180, 200, 200), (140, 160, 200, 200, 200), (140, 180, 180, 180, 180), (140, 180, 180, 180, 200), (140, 180, 180, 200, 200), (140, 180, 200, 200, 200), (140, 200, 200, 200, 200), (160, 160, 160, 160, 160), (160, 160, 160, 160, 180), (160, 160, 160, 160, 200), (160, 160, 160, 180, 180), (160, 160, 160, 180, 200), (160, 160, 160, 200, 200), (160, 160, 180, 180, 180), (160, 160, 180, 180, 200), (160, 160, 180, 200, 200), (160, 160, 200, 200, 200), (160, 180, 180, 180, 180), (160, 180, 180, 180, 200), (160, 180, 180, 200, 200), (160, 180, 200, 200, 200), (160, 200, 200, 200, 200), (180, 180, 180, 180, 180), (180, 180, 180, 180, 200), (180, 180, 180, 200, 200), (180, 180, 200, 200, 200), (180, 200, 200, 200, 200), (200, 200, 200, 200, 200)]]\n",
      "Fitting 5 folds for each of 1386 candidates, totalling 6930 fits\n",
      "[CV 5/5; 2/1386] START activation=relu, alpha=0.05, hidden_layer_sizes=(80, 80, 80, 80, 100)\n",
      "[CV 1/5; 2/1386] START activation=relu, alpha=0.05, hidden_layer_sizes=(80, 80, 80, 80, 100)\n",
      "[CV 5/5; 1/1386] START activation=relu, alpha=0.05, hidden_layer_sizes=(80, 80, 80, 80, 80)\n",
      "[CV 2/5; 1/1386] START activation=relu, alpha=0.05, hidden_layer_sizes=(80, 80, 80, 80, 80)\n",
      "[CV 4/5; 1/1386] START activation=relu, alpha=0.05, hidden_layer_sizes=(80, 80, 80, 80, 80)\n",
      "[CV 3/5; 1/1386] START activation=relu, alpha=0.05, hidden_layer_sizes=(80, 80, 80, 80, 80)\n",
      "[CV 4/5; 2/1386] START activation=relu, alpha=0.05, hidden_layer_sizes=(80, 80, 80, 80, 100)\n",
      "[CV 3/5; 2/1386] START activation=relu, alpha=0.05, hidden_layer_sizes=(80, 80, 80, 80, 100)\n",
      "[CV 2/5; 2/1386] START activation=relu, alpha=0.05, hidden_layer_sizes=(80, 80, 80, 80, 100)\n",
      "[CV 1/5; 1/1386] START activation=relu, alpha=0.05, hidden_layer_sizes=(80, 80, 80, 80, 80)\n",
      "[CV 5/5; 2/1386] END activation=relu, alpha=0.05, hidden_layer_sizes=(80, 80, 80, 80, 100);, score=0.695 total time=  10.3s\n",
      "[CV 1/5; 3/1386] START activation=relu, alpha=0.05, hidden_layer_sizes=(80, 80, 80, 80, 120)\n",
      "[CV 4/5; 2/1386] END activation=relu, alpha=0.05, hidden_layer_sizes=(80, 80, 80, 80, 100);, score=0.610 total time=  11.8s\n",
      "[CV 2/5; 3/1386] START activation=relu, alpha=0.05, hidden_layer_sizes=(80, 80, 80, 80, 120)\n",
      "[CV 2/5; 1/1386] END activation=relu, alpha=0.05, hidden_layer_sizes=(80, 80, 80, 80, 80);, score=0.606 total time=  12.3s\n",
      "[CV 3/5; 3/1386] START activation=relu, alpha=0.05, hidden_layer_sizes=(80, 80, 80, 80, 120)\n",
      "[CV 3/5; 2/1386] END activation=relu, alpha=0.05, hidden_layer_sizes=(80, 80, 80, 80, 100);, score=0.723 total time=  12.7s\n",
      "[CV 5/5; 1/1386] END activation=relu, alpha=0.05, hidden_layer_sizes=(80, 80, 80, 80, 80);, score=0.635 total time=  12.7s\n",
      "[CV 4/5; 3/1386] START activation=relu, alpha=0.05, hidden_layer_sizes=(80, 80, 80, 80, 120)\n",
      "[CV 5/5; 3/1386] START activation=relu, alpha=0.05, hidden_layer_sizes=(80, 80, 80, 80, 120)\n",
      "[CV 4/5; 1/1386] END activation=relu, alpha=0.05, hidden_layer_sizes=(80, 80, 80, 80, 80);, score=0.659 total time=  13.0s\n",
      "[CV 2/5; 2/1386] END activation=relu, alpha=0.05, hidden_layer_sizes=(80, 80, 80, 80, 100);, score=0.783 total time=  13.0s\n",
      "[CV 1/5; 4/1386] START activation=relu, alpha=0.05, hidden_layer_sizes=(80, 80, 80, 80, 140)\n",
      "[CV 2/5; 4/1386] START activation=relu, alpha=0.05, hidden_layer_sizes=(80, 80, 80, 80, 140)\n",
      "[CV 1/5; 2/1386] END activation=relu, alpha=0.05, hidden_layer_sizes=(80, 80, 80, 80, 100);, score=0.704 total time=  13.3s\n",
      "[CV 3/5; 4/1386] START activation=relu, alpha=0.05, hidden_layer_sizes=(80, 80, 80, 80, 140)\n",
      "[CV 3/5; 1/1386] END activation=relu, alpha=0.05, hidden_layer_sizes=(80, 80, 80, 80, 80);, score=0.695 total time=  15.1s\n",
      "[CV 4/5; 4/1386] START activation=relu, alpha=0.05, hidden_layer_sizes=(80, 80, 80, 80, 140)\n",
      "[CV 1/5; 1/1386] END activation=relu, alpha=0.05, hidden_layer_sizes=(80, 80, 80, 80, 80);, score=0.716 total time=  17.6s\n",
      "[CV 5/5; 4/1386] START activation=relu, alpha=0.05, hidden_layer_sizes=(80, 80, 80, 80, 140)\n",
      "[CV 1/5; 3/1386] END activation=relu, alpha=0.05, hidden_layer_sizes=(80, 80, 80, 80, 120);, score=0.692 total time=  10.6s\n",
      "[CV 1/5; 5/1386] START activation=relu, alpha=0.05, hidden_layer_sizes=(80, 80, 80, 80, 160)\n",
      "[CV 5/5; 3/1386] END activation=relu, alpha=0.05, hidden_layer_sizes=(80, 80, 80, 80, 120);, score=0.618 total time=  12.1s\n",
      "[CV 2/5; 5/1386] START activation=relu, alpha=0.05, hidden_layer_sizes=(80, 80, 80, 80, 160)\n",
      "[CV 4/5; 3/1386] END activation=relu, alpha=0.05, hidden_layer_sizes=(80, 80, 80, 80, 120);, score=0.723 total time=  14.5s\n",
      "[CV 3/5; 5/1386] START activation=relu, alpha=0.05, hidden_layer_sizes=(80, 80, 80, 80, 160)\n",
      "[CV 3/5; 3/1386] END activation=relu, alpha=0.05, hidden_layer_sizes=(80, 80, 80, 80, 120);, score=0.735 total time=  15.0s\n",
      "[CV 4/5; 5/1386] START activation=relu, alpha=0.05, hidden_layer_sizes=(80, 80, 80, 80, 160)\n",
      "[CV 2/5; 4/1386] END activation=relu, alpha=0.05, hidden_layer_sizes=(80, 80, 80, 80, 140);, score=0.707 total time=  14.3s\n",
      "[CV 5/5; 5/1386] START activation=relu, alpha=0.05, hidden_layer_sizes=(80, 80, 80, 80, 160)\n",
      "[CV 2/5; 3/1386] END activation=relu, alpha=0.05, hidden_layer_sizes=(80, 80, 80, 80, 120);, score=0.739 total time=  15.4s\n",
      "[CV 1/5; 6/1386] START activation=relu, alpha=0.05, hidden_layer_sizes=(80, 80, 80, 80, 180)\n",
      "[CV 3/5; 4/1386] END activation=relu, alpha=0.05, hidden_layer_sizes=(80, 80, 80, 80, 140);, score=0.683 total time=  14.5s\n",
      "[CV 2/5; 6/1386] START activation=relu, alpha=0.05, hidden_layer_sizes=(80, 80, 80, 80, 180)\n",
      "[CV 1/5; 5/1386] END activation=relu, alpha=0.05, hidden_layer_sizes=(80, 80, 80, 80, 160);, score=0.656 total time=  10.9s\n",
      "[CV 3/5; 6/1386] START activation=relu, alpha=0.05, hidden_layer_sizes=(80, 80, 80, 80, 180)\n",
      "[CV 4/5; 4/1386] END activation=relu, alpha=0.05, hidden_layer_sizes=(80, 80, 80, 80, 140);, score=0.602 total time=  17.8s\n",
      "[CV 4/5; 6/1386] START activation=relu, alpha=0.05, hidden_layer_sizes=(80, 80, 80, 80, 180)\n",
      "[CV 5/5; 4/1386] END activation=relu, alpha=0.05, hidden_layer_sizes=(80, 80, 80, 80, 140);, score=0.651 total time=  15.9s\n",
      "[CV 5/5; 6/1386] START activation=relu, alpha=0.05, hidden_layer_sizes=(80, 80, 80, 80, 180)\n",
      "[CV 1/5; 4/1386] END activation=relu, alpha=0.05, hidden_layer_sizes=(80, 80, 80, 80, 140);, score=0.712 total time=  21.4s\n",
      "[CV 1/5; 7/1386] START activation=relu, alpha=0.05, hidden_layer_sizes=(80, 80, 80, 80, 200)\n",
      "[CV 2/5; 6/1386] END activation=relu, alpha=0.05, hidden_layer_sizes=(80, 80, 80, 80, 180);, score=0.779 total time=   9.5s\n",
      "[CV 2/5; 7/1386] START activation=relu, alpha=0.05, hidden_layer_sizes=(80, 80, 80, 80, 200)\n",
      "[CV 5/5; 5/1386] END activation=relu, alpha=0.05, hidden_layer_sizes=(80, 80, 80, 80, 160);, score=0.606 total time=  10.7s\n",
      "[CV 3/5; 7/1386] START activation=relu, alpha=0.05, hidden_layer_sizes=(80, 80, 80, 80, 200)\n",
      "[CV 4/5; 5/1386] END activation=relu, alpha=0.05, hidden_layer_sizes=(80, 80, 80, 80, 160);, score=0.655 total time=  14.2s\n",
      "[CV 4/5; 7/1386] START activation=relu, alpha=0.05, hidden_layer_sizes=(80, 80, 80, 80, 200)\n",
      "[CV 1/5; 6/1386] END activation=relu, alpha=0.05, hidden_layer_sizes=(80, 80, 80, 80, 180);, score=0.688 total time=  14.3s\n",
      "[CV 5/5; 7/1386] START activation=relu, alpha=0.05, hidden_layer_sizes=(80, 80, 80, 80, 200)\n",
      "[CV 3/5; 6/1386] END activation=relu, alpha=0.05, hidden_layer_sizes=(80, 80, 80, 80, 180);, score=0.639 total time=  11.5s\n",
      "[CV 1/5; 8/1386] START activation=relu, alpha=0.05, hidden_layer_sizes=(80, 80, 80, 100, 100)\n",
      "[CV 2/5; 5/1386] END activation=relu, alpha=0.05, hidden_layer_sizes=(80, 80, 80, 80, 160);, score=0.775 total time=  19.0s\n",
      "[CV 2/5; 8/1386] START activation=relu, alpha=0.05, hidden_layer_sizes=(80, 80, 80, 100, 100)\n",
      "[CV 3/5; 5/1386] END activation=relu, alpha=0.05, hidden_layer_sizes=(80, 80, 80, 80, 160);, score=0.795 total time=  19.6s\n",
      "[CV 3/5; 8/1386] START activation=relu, alpha=0.05, hidden_layer_sizes=(80, 80, 80, 100, 100)\n",
      "[CV 2/5; 7/1386] END activation=relu, alpha=0.05, hidden_layer_sizes=(80, 80, 80, 80, 200);, score=0.735 total time=  10.7s\n",
      "[CV 4/5; 8/1386] START activation=relu, alpha=0.05, hidden_layer_sizes=(80, 80, 80, 100, 100)\n",
      "[CV 4/5; 6/1386] END activation=relu, alpha=0.05, hidden_layer_sizes=(80, 80, 80, 80, 180);, score=0.530 total time=  16.0s\n",
      "[CV 5/5; 8/1386] START activation=relu, alpha=0.05, hidden_layer_sizes=(80, 80, 80, 100, 100)\n",
      "[CV 1/5; 7/1386] END activation=relu, alpha=0.05, hidden_layer_sizes=(80, 80, 80, 80, 200);, score=0.712 total time=  16.9s\n",
      "[CV 1/5; 9/1386] START activation=relu, alpha=0.05, hidden_layer_sizes=(80, 80, 80, 100, 120)\n",
      "[CV 5/5; 7/1386] END activation=relu, alpha=0.05, hidden_layer_sizes=(80, 80, 80, 80, 200);, score=0.703 total time=  11.3s\n",
      "[CV 2/5; 9/1386] START activation=relu, alpha=0.05, hidden_layer_sizes=(80, 80, 80, 100, 120)\n",
      "[CV 2/5; 8/1386] END activation=relu, alpha=0.05, hidden_layer_sizes=(80, 80, 80, 100, 100);, score=0.703 total time=  12.2s\n",
      "[CV 3/5; 9/1386] START activation=relu, alpha=0.05, hidden_layer_sizes=(80, 80, 80, 100, 120)\n",
      "[CV 1/5; 8/1386] END activation=relu, alpha=0.05, hidden_layer_sizes=(80, 80, 80, 100, 100);, score=0.796 total time=  12.7s\n",
      "[CV 4/5; 9/1386] START activation=relu, alpha=0.05, hidden_layer_sizes=(80, 80, 80, 100, 120)\n",
      "[CV 5/5; 6/1386] END activation=relu, alpha=0.05, hidden_layer_sizes=(80, 80, 80, 80, 180);, score=0.683 total time=  23.7s\n",
      "[CV 5/5; 9/1386] START activation=relu, alpha=0.05, hidden_layer_sizes=(80, 80, 80, 100, 120)\n",
      "[CV 4/5; 7/1386] END activation=relu, alpha=0.05, hidden_layer_sizes=(80, 80, 80, 80, 200);, score=0.639 total time=  15.8s\n",
      "[CV 1/5; 10/1386] START activation=relu, alpha=0.05, hidden_layer_sizes=(80, 80, 80, 100, 140)\n",
      "[CV 3/5; 7/1386] END activation=relu, alpha=0.05, hidden_layer_sizes=(80, 80, 80, 80, 200);, score=0.799 total time=  19.9s\n",
      "[CV 2/5; 10/1386] START activation=relu, alpha=0.05, hidden_layer_sizes=(80, 80, 80, 100, 140)\n",
      "[CV 3/5; 8/1386] END activation=relu, alpha=0.05, hidden_layer_sizes=(80, 80, 80, 100, 100);, score=0.622 total time=  11.9s\n",
      "[CV 3/5; 10/1386] START activation=relu, alpha=0.05, hidden_layer_sizes=(80, 80, 80, 100, 140)\n",
      "[CV 5/5; 8/1386] END activation=relu, alpha=0.05, hidden_layer_sizes=(80, 80, 80, 100, 100);, score=0.659 total time=  12.8s\n",
      "[CV 4/5; 10/1386] START activation=relu, alpha=0.05, hidden_layer_sizes=(80, 80, 80, 100, 140)\n",
      "[CV 2/5; 9/1386] END activation=relu, alpha=0.05, hidden_layer_sizes=(80, 80, 80, 100, 120);, score=0.759 total time=  10.0s\n",
      "[CV 5/5; 10/1386] START activation=relu, alpha=0.05, hidden_layer_sizes=(80, 80, 80, 100, 140)\n",
      "[CV 1/5; 9/1386] END activation=relu, alpha=0.05, hidden_layer_sizes=(80, 80, 80, 100, 120);, score=0.724 total time=  12.2s\n",
      "[CV 1/5; 11/1386] START activation=relu, alpha=0.05, hidden_layer_sizes=(80, 80, 80, 100, 160)\n",
      "[CV 5/5; 9/1386] END activation=relu, alpha=0.05, hidden_layer_sizes=(80, 80, 80, 100, 120);, score=0.747 total time=   9.0s\n",
      "[CV 2/5; 11/1386] START activation=relu, alpha=0.05, hidden_layer_sizes=(80, 80, 80, 100, 160)\n",
      "[CV 4/5; 8/1386] END activation=relu, alpha=0.05, hidden_layer_sizes=(80, 80, 80, 100, 100);, score=0.622 total time=  18.7s\n",
      "[CV 3/5; 11/1386] START activation=relu, alpha=0.05, hidden_layer_sizes=(80, 80, 80, 100, 160)\n",
      "[CV 4/5; 9/1386] END activation=relu, alpha=0.05, hidden_layer_sizes=(80, 80, 80, 100, 120);, score=0.667 total time=  12.3s\n",
      "[CV 4/5; 11/1386] START activation=relu, alpha=0.05, hidden_layer_sizes=(80, 80, 80, 100, 160)\n",
      "[CV 1/5; 10/1386] END activation=relu, alpha=0.05, hidden_layer_sizes=(80, 80, 80, 100, 140);, score=0.592 total time=  14.9s\n",
      "[CV 5/5; 11/1386] START activation=relu, alpha=0.05, hidden_layer_sizes=(80, 80, 80, 100, 160)\n",
      "[CV 2/5; 10/1386] END activation=relu, alpha=0.05, hidden_layer_sizes=(80, 80, 80, 100, 140);, score=0.751 total time=  14.2s\n",
      "[CV 1/5; 12/1386] START activation=relu, alpha=0.05, hidden_layer_sizes=(80, 80, 80, 100, 180)\n",
      "[CV 3/5; 9/1386] END activation=relu, alpha=0.05, hidden_layer_sizes=(80, 80, 80, 100, 120);, score=0.743 total time=  17.1s\n",
      "[CV 2/5; 12/1386] START activation=relu, alpha=0.05, hidden_layer_sizes=(80, 80, 80, 100, 180)\n",
      "[CV 3/5; 10/1386] END activation=relu, alpha=0.05, hidden_layer_sizes=(80, 80, 80, 100, 140);, score=0.635 total time=  15.1s\n",
      "[CV 3/5; 12/1386] START activation=relu, alpha=0.05, hidden_layer_sizes=(80, 80, 80, 100, 180)\n",
      "[CV 5/5; 10/1386] END activation=relu, alpha=0.05, hidden_layer_sizes=(80, 80, 80, 100, 140);, score=0.691 total time=  13.7s\n",
      "[CV 4/5; 12/1386] START activation=relu, alpha=0.05, hidden_layer_sizes=(80, 80, 80, 100, 180)\n",
      "[CV 4/5; 10/1386] END activation=relu, alpha=0.05, hidden_layer_sizes=(80, 80, 80, 100, 140);, score=0.679 total time=  18.7s\n",
      "[CV 5/5; 12/1386] START activation=relu, alpha=0.05, hidden_layer_sizes=(80, 80, 80, 100, 180)\n",
      "[CV 1/5; 11/1386] END activation=relu, alpha=0.05, hidden_layer_sizes=(80, 80, 80, 100, 160);, score=0.712 total time=  17.2s\n",
      "[CV 1/5; 13/1386] START activation=relu, alpha=0.05, hidden_layer_sizes=(80, 80, 80, 100, 200)\n",
      "[CV 2/5; 11/1386] END activation=relu, alpha=0.05, hidden_layer_sizes=(80, 80, 80, 100, 160);, score=0.614 total time=  15.4s\n",
      "[CV 2/5; 13/1386] START activation=relu, alpha=0.05, hidden_layer_sizes=(80, 80, 80, 100, 200)\n",
      "[CV 4/5; 11/1386] END activation=relu, alpha=0.05, hidden_layer_sizes=(80, 80, 80, 100, 160);, score=0.683 total time=  13.9s\n",
      "[CV 3/5; 13/1386] START activation=relu, alpha=0.05, hidden_layer_sizes=(80, 80, 80, 100, 200)\n",
      "[CV 3/5; 11/1386] END activation=relu, alpha=0.05, hidden_layer_sizes=(80, 80, 80, 100, 160);, score=0.767 total time=  16.1s\n",
      "[CV 4/5; 13/1386] START activation=relu, alpha=0.05, hidden_layer_sizes=(80, 80, 80, 100, 200)\n",
      "[CV 5/5; 11/1386] END activation=relu, alpha=0.05, hidden_layer_sizes=(80, 80, 80, 100, 160);, score=0.791 total time=  16.3s\n",
      "[CV 5/5; 13/1386] START activation=relu, alpha=0.05, hidden_layer_sizes=(80, 80, 80, 100, 200)\n",
      "[CV 2/5; 12/1386] END activation=relu, alpha=0.05, hidden_layer_sizes=(80, 80, 80, 100, 180);, score=0.651 total time=  16.0s\n",
      "[CV 1/5; 14/1386] START activation=relu, alpha=0.05, hidden_layer_sizes=(80, 80, 80, 120, 120)\n",
      "[CV 1/5; 12/1386] END activation=relu, alpha=0.05, hidden_layer_sizes=(80, 80, 80, 100, 180);, score=0.568 total time=  18.0s\n",
      "[CV 2/5; 14/1386] START activation=relu, alpha=0.05, hidden_layer_sizes=(80, 80, 80, 120, 120)\n",
      "[CV 3/5; 12/1386] END activation=relu, alpha=0.05, hidden_layer_sizes=(80, 80, 80, 100, 180);, score=0.723 total time=  22.4s\n",
      "[CV 3/5; 14/1386] START activation=relu, alpha=0.05, hidden_layer_sizes=(80, 80, 80, 120, 120)\n",
      "[CV 2/5; 13/1386] END activation=relu, alpha=0.05, hidden_layer_sizes=(80, 80, 80, 100, 200);, score=0.723 total time=  15.5s\n",
      "[CV 4/5; 14/1386] START activation=relu, alpha=0.05, hidden_layer_sizes=(80, 80, 80, 120, 120)\n",
      "[CV 5/5; 12/1386] END activation=relu, alpha=0.05, hidden_layer_sizes=(80, 80, 80, 100, 180);, score=0.743 total time=  16.8s\n",
      "[CV 5/5; 14/1386] START activation=relu, alpha=0.05, hidden_layer_sizes=(80, 80, 80, 120, 120)\n",
      "[CV 4/5; 12/1386] END activation=relu, alpha=0.05, hidden_layer_sizes=(80, 80, 80, 100, 180);, score=0.574 total time=  20.7s\n",
      "[CV 1/5; 15/1386] START activation=relu, alpha=0.05, hidden_layer_sizes=(80, 80, 80, 120, 140)\n",
      "[CV 5/5; 14/1386] END activation=relu, alpha=0.05, hidden_layer_sizes=(80, 80, 80, 120, 120);, score=0.606 total time=   2.4s\n",
      "[CV 1/5; 15/1386] END activation=relu, alpha=0.05, hidden_layer_sizes=(80, 80, 80, 120, 140);, score=0.464 total time=   2.1s\n",
      "[CV 2/5; 14/1386] END activation=relu, alpha=0.05, hidden_layer_sizes=(80, 80, 80, 120, 120);, score=0.647 total time=   9.3s\n",
      "[CV 3/5; 13/1386] END activation=relu, alpha=0.05, hidden_layer_sizes=(80, 80, 80, 100, 200);, score=0.747 total time=  17.1s\n",
      "[CV 1/5; 13/1386] END activation=relu, alpha=0.05, hidden_layer_sizes=(80, 80, 80, 100, 200);, score=0.692 total time=  18.8s\n",
      "[CV 3/5; 14/1386] END activation=relu, alpha=0.05, hidden_layer_sizes=(80, 80, 80, 120, 120);, score=0.510 total time=   3.2s[CV 4/5; 14/1386] END activation=relu, alpha=0.05, hidden_layer_sizes=(80, 80, 80, 120, 120);, score=0.538 total time=   2.5s\n",
      "\n",
      "[CV 2/5; 15/1386] START activation=relu, alpha=0.05, hidden_layer_sizes=(80, 80, 80, 120, 140)\n",
      "[CV 3/5; 15/1386] START activation=relu, alpha=0.05, hidden_layer_sizes=(80, 80, 80, 120, 140)\n",
      "[CV 1/5; 14/1386] END activation=relu, alpha=0.05, hidden_layer_sizes=(80, 80, 80, 120, 120);, score=0.704 total time=  10.4s\n",
      "[CV 4/5; 13/1386] END activation=relu, alpha=0.05, hidden_layer_sizes=(80, 80, 80, 100, 200);, score=0.659 total time=  16.6s\n"
     ]
    },
    {
     "name": "stderr",
     "output_type": "stream",
     "text": [
      "/Users/benjaminli/opt/miniconda3/envs/seq/lib/python3.8/site-packages/sklearn/neural_network/_multilayer_perceptron.py:709: UserWarning: Training interrupted by user.\n",
      "  warnings.warn(\"Training interrupted by user.\")\n",
      "/Users/benjaminli/opt/miniconda3/envs/seq/lib/python3.8/site-packages/sklearn/neural_network/_multilayer_perceptron.py:709: UserWarning: Training interrupted by user.\n",
      "  warnings.warn(\"Training interrupted by user.\")\n",
      "/Users/benjaminli/opt/miniconda3/envs/seq/lib/python3.8/site-packages/sklearn/neural_network/_multilayer_perceptron.py:709: UserWarning: Training interrupted by user.\n",
      "  warnings.warn(\"Training interrupted by user.\")\n",
      "/Users/benjaminli/opt/miniconda3/envs/seq/lib/python3.8/site-packages/sklearn/neural_network/_multilayer_perceptron.py:709: UserWarning: Training interrupted by user.\n",
      "  warnings.warn(\"Training interrupted by user.\")\n",
      "/Users/benjaminli/opt/miniconda3/envs/seq/lib/python3.8/site-packages/sklearn/neural_network/_multilayer_perceptron.py:709: UserWarning: Training interrupted by user.\n",
      "  warnings.warn(\"Training interrupted by user.\")\n",
      "/Users/benjaminli/opt/miniconda3/envs/seq/lib/python3.8/site-packages/sklearn/neural_network/_multilayer_perceptron.py:709: UserWarning: Training interrupted by user.\n",
      "  warnings.warn(\"Training interrupted by user.\")\n",
      "/Users/benjaminli/opt/miniconda3/envs/seq/lib/python3.8/site-packages/sklearn/neural_network/_multilayer_perceptron.py:709: UserWarning: Training interrupted by user.\n",
      "  warnings.warn(\"Training interrupted by user.\")\n",
      "/Users/benjaminli/opt/miniconda3/envs/seq/lib/python3.8/site-packages/sklearn/neural_network/_multilayer_perceptron.py:709: UserWarning: Training interrupted by user.\n",
      "  warnings.warn(\"Training interrupted by user.\")\n",
      "/Users/benjaminli/opt/miniconda3/envs/seq/lib/python3.8/site-packages/sklearn/neural_network/_multilayer_perceptron.py:709: UserWarning: Training interrupted by user.\n",
      "  warnings.warn(\"Training interrupted by user.\")\n"
     ]
    },
    {
     "ename": "KeyboardInterrupt",
     "evalue": "",
     "output_type": "error",
     "traceback": [
      "\u001b[0;31m---------------------------------------------------------------------------\u001b[0m",
      "\u001b[0;31mKeyboardInterrupt\u001b[0m                         Traceback (most recent call last)",
      "\u001b[1;32m/Users/benjaminli/Documents/coding/scires/project/train_and_vis/models.ipynb Cell 29\u001b[0m in \u001b[0;36m<cell line: 30>\u001b[0;34m()\u001b[0m\n\u001b[1;32m     <a href='vscode-notebook-cell:/Users/benjaminli/Documents/coding/scires/project/train_and_vis/models.ipynb#Y131sZmlsZQ%3D%3D?line=23'>24</a>\u001b[0m parameter_space \u001b[39m=\u001b[39m {\n\u001b[1;32m     <a href='vscode-notebook-cell:/Users/benjaminli/Documents/coding/scires/project/train_and_vis/models.ipynb#Y131sZmlsZQ%3D%3D?line=24'>25</a>\u001b[0m     \u001b[39m'\u001b[39m\u001b[39mhidden_layer_sizes\u001b[39m\u001b[39m'\u001b[39m: hlg[\u001b[39m0\u001b[39m],\n\u001b[1;32m     <a href='vscode-notebook-cell:/Users/benjaminli/Documents/coding/scires/project/train_and_vis/models.ipynb#Y131sZmlsZQ%3D%3D?line=25'>26</a>\u001b[0m     \u001b[39m'\u001b[39m\u001b[39mactivation\u001b[39m\u001b[39m'\u001b[39m: [\u001b[39m'\u001b[39m\u001b[39mrelu\u001b[39m\u001b[39m'\u001b[39m],\n\u001b[1;32m     <a href='vscode-notebook-cell:/Users/benjaminli/Documents/coding/scires/project/train_and_vis/models.ipynb#Y131sZmlsZQ%3D%3D?line=26'>27</a>\u001b[0m     \u001b[39m'\u001b[39m\u001b[39malpha\u001b[39m\u001b[39m'\u001b[39m: [\u001b[39m0.05\u001b[39m, \u001b[39m0.1\u001b[39m, \u001b[39m0.2\u001b[39m],\n\u001b[1;32m     <a href='vscode-notebook-cell:/Users/benjaminli/Documents/coding/scires/project/train_and_vis/models.ipynb#Y131sZmlsZQ%3D%3D?line=27'>28</a>\u001b[0m }\n\u001b[1;32m     <a href='vscode-notebook-cell:/Users/benjaminli/Documents/coding/scires/project/train_and_vis/models.ipynb#Y131sZmlsZQ%3D%3D?line=28'>29</a>\u001b[0m clf \u001b[39m=\u001b[39m GridSearchCV(mlp_gs, parameter_space, n_jobs\u001b[39m=\u001b[39m\u001b[39m-\u001b[39m\u001b[39m1\u001b[39m, cv\u001b[39m=\u001b[39m\u001b[39m5\u001b[39m, verbose\u001b[39m=\u001b[39m\u001b[39m10\u001b[39m, scoring\u001b[39m=\u001b[39m\u001b[39m'\u001b[39m\u001b[39mrecall\u001b[39m\u001b[39m'\u001b[39m)\n\u001b[0;32m---> <a href='vscode-notebook-cell:/Users/benjaminli/Documents/coding/scires/project/train_and_vis/models.ipynb#Y131sZmlsZQ%3D%3D?line=29'>30</a>\u001b[0m clf\u001b[39m.\u001b[39;49mfit(X_train, y_train)\n",
      "File \u001b[0;32m~/opt/miniconda3/envs/seq/lib/python3.8/site-packages/sklearn/model_selection/_search.py:875\u001b[0m, in \u001b[0;36mBaseSearchCV.fit\u001b[0;34m(self, X, y, groups, **fit_params)\u001b[0m\n\u001b[1;32m    869\u001b[0m     results \u001b[39m=\u001b[39m \u001b[39mself\u001b[39m\u001b[39m.\u001b[39m_format_results(\n\u001b[1;32m    870\u001b[0m         all_candidate_params, n_splits, all_out, all_more_results\n\u001b[1;32m    871\u001b[0m     )\n\u001b[1;32m    873\u001b[0m     \u001b[39mreturn\u001b[39;00m results\n\u001b[0;32m--> 875\u001b[0m \u001b[39mself\u001b[39;49m\u001b[39m.\u001b[39;49m_run_search(evaluate_candidates)\n\u001b[1;32m    877\u001b[0m \u001b[39m# multimetric is determined here because in the case of a callable\u001b[39;00m\n\u001b[1;32m    878\u001b[0m \u001b[39m# self.scoring the return type is only known after calling\u001b[39;00m\n\u001b[1;32m    879\u001b[0m first_test_score \u001b[39m=\u001b[39m all_out[\u001b[39m0\u001b[39m][\u001b[39m\"\u001b[39m\u001b[39mtest_scores\u001b[39m\u001b[39m\"\u001b[39m]\n",
      "File \u001b[0;32m~/opt/miniconda3/envs/seq/lib/python3.8/site-packages/sklearn/model_selection/_search.py:1379\u001b[0m, in \u001b[0;36mGridSearchCV._run_search\u001b[0;34m(self, evaluate_candidates)\u001b[0m\n\u001b[1;32m   1377\u001b[0m \u001b[39mdef\u001b[39;00m \u001b[39m_run_search\u001b[39m(\u001b[39mself\u001b[39m, evaluate_candidates):\n\u001b[1;32m   1378\u001b[0m     \u001b[39m\"\"\"Search all candidates in param_grid\"\"\"\u001b[39;00m\n\u001b[0;32m-> 1379\u001b[0m     evaluate_candidates(ParameterGrid(\u001b[39mself\u001b[39;49m\u001b[39m.\u001b[39;49mparam_grid))\n",
      "File \u001b[0;32m~/opt/miniconda3/envs/seq/lib/python3.8/site-packages/sklearn/model_selection/_search.py:822\u001b[0m, in \u001b[0;36mBaseSearchCV.fit.<locals>.evaluate_candidates\u001b[0;34m(candidate_params, cv, more_results)\u001b[0m\n\u001b[1;32m    814\u001b[0m \u001b[39mif\u001b[39;00m \u001b[39mself\u001b[39m\u001b[39m.\u001b[39mverbose \u001b[39m>\u001b[39m \u001b[39m0\u001b[39m:\n\u001b[1;32m    815\u001b[0m     \u001b[39mprint\u001b[39m(\n\u001b[1;32m    816\u001b[0m         \u001b[39m\"\u001b[39m\u001b[39mFitting \u001b[39m\u001b[39m{0}\u001b[39;00m\u001b[39m folds for each of \u001b[39m\u001b[39m{1}\u001b[39;00m\u001b[39m candidates,\u001b[39m\u001b[39m\"\u001b[39m\n\u001b[1;32m    817\u001b[0m         \u001b[39m\"\u001b[39m\u001b[39m totalling \u001b[39m\u001b[39m{2}\u001b[39;00m\u001b[39m fits\u001b[39m\u001b[39m\"\u001b[39m\u001b[39m.\u001b[39mformat(\n\u001b[1;32m    818\u001b[0m             n_splits, n_candidates, n_candidates \u001b[39m*\u001b[39m n_splits\n\u001b[1;32m    819\u001b[0m         )\n\u001b[1;32m    820\u001b[0m     )\n\u001b[0;32m--> 822\u001b[0m out \u001b[39m=\u001b[39m parallel(\n\u001b[1;32m    823\u001b[0m     delayed(_fit_and_score)(\n\u001b[1;32m    824\u001b[0m         clone(base_estimator),\n\u001b[1;32m    825\u001b[0m         X,\n\u001b[1;32m    826\u001b[0m         y,\n\u001b[1;32m    827\u001b[0m         train\u001b[39m=\u001b[39;49mtrain,\n\u001b[1;32m    828\u001b[0m         test\u001b[39m=\u001b[39;49mtest,\n\u001b[1;32m    829\u001b[0m         parameters\u001b[39m=\u001b[39;49mparameters,\n\u001b[1;32m    830\u001b[0m         split_progress\u001b[39m=\u001b[39;49m(split_idx, n_splits),\n\u001b[1;32m    831\u001b[0m         candidate_progress\u001b[39m=\u001b[39;49m(cand_idx, n_candidates),\n\u001b[1;32m    832\u001b[0m         \u001b[39m*\u001b[39;49m\u001b[39m*\u001b[39;49mfit_and_score_kwargs,\n\u001b[1;32m    833\u001b[0m     )\n\u001b[1;32m    834\u001b[0m     \u001b[39mfor\u001b[39;49;00m (cand_idx, parameters), (split_idx, (train, test)) \u001b[39min\u001b[39;49;00m product(\n\u001b[1;32m    835\u001b[0m         \u001b[39menumerate\u001b[39;49m(candidate_params), \u001b[39menumerate\u001b[39;49m(cv\u001b[39m.\u001b[39;49msplit(X, y, groups))\n\u001b[1;32m    836\u001b[0m     )\n\u001b[1;32m    837\u001b[0m )\n\u001b[1;32m    839\u001b[0m \u001b[39mif\u001b[39;00m \u001b[39mlen\u001b[39m(out) \u001b[39m<\u001b[39m \u001b[39m1\u001b[39m:\n\u001b[1;32m    840\u001b[0m     \u001b[39mraise\u001b[39;00m \u001b[39mValueError\u001b[39;00m(\n\u001b[1;32m    841\u001b[0m         \u001b[39m\"\u001b[39m\u001b[39mNo fits were performed. \u001b[39m\u001b[39m\"\u001b[39m\n\u001b[1;32m    842\u001b[0m         \u001b[39m\"\u001b[39m\u001b[39mWas the CV iterator empty? \u001b[39m\u001b[39m\"\u001b[39m\n\u001b[1;32m    843\u001b[0m         \u001b[39m\"\u001b[39m\u001b[39mWere there no candidates?\u001b[39m\u001b[39m\"\u001b[39m\n\u001b[1;32m    844\u001b[0m     )\n",
      "File \u001b[0;32m~/opt/miniconda3/envs/seq/lib/python3.8/site-packages/joblib/parallel.py:1098\u001b[0m, in \u001b[0;36mParallel.__call__\u001b[0;34m(self, iterable)\u001b[0m\n\u001b[1;32m   1095\u001b[0m     \u001b[39mself\u001b[39m\u001b[39m.\u001b[39m_iterating \u001b[39m=\u001b[39m \u001b[39mFalse\u001b[39;00m\n\u001b[1;32m   1097\u001b[0m \u001b[39mwith\u001b[39;00m \u001b[39mself\u001b[39m\u001b[39m.\u001b[39m_backend\u001b[39m.\u001b[39mretrieval_context():\n\u001b[0;32m-> 1098\u001b[0m     \u001b[39mself\u001b[39;49m\u001b[39m.\u001b[39;49mretrieve()\n\u001b[1;32m   1099\u001b[0m \u001b[39m# Make sure that we get a last message telling us we are done\u001b[39;00m\n\u001b[1;32m   1100\u001b[0m elapsed_time \u001b[39m=\u001b[39m time\u001b[39m.\u001b[39mtime() \u001b[39m-\u001b[39m \u001b[39mself\u001b[39m\u001b[39m.\u001b[39m_start_time\n",
      "File \u001b[0;32m~/opt/miniconda3/envs/seq/lib/python3.8/site-packages/joblib/parallel.py:975\u001b[0m, in \u001b[0;36mParallel.retrieve\u001b[0;34m(self)\u001b[0m\n\u001b[1;32m    973\u001b[0m \u001b[39mtry\u001b[39;00m:\n\u001b[1;32m    974\u001b[0m     \u001b[39mif\u001b[39;00m \u001b[39mgetattr\u001b[39m(\u001b[39mself\u001b[39m\u001b[39m.\u001b[39m_backend, \u001b[39m'\u001b[39m\u001b[39msupports_timeout\u001b[39m\u001b[39m'\u001b[39m, \u001b[39mFalse\u001b[39;00m):\n\u001b[0;32m--> 975\u001b[0m         \u001b[39mself\u001b[39m\u001b[39m.\u001b[39m_output\u001b[39m.\u001b[39mextend(job\u001b[39m.\u001b[39;49mget(timeout\u001b[39m=\u001b[39;49m\u001b[39mself\u001b[39;49m\u001b[39m.\u001b[39;49mtimeout))\n\u001b[1;32m    976\u001b[0m     \u001b[39melse\u001b[39;00m:\n\u001b[1;32m    977\u001b[0m         \u001b[39mself\u001b[39m\u001b[39m.\u001b[39m_output\u001b[39m.\u001b[39mextend(job\u001b[39m.\u001b[39mget())\n",
      "File \u001b[0;32m~/opt/miniconda3/envs/seq/lib/python3.8/site-packages/joblib/_parallel_backends.py:567\u001b[0m, in \u001b[0;36mLokyBackend.wrap_future_result\u001b[0;34m(future, timeout)\u001b[0m\n\u001b[1;32m    564\u001b[0m \u001b[39m\"\"\"Wrapper for Future.result to implement the same behaviour as\u001b[39;00m\n\u001b[1;32m    565\u001b[0m \u001b[39mAsyncResults.get from multiprocessing.\"\"\"\u001b[39;00m\n\u001b[1;32m    566\u001b[0m \u001b[39mtry\u001b[39;00m:\n\u001b[0;32m--> 567\u001b[0m     \u001b[39mreturn\u001b[39;00m future\u001b[39m.\u001b[39;49mresult(timeout\u001b[39m=\u001b[39;49mtimeout)\n\u001b[1;32m    568\u001b[0m \u001b[39mexcept\u001b[39;00m CfTimeoutError \u001b[39mas\u001b[39;00m e:\n\u001b[1;32m    569\u001b[0m     \u001b[39mraise\u001b[39;00m \u001b[39mTimeoutError\u001b[39;00m \u001b[39mfrom\u001b[39;00m \u001b[39me\u001b[39;00m\n",
      "File \u001b[0;32m~/opt/miniconda3/envs/seq/lib/python3.8/concurrent/futures/_base.py:439\u001b[0m, in \u001b[0;36mFuture.result\u001b[0;34m(self, timeout)\u001b[0m\n\u001b[1;32m    436\u001b[0m \u001b[39melif\u001b[39;00m \u001b[39mself\u001b[39m\u001b[39m.\u001b[39m_state \u001b[39m==\u001b[39m FINISHED:\n\u001b[1;32m    437\u001b[0m     \u001b[39mreturn\u001b[39;00m \u001b[39mself\u001b[39m\u001b[39m.\u001b[39m__get_result()\n\u001b[0;32m--> 439\u001b[0m \u001b[39mself\u001b[39;49m\u001b[39m.\u001b[39;49m_condition\u001b[39m.\u001b[39;49mwait(timeout)\n\u001b[1;32m    441\u001b[0m \u001b[39mif\u001b[39;00m \u001b[39mself\u001b[39m\u001b[39m.\u001b[39m_state \u001b[39min\u001b[39;00m [CANCELLED, CANCELLED_AND_NOTIFIED]:\n\u001b[1;32m    442\u001b[0m     \u001b[39mraise\u001b[39;00m CancelledError()\n",
      "File \u001b[0;32m~/opt/miniconda3/envs/seq/lib/python3.8/threading.py:302\u001b[0m, in \u001b[0;36mCondition.wait\u001b[0;34m(self, timeout)\u001b[0m\n\u001b[1;32m    300\u001b[0m \u001b[39mtry\u001b[39;00m:    \u001b[39m# restore state no matter what (e.g., KeyboardInterrupt)\u001b[39;00m\n\u001b[1;32m    301\u001b[0m     \u001b[39mif\u001b[39;00m timeout \u001b[39mis\u001b[39;00m \u001b[39mNone\u001b[39;00m:\n\u001b[0;32m--> 302\u001b[0m         waiter\u001b[39m.\u001b[39;49macquire()\n\u001b[1;32m    303\u001b[0m         gotit \u001b[39m=\u001b[39m \u001b[39mTrue\u001b[39;00m\n\u001b[1;32m    304\u001b[0m     \u001b[39melse\u001b[39;00m:\n",
      "\u001b[0;31mKeyboardInterrupt\u001b[0m: "
     ]
    }
   ],
   "source": [
    "from itertools import combinations_with_replacement\n",
    "def hidden_layers_generator(hidden_layers, max_neurons):\n",
    "  hd_sizes = []\n",
    "  comb = combinations_with_replacement(np.arange(80,max_neurons+10,20), hidden_layers)\n",
    "  hd_sizes.append(list(comb))\n",
    "  return hd_sizes\n",
    "\n",
    "\n",
    "ds = datasets['merged'][f'normalized-{kmer}']\n",
    "\n",
    "X_train, y_train, X_test, y_test = ds['X_train'], ds['y_train'], ds['X_test'], ds['y_test']\n",
    "\n",
    "X = pd.concat([X_train, X_test])\n",
    "y = np.concatenate([ds['y_train'], ds['y_test']], axis=0)\n",
    "\n",
    "X_train, X_test, y_train, y_test = train_test_split(X, y, test_size=0.2, random_state=42)\n",
    "\n",
    "# print(l)\n",
    "hlg = hidden_layers_generator(hidden_layers=5, max_neurons=200)\n",
    "print(hlg)\n",
    "\n",
    "mlp_gs = MLPClassifier(max_iter=350, random_state=42, solver='adam')\n",
    "\n",
    "parameter_space = {\n",
    "    'hidden_layer_sizes': hlg[0],\n",
    "    'activation': ['relu'],\n",
    "    'alpha': [0.05, 0.1, 0.2],\n",
    "}\n",
    "clf = GridSearchCV(mlp_gs, parameter_space, n_jobs=-1, cv=5, verbose=10, scoring='recall')\n",
    "clf.fit(X_train, y_train) # X is train samples and y is the corresponding labels"
   ]
  },
  {
   "cell_type": "code",
   "execution_count": 62,
   "metadata": {},
   "outputs": [
    {
     "name": "stdout",
     "output_type": "stream",
     "text": [
      "Best parameters found:\n",
      " {'activation': 'relu', 'alpha': 0.05, 'hidden_layer_sizes': (100, 100, 100, 160, 180)}\n",
      "MLPClassifier(alpha=0.05, hidden_layer_sizes=(100, 100, 100, 160, 180),\n",
      "              max_iter=350, random_state=42)\n",
      "0.7347560975609755\n"
     ]
    }
   ],
   "source": [
    "print('Best parameters found:\\n', clf.best_params_)\n",
    "print(clf.best_estimator_)\n",
    "print(f1_score(y_test, clf.best_estimator_.predict(X_test)))\n",
    "pickle.dump(clf, open('models/curr_models/mlpClassifier.pkl', 'wb'))"
   ]
  },
  {
   "attachments": {},
   "cell_type": "markdown",
   "metadata": {},
   "source": [
    "### Creation of the ensemble model"
   ]
  },
  {
   "attachments": {},
   "cell_type": "markdown",
   "metadata": {},
   "source": [
    "### Using XGBoost"
   ]
  },
  {
   "cell_type": "code",
   "execution_count": 59,
   "metadata": {},
   "outputs": [
    {
     "name": "stdout",
     "output_type": "stream",
     "text": [
      "Fitting 3 classifiers...\n",
      "Fitting classifier1: xgbclassifier (1/3)\n"
     ]
    },
    {
     "name": "stderr",
     "output_type": "stream",
     "text": [
      "[Parallel(n_jobs=-1)]: Using backend LokyBackend with 10 concurrent workers.\n",
      "[Parallel(n_jobs=-1)]: Done   5 out of   5 | elapsed:   42.6s finished\n",
      "[Parallel(n_jobs=-1)]: Using backend LokyBackend with 10 concurrent workers.\n"
     ]
    },
    {
     "name": "stdout",
     "output_type": "stream",
     "text": [
      "Fitting classifier2: svc (2/3)\n"
     ]
    },
    {
     "name": "stderr",
     "output_type": "stream",
     "text": [
      "/Users/benjaminli/opt/miniconda3/envs/seq/lib/python3.8/site-packages/sklearn/svm/_base.py:301: ConvergenceWarning: Solver terminated early (max_iter=300).  Consider pre-processing your data with StandardScaler or MinMaxScaler.\n",
      "  warnings.warn(\n",
      "/Users/benjaminli/opt/miniconda3/envs/seq/lib/python3.8/site-packages/sklearn/svm/_base.py:301: ConvergenceWarning: Solver terminated early (max_iter=300).  Consider pre-processing your data with StandardScaler or MinMaxScaler.\n",
      "  warnings.warn(\n",
      "/Users/benjaminli/opt/miniconda3/envs/seq/lib/python3.8/site-packages/sklearn/svm/_base.py:301: ConvergenceWarning: Solver terminated early (max_iter=300).  Consider pre-processing your data with StandardScaler or MinMaxScaler.\n",
      "  warnings.warn(\n",
      "/Users/benjaminli/opt/miniconda3/envs/seq/lib/python3.8/site-packages/sklearn/svm/_base.py:301: ConvergenceWarning: Solver terminated early (max_iter=300).  Consider pre-processing your data with StandardScaler or MinMaxScaler.\n",
      "  warnings.warn(\n",
      "/Users/benjaminli/opt/miniconda3/envs/seq/lib/python3.8/site-packages/sklearn/svm/_base.py:301: ConvergenceWarning: Solver terminated early (max_iter=300).  Consider pre-processing your data with StandardScaler or MinMaxScaler.\n",
      "  warnings.warn(\n",
      "[Parallel(n_jobs=-1)]: Done   5 out of   5 | elapsed:    5.9s finished\n",
      "[Parallel(n_jobs=-1)]: Using backend LokyBackend with 10 concurrent workers.\n"
     ]
    },
    {
     "name": "stdout",
     "output_type": "stream",
     "text": [
      "Fitting classifier3: mlpclassifier (3/3)\n"
     ]
    },
    {
     "name": "stderr",
     "output_type": "stream",
     "text": [
      "[Parallel(n_jobs=-1)]: Done   5 out of   5 | elapsed:   15.9s finished\n",
      "/Users/benjaminli/opt/miniconda3/envs/seq/lib/python3.8/site-packages/sklearn/svm/_base.py:301: ConvergenceWarning: Solver terminated early (max_iter=300).  Consider pre-processing your data with StandardScaler or MinMaxScaler.\n",
      "  warnings.warn(\n"
     ]
    },
    {
     "data": {
      "text/html": [
       "<style>#sk-container-id-8 {color: black;background-color: white;}#sk-container-id-8 pre{padding: 0;}#sk-container-id-8 div.sk-toggleable {background-color: white;}#sk-container-id-8 label.sk-toggleable__label {cursor: pointer;display: block;width: 100%;margin-bottom: 0;padding: 0.3em;box-sizing: border-box;text-align: center;}#sk-container-id-8 label.sk-toggleable__label-arrow:before {content: \"▸\";float: left;margin-right: 0.25em;color: #696969;}#sk-container-id-8 label.sk-toggleable__label-arrow:hover:before {color: black;}#sk-container-id-8 div.sk-estimator:hover label.sk-toggleable__label-arrow:before {color: black;}#sk-container-id-8 div.sk-toggleable__content {max-height: 0;max-width: 0;overflow: hidden;text-align: left;background-color: #f0f8ff;}#sk-container-id-8 div.sk-toggleable__content pre {margin: 0.2em;color: black;border-radius: 0.25em;background-color: #f0f8ff;}#sk-container-id-8 input.sk-toggleable__control:checked~div.sk-toggleable__content {max-height: 200px;max-width: 100%;overflow: auto;}#sk-container-id-8 input.sk-toggleable__control:checked~label.sk-toggleable__label-arrow:before {content: \"▾\";}#sk-container-id-8 div.sk-estimator input.sk-toggleable__control:checked~label.sk-toggleable__label {background-color: #d4ebff;}#sk-container-id-8 div.sk-label input.sk-toggleable__control:checked~label.sk-toggleable__label {background-color: #d4ebff;}#sk-container-id-8 input.sk-hidden--visually {border: 0;clip: rect(1px 1px 1px 1px);clip: rect(1px, 1px, 1px, 1px);height: 1px;margin: -1px;overflow: hidden;padding: 0;position: absolute;width: 1px;}#sk-container-id-8 div.sk-estimator {font-family: monospace;background-color: #f0f8ff;border: 1px dotted black;border-radius: 0.25em;box-sizing: border-box;margin-bottom: 0.5em;}#sk-container-id-8 div.sk-estimator:hover {background-color: #d4ebff;}#sk-container-id-8 div.sk-parallel-item::after {content: \"\";width: 100%;border-bottom: 1px solid gray;flex-grow: 1;}#sk-container-id-8 div.sk-label:hover label.sk-toggleable__label {background-color: #d4ebff;}#sk-container-id-8 div.sk-serial::before {content: \"\";position: absolute;border-left: 1px solid gray;box-sizing: border-box;top: 0;bottom: 0;left: 50%;z-index: 0;}#sk-container-id-8 div.sk-serial {display: flex;flex-direction: column;align-items: center;background-color: white;padding-right: 0.2em;padding-left: 0.2em;position: relative;}#sk-container-id-8 div.sk-item {position: relative;z-index: 1;}#sk-container-id-8 div.sk-parallel {display: flex;align-items: stretch;justify-content: center;background-color: white;position: relative;}#sk-container-id-8 div.sk-item::before, #sk-container-id-8 div.sk-parallel-item::before {content: \"\";position: absolute;border-left: 1px solid gray;box-sizing: border-box;top: 0;bottom: 0;left: 50%;z-index: -1;}#sk-container-id-8 div.sk-parallel-item {display: flex;flex-direction: column;z-index: 1;position: relative;background-color: white;}#sk-container-id-8 div.sk-parallel-item:first-child::after {align-self: flex-end;width: 50%;}#sk-container-id-8 div.sk-parallel-item:last-child::after {align-self: flex-start;width: 50%;}#sk-container-id-8 div.sk-parallel-item:only-child::after {width: 0;}#sk-container-id-8 div.sk-dashed-wrapped {border: 1px dashed gray;margin: 0 0.4em 0.5em 0.4em;box-sizing: border-box;padding-bottom: 0.4em;background-color: white;}#sk-container-id-8 div.sk-label label {font-family: monospace;font-weight: bold;display: inline-block;line-height: 1.2em;}#sk-container-id-8 div.sk-label-container {text-align: center;}#sk-container-id-8 div.sk-container {/* jupyter's `normalize.less` sets `[hidden] { display: none; }` but bootstrap.min.css set `[hidden] { display: none !important; }` so we also need the `!important` here to be able to override the default hidden behavior on the sphinx rendered scikit-learn.org. See: https://github.com/scikit-learn/scikit-learn/issues/21755 */display: inline-block !important;position: relative;}#sk-container-id-8 div.sk-text-repr-fallback {display: none;}</style><div id=\"sk-container-id-8\" class=\"sk-top-container\"><div class=\"sk-text-repr-fallback\"><pre>StackingCVClassifier(classifiers=[XGBClassifier(base_score=None, booster=None,\n",
       "                                                callbacks=None,\n",
       "                                                colsample_bylevel=None,\n",
       "                                                colsample_bynode=None,\n",
       "                                                colsample_bytree=0.8,\n",
       "                                                early_stopping_rounds=None,\n",
       "                                                enable_categorical=False,\n",
       "                                                eval_metric=None,\n",
       "                                                feature_types=None, gamma=0,\n",
       "                                                gpu_id=None, grow_policy=None,\n",
       "                                                importance_type=None,\n",
       "                                                interaction_constraints=None,\n",
       "                                                learning_rate=0.1...\n",
       "                                                num_parallel_tree=None,\n",
       "                                                predictor=None,\n",
       "                                                random_state=None, ...),\n",
       "                                  SVC(C=2, gamma=0.6, max_iter=300,\n",
       "                                      probability=True, random_state=42),\n",
       "                                  MLPClassifier(alpha=0.05,\n",
       "                                                hidden_layer_sizes=(100, 100,\n",
       "                                                                    100, 160,\n",
       "                                                                    180),\n",
       "                                                max_iter=350,\n",
       "                                                random_state=42)],\n",
       "                     cv=5,\n",
       "                     meta_classifier=LogisticRegression(C=1, random_state=42),\n",
       "                     n_jobs=-1, random_state=42, store_train_meta_features=True,\n",
       "                     use_probas=True, verbose=1)</pre><b>In a Jupyter environment, please rerun this cell to show the HTML representation or trust the notebook. <br />On GitHub, the HTML representation is unable to render, please try loading this page with nbviewer.org.</b></div><div class=\"sk-container\" hidden><div class=\"sk-item sk-dashed-wrapped\"><div class=\"sk-label-container\"><div class=\"sk-label sk-toggleable\"><input class=\"sk-toggleable__control sk-hidden--visually\" id=\"sk-estimator-id-22\" type=\"checkbox\" ><label for=\"sk-estimator-id-22\" class=\"sk-toggleable__label sk-toggleable__label-arrow\">StackingCVClassifier</label><div class=\"sk-toggleable__content\"><pre>StackingCVClassifier(classifiers=[XGBClassifier(base_score=None, booster=None,\n",
       "                                                callbacks=None,\n",
       "                                                colsample_bylevel=None,\n",
       "                                                colsample_bynode=None,\n",
       "                                                colsample_bytree=0.8,\n",
       "                                                early_stopping_rounds=None,\n",
       "                                                enable_categorical=False,\n",
       "                                                eval_metric=None,\n",
       "                                                feature_types=None, gamma=0,\n",
       "                                                gpu_id=None, grow_policy=None,\n",
       "                                                importance_type=None,\n",
       "                                                interaction_constraints=None,\n",
       "                                                learning_rate=0.1...\n",
       "                                                num_parallel_tree=None,\n",
       "                                                predictor=None,\n",
       "                                                random_state=None, ...),\n",
       "                                  SVC(C=2, gamma=0.6, max_iter=300,\n",
       "                                      probability=True, random_state=42),\n",
       "                                  MLPClassifier(alpha=0.05,\n",
       "                                                hidden_layer_sizes=(100, 100,\n",
       "                                                                    100, 160,\n",
       "                                                                    180),\n",
       "                                                max_iter=350,\n",
       "                                                random_state=42)],\n",
       "                     cv=5,\n",
       "                     meta_classifier=LogisticRegression(C=1, random_state=42),\n",
       "                     n_jobs=-1, random_state=42, store_train_meta_features=True,\n",
       "                     use_probas=True, verbose=1)</pre></div></div></div><div class=\"sk-parallel\"><div class=\"sk-parallel-item\"><div class=\"sk-item\"><div class=\"sk-label-container\"><div class=\"sk-label sk-toggleable\"><input class=\"sk-toggleable__control sk-hidden--visually\" id=\"sk-estimator-id-23\" type=\"checkbox\" ><label for=\"sk-estimator-id-23\" class=\"sk-toggleable__label sk-toggleable__label-arrow\">meta_classifier: LogisticRegression</label><div class=\"sk-toggleable__content\"><pre>LogisticRegression(C=1, random_state=42)</pre></div></div></div><div class=\"sk-serial\"><div class=\"sk-item\"><div class=\"sk-estimator sk-toggleable\"><input class=\"sk-toggleable__control sk-hidden--visually\" id=\"sk-estimator-id-24\" type=\"checkbox\" ><label for=\"sk-estimator-id-24\" class=\"sk-toggleable__label sk-toggleable__label-arrow\">LogisticRegression</label><div class=\"sk-toggleable__content\"><pre>LogisticRegression(C=1, random_state=42)</pre></div></div></div></div></div></div></div></div></div></div>"
      ],
      "text/plain": [
       "StackingCVClassifier(classifiers=[XGBClassifier(base_score=None, booster=None,\n",
       "                                                callbacks=None,\n",
       "                                                colsample_bylevel=None,\n",
       "                                                colsample_bynode=None,\n",
       "                                                colsample_bytree=0.8,\n",
       "                                                early_stopping_rounds=None,\n",
       "                                                enable_categorical=False,\n",
       "                                                eval_metric=None,\n",
       "                                                feature_types=None, gamma=0,\n",
       "                                                gpu_id=None, grow_policy=None,\n",
       "                                                importance_type=None,\n",
       "                                                interaction_constraints=None,\n",
       "                                                learning_rate=0.1...\n",
       "                                                num_parallel_tree=None,\n",
       "                                                predictor=None,\n",
       "                                                random_state=None, ...),\n",
       "                                  SVC(C=2, gamma=0.6, max_iter=300,\n",
       "                                      probability=True, random_state=42),\n",
       "                                  MLPClassifier(alpha=0.05,\n",
       "                                                hidden_layer_sizes=(100, 100,\n",
       "                                                                    100, 160,\n",
       "                                                                    180),\n",
       "                                                max_iter=350,\n",
       "                                                random_state=42)],\n",
       "                     cv=5,\n",
       "                     meta_classifier=LogisticRegression(C=1, random_state=42),\n",
       "                     n_jobs=-1, random_state=42, store_train_meta_features=True,\n",
       "                     use_probas=True, verbose=1)"
      ]
     },
     "execution_count": 59,
     "metadata": {},
     "output_type": "execute_result"
    }
   ],
   "source": [
    "temp_mlp = MLPClassifier(hidden_layer_sizes=(100, 100, 100, 160, 180), alpha=0.05, max_iter=350, random_state=42)\n",
    "\n",
    "xgboost_gridsearch = XGBClassifier(\n",
    " learning_rate =0.1,\n",
    " n_estimators=250,\n",
    " max_depth=9,\n",
    " min_child_weight=1,\n",
    " gamma=0,\n",
    " subsample=0.8,\n",
    " colsample_bytree=0.8,\n",
    " objective= 'binary:logistic',\n",
    " scale_pos_weight=3,\n",
    " seed=42,\n",
    " n_jobs=-1)\n",
    "\n",
    "# temp_knn = BalancedBaggingClassifier(base_estimator=KNeighborsClassifier(n_jobs=1,\n",
    "#                                                               n_neighbors=1),\n",
    "#                           n_jobs=1)\n",
    "temp_svm = SVC(kernel='rbf', C=2, gamma=0.6, probability=True, random_state=42, max_iter=300)\n",
    "\n",
    "ds = datasets['merged'][f'normalized-4']\n",
    "\n",
    "X_train, y_train, X_test, y_test = ds['X_train'], ds['y_train'], ds['X_test'], ds['y_test']\n",
    "\n",
    "X = pd.concat([X_train, X_test])\n",
    "y = np.concatenate([ds['y_train'], ds['y_test']], axis=0)\n",
    "\n",
    "X_train, X_test, y_train, y_test = train_test_split(X, y, test_size=0.2, random_state=42)\n",
    "\n",
    "\n",
    "# {'n_estimators': 120, 'max_features': 2, 'max_depth': 6, 'random_state': 0, 'min_sample_split': 50, 'subsample': 0.8, 'learning_rate': 0.3}\n",
    "\n",
    "em = StackingCVClassifier(classifiers = [xgboost_gridsearch, temp_svm, temp_mlp],\n",
    "                            shuffle = True,\n",
    "                            use_probas = True,\n",
    "                            cv = 5,\n",
    "                            meta_classifier = LogisticRegression(C = 1, random_state=42), n_jobs=-1, random_state=42, verbose=1, store_train_meta_features=True)\n",
    "# em = StackingCVClassifier(classifiers = [temp_mlp, temp_GBM, temp_svm],\n",
    "#                             shuffle = True,\n",
    "#                             use_probas = True,\n",
    "#                             cv = 5,\n",
    "#                             meta_classifier = LogisticRegression())\n",
    "em.fit(X_train, y_train)"
   ]
  },
  {
   "cell_type": "code",
   "execution_count": 60,
   "metadata": {},
   "outputs": [
    {
     "name": "stdout",
     "output_type": "stream",
     "text": [
      "0.7599309153713298\n"
     ]
    }
   ],
   "source": [
    "print(f1_score(y_test, em.predict(X_test)))"
   ]
  },
  {
   "cell_type": "code",
   "execution_count": 61,
   "metadata": {},
   "outputs": [
    {
     "name": "stdout",
     "output_type": "stream",
     "text": [
      "[XGBClassifier(base_score=0.5, booster='gbtree', callbacks=None,\n",
      "              colsample_bylevel=1, colsample_bynode=1, colsample_bytree=0.8,\n",
      "              early_stopping_rounds=None, enable_categorical=False,\n",
      "              eval_metric=None, feature_types=None, gamma=0, gpu_id=-1,\n",
      "              grow_policy='depthwise', importance_type=None,\n",
      "              interaction_constraints='', learning_rate=0.1, max_bin=256,\n",
      "              max_cat_threshold=64, max_cat_to_onehot=4, max_delta_step=0,\n",
      "              max_depth=9, max_leaves=0, min_child_weight=1, missing=nan,\n",
      "              monotone_constraints='()', n_estimators=250, n_jobs=-1,\n",
      "              num_parallel_tree=1, predictor='auto', random_state=42, ...), SVC(C=2, gamma=0.6, max_iter=300, probability=True, random_state=42), MLPClassifier(alpha=0.05, hidden_layer_sizes=(100, 100, 100, 160, 180),\n",
      "              max_iter=350, random_state=42)]\n"
     ]
    }
   ],
   "source": [
    "print(em.clfs_)\n",
    "pickle.dump(em, open('models/curr_models/em-test.pkl', 'wb'))"
   ]
  },
  {
   "cell_type": "code",
   "execution_count": 13,
   "metadata": {},
   "outputs": [],
   "source": [
    "pickle.dump(em, open('models/curr_models/final_merged_stackingcv-2.pkl', 'wb'))"
   ]
  },
  {
   "cell_type": "code",
   "execution_count": 26,
   "metadata": {},
   "outputs": [
    {
     "name": "stdout",
     "output_type": "stream",
     "text": [
      "StackingCVClassifier\n"
     ]
    },
    {
     "name": "stderr",
     "output_type": "stream",
     "text": [
      "[Parallel(n_jobs=-1)]: Using backend LokyBackend with 10 concurrent workers.\n"
     ]
    },
    {
     "name": "stdout",
     "output_type": "stream",
     "text": [
      "Fitting 3 classifiers...Fitting 3 classifiers...\n",
      "\n",
      "Fitting 3 classifiers...Fitting 3 classifiers...Fitting 3 classifiers...\n",
      "\n",
      "\n",
      "Fitting 3 classifiers...Fitting 3 classifiers...\n",
      "\n",
      "Fitting 3 classifiers...\n",
      "Fitting classifier1: mlpclassifier (1/3)\n",
      "Fitting classifier1: mlpclassifier (1/3)\n",
      "Fitting classifier1: mlpclassifier (1/3)\n",
      "Fitting classifier1: mlpclassifier (1/3)\n",
      "Fitting classifier1: mlpclassifier (1/3)\n",
      "Fitting classifier1: mlpclassifier (1/3)\n",
      "Fitting classifier1: mlpclassifier (1/3)\n",
      "Fitting classifier1: mlpclassifier (1/3)\n",
      "Fitting 3 classifiers...\n",
      "Fitting 3 classifiers...\n",
      "Fitting classifier1: mlpclassifier (1/3)\n",
      "Fitting classifier1: mlpclassifier (1/3)\n"
     ]
    },
    {
     "name": "stderr",
     "output_type": "stream",
     "text": [
      "[Parallel(n_jobs=-1)]: Using backend ThreadingBackend with 10 concurrent workers.\n",
      "[Parallel(n_jobs=-1)]: Using backend ThreadingBackend with 10 concurrent workers.\n",
      "[Parallel(n_jobs=-1)]: Using backend ThreadingBackend with 10 concurrent workers.\n",
      "[Parallel(n_jobs=-1)]: Using backend ThreadingBackend with 10 concurrent workers.\n",
      "[Parallel(n_jobs=-1)]: Using backend ThreadingBackend with 10 concurrent workers.\n",
      "[Parallel(n_jobs=-1)]: Using backend ThreadingBackend with 10 concurrent workers.\n",
      "[Parallel(n_jobs=-1)]: Using backend ThreadingBackend with 10 concurrent workers.\n",
      "[Parallel(n_jobs=-1)]: Using backend ThreadingBackend with 10 concurrent workers.\n",
      "[Parallel(n_jobs=-1)]: Using backend ThreadingBackend with 10 concurrent workers.\n",
      "[Parallel(n_jobs=-1)]: Using backend ThreadingBackend with 10 concurrent workers.\n",
      "[Parallel(n_jobs=-1)]: Done   5 out of   5 | elapsed:  1.8min finished\n",
      "[Parallel(n_jobs=-1)]: Using backend ThreadingBackend with 10 concurrent workers.\n",
      "[Parallel(n_jobs=-1)]: Done   5 out of   5 | elapsed:  1.8min finished\n",
      "[Parallel(n_jobs=-1)]: Using backend ThreadingBackend with 10 concurrent workers.\n"
     ]
    },
    {
     "name": "stdout",
     "output_type": "stream",
     "text": [
      "Fitting classifier2: xgbclassifier (2/3)\n",
      "Fitting classifier2: xgbclassifier (2/3)\n"
     ]
    },
    {
     "name": "stderr",
     "output_type": "stream",
     "text": [
      "[Parallel(n_jobs=-1)]: Done   5 out of   5 | elapsed:  1.8min finished\n",
      "[Parallel(n_jobs=-1)]: Using backend ThreadingBackend with 10 concurrent workers.\n"
     ]
    },
    {
     "name": "stdout",
     "output_type": "stream",
     "text": [
      "Fitting classifier2: xgbclassifier (2/3)\n"
     ]
    },
    {
     "name": "stderr",
     "output_type": "stream",
     "text": [
      "[Parallel(n_jobs=-1)]: Done   5 out of   5 | elapsed:  1.8min finished\n",
      "[Parallel(n_jobs=-1)]: Using backend ThreadingBackend with 10 concurrent workers.\n"
     ]
    },
    {
     "name": "stdout",
     "output_type": "stream",
     "text": [
      "Fitting classifier2: xgbclassifier (2/3)\n"
     ]
    },
    {
     "name": "stderr",
     "output_type": "stream",
     "text": [
      "[Parallel(n_jobs=-1)]: Done   5 out of   5 | elapsed:  1.9min finished\n",
      "[Parallel(n_jobs=-1)]: Using backend ThreadingBackend with 10 concurrent workers.\n"
     ]
    },
    {
     "name": "stdout",
     "output_type": "stream",
     "text": [
      "Fitting classifier2: xgbclassifier (2/3)\n"
     ]
    },
    {
     "name": "stderr",
     "output_type": "stream",
     "text": [
      "[Parallel(n_jobs=-1)]: Done   5 out of   5 | elapsed:  1.9min finished\n",
      "[Parallel(n_jobs=-1)]: Using backend ThreadingBackend with 10 concurrent workers.\n"
     ]
    },
    {
     "name": "stdout",
     "output_type": "stream",
     "text": [
      "Fitting classifier2: xgbclassifier (2/3)\n"
     ]
    },
    {
     "name": "stderr",
     "output_type": "stream",
     "text": [
      "[Parallel(n_jobs=-1)]: Done   5 out of   5 | elapsed:  1.9min finished\n",
      "[Parallel(n_jobs=-1)]: Using backend ThreadingBackend with 10 concurrent workers.\n"
     ]
    },
    {
     "name": "stdout",
     "output_type": "stream",
     "text": [
      "Fitting classifier2: xgbclassifier (2/3)\n"
     ]
    },
    {
     "name": "stderr",
     "output_type": "stream",
     "text": [
      "[Parallel(n_jobs=-1)]: Done   5 out of   5 | elapsed:  2.0min finished\n",
      "[Parallel(n_jobs=-1)]: Using backend ThreadingBackend with 10 concurrent workers.\n"
     ]
    },
    {
     "name": "stdout",
     "output_type": "stream",
     "text": [
      "Fitting classifier2: xgbclassifier (2/3)\n"
     ]
    },
    {
     "name": "stderr",
     "output_type": "stream",
     "text": [
      "[Parallel(n_jobs=-1)]: Done   5 out of   5 | elapsed:  2.0min finished\n",
      "[Parallel(n_jobs=-1)]: Using backend ThreadingBackend with 10 concurrent workers.\n"
     ]
    },
    {
     "name": "stdout",
     "output_type": "stream",
     "text": [
      "Fitting classifier2: xgbclassifier (2/3)\n"
     ]
    },
    {
     "name": "stderr",
     "output_type": "stream",
     "text": [
      "[Parallel(n_jobs=-1)]: Done   5 out of   5 | elapsed:  2.1min finished\n",
      "[Parallel(n_jobs=-1)]: Using backend ThreadingBackend with 10 concurrent workers.\n"
     ]
    },
    {
     "name": "stdout",
     "output_type": "stream",
     "text": [
      "Fitting classifier2: xgbclassifier (2/3)\n"
     ]
    },
    {
     "name": "stderr",
     "output_type": "stream",
     "text": [
      "[Parallel(n_jobs=-1)]: Done   5 out of   5 | elapsed:  3.9min finished\n",
      "[Parallel(n_jobs=-1)]: Using backend ThreadingBackend with 10 concurrent workers.\n"
     ]
    },
    {
     "name": "stdout",
     "output_type": "stream",
     "text": [
      "Fitting classifier3: svc (3/3)\n"
     ]
    },
    {
     "name": "stderr",
     "output_type": "stream",
     "text": [
      "[Parallel(n_jobs=-1)]: Done   5 out of   5 | elapsed:  3.9min finished\n",
      "[Parallel(n_jobs=-1)]: Using backend ThreadingBackend with 10 concurrent workers.\n"
     ]
    },
    {
     "name": "stdout",
     "output_type": "stream",
     "text": [
      "Fitting classifier3: svc (3/3)\n"
     ]
    },
    {
     "name": "stderr",
     "output_type": "stream",
     "text": [
      "[Parallel(n_jobs=-1)]: Done   5 out of   5 | elapsed:  3.9min finished\n",
      "[Parallel(n_jobs=-1)]: Using backend ThreadingBackend with 10 concurrent workers.\n"
     ]
    },
    {
     "name": "stdout",
     "output_type": "stream",
     "text": [
      "Fitting classifier3: svc (3/3)\n"
     ]
    },
    {
     "name": "stderr",
     "output_type": "stream",
     "text": [
      "[Parallel(n_jobs=-1)]: Done   5 out of   5 | elapsed:  3.9min finished\n",
      "[Parallel(n_jobs=-1)]: Using backend ThreadingBackend with 10 concurrent workers.\n"
     ]
    },
    {
     "name": "stdout",
     "output_type": "stream",
     "text": [
      "Fitting classifier3: svc (3/3)\n"
     ]
    },
    {
     "name": "stderr",
     "output_type": "stream",
     "text": [
      "[Parallel(n_jobs=-1)]: Done   5 out of   5 | elapsed:  4.0min finished\n",
      "[Parallel(n_jobs=-1)]: Using backend ThreadingBackend with 10 concurrent workers.\n"
     ]
    },
    {
     "name": "stdout",
     "output_type": "stream",
     "text": [
      "Fitting classifier3: svc (3/3)\n"
     ]
    },
    {
     "name": "stderr",
     "output_type": "stream",
     "text": [
      "[Parallel(n_jobs=-1)]: Done   5 out of   5 | elapsed:  4.0min finished\n",
      "[Parallel(n_jobs=-1)]: Using backend ThreadingBackend with 10 concurrent workers.\n"
     ]
    },
    {
     "name": "stdout",
     "output_type": "stream",
     "text": [
      "Fitting classifier3: svc (3/3)\n"
     ]
    },
    {
     "name": "stderr",
     "output_type": "stream",
     "text": [
      "[Parallel(n_jobs=-1)]: Done   5 out of   5 | elapsed:  4.0min finished\n",
      "[Parallel(n_jobs=-1)]: Using backend ThreadingBackend with 10 concurrent workers.\n"
     ]
    },
    {
     "name": "stdout",
     "output_type": "stream",
     "text": [
      "Fitting classifier3: svc (3/3)\n"
     ]
    },
    {
     "name": "stderr",
     "output_type": "stream",
     "text": [
      "[Parallel(n_jobs=-1)]: Done   5 out of   5 | elapsed:  4.1min finished\n",
      "[Parallel(n_jobs=-1)]: Using backend ThreadingBackend with 10 concurrent workers.\n"
     ]
    },
    {
     "name": "stdout",
     "output_type": "stream",
     "text": [
      "Fitting classifier3: svc (3/3)\n"
     ]
    },
    {
     "name": "stderr",
     "output_type": "stream",
     "text": [
      "[Parallel(n_jobs=-1)]: Done   5 out of   5 | elapsed:  4.1min finished\n",
      "[Parallel(n_jobs=-1)]: Using backend ThreadingBackend with 10 concurrent workers.\n"
     ]
    },
    {
     "name": "stdout",
     "output_type": "stream",
     "text": [
      "Fitting classifier3: svc (3/3)\n"
     ]
    },
    {
     "name": "stderr",
     "output_type": "stream",
     "text": [
      "[Parallel(n_jobs=-1)]: Done   5 out of   5 | elapsed:  4.2min finished\n",
      "[Parallel(n_jobs=-1)]: Using backend ThreadingBackend with 10 concurrent workers.\n"
     ]
    },
    {
     "name": "stdout",
     "output_type": "stream",
     "text": [
      "Fitting classifier3: svc (3/3)\n"
     ]
    },
    {
     "name": "stderr",
     "output_type": "stream",
     "text": [
      "[Parallel(n_jobs=-1)]: Done   5 out of   5 | elapsed:  6.3min finished\n",
      "[Parallel(n_jobs=-1)]: Done   5 out of   5 | elapsed:  6.4min finished\n",
      "[Parallel(n_jobs=-1)]: Done   5 out of   5 | elapsed:  6.5min finished\n",
      "[Parallel(n_jobs=-1)]: Done   5 out of   5 | elapsed:  6.5min finished\n",
      "[Parallel(n_jobs=-1)]: Done   5 out of   5 | elapsed:  6.5min finished\n",
      "[Parallel(n_jobs=-1)]: Done   5 out of   5 | elapsed:  6.7min finished\n",
      "[Parallel(n_jobs=-1)]: Done   5 out of   5 | elapsed:  6.6min finished\n",
      "[Parallel(n_jobs=-1)]: Done   5 out of   5 | elapsed:  6.8min finished\n",
      "[Parallel(n_jobs=-1)]: Done   5 out of   5 | elapsed:  6.8min finished\n",
      "[Parallel(n_jobs=-1)]: Done   5 out of   5 | elapsed:  6.7min finished\n"
     ]
    },
    {
     "name": "stdout",
     "output_type": "stream",
     "text": [
      "Fitting 3 classifiers...\n",
      "Fitting classifier1: mlpclassifier (1/3)\n"
     ]
    },
    {
     "name": "stderr",
     "output_type": "stream",
     "text": [
      "[Parallel(n_jobs=-1)]: Using backend ThreadingBackend with 10 concurrent workers.\n"
     ]
    },
    {
     "name": "stdout",
     "output_type": "stream",
     "text": [
      "Fitting 3 classifiers...\n",
      "Fitting classifier1: mlpclassifier (1/3)\n"
     ]
    },
    {
     "name": "stderr",
     "output_type": "stream",
     "text": [
      "[Parallel(n_jobs=-1)]: Using backend ThreadingBackend with 10 concurrent workers.\n"
     ]
    },
    {
     "name": "stdout",
     "output_type": "stream",
     "text": [
      "Fitting 3 classifiers...\n",
      "Fitting classifier1: mlpclassifier (1/3)\n"
     ]
    },
    {
     "name": "stderr",
     "output_type": "stream",
     "text": [
      "[Parallel(n_jobs=-1)]: Using backend ThreadingBackend with 10 concurrent workers.\n"
     ]
    },
    {
     "name": "stdout",
     "output_type": "stream",
     "text": [
      "Fitting 3 classifiers...\n",
      "Fitting classifier1: mlpclassifier (1/3)\n"
     ]
    },
    {
     "name": "stderr",
     "output_type": "stream",
     "text": [
      "[Parallel(n_jobs=-1)]: Using backend ThreadingBackend with 10 concurrent workers.\n"
     ]
    },
    {
     "name": "stdout",
     "output_type": "stream",
     "text": [
      "Fitting 3 classifiers...\n",
      "Fitting classifier1: mlpclassifier (1/3)\n"
     ]
    },
    {
     "name": "stderr",
     "output_type": "stream",
     "text": [
      "[Parallel(n_jobs=-1)]: Using backend ThreadingBackend with 10 concurrent workers.\n",
      "[Parallel(n_jobs=-1)]: Done   5 out of   5 | elapsed:  1.2min finished\n",
      "[Parallel(n_jobs=-1)]: Using backend ThreadingBackend with 10 concurrent workers.\n"
     ]
    },
    {
     "name": "stdout",
     "output_type": "stream",
     "text": [
      "Fitting classifier2: xgbclassifier (2/3)\n"
     ]
    },
    {
     "name": "stderr",
     "output_type": "stream",
     "text": [
      "[Parallel(n_jobs=-1)]: Done   5 out of   5 | elapsed:  1.4min finished\n",
      "[Parallel(n_jobs=-1)]: Using backend ThreadingBackend with 10 concurrent workers.\n"
     ]
    },
    {
     "name": "stdout",
     "output_type": "stream",
     "text": [
      "Fitting classifier2: xgbclassifier (2/3)\n"
     ]
    },
    {
     "name": "stderr",
     "output_type": "stream",
     "text": [
      "[Parallel(n_jobs=-1)]: Done   5 out of   5 | elapsed:  1.3min finished\n",
      "[Parallel(n_jobs=-1)]: Using backend ThreadingBackend with 10 concurrent workers.\n"
     ]
    },
    {
     "name": "stdout",
     "output_type": "stream",
     "text": [
      "Fitting classifier2: xgbclassifier (2/3)\n"
     ]
    },
    {
     "name": "stderr",
     "output_type": "stream",
     "text": [
      "[Parallel(n_jobs=-1)]: Done   5 out of   5 | elapsed:  1.3min finished\n",
      "[Parallel(n_jobs=-1)]: Using backend ThreadingBackend with 10 concurrent workers.\n"
     ]
    },
    {
     "name": "stdout",
     "output_type": "stream",
     "text": [
      "Fitting classifier2: xgbclassifier (2/3)\n"
     ]
    },
    {
     "name": "stderr",
     "output_type": "stream",
     "text": [
      "[Parallel(n_jobs=-1)]: Done   5 out of   5 | elapsed:  1.4min finished\n",
      "[Parallel(n_jobs=-1)]: Using backend ThreadingBackend with 10 concurrent workers.\n"
     ]
    },
    {
     "name": "stdout",
     "output_type": "stream",
     "text": [
      "Fitting classifier2: xgbclassifier (2/3)\n"
     ]
    },
    {
     "name": "stderr",
     "output_type": "stream",
     "text": [
      "[Parallel(n_jobs=-1)]: Done   5 out of   5 | elapsed:  1.8min finished\n",
      "[Parallel(n_jobs=-1)]: Using backend ThreadingBackend with 10 concurrent workers.\n"
     ]
    },
    {
     "name": "stdout",
     "output_type": "stream",
     "text": [
      "Fitting classifier3: svc (3/3)\n"
     ]
    },
    {
     "name": "stderr",
     "output_type": "stream",
     "text": [
      "[Parallel(n_jobs=-1)]: Done   5 out of   5 | elapsed:  2.0min finished\n",
      "[Parallel(n_jobs=-1)]: Using backend ThreadingBackend with 10 concurrent workers.\n"
     ]
    },
    {
     "name": "stdout",
     "output_type": "stream",
     "text": [
      "Fitting classifier3: svc (3/3)\n"
     ]
    },
    {
     "name": "stderr",
     "output_type": "stream",
     "text": [
      "[Parallel(n_jobs=-1)]: Done   5 out of   5 | elapsed:  2.0min finished\n",
      "[Parallel(n_jobs=-1)]: Using backend ThreadingBackend with 10 concurrent workers.\n"
     ]
    },
    {
     "name": "stdout",
     "output_type": "stream",
     "text": [
      "Fitting classifier3: svc (3/3)\n"
     ]
    },
    {
     "name": "stderr",
     "output_type": "stream",
     "text": [
      "[Parallel(n_jobs=-1)]: Done   5 out of   5 | elapsed:  2.1min finished\n",
      "[Parallel(n_jobs=-1)]: Using backend ThreadingBackend with 10 concurrent workers.\n"
     ]
    },
    {
     "name": "stdout",
     "output_type": "stream",
     "text": [
      "Fitting classifier3: svc (3/3)\n"
     ]
    },
    {
     "name": "stderr",
     "output_type": "stream",
     "text": [
      "[Parallel(n_jobs=-1)]: Done   5 out of   5 | elapsed:  2.1min finished\n",
      "[Parallel(n_jobs=-1)]: Using backend ThreadingBackend with 10 concurrent workers.\n"
     ]
    },
    {
     "name": "stdout",
     "output_type": "stream",
     "text": [
      "Fitting classifier3: svc (3/3)\n"
     ]
    },
    {
     "name": "stderr",
     "output_type": "stream",
     "text": [
      "[Parallel(n_jobs=-1)]: Done   5 out of   5 | elapsed:  2.5min finished\n",
      "[Parallel(n_jobs=-1)]: Done   5 out of   5 | elapsed:  3.0min finished\n",
      "[Parallel(n_jobs=-1)]: Done   5 out of   5 | elapsed:  3.1min finished\n",
      "[Parallel(n_jobs=-1)]: Done   5 out of   5 | elapsed:  3.0min finished\n",
      "[Parallel(n_jobs=-1)]: Done   5 out of   5 | elapsed:  3.0min finished\n",
      "[Parallel(n_jobs=-1)]: Done  12 out of  15 | elapsed: 24.8min remaining:  6.2min\n"
     ]
    },
    {
     "name": "stdout",
     "output_type": "stream",
     "text": [
      "Accuracy: 0.941 (0.004)\n",
      "0.941\n"
     ]
    },
    {
     "name": "stderr",
     "output_type": "stream",
     "text": [
      "[Parallel(n_jobs=-1)]: Done  15 out of  15 | elapsed: 25.3min finished\n"
     ]
    }
   ],
   "source": [
    "print(validation_utils.cross_validate(em, X, y)) # 0.941"
   ]
  },
  {
   "cell_type": "code",
   "execution_count": 5,
   "metadata": {},
   "outputs": [
    {
     "name": "stdout",
     "output_type": "stream",
     "text": [
      "Fitting 3 classifiers...\n",
      "Fitting classifier1: mlpclassifier (1/3)\n"
     ]
    },
    {
     "name": "stderr",
     "output_type": "stream",
     "text": [
      "[Parallel(n_jobs=-1)]: Using backend LokyBackend with 10 concurrent workers.\n",
      "[Parallel(n_jobs=-1)]: Done   5 out of   5 | elapsed:   18.3s finished\n",
      "[Parallel(n_jobs=-1)]: Using backend LokyBackend with 10 concurrent workers.\n"
     ]
    },
    {
     "name": "stdout",
     "output_type": "stream",
     "text": [
      "Fitting classifier2: xgbclassifier (2/3)\n"
     ]
    },
    {
     "name": "stderr",
     "output_type": "stream",
     "text": [
      "[Parallel(n_jobs=-1)]: Done   5 out of   5 | elapsed:   40.6s finished\n",
      "[Parallel(n_jobs=-1)]: Using backend LokyBackend with 10 concurrent workers.\n"
     ]
    },
    {
     "name": "stdout",
     "output_type": "stream",
     "text": [
      "Fitting classifier3: svc (3/3)\n"
     ]
    },
    {
     "name": "stderr",
     "output_type": "stream",
     "text": [
      "[Parallel(n_jobs=-1)]: Done   5 out of   5 | elapsed:   16.2s finished\n",
      "/Users/benjaminli/opt/miniconda3/envs/seq/lib/python3.8/site-packages/sklearn/neural_network/_multilayer_perceptron.py:709: UserWarning: Training interrupted by user.\n",
      "  warnings.warn(\"Training interrupted by user.\")\n"
     ]
    },
    {
     "name": "stdout",
     "output_type": "stream",
     "text": [
      "fit done\n",
      "auc split:  0.9536507936507935\n",
      "Fitting 3 classifiers...\n",
      "Fitting classifier1: mlpclassifier (1/3)\n"
     ]
    },
    {
     "name": "stderr",
     "output_type": "stream",
     "text": [
      "[Parallel(n_jobs=-1)]: Using backend LokyBackend with 10 concurrent workers.\n",
      "[Parallel(n_jobs=-1)]: Done   5 out of   5 | elapsed:   18.5s finished\n",
      "[Parallel(n_jobs=-1)]: Using backend LokyBackend with 10 concurrent workers.\n"
     ]
    },
    {
     "name": "stdout",
     "output_type": "stream",
     "text": [
      "Fitting classifier2: xgbclassifier (2/3)\n"
     ]
    },
    {
     "name": "stderr",
     "output_type": "stream",
     "text": [
      "[Parallel(n_jobs=-1)]: Done   5 out of   5 | elapsed:   41.1s finished\n",
      "[Parallel(n_jobs=-1)]: Using backend LokyBackend with 10 concurrent workers.\n"
     ]
    },
    {
     "name": "stdout",
     "output_type": "stream",
     "text": [
      "Fitting classifier3: svc (3/3)\n"
     ]
    },
    {
     "name": "stderr",
     "output_type": "stream",
     "text": [
      "[Parallel(n_jobs=-1)]: Done   5 out of   5 | elapsed:   16.5s finished\n"
     ]
    },
    {
     "name": "stdout",
     "output_type": "stream",
     "text": [
      "fit done\n",
      "auc split:  0.9532295482295483\n",
      "Fitting 3 classifiers...\n",
      "Fitting classifier1: mlpclassifier (1/3)\n"
     ]
    },
    {
     "name": "stderr",
     "output_type": "stream",
     "text": [
      "[Parallel(n_jobs=-1)]: Using backend LokyBackend with 10 concurrent workers.\n",
      "[Parallel(n_jobs=-1)]: Done   5 out of   5 | elapsed:   20.7s finished\n",
      "[Parallel(n_jobs=-1)]: Using backend LokyBackend with 10 concurrent workers.\n"
     ]
    },
    {
     "name": "stdout",
     "output_type": "stream",
     "text": [
      "Fitting classifier2: xgbclassifier (2/3)\n"
     ]
    },
    {
     "name": "stderr",
     "output_type": "stream",
     "text": [
      "[Parallel(n_jobs=-1)]: Done   5 out of   5 | elapsed:   40.5s finished\n",
      "[Parallel(n_jobs=-1)]: Using backend LokyBackend with 10 concurrent workers.\n"
     ]
    },
    {
     "name": "stdout",
     "output_type": "stream",
     "text": [
      "Fitting classifier3: svc (3/3)\n"
     ]
    },
    {
     "name": "stderr",
     "output_type": "stream",
     "text": [
      "[Parallel(n_jobs=-1)]: Done   5 out of   5 | elapsed:   16.7s finished\n"
     ]
    },
    {
     "name": "stdout",
     "output_type": "stream",
     "text": [
      "fit done\n",
      "auc split:  0.9483717401612137\n",
      "Fitting 3 classifiers...\n",
      "Fitting classifier1: mlpclassifier (1/3)\n"
     ]
    },
    {
     "name": "stderr",
     "output_type": "stream",
     "text": [
      "[Parallel(n_jobs=-1)]: Using backend LokyBackend with 10 concurrent workers.\n",
      "[Parallel(n_jobs=-1)]: Done   5 out of   5 | elapsed:   17.8s finished\n",
      "[Parallel(n_jobs=-1)]: Using backend LokyBackend with 10 concurrent workers.\n"
     ]
    },
    {
     "name": "stdout",
     "output_type": "stream",
     "text": [
      "Fitting classifier2: xgbclassifier (2/3)\n"
     ]
    },
    {
     "name": "stderr",
     "output_type": "stream",
     "text": [
      "[Parallel(n_jobs=-1)]: Done   5 out of   5 | elapsed:   40.6s finished\n",
      "[Parallel(n_jobs=-1)]: Using backend LokyBackend with 10 concurrent workers.\n"
     ]
    },
    {
     "name": "stdout",
     "output_type": "stream",
     "text": [
      "Fitting classifier3: svc (3/3)\n"
     ]
    },
    {
     "name": "stderr",
     "output_type": "stream",
     "text": [
      "[Parallel(n_jobs=-1)]: Done   5 out of   5 | elapsed:   16.4s finished\n"
     ]
    },
    {
     "name": "stdout",
     "output_type": "stream",
     "text": [
      "fit done\n",
      "auc split:  0.9596184492581937\n",
      "Fitting 3 classifiers...\n",
      "Fitting classifier1: mlpclassifier (1/3)\n"
     ]
    },
    {
     "name": "stderr",
     "output_type": "stream",
     "text": [
      "[Parallel(n_jobs=-1)]: Using backend LokyBackend with 10 concurrent workers.\n",
      "[Parallel(n_jobs=-1)]: Done   5 out of   5 | elapsed:   21.3s finished\n",
      "[Parallel(n_jobs=-1)]: Using backend LokyBackend with 10 concurrent workers.\n"
     ]
    },
    {
     "name": "stdout",
     "output_type": "stream",
     "text": [
      "Fitting classifier2: xgbclassifier (2/3)\n"
     ]
    },
    {
     "name": "stderr",
     "output_type": "stream",
     "text": [
      "[Parallel(n_jobs=-1)]: Done   5 out of   5 | elapsed:   40.4s finished\n",
      "[Parallel(n_jobs=-1)]: Using backend LokyBackend with 10 concurrent workers.\n"
     ]
    },
    {
     "name": "stdout",
     "output_type": "stream",
     "text": [
      "Fitting classifier3: svc (3/3)\n"
     ]
    },
    {
     "name": "stderr",
     "output_type": "stream",
     "text": [
      "[Parallel(n_jobs=-1)]: Done   5 out of   5 | elapsed:   15.9s finished\n"
     ]
    },
    {
     "name": "stdout",
     "output_type": "stream",
     "text": [
      "fit done\n",
      "auc split:  0.9508494144812799\n",
      "0.9531439891562059\n"
     ]
    },
    {
     "data": {
      "image/png": "[encoded data removed]",
      "text/plain": [
       "<Figure size 640x480 with 1 Axes>"
      ]
     },
     "metadata": {},
     "output_type": "display_data"
    },
    {
     "name": "stdout",
     "output_type": "stream",
     "text": [
      "None\n"
     ]
    }
   ],
   "source": [
    "print(validation_utils.draw_avg_roc_curve(em,\"ensemble\", X, y))"
   ]
  },
  {
   "cell_type": "code",
   "execution_count": null,
   "metadata": {},
   "outputs": [],
   "source": [
    "# print(validation_utils.cross_validate(em, X_test, y_test))\n",
    "# model, name, X, y\n",
    "ds = datasets['merged'][f'normalized-4']\n",
    "\n",
    "X_train, y_train, X_test, y_test = ds['X_train'], ds['y_train'], ds['X_test'], ds['y_test']\n",
    "\n",
    "X = pd.concat([X_train, X_test])\n",
    "y = np.concatenate([ds['y_train'], ds['y_test']], axis=0)\n",
    "\n",
    "print(validation_utils.draw_avg_roc_curve(em, \"ensemble\", X, y))"
   ]
  },
  {
   "cell_type": "code",
   "execution_count": 39,
   "metadata": {},
   "outputs": [
    {
     "name": "stderr",
     "output_type": "stream",
     "text": [
      "/Users/benjaminli/opt/miniconda3/envs/seq/lib/python3.8/site-packages/sklearn/neural_network/_multilayer_perceptron.py:709: UserWarning: Training interrupted by user.\n",
      "  warnings.warn(\"Training interrupted by user.\")\n"
     ]
    }
   ],
   "source": [
    "ds = datasets['merged'][f'normalized-4']\n",
    "\n",
    "X_train, y_train, X_test, y_test = ds['X_train'], ds['y_train'], ds['X_test'], ds['y_test']\n",
    "\n",
    "X = pd.concat([X_train, X_test])\n",
    "y = np.concatenate([ds['y_train'], ds['y_test']], axis=0)\n",
    "\n",
    "print(validation_utils.draw_avg_roc_curve(em, \"ensemble\", X, y))"
   ]
  },
  {
   "cell_type": "code",
   "execution_count": 4,
   "metadata": {},
   "outputs": [],
   "source": [
    "# models = OrderedDict({\n",
    "#     'zhang_GBM': zhang_GBM.best_estimator_,\n",
    "#     'zhang_knn': zhang_knn,\n",
    "#     'zhang_randforest': zhang_randforest,\n",
    "#     'zhang_svm': zhang_svm,\n",
    "#     'zhang_xgboost': zhang_xgboost,\n",
    "#     'zhang_mlp': zhang_mlp,\n",
    "#     'zhang_lr': zhang_lr,\n",
    "#     # 'nardus_GBM': nardus_GBM,\n",
    "#     'merged_GBM': merged_GBM.best_estimator_,\n",
    "#     'merged_ensemble': em.best_estimator_\n",
    "# })\n",
    "\n",
    "bestandworst = OrderedDict({\n",
    "    'KNN': knn, # 87.6%, \n",
    "    'Random Forest': randforest, # 88.7%\n",
    "    # 'svm': svm, # 92.9%\n",
    "    # 'mlp': mlp, # 93.0%\n",
    "    # 'xgboost': xgboost.best_estimator_, # 93.4%\n",
    "    'Ensemble': em # 94.1%\n",
    "})\n"
   ]
  },
  {
   "attachments": {},
   "cell_type": "markdown",
   "metadata": {},
   "source": [
    "### Validate models on the merged dataset"
   ]
  },
  {
   "cell_type": "code",
   "execution_count": 10,
   "metadata": {},
   "outputs": [],
   "source": [
    "# print(validation_utils.cross_validate(zhang_knn, X, y)) # 0.884\n",
    "# print(validation_utils.cross_validate(zhang_randforest, X, y)) # 0.896\n",
    "# print(validation_utils.cross_validate(zhang_svm, X, y)) # 0.93\n",
    "# print(validation_utils.cross_validate(zhang_mlp, X, y)) # 0.935\n",
    "# print(validation_utils.cross_validate(merged_GBM.best_estimator_, X, y)) # 0.938\n",
    "# print(validation_utils.cross_validate(em.best_estimator_, X, y)) # 0.943 accuracy\n",
    "\n",
    "scores_merged, scores_nardus, scores_zhang = [], [], []\n",
    "kmer = 4"
   ]
  },
  {
   "cell_type": "code",
   "execution_count": null,
   "metadata": {},
   "outputs": [],
   "source": [
    "ds = datasets['merged'][f'normalized-{kmer}']\n",
    "\n",
    "# this one is trained on only the nardus one\n",
    "\n",
    "\"\"\"\n",
    "{'learning_rate': 0.15, 'max_depth': 8, 'max_features': 3, 'min_samples_split': 30, 'n_estimators': 130, 'subsample': 0.8}\n",
    "\"\"\"\n",
    "X_train, y_train, X_test, y_test = ds['X_train'], ds['y_train'], ds['X_test'], ds['y_test']\n",
    "X = pd.concat([X_train, X_test])\n",
    "y = np.concatenate([y_train, y_test], axis=0)\n",
    "x=0\n",
    "for modelName in bestandworst.keys():\n",
    "    if x == 6: break\n",
    "    print(modelName)\n",
    "    scores_merged.append(validation_utils.cross_validate(bestandworst[modelName], X, y))\n",
    "    x+=1"
   ]
  },
  {
   "cell_type": "code",
   "execution_count": 15,
   "metadata": {},
   "outputs": [
    {
     "name": "stdout",
     "output_type": "stream",
     "text": [
      "XGBClassifier\n",
      "xgboost\n"
     ]
    },
    {
     "name": "stderr",
     "output_type": "stream",
     "text": [
      "[Parallel(n_jobs=-1)]: Using backend LokyBackend with 10 concurrent workers.\n",
      "[Parallel(n_jobs=-1)]: Done  12 out of  15 | elapsed:  1.9min remaining:   28.2s\n"
     ]
    },
    {
     "name": "stdout",
     "output_type": "stream",
     "text": [
      "Accuracy: 0.952 (0.005)\n",
      "0.952\n"
     ]
    },
    {
     "name": "stderr",
     "output_type": "stream",
     "text": [
      "[Parallel(n_jobs=-1)]: Done  15 out of  15 | elapsed:  1.9min finished\n"
     ]
    }
   ],
   "source": [
    "print(validation_utils.cross_validate(xgboost.best_estimator_, X, y, scoring='roc_auc'))"
   ]
  },
  {
   "cell_type": "code",
   "execution_count": 9,
   "metadata": {},
   "outputs": [
    {
     "ename": "NameError",
     "evalue": "name 'scores_merged' is not defined",
     "output_type": "error",
     "traceback": [
      "\u001b[0;31m---------------------------------------------------------------------------\u001b[0m",
      "\u001b[0;31mNameError\u001b[0m                                 Traceback (most recent call last)",
      "\u001b[1;32m/Users/benjaminli/Documents/coding/scires/project/train_and_vis/models.ipynb Cell 40\u001b[0m in \u001b[0;36m<cell line: 1>\u001b[0;34m()\u001b[0m\n\u001b[0;32m----> <a href='vscode-notebook-cell:/Users/benjaminli/Documents/coding/scires/project/train_and_vis/models.ipynb#X50sZmlsZQ%3D%3D?line=0'>1</a>\u001b[0m \u001b[39mprint\u001b[39m(scores_merged)\n",
      "\u001b[0;31mNameError\u001b[0m: name 'scores_merged' is not defined"
     ]
    }
   ],
   "source": [
    "print(scores_merged)"
   ]
  },
  {
   "attachments": {},
   "cell_type": "markdown",
   "metadata": {},
   "source": [
    "### Validate models on only zhang dataset"
   ]
  },
  {
   "cell_type": "code",
   "execution_count": 12,
   "metadata": {},
   "outputs": [
    {
     "name": "stdout",
     "output_type": "stream",
     "text": [
      "zhang_knn\n",
      "BalancedBaggingClassifier\n"
     ]
    },
    {
     "name": "stderr",
     "output_type": "stream",
     "text": [
      "[Parallel(n_jobs=-1)]: Using backend LokyBackend with 10 concurrent workers.\n",
      "[Parallel(n_jobs=-1)]: Done  30 out of  30 | elapsed:    3.5s finished\n"
     ]
    },
    {
     "name": "stdout",
     "output_type": "stream",
     "text": [
      "Accuracy: 0.866 (0.031)\n",
      "tn: 1259, fp: 359, fn: 228, tp: 20\n",
      "zhang_randforest\n",
      "BalancedBaggingClassifier\n"
     ]
    },
    {
     "name": "stderr",
     "output_type": "stream",
     "text": [
      "[Parallel(n_jobs=-1)]: Using backend LokyBackend with 10 concurrent workers.\n",
      "[Parallel(n_jobs=-1)]: Done  30 out of  30 | elapsed:    0.4s finished\n",
      "[Parallel(n_jobs=-1)]: Using backend LokyBackend with 10 concurrent workers.\n"
     ]
    },
    {
     "name": "stdout",
     "output_type": "stream",
     "text": [
      "Accuracy: 0.906 (0.023)\n",
      "tn: 1600, fp: 18, fn: 248, tp: 0\n",
      "merged_GBM\n",
      "GradientBoostingClassifier\n",
      "gradboost\n"
     ]
    },
    {
     "name": "stderr",
     "output_type": "stream",
     "text": [
      "[Parallel(n_jobs=-1)]: Done  30 out of  30 | elapsed:    1.8s finished\n",
      "[Parallel(n_jobs=-1)]: Using backend LokyBackend with 10 concurrent workers.\n"
     ]
    },
    {
     "name": "stdout",
     "output_type": "stream",
     "text": [
      "Accuracy: 0.947 (0.015)\n",
      "tn: 1616, fp: 2, fn: 33, tp: 215\n",
      "merged_ensemble\n",
      "StackingCVClassifier\n"
     ]
    },
    {
     "name": "stderr",
     "output_type": "stream",
     "text": [
      "[Parallel(n_jobs=-1)]: Done  30 out of  30 | elapsed:  2.5min finished\n"
     ]
    },
    {
     "name": "stdout",
     "output_type": "stream",
     "text": [
      "Accuracy: 0.942 (0.014)\n",
      "tn: 1601, fp: 17, fn: 9, tp: 239\n"
     ]
    }
   ],
   "source": [
    "# only zhang new\n",
    "# parameters={\n",
    "#    'n_estimators': 120, 'max_features': 2, 'max_depth': 6, 'random_state': 0, 'min_sample_split': 50, 'subsample': 0.8, 'learning_rate': 0.3\n",
    "# }\n",
    "# onlyzhanggradBoost = GradientBoostingClassifier(n_estimators=parameters['n_estimators'], \n",
    "#     learning_rate=0.3, max_features=parameters['max_features'], \n",
    "#     max_depth=parameters['max_depth'], random_state=parameters['random_state'], \n",
    "#     min_samples_split=parameters['min_sample_split'], subsample=parameters['subsample']\n",
    "# )\n",
    "\n",
    "# onlyzhanggradBoost.fit(X_train, y_train)\n",
    "# print(validation_utils.cross_validate(onlyzhanggradBoost, X_test, y_test))\n",
    "\n",
    "ds = datasets['zhang'][f'normalized-{kmer}']\n",
    "\n",
    "X_train, y_train, X_test, y_test = ds['X_train'], ds['y_train'], ds['X_test'], ds['y_test']\n",
    "for modelName in bestandworst:\n",
    "    print(modelName)\n",
    "    scores_zhang.append(validation_utils.cross_validate(bestandworst[modelName], X_test, y_test))"
   ]
  },
  {
   "cell_type": "code",
   "execution_count": 45,
   "metadata": {},
   "outputs": [
    {
     "name": "stdout",
     "output_type": "stream",
     "text": [
      "[]\n"
     ]
    }
   ],
   "source": [
    "print(scores_zhang)"
   ]
  },
  {
   "attachments": {},
   "cell_type": "markdown",
   "metadata": {},
   "source": [
    "### Validate models only on nardus dataset"
   ]
  },
  {
   "cell_type": "code",
   "execution_count": null,
   "metadata": {},
   "outputs": [],
   "source": [
    "ds = datasets['nardus'][f'normalized-{kmer}']\n",
    "\n",
    "X_train, y_train, X_test, y_test = ds['X_train'], ds['y_train'], ds['X_test'], ds['y_test']\n",
    "print(\"acc on nardus\")\n",
    "\n",
    "parameters={\n",
    "   'n_estimators': 120, 'max_features': 2, 'max_depth': 6, 'random_state': 0, 'min_sample_split': 50, 'subsample': 0.8, 'learning_rate': 0.3\n",
    "}\n",
    "\n",
    "param_test1 = {'n_estimators':range(100,140,10), 'learning_rate':[0.1,0.15,0.2], 'subsample':[0.8,0.85,0.9], 'max_depth':range(6,9,1), 'min_samples_split':range(10,40,10), 'max_features':range(2, 5)}\n",
    "\n",
    "onlynardgradBoost = GridSearchCV(estimator = GradientBoostingClassifier(\n",
    "    n_estimators=parameters['n_estimators'], max_features=parameters['max_features'], random_state=parameters['random_state']), \n",
    "param_grid = param_test1, scoring='roc_auc',n_jobs=-1, cv=5, verbose=10)\n",
    "\n",
    "onlynardgradBoost.fit(X_train, y_train)"
   ]
  },
  {
   "cell_type": "code",
   "execution_count": 30,
   "metadata": {},
   "outputs": [],
   "source": [
    "pickle.dump(onlynardgradBoost, open('models/curr_models/onlynardgradBoost.pkl', 'wb'))"
   ]
  },
  {
   "cell_type": "code",
   "execution_count": 13,
   "metadata": {},
   "outputs": [
    {
     "name": "stdout",
     "output_type": "stream",
     "text": [
      "zhang_knn\n",
      "BalancedBaggingClassifier\n"
     ]
    },
    {
     "name": "stderr",
     "output_type": "stream",
     "text": [
      "[Parallel(n_jobs=-1)]: Using backend LokyBackend with 10 concurrent workers.\n",
      "[Parallel(n_jobs=-1)]: Done  30 out of  30 | elapsed:    0.2s finished\n",
      "[Parallel(n_jobs=-1)]: Using backend LokyBackend with 10 concurrent workers.\n"
     ]
    },
    {
     "name": "stdout",
     "output_type": "stream",
     "text": [
      "Accuracy: 0.668 (0.085)\n",
      "tn: 237, fp: 43, fn: 81, tp: 9\n",
      "zhang_randforest\n",
      "BalancedBaggingClassifier\n"
     ]
    },
    {
     "name": "stderr",
     "output_type": "stream",
     "text": [
      "[Parallel(n_jobs=-1)]: Done  30 out of  30 | elapsed:    0.2s finished\n",
      "[Parallel(n_jobs=-1)]: Using backend LokyBackend with 10 concurrent workers.\n"
     ]
    },
    {
     "name": "stdout",
     "output_type": "stream",
     "text": [
      "Accuracy: 0.657 (0.071)\n",
      "tn: 279, fp: 1, fn: 90, tp: 0\n",
      "merged_GBM\n",
      "GradientBoostingClassifier\n",
      "gradboost\n"
     ]
    },
    {
     "name": "stderr",
     "output_type": "stream",
     "text": [
      "[Parallel(n_jobs=-1)]: Done  30 out of  30 | elapsed:    0.5s finished\n",
      "[Parallel(n_jobs=-1)]: Using backend LokyBackend with 10 concurrent workers.\n"
     ]
    },
    {
     "name": "stdout",
     "output_type": "stream",
     "text": [
      "Accuracy: 0.752 (0.033)\n",
      "tn: 276, fp: 4, fn: 7, tp: 83\n",
      "merged_ensemble\n",
      "StackingCVClassifier\n"
     ]
    },
    {
     "name": "stderr",
     "output_type": "stream",
     "text": [
      "[Parallel(n_jobs=-1)]: Done  30 out of  30 | elapsed:   41.3s finished\n"
     ]
    },
    {
     "name": "stdout",
     "output_type": "stream",
     "text": [
      "Accuracy: 0.687 (0.056)\n",
      "tn: 270, fp: 10, fn: 11, tp: 79\n"
     ]
    }
   ],
   "source": [
    "ds = datasets['nardus'][f'normalized-{kmer}']\n",
    "\n",
    "X_train, y_train, X_test, y_test = ds['X_train'], ds['y_train'], ds['X_test'], ds['y_test']\n",
    "\n",
    "for modelName in bestandworst:\n",
    "    print(modelName)\n",
    "    scores_nardus.append(validation_utils.cross_validate(bestandworst[modelName], X_test, y_test))"
   ]
  },
  {
   "cell_type": "code",
   "execution_count": 10,
   "metadata": {},
   "outputs": [
    {
     "name": "stdout",
     "output_type": "stream",
     "text": [
      "[0.825, 0.875, 0.918, 0.911]\n",
      "[]\n",
      "[]\n"
     ]
    }
   ],
   "source": [
    "print(scores_merged)\n",
    "print(scores_nardus)\n",
    "print(scores_zhang)"
   ]
  },
  {
   "attachments": {},
   "cell_type": "markdown",
   "metadata": {},
   "source": [
    "### Draw validation"
   ]
  },
  {
   "cell_type": "code",
   "execution_count": 6,
   "metadata": {},
   "outputs": [
    {
     "name": "stdout",
     "output_type": "stream",
     "text": [
      "[0.875, 0.887, 0.941]\n"
     ]
    },
    {
     "ename": "NameError",
     "evalue": "name 'scores_nardus' is not defined",
     "output_type": "error",
     "traceback": [
      "\u001b[0;31m---------------------------------------------------------------------------\u001b[0m",
      "\u001b[0;31mNameError\u001b[0m                                 Traceback (most recent call last)",
      "\u001b[1;32m/Users/benjaminli/Documents/coding/scires/project/train_and_vis/models.ipynb Cell 52\u001b[0m in \u001b[0;36m<cell line: 7>\u001b[0;34m()\u001b[0m\n\u001b[1;32m      <a href='vscode-notebook-cell:/Users/benjaminli/Documents/coding/scires/project/train_and_vis/models.ipynb#X63sZmlsZQ%3D%3D?line=2'>3</a>\u001b[0m \u001b[39m# scores_nardus = [0.761, 0.664, 0.66, 0.708, 0.74, 0.705, 0.713, 0.752, 0.707]\u001b[39;00m\n\u001b[1;32m      <a href='vscode-notebook-cell:/Users/benjaminli/Documents/coding/scires/project/train_and_vis/models.ipynb#X63sZmlsZQ%3D%3D?line=3'>4</a>\u001b[0m \u001b[39m# scores_zhang = [0.946, 0.866, 0.899, 0.931, 0.945, 0.935, 0.929, 0.947, 0.942]\u001b[39;00m\n\u001b[1;32m      <a href='vscode-notebook-cell:/Users/benjaminli/Documents/coding/scires/project/train_and_vis/models.ipynb#X63sZmlsZQ%3D%3D?line=4'>5</a>\u001b[0m \u001b[39m# scores_merged = [0.875, 0.887, 0.941]\u001b[39;00m\n\u001b[1;32m      <a href='vscode-notebook-cell:/Users/benjaminli/Documents/coding/scires/project/train_and_vis/models.ipynb#X63sZmlsZQ%3D%3D?line=5'>6</a>\u001b[0m \u001b[39mprint\u001b[39m(scores_merged)\n\u001b[0;32m----> <a href='vscode-notebook-cell:/Users/benjaminli/Documents/coding/scires/project/train_and_vis/models.ipynb#X63sZmlsZQ%3D%3D?line=6'>7</a>\u001b[0m \u001b[39mprint\u001b[39m(scores_nardus)\n\u001b[1;32m      <a href='vscode-notebook-cell:/Users/benjaminli/Documents/coding/scires/project/train_and_vis/models.ipynb#X63sZmlsZQ%3D%3D?line=7'>8</a>\u001b[0m \u001b[39mprint\u001b[39m(scores_zhang)\n",
      "\u001b[0;31mNameError\u001b[0m: name 'scores_nardus' is not defined"
     ]
    }
   ],
   "source": [
    "# these were autogenerated but saved here for convenience\n",
    "# scores_merged = [0.875, 0.887, 0.941]\n",
    "print(scores_merged)"
   ]
  },
  {
   "cell_type": "code",
   "execution_count": 7,
   "metadata": {},
   "outputs": [
    {
     "name": "stderr",
     "output_type": "stream",
     "text": [
      "No artists with labels found to put in legend.  Note that artists whose label start with an underscore are ignored when legend() is called with no argument.\n"
     ]
    },
    {
     "name": "stdout",
     "output_type": "stream",
     "text": [
      "96.1 0.0\n",
      "90.7 1.0\n",
      "89.5 2.0\n"
     ]
    },
    {
     "data": {
      "image/png": "[encoded data removed]",
      "text/plain": [
       "<Figure size 1000x350 with 1 Axes>"
      ]
     },
     "metadata": {},
     "output_type": "display_data"
    }
   ],
   "source": [
    "merged_dc = OrderedDict(sorted(OrderedDict(map(lambda i,j : (i,j) , bestandworst.keys(),scores_merged)).items(), key=lambda x: x[1], reverse=True))\n",
    "# nardus_dc = OrderedDict(sorted(OrderedDict(map(lambda i,j : (i,j) , bestandworst.keys(),scores_nardus)).items(), key=lambda x: x[1], reverse=True))\n",
    "# zhang_dc = OrderedDict(sorted(OrderedDict(map(lambda i,j : (i,j) , bestandworst.keys(),scores_zhang)).items(), key=lambda x: x[1], reverse=True))\n",
    "\n",
    "validation_utils.draw_accuracies(bestandworst, None, None, merged_dc)"
   ]
  },
  {
   "cell_type": "code",
   "execution_count": null,
   "metadata": {},
   "outputs": [],
   "source": [
    "validation_utils.draw_accuracies(bestandworst, None, None, nardus_dc)\n",
    "validation_utils.draw_accuracies(bestandworst, None, None, zhang_dc)"
   ]
  },
  {
   "cell_type": "code",
   "execution_count": 30,
   "metadata": {},
   "outputs": [
    {
     "name": "stdout",
     "output_type": "stream",
     "text": [
      "BalancedBaggingClassifier(base_estimator=KNeighborsClassifier(n_jobs=1,\n",
      "                                                              n_neighbors=1),\n",
      "                          n_jobs=1)\n",
      "fit done\n",
      "auc split:  0.9648249712235086\n",
      "fit done\n",
      "auc split:  0.972185803068156\n",
      "fit done\n",
      "auc split:  0.9548917078603387\n",
      "fit done\n",
      "auc split:  0.9592630231857874\n",
      "fit done\n",
      "auc split:  0.9607172781135914\n",
      "0.9623765566902766\n",
      "time for CV:  1.7443749904632568\n",
      "BalancedBaggingClassifier(base_estimator=DecisionTreeClassifier(max_features='sqrt'))\n",
      "fit done\n",
      "auc split:  0.959398740605322\n",
      "fit done\n",
      "auc split:  0.9641708649061591\n",
      "fit done\n",
      "auc split:  0.9524603856900021\n",
      "fit done\n",
      "auc split:  0.9459650707618187\n",
      "fit done\n",
      "auc split:  0.9557760787599496\n",
      "0.9555542281446503\n",
      "time for CV:  1.5419037342071533\n",
      "GradientBoostingClassifier(learning_rate=0.15, max_depth=8, max_features=3,\n",
      "                           min_samples_split=30, n_estimators=130,\n",
      "                           random_state=0, subsample=0.8)\n",
      "fit done\n",
      "auc split:  0.9672909472543841\n",
      "fit done\n",
      "auc split:  0.983079718373836\n",
      "fit done\n",
      "auc split:  0.9729074265840839\n",
      "fit done\n",
      "auc split:  0.971532169025394\n",
      "fit done\n",
      "auc split:  0.9685947692860135\n",
      "0.9726810061047424\n",
      "time for CV:  7.556425333023071\n",
      "StackingCVClassifier(classifiers=[MLPClassifier(hidden_layer_sizes=(256, 128,\n",
      "                                                                    64, 32,\n",
      "                                                                    16),\n",
      "                                                random_state=1),\n",
      "                                  XGBClassifier(base_score=None, booster=None,\n",
      "                                                callbacks=None,\n",
      "                                                colsample_bylevel=None,\n",
      "                                                colsample_bynode=None,\n",
      "                                                colsample_bytree=None,\n",
      "                                                early_stopping_rounds=None,\n",
      "                                                enable_categorical=False,\n",
      "                                                eval_metric=None,\n",
      "                                                feature_types=None, gamma=None,\n",
      "                                                gpu_id=None, grow_policy=...\n",
      "                                  GradientBoostingClassifier(learning_rate=0.2,\n",
      "                                                             max_depth=9,\n",
      "                                                             max_features=2,\n",
      "                                                             min_samples_split=25,\n",
      "                                                             n_estimators=130,\n",
      "                                                             random_state=0,\n",
      "                                                             subsample=0.85),\n",
      "                                  BalancedBaggingClassifier(base_estimator=KNeighborsClassifier(n_jobs=1,\n",
      "                                                                                                n_neighbors=1),\n",
      "                                                            n_jobs=1)],\n",
      "                     cv=5,\n",
      "                     meta_classifier=GradientBoostingClassifier(learning_rate=0.15,\n",
      "                                                                max_depth=6,\n",
      "                                                                max_features=2,\n",
      "                                                                random_state=0,\n",
      "                                                                subsample=0.8),\n",
      "                     use_probas=True)\n",
      "fit done\n",
      "auc split:  0.9760227503554744\n",
      "fit done\n",
      "auc split:  0.9791232217702805\n",
      "fit done\n",
      "auc split:  0.9701720364979192\n",
      "fit done\n",
      "auc split:  0.9691521128174245\n",
      "fit done\n",
      "auc split:  0.9699500768049156\n",
      "0.9728840396492029\n",
      "time for CV:  652.559761762619\n"
     ]
    },
    {
     "data": {
      "image/png": "[encoded data removed]",
      "text/plain": [
       "<Figure size 640x480 with 1 Axes>"
      ]
     },
     "metadata": {},
     "output_type": "display_data"
    }
   ],
   "source": [
    "ds = datasets['zhang'][f'normalized-4']\n",
    "X = pd.concat([ds['X_train'], ds['X_test']], axis=0)\n",
    "Y = np.concatenate([ds['y_train'], ds['y_test']], axis=0)\n",
    "\n",
    "validation_utils.draw_avg_roc_multiple(bestandworst, X, Y)"
   ]
  },
  {
   "cell_type": "code",
   "execution_count": 19,
   "metadata": {},
   "outputs": [
    {
     "name": "stdout",
     "output_type": "stream",
     "text": [
      "GradientBoostingClassifier(max_depth=9, max_features=2, min_samples_split=20,\n",
      "                           n_estimators=140, random_state=0, subsample=0.9)\n",
      "fit done\n",
      "auc split:  0.7113195883786044\n",
      "fit done\n",
      "auc split:  0.7192962838719297\n",
      "fit done\n",
      "auc split:  0.7116198608708455\n",
      "fit done\n",
      "auc split:  0.709811265330102\n",
      "fit done\n",
      "auc split:  0.7658105939004815\n",
      "0.7235715184703926\n",
      "time for CV:  1.5528950691223145\n",
      "GradientBoostingClassifier(learning_rate=0.15, max_depth=8, max_features=3,\n",
      "                           min_samples_split=30, n_estimators=130,\n",
      "                           random_state=0, subsample=0.8)\n",
      "fit done\n",
      "auc split:  0.6916112141376677\n",
      "fit done\n",
      "auc split:  0.7147862387714786\n",
      "fit done\n",
      "auc split:  0.6807758842798778\n",
      "fit done\n",
      "auc split:  0.7069471983549974\n",
      "fit done\n",
      "auc split:  0.7439807383627608\n",
      "0.7076202547813565\n",
      "time for CV:  1.3861949443817139\n",
      "BalancedBaggingClassifier(base_estimator=KNeighborsClassifier(n_jobs=1,\n",
      "                                                              n_neighbors=1),\n",
      "                          n_jobs=1)\n",
      "fit done\n",
      "auc split:  0.7280462528635322\n",
      "fit done\n",
      "auc split:  0.7198926534719893\n",
      "fit done\n",
      "auc split:  0.6777393352718172\n",
      "fit done\n",
      "auc split:  0.6486010134390835\n",
      "fit done\n",
      "auc split:  0.6997993579454254\n",
      "0.6948157225983695\n",
      "time for CV:  0.41170287132263184\n",
      "BalancedBaggingClassifier(base_estimator=DecisionTreeClassifier(max_features='sqrt'))\n",
      "fit done\n",
      "auc split:  0.67223010072361\n",
      "fit done\n",
      "auc split:  0.6432405233143241\n",
      "fit done\n",
      "auc split:  0.6082667746328535\n",
      "fit done\n",
      "auc split:  0.6156458838216935\n",
      "fit done\n",
      "auc split:  0.6697833065810593\n",
      "0.6418333178147081\n",
      "time for CV:  0.39394712448120117\n",
      "SVC(kernel='linear', probability=True)\n",
      "fit done\n",
      "auc split:  0.6713210428711683\n",
      "fit done\n",
      "auc split:  0.6368481866636849\n",
      "fit done\n",
      "auc split:  0.6010894769774374\n",
      "fit done\n",
      "auc split:  0.6495557024307851\n",
      "fit done\n",
      "auc split:  0.6430176565008026\n",
      "0.6403664130887756\n",
      "time for CV:  4.570703029632568\n",
      "XGBClassifier(base_score=0.5, booster='gbtree', callbacks=None,\n",
      "              colsample_bylevel=1, colsample_bynode=1, colsample_bytree=1,\n",
      "              early_stopping_rounds=None, enable_categorical=False,\n",
      "              eval_metric=None, feature_types=None, gamma=0, gpu_id=-1,\n",
      "              grow_policy='depthwise', importance_type=None,\n",
      "              interaction_constraints='', learning_rate=0.25, max_bin=256,\n",
      "              max_cat_threshold=64, max_cat_to_onehot=4, max_delta_step=0,\n",
      "              max_depth=6, max_leaves=0, min_child_weight=1, missing=nan,\n",
      "              monotone_constraints='()', n_estimators=100, n_jobs=0,\n",
      "              num_parallel_tree=1, predictor='auto', random_state=0, ...)\n",
      "fit done\n",
      "auc split:  0.6974655467073925\n",
      "fit done\n",
      "auc split:  0.7214581236721458\n",
      "fit done\n",
      "auc split:  0.6813279840995251\n",
      "fit done\n",
      "auc split:  0.6847323198942499\n",
      "fit done\n",
      "auc split:  0.7403290529695024\n",
      "0.7050626054685631\n",
      "time for CV:  5.050374984741211\n",
      "MLPClassifier(hidden_layer_sizes=(256, 128, 64, 32, 16), random_state=1)\n",
      "fit done\n",
      "auc split:  0.7132831533398786\n",
      "fit done\n",
      "auc split:  0.7143016884714303\n",
      "fit done\n",
      "auc split:  0.6221428834333248\n",
      "fit done\n",
      "auc split:  0.6576705588602483\n",
      "fit done\n",
      "auc split:  0.7366773675762439\n",
      "0.6888151303362251\n",
      "time for CV:  25.609582901000977\n",
      "LogisticRegression(fit_intercept=False, max_iter=1000,\n",
      "                   multi_class='multinomial', random_state=42, solver='saga',\n",
      "                   tol=0.001)\n",
      "fit done\n",
      "auc split:  0.6811025053634412\n",
      "fit done\n",
      "auc split:  0.6371836445637185\n",
      "fit done\n",
      "auc split:  0.6080827413596378\n",
      "fit done\n",
      "auc split:  0.6772416831901299\n",
      "fit done\n",
      "auc split:  0.6418940609951846\n",
      "0.6491009270944224\n",
      "time for CV:  1.1529300212860107\n",
      "GradientBoostingClassifier(learning_rate=0.2, max_depth=9, max_features=2,\n",
      "                           min_samples_split=25, n_estimators=130,\n",
      "                           random_state=0, subsample=0.85)\n",
      "fit done\n",
      "auc split:  0.6921202865350351\n",
      "fit done\n",
      "auc split:  0.714338961571434\n",
      "fit done\n",
      "auc split:  0.7225146306452206\n",
      "fit done\n",
      "auc split:  0.7269956671807299\n",
      "fit done\n",
      "auc split:  0.7193820224719101\n",
      "0.7150703136808658\n",
      "time for CV:  1.3254237174987793\n",
      "StackingCVClassifier(classifiers=[MLPClassifier(hidden_layer_sizes=(256, 128,\n",
      "                                                                    64, 32,\n",
      "                                                                    16),\n",
      "                                                random_state=1),\n",
      "                                  XGBClassifier(base_score=None, booster=None,\n",
      "                                                callbacks=None,\n",
      "                                                colsample_bylevel=None,\n",
      "                                                colsample_bynode=None,\n",
      "                                                colsample_bytree=None,\n",
      "                                                early_stopping_rounds=None,\n",
      "                                                enable_categorical=False,\n",
      "                                                eval_metric=None,\n",
      "                                                feature_types=None, gamma=None,\n",
      "                                                gpu_id=None, grow_policy=...\n",
      "                                  GradientBoostingClassifier(learning_rate=0.2,\n",
      "                                                             max_depth=9,\n",
      "                                                             max_features=2,\n",
      "                                                             min_samples_split=25,\n",
      "                                                             n_estimators=130,\n",
      "                                                             random_state=0,\n",
      "                                                             subsample=0.85),\n",
      "                                  BalancedBaggingClassifier(base_estimator=KNeighborsClassifier(n_jobs=1,\n",
      "                                                                                                n_neighbors=1),\n",
      "                                                            n_jobs=1)],\n",
      "                     cv=5,\n",
      "                     meta_classifier=GradientBoostingClassifier(learning_rate=0.15,\n",
      "                                                                max_depth=6,\n",
      "                                                                max_features=2,\n",
      "                                                                random_state=0,\n",
      "                                                                subsample=0.8),\n",
      "                     use_probas=True)\n",
      "fit done\n",
      "auc split:  0.6784116941202138\n",
      "fit done\n",
      "auc split:  0.6923851056692385\n",
      "fit done\n",
      "auc split:  0.6483860281938975\n",
      "fit done\n",
      "auc split:  0.6407431886612323\n",
      "fit done\n",
      "auc split:  0.7016051364365972\n",
      "0.6723062306162358\n",
      "time for CV:  164.1034677028656\n"
     ]
    },
    {
     "data": {
      "image/png": "[encoded data removed]",
      "text/plain": [
       "<Figure size 640x480 with 1 Axes>"
      ]
     },
     "metadata": {},
     "output_type": "display_data"
    }
   ],
   "source": [
    "ds = datasets['nardus'][f'normalized-4']\n",
    "X = pd.concat([ds['X_train'], ds['X_test']], axis=0)\n",
    "Y = np.concatenate([ds['y_train'], ds['y_test']], axis=0)\n",
    "\n",
    "validation_utils.draw_avg_roc_multiple(models, X, Y)"
   ]
  },
  {
   "cell_type": "code",
   "execution_count": 34,
   "metadata": {},
   "outputs": [
    {
     "name": "stdout",
     "output_type": "stream",
     "text": [
      "BalancedBaggingClassifier(base_estimator=KNeighborsClassifier(n_jobs=1,\n",
      "                                                              n_neighbors=1),\n",
      "                          n_jobs=1)\n",
      "fit done\n",
      "auc split:  0.9298784722222222\n",
      "fit done\n",
      "auc split:  0.9284667713239143\n",
      "fit done\n",
      "auc split:  0.9307861545756282\n",
      "fit done\n",
      "auc split:  0.9452706323687032\n",
      "fit done\n",
      "auc split:  0.932595502327601\n",
      "0.9333995065636138\n",
      "time for CV:  2.24573016166687\n",
      "BalancedBaggingClassifier(base_estimator=DecisionTreeClassifier(max_features='sqrt'))\n",
      "fit done\n",
      "auc split:  0.926518683862434\n",
      "fit done\n",
      "auc split:  0.9142141984999128\n",
      "fit done\n",
      "auc split:  0.916303461356093\n",
      "fit done\n",
      "auc split:  0.9301357040108309\n",
      "fit done\n",
      "auc split:  0.9227002527879039\n",
      "0.921974460103435\n",
      "time for CV:  1.9907898902893066\n",
      "StackingCVClassifier(classifiers=[MLPClassifier(hidden_layer_sizes=(256, 128,\n",
      "                                                                    64, 32),\n",
      "                                                random_state=42),\n",
      "                                  XGBClassifier(base_score=None, booster=None,\n",
      "                                                callbacks=None,\n",
      "                                                colsample_bylevel=None,\n",
      "                                                colsample_bynode=None,\n",
      "                                                colsample_bytree=0.8,\n",
      "                                                early_stopping_rounds=None,\n",
      "                                                enable_categorical=False,\n",
      "                                                eval_metric=None,\n",
      "                                                feature_types=None, gamma=0,\n",
      "                                                gpu_id=None, grow_policy=None,\n",
      "                                                i...\n",
      "                                                max_delta_step=None,\n",
      "                                                max_depth=9, max_leaves=None,\n",
      "                                                min_child_weight=1, missing=nan,\n",
      "                                                monotone_constraints=None,\n",
      "                                                n_estimators=250, n_jobs=-1,\n",
      "                                                num_parallel_tree=None,\n",
      "                                                predictor=None,\n",
      "                                                random_state=None, ...),\n",
      "                                  SVC(C=2, gamma=0.6, probability=True,\n",
      "                                      random_state=42)],\n",
      "                     cv=5,\n",
      "                     meta_classifier=LogisticRegression(C=1, random_state=42),\n",
      "                     n_jobs=-1, random_state=42, use_probas=True, verbose=1)\n",
      "Fitting 3 classifiers...\n",
      "Fitting classifier1: mlpclassifier (1/3)\n"
     ]
    },
    {
     "name": "stderr",
     "output_type": "stream",
     "text": [
      "[Parallel(n_jobs=-1)]: Using backend LokyBackend with 10 concurrent workers.\n",
      "[Parallel(n_jobs=-1)]: Done   5 out of   5 | elapsed:   18.2s finished\n",
      "[Parallel(n_jobs=-1)]: Using backend LokyBackend with 10 concurrent workers.\n"
     ]
    },
    {
     "name": "stdout",
     "output_type": "stream",
     "text": [
      "Fitting classifier2: xgbclassifier (2/3)\n"
     ]
    },
    {
     "name": "stderr",
     "output_type": "stream",
     "text": [
      "[Parallel(n_jobs=-1)]: Done   5 out of   5 | elapsed:   51.6s finished\n",
      "[Parallel(n_jobs=-1)]: Using backend LokyBackend with 10 concurrent workers.\n"
     ]
    },
    {
     "name": "stdout",
     "output_type": "stream",
     "text": [
      "Fitting classifier3: svc (3/3)\n"
     ]
    },
    {
     "name": "stderr",
     "output_type": "stream",
     "text": [
      "[Parallel(n_jobs=-1)]: Done   5 out of   5 | elapsed:  1.0min finished\n"
     ]
    },
    {
     "name": "stdout",
     "output_type": "stream",
     "text": [
      "fit done\n",
      "auc split:  0.9538988095238096\n",
      "Fitting 3 classifiers...\n",
      "Fitting classifier1: mlpclassifier (1/3)\n"
     ]
    },
    {
     "name": "stderr",
     "output_type": "stream",
     "text": [
      "[Parallel(n_jobs=-1)]: Using backend LokyBackend with 10 concurrent workers.\n"
     ]
    },
    {
     "name": "stdout",
     "output_type": "stream",
     "text": [
      "Fitting classifier2: xgbclassifier (2/3)\n"
     ]
    },
    {
     "name": "stderr",
     "output_type": "stream",
     "text": [
      "[Parallel(n_jobs=-1)]: Done   5 out of   5 | elapsed:   19.3s finished\n",
      "[Parallel(n_jobs=-1)]: Using backend LokyBackend with 10 concurrent workers.\n",
      "[Parallel(n_jobs=-1)]: Done   5 out of   5 | elapsed:   47.3s finished\n",
      "[Parallel(n_jobs=-1)]: Using backend LokyBackend with 10 concurrent workers.\n"
     ]
    },
    {
     "name": "stdout",
     "output_type": "stream",
     "text": [
      "Fitting classifier3: svc (3/3)\n"
     ]
    },
    {
     "name": "stderr",
     "output_type": "stream",
     "text": [
      "[Parallel(n_jobs=-1)]: Done   5 out of   5 | elapsed:  1.5min finished\n"
     ]
    },
    {
     "name": "stdout",
     "output_type": "stream",
     "text": [
      "fit done\n",
      "auc split:  0.9524777603349033\n",
      "Fitting 3 classifiers...\n",
      "Fitting classifier1: mlpclassifier (1/3)\n"
     ]
    },
    {
     "name": "stderr",
     "output_type": "stream",
     "text": [
      "[Parallel(n_jobs=-1)]: Using backend LokyBackend with 10 concurrent workers.\n",
      "[Parallel(n_jobs=-1)]: Done   5 out of   5 | elapsed:   25.7s finished\n",
      "[Parallel(n_jobs=-1)]: Using backend LokyBackend with 10 concurrent workers.\n"
     ]
    },
    {
     "name": "stdout",
     "output_type": "stream",
     "text": [
      "Fitting classifier2: xgbclassifier (2/3)\n"
     ]
    },
    {
     "name": "stderr",
     "output_type": "stream",
     "text": [
      "[Parallel(n_jobs=-1)]: Done   5 out of   5 | elapsed:  1.6min finished\n",
      "[Parallel(n_jobs=-1)]: Using backend LokyBackend with 10 concurrent workers.\n"
     ]
    },
    {
     "name": "stdout",
     "output_type": "stream",
     "text": [
      "Fitting classifier3: svc (3/3)\n"
     ]
    },
    {
     "name": "stderr",
     "output_type": "stream",
     "text": [
      "[Parallel(n_jobs=-1)]: Done   5 out of   5 | elapsed:   55.3s finished\n"
     ]
    },
    {
     "name": "stdout",
     "output_type": "stream",
     "text": [
      "fit done\n",
      "auc split:  0.9405841631104789\n",
      "Fitting 3 classifiers...\n",
      "Fitting classifier1: mlpclassifier (1/3)\n"
     ]
    },
    {
     "name": "stderr",
     "output_type": "stream",
     "text": [
      "[Parallel(n_jobs=-1)]: Using backend LokyBackend with 10 concurrent workers.\n",
      "[Parallel(n_jobs=-1)]: Done   5 out of   5 | elapsed:   17.7s finished\n",
      "[Parallel(n_jobs=-1)]: Using backend LokyBackend with 10 concurrent workers.\n"
     ]
    },
    {
     "name": "stdout",
     "output_type": "stream",
     "text": [
      "Fitting classifier2: xgbclassifier (2/3)\n"
     ]
    },
    {
     "name": "stderr",
     "output_type": "stream",
     "text": [
      "[Parallel(n_jobs=-1)]: Done   5 out of   5 | elapsed:   44.8s finished\n",
      "[Parallel(n_jobs=-1)]: Using backend LokyBackend with 10 concurrent workers.\n"
     ]
    },
    {
     "name": "stdout",
     "output_type": "stream",
     "text": [
      "Fitting classifier3: svc (3/3)\n"
     ]
    },
    {
     "name": "stderr",
     "output_type": "stream",
     "text": [
      "[Parallel(n_jobs=-1)]: Done   5 out of   5 | elapsed:  1.1min finished\n",
      "/Users/benjaminli/opt/miniconda3/envs/seq/lib/python3.8/site-packages/sklearn/neural_network/_multilayer_perceptron.py:709: UserWarning: Training interrupted by user.\n",
      "  warnings.warn(\"Training interrupted by user.\")\n"
     ]
    },
    {
     "ename": "KeyboardInterrupt",
     "evalue": "",
     "output_type": "error",
     "traceback": [
      "\u001b[0;31m---------------------------------------------------------------------------\u001b[0m",
      "\u001b[0;31mKeyboardInterrupt\u001b[0m                         Traceback (most recent call last)",
      "\u001b[1;32m/Users/benjaminli/Documents/coding/scires/project/train_and_vis/models.ipynb Cell 59\u001b[0m in \u001b[0;36m<cell line: 5>\u001b[0;34m()\u001b[0m\n\u001b[1;32m      <a href='vscode-notebook-cell:/Users/benjaminli/Documents/coding/scires/project/train_and_vis/models.ipynb#Y100sZmlsZQ%3D%3D?line=1'>2</a>\u001b[0m X \u001b[39m=\u001b[39m pd\u001b[39m.\u001b[39mconcat([ds[\u001b[39m'\u001b[39m\u001b[39mX_train\u001b[39m\u001b[39m'\u001b[39m], ds[\u001b[39m'\u001b[39m\u001b[39mX_test\u001b[39m\u001b[39m'\u001b[39m]], axis\u001b[39m=\u001b[39m\u001b[39m0\u001b[39m)\n\u001b[1;32m      <a href='vscode-notebook-cell:/Users/benjaminli/Documents/coding/scires/project/train_and_vis/models.ipynb#Y100sZmlsZQ%3D%3D?line=2'>3</a>\u001b[0m Y \u001b[39m=\u001b[39m np\u001b[39m.\u001b[39mconcatenate([ds[\u001b[39m'\u001b[39m\u001b[39my_train\u001b[39m\u001b[39m'\u001b[39m], ds[\u001b[39m'\u001b[39m\u001b[39my_test\u001b[39m\u001b[39m'\u001b[39m]], axis\u001b[39m=\u001b[39m\u001b[39m0\u001b[39m)\n\u001b[0;32m----> <a href='vscode-notebook-cell:/Users/benjaminli/Documents/coding/scires/project/train_and_vis/models.ipynb#Y100sZmlsZQ%3D%3D?line=4'>5</a>\u001b[0m l \u001b[39m=\u001b[39m validation_utils\u001b[39m.\u001b[39;49mdraw_avg_roc_multiple(bestandworst, X, Y)\n",
      "File \u001b[0;32m~/Documents/coding/scires/project/utils/validation_utils.py:105\u001b[0m, in \u001b[0;36mdraw_avg_roc_multiple\u001b[0;34m(models, X_test, y_test)\u001b[0m\n\u001b[1;32m    103\u001b[0m t \u001b[39m=\u001b[39m time\u001b[39m.\u001b[39mtime()\n\u001b[1;32m    104\u001b[0m \u001b[39mprint\u001b[39m(models[key])\n\u001b[0;32m--> 105\u001b[0m l\u001b[39m.\u001b[39mappend(draw_avg_roc_curve(models[key], key, X_test, y_test, multiple\u001b[39m=\u001b[39;49m\u001b[39mTrue\u001b[39;49;00m))\n\u001b[1;32m    106\u001b[0m \u001b[39mprint\u001b[39m(\u001b[39m\"\u001b[39m\u001b[39mtime for CV: \u001b[39m\u001b[39m\"\u001b[39m, time\u001b[39m.\u001b[39mtime() \u001b[39m-\u001b[39m t)\n\u001b[1;32m    107\u001b[0m \u001b[39m# plt.legend(loc='best')\u001b[39;00m\n",
      "File \u001b[0;32m~/Documents/coding/scires/project/utils/validation_utils.py:54\u001b[0m, in \u001b[0;36mdraw_avg_roc_curve\u001b[0;34m(model, name, X, y, multiple)\u001b[0m\n\u001b[1;32m     46\u001b[0m avgauc \u001b[39m=\u001b[39m \u001b[39m0\u001b[39m\n\u001b[1;32m     47\u001b[0m \u001b[39mfor\u001b[39;00m train, test \u001b[39min\u001b[39;00m kf\u001b[39m.\u001b[39msplit(X):\n\u001b[1;32m     48\u001b[0m     \u001b[39m# y_pred_proba = model.predict_proba(X.iloc[test])[::,1]\u001b[39;00m\n\u001b[1;32m     49\u001b[0m     \u001b[39m# fpr, tpr, _ = roc_curve(y[test], y_pred_proba)\u001b[39;00m\n\u001b[0;32m   (...)\u001b[0m\n\u001b[1;32m     52\u001b[0m     \u001b[39m# print(train)\u001b[39;00m\n\u001b[1;32m     53\u001b[0m     \u001b[39m# print(test)\u001b[39;00m\n\u001b[0;32m---> 54\u001b[0m     model \u001b[39m=\u001b[39m model\u001b[39m.\u001b[39;49mfit(X\u001b[39m.\u001b[39;49miloc[train], y[train])\n\u001b[1;32m     55\u001b[0m     \u001b[39mprint\u001b[39m(\u001b[39m\"\u001b[39m\u001b[39mfit done\u001b[39m\u001b[39m\"\u001b[39m)\n\u001b[1;32m     56\u001b[0m     y_score \u001b[39m=\u001b[39m model\u001b[39m.\u001b[39mpredict_proba(X\u001b[39m.\u001b[39miloc[test])\n",
      "File \u001b[0;32m~/opt/miniconda3/envs/seq/lib/python3.8/site-packages/mlxtend/classifier/stacking_cv_classification.py:292\u001b[0m, in \u001b[0;36mStackingCVClassifier.fit\u001b[0;34m(self, X, y, groups, sample_weight)\u001b[0m\n\u001b[1;32m    290\u001b[0m \u001b[39mfor\u001b[39;00m model \u001b[39min\u001b[39;00m \u001b[39mself\u001b[39m\u001b[39m.\u001b[39mclfs_:\n\u001b[1;32m    291\u001b[0m     \u001b[39mif\u001b[39;00m sample_weight \u001b[39mis\u001b[39;00m \u001b[39mNone\u001b[39;00m:\n\u001b[0;32m--> 292\u001b[0m         model\u001b[39m.\u001b[39;49mfit(X, y)\n\u001b[1;32m    293\u001b[0m     \u001b[39melse\u001b[39;00m:\n\u001b[1;32m    294\u001b[0m         model\u001b[39m.\u001b[39mfit(X, y, sample_weight\u001b[39m=\u001b[39msample_weight)\n",
      "File \u001b[0;32m~/opt/miniconda3/envs/seq/lib/python3.8/site-packages/sklearn/svm/_base.py:251\u001b[0m, in \u001b[0;36mBaseLibSVM.fit\u001b[0;34m(self, X, y, sample_weight)\u001b[0m\n\u001b[1;32m    248\u001b[0m     \u001b[39mprint\u001b[39m(\u001b[39m\"\u001b[39m\u001b[39m[LibSVM]\u001b[39m\u001b[39m\"\u001b[39m, end\u001b[39m=\u001b[39m\u001b[39m\"\u001b[39m\u001b[39m\"\u001b[39m)\n\u001b[1;32m    250\u001b[0m seed \u001b[39m=\u001b[39m rnd\u001b[39m.\u001b[39mrandint(np\u001b[39m.\u001b[39miinfo(\u001b[39m\"\u001b[39m\u001b[39mi\u001b[39m\u001b[39m\"\u001b[39m)\u001b[39m.\u001b[39mmax)\n\u001b[0;32m--> 251\u001b[0m fit(X, y, sample_weight, solver_type, kernel, random_seed\u001b[39m=\u001b[39;49mseed)\n\u001b[1;32m    252\u001b[0m \u001b[39m# see comment on the other call to np.iinfo in this file\u001b[39;00m\n\u001b[1;32m    254\u001b[0m \u001b[39mself\u001b[39m\u001b[39m.\u001b[39mshape_fit_ \u001b[39m=\u001b[39m X\u001b[39m.\u001b[39mshape \u001b[39mif\u001b[39;00m \u001b[39mhasattr\u001b[39m(X, \u001b[39m\"\u001b[39m\u001b[39mshape\u001b[39m\u001b[39m\"\u001b[39m) \u001b[39melse\u001b[39;00m (n_samples,)\n",
      "File \u001b[0;32m~/opt/miniconda3/envs/seq/lib/python3.8/site-packages/sklearn/svm/_base.py:333\u001b[0m, in \u001b[0;36mBaseLibSVM._dense_fit\u001b[0;34m(self, X, y, sample_weight, solver_type, kernel, random_seed)\u001b[0m\n\u001b[1;32m    319\u001b[0m libsvm\u001b[39m.\u001b[39mset_verbosity_wrap(\u001b[39mself\u001b[39m\u001b[39m.\u001b[39mverbose)\n\u001b[1;32m    321\u001b[0m \u001b[39m# we don't pass **self.get_params() to allow subclasses to\u001b[39;00m\n\u001b[1;32m    322\u001b[0m \u001b[39m# add other parameters to __init__\u001b[39;00m\n\u001b[1;32m    323\u001b[0m (\n\u001b[1;32m    324\u001b[0m     \u001b[39mself\u001b[39m\u001b[39m.\u001b[39msupport_,\n\u001b[1;32m    325\u001b[0m     \u001b[39mself\u001b[39m\u001b[39m.\u001b[39msupport_vectors_,\n\u001b[1;32m    326\u001b[0m     \u001b[39mself\u001b[39m\u001b[39m.\u001b[39m_n_support,\n\u001b[1;32m    327\u001b[0m     \u001b[39mself\u001b[39m\u001b[39m.\u001b[39mdual_coef_,\n\u001b[1;32m    328\u001b[0m     \u001b[39mself\u001b[39m\u001b[39m.\u001b[39mintercept_,\n\u001b[1;32m    329\u001b[0m     \u001b[39mself\u001b[39m\u001b[39m.\u001b[39m_probA,\n\u001b[1;32m    330\u001b[0m     \u001b[39mself\u001b[39m\u001b[39m.\u001b[39m_probB,\n\u001b[1;32m    331\u001b[0m     \u001b[39mself\u001b[39m\u001b[39m.\u001b[39mfit_status_,\n\u001b[1;32m    332\u001b[0m     \u001b[39mself\u001b[39m\u001b[39m.\u001b[39m_num_iter,\n\u001b[0;32m--> 333\u001b[0m ) \u001b[39m=\u001b[39m libsvm\u001b[39m.\u001b[39;49mfit(\n\u001b[1;32m    334\u001b[0m     X,\n\u001b[1;32m    335\u001b[0m     y,\n\u001b[1;32m    336\u001b[0m     svm_type\u001b[39m=\u001b[39;49msolver_type,\n\u001b[1;32m    337\u001b[0m     sample_weight\u001b[39m=\u001b[39;49msample_weight,\n\u001b[1;32m    338\u001b[0m     class_weight\u001b[39m=\u001b[39;49m\u001b[39mself\u001b[39;49m\u001b[39m.\u001b[39;49mclass_weight_,\n\u001b[1;32m    339\u001b[0m     kernel\u001b[39m=\u001b[39;49mkernel,\n\u001b[1;32m    340\u001b[0m     C\u001b[39m=\u001b[39;49m\u001b[39mself\u001b[39;49m\u001b[39m.\u001b[39;49mC,\n\u001b[1;32m    341\u001b[0m     nu\u001b[39m=\u001b[39;49m\u001b[39mself\u001b[39;49m\u001b[39m.\u001b[39;49mnu,\n\u001b[1;32m    342\u001b[0m     probability\u001b[39m=\u001b[39;49m\u001b[39mself\u001b[39;49m\u001b[39m.\u001b[39;49mprobability,\n\u001b[1;32m    343\u001b[0m     degree\u001b[39m=\u001b[39;49m\u001b[39mself\u001b[39;49m\u001b[39m.\u001b[39;49mdegree,\n\u001b[1;32m    344\u001b[0m     shrinking\u001b[39m=\u001b[39;49m\u001b[39mself\u001b[39;49m\u001b[39m.\u001b[39;49mshrinking,\n\u001b[1;32m    345\u001b[0m     tol\u001b[39m=\u001b[39;49m\u001b[39mself\u001b[39;49m\u001b[39m.\u001b[39;49mtol,\n\u001b[1;32m    346\u001b[0m     cache_size\u001b[39m=\u001b[39;49m\u001b[39mself\u001b[39;49m\u001b[39m.\u001b[39;49mcache_size,\n\u001b[1;32m    347\u001b[0m     coef0\u001b[39m=\u001b[39;49m\u001b[39mself\u001b[39;49m\u001b[39m.\u001b[39;49mcoef0,\n\u001b[1;32m    348\u001b[0m     gamma\u001b[39m=\u001b[39;49m\u001b[39mself\u001b[39;49m\u001b[39m.\u001b[39;49m_gamma,\n\u001b[1;32m    349\u001b[0m     epsilon\u001b[39m=\u001b[39;49m\u001b[39mself\u001b[39;49m\u001b[39m.\u001b[39;49mepsilon,\n\u001b[1;32m    350\u001b[0m     max_iter\u001b[39m=\u001b[39;49m\u001b[39mself\u001b[39;49m\u001b[39m.\u001b[39;49mmax_iter,\n\u001b[1;32m    351\u001b[0m     random_seed\u001b[39m=\u001b[39;49mrandom_seed,\n\u001b[1;32m    352\u001b[0m )\n\u001b[1;32m    354\u001b[0m \u001b[39mself\u001b[39m\u001b[39m.\u001b[39m_warn_from_fit_status()\n",
      "\u001b[0;31mKeyboardInterrupt\u001b[0m: "
     ]
    },
    {
     "data": {
      "image/png": "[encoded data removed]",
      "text/plain": [
       "<Figure size 640x480 with 1 Axes>"
      ]
     },
     "metadata": {},
     "output_type": "display_data"
    }
   ],
   "source": [
    "ds = datasets['merged'][f'normalized-4']\n",
    "X = pd.concat([ds['X_train'], ds['X_test']], axis=0)\n",
    "Y = np.concatenate([ds['y_train'], ds['y_test']], axis=0)\n",
    "\n",
    "l = validation_utils.draw_avg_roc_multiple(bestandworst, X, Y)"
   ]
  },
  {
   "cell_type": "code",
   "execution_count": 5,
   "metadata": {},
   "outputs": [
    {
     "name": "stdout",
     "output_type": "stream",
     "text": [
      "BalancedBaggingClassifier\n",
      "precision recall: 0.7986487842724114\n",
      "BalancedBaggingClassifier\n",
      "precision recall: 0.7425944482785196\n",
      "StackingCVClassifier\n"
     ]
    },
    {
     "name": "stderr",
     "output_type": "stream",
     "text": [
      "No artists with labels found to put in legend.  Note that artists whose label start with an underscore are ignored when legend() is called with no argument.\n",
      "No artists with labels found to put in legend.  Note that artists whose label start with an underscore are ignored when legend() is called with no argument.\n"
     ]
    },
    {
     "name": "stdout",
     "output_type": "stream",
     "text": [
      "precision recall: 0.8506949901676641\n"
     ]
    },
    {
     "data": {
      "image/png": "[encoded data removed]",
      "text/plain": [
       "<Figure size 640x480 with 1 Axes>"
      ]
     },
     "metadata": {},
     "output_type": "display_data"
    },
    {
     "name": "stdout",
     "output_type": "stream",
     "text": [
      "KNN\n",
      "0.8759363295880149\n",
      "Random Forest\n",
      "0.87687265917603\n",
      "Ensemble\n",
      "0.9321161048689138\n"
     ]
    }
   ],
   "source": [
    "ds = datasets['merged'][f'normalized-4']\n",
    "X = pd.concat([ds['X_train'], ds['X_test']])\n",
    "y = np.concatenate([ds['y_train'], ds['y_test']], axis=0)\n",
    "\n",
    "X_train, X_test, y_train, y_test = train_test_split(X, y, test_size=0.2, random_state=42)\n",
    "\n",
    "validation_utils.draw_prec_roc_curve_multiple(bestandworst, X_test, y_test)\n",
    "for key in bestandworst:\n",
    "    print(key)\n",
    "    print(accuracy_score(y_test, bestandworst[key].predict(X_test)))"
   ]
  },
  {
   "cell_type": "code",
   "execution_count": 7,
   "metadata": {},
   "outputs": [
    {
     "name": "stdout",
     "output_type": "stream",
     "text": [
      "          cccc      accc      cctg      actg      attg      tagg      aagc  \\\n",
      "5515  0.052900  0.083911  0.157242  0.177672  0.268515  0.195549  0.233127   \n",
      "1208  0.264151  0.603774  0.452830  0.415094  0.679245  0.226415  0.452830   \n",
      "7722  0.270975  0.409297  0.258503  0.142857  0.015873  0.007937  0.167800   \n",
      "2085  0.173244  0.172575  0.252843  0.113043  0.037458  0.023411  0.094983   \n",
      "2458  0.880000  0.360000  0.320000  0.440000  0.240000  0.200000  0.160000   \n",
      "...        ...       ...       ...       ...       ...       ...       ...   \n",
      "2260  0.140653  0.232305  0.358439  0.176044  0.093466  0.016334  0.242287   \n",
      "8611  0.608696  0.434783  0.434783  0.347826  0.391304  0.173913  0.956522   \n",
      "8983  0.018692  0.065421  0.112150  0.420561  0.607477  0.000000  0.196262   \n",
      "3678  0.007692  0.100000  0.146154  0.223077  0.530769  0.069231  0.392308   \n",
      "1034  0.750000  0.390625  0.328125  0.171875  0.046875  0.078125  0.171875   \n",
      "\n",
      "          tcga      tctc      tgcc  ...      tcac      cgcg      ggct  \\\n",
      "5515  0.046698  0.221087  0.104706  ...  0.094491  0.000000  0.103977   \n",
      "1208  0.000000  0.169811  0.396226  ...  0.622642  0.037736  0.320755   \n",
      "7722  0.579365  0.182540  0.227891  ...  0.290249  0.866213  0.226757   \n",
      "2085  0.438796  0.210702  0.213378  ...  0.205351  0.694314  0.175251   \n",
      "2458  0.200000  0.280000  0.000000  ...  0.000000  0.240000  0.240000   \n",
      "...        ...       ...       ...  ...       ...       ...       ...   \n",
      "2260  0.439201  0.108893  0.346642  ...  0.190563  0.695100  0.310345   \n",
      "8611  0.173913  0.695652  0.565217  ...  0.304348  0.217391  0.695652   \n",
      "8983  0.514019  0.420561  0.214953  ...  0.495327  0.205607  0.112150   \n",
      "3678  0.315385  0.176923  0.153846  ...  0.200000  0.115385  0.169231   \n",
      "1034  0.031250  0.078125  0.218750  ...  0.187500  0.328125  0.218750   \n",
      "\n",
      "          cttt      gtat      agtt      tcag      acgt      taac      tcgc  \n",
      "5515  0.527910  0.299891  0.431959  0.168187  0.044874  0.271069  0.019701  \n",
      "1208  0.301887  0.396226  0.396226  0.641509  0.226415  0.320755  0.132075  \n",
      "7722  0.010204  0.026077  0.075964  0.098639  0.250567  0.010204  0.546485  \n",
      "2085  0.017391  0.024749  0.090970  0.118395  0.225418  0.008027  0.422074  \n",
      "2458  0.160000  0.360000  0.240000  0.560000  0.000000  0.160000  0.200000  \n",
      "...        ...       ...       ...       ...       ...       ...       ...  \n",
      "2260  0.098911  0.036298  0.107985  0.141561  0.117967  0.011797  0.343920  \n",
      "8611  0.695652  0.260870  0.434783  0.304348  0.173913  0.086957  0.391304  \n",
      "8983  0.719626  0.271028  0.392523  0.457944  0.373832  0.224299  0.242991  \n",
      "3678  0.238462  0.207692  0.607692  0.184615  0.076923  0.169231  0.061538  \n",
      "1034  0.203125  0.093750  0.109375  0.250000  0.203125  0.187500  0.109375  \n",
      "\n",
      "[2136 rows x 256 columns]\n"
     ]
    }
   ],
   "source": [
    "print(ds['X_test'])"
   ]
  },
  {
   "cell_type": "code",
   "execution_count": 15,
   "metadata": {},
   "outputs": [
    {
     "name": "stdout",
     "output_type": "stream",
     "text": [
      "[0.931, 0.915, 0.953]\n"
     ]
    }
   ],
   "source": [
    "print(l)"
   ]
  }
 ],
 "metadata": {
  "kernelspec": {
   "display_name": "Python 3.8.13 ('seq')",
   "language": "python",
   "name": "python3"
  },
  "language_info": {
   "codemirror_mode": {
    "name": "ipython",
    "version": 3
   },
   "file_extension": ".py",
   "mimetype": "text/x-python",
   "name": "python",
   "nbconvert_exporter": "python",
   "pygments_lexer": "ipython3",
   "version": "3.8.13"
  },
  "orig_nbformat": 4,
  "vscode": {
   "interpreter": {
    "hash": "e1360c63304de9435a2a3572d38e6c9496b6fb5d1617f35fbc8638664d664ab4"
   }
  }
 },
 "nbformat": 4,
 "nbformat_minor": 2
}
