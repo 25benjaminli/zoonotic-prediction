{
 "cells": [
  {
   "cell_type": "code",
   "execution_count": 1,
   "metadata": {},
   "outputs": [
    {
     "name": "stdout",
     "output_type": "stream",
     "text": [
      "/Users/benjaminli/Documents/coding/scires/project/utils\n",
      "/Users/benjaminli/Documents/coding/scires/project\n"
     ]
    }
   ],
   "source": [
    "from itertools import permutations, product\n",
    "\n",
    "import pandas as pd\n",
    "\n",
    "from sklearn.linear_model import LogisticRegression\n",
    "from sklearn.neighbors import KNeighborsClassifier\n",
    "from sklearn.tree import DecisionTreeClassifier\n",
    "from sklearn.ensemble import GradientBoostingClassifier\n",
    "from sklearn.model_selection import RepeatedStratifiedKFold, train_test_split, cross_val_score\n",
    "from sklearn.metrics import accuracy_score, auc, confusion_matrix, balanced_accuracy_score, precision_recall_curve, auc, roc_curve, roc_auc_score\n",
    "from sklearn.inspection import permutation_importance\n",
    "from sklearn import preprocessing\n",
    "\n",
    "from sklearn.neural_network import MLPClassifier\n",
    "\n",
    "from imblearn.ensemble import BalancedBaggingClassifier\n",
    "from xgboost import XGBClassifier\n",
    "\n",
    "import numpy as np\n",
    "from numpy import mean,std\n",
    "from sklearn.model_selection import GridSearchCV\n",
    "\n",
    "import pickle\n",
    "\n",
    "from ctgan import CTGANSynthesizer\n",
    "\n",
    "from os import path\n",
    "\n",
    "import matplotlib.pyplot as plt\n",
    "\n",
    "from warnings import simplefilter\n",
    "from collections import OrderedDict\n",
    "from sklearn import svm\n",
    "if (os.path.abspath('').split('/')[-1] == 'project'):\n",
    "    %cd utils\n",
    "elif (os.path.abspath('').split('/')[-1] == 'train_and_vis'):\n",
    "    %cd ../utils\n",
    "\n",
    "import query_utils\n",
    "import model_utils\n",
    "import validation_utils\n",
    "import data_utils\n",
    "\n",
    "if (os.path.abspath('').split('/')[-1] == 'utils'):\n",
    "    %cd ..\n",
    "\n",
    "\n",
    "simplefilter(action=\"ignore\", category=pd.errors.PerformanceWarning)\n",
    "simplefilter(action='ignore', category=FutureWarning)\n",
    "pd.options.mode.chained_assignment = None"
   ]
  },
  {
   "cell_type": "code",
   "execution_count": 4,
   "metadata": {},
   "outputs": [
    {
     "name": "stdout",
     "output_type": "stream",
     "text": [
      "          cctg      gtgt      acac      ccga      ttga      accg      ctca  \\\n",
      "0     0.297872  0.819149  0.446809  0.074468  0.265957  0.063830  0.106383   \n",
      "1     0.297872  0.819149  0.446809  0.074468  0.265957  0.063830  0.106383   \n",
      "2     0.297872  0.819149  0.446809  0.074468  0.265957  0.063830  0.106383   \n",
      "3     0.367347  0.857143  0.469388  0.040816  0.295918  0.081633  0.081633   \n",
      "4     0.483871  0.451613  0.580645  0.494624  0.311828  0.677419  0.129032   \n",
      "...        ...       ...       ...       ...       ...       ...       ...   \n",
      "1195  0.341772  0.265823  0.379747  0.101266  0.582278  0.126582  0.202532   \n",
      "1196  0.368421  0.394737  0.513158  0.052632  0.500000  0.092105  0.236842   \n",
      "1197  0.678571  0.797619  0.535714  0.071429  0.250000  0.166667  0.107143   \n",
      "1198  0.549451  0.791209  0.527473  0.153846  0.296703  0.098901  0.087912   \n",
      "1199  0.414634  0.292683  0.365854  0.060976  0.487805  0.158537  0.134146   \n",
      "\n",
      "          tgtt      agcc      cgtt  ...      tggg      aata      tatg  \\\n",
      "0     0.712766  0.095745  0.085106  ...  0.372340  0.702128  0.617021   \n",
      "1     0.712766  0.095745  0.085106  ...  0.372340  0.702128  0.617021   \n",
      "2     0.712766  0.095745  0.085106  ...  0.372340  0.702128  0.617021   \n",
      "3     0.806122  0.214286  0.102041  ...  0.285714  0.581633  0.744898   \n",
      "4     0.204301  0.365591  0.129032  ...  0.204301  0.161290  0.161290   \n",
      "...        ...       ...       ...  ...       ...       ...       ...   \n",
      "1195  0.594937  0.164557  0.088608  ...  0.202532  0.721519  0.493671   \n",
      "1196  0.697368  0.171053  0.118421  ...  0.342105  0.750000  0.500000   \n",
      "1197  0.559524  0.214286  0.154762  ...  0.583333  0.309524  0.571429   \n",
      "1198  0.560440  0.252747  0.120879  ...  0.450549  0.318681  0.637363   \n",
      "1199  0.475610  0.146341  0.085366  ...  0.304878  0.658537  0.329268   \n",
      "\n",
      "          gatc      ttac      ggga      ggtc      atac      atta      ccgc  \n",
      "0     0.095745  0.500000  0.202128  0.106383  0.500000  0.659574  0.021277  \n",
      "1     0.095745  0.500000  0.202128  0.106383  0.500000  0.659574  0.021277  \n",
      "2     0.095745  0.500000  0.202128  0.106383  0.500000  0.659574  0.021277  \n",
      "3     0.051020  0.551020  0.204082  0.122449  0.438776  0.704082  0.142857  \n",
      "4     0.311828  0.301075  0.290323  0.268817  0.376344  0.096774  0.462366  \n",
      "...        ...       ...       ...       ...       ...       ...       ...  \n",
      "1195  0.291139  0.354430  0.215190  0.164557  0.468354  0.670886  0.088608  \n",
      "1196  0.276316  0.513158  0.355263  0.276316  0.447368  0.776316  0.026316  \n",
      "1197  0.142857  0.250000  0.559524  0.095238  0.369048  0.392857  0.095238  \n",
      "1198  0.131868  0.285714  0.395604  0.186813  0.318681  0.340659  0.065934  \n",
      "1199  0.256098  0.329268  0.268293  0.365854  0.365854  0.585366  0.000000  \n",
      "\n",
      "[1200 rows x 256 columns]\n"
     ]
    },
    {
     "ename": "KeyboardInterrupt",
     "evalue": "",
     "output_type": "error",
     "traceback": [
      "\u001b[0;31m---------------------------------------------------------------------------\u001b[0m",
      "\u001b[0;31mKeyboardInterrupt\u001b[0m                         Traceback (most recent call last)",
      "\u001b[1;32m/Users/benjaminli/Documents/coding/scires/project/models.ipynb Cell 3\u001b[0m in \u001b[0;36m<cell line: 6>\u001b[0;34m()\u001b[0m\n\u001b[1;32m      <a href='vscode-notebook-cell:/Users/benjaminli/Documents/coding/scires/project/models.ipynb#W2sZmlsZQ%3D%3D?line=2'>3</a>\u001b[0m \u001b[39mprint\u001b[39m(isZoonotic)\n\u001b[1;32m      <a href='vscode-notebook-cell:/Users/benjaminli/Documents/coding/scires/project/models.ipynb#W2sZmlsZQ%3D%3D?line=4'>5</a>\u001b[0m posGanModel \u001b[39m=\u001b[39m CTGANSynthesizer(batch_size\u001b[39m=\u001b[39m\u001b[39m60\u001b[39m, epochs\u001b[39m=\u001b[39m\u001b[39m10\u001b[39m, verbose\u001b[39m=\u001b[39m\u001b[39mTrue\u001b[39;00m)\n\u001b[0;32m----> <a href='vscode-notebook-cell:/Users/benjaminli/Documents/coding/scires/project/models.ipynb#W2sZmlsZQ%3D%3D?line=5'>6</a>\u001b[0m posGanModel\u001b[39m.\u001b[39;49mfit(isZoonotic)\n\u001b[1;32m      <a href='vscode-notebook-cell:/Users/benjaminli/Documents/coding/scires/project/models.ipynb#W2sZmlsZQ%3D%3D?line=7'>8</a>\u001b[0m \u001b[39m# check if current model is better than pickled model\u001b[39;00m\n\u001b[1;32m      <a href='vscode-notebook-cell:/Users/benjaminli/Documents/coding/scires/project/models.ipynb#W2sZmlsZQ%3D%3D?line=8'>9</a>\u001b[0m posGanModel\u001b[39m.\u001b[39msave(\u001b[39m'\u001b[39m\u001b[39mmodels/curr_models/posGanModel.pkl\u001b[39m\u001b[39m'\u001b[39m)\n",
      "File \u001b[0;32m~/opt/miniconda3/envs/seq/lib/python3.8/site-packages/ctgan/synthesizers/base.py:50\u001b[0m, in \u001b[0;36mrandom_state.<locals>.wrapper\u001b[0;34m(self, *args, **kwargs)\u001b[0m\n\u001b[1;32m     48\u001b[0m \u001b[39mdef\u001b[39;00m \u001b[39mwrapper\u001b[39m(\u001b[39mself\u001b[39m, \u001b[39m*\u001b[39margs, \u001b[39m*\u001b[39m\u001b[39m*\u001b[39mkwargs):\n\u001b[1;32m     49\u001b[0m     \u001b[39mif\u001b[39;00m \u001b[39mself\u001b[39m\u001b[39m.\u001b[39mrandom_states \u001b[39mis\u001b[39;00m \u001b[39mNone\u001b[39;00m:\n\u001b[0;32m---> 50\u001b[0m         \u001b[39mreturn\u001b[39;00m function(\u001b[39mself\u001b[39;49m, \u001b[39m*\u001b[39;49margs, \u001b[39m*\u001b[39;49m\u001b[39m*\u001b[39;49mkwargs)\n\u001b[1;32m     52\u001b[0m     \u001b[39melse\u001b[39;00m:\n\u001b[1;32m     53\u001b[0m         \u001b[39mwith\u001b[39;00m set_random_states(\u001b[39mself\u001b[39m\u001b[39m.\u001b[39mrandom_states, \u001b[39mself\u001b[39m\u001b[39m.\u001b[39mset_random_state):\n",
      "File \u001b[0;32m~/opt/miniconda3/envs/seq/lib/python3.8/site-packages/ctgan/synthesizers/ctgan.py:306\u001b[0m, in \u001b[0;36mCTGANSynthesizer.fit\u001b[0;34m(self, train_data, discrete_columns, epochs)\u001b[0m\n\u001b[1;32m    299\u001b[0m     warnings\u001b[39m.\u001b[39mwarn(\n\u001b[1;32m    300\u001b[0m         (\u001b[39m'\u001b[39m\u001b[39m`epochs` argument in `fit` method has been deprecated and will be removed \u001b[39m\u001b[39m'\u001b[39m\n\u001b[1;32m    301\u001b[0m          \u001b[39m'\u001b[39m\u001b[39min a future version. Please pass `epochs` to the constructor instead\u001b[39m\u001b[39m'\u001b[39m),\n\u001b[1;32m    302\u001b[0m         \u001b[39mDeprecationWarning\u001b[39;00m\n\u001b[1;32m    303\u001b[0m     )\n\u001b[1;32m    305\u001b[0m \u001b[39mself\u001b[39m\u001b[39m.\u001b[39m_transformer \u001b[39m=\u001b[39m DataTransformer()\n\u001b[0;32m--> 306\u001b[0m \u001b[39mself\u001b[39;49m\u001b[39m.\u001b[39;49m_transformer\u001b[39m.\u001b[39;49mfit(train_data, discrete_columns)\n\u001b[1;32m    308\u001b[0m train_data \u001b[39m=\u001b[39m \u001b[39mself\u001b[39m\u001b[39m.\u001b[39m_transformer\u001b[39m.\u001b[39mtransform(train_data)\n\u001b[1;32m    310\u001b[0m \u001b[39mself\u001b[39m\u001b[39m.\u001b[39m_data_sampler \u001b[39m=\u001b[39m DataSampler(\n\u001b[1;32m    311\u001b[0m     train_data,\n\u001b[1;32m    312\u001b[0m     \u001b[39mself\u001b[39m\u001b[39m.\u001b[39m_transformer\u001b[39m.\u001b[39moutput_info_list,\n\u001b[1;32m    313\u001b[0m     \u001b[39mself\u001b[39m\u001b[39m.\u001b[39m_log_frequency)\n",
      "File \u001b[0;32m~/opt/miniconda3/envs/seq/lib/python3.8/site-packages/ctgan/data_transformer.py:104\u001b[0m, in \u001b[0;36mDataTransformer.fit\u001b[0;34m(self, raw_data, discrete_columns)\u001b[0m\n\u001b[1;32m    102\u001b[0m     column_transform_info \u001b[39m=\u001b[39m \u001b[39mself\u001b[39m\u001b[39m.\u001b[39m_fit_discrete(raw_data[[column_name]])\n\u001b[1;32m    103\u001b[0m \u001b[39melse\u001b[39;00m:\n\u001b[0;32m--> 104\u001b[0m     column_transform_info \u001b[39m=\u001b[39m \u001b[39mself\u001b[39;49m\u001b[39m.\u001b[39;49m_fit_continuous(raw_data[[column_name]])\n\u001b[1;32m    106\u001b[0m \u001b[39mself\u001b[39m\u001b[39m.\u001b[39moutput_info_list\u001b[39m.\u001b[39mappend(column_transform_info\u001b[39m.\u001b[39moutput_info)\n\u001b[1;32m    107\u001b[0m \u001b[39mself\u001b[39m\u001b[39m.\u001b[39moutput_dimensions \u001b[39m+\u001b[39m\u001b[39m=\u001b[39m column_transform_info\u001b[39m.\u001b[39moutput_dimensions\n",
      "File \u001b[0;32m~/opt/miniconda3/envs/seq/lib/python3.8/site-packages/ctgan/data_transformer.py:50\u001b[0m, in \u001b[0;36mDataTransformer._fit_continuous\u001b[0;34m(self, data)\u001b[0m\n\u001b[1;32m     48\u001b[0m column_name \u001b[39m=\u001b[39m data\u001b[39m.\u001b[39mcolumns[\u001b[39m0\u001b[39m]\n\u001b[1;32m     49\u001b[0m gm \u001b[39m=\u001b[39m ClusterBasedNormalizer(model_missing_values\u001b[39m=\u001b[39m\u001b[39mTrue\u001b[39;00m, max_clusters\u001b[39m=\u001b[39m\u001b[39mmin\u001b[39m(\u001b[39mlen\u001b[39m(data), \u001b[39m10\u001b[39m))\n\u001b[0;32m---> 50\u001b[0m gm\u001b[39m.\u001b[39;49mfit(data, column_name)\n\u001b[1;32m     51\u001b[0m num_components \u001b[39m=\u001b[39m \u001b[39msum\u001b[39m(gm\u001b[39m.\u001b[39mvalid_component_indicator)\n\u001b[1;32m     53\u001b[0m \u001b[39mreturn\u001b[39;00m ColumnTransformInfo(\n\u001b[1;32m     54\u001b[0m     column_name\u001b[39m=\u001b[39mcolumn_name, column_type\u001b[39m=\u001b[39m\u001b[39m'\u001b[39m\u001b[39mcontinuous\u001b[39m\u001b[39m'\u001b[39m, transform\u001b[39m=\u001b[39mgm,\n\u001b[1;32m     55\u001b[0m     output_info\u001b[39m=\u001b[39m[SpanInfo(\u001b[39m1\u001b[39m, \u001b[39m'\u001b[39m\u001b[39mtanh\u001b[39m\u001b[39m'\u001b[39m), SpanInfo(num_components, \u001b[39m'\u001b[39m\u001b[39msoftmax\u001b[39m\u001b[39m'\u001b[39m)],\n\u001b[1;32m     56\u001b[0m     output_dimensions\u001b[39m=\u001b[39m\u001b[39m1\u001b[39m \u001b[39m+\u001b[39m num_components)\n",
      "File \u001b[0;32m~/opt/miniconda3/envs/seq/lib/python3.8/site-packages/rdt/transformers/base.py:240\u001b[0m, in \u001b[0;36mBaseTransformer.fit\u001b[0;34m(self, data, column)\u001b[0m\n\u001b[1;32m    237\u001b[0m \u001b[39mself\u001b[39m\u001b[39m.\u001b[39m_store_columns(column, data)\n\u001b[1;32m    239\u001b[0m columns_data \u001b[39m=\u001b[39m \u001b[39mself\u001b[39m\u001b[39m.\u001b[39m_get_columns_data(data, \u001b[39mself\u001b[39m\u001b[39m.\u001b[39mcolumns)\n\u001b[0;32m--> 240\u001b[0m \u001b[39mself\u001b[39;49m\u001b[39m.\u001b[39;49m_fit(columns_data)\n\u001b[1;32m    242\u001b[0m \u001b[39mself\u001b[39m\u001b[39m.\u001b[39m_build_output_columns(data)\n",
      "File \u001b[0;32m~/opt/miniconda3/envs/seq/lib/python3.8/site-packages/rdt/transformers/numerical.py:469\u001b[0m, in \u001b[0;36mClusterBasedNormalizer._fit\u001b[0;34m(self, data)\u001b[0m\n\u001b[1;32m    467\u001b[0m \u001b[39mwith\u001b[39;00m warnings\u001b[39m.\u001b[39mcatch_warnings():\n\u001b[1;32m    468\u001b[0m     warnings\u001b[39m.\u001b[39msimplefilter(\u001b[39m'\u001b[39m\u001b[39mignore\u001b[39m\u001b[39m'\u001b[39m)\n\u001b[0;32m--> 469\u001b[0m     \u001b[39mself\u001b[39;49m\u001b[39m.\u001b[39;49m_bgm_transformer\u001b[39m.\u001b[39;49mfit(data\u001b[39m.\u001b[39;49mreshape(\u001b[39m-\u001b[39;49m\u001b[39m1\u001b[39;49m, \u001b[39m1\u001b[39;49m))\n\u001b[1;32m    471\u001b[0m \u001b[39mself\u001b[39m\u001b[39m.\u001b[39mvalid_component_indicator \u001b[39m=\u001b[39m \u001b[39mself\u001b[39m\u001b[39m.\u001b[39m_bgm_transformer\u001b[39m.\u001b[39mweights_ \u001b[39m>\u001b[39m \u001b[39mself\u001b[39m\u001b[39m.\u001b[39mweight_threshold\n",
      "File \u001b[0;32m~/opt/miniconda3/envs/seq/lib/python3.8/site-packages/sklearn/mixture/_base.py:200\u001b[0m, in \u001b[0;36mBaseMixture.fit\u001b[0;34m(self, X, y)\u001b[0m\n\u001b[1;32m    174\u001b[0m \u001b[39mdef\u001b[39;00m \u001b[39mfit\u001b[39m(\u001b[39mself\u001b[39m, X, y\u001b[39m=\u001b[39m\u001b[39mNone\u001b[39;00m):\n\u001b[1;32m    175\u001b[0m     \u001b[39m\"\"\"Estimate model parameters with the EM algorithm.\u001b[39;00m\n\u001b[1;32m    176\u001b[0m \n\u001b[1;32m    177\u001b[0m \u001b[39m    The method fits the model ``n_init`` times and sets the parameters with\u001b[39;00m\n\u001b[0;32m   (...)\u001b[0m\n\u001b[1;32m    198\u001b[0m \u001b[39m        The fitted mixture.\u001b[39;00m\n\u001b[1;32m    199\u001b[0m \u001b[39m    \"\"\"\u001b[39;00m\n\u001b[0;32m--> 200\u001b[0m     \u001b[39mself\u001b[39;49m\u001b[39m.\u001b[39;49mfit_predict(X, y)\n\u001b[1;32m    201\u001b[0m     \u001b[39mreturn\u001b[39;00m \u001b[39mself\u001b[39m\n",
      "File \u001b[0;32m~/opt/miniconda3/envs/seq/lib/python3.8/site-packages/sklearn/mixture/_base.py:266\u001b[0m, in \u001b[0;36mBaseMixture.fit_predict\u001b[0;34m(self, X, y)\u001b[0m\n\u001b[1;32m    264\u001b[0m log_prob_norm, log_resp \u001b[39m=\u001b[39m \u001b[39mself\u001b[39m\u001b[39m.\u001b[39m_e_step(X)\n\u001b[1;32m    265\u001b[0m \u001b[39mself\u001b[39m\u001b[39m.\u001b[39m_m_step(X, log_resp)\n\u001b[0;32m--> 266\u001b[0m lower_bound \u001b[39m=\u001b[39m \u001b[39mself\u001b[39;49m\u001b[39m.\u001b[39;49m_compute_lower_bound(log_resp, log_prob_norm)\n\u001b[1;32m    268\u001b[0m change \u001b[39m=\u001b[39m lower_bound \u001b[39m-\u001b[39m prev_lower_bound\n\u001b[1;32m    269\u001b[0m \u001b[39mself\u001b[39m\u001b[39m.\u001b[39m_print_verbose_msg_iter_end(n_iter, change)\n",
      "File \u001b[0;32m~/opt/miniconda3/envs/seq/lib/python3.8/site-packages/sklearn/mixture/_bayesian_mixture.py:846\u001b[0m, in \u001b[0;36mBayesianGaussianMixture._compute_lower_bound\u001b[0;34m(self, log_resp, log_prob_norm)\u001b[0m\n\u001b[1;32m    842\u001b[0m \u001b[39melse\u001b[39;00m:\n\u001b[1;32m    843\u001b[0m     log_norm_weight \u001b[39m=\u001b[39m _log_dirichlet_norm(\u001b[39mself\u001b[39m\u001b[39m.\u001b[39mweight_concentration_)\n\u001b[1;32m    845\u001b[0m \u001b[39mreturn\u001b[39;00m (\n\u001b[0;32m--> 846\u001b[0m     \u001b[39m-\u001b[39mnp\u001b[39m.\u001b[39msum(np\u001b[39m.\u001b[39;49mexp(log_resp) \u001b[39m*\u001b[39m log_resp)\n\u001b[1;32m    847\u001b[0m     \u001b[39m-\u001b[39m log_wishart\n\u001b[1;32m    848\u001b[0m     \u001b[39m-\u001b[39m log_norm_weight\n\u001b[1;32m    849\u001b[0m     \u001b[39m-\u001b[39m \u001b[39m0.5\u001b[39m \u001b[39m*\u001b[39m n_features \u001b[39m*\u001b[39m np\u001b[39m.\u001b[39msum(np\u001b[39m.\u001b[39mlog(\u001b[39mself\u001b[39m\u001b[39m.\u001b[39mmean_precision_))\n\u001b[1;32m    850\u001b[0m )\n",
      "\u001b[0;31mKeyboardInterrupt\u001b[0m: "
     ]
    }
   ],
   "source": [
    "isZoonotic = df.loc[df['isZoonotic']==1][:1200]\n",
    "isZoonotic = isZoonotic.loc[:, isZoonotic.columns != 'isZoonotic']\n",
    "print(isZoonotic)\n",
    "\n",
    "posGanModel = CTGANSynthesizer(batch_size=60, epochs=10, verbose=True)\n",
    "posGanModel.fit(isZoonotic)\n",
    "\n",
    "# check if current model is better than pickled model\n",
    "posGanModel.save('models/curr_models/posGanModel.pkl')"
   ]
  },
  {
   "cell_type": "code",
   "execution_count": 50,
   "metadata": {},
   "outputs": [
    {
     "name": "stdout",
     "output_type": "stream",
     "text": [
      "          tggc      ttcc      tatg  ...      cttg      ctat      tctt\n",
      "0     0.329787  0.297872  0.617021  ...  0.148936  0.393617  0.170213\n",
      "1     0.377551  0.255102  0.744898  ...  0.153061  0.367347  0.112245\n",
      "2     0.462366  0.279570  0.161290  ...  0.182796  0.193548  0.118280\n",
      "3     0.455446  0.188119  0.475248  ...  0.188119  0.386139  0.138614\n",
      "4     0.666667  0.333333  0.575758  ...  0.636364  0.515152  0.424242\n",
      "...        ...       ...       ...  ...       ...       ...       ...\n",
      "1195  0.404762  0.333333  0.571429  ...  0.261905  0.357143  0.202381\n",
      "1196  0.417582  0.252747  0.637363  ...  0.208791  0.274725  0.153846\n",
      "1197  0.341463  0.146341  0.329268  ...  0.207317  0.231707  0.231707\n",
      "1198  0.192308  0.153846  0.461538  ...  0.166667  0.320513  0.230769\n",
      "1199  0.226190  0.273810  0.428571  ...  0.166667  0.357143  0.285714\n",
      "\n",
      "[1200 rows x 256 columns]\n",
      "Epoch 1, Loss G:  1.8207,Loss D: -5.4888\n",
      "Epoch 2, Loss G: -1.7336,Loss D: -0.0555\n",
      "Epoch 3, Loss G: -1.9224,Loss D:  1.3800\n",
      "Epoch 4, Loss G: -0.3142,Loss D:  0.9002\n",
      "Epoch 5, Loss G:  0.2182,Loss D:  2.5544\n",
      "Epoch 6, Loss G:  0.4122,Loss D: -0.4554\n",
      "Epoch 7, Loss G: -1.5571,Loss D:  1.5836\n",
      "Epoch 8, Loss G:  0.5802,Loss D: -0.5996\n",
      "Epoch 9, Loss G:  0.9459,Loss D: -0.2177\n",
      "Epoch 10, Loss G: -0.0489,Loss D: -0.7818\n"
     ]
    }
   ],
   "source": [
    "notZoonotic = df.loc[df['isZoonotic']==0][:3000]\n",
    "notZoonotic = isZoonotic.loc[:, isZoonotic.columns != 'isZoonotic']\n",
    "print(notZoonotic)\n",
    "\n",
    "negGanModel = CTGANSynthesizer(batch_size=60, epochs=10, verbose=True)\n",
    "negGanModel.fit(notZoonotic)\n",
    "negGanModel.save('models/curr_models/negGanModel.pkl')"
   ]
  },
  {
   "cell_type": "code",
   "execution_count": 2,
   "metadata": {},
   "outputs": [
    {
     "name": "stdout",
     "output_type": "stream",
     "text": [
      "kmer: 3\n",
      "kmer: 4\n",
      "kmer: 5\n",
      "kmer: 6\n"
     ]
    }
   ],
   "source": [
    "dataset1 = OrderedDict({})\n",
    "\n",
    "dataset2 = OrderedDict({})\n",
    "\n",
    "mergedDataset = OrderedDict({})\n",
    "\n",
    "\n",
    "# load datasets with different kmer values\n",
    "for kmer in range(3, 7):\n",
    "    df_1_reg = pd.read_csv(f'data/dataset1/kmers-{str(kmer)}.csv')\n",
    "    df_1_norm = pd.read_csv(f'data/dataset1/normalized-{str(kmer)}.csv')\n",
    "    df_2_reg = pd.read_csv(f'data/dataset2/kmers-{str(kmer)}.csv')\n",
    "    df_2_norm = pd.read_csv(f'data/dataset2/normalized-{str(kmer)}.csv')\n",
    "\n",
    "    print(\"kmer: \" + str(kmer))\n",
    "\n",
    "    X_train, X_test, y_train, y_test = train_test_split(df_1_reg.loc[:, df_1_reg.columns != 'isZoonotic'], df_1_reg['isZoonotic'], test_size=0.2, random_state=1)\n",
    "    # for col in df.columns:\n",
    "    #     col != 'isZoonotic' and X_train[col].isnull().sum() != 0 and print(X_train[col].isnull().sum())\n",
    "    y_train = y_train.values.ravel()\n",
    "    y_test = y_test.values.ravel()\n",
    "\n",
    "    dataset1[f'regular-{kmer}'] = {'X_train': X_train, 'X_test': X_test, 'y_train': y_train, 'y_test': y_test}\n",
    "\n",
    "    X_train, X_test, y_train, y_test = train_test_split(df_1_norm.loc[:, df_1_norm.columns != 'isZoonotic'], df_1_norm['isZoonotic'], test_size=0.2, random_state=1)\n",
    "    y_train = y_train.values.ravel()\n",
    "    y_test = y_test.values.ravel()\n",
    "\n",
    "    dataset1[f'normalized-{kmer}'] = {'X_train': X_train, 'X_test': X_test, 'y_train': y_train, 'y_test': y_test}\n",
    "\n",
    "    X_train, X_test, y_train, y_test = train_test_split(df_2_reg.loc[:, df_2_reg.columns != 'isZoonotic'], df_2_reg['isZoonotic'], test_size=0.2, random_state=1)\n",
    "    y_train = y_train.values.ravel()\n",
    "    y_test = y_test.values.ravel()\n",
    "\n",
    "    dataset2[f'regular-{kmer}'] = {'X_train': X_train, 'X_test': X_test, 'y_train': y_train, 'y_test': y_test}\n",
    "\n",
    "    X_train, X_test, y_train, y_test = train_test_split(df_2_norm.loc[:, df_2_norm.columns != 'isZoonotic'], df_2_norm['isZoonotic'], test_size=0.2, random_state=1)\n",
    "    y_train = y_train.values.ravel()\n",
    "    y_test = y_test.values.ravel()\n",
    "\n",
    "    dataset2[f'normalized-{kmer}'] = {'X_train': X_train, 'X_test': X_test, 'y_train': y_train, 'y_test': y_test}\n",
    "\n",
    "\n",
    "    # merge df_1 and df_2\n",
    "    df_reg = df_1_reg.append(df_2_reg)\n",
    "    df_norm = df_1_norm.append(df_2_norm)\n",
    "\n",
    "    df_reg.reset_index(drop=True, inplace=True)\n",
    "    df_norm.reset_index(drop=True, inplace=True)\n",
    "\n",
    "    X_train, X_test, y_train, y_test = train_test_split(df_reg.loc[:, df_reg.columns != 'isZoonotic'], df_reg['isZoonotic'], test_size=0.2, random_state=1)\n",
    "    y_train = y_train.values.ravel()\n",
    "    y_test = y_test.values.ravel()\n",
    "\n",
    "    mergedDataset[f'regular-{kmer}'] = {'X_train': X_train, 'X_test': X_test, 'y_train': y_train, 'y_test': y_test}\n",
    "\n",
    "    X_train, X_test, y_train, y_test = train_test_split(df_norm.loc[:, df_norm.columns != 'isZoonotic'], df_norm['isZoonotic'], test_size=0.2, random_state=1)\n",
    "    y_train = y_train.values.ravel()\n",
    "    y_test = y_test.values.ravel()\n",
    "    \n",
    "    mergedDataset[f'normalized-{kmer}'] = {'X_train': X_train, 'X_test': X_test, 'y_train': y_train, 'y_test': y_test}\n",
    "\n",
    "datasets = {\"zhang\": dataset1, \"nardus\": dataset2, \"merged\": mergedDataset}"
   ]
  },
  {
   "cell_type": "code",
   "execution_count": null,
   "metadata": {},
   "outputs": [],
   "source": [
    "clf = svm.SVC(kernel='linear', probability=True)\n",
    "model_utils.getOptimalModels(clf, datasets, kmer_range=[4, 6], onlyNormalized = True)"
   ]
  },
  {
   "cell_type": "code",
   "execution_count": 8,
   "metadata": {},
   "outputs": [
    {
     "name": "stdout",
     "output_type": "stream",
     "text": [
      "LogisticRegression\n"
     ]
    },
    {
     "name": "stderr",
     "output_type": "stream",
     "text": [
      "[Parallel(n_jobs=-1)]: Using backend LokyBackend with 10 concurrent workers.\n",
      "[Parallel(n_jobs=-1)]: Done  30 out of  30 | elapsed:    4.4s finished\n"
     ]
    },
    {
     "name": "stdout",
     "output_type": "stream",
     "text": [
      "Accuracy: 0.889 (0.017)\n",
      "tn: 1829, fp: 53, fn: 157, tp: 197\n",
      "LogisticRegression\n"
     ]
    },
    {
     "name": "stderr",
     "output_type": "stream",
     "text": [
      "[Parallel(n_jobs=-1)]: Using backend LokyBackend with 10 concurrent workers.\n",
      "[Parallel(n_jobs=-1)]: Done  30 out of  30 | elapsed:   12.5s finished\n"
     ]
    },
    {
     "name": "stdout",
     "output_type": "stream",
     "text": [
      "Accuracy: 0.841 (0.004)\n",
      "tn: 1881, fp: 1, fn: 354, tp: 0\n",
      "LogisticRegression\n"
     ]
    },
    {
     "name": "stderr",
     "output_type": "stream",
     "text": [
      "[Parallel(n_jobs=-1)]: Using backend LokyBackend with 10 concurrent workers.\n",
      "[Parallel(n_jobs=-1)]: Done  30 out of  30 | elapsed:    1.7s finished\n"
     ]
    },
    {
     "name": "stdout",
     "output_type": "stream",
     "text": [
      "Accuracy: 0.889 (0.017)\n",
      "tn: 1766, fp: 116, fn: 250, tp: 104\n",
      "LogisticRegression\n"
     ]
    },
    {
     "name": "stderr",
     "output_type": "stream",
     "text": [
      "[Parallel(n_jobs=-1)]: Using backend LokyBackend with 10 concurrent workers.\n",
      "[Parallel(n_jobs=-1)]: Done  30 out of  30 | elapsed:   12.2s finished\n"
     ]
    },
    {
     "name": "stdout",
     "output_type": "stream",
     "text": [
      "Accuracy: 0.841 (0.004)\n",
      "tn: 1836, fp: 46, fn: 320, tp: 34\n",
      "LogisticRegression\n"
     ]
    },
    {
     "name": "stderr",
     "output_type": "stream",
     "text": [
      "[Parallel(n_jobs=-1)]: Using backend LokyBackend with 10 concurrent workers.\n",
      "[Parallel(n_jobs=-1)]: Done  30 out of  30 | elapsed:    1.8s finished\n"
     ]
    },
    {
     "name": "stdout",
     "output_type": "stream",
     "text": [
      "Accuracy: 0.889 (0.017)\n",
      "tn: 1825, fp: 57, fn: 159, tp: 195\n",
      "LogisticRegression\n"
     ]
    },
    {
     "name": "stderr",
     "output_type": "stream",
     "text": [
      "[Parallel(n_jobs=-1)]: Using backend LokyBackend with 10 concurrent workers.\n",
      "[Parallel(n_jobs=-1)]: Done  30 out of  30 | elapsed:   12.9s finished\n"
     ]
    },
    {
     "name": "stdout",
     "output_type": "stream",
     "text": [
      "Accuracy: 0.841 (0.004)\n",
      "tn: 1879, fp: 3, fn: 354, tp: 0\n",
      "LogisticRegression\n"
     ]
    },
    {
     "name": "stderr",
     "output_type": "stream",
     "text": [
      "[Parallel(n_jobs=-1)]: Using backend LokyBackend with 10 concurrent workers.\n",
      "[Parallel(n_jobs=-1)]: Done  30 out of  30 | elapsed:   10.5s finished\n"
     ]
    },
    {
     "name": "stdout",
     "output_type": "stream",
     "text": [
      "Accuracy: 0.896 (0.016)\n",
      "tn: 1829, fp: 53, fn: 121, tp: 233\n",
      "LogisticRegression\n"
     ]
    },
    {
     "name": "stderr",
     "output_type": "stream",
     "text": [
      "[Parallel(n_jobs=-1)]: Using backend LokyBackend with 10 concurrent workers.\n",
      "[Parallel(n_jobs=-1)]: Done  30 out of  30 | elapsed:   55.5s finished\n"
     ]
    },
    {
     "name": "stdout",
     "output_type": "stream",
     "text": [
      "Accuracy: 0.844 (0.010)\n",
      "tn: 1880, fp: 2, fn: 354, tp: 0\n",
      "LogisticRegression\n"
     ]
    },
    {
     "name": "stderr",
     "output_type": "stream",
     "text": [
      "[Parallel(n_jobs=-1)]: Using backend LokyBackend with 10 concurrent workers.\n"
     ]
    },
    {
     "ename": "KeyboardInterrupt",
     "evalue": "",
     "output_type": "error",
     "traceback": [
      "\u001b[0;31m---------------------------------------------------------------------------\u001b[0m",
      "\u001b[0;31mKeyboardInterrupt\u001b[0m                         Traceback (most recent call last)",
      "\u001b[1;32m/Users/benjaminli/Documents/coding/scires/project/train_and_vis/models.ipynb Cell 9\u001b[0m in \u001b[0;36m<cell line: 5>\u001b[0;34m()\u001b[0m\n\u001b[1;32m     <a href='vscode-notebook-cell:/Users/benjaminli/Documents/coding/scires/project/train_and_vis/models.ipynb#X13sZmlsZQ%3D%3D?line=9'>10</a>\u001b[0m lrmodel \u001b[39m=\u001b[39m LogisticRegression(\n\u001b[1;32m     <a href='vscode-notebook-cell:/Users/benjaminli/Documents/coding/scires/project/train_and_vis/models.ipynb#X13sZmlsZQ%3D%3D?line=10'>11</a>\u001b[0m     multi_class\u001b[39m=\u001b[39m\u001b[39m\"\u001b[39m\u001b[39mmultinomial\u001b[39m\u001b[39m\"\u001b[39m, max_iter\u001b[39m=\u001b[39m\u001b[39m1000\u001b[39m,\n\u001b[1;32m     <a href='vscode-notebook-cell:/Users/benjaminli/Documents/coding/scires/project/train_and_vis/models.ipynb#X13sZmlsZQ%3D%3D?line=11'>12</a>\u001b[0m     fit_intercept\u001b[39m=\u001b[39m\u001b[39mFalse\u001b[39;00m, tol\u001b[39m=\u001b[39m\u001b[39m0.001\u001b[39m, solver\u001b[39m=\u001b[39m\u001b[39m'\u001b[39m\u001b[39msaga\u001b[39m\u001b[39m'\u001b[39m, random_state\u001b[39m=\u001b[39m\u001b[39m42\u001b[39m)\n\u001b[1;32m     <a href='vscode-notebook-cell:/Users/benjaminli/Documents/coding/scires/project/train_and_vis/models.ipynb#X13sZmlsZQ%3D%3D?line=12'>13</a>\u001b[0m lrmodel\u001b[39m.\u001b[39mfit(ds[\u001b[39m'\u001b[39m\u001b[39mX_train\u001b[39m\u001b[39m'\u001b[39m], ds[\u001b[39m'\u001b[39m\u001b[39my_train\u001b[39m\u001b[39m'\u001b[39m])\n\u001b[0;32m---> <a href='vscode-notebook-cell:/Users/benjaminli/Documents/coding/scires/project/train_and_vis/models.ipynb#X13sZmlsZQ%3D%3D?line=13'>14</a>\u001b[0m acc \u001b[39m=\u001b[39m validation_utils\u001b[39m.\u001b[39;49mcross_validate(lrmodel, merged[\u001b[39m'\u001b[39;49m\u001b[39mX_test\u001b[39;49m\u001b[39m'\u001b[39;49m], merged[\u001b[39m'\u001b[39;49m\u001b[39my_test\u001b[39;49m\u001b[39m'\u001b[39;49m])\n",
      "File \u001b[0;32m~/Documents/coding/scires/project/utils/validation_utils.py:134\u001b[0m, in \u001b[0;36mcross_validate\u001b[0;34m(model, X_test, y_test)\u001b[0m\n\u001b[1;32m    131\u001b[0m X_test \u001b[39m=\u001b[39m transform_data(model, X_test)\n\u001b[1;32m    133\u001b[0m cv \u001b[39m=\u001b[39m RepeatedStratifiedKFold(n_splits\u001b[39m=\u001b[39m\u001b[39m10\u001b[39m, n_repeats\u001b[39m=\u001b[39m\u001b[39m3\u001b[39m, random_state\u001b[39m=\u001b[39m\u001b[39m1\u001b[39m)\n\u001b[0;32m--> 134\u001b[0m n_scores \u001b[39m=\u001b[39m cross_val_score(model, X_test, y_test, scoring\u001b[39m=\u001b[39;49m\u001b[39m'\u001b[39;49m\u001b[39maccuracy\u001b[39;49m\u001b[39m'\u001b[39;49m, cv\u001b[39m=\u001b[39;49mcv, n_jobs\u001b[39m=\u001b[39;49m\u001b[39m-\u001b[39;49m\u001b[39m1\u001b[39;49m, error_score\u001b[39m=\u001b[39;49m\u001b[39m'\u001b[39;49m\u001b[39mraise\u001b[39;49m\u001b[39m'\u001b[39;49m, verbose\u001b[39m=\u001b[39;49m\u001b[39m1\u001b[39;49m)\n\u001b[1;32m    135\u001b[0m \u001b[39mprint\u001b[39m(\u001b[39m'\u001b[39m\u001b[39mAccuracy: \u001b[39m\u001b[39m%.3f\u001b[39;00m\u001b[39m (\u001b[39m\u001b[39m%.3f\u001b[39;00m\u001b[39m)\u001b[39m\u001b[39m'\u001b[39m \u001b[39m%\u001b[39m (mean(n_scores), std(n_scores)))\n\u001b[1;32m    136\u001b[0m tn, fp, fn, tp \u001b[39m=\u001b[39m confusion_matrix(y_test, model\u001b[39m.\u001b[39mpredict(X_test))\u001b[39m.\u001b[39mravel()\n",
      "File \u001b[0;32m~/opt/miniconda3/envs/seq/lib/python3.8/site-packages/sklearn/model_selection/_validation.py:515\u001b[0m, in \u001b[0;36mcross_val_score\u001b[0;34m(estimator, X, y, groups, scoring, cv, n_jobs, verbose, fit_params, pre_dispatch, error_score)\u001b[0m\n\u001b[1;32m    512\u001b[0m \u001b[39m# To ensure multimetric format is not supported\u001b[39;00m\n\u001b[1;32m    513\u001b[0m scorer \u001b[39m=\u001b[39m check_scoring(estimator, scoring\u001b[39m=\u001b[39mscoring)\n\u001b[0;32m--> 515\u001b[0m cv_results \u001b[39m=\u001b[39m cross_validate(\n\u001b[1;32m    516\u001b[0m     estimator\u001b[39m=\u001b[39;49mestimator,\n\u001b[1;32m    517\u001b[0m     X\u001b[39m=\u001b[39;49mX,\n\u001b[1;32m    518\u001b[0m     y\u001b[39m=\u001b[39;49my,\n\u001b[1;32m    519\u001b[0m     groups\u001b[39m=\u001b[39;49mgroups,\n\u001b[1;32m    520\u001b[0m     scoring\u001b[39m=\u001b[39;49m{\u001b[39m\"\u001b[39;49m\u001b[39mscore\u001b[39;49m\u001b[39m\"\u001b[39;49m: scorer},\n\u001b[1;32m    521\u001b[0m     cv\u001b[39m=\u001b[39;49mcv,\n\u001b[1;32m    522\u001b[0m     n_jobs\u001b[39m=\u001b[39;49mn_jobs,\n\u001b[1;32m    523\u001b[0m     verbose\u001b[39m=\u001b[39;49mverbose,\n\u001b[1;32m    524\u001b[0m     fit_params\u001b[39m=\u001b[39;49mfit_params,\n\u001b[1;32m    525\u001b[0m     pre_dispatch\u001b[39m=\u001b[39;49mpre_dispatch,\n\u001b[1;32m    526\u001b[0m     error_score\u001b[39m=\u001b[39;49merror_score,\n\u001b[1;32m    527\u001b[0m )\n\u001b[1;32m    528\u001b[0m \u001b[39mreturn\u001b[39;00m cv_results[\u001b[39m\"\u001b[39m\u001b[39mtest_score\u001b[39m\u001b[39m\"\u001b[39m]\n",
      "File \u001b[0;32m~/opt/miniconda3/envs/seq/lib/python3.8/site-packages/sklearn/model_selection/_validation.py:266\u001b[0m, in \u001b[0;36mcross_validate\u001b[0;34m(estimator, X, y, groups, scoring, cv, n_jobs, verbose, fit_params, pre_dispatch, return_train_score, return_estimator, error_score)\u001b[0m\n\u001b[1;32m    263\u001b[0m \u001b[39m# We clone the estimator to make sure that all the folds are\u001b[39;00m\n\u001b[1;32m    264\u001b[0m \u001b[39m# independent, and that it is pickle-able.\u001b[39;00m\n\u001b[1;32m    265\u001b[0m parallel \u001b[39m=\u001b[39m Parallel(n_jobs\u001b[39m=\u001b[39mn_jobs, verbose\u001b[39m=\u001b[39mverbose, pre_dispatch\u001b[39m=\u001b[39mpre_dispatch)\n\u001b[0;32m--> 266\u001b[0m results \u001b[39m=\u001b[39m parallel(\n\u001b[1;32m    267\u001b[0m     delayed(_fit_and_score)(\n\u001b[1;32m    268\u001b[0m         clone(estimator),\n\u001b[1;32m    269\u001b[0m         X,\n\u001b[1;32m    270\u001b[0m         y,\n\u001b[1;32m    271\u001b[0m         scorers,\n\u001b[1;32m    272\u001b[0m         train,\n\u001b[1;32m    273\u001b[0m         test,\n\u001b[1;32m    274\u001b[0m         verbose,\n\u001b[1;32m    275\u001b[0m         \u001b[39mNone\u001b[39;49;00m,\n\u001b[1;32m    276\u001b[0m         fit_params,\n\u001b[1;32m    277\u001b[0m         return_train_score\u001b[39m=\u001b[39;49mreturn_train_score,\n\u001b[1;32m    278\u001b[0m         return_times\u001b[39m=\u001b[39;49m\u001b[39mTrue\u001b[39;49;00m,\n\u001b[1;32m    279\u001b[0m         return_estimator\u001b[39m=\u001b[39;49mreturn_estimator,\n\u001b[1;32m    280\u001b[0m         error_score\u001b[39m=\u001b[39;49merror_score,\n\u001b[1;32m    281\u001b[0m     )\n\u001b[1;32m    282\u001b[0m     \u001b[39mfor\u001b[39;49;00m train, test \u001b[39min\u001b[39;49;00m cv\u001b[39m.\u001b[39;49msplit(X, y, groups)\n\u001b[1;32m    283\u001b[0m )\n\u001b[1;32m    285\u001b[0m _warn_or_raise_about_fit_failures(results, error_score)\n\u001b[1;32m    287\u001b[0m \u001b[39m# For callabe scoring, the return type is only know after calling. If the\u001b[39;00m\n\u001b[1;32m    288\u001b[0m \u001b[39m# return type is a dictionary, the error scores can now be inserted with\u001b[39;00m\n\u001b[1;32m    289\u001b[0m \u001b[39m# the correct key.\u001b[39;00m\n",
      "File \u001b[0;32m~/opt/miniconda3/envs/seq/lib/python3.8/site-packages/joblib/parallel.py:1098\u001b[0m, in \u001b[0;36mParallel.__call__\u001b[0;34m(self, iterable)\u001b[0m\n\u001b[1;32m   1095\u001b[0m     \u001b[39mself\u001b[39m\u001b[39m.\u001b[39m_iterating \u001b[39m=\u001b[39m \u001b[39mFalse\u001b[39;00m\n\u001b[1;32m   1097\u001b[0m \u001b[39mwith\u001b[39;00m \u001b[39mself\u001b[39m\u001b[39m.\u001b[39m_backend\u001b[39m.\u001b[39mretrieval_context():\n\u001b[0;32m-> 1098\u001b[0m     \u001b[39mself\u001b[39;49m\u001b[39m.\u001b[39;49mretrieve()\n\u001b[1;32m   1099\u001b[0m \u001b[39m# Make sure that we get a last message telling us we are done\u001b[39;00m\n\u001b[1;32m   1100\u001b[0m elapsed_time \u001b[39m=\u001b[39m time\u001b[39m.\u001b[39mtime() \u001b[39m-\u001b[39m \u001b[39mself\u001b[39m\u001b[39m.\u001b[39m_start_time\n",
      "File \u001b[0;32m~/opt/miniconda3/envs/seq/lib/python3.8/site-packages/joblib/parallel.py:975\u001b[0m, in \u001b[0;36mParallel.retrieve\u001b[0;34m(self)\u001b[0m\n\u001b[1;32m    973\u001b[0m \u001b[39mtry\u001b[39;00m:\n\u001b[1;32m    974\u001b[0m     \u001b[39mif\u001b[39;00m \u001b[39mgetattr\u001b[39m(\u001b[39mself\u001b[39m\u001b[39m.\u001b[39m_backend, \u001b[39m'\u001b[39m\u001b[39msupports_timeout\u001b[39m\u001b[39m'\u001b[39m, \u001b[39mFalse\u001b[39;00m):\n\u001b[0;32m--> 975\u001b[0m         \u001b[39mself\u001b[39m\u001b[39m.\u001b[39m_output\u001b[39m.\u001b[39mextend(job\u001b[39m.\u001b[39;49mget(timeout\u001b[39m=\u001b[39;49m\u001b[39mself\u001b[39;49m\u001b[39m.\u001b[39;49mtimeout))\n\u001b[1;32m    976\u001b[0m     \u001b[39melse\u001b[39;00m:\n\u001b[1;32m    977\u001b[0m         \u001b[39mself\u001b[39m\u001b[39m.\u001b[39m_output\u001b[39m.\u001b[39mextend(job\u001b[39m.\u001b[39mget())\n",
      "File \u001b[0;32m~/opt/miniconda3/envs/seq/lib/python3.8/site-packages/joblib/_parallel_backends.py:567\u001b[0m, in \u001b[0;36mLokyBackend.wrap_future_result\u001b[0;34m(future, timeout)\u001b[0m\n\u001b[1;32m    564\u001b[0m \u001b[39m\"\"\"Wrapper for Future.result to implement the same behaviour as\u001b[39;00m\n\u001b[1;32m    565\u001b[0m \u001b[39mAsyncResults.get from multiprocessing.\"\"\"\u001b[39;00m\n\u001b[1;32m    566\u001b[0m \u001b[39mtry\u001b[39;00m:\n\u001b[0;32m--> 567\u001b[0m     \u001b[39mreturn\u001b[39;00m future\u001b[39m.\u001b[39;49mresult(timeout\u001b[39m=\u001b[39;49mtimeout)\n\u001b[1;32m    568\u001b[0m \u001b[39mexcept\u001b[39;00m CfTimeoutError \u001b[39mas\u001b[39;00m e:\n\u001b[1;32m    569\u001b[0m     \u001b[39mraise\u001b[39;00m \u001b[39mTimeoutError\u001b[39;00m \u001b[39mfrom\u001b[39;00m \u001b[39me\u001b[39;00m\n",
      "File \u001b[0;32m~/opt/miniconda3/envs/seq/lib/python3.8/concurrent/futures/_base.py:439\u001b[0m, in \u001b[0;36mFuture.result\u001b[0;34m(self, timeout)\u001b[0m\n\u001b[1;32m    436\u001b[0m \u001b[39melif\u001b[39;00m \u001b[39mself\u001b[39m\u001b[39m.\u001b[39m_state \u001b[39m==\u001b[39m FINISHED:\n\u001b[1;32m    437\u001b[0m     \u001b[39mreturn\u001b[39;00m \u001b[39mself\u001b[39m\u001b[39m.\u001b[39m__get_result()\n\u001b[0;32m--> 439\u001b[0m \u001b[39mself\u001b[39;49m\u001b[39m.\u001b[39;49m_condition\u001b[39m.\u001b[39;49mwait(timeout)\n\u001b[1;32m    441\u001b[0m \u001b[39mif\u001b[39;00m \u001b[39mself\u001b[39m\u001b[39m.\u001b[39m_state \u001b[39min\u001b[39;00m [CANCELLED, CANCELLED_AND_NOTIFIED]:\n\u001b[1;32m    442\u001b[0m     \u001b[39mraise\u001b[39;00m CancelledError()\n",
      "File \u001b[0;32m~/opt/miniconda3/envs/seq/lib/python3.8/threading.py:302\u001b[0m, in \u001b[0;36mCondition.wait\u001b[0;34m(self, timeout)\u001b[0m\n\u001b[1;32m    300\u001b[0m \u001b[39mtry\u001b[39;00m:    \u001b[39m# restore state no matter what (e.g., KeyboardInterrupt)\u001b[39;00m\n\u001b[1;32m    301\u001b[0m     \u001b[39mif\u001b[39;00m timeout \u001b[39mis\u001b[39;00m \u001b[39mNone\u001b[39;00m:\n\u001b[0;32m--> 302\u001b[0m         waiter\u001b[39m.\u001b[39;49macquire()\n\u001b[1;32m    303\u001b[0m         gotit \u001b[39m=\u001b[39m \u001b[39mTrue\u001b[39;00m\n\u001b[1;32m    304\u001b[0m     \u001b[39melse\u001b[39;00m:\n",
      "\u001b[0;31mKeyboardInterrupt\u001b[0m: "
     ]
    }
   ],
   "source": [
    "dsnames = ['zhang', 'nardus', 'merged']\n",
    "kmers = [4, 6]\n",
    "features = ['normalized', 'regular']\n",
    "\n",
    "for kmer in range(kmers[0], kmers[1]+1):\n",
    "    for dsname in dsnames:\n",
    "        for feature in features:\n",
    "            ds = datasets[dsname][f'{feature}-{kmer}']\n",
    "            merged = datasets['merged'][f'{feature}-{kmer}']\n",
    "            \n",
    "            lrmodel = LogisticRegression(\n",
    "                multi_class=\"multinomial\", max_iter=1000,\n",
    "                fit_intercept=False, tol=0.001, solver='saga', random_state=42)\n",
    "            lrmodel.fit(ds['X_train'], ds['y_train'])\n",
    "            acc = validation_utils.cross_validate(lrmodel, merged['X_test'], merged['y_test'])\n",
    "            # predictions = lrmodel.predict(datasets['merged']['X_test'])\n",
    "            # picklething = pickle.load(open('models/curr_models/lrmodel.pkl', 'rb'))\n",
    "            # print(accuracy_score(merged['y_test'], predictions))\n",
    "            # print(accuracy_score(merged['y_test'], picklething.predict(merged['X_test'])))\n",
    "            model_utils.saveModel(lrmodel, \"lrmodel\", X_test, y_test, dir=f'models/curr_models/kmer{str(kmer)}')\n",
    "\n",
    "\n",
    "# model_utils.saveModel(lrmodel, \"lrmodel\", X_test, y_test, dir='models/misc')"
   ]
  },
  {
   "cell_type": "code",
   "execution_count": 4,
   "metadata": {},
   "outputs": [
    {
     "name": "stdout",
     "output_type": "stream",
     "text": [
      "LogisticRegression\n"
     ]
    },
    {
     "name": "stderr",
     "output_type": "stream",
     "text": [
      "[Parallel(n_jobs=-1)]: Using backend LokyBackend with 10 concurrent workers.\n",
      "[Parallel(n_jobs=-1)]: Done  30 out of  30 | elapsed:    1.8s finished\n"
     ]
    },
    {
     "name": "stdout",
     "output_type": "stream",
     "text": [
      "Accuracy: 0.889 (0.017)\n",
      "tn: 1829, fp: 53, fn: 157, tp: 197\n",
      "LogisticRegression\n"
     ]
    },
    {
     "name": "stderr",
     "output_type": "stream",
     "text": [
      "[Parallel(n_jobs=-1)]: Using backend LokyBackend with 10 concurrent workers.\n",
      "[Parallel(n_jobs=-1)]: Done  30 out of  30 | elapsed:    1.8s finished\n"
     ]
    },
    {
     "name": "stdout",
     "output_type": "stream",
     "text": [
      "Accuracy: 0.889 (0.017)\n",
      "tn: 1766, fp: 116, fn: 250, tp: 104\n",
      "LogisticRegression\n"
     ]
    },
    {
     "name": "stderr",
     "output_type": "stream",
     "text": [
      "[Parallel(n_jobs=-1)]: Using backend LokyBackend with 10 concurrent workers.\n",
      "[Parallel(n_jobs=-1)]: Done  30 out of  30 | elapsed:    1.7s finished\n"
     ]
    },
    {
     "name": "stdout",
     "output_type": "stream",
     "text": [
      "Accuracy: 0.889 (0.017)\n",
      "tn: 1829, fp: 53, fn: 157, tp: 197\n",
      "LogisticRegression\n"
     ]
    },
    {
     "name": "stderr",
     "output_type": "stream",
     "text": [
      "[Parallel(n_jobs=-1)]: Using backend LokyBackend with 10 concurrent workers.\n",
      "[Parallel(n_jobs=-1)]: Done  30 out of  30 | elapsed:    1.6s finished\n",
      "[Parallel(n_jobs=-1)]: Using backend LokyBackend with 10 concurrent workers.\n"
     ]
    },
    {
     "name": "stdout",
     "output_type": "stream",
     "text": [
      "Accuracy: 0.889 (0.017)\n",
      "tn: 1825, fp: 57, fn: 159, tp: 195\n",
      "LogisticRegression\n",
      "LogisticRegression\n"
     ]
    },
    {
     "name": "stderr",
     "output_type": "stream",
     "text": [
      "[Parallel(n_jobs=-1)]: Done  30 out of  30 | elapsed:    1.9s finished\n",
      "[Parallel(n_jobs=-1)]: Using backend LokyBackend with 10 concurrent workers.\n"
     ]
    },
    {
     "name": "stdout",
     "output_type": "stream",
     "text": [
      "Accuracy: 0.889 (0.017)\n",
      "tn: 1825, fp: 57, fn: 159, tp: 195\n",
      "LogisticRegression\n",
      "LogisticRegression\n",
      "Accuracy: 0.889 (0.017)\n",
      "tn: 1825, fp: 57, fn: 159, tp: 195\n",
      "no update\n",
      "curr 0.889 pickle 0.889\n",
      "[1825   57  159  195]\n"
     ]
    },
    {
     "name": "stderr",
     "output_type": "stream",
     "text": [
      "[Parallel(n_jobs=-1)]: Done  30 out of  30 | elapsed:    1.9s finished\n"
     ]
    },
    {
     "data": {
      "text/html": [
       "<style>#sk-container-id-1 {color: black;background-color: white;}#sk-container-id-1 pre{padding: 0;}#sk-container-id-1 div.sk-toggleable {background-color: white;}#sk-container-id-1 label.sk-toggleable__label {cursor: pointer;display: block;width: 100%;margin-bottom: 0;padding: 0.3em;box-sizing: border-box;text-align: center;}#sk-container-id-1 label.sk-toggleable__label-arrow:before {content: \"▸\";float: left;margin-right: 0.25em;color: #696969;}#sk-container-id-1 label.sk-toggleable__label-arrow:hover:before {color: black;}#sk-container-id-1 div.sk-estimator:hover label.sk-toggleable__label-arrow:before {color: black;}#sk-container-id-1 div.sk-toggleable__content {max-height: 0;max-width: 0;overflow: hidden;text-align: left;background-color: #f0f8ff;}#sk-container-id-1 div.sk-toggleable__content pre {margin: 0.2em;color: black;border-radius: 0.25em;background-color: #f0f8ff;}#sk-container-id-1 input.sk-toggleable__control:checked~div.sk-toggleable__content {max-height: 200px;max-width: 100%;overflow: auto;}#sk-container-id-1 input.sk-toggleable__control:checked~label.sk-toggleable__label-arrow:before {content: \"▾\";}#sk-container-id-1 div.sk-estimator input.sk-toggleable__control:checked~label.sk-toggleable__label {background-color: #d4ebff;}#sk-container-id-1 div.sk-label input.sk-toggleable__control:checked~label.sk-toggleable__label {background-color: #d4ebff;}#sk-container-id-1 input.sk-hidden--visually {border: 0;clip: rect(1px 1px 1px 1px);clip: rect(1px, 1px, 1px, 1px);height: 1px;margin: -1px;overflow: hidden;padding: 0;position: absolute;width: 1px;}#sk-container-id-1 div.sk-estimator {font-family: monospace;background-color: #f0f8ff;border: 1px dotted black;border-radius: 0.25em;box-sizing: border-box;margin-bottom: 0.5em;}#sk-container-id-1 div.sk-estimator:hover {background-color: #d4ebff;}#sk-container-id-1 div.sk-parallel-item::after {content: \"\";width: 100%;border-bottom: 1px solid gray;flex-grow: 1;}#sk-container-id-1 div.sk-label:hover label.sk-toggleable__label {background-color: #d4ebff;}#sk-container-id-1 div.sk-serial::before {content: \"\";position: absolute;border-left: 1px solid gray;box-sizing: border-box;top: 0;bottom: 0;left: 50%;z-index: 0;}#sk-container-id-1 div.sk-serial {display: flex;flex-direction: column;align-items: center;background-color: white;padding-right: 0.2em;padding-left: 0.2em;position: relative;}#sk-container-id-1 div.sk-item {position: relative;z-index: 1;}#sk-container-id-1 div.sk-parallel {display: flex;align-items: stretch;justify-content: center;background-color: white;position: relative;}#sk-container-id-1 div.sk-item::before, #sk-container-id-1 div.sk-parallel-item::before {content: \"\";position: absolute;border-left: 1px solid gray;box-sizing: border-box;top: 0;bottom: 0;left: 50%;z-index: -1;}#sk-container-id-1 div.sk-parallel-item {display: flex;flex-direction: column;z-index: 1;position: relative;background-color: white;}#sk-container-id-1 div.sk-parallel-item:first-child::after {align-self: flex-end;width: 50%;}#sk-container-id-1 div.sk-parallel-item:last-child::after {align-self: flex-start;width: 50%;}#sk-container-id-1 div.sk-parallel-item:only-child::after {width: 0;}#sk-container-id-1 div.sk-dashed-wrapped {border: 1px dashed gray;margin: 0 0.4em 0.5em 0.4em;box-sizing: border-box;padding-bottom: 0.4em;background-color: white;}#sk-container-id-1 div.sk-label label {font-family: monospace;font-weight: bold;display: inline-block;line-height: 1.2em;}#sk-container-id-1 div.sk-label-container {text-align: center;}#sk-container-id-1 div.sk-container {/* jupyter's `normalize.less` sets `[hidden] { display: none; }` but bootstrap.min.css set `[hidden] { display: none !important; }` so we also need the `!important` here to be able to override the default hidden behavior on the sphinx rendered scikit-learn.org. See: https://github.com/scikit-learn/scikit-learn/issues/21755 */display: inline-block !important;position: relative;}#sk-container-id-1 div.sk-text-repr-fallback {display: none;}</style><div id=\"sk-container-id-1\" class=\"sk-top-container\"><div class=\"sk-text-repr-fallback\"><pre>LogisticRegression(fit_intercept=False, max_iter=1000,\n",
       "                   multi_class=&#x27;multinomial&#x27;, random_state=42, solver=&#x27;saga&#x27;,\n",
       "                   tol=0.001)</pre><b>In a Jupyter environment, please rerun this cell to show the HTML representation or trust the notebook. <br />On GitHub, the HTML representation is unable to render, please try loading this page with nbviewer.org.</b></div><div class=\"sk-container\" hidden><div class=\"sk-item\"><div class=\"sk-estimator sk-toggleable\"><input class=\"sk-toggleable__control sk-hidden--visually\" id=\"sk-estimator-id-1\" type=\"checkbox\" checked><label for=\"sk-estimator-id-1\" class=\"sk-toggleable__label sk-toggleable__label-arrow\">LogisticRegression</label><div class=\"sk-toggleable__content\"><pre>LogisticRegression(fit_intercept=False, max_iter=1000,\n",
       "                   multi_class=&#x27;multinomial&#x27;, random_state=42, solver=&#x27;saga&#x27;,\n",
       "                   tol=0.001)</pre></div></div></div></div></div>"
      ],
      "text/plain": [
       "LogisticRegression(fit_intercept=False, max_iter=1000,\n",
       "                   multi_class='multinomial', random_state=42, solver='saga',\n",
       "                   tol=0.001)"
      ]
     },
     "execution_count": 4,
     "metadata": {},
     "output_type": "execute_result"
    }
   ],
   "source": [
    "\n",
    "merged = datasets['merged']['normalized-4']\n",
    "\n",
    "ds = datasets['zhang'][f'normalized-4']\n",
    "merged = datasets['merged'][f'normalized-4']\n",
    "\n",
    "# print(len(ds['X_train'])+len(ds['X_test']))\n",
    "\n",
    "lrmodel = LogisticRegression(\n",
    "    multi_class=\"multinomial\", max_iter=1000,\n",
    "    fit_intercept=False, tol=0.001, solver='saga', random_state=42)\n",
    "lrmodel.fit(ds['X_train'], ds['y_train'])\n",
    "acc = validation_utils.cross_validate(lrmodel, merged['X_test'], merged['y_test'])\n",
    "\n",
    "\n",
    "ds = datasets['nardus'][f'normalized-4']\n",
    "merged = datasets['merged'][f'normalized-4']\n",
    "\n",
    "# print(len(ds['X_train'])+len(ds['X_test']))\n",
    "\n",
    "lrmodel = LogisticRegression(\n",
    "    multi_class=\"multinomial\", max_iter=1000,\n",
    "    fit_intercept=False, tol=0.001, solver='saga', random_state=42)\n",
    "lrmodel.fit(ds['X_train'], ds['y_train'])\n",
    "acc = validation_utils.cross_validate(lrmodel, merged['X_test'], merged['y_test'])\n",
    "\n",
    "\n",
    "ds = datasets['zhang'][f'normalized-4']\n",
    "merged = datasets['merged'][f'normalized-4']\n",
    "\n",
    "# print(len(ds['X_train'])+len(ds['X_test']))\n",
    "\n",
    "lrmodel = LogisticRegression(\n",
    "    multi_class=\"multinomial\", max_iter=1000,\n",
    "    fit_intercept=False, tol=0.001, solver='saga', random_state=42)\n",
    "lrmodel.fit(ds['X_train'], ds['y_train'])\n",
    "acc = validation_utils.cross_validate(lrmodel, merged['X_test'], merged['y_test'])\n",
    "\n",
    "\n",
    "ds = datasets['merged'][f'normalized-4']\n",
    "merged = datasets['merged'][f'normalized-4']\n",
    "\n",
    "# print(len(ds['X_train'])+len(ds['X_test']))\n",
    "\n",
    "lrmodel = LogisticRegression(\n",
    "    multi_class=\"multinomial\", max_iter=1000,\n",
    "    fit_intercept=False, tol=0.001, solver='saga', random_state=42)\n",
    "lrmodel.fit(ds['X_train'], ds['y_train'])\n",
    "acc = validation_utils.cross_validate(lrmodel, merged['X_test'], merged['y_test'])\n",
    "\n",
    "X_test, y_test = ds['X_test'], ds['y_test']\n",
    "model_utils.saveModel(lrmodel, \"lrmodel\", X_test, y_test, dir=\"models/curr_models/kmer4\")"
   ]
  },
  {
   "cell_type": "code",
   "execution_count": 4,
   "metadata": {},
   "outputs": [
    {
     "name": "stdout",
     "output_type": "stream",
     "text": [
      "BalancedBaggingClassifier\n"
     ]
    },
    {
     "name": "stderr",
     "output_type": "stream",
     "text": [
      "[Parallel(n_jobs=-1)]: Using backend LokyBackend with 10 concurrent workers.\n",
      "[Parallel(n_jobs=-1)]: Done  30 out of  30 | elapsed:    2.2s finished\n"
     ]
    },
    {
     "name": "stdout",
     "output_type": "stream",
     "text": [
      "Accuracy: 0.819 (0.022)\n",
      "tn: 1637, fp: 245, fn: 52, tp: 302\n",
      "0.819\n",
      "BalancedBaggingClassifier\n",
      "BalancedBaggingClassifier\n"
     ]
    },
    {
     "name": "stderr",
     "output_type": "stream",
     "text": [
      "[Parallel(n_jobs=-1)]: Using backend LokyBackend with 10 concurrent workers.\n",
      "[Parallel(n_jobs=-1)]: Done  30 out of  30 | elapsed:    2.2s finished\n"
     ]
    },
    {
     "name": "stdout",
     "output_type": "stream",
     "text": [
      "Accuracy: 0.819 (0.025)\n",
      "tn: 1637, fp: 245, fn: 52, tp: 302\n",
      "BalancedBaggingClassifier\n",
      "BalancedBaggingClassifier\n"
     ]
    },
    {
     "name": "stderr",
     "output_type": "stream",
     "text": [
      "[Parallel(n_jobs=-1)]: Using backend LokyBackend with 10 concurrent workers.\n",
      "[Parallel(n_jobs=-1)]: Done  30 out of  30 | elapsed:    2.2s finished\n"
     ]
    },
    {
     "name": "stdout",
     "output_type": "stream",
     "text": [
      "Accuracy: 0.821 (0.024)\n",
      "tn: 1651, fp: 231, fn: 52, tp: 302\n",
      "no update\n",
      "curr 0.819 pickle 0.821\n",
      "[1651  231   52  302]\n"
     ]
    },
    {
     "data": {
      "text/html": [
       "<style>#sk-container-id-2 {color: black;background-color: white;}#sk-container-id-2 pre{padding: 0;}#sk-container-id-2 div.sk-toggleable {background-color: white;}#sk-container-id-2 label.sk-toggleable__label {cursor: pointer;display: block;width: 100%;margin-bottom: 0;padding: 0.3em;box-sizing: border-box;text-align: center;}#sk-container-id-2 label.sk-toggleable__label-arrow:before {content: \"▸\";float: left;margin-right: 0.25em;color: #696969;}#sk-container-id-2 label.sk-toggleable__label-arrow:hover:before {color: black;}#sk-container-id-2 div.sk-estimator:hover label.sk-toggleable__label-arrow:before {color: black;}#sk-container-id-2 div.sk-toggleable__content {max-height: 0;max-width: 0;overflow: hidden;text-align: left;background-color: #f0f8ff;}#sk-container-id-2 div.sk-toggleable__content pre {margin: 0.2em;color: black;border-radius: 0.25em;background-color: #f0f8ff;}#sk-container-id-2 input.sk-toggleable__control:checked~div.sk-toggleable__content {max-height: 200px;max-width: 100%;overflow: auto;}#sk-container-id-2 input.sk-toggleable__control:checked~label.sk-toggleable__label-arrow:before {content: \"▾\";}#sk-container-id-2 div.sk-estimator input.sk-toggleable__control:checked~label.sk-toggleable__label {background-color: #d4ebff;}#sk-container-id-2 div.sk-label input.sk-toggleable__control:checked~label.sk-toggleable__label {background-color: #d4ebff;}#sk-container-id-2 input.sk-hidden--visually {border: 0;clip: rect(1px 1px 1px 1px);clip: rect(1px, 1px, 1px, 1px);height: 1px;margin: -1px;overflow: hidden;padding: 0;position: absolute;width: 1px;}#sk-container-id-2 div.sk-estimator {font-family: monospace;background-color: #f0f8ff;border: 1px dotted black;border-radius: 0.25em;box-sizing: border-box;margin-bottom: 0.5em;}#sk-container-id-2 div.sk-estimator:hover {background-color: #d4ebff;}#sk-container-id-2 div.sk-parallel-item::after {content: \"\";width: 100%;border-bottom: 1px solid gray;flex-grow: 1;}#sk-container-id-2 div.sk-label:hover label.sk-toggleable__label {background-color: #d4ebff;}#sk-container-id-2 div.sk-serial::before {content: \"\";position: absolute;border-left: 1px solid gray;box-sizing: border-box;top: 0;bottom: 0;left: 50%;z-index: 0;}#sk-container-id-2 div.sk-serial {display: flex;flex-direction: column;align-items: center;background-color: white;padding-right: 0.2em;padding-left: 0.2em;position: relative;}#sk-container-id-2 div.sk-item {position: relative;z-index: 1;}#sk-container-id-2 div.sk-parallel {display: flex;align-items: stretch;justify-content: center;background-color: white;position: relative;}#sk-container-id-2 div.sk-item::before, #sk-container-id-2 div.sk-parallel-item::before {content: \"\";position: absolute;border-left: 1px solid gray;box-sizing: border-box;top: 0;bottom: 0;left: 50%;z-index: -1;}#sk-container-id-2 div.sk-parallel-item {display: flex;flex-direction: column;z-index: 1;position: relative;background-color: white;}#sk-container-id-2 div.sk-parallel-item:first-child::after {align-self: flex-end;width: 50%;}#sk-container-id-2 div.sk-parallel-item:last-child::after {align-self: flex-start;width: 50%;}#sk-container-id-2 div.sk-parallel-item:only-child::after {width: 0;}#sk-container-id-2 div.sk-dashed-wrapped {border: 1px dashed gray;margin: 0 0.4em 0.5em 0.4em;box-sizing: border-box;padding-bottom: 0.4em;background-color: white;}#sk-container-id-2 div.sk-label label {font-family: monospace;font-weight: bold;display: inline-block;line-height: 1.2em;}#sk-container-id-2 div.sk-label-container {text-align: center;}#sk-container-id-2 div.sk-container {/* jupyter's `normalize.less` sets `[hidden] { display: none; }` but bootstrap.min.css set `[hidden] { display: none !important; }` so we also need the `!important` here to be able to override the default hidden behavior on the sphinx rendered scikit-learn.org. See: https://github.com/scikit-learn/scikit-learn/issues/21755 */display: inline-block !important;position: relative;}#sk-container-id-2 div.sk-text-repr-fallback {display: none;}</style><div id=\"sk-container-id-2\" class=\"sk-top-container\"><div class=\"sk-text-repr-fallback\"><pre>BalancedBaggingClassifier(base_estimator=KNeighborsClassifier(n_jobs=1,\n",
       "                                                              n_neighbors=1),\n",
       "                          n_jobs=1)</pre><b>In a Jupyter environment, please rerun this cell to show the HTML representation or trust the notebook. <br />On GitHub, the HTML representation is unable to render, please try loading this page with nbviewer.org.</b></div><div class=\"sk-container\" hidden><div class=\"sk-item sk-dashed-wrapped\"><div class=\"sk-label-container\"><div class=\"sk-label sk-toggleable\"><input class=\"sk-toggleable__control sk-hidden--visually\" id=\"sk-estimator-id-4\" type=\"checkbox\" ><label for=\"sk-estimator-id-4\" class=\"sk-toggleable__label sk-toggleable__label-arrow\">BalancedBaggingClassifier</label><div class=\"sk-toggleable__content\"><pre>BalancedBaggingClassifier(base_estimator=KNeighborsClassifier(n_jobs=1,\n",
       "                                                              n_neighbors=1),\n",
       "                          n_jobs=1)</pre></div></div></div><div class=\"sk-parallel\"><div class=\"sk-parallel-item\"><div class=\"sk-item\"><div class=\"sk-label-container\"><div class=\"sk-label sk-toggleable\"><input class=\"sk-toggleable__control sk-hidden--visually\" id=\"sk-estimator-id-5\" type=\"checkbox\" ><label for=\"sk-estimator-id-5\" class=\"sk-toggleable__label sk-toggleable__label-arrow\">base_estimator: KNeighborsClassifier</label><div class=\"sk-toggleable__content\"><pre>KNeighborsClassifier(n_jobs=1, n_neighbors=1)</pre></div></div></div><div class=\"sk-serial\"><div class=\"sk-item\"><div class=\"sk-estimator sk-toggleable\"><input class=\"sk-toggleable__control sk-hidden--visually\" id=\"sk-estimator-id-6\" type=\"checkbox\" ><label for=\"sk-estimator-id-6\" class=\"sk-toggleable__label sk-toggleable__label-arrow\">KNeighborsClassifier</label><div class=\"sk-toggleable__content\"><pre>KNeighborsClassifier(n_jobs=1, n_neighbors=1)</pre></div></div></div></div></div></div></div></div></div></div>"
      ],
      "text/plain": [
       "BalancedBaggingClassifier(base_estimator=KNeighborsClassifier(n_jobs=1,\n",
       "                                                              n_neighbors=1),\n",
       "                          n_jobs=1)"
      ]
     },
     "execution_count": 4,
     "metadata": {},
     "output_type": "execute_result"
    }
   ],
   "source": [
    "kmer = 5\n",
    "ds = datasets['merged'][f'normalized-{kmer}']\n",
    "\n",
    "X_train, y_train, X_test, y_test = ds['X_train'], ds['y_train'], ds['X_test'], ds['y_test']\n",
    "\n",
    "knntest = BalancedBaggingClassifier(base_estimator=KNeighborsClassifier(n_neighbors = 1, n_jobs = 1), n_estimators = 10, n_jobs = 1)\n",
    "\n",
    "knntest.fit(X_train, y_train)\n",
    "# predictions = knntest.predict(X_test)\n",
    "print(validation_utils.cross_validate(knntest, X_test, y_test))\n",
    "# knn = KNeighborsClassifier(n_neighbors=5)\n",
    "model_utils.saveModel(knntest, \"knn\", X_test, y_test, dir=f\"models/curr_models/kmer{kmer}\")"
   ]
  },
  {
   "cell_type": "code",
   "execution_count": 53,
   "metadata": {},
   "outputs": [
    {
     "name": "stdout",
     "output_type": "stream",
     "text": [
      "0.8193202146690519\n"
     ]
    }
   ],
   "source": [
    "merged = datasets['merged']['normalized-4']\n",
    "X_train, y_train, X_test, y_test = merged['X_train'], merged['y_train'], merged['X_test'], merged['y_test']\n",
    "\n",
    "predictions = knntest.predict(X_test)\n",
    "picklething = pickle.load(open('models/curr_models/knn.pkl', 'rb'))\n",
    "\n",
    "print(accuracy_score(y_test, predictions), accuracy_score(y_test, picklething.predict(X_test)))\n",
    "# saveModel(knntest, \"knn\", X_test, y_test)"
   ]
  },
  {
   "cell_type": "code",
   "execution_count": 7,
   "metadata": {},
   "outputs": [
    {
     "name": "stdout",
     "output_type": "stream",
     "text": [
      "BalancedBaggingClassifier\n",
      "BalancedBaggingClassifier\n"
     ]
    },
    {
     "name": "stderr",
     "output_type": "stream",
     "text": [
      "[Parallel(n_jobs=-1)]: Using backend LokyBackend with 10 concurrent workers.\n",
      "[Parallel(n_jobs=-1)]: Done  30 out of  30 | elapsed:    0.6s finished\n",
      "[Parallel(n_jobs=-1)]: Using backend LokyBackend with 10 concurrent workers.\n"
     ]
    },
    {
     "name": "stdout",
     "output_type": "stream",
     "text": [
      "Accuracy: 0.873 (0.023)\n",
      "tn: 1749, fp: 133, fn: 75, tp: 279\n",
      "BalancedBaggingClassifier\n",
      "BalancedBaggingClassifier\n",
      "Accuracy: 0.866 (0.024)\n",
      "tn: 1743, fp: 139, fn: 82, tp: 272\n",
      "update!\n",
      "[1743  139   82  272]\n",
      "curr 0.873 pickle 0.866\n"
     ]
    },
    {
     "name": "stderr",
     "output_type": "stream",
     "text": [
      "[Parallel(n_jobs=-1)]: Done  30 out of  30 | elapsed:    0.6s finished\n"
     ]
    },
    {
     "data": {
      "text/html": [
       "<style>#sk-container-id-5 {color: black;background-color: white;}#sk-container-id-5 pre{padding: 0;}#sk-container-id-5 div.sk-toggleable {background-color: white;}#sk-container-id-5 label.sk-toggleable__label {cursor: pointer;display: block;width: 100%;margin-bottom: 0;padding: 0.3em;box-sizing: border-box;text-align: center;}#sk-container-id-5 label.sk-toggleable__label-arrow:before {content: \"▸\";float: left;margin-right: 0.25em;color: #696969;}#sk-container-id-5 label.sk-toggleable__label-arrow:hover:before {color: black;}#sk-container-id-5 div.sk-estimator:hover label.sk-toggleable__label-arrow:before {color: black;}#sk-container-id-5 div.sk-toggleable__content {max-height: 0;max-width: 0;overflow: hidden;text-align: left;background-color: #f0f8ff;}#sk-container-id-5 div.sk-toggleable__content pre {margin: 0.2em;color: black;border-radius: 0.25em;background-color: #f0f8ff;}#sk-container-id-5 input.sk-toggleable__control:checked~div.sk-toggleable__content {max-height: 200px;max-width: 100%;overflow: auto;}#sk-container-id-5 input.sk-toggleable__control:checked~label.sk-toggleable__label-arrow:before {content: \"▾\";}#sk-container-id-5 div.sk-estimator input.sk-toggleable__control:checked~label.sk-toggleable__label {background-color: #d4ebff;}#sk-container-id-5 div.sk-label input.sk-toggleable__control:checked~label.sk-toggleable__label {background-color: #d4ebff;}#sk-container-id-5 input.sk-hidden--visually {border: 0;clip: rect(1px 1px 1px 1px);clip: rect(1px, 1px, 1px, 1px);height: 1px;margin: -1px;overflow: hidden;padding: 0;position: absolute;width: 1px;}#sk-container-id-5 div.sk-estimator {font-family: monospace;background-color: #f0f8ff;border: 1px dotted black;border-radius: 0.25em;box-sizing: border-box;margin-bottom: 0.5em;}#sk-container-id-5 div.sk-estimator:hover {background-color: #d4ebff;}#sk-container-id-5 div.sk-parallel-item::after {content: \"\";width: 100%;border-bottom: 1px solid gray;flex-grow: 1;}#sk-container-id-5 div.sk-label:hover label.sk-toggleable__label {background-color: #d4ebff;}#sk-container-id-5 div.sk-serial::before {content: \"\";position: absolute;border-left: 1px solid gray;box-sizing: border-box;top: 0;bottom: 0;left: 50%;z-index: 0;}#sk-container-id-5 div.sk-serial {display: flex;flex-direction: column;align-items: center;background-color: white;padding-right: 0.2em;padding-left: 0.2em;position: relative;}#sk-container-id-5 div.sk-item {position: relative;z-index: 1;}#sk-container-id-5 div.sk-parallel {display: flex;align-items: stretch;justify-content: center;background-color: white;position: relative;}#sk-container-id-5 div.sk-item::before, #sk-container-id-5 div.sk-parallel-item::before {content: \"\";position: absolute;border-left: 1px solid gray;box-sizing: border-box;top: 0;bottom: 0;left: 50%;z-index: -1;}#sk-container-id-5 div.sk-parallel-item {display: flex;flex-direction: column;z-index: 1;position: relative;background-color: white;}#sk-container-id-5 div.sk-parallel-item:first-child::after {align-self: flex-end;width: 50%;}#sk-container-id-5 div.sk-parallel-item:last-child::after {align-self: flex-start;width: 50%;}#sk-container-id-5 div.sk-parallel-item:only-child::after {width: 0;}#sk-container-id-5 div.sk-dashed-wrapped {border: 1px dashed gray;margin: 0 0.4em 0.5em 0.4em;box-sizing: border-box;padding-bottom: 0.4em;background-color: white;}#sk-container-id-5 div.sk-label label {font-family: monospace;font-weight: bold;display: inline-block;line-height: 1.2em;}#sk-container-id-5 div.sk-label-container {text-align: center;}#sk-container-id-5 div.sk-container {/* jupyter's `normalize.less` sets `[hidden] { display: none; }` but bootstrap.min.css set `[hidden] { display: none !important; }` so we also need the `!important` here to be able to override the default hidden behavior on the sphinx rendered scikit-learn.org. See: https://github.com/scikit-learn/scikit-learn/issues/21755 */display: inline-block !important;position: relative;}#sk-container-id-5 div.sk-text-repr-fallback {display: none;}</style><div id=\"sk-container-id-5\" class=\"sk-top-container\"><div class=\"sk-text-repr-fallback\"><pre>BalancedBaggingClassifier(base_estimator=DecisionTreeClassifier(max_features=&#x27;sqrt&#x27;))</pre><b>In a Jupyter environment, please rerun this cell to show the HTML representation or trust the notebook. <br />On GitHub, the HTML representation is unable to render, please try loading this page with nbviewer.org.</b></div><div class=\"sk-container\" hidden><div class=\"sk-item sk-dashed-wrapped\"><div class=\"sk-label-container\"><div class=\"sk-label sk-toggleable\"><input class=\"sk-toggleable__control sk-hidden--visually\" id=\"sk-estimator-id-13\" type=\"checkbox\" ><label for=\"sk-estimator-id-13\" class=\"sk-toggleable__label sk-toggleable__label-arrow\">BalancedBaggingClassifier</label><div class=\"sk-toggleable__content\"><pre>BalancedBaggingClassifier(base_estimator=DecisionTreeClassifier(max_features=&#x27;sqrt&#x27;))</pre></div></div></div><div class=\"sk-parallel\"><div class=\"sk-parallel-item\"><div class=\"sk-item\"><div class=\"sk-label-container\"><div class=\"sk-label sk-toggleable\"><input class=\"sk-toggleable__control sk-hidden--visually\" id=\"sk-estimator-id-14\" type=\"checkbox\" ><label for=\"sk-estimator-id-14\" class=\"sk-toggleable__label sk-toggleable__label-arrow\">base_estimator: DecisionTreeClassifier</label><div class=\"sk-toggleable__content\"><pre>DecisionTreeClassifier(max_features=&#x27;sqrt&#x27;)</pre></div></div></div><div class=\"sk-serial\"><div class=\"sk-item\"><div class=\"sk-estimator sk-toggleable\"><input class=\"sk-toggleable__control sk-hidden--visually\" id=\"sk-estimator-id-15\" type=\"checkbox\" ><label for=\"sk-estimator-id-15\" class=\"sk-toggleable__label sk-toggleable__label-arrow\">DecisionTreeClassifier</label><div class=\"sk-toggleable__content\"><pre>DecisionTreeClassifier(max_features=&#x27;sqrt&#x27;)</pre></div></div></div></div></div></div></div></div></div></div>"
      ],
      "text/plain": [
       "BalancedBaggingClassifier(base_estimator=DecisionTreeClassifier(max_features='sqrt'))"
      ]
     },
     "execution_count": 7,
     "metadata": {},
     "output_type": "execute_result"
    }
   ],
   "source": [
    "kmer = 4\n",
    "ds = datasets['merged'][f'normalized-{kmer}']\n",
    "\n",
    "X_train, y_train, X_test, y_test = ds['X_train'], ds['y_train'], ds['X_test'], ds['y_test']\n",
    "\n",
    "randforest = BalancedBaggingClassifier(base_estimator=DecisionTreeClassifier(max_features=\"sqrt\"))\n",
    "\n",
    "randforest.fit(X_train, y_train)\n",
    "\n",
    "# knn = KNeighborsClassifier(n_neighbors=5)\n",
    "model_utils.saveModel(randforest, \"randforest\", X_test, y_test, dir=f\"models/curr_models/kmer{kmer}\")"
   ]
  },
  {
   "cell_type": "code",
   "execution_count": 22,
   "metadata": {},
   "outputs": [
    {
     "name": "stdout",
     "output_type": "stream",
     "text": [
      "0.9294803817603393\n"
     ]
    }
   ],
   "source": [
    "probability_predictions = randforest.predict_proba(X_test)\n",
    "preds = randforest.predict(X_test)\n",
    "print(accuracy_score(y_test, preds))\n"
   ]
  },
  {
   "cell_type": "code",
   "execution_count": 10,
   "metadata": {},
   "outputs": [],
   "source": []
  },
  {
   "cell_type": "code",
   "execution_count": 38,
   "metadata": {},
   "outputs": [
    {
     "name": "stdout",
     "output_type": "stream",
     "text": [
      "Learning rate:  0.05\n",
      "Accuracy score (validation): 0.957\n",
      "no update\n",
      "curr 0.9565217391304348 pickle 0.9883351007423118\n",
      "[1629    5   17  235]\n",
      "Learning rate:  0.075\n",
      "Accuracy score (validation): 0.958\n",
      "no update\n",
      "curr 0.9581124072110286 pickle 0.9883351007423118\n",
      "[1629    5   17  235]\n",
      "Learning rate:  0.1\n",
      "Accuracy score (validation): 0.956\n",
      "no update\n",
      "curr 0.9559915164369035 pickle 0.9883351007423118\n",
      "[1629    5   17  235]\n",
      "Learning rate:  0.15\n",
      "Accuracy score (validation): 0.960\n",
      "no update\n",
      "curr 0.9602332979851538 pickle 0.9883351007423118\n",
      "[1629    5   17  235]\n",
      "Learning rate:  0.2\n",
      "Accuracy score (validation): 0.963\n",
      "no update\n",
      "curr 0.9628844114528102 pickle 0.9883351007423118\n",
      "[1629    5   17  235]\n",
      "Learning rate:  0.25\n",
      "Accuracy score (validation): 0.958\n",
      "no update\n",
      "curr 0.9575821845174973 pickle 0.9883351007423118\n",
      "[1629    5   17  235]\n",
      "Learning rate:  0.3\n",
      "Accuracy score (validation): 0.958\n",
      "no update\n",
      "curr 0.9575821845174973 pickle 0.9883351007423118\n",
      "[1629    5   17  235]\n",
      "Learning rate:  0.35\n",
      "Accuracy score (validation): 0.956\n",
      "no update\n",
      "curr 0.9559915164369035 pickle 0.9883351007423118\n",
      "[1629    5   17  235]\n",
      "Learning rate:  0.4\n",
      "Accuracy score (validation): 0.951\n",
      "no update\n",
      "curr 0.9506892895015907 pickle 0.9883351007423118\n",
      "[1629    5   17  235]\n",
      "Learning rate:  0.45\n",
      "Accuracy score (validation): 0.958\n",
      "no update\n",
      "curr 0.9581124072110286 pickle 0.9883351007423118\n",
      "[1629    5   17  235]\n",
      "Learning rate:  0.5\n",
      "Accuracy score (validation): 0.956\n",
      "no update\n",
      "curr 0.9559915164369035 pickle 0.9883351007423118\n",
      "[1629    5   17  235]\n",
      "Learning rate:  0.55\n",
      "Accuracy score (validation): 0.951\n",
      "no update\n",
      "curr 0.9506892895015907 pickle 0.9883351007423118\n",
      "[1629    5   17  235]\n",
      "Learning rate:  0.6\n",
      "Accuracy score (validation): 0.949\n",
      "no update\n",
      "curr 0.9490986214209968 pickle 0.9883351007423118\n",
      "[1629    5   17  235]\n",
      "Learning rate:  0.65\n",
      "Accuracy score (validation): 0.955\n",
      "no update\n",
      "curr 0.954931071049841 pickle 0.9883351007423118\n",
      "[1629    5   17  235]\n",
      "Learning rate:  0.7\n",
      "Accuracy score (validation): 0.843\n",
      "no update\n",
      "curr 0.8430540827147401 pickle 0.9883351007423118\n",
      "[1629    5   17  235]\n",
      "Learning rate:  0.75\n",
      "Accuracy score (validation): 0.748\n",
      "no update\n",
      "curr 0.7476139978791092 pickle 0.9883351007423118\n",
      "[1629    5   17  235]\n",
      "Learning rate:  0.8\n",
      "Accuracy score (validation): 0.801\n",
      "no update\n",
      "curr 0.8011664899257688 pickle 0.9883351007423118\n",
      "[1629    5   17  235]\n",
      "Learning rate:  0.85\n",
      "Accuracy score (validation): 0.870\n",
      "no update\n",
      "curr 0.8695652173913043 pickle 0.9883351007423118\n",
      "[1629    5   17  235]\n",
      "Learning rate:  1\n",
      "Accuracy score (validation): 0.860\n",
      "no update\n",
      "curr 0.8600212089077413 pickle 0.9883351007423118\n",
      "[1629    5   17  235]\n"
     ]
    }
   ],
   "source": [
    "lr_list = [0.05, 0.075, 0.1, 0.15, 0.2, 0.25, 0.3, 0.35, 0.4, 0.45, 0.5, 0.55, 0.6, 0.65,0.7, 0.75, 0.8, 0.85, 1]\n",
    "\n",
    "parameters={\n",
    "   'n_estimators': 120, 'max_features': 2, 'max_depth': 6, 'random_state': 0, 'min_sample_split': 50, 'subsample': 0.8, 'learning_rate': 0.3\n",
    "}\n",
    "\n",
    "\n",
    "# careful with WARM START - only works after a lot of iterations\n",
    "for learning_rate in lr_list:\n",
    "    gradBoost = GradientBoostingClassifier(n_estimators=parameters['n_estimators'], \n",
    "    learning_rate=learning_rate, max_features=parameters['max_features'], \n",
    "    max_depth=parameters['max_depth'], random_state=parameters['random_state'], \n",
    "    min_samples_split=parameters['min_sample_split'], subsample=parameters['subsample']\n",
    "    )\n",
    "\n",
    "    parameters['learning_rate']=learning_rate\n",
    "    gradBoost.fit(X_train, y_train)\n",
    "\n",
    "    cols_when_model_builds = gradBoost.feature_names_in_\n",
    "    X_test=X_test[cols_when_model_builds]\n",
    "    \n",
    "    testingAcc = accuracy_score(y_test, gradBoost.predict(X_test))\n",
    "    trainingAcc = accuracy_score(y_train, gradBoost.predict(X_train))\n",
    "    \n",
    "    print(\"Learning rate: \", learning_rate)\n",
    "    # print(\"Accuracy score (training): {0:.3f}\".format(trainingAcc))\n",
    "    print(\"Accuracy score (validation): {0:.3f}\".format(testingAcc))\n",
    "    # print(f\"Feature importance {gradBoost.feature_importances_}\")\n",
    "\n",
    "    # pickle.dump(gradBoost, open('gradBoost.pkl', 'wb'))\n",
    "    saveModel(gradBoost, \"gradBoost\", X_test, y_test, parameters, gradBoost=True, dir=\"models/synthetic_data_testing\")"
   ]
  },
  {
   "cell_type": "code",
   "execution_count": 39,
   "metadata": {},
   "outputs": [
    {
     "name": "stdout",
     "output_type": "stream",
     "text": [
      "Learning rate:  0.05\n",
      "Accuracy score (validation): 0.960\n",
      "no update\n",
      "curr 0.9602332979851538 pickle 0.9904559915164369\n",
      "[1632    2   16  236]\n",
      "Learning rate:  0.075\n",
      "Accuracy score (validation): 0.962\n",
      "no update\n",
      "curr 0.9623541887592789 pickle 0.9904559915164369\n",
      "[1632    2   16  236]\n",
      "Learning rate:  0.1\n",
      "Accuracy score (validation): 0.962\n",
      "no update\n",
      "curr 0.9618239660657476 pickle 0.9904559915164369\n",
      "[1632    2   16  236]\n",
      "Learning rate:  0.15\n",
      "Accuracy score (validation): 0.963\n",
      "no update\n",
      "curr 0.9634146341463414 pickle 0.9904559915164369\n",
      "[1632    2   16  236]\n",
      "Learning rate:  0.2\n",
      "Accuracy score (validation): 0.966\n",
      "no update\n",
      "curr 0.9655355249204666 pickle 0.9904559915164369\n",
      "[1632    2   16  236]\n",
      "Learning rate:  0.25\n",
      "Accuracy score (validation): 0.963\n",
      "no update\n",
      "curr 0.9634146341463414 pickle 0.9904559915164369\n",
      "[1632    2   16  236]\n",
      "Learning rate:  0.3\n",
      "Accuracy score (validation): 0.961\n",
      "no update\n",
      "curr 0.9612937433722163 pickle 0.9904559915164369\n",
      "[1632    2   16  236]\n",
      "Learning rate:  0.35\n",
      "Accuracy score (validation): 0.962\n",
      "no update\n",
      "curr 0.9623541887592789 pickle 0.9904559915164369\n",
      "[1632    2   16  236]\n",
      "Learning rate:  0.4\n",
      "Accuracy score (validation): 0.959\n",
      "no update\n",
      "curr 0.9591728525980912 pickle 0.9904559915164369\n",
      "[1632    2   16  236]\n",
      "Learning rate:  0.45\n",
      "Accuracy score (validation): 0.960\n",
      "no update\n",
      "curr 0.9602332979851538 pickle 0.9904559915164369\n",
      "[1632    2   16  236]\n",
      "Learning rate:  0.5\n",
      "Accuracy score (validation): 0.960\n",
      "no update\n",
      "curr 0.9602332979851538 pickle 0.9904559915164369\n",
      "[1632    2   16  236]\n",
      "Learning rate:  0.55\n",
      "Accuracy score (validation): 0.960\n",
      "no update\n",
      "curr 0.9602332979851538 pickle 0.9904559915164369\n",
      "[1632    2   16  236]\n",
      "Learning rate:  0.6\n",
      "Accuracy score (validation): 0.962\n",
      "no update\n",
      "curr 0.9618239660657476 pickle 0.9904559915164369\n",
      "[1632    2   16  236]\n",
      "Learning rate:  0.65\n",
      "Accuracy score (validation): 0.955\n",
      "no update\n",
      "curr 0.954931071049841 pickle 0.9904559915164369\n",
      "[1632    2   16  236]\n",
      "Learning rate:  0.7\n",
      "Accuracy score (validation): 0.956\n",
      "no update\n",
      "curr 0.9559915164369035 pickle 0.9904559915164369\n",
      "[1632    2   16  236]\n",
      "Learning rate:  0.75\n",
      "Accuracy score (validation): 0.953\n",
      "no update\n",
      "curr 0.953340402969247 pickle 0.9904559915164369\n",
      "[1632    2   16  236]\n",
      "Learning rate:  0.8\n",
      "Accuracy score (validation): 0.959\n",
      "no update\n",
      "curr 0.95864262990456 pickle 0.9904559915164369\n",
      "[1632    2   16  236]\n",
      "Learning rate:  0.85\n",
      "Accuracy score (validation): 0.951\n",
      "no update\n",
      "curr 0.9512195121951219 pickle 0.9904559915164369\n",
      "[1632    2   16  236]\n",
      "Learning rate:  1\n",
      "Accuracy score (validation): 0.956\n",
      "no update\n",
      "curr 0.9559915164369035 pickle 0.9904559915164369\n",
      "[1632    2   16  236]\n"
     ]
    }
   ],
   "source": [
    "lr_list = [0.05, 0.075, 0.1, 0.15, 0.2, 0.25, 0.3, 0.35, 0.4, 0.45, 0.5, 0.55, 0.6, 0.65,0.7, 0.75, 0.8, 0.85, 1]\n",
    "\n",
    "parameters={\n",
    "   \"n_estimators\":100, # 200 kind of overfits I think\n",
    "    \"max_features\":2,\n",
    "    \"max_depth\":6,\n",
    "    \"random_state\":0,\n",
    "    \"subsample\":0.8,\n",
    "    'lambda': 0.5, # regularization?\n",
    "    'alpha': 0.5\n",
    "}\n",
    "\n",
    "\n",
    "\n",
    "for learning_rate in lr_list:\n",
    "    xgBoost = XGBClassifier(n_estimators=parameters['n_estimators'], \n",
    "    learning_rate=learning_rate, \n",
    "    max_depth=parameters['max_depth'], random_state=parameters['random_state'], \n",
    "    subsample=parameters['subsample'], \n",
    "    )\n",
    "\n",
    "    parameters['learning_rate']=learning_rate\n",
    "    xgBoost.fit(X_train, y_train)\n",
    "\n",
    "    # ALWAYS reset feature names\n",
    "    cols_when_model_builds = xgBoost.get_booster().feature_names\n",
    "    X_test=X_test[cols_when_model_builds]\n",
    "\n",
    "    testingAcc = accuracy_score(y_test, xgBoost.predict(X_test))\n",
    "    trainingAcc = accuracy_score(y_train, xgBoost.predict(X_train))\n",
    "    \n",
    "    print(\"Learning rate: \", learning_rate)\n",
    "    # print(\"Accuracy score (training): {0:.3f}\".format(trainingAcc))\n",
    "    print(\"Accuracy score (validation): {0:.3f}\".format(testingAcc))\n",
    "    # print(f\"Feature importance {gradBoost.feature_importances_}\")\n",
    "\n",
    "    # pickle.dump(gradBoost, open('gradBoost.pkl', 'wb'))\n",
    "    saveModel(xgBoost, \"xgBoost\", X_test, y_test, parameters, xgBoost=True, dir=\"models/synthetic_data_testing\")"
   ]
  },
  {
   "cell_type": "code",
   "execution_count": null,
   "metadata": {},
   "outputs": [],
   "source": [
    "\"\"\"\n",
    "{'n_estimators': 120, 'max_features': 2, 'max_depth': 6, 'random_state': 0, 'min_sample_split': 50, 'subsample': 0.8, 'learning_rate': 0.3}\n",
    "\"\"\"\n",
    "kmer = 4\n",
    "ds = datasets['merged'][f'normalized-{kmer}']\n",
    "\n",
    "X_train, y_train, X_test, y_test = ds['X_train'], ds['y_train'], ds['X_test'], ds['y_test']\n",
    "\n",
    "# knn = KNeighborsClassifier(n_neighbors=5)\n",
    "parameters={\n",
    "   'n_estimators': 120, 'max_features': 2, 'max_depth': 6, 'random_state': 0, 'min_sample_split': 50, 'subsample': 0.8, 'learning_rate': 0.3\n",
    "}\n",
    "\n",
    "param_test1 = {'n_estimators':range(100,140,10), 'learning_rate':[0.1,0.15,0.2], 'subsample':[0.8,0.85,0.9], 'max_depth':range(6,9,1), 'min_samples_split':range(10,40,10), 'max_features':range(2, 5)}\n",
    "\n",
    "gradBoost = GridSearchCV(estimator = GradientBoostingClassifier(\n",
    "    n_estimators=parameters['n_estimators'], max_features=parameters['max_features'], random_state=parameters['random_state']), \n",
    "param_grid = param_test1, scoring='roc_auc',n_jobs=-1, cv=5, verbose=10)\n",
    "\n",
    "# parameters['learning_rate']=learning_rate\n",
    "gradBoost.fit(X_train, y_train)"
   ]
  },
  {
   "cell_type": "code",
   "execution_count": 10,
   "metadata": {},
   "outputs": [
    {
     "name": "stdout",
     "output_type": "stream",
     "text": [
      "{'learning_rate': 0.15, 'max_depth': 8, 'max_features': 3, 'min_samples_split': 30, 'n_estimators': 130, 'subsample': 0.8}\n",
      "GradientBoostingClassifier\n",
      "gradboost\n"
     ]
    },
    {
     "name": "stderr",
     "output_type": "stream",
     "text": [
      "[Parallel(n_jobs=-1)]: Using backend LokyBackend with 10 concurrent workers.\n",
      "[Parallel(n_jobs=-1)]: Done  30 out of  30 | elapsed:    1.8s finished\n",
      "[Parallel(n_jobs=-1)]: Using backend LokyBackend with 10 concurrent workers.\n"
     ]
    },
    {
     "name": "stdout",
     "output_type": "stream",
     "text": [
      "Accuracy: 0.918 (0.015)\n",
      "tn: 1864, fp: 18, fn: 113, tp: 241\n",
      "0.918\n",
      "GradientBoostingClassifier\n",
      "gradboost\n"
     ]
    },
    {
     "name": "stderr",
     "output_type": "stream",
     "text": [
      "[Parallel(n_jobs=-1)]: Done  30 out of  30 | elapsed:    2.1s finished\n"
     ]
    },
    {
     "name": "stdout",
     "output_type": "stream",
     "text": [
      "Accuracy: 0.920 (0.014)\n",
      "tn: 1877, fp: 5, fn: 33, tp: 321\n",
      "0.92\n",
      "GradientBoostingClassifier\n",
      "gradboost\n",
      "precision recall: 0.9836942204649143\n",
      "roc: 0.9945394069297598\n"
     ]
    },
    {
     "data": {
      "image/png": "[encoded data removed]",
      "text/plain": [
       "<Figure size 640x480 with 1 Axes>"
      ]
     },
     "metadata": {},
     "output_type": "display_data"
    },
    {
     "name": "stdout",
     "output_type": "stream",
     "text": [
      "[0.00548521 0.00180334 0.00079118 ... 0.00184853 0.00543782 0.00500435]\n",
      "(array([0.        , 0.        , 0.        , 0.        , 0.        ,\n",
      "       0.        , 0.        , 0.        , 0.        , 0.        ,\n",
      "       0.        , 0.0010627 , 0.0010627 , 0.00159405, 0.00159405,\n",
      "       0.00265675, 0.00265675, 0.0031881 , 0.0031881 , 0.00371945,\n",
      "       0.0042508 , 0.0042508 , 0.0053135 , 0.0053135 , 0.00584485,\n",
      "       0.00584485, 0.0063762 , 0.0063762 , 0.00690755, 0.00690755,\n",
      "       0.00797024, 0.00797024, 0.00903294, 0.00903294, 0.00956429,\n",
      "       0.00956429, 0.01328374, 0.01328374, 0.01434644, 0.01540914,\n",
      "       0.01594049, 0.01594049, 0.01647184, 0.01647184, 0.02284803,\n",
      "       0.02284803, 0.03081828, 0.03081828, 0.03241233, 0.03347503,\n",
      "       0.03560043, 0.03560043, 0.03772582, 0.03772582, 0.03931987,\n",
      "       0.04038257, 0.04463337, 0.04463337, 0.04994687, 0.05100956,\n",
      "       0.05366631, 0.05472901, 0.05738576, 0.05738576, 0.09564293,\n",
      "       0.09564293, 0.09989373, 0.10095643, 0.10095643, 0.11583422,\n",
      "       0.11689692, 0.14399575, 0.14399575, 0.14612115, 0.14718385,\n",
      "       0.15090329, 0.15196599, 0.15515409, 0.15621679, 0.16365569,\n",
      "       0.16471838, 0.18331562, 0.18437832, 0.18597237, 0.18597237,\n",
      "       0.19978746, 0.20085016, 0.21466525, 0.21572795, 0.2162593 ,\n",
      "       0.2162593 , 0.22316684, 0.22316684, 0.22635494, 0.22741764,\n",
      "       0.24760893, 0.24867163, 0.35600425, 0.35706695, 0.39319872,\n",
      "       0.39426142, 0.48937301, 0.48937301, 0.57757705, 0.57863974,\n",
      "       0.86928799, 0.87035069, 0.87353879, 0.87513284, 0.88788523,\n",
      "       0.88894793, 0.90329437, 0.90435707, 0.97396387, 0.97502657,\n",
      "       1.        ]), array([0.        , 0.00282486, 0.31920904, 0.33050847, 0.39265537,\n",
      "       0.39830508, 0.5480226 , 0.55367232, 0.61016949, 0.61581921,\n",
      "       0.82485876, 0.82485876, 0.86440678, 0.86440678, 0.88983051,\n",
      "       0.88983051, 0.90677966, 0.90960452, 0.91525424, 0.9180791 ,\n",
      "       0.9180791 , 0.92090395, 0.92090395, 0.92372881, 0.92372881,\n",
      "       0.92937853, 0.92937853, 0.93220339, 0.93220339, 0.93785311,\n",
      "       0.93785311, 0.94067797, 0.94067797, 0.94350282, 0.94350282,\n",
      "       0.94632768, 0.94632768, 0.94915254, 0.94915254, 0.94915254,\n",
      "       0.94915254, 0.95480226, 0.95480226, 0.96045198, 0.96045198,\n",
      "       0.96327684, 0.96327684, 0.96610169, 0.96610169, 0.96610169,\n",
      "       0.96610169, 0.96892655, 0.96892655, 0.97175141, 0.97175141,\n",
      "       0.97175141, 0.97175141, 0.97740113, 0.97740113, 0.97740113,\n",
      "       0.97740113, 0.97740113, 0.97740113, 0.98022599, 0.98022599,\n",
      "       0.98305085, 0.98305085, 0.98305085, 0.98587571, 0.98587571,\n",
      "       0.98587571, 0.98587571, 0.98870056, 0.98870056, 0.98870056,\n",
      "       0.98870056, 0.98870056, 0.98870056, 0.98870056, 0.98870056,\n",
      "       0.98870056, 0.98870056, 0.98870056, 0.98870056, 0.99152542,\n",
      "       0.99152542, 0.99152542, 0.99152542, 0.99152542, 0.99152542,\n",
      "       0.99435028, 0.99435028, 0.99717514, 0.99717514, 0.99717514,\n",
      "       0.99717514, 0.99717514, 0.99717514, 0.99717514, 0.99717514,\n",
      "       0.99717514, 0.99717514, 1.        , 1.        , 1.        ,\n",
      "       1.        , 1.        , 1.        , 1.        , 1.        ,\n",
      "       1.        , 1.        , 1.        , 1.        , 1.        ,\n",
      "       1.        ]), 0.9945394069297598)\n",
      "GradientBoostingClassifier\n",
      "gradboost\n",
      "precision recall: 0.8814728508903781\n",
      "roc: 0.9599206277730747\n"
     ]
    },
    {
     "data": {
      "image/png": "[encoded data removed]",
      "text/plain": [
       "<Figure size 640x480 with 1 Axes>"
      ]
     },
     "metadata": {},
     "output_type": "display_data"
    },
    {
     "name": "stdout",
     "output_type": "stream",
     "text": [
      "[0.01436602 0.00302472 0.00117355 ... 0.00078883 0.02261897 0.0195416 ]\n",
      "(array([0.00000000e+00, 0.00000000e+00, 0.00000000e+00, 0.00000000e+00,\n",
      "       0.00000000e+00, 5.31349628e-04, 5.31349628e-04, 5.31349628e-04,\n",
      "       5.31349628e-04, 1.06269926e-03, 1.06269926e-03, 1.59404888e-03,\n",
      "       1.59404888e-03, 2.12539851e-03, 2.12539851e-03, 2.65674814e-03,\n",
      "       2.65674814e-03, 3.18809777e-03, 3.18809777e-03, 3.71944740e-03,\n",
      "       3.71944740e-03, 4.25079702e-03, 4.25079702e-03, 4.78214665e-03,\n",
      "       4.78214665e-03, 6.37619554e-03, 6.37619554e-03, 6.90754516e-03,\n",
      "       6.90754516e-03, 7.97024442e-03, 7.97024442e-03, 9.03294368e-03,\n",
      "       9.03294368e-03, 9.03294368e-03, 9.03294368e-03, 9.03294368e-03,\n",
      "       9.03294368e-03, 9.56429330e-03, 9.56429330e-03, 9.56429330e-03,\n",
      "       9.56429330e-03, 9.56429330e-03, 1.06269926e-02, 1.06269926e-02,\n",
      "       1.16896918e-02, 1.16896918e-02, 1.22210414e-02, 1.22210414e-02,\n",
      "       1.32837407e-02, 1.32837407e-02, 1.43464400e-02, 1.54091392e-02,\n",
      "       1.59404888e-02, 1.59404888e-02, 1.64718385e-02, 1.64718385e-02,\n",
      "       1.75345377e-02, 1.91285866e-02, 1.91285866e-02, 2.12539851e-02,\n",
      "       2.12539851e-02, 2.55047821e-02, 2.55047821e-02, 2.60361318e-02,\n",
      "       2.60361318e-02, 2.65674814e-02, 2.76301807e-02, 2.86928799e-02,\n",
      "       2.86928799e-02, 2.92242295e-02, 2.92242295e-02, 3.08182784e-02,\n",
      "       3.08182784e-02, 3.29436769e-02, 3.29436769e-02, 3.34750266e-02,\n",
      "       3.34750266e-02, 3.40063762e-02, 3.40063762e-02, 3.50690755e-02,\n",
      "       3.50690755e-02, 3.66631243e-02, 3.66631243e-02, 3.71944740e-02,\n",
      "       3.71944740e-02, 3.82571732e-02, 3.82571732e-02, 3.87885228e-02,\n",
      "       3.87885228e-02, 4.03825717e-02, 4.03825717e-02, 4.19766206e-02,\n",
      "       4.19766206e-02, 4.25079702e-02, 4.25079702e-02, 4.67587673e-02,\n",
      "       4.67587673e-02, 4.88841658e-02, 4.88841658e-02, 4.94155154e-02,\n",
      "       4.94155154e-02, 5.04782147e-02, 5.41976621e-02, 5.41976621e-02,\n",
      "       5.52603613e-02, 5.52603613e-02, 5.79171095e-02, 5.79171095e-02,\n",
      "       5.89798087e-02, 5.89798087e-02, 6.16365569e-02, 6.16365569e-02,\n",
      "       6.37619554e-02, 6.37619554e-02, 6.42933050e-02, 6.42933050e-02,\n",
      "       6.48246546e-02, 6.58873539e-02, 6.80127524e-02, 6.80127524e-02,\n",
      "       7.33262487e-02, 7.33262487e-02, 7.43889479e-02, 7.49202976e-02,\n",
      "       7.59829968e-02, 7.70456961e-02, 7.70456961e-02, 8.18278427e-02,\n",
      "       8.18278427e-02, 8.39532412e-02, 8.39532412e-02, 8.82040383e-02,\n",
      "       8.82040383e-02, 8.87353879e-02, 8.87353879e-02, 9.45802338e-02,\n",
      "       9.45802338e-02, 9.56429330e-02, 9.56429330e-02, 9.88310308e-02,\n",
      "       9.98937301e-02, 1.00425080e-01, 1.00425080e-01, 1.09458023e-01,\n",
      "       1.09458023e-01, 1.16365569e-01, 1.16365569e-01, 1.19022317e-01,\n",
      "       1.20085016e-01, 1.21679065e-01, 1.21679065e-01, 1.22741764e-01,\n",
      "       1.23804463e-01, 1.28055260e-01, 1.28055260e-01, 1.29649309e-01,\n",
      "       1.29649309e-01, 1.30712009e-01, 1.30712009e-01, 1.32837407e-01,\n",
      "       1.33900106e-01, 1.36025505e-01, 1.37088204e-01, 1.39213603e-01,\n",
      "       1.39213603e-01, 1.40807651e-01, 1.40807651e-01, 1.51965994e-01,\n",
      "       1.51965994e-01, 1.57279490e-01, 1.57279490e-01, 1.68969182e-01,\n",
      "       1.68969182e-01, 1.72688629e-01, 1.72688629e-01, 1.74814028e-01,\n",
      "       1.74814028e-01, 1.81190223e-01, 1.81190223e-01, 1.91285866e-01,\n",
      "       1.91285866e-01, 1.99256111e-01, 1.99256111e-01, 2.14665250e-01,\n",
      "       2.14665250e-01, 2.19447396e-01, 2.19447396e-01, 2.22635494e-01,\n",
      "       2.22635494e-01, 2.23698193e-01, 2.24760893e-01, 2.25823592e-01,\n",
      "       2.25823592e-01, 2.26354942e-01, 2.26354942e-01, 2.27948990e-01,\n",
      "       2.28480340e-01, 2.43358130e-01, 2.43358130e-01, 2.46014878e-01,\n",
      "       2.47077577e-01, 2.49734325e-01, 2.49734325e-01, 2.63018066e-01,\n",
      "       2.64080765e-01, 2.74176408e-01, 2.74176408e-01, 2.84272051e-01,\n",
      "       2.84272051e-01, 2.93304995e-01, 2.93304995e-01, 3.17215728e-01,\n",
      "       3.17215728e-01, 3.20935175e-01, 3.20935175e-01, 3.23591923e-01,\n",
      "       3.23591923e-01, 3.25717322e-01, 3.25717322e-01, 3.29968119e-01,\n",
      "       3.29968119e-01, 3.74601488e-01, 3.74601488e-01, 3.80977683e-01,\n",
      "       3.80977683e-01, 3.95855473e-01, 3.95855473e-01, 4.04888417e-01,\n",
      "       4.04888417e-01, 4.09139214e-01, 4.09139214e-01, 4.13921360e-01,\n",
      "       4.14984060e-01, 4.22422954e-01, 4.23485654e-01, 6.74282678e-01,\n",
      "       6.75345377e-01, 8.17747078e-01, 8.20403826e-01, 8.23060574e-01,\n",
      "       8.24123273e-01, 8.41657811e-01, 8.41657811e-01, 8.42720510e-01,\n",
      "       8.88947928e-01, 8.88947928e-01, 9.33049947e-01, 9.34112646e-01,\n",
      "       9.92561105e-01, 9.93623804e-01, 1.00000000e+00]), array([0.        , 0.00282486, 0.11864407, 0.12429379, 0.27118644,\n",
      "       0.27118644, 0.31073446, 0.31638418, 0.4180791 , 0.4180791 ,\n",
      "       0.43220339, 0.43220339, 0.44350282, 0.44350282, 0.46892655,\n",
      "       0.46892655, 0.48022599, 0.48022599, 0.54237288, 0.54237288,\n",
      "       0.5480226 , 0.5480226 , 0.55932203, 0.55932203, 0.57344633,\n",
      "       0.57344633, 0.5819209 , 0.5819209 , 0.60451977, 0.60451977,\n",
      "       0.61864407, 0.61864407, 0.6299435 , 0.63559322, 0.65819209,\n",
      "       0.66384181, 0.66949153, 0.66949153, 0.67231638, 0.6779661 ,\n",
      "       0.68926554, 0.69491525, 0.69491525, 0.69774011, 0.69774011,\n",
      "       0.70338983, 0.70338983, 0.71186441, 0.71186441, 0.71468927,\n",
      "       0.71468927, 0.71468927, 0.71468927, 0.7259887 , 0.7259887 ,\n",
      "       0.72881356, 0.72881356, 0.72881356, 0.73163842, 0.73163842,\n",
      "       0.74293785, 0.74293785, 0.74576271, 0.74576271, 0.74858757,\n",
      "       0.74858757, 0.74858757, 0.74858757, 0.75423729, 0.75423729,\n",
      "       0.75706215, 0.75706215, 0.75988701, 0.75988701, 0.76271186,\n",
      "       0.76271186, 0.76836158, 0.77118644, 0.77683616, 0.77683616,\n",
      "       0.77966102, 0.77966102, 0.78531073, 0.78531073, 0.78813559,\n",
      "       0.78813559, 0.79096045, 0.79096045, 0.79378531, 0.79378531,\n",
      "       0.80225989, 0.80225989, 0.8079096 , 0.8079096 , 0.81073446,\n",
      "       0.81073446, 0.81355932, 0.81355932, 0.81638418, 0.81638418,\n",
      "       0.8220339 , 0.8220339 , 0.8220339 , 0.82485876, 0.82485876,\n",
      "       0.83615819, 0.83615819, 0.83898305, 0.83898305, 0.84180791,\n",
      "       0.84180791, 0.84463277, 0.84463277, 0.84745763, 0.84745763,\n",
      "       0.85028249, 0.85028249, 0.85028249, 0.85028249, 0.85310734,\n",
      "       0.85310734, 0.85875706, 0.85875706, 0.85875706, 0.85875706,\n",
      "       0.85875706, 0.86158192, 0.86158192, 0.86723164, 0.86723164,\n",
      "       0.8700565 , 0.8700565 , 0.87288136, 0.87288136, 0.87570621,\n",
      "       0.87570621, 0.87853107, 0.87853107, 0.88135593, 0.88135593,\n",
      "       0.88135593, 0.88135593, 0.88418079, 0.88418079, 0.88700565,\n",
      "       0.88700565, 0.88983051, 0.88983051, 0.88983051, 0.88983051,\n",
      "       0.89548023, 0.89548023, 0.89548023, 0.89548023, 0.89830508,\n",
      "       0.89830508, 0.90112994, 0.90112994, 0.9039548 , 0.9039548 ,\n",
      "       0.9039548 , 0.9039548 , 0.9039548 , 0.9039548 , 0.90677966,\n",
      "       0.90677966, 0.90960452, 0.90960452, 0.91242938, 0.91242938,\n",
      "       0.91525424, 0.91525424, 0.9180791 , 0.9180791 , 0.92090395,\n",
      "       0.92090395, 0.92372881, 0.92372881, 0.92655367, 0.92655367,\n",
      "       0.92937853, 0.92937853, 0.93220339, 0.93220339, 0.93785311,\n",
      "       0.93785311, 0.94067797, 0.94067797, 0.94350282, 0.94350282,\n",
      "       0.94350282, 0.94350282, 0.94632768, 0.94632768, 0.94915254,\n",
      "       0.94915254, 0.9519774 , 0.9519774 , 0.95480226, 0.95480226,\n",
      "       0.95480226, 0.95480226, 0.95762712, 0.95762712, 0.95762712,\n",
      "       0.95762712, 0.96045198, 0.96045198, 0.96327684, 0.96327684,\n",
      "       0.96610169, 0.96610169, 0.96892655, 0.96892655, 0.97175141,\n",
      "       0.97175141, 0.97457627, 0.97457627, 0.97740113, 0.97740113,\n",
      "       0.98022599, 0.98022599, 0.98305085, 0.98305085, 0.98587571,\n",
      "       0.98587571, 0.98870056, 0.98870056, 0.99152542, 0.99152542,\n",
      "       0.99435028, 0.99435028, 0.99435028, 0.99435028, 0.99435028,\n",
      "       0.99435028, 0.99435028, 0.99435028, 0.99435028, 0.99435028,\n",
      "       0.99435028, 0.99435028, 0.99717514, 0.99717514, 0.99717514,\n",
      "       1.        , 1.        , 1.        , 1.        , 1.        ,\n",
      "       1.        ]), 0.9599206277730747)\n"
     ]
    }
   ],
   "source": [
    "\"\"\"\n",
    "{'learning_rate': 0.15, 'max_depth': 8, 'max_features': 3, 'min_samples_split': 30, 'n_estimators': 130, 'subsample': 0.8}\n",
    "\"\"\"\n",
    "print(gradBoost.best_params_)\n",
    "print(validation_utils.cross_validate(gradBoost.best_estimator_, X_test, y_test))\n",
    "pi = pickle.load(open('models/curr_models/nardus_gridsearch.pkl', 'rb'))\n",
    "print(validation_utils.cross_validate(pi.best_estimator_, X_test, y_test))\n",
    "print(validation_utils.draw_roc_curve(pi.best_estimator_, X_test, y_test))\n",
    "print(validation_utils.draw_roc_curve(gradBoost.best_estimator_, X_test, y_test))"
   ]
  },
  {
   "cell_type": "code",
   "execution_count": 14,
   "metadata": {},
   "outputs": [
    {
     "name": "stdout",
     "output_type": "stream",
     "text": [
      "GradientBoostingClassifier\n",
      "gradboost\n",
      "GradientBoostingClassifier\n",
      "gradboost\n"
     ]
    },
    {
     "name": "stderr",
     "output_type": "stream",
     "text": [
      "[Parallel(n_jobs=-1)]: Using backend LokyBackend with 10 concurrent workers.\n",
      "[Parallel(n_jobs=-1)]: Done  30 out of  30 | elapsed:    3.6s finished\n",
      "[Parallel(n_jobs=-1)]: Using backend LokyBackend with 10 concurrent workers.\n"
     ]
    },
    {
     "name": "stdout",
     "output_type": "stream",
     "text": [
      "Accuracy: 0.918 (0.015)\n",
      "tn: 1864, fp: 18, fn: 113, tp: 241\n",
      "0.918\n",
      "{'learning_rate': 0.1, 'max_depth': 9, 'min_samples_split': 20, 'n_estimators': 140, 'subsample': 0.9}\n",
      "GradientBoostingClassifier\n",
      "gradboost\n",
      "Accuracy: 0.920 (0.014)\n",
      "tn: 1877, fp: 5, fn: 33, tp: 321\n",
      "0.92\n"
     ]
    },
    {
     "name": "stderr",
     "output_type": "stream",
     "text": [
      "[Parallel(n_jobs=-1)]: Done  30 out of  30 | elapsed:    1.8s finished\n"
     ]
    }
   ],
   "source": [
    "pickle.dump(gradBoost, open('models/test/nardus_gridsearch.pkl', 'wb'))\n",
    "\n",
    "X_test = data_utils.transform_data(gradBoost.best_estimator_, X_test)\n",
    "print(validation_utils.cross_validate(gradBoost.best_estimator_, X_test, y_test))\n",
    "print(pi.best_params_)\n",
    "print(validation_utils.cross_validate(pi.best_estimator_, X_test, y_test))\n"
   ]
  }
 ],
 "metadata": {
  "kernelspec": {
   "display_name": "Python 3.8.13 ('seq')",
   "language": "python",
   "name": "python3"
  },
  "language_info": {
   "codemirror_mode": {
    "name": "ipython",
    "version": 3
   },
   "file_extension": ".py",
   "mimetype": "text/x-python",
   "name": "python",
   "nbconvert_exporter": "python",
   "pygments_lexer": "ipython3",
   "version": "3.8.13"
  },
  "orig_nbformat": 4,
  "vscode": {
   "interpreter": {
    "hash": "e1360c63304de9435a2a3572d38e6c9496b6fb5d1617f35fbc8638664d664ab4"
   }
  }
 },
 "nbformat": 4,
 "nbformat_minor": 2
}
