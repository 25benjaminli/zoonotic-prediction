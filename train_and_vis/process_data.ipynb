{
 "cells": [
  {
   "cell_type": "code",
   "execution_count": 1,
   "metadata": {},
   "outputs": [
    {
     "name": "stdout",
     "output_type": "stream",
     "text": [
      "/Users/benjaminli/Documents/coding/scires/project/utils\n",
      "/Users/benjaminli/Documents/coding/scires/project\n"
     ]
    }
   ],
   "source": [
    "from itertools import permutations, product\n",
    "\n",
    "import tqdm\n",
    "\n",
    "import pandas as pd\n",
    "\n",
    "from sklearn.linear_model import LogisticRegression\n",
    "from sklearn.model_selection import train_test_split\n",
    "from sklearn.metrics import accuracy_score\n",
    "\n",
    "from os import path\n",
    "\n",
    "import matplotlib.pyplot as plt\n",
    "\n",
    "from warnings import simplefilter\n",
    "from collections import OrderedDict\n",
    "\n",
    "if (os.path.abspath('').split('/')[-1] == 'project'):\n",
    "    %cd utils\n",
    "elif (os.path.abspath('').split('/')[-1] == 'train_and_vis'):\n",
    "    %cd ../utils\n",
    "\n",
    "import query_utils\n",
    "import model_utils\n",
    "import validation_utils\n",
    "\n",
    "if (os.path.abspath('').split('/')[-1] == 'utils'):\n",
    "    %cd ..\n",
    "\n",
    "simplefilter(action=\"ignore\", category=pd.errors.PerformanceWarning)\n",
    "simplefilter(action='ignore', category=FutureWarning)"
   ]
  },
  {
   "cell_type": "code",
   "execution_count": 17,
   "metadata": {},
   "outputs": [],
   "source": [
    "df = pd.read_csv('data/dataset1/human_infecting_virus', delimiter='\\t', header=None)\n",
    "df[['ID', 'DNA Sequence']] = df[0].str.split(expand=True)\n",
    "df = df.drop(0, axis=1)\n",
    "df['isZoonotic'] = 1\n",
    "\n",
    "\n",
    "df2 = pd.read_csv('data/dataset1/Other_viruses', delimiter='\\t', header=None)\n",
    "df2[['ID', 'DNA Sequence']] = df2[0].str.split(expand=True)\n",
    "df2 = df2.drop(0, axis=1)\n",
    "df2['isZoonotic'] = 0\n",
    "\n",
    "\n",
    "nardus = pd.read_csv('data/dataset2/nardus_sequences.csv')\n",
    "nardus.reset_index(drop=True, inplace=True)\n",
    "df.reset_index(drop=True, inplace=True)\n",
    "df2.reset_index(drop=True, inplace=True)\n",
    "\n",
    "# inconsistency with tax IDS\n",
    "mergedDf = pd.concat([df, df2], axis=0, ignore_index=True)\n",
    "mergedDf = mergedDf.drop_duplicates(subset=['DNA Sequence'])\n",
    "mergedDf.reset_index(drop=True, inplace=True)"
   ]
  },
  {
   "cell_type": "code",
   "execution_count": 18,
   "metadata": {},
   "outputs": [
    {
     "name": "stdout",
     "output_type": "stream",
     "text": [
      "          ID                                       DNA Sequence  isZoonotic\n",
      "0      37121  cttttaacaatcatagttttataaaagggtgtaaccgaagcggttt...           1\n",
      "1     129724  atactttacaattatcttgtaaaaagtagggtgtaaccgaaaaggg...           1\n",
      "2      59303  atggcggacgtgtgacatcaccgttcgctctttctaggatcctttg...           1\n",
      "3     120686  ttgttctacttcttactcattattataaattataatgtttgtataa...           1\n",
      "4      99565  gtgaatgatgatggcgtcgaaagacgtcgttgcagctactgctgct...           1\n",
      "...      ...                                                ...         ...\n",
      "9324  358769  gtatacgaggttagttcattctcgtatgcatgattggacaaattaa...           0\n",
      "9325  268315  ggatccacagaactccttgtatgtacagccgcgggtacccacagca...           0\n",
      "9326  130329  ctcatgtcattaataagaccatgcagaaaatgcaaatgaggcgaag...           0\n",
      "9327  358812  gtatacgaggttagttcattctcgtatacacgattggacaaatcaa...           0\n",
      "9328   11287  atggaaggaggaattcgtgcagcgttttcaggcctgaatgatgtta...           0\n",
      "\n",
      "[9329 rows x 3 columns]\n"
     ]
    }
   ],
   "source": [
    "print(mergedDf)"
   ]
  },
  {
   "cell_type": "code",
   "execution_count": 32,
   "metadata": {},
   "outputs": [],
   "source": [
    "\n",
    "def resetkmerdict(permset)->OrderedDict:\n",
    "        kmerdict = OrderedDict()\n",
    "        for i in permset:\n",
    "            kmerdict[i]=0\n",
    "        return kmerdict\n",
    "\n",
    "def assign_kmers_to_dict(row, permset, kmer):\n",
    "    kmerdict=resetkmerdict(permset)\n",
    "    st = row[2] # tune for which column the sequence is in\n",
    "    for j in range(len(st)-kmer+1):\n",
    "        if not st[j:j+kmer] in permset: continue\n",
    "        kmerdict[st[j:j+kmer]]+=1\n",
    "    return kmerdict\n",
    "\n",
    "def getTrainParams(mergedDf, kmer, f):\n",
    "    print(mergedDf)\n",
    "    s = product('acgt',repeat = kmer)\n",
    "    permset = set([\"\".join(x) for x in list(s)])\n",
    "\n",
    "    l = []\n",
    "    \n",
    "    for row in tqdm.tqdm(mergedDf.itertuples()):\n",
    "        l.append(assign_kmers_to_dict(row, permset, kmer))\n",
    "\n",
    "    finalkmerdict=pd.DataFrame(l)\n",
    "    \n",
    "    # shouldn't need to fill NAs\n",
    "    # mergedDf.fillna(0, inplace=True)\n",
    "\n",
    "    X = finalkmerdict\n",
    "    Y = mergedDf['isZoonotic']\n",
    "    # also test simple average\n",
    "\n",
    "    vec = pd.concat([X, Y], axis=1)\n",
    "    vec.to_csv(f'data/{f}/kmers-{str(kmer)}.csv', index=False)\n",
    "    \n",
    "    # try other method as well\n",
    "    X = X.apply(lambda x: (x-x.min())/(x.max()-x.min()), axis=1)\n",
    "    # print(X.head())\n",
    "\n",
    "    place = pd.concat([X, Y], axis=1)\n",
    "    \n",
    "    # print(place)\n",
    "\n",
    "    place.to_csv(f'data/{f}/normalized-{str(kmer)}.csv', index=False)\n",
    "\n",
    "    return train_test_split(X, Y, test_size=0.2, random_state=1)"
   ]
  },
  {
   "cell_type": "code",
   "execution_count": 34,
   "metadata": {},
   "outputs": [
    {
     "name": "stdout",
     "output_type": "stream",
     "text": [
      "          ID                                       DNA Sequence  isZoonotic\n",
      "0      37121  cttttaacaatcatagttttataaaagggtgtaaccgaagcggttt...           1\n",
      "1     129724  atactttacaattatcttgtaaaaagtagggtgtaaccgaaaaggg...           1\n",
      "2      59303  atggcggacgtgtgacatcaccgttcgctctttctaggatcctttg...           1\n",
      "3     120686  ttgttctacttcttactcattattataaattataatgtttgtataa...           1\n",
      "4      99565  gtgaatgatgatggcgtcgaaagacgtcgttgcagctactgctgct...           1\n",
      "...      ...                                                ...         ...\n",
      "9324  358769  gtatacgaggttagttcattctcgtatgcatgattggacaaattaa...           0\n",
      "9325  268315  ggatccacagaactccttgtatgtacagccgcgggtacccacagca...           0\n",
      "9326  130329  ctcatgtcattaataagaccatgcagaaaatgcaaatgaggcgaag...           0\n",
      "9327  358812  gtatacgaggttagttcattctcgtatacacgattggacaaatcaa...           0\n",
      "9328   11287  atggaaggaggaattcgtgcagcgttttcaggcctgaatgatgtta...           0\n",
      "\n",
      "[9329 rows x 3 columns]\n"
     ]
    },
    {
     "name": "stderr",
     "output_type": "stream",
     "text": [
      "9329it [01:33, 99.82it/s] \n"
     ]
    },
    {
     "name": "stdout",
     "output_type": "stream",
     "text": [
      "               ID                                       DNA Sequence  \\\n",
      "0     NC_025403.1  accagagggaaaatataacaatgtcgttttatagcgatgtaaataa...   \n",
      "1     NC_025404.1  accagagggaaaattaagaaaggtcgttccaagacgacttaaaaga...   \n",
      "2     NC_028246.1  acggagaaaaacaaaaaaactatagtgattagataaataaggaaaa...   \n",
      "3     NC_002077.1  ttgcccactccctctctgcgcgctcgctcgctcggtggggcctgcg...   \n",
      "4     NC_006152.1  ctctcccccctgtcgcgttcgctcgctcgctggctcgtttgggggg...   \n",
      "...           ...                                                ...   \n",
      "1843  NC_007661.1  gttaaaactctcacacttatggtggaactggatctgcaaaaatggg...   \n",
      "1844  NC_007662.1  gttaaaaatctggttgtatctactcttgaatgaacgtgcataaagc...   \n",
      "1845  NC_007663.1  gttaaaatctggaaccaatatggaagggatttatgcacgtgctttt...   \n",
      "1846  NC_007664.1  gttaaaaaagagtgcagatgtcgagaatagtcttactaacaccagg...   \n",
      "1847  NC_007665.1  gttaaaaacctcaagatgcatgccgctattacttcaatgaaacgtg...   \n",
      "\n",
      "      isZoonotic  \n",
      "0              0  \n",
      "1              0  \n",
      "2              0  \n",
      "3              1  \n",
      "4              1  \n",
      "...          ...  \n",
      "1843           0  \n",
      "1844           0  \n",
      "1845           0  \n",
      "1846           0  \n",
      "1847           0  \n",
      "\n",
      "[1848 rows x 3 columns]\n"
     ]
    },
    {
     "name": "stderr",
     "output_type": "stream",
     "text": [
      "1848it [00:06, 301.87it/s]\n"
     ]
    },
    {
     "name": "stdout",
     "output_type": "stream",
     "text": [
      "          ID                                       DNA Sequence  isZoonotic\n",
      "0      37121  cttttaacaatcatagttttataaaagggtgtaaccgaagcggttt...           1\n",
      "1     129724  atactttacaattatcttgtaaaaagtagggtgtaaccgaaaaggg...           1\n",
      "2      59303  atggcggacgtgtgacatcaccgttcgctctttctaggatcctttg...           1\n",
      "3     120686  ttgttctacttcttactcattattataaattataatgtttgtataa...           1\n",
      "4      99565  gtgaatgatgatggcgtcgaaagacgtcgttgcagctactgctgct...           1\n",
      "...      ...                                                ...         ...\n",
      "9324  358769  gtatacgaggttagttcattctcgtatgcatgattggacaaattaa...           0\n",
      "9325  268315  ggatccacagaactccttgtatgtacagccgcgggtacccacagca...           0\n",
      "9326  130329  ctcatgtcattaataagaccatgcagaaaatgcaaatgaggcgaag...           0\n",
      "9327  358812  gtatacgaggttagttcattctcgtatacacgattggacaaatcaa...           0\n",
      "9328   11287  atggaaggaggaattcgtgcagcgttttcaggcctgaatgatgtta...           0\n",
      "\n",
      "[9329 rows x 3 columns]\n"
     ]
    },
    {
     "name": "stderr",
     "output_type": "stream",
     "text": [
      "9329it [01:37, 95.23it/s] \n"
     ]
    },
    {
     "name": "stdout",
     "output_type": "stream",
     "text": [
      "               ID                                       DNA Sequence  \\\n",
      "0     NC_025403.1  accagagggaaaatataacaatgtcgttttatagcgatgtaaataa...   \n",
      "1     NC_025404.1  accagagggaaaattaagaaaggtcgttccaagacgacttaaaaga...   \n",
      "2     NC_028246.1  acggagaaaaacaaaaaaactatagtgattagataaataaggaaaa...   \n",
      "3     NC_002077.1  ttgcccactccctctctgcgcgctcgctcgctcggtggggcctgcg...   \n",
      "4     NC_006152.1  ctctcccccctgtcgcgttcgctcgctcgctggctcgtttgggggg...   \n",
      "...           ...                                                ...   \n",
      "1843  NC_007661.1  gttaaaactctcacacttatggtggaactggatctgcaaaaatggg...   \n",
      "1844  NC_007662.1  gttaaaaatctggttgtatctactcttgaatgaacgtgcataaagc...   \n",
      "1845  NC_007663.1  gttaaaatctggaaccaatatggaagggatttatgcacgtgctttt...   \n",
      "1846  NC_007664.1  gttaaaaaagagtgcagatgtcgagaatagtcttactaacaccagg...   \n",
      "1847  NC_007665.1  gttaaaaacctcaagatgcatgccgctattacttcaatgaaacgtg...   \n",
      "\n",
      "      isZoonotic  \n",
      "0              0  \n",
      "1              0  \n",
      "2              0  \n",
      "3              1  \n",
      "4              1  \n",
      "...          ...  \n",
      "1843           0  \n",
      "1844           0  \n",
      "1845           0  \n",
      "1846           0  \n",
      "1847           0  \n",
      "\n",
      "[1848 rows x 3 columns]\n"
     ]
    },
    {
     "name": "stderr",
     "output_type": "stream",
     "text": [
      "1848it [00:06, 286.86it/s]\n"
     ]
    },
    {
     "name": "stdout",
     "output_type": "stream",
     "text": [
      "          ID                                       DNA Sequence  isZoonotic\n",
      "0      37121  cttttaacaatcatagttttataaaagggtgtaaccgaagcggttt...           1\n",
      "1     129724  atactttacaattatcttgtaaaaagtagggtgtaaccgaaaaggg...           1\n",
      "2      59303  atggcggacgtgtgacatcaccgttcgctctttctaggatcctttg...           1\n",
      "3     120686  ttgttctacttcttactcattattataaattataatgtttgtataa...           1\n",
      "4      99565  gtgaatgatgatggcgtcgaaagacgtcgttgcagctactgctgct...           1\n",
      "...      ...                                                ...         ...\n",
      "9324  358769  gtatacgaggttagttcattctcgtatgcatgattggacaaattaa...           0\n",
      "9325  268315  ggatccacagaactccttgtatgtacagccgcgggtacccacagca...           0\n",
      "9326  130329  ctcatgtcattaataagaccatgcagaaaatgcaaatgaggcgaag...           0\n",
      "9327  358812  gtatacgaggttagttcattctcgtatacacgattggacaaatcaa...           0\n",
      "9328   11287  atggaaggaggaattcgtgcagcgttttcaggcctgaatgatgtta...           0\n",
      "\n",
      "[9329 rows x 3 columns]\n"
     ]
    },
    {
     "name": "stderr",
     "output_type": "stream",
     "text": [
      "9329it [01:41, 92.22it/s] \n"
     ]
    },
    {
     "name": "stdout",
     "output_type": "stream",
     "text": [
      "               ID                                       DNA Sequence  \\\n",
      "0     NC_025403.1  accagagggaaaatataacaatgtcgttttatagcgatgtaaataa...   \n",
      "1     NC_025404.1  accagagggaaaattaagaaaggtcgttccaagacgacttaaaaga...   \n",
      "2     NC_028246.1  acggagaaaaacaaaaaaactatagtgattagataaataaggaaaa...   \n",
      "3     NC_002077.1  ttgcccactccctctctgcgcgctcgctcgctcggtggggcctgcg...   \n",
      "4     NC_006152.1  ctctcccccctgtcgcgttcgctcgctcgctggctcgtttgggggg...   \n",
      "...           ...                                                ...   \n",
      "1843  NC_007661.1  gttaaaactctcacacttatggtggaactggatctgcaaaaatggg...   \n",
      "1844  NC_007662.1  gttaaaaatctggttgtatctactcttgaatgaacgtgcataaagc...   \n",
      "1845  NC_007663.1  gttaaaatctggaaccaatatggaagggatttatgcacgtgctttt...   \n",
      "1846  NC_007664.1  gttaaaaaagagtgcagatgtcgagaatagtcttactaacaccagg...   \n",
      "1847  NC_007665.1  gttaaaaacctcaagatgcatgccgctattacttcaatgaaacgtg...   \n",
      "\n",
      "      isZoonotic  \n",
      "0              0  \n",
      "1              0  \n",
      "2              0  \n",
      "3              1  \n",
      "4              1  \n",
      "...          ...  \n",
      "1843           0  \n",
      "1844           0  \n",
      "1845           0  \n",
      "1846           0  \n",
      "1847           0  \n",
      "\n",
      "[1848 rows x 3 columns]\n"
     ]
    },
    {
     "name": "stderr",
     "output_type": "stream",
     "text": [
      "1848it [00:06, 270.74it/s]\n"
     ]
    },
    {
     "name": "stdout",
     "output_type": "stream",
     "text": [
      "          ID                                       DNA Sequence  isZoonotic\n",
      "0      37121  cttttaacaatcatagttttataaaagggtgtaaccgaagcggttt...           1\n",
      "1     129724  atactttacaattatcttgtaaaaagtagggtgtaaccgaaaaggg...           1\n",
      "2      59303  atggcggacgtgtgacatcaccgttcgctctttctaggatcctttg...           1\n",
      "3     120686  ttgttctacttcttactcattattataaattataatgtttgtataa...           1\n",
      "4      99565  gtgaatgatgatggcgtcgaaagacgtcgttgcagctactgctgct...           1\n",
      "...      ...                                                ...         ...\n",
      "9324  358769  gtatacgaggttagttcattctcgtatgcatgattggacaaattaa...           0\n",
      "9325  268315  ggatccacagaactccttgtatgtacagccgcgggtacccacagca...           0\n",
      "9326  130329  ctcatgtcattaataagaccatgcagaaaatgcaaatgaggcgaag...           0\n",
      "9327  358812  gtatacgaggttagttcattctcgtatacacgattggacaaatcaa...           0\n",
      "9328   11287  atggaaggaggaattcgtgcagcgttttcaggcctgaatgatgtta...           0\n",
      "\n",
      "[9329 rows x 3 columns]\n"
     ]
    },
    {
     "name": "stderr",
     "output_type": "stream",
     "text": [
      "9329it [01:53, 82.31it/s] \n"
     ]
    },
    {
     "name": "stdout",
     "output_type": "stream",
     "text": [
      "               ID                                       DNA Sequence  \\\n",
      "0     NC_025403.1  accagagggaaaatataacaatgtcgttttatagcgatgtaaataa...   \n",
      "1     NC_025404.1  accagagggaaaattaagaaaggtcgttccaagacgacttaaaaga...   \n",
      "2     NC_028246.1  acggagaaaaacaaaaaaactatagtgattagataaataaggaaaa...   \n",
      "3     NC_002077.1  ttgcccactccctctctgcgcgctcgctcgctcggtggggcctgcg...   \n",
      "4     NC_006152.1  ctctcccccctgtcgcgttcgctcgctcgctggctcgtttgggggg...   \n",
      "...           ...                                                ...   \n",
      "1843  NC_007661.1  gttaaaactctcacacttatggtggaactggatctgcaaaaatggg...   \n",
      "1844  NC_007662.1  gttaaaaatctggttgtatctactcttgaatgaacgtgcataaagc...   \n",
      "1845  NC_007663.1  gttaaaatctggaaccaatatggaagggatttatgcacgtgctttt...   \n",
      "1846  NC_007664.1  gttaaaaaagagtgcagatgtcgagaatagtcttactaacaccagg...   \n",
      "1847  NC_007665.1  gttaaaaacctcaagatgcatgccgctattacttcaatgaaacgtg...   \n",
      "\n",
      "      isZoonotic  \n",
      "0              0  \n",
      "1              0  \n",
      "2              0  \n",
      "3              1  \n",
      "4              1  \n",
      "...          ...  \n",
      "1843           0  \n",
      "1844           0  \n",
      "1845           0  \n",
      "1846           0  \n",
      "1847           0  \n",
      "\n",
      "[1848 rows x 3 columns]\n"
     ]
    },
    {
     "name": "stderr",
     "output_type": "stream",
     "text": [
      "1848it [00:07, 237.70it/s]\n"
     ]
    }
   ],
   "source": [
    "for kmer in range(3, 7):\n",
    "    # based on literature\n",
    "    X_train, X_test, y_train, y_test = getTrainParams(mergedDf, kmer, \"dataset1\")\n",
    "    zz = X_train.head()\n",
    "\n",
    "    X_train, X_test, y_train, y_test = getTrainParams(nardus, kmer, \"dataset2\")\n",
    "    zz = X_train.head()"
   ]
  }
 ],
 "metadata": {
  "kernelspec": {
   "display_name": "Python 3.8.13 ('seq')",
   "language": "python",
   "name": "python3"
  },
  "language_info": {
   "codemirror_mode": {
    "name": "ipython",
    "version": 3
   },
   "file_extension": ".py",
   "mimetype": "text/x-python",
   "name": "python",
   "nbconvert_exporter": "python",
   "pygments_lexer": "ipython3",
   "version": "3.8.13"
  },
  "orig_nbformat": 4,
  "vscode": {
   "interpreter": {
    "hash": "e1360c63304de9435a2a3572d38e6c9496b6fb5d1617f35fbc8638664d664ab4"
   }
  }
 },
 "nbformat": 4,
 "nbformat_minor": 2
}
