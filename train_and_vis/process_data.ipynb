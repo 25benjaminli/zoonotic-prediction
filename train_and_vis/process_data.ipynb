{
 "cells": [
  {
   "cell_type": "code",
   "execution_count": 1,
   "metadata": {},
   "outputs": [
    {
     "name": "stdout",
     "output_type": "stream",
     "text": [
      "/Users/benjaminli/Documents/coding/scires/project/utils\n",
      "/Users/benjaminli/Documents/coding/scires/project\n"
     ]
    }
   ],
   "source": [
    "from itertools import permutations, product\n",
    "\n",
    "import tqdm\n",
    "\n",
    "import pandas as pd\n",
    "\n",
    "from sklearn.linear_model import LogisticRegression\n",
    "from sklearn.model_selection import train_test_split\n",
    "from sklearn.metrics import accuracy_score\n",
    "\n",
    "from os import path\n",
    "\n",
    "import matplotlib.pyplot as plt\n",
    "\n",
    "from warnings import simplefilter\n",
    "from collections import OrderedDict\n",
    "\n",
    "z = False\n",
    "try:\n",
    "    %cd ../utils\n",
    "except:\n",
    "    z=True\n",
    "import model_utils\n",
    "import validation_utils\n",
    "import query_utils\n",
    "\n",
    "if z:\n",
    "    %cd ..\n",
    "\n",
    "simplefilter(action=\"ignore\", category=pd.errors.PerformanceWarning)\n",
    "simplefilter(action='ignore', category=FutureWarning)"
   ]
  },
  {
   "cell_type": "code",
   "execution_count": 10,
   "metadata": {},
   "outputs": [],
   "source": [
    "df = pd.read_csv('data/virus_genome/human_infecting_virus', delimiter='\\t', header=None)\n",
    "df[['ID', 'DNA Sequence']] = df[0].str.split(expand=True)\n",
    "df = df.drop(0, axis=1)\n",
    "df['isZoonotic'] = 1\n",
    "\n",
    "\n",
    "df2 = pd.read_csv('data/virus_genome/Other_viruses', delimiter='\\t', header=None)\n",
    "df2[['ID', 'DNA Sequence']] = df2[0].str.split(expand=True)\n",
    "df2 = df2.drop(0, axis=1)\n",
    "df2['isZoonotic'] = 0\n",
    "\n",
    "dfother = pd.DataFrame()\n",
    "it = len(df)\n",
    "\n",
    "# iterate through each sequence\n",
    "for i in range(len(df2)):\n",
    "    dfother.at[it, 'DNA Sequence']=df2.at[i, 'DNA Sequence']\n",
    "    dfother.at[it, 'isZoonotic']=int(0)\n",
    "    dfother.at[it, 'ID']=df2.at[i, 'ID']\n",
    "    it+=1\n",
    "\n",
    "\n",
    "df.reset_index(drop=True, inplace=True)\n",
    "df2.reset_index(drop=True, inplace=True)\n",
    "\n",
    "mergedDf = pd.concat([df, dfother], axis=0)"
   ]
  },
  {
   "cell_type": "code",
   "execution_count": 11,
   "metadata": {},
   "outputs": [
    {
     "name": "stdout",
     "output_type": "stream",
     "text": [
      "9430\n"
     ]
    }
   ],
   "source": [
    "print(len(mergedDf))"
   ]
  },
  {
   "cell_type": "code",
   "execution_count": 13,
   "metadata": {},
   "outputs": [],
   "source": [
    "asdfX = pd.DataFrame()\n",
    "asdfY = pd.DataFrame()"
   ]
  },
  {
   "cell_type": "code",
   "execution_count": 14,
   "metadata": {},
   "outputs": [],
   "source": [
    "\n",
    "def resetkmerdict(permset)->OrderedDict:\n",
    "        kmerdict = OrderedDict()\n",
    "        for i in permset:\n",
    "            kmerdict[i]=0\n",
    "        return kmerdict\n",
    "\n",
    "def assign_kmers_to_dict(row, permset, kmer):\n",
    "    kmerdict=resetkmerdict(permset)\n",
    "    st = row[2] # tune for which column the sequence is in\n",
    "    for j in range(len(st)-kmer+1):\n",
    "        if not st[j:j+kmer] in permset: continue\n",
    "        kmerdict[st[j:j+kmer]]+=1\n",
    "    return kmerdict\n",
    "\n",
    "def getTrainParams(mergedDf, kmer):\n",
    "    print(mergedDf)\n",
    "    s = product('acgt',repeat = kmer)\n",
    "    permset = set([\"\".join(x) for x in list(s)])\n",
    "\n",
    "    l = []\n",
    "    \n",
    "    for row in tqdm.tqdm(mergedDf.itertuples()):\n",
    "        l.append(assign_kmers_to_dict(row, permset, kmer))\n",
    "\n",
    "    finalkmerdict=pd.DataFrame(l)\n",
    "    \n",
    "    # shouldn't need to fill NAs\n",
    "    # mergedDf.fillna(0, inplace=True)\n",
    "\n",
    "    X = finalkmerdict\n",
    "    Y = mergedDf['isZoonotic']\n",
    "    X = X.apply(lambda x: (x-x.min())/(x.max()-x.min()), axis=1)\n",
    "    # print(X.head())\n",
    "\n",
    "    global asdfX\n",
    "    asdfX = X.copy()\n",
    "    global asdfY\n",
    "    asdfY = Y.copy()\n",
    "\n",
    "\n",
    "    place = pd.concat([X, Y], axis=1)\n",
    "    \n",
    "    # print(place)\n",
    "\n",
    "    place.to_csv('data/info.csv', index=False)\n",
    "\n",
    "    return train_test_split(X, Y, test_size=0.2, random_state=1)"
   ]
  },
  {
   "cell_type": "code",
   "execution_count": 7,
   "metadata": {},
   "outputs": [],
   "source": [
    "for x in mergedDf['isZoonotic'].isna():\n",
    "    x and print(x)"
   ]
  },
  {
   "cell_type": "code",
   "execution_count": 15,
   "metadata": {},
   "outputs": [
    {
     "name": "stdout",
     "output_type": "stream",
     "text": [
      "           ID                                       DNA Sequence  isZoonotic\n",
      "0       37121  cttttaacaatcatagttttataaaagggtgtaaccgaagcggttt...         1.0\n",
      "1       37121  cttttaacaatcatagttttataaaagggtgtaaccgaagcggttt...         1.0\n",
      "2       37121  cttttaacaatcatagttttataaaagggtgtaaccgaagcggttt...         1.0\n",
      "3      129724  atactttacaattatcttgtaaaaagtagggtgtaaccgaaaaggg...         1.0\n",
      "4       59303  atggcggacgtgtgacatcaccgttcgctctttctaggatcctttg...         1.0\n",
      "...       ...                                                ...         ...\n",
      "9425   268315  ggatccacagaactccttgtatgtacagccgcgggtacccacagca...         0.0\n",
      "9426   130329  ctcatgtcattaataagaccatgcagaaaatgcaaatgaggcgaag...         0.0\n",
      "9427  1239437  ccgaagtgggatggcggctgccgccgcttcggcgcttggcgcttcg...         0.0\n",
      "9428   358812  gtatacgaggttagttcattctcgtatacacgattggacaaatcaa...         0.0\n",
      "9429    11287  atggaaggaggaattcgtgcagcgttttcaggcctgaatgatgtta...         0.0\n",
      "\n",
      "[9430 rows x 3 columns]\n"
     ]
    },
    {
     "name": "stderr",
     "output_type": "stream",
     "text": [
      "9430it [01:39, 94.81it/s] \n"
     ]
    },
    {
     "name": "stdout",
     "output_type": "stream",
     "text": [
      "       cctg      gtgt      acac      ccga      ttga      accg      ctca  \\\n",
      "0  0.297872  0.819149  0.446809  0.074468  0.265957  0.063830  0.106383   \n",
      "1  0.297872  0.819149  0.446809  0.074468  0.265957  0.063830  0.106383   \n",
      "2  0.297872  0.819149  0.446809  0.074468  0.265957  0.063830  0.106383   \n",
      "3  0.367347  0.857143  0.469388  0.040816  0.295918  0.081633  0.081633   \n",
      "4  0.483871  0.451613  0.580645  0.494624  0.311828  0.677419  0.129032   \n",
      "\n",
      "       tgtt      agcc      cgtt  ...      tggg      aata      tatg      gatc  \\\n",
      "0  0.712766  0.095745  0.085106  ...  0.372340  0.702128  0.617021  0.095745   \n",
      "1  0.712766  0.095745  0.085106  ...  0.372340  0.702128  0.617021  0.095745   \n",
      "2  0.712766  0.095745  0.085106  ...  0.372340  0.702128  0.617021  0.095745   \n",
      "3  0.806122  0.214286  0.102041  ...  0.285714  0.581633  0.744898  0.051020   \n",
      "4  0.204301  0.365591  0.129032  ...  0.204301  0.161290  0.161290  0.311828   \n",
      "\n",
      "       ttac      ggga      ggtc      atac      atta      ccgc  \n",
      "0  0.500000  0.202128  0.106383  0.500000  0.659574  0.021277  \n",
      "1  0.500000  0.202128  0.106383  0.500000  0.659574  0.021277  \n",
      "2  0.500000  0.202128  0.106383  0.500000  0.659574  0.021277  \n",
      "3  0.551020  0.204082  0.122449  0.438776  0.704082  0.142857  \n",
      "4  0.301075  0.290323  0.268817  0.376344  0.096774  0.462366  \n",
      "\n",
      "[5 rows x 256 columns]\n",
      "          cctg      gtgt      acac      ccga      ttga      accg      ctca  \\\n",
      "0     0.297872  0.819149  0.446809  0.074468  0.265957  0.063830  0.106383   \n",
      "1     0.297872  0.819149  0.446809  0.074468  0.265957  0.063830  0.106383   \n",
      "2     0.297872  0.819149  0.446809  0.074468  0.265957  0.063830  0.106383   \n",
      "3     0.367347  0.857143  0.469388  0.040816  0.295918  0.081633  0.081633   \n",
      "4     0.483871  0.451613  0.580645  0.494624  0.311828  0.677419  0.129032   \n",
      "...        ...       ...       ...       ...       ...       ...       ...   \n",
      "9425  0.440000  0.240000  0.320000  0.320000  0.440000  0.320000  0.280000   \n",
      "9426  0.231806  0.293801  0.247978  0.123989  0.442049  0.177898  0.183288   \n",
      "9427  0.333333  0.594203  0.463768  0.057971  0.869565  0.086957  0.246377   \n",
      "9428  0.481481  0.207407  0.407407  0.140741  0.385185  0.125926  0.162963   \n",
      "9429  0.540816  0.214286  0.642857  0.357143  0.387755  0.244898  0.785714   \n",
      "\n",
      "          tgtt      agcc      cgtt  ...      aata      tatg      gatc  \\\n",
      "0     0.712766  0.095745  0.085106  ...  0.702128  0.617021  0.095745   \n",
      "1     0.712766  0.095745  0.085106  ...  0.702128  0.617021  0.095745   \n",
      "2     0.712766  0.095745  0.085106  ...  0.702128  0.617021  0.095745   \n",
      "3     0.806122  0.214286  0.102041  ...  0.581633  0.744898  0.051020   \n",
      "4     0.204301  0.365591  0.129032  ...  0.161290  0.161290  0.311828   \n",
      "...        ...       ...       ...  ...       ...       ...       ...   \n",
      "9425  0.400000  0.400000  0.200000  ...  0.480000  0.320000  0.160000   \n",
      "9426  0.549865  0.183288  0.215633  ...  0.544474  0.328841  0.215633   \n",
      "9427  0.637681  0.159420  0.072464  ...  0.420290  0.492754  0.260870   \n",
      "9428  0.251852  0.355556  0.051852  ...  0.437037  0.325926  0.185185   \n",
      "9429  0.224490  0.234694  0.061224  ...  0.132653  0.173469  0.775510   \n",
      "\n",
      "          ttac      ggga      ggtc      atac      atta      ccgc  isZoonotic  \n",
      "0     0.500000  0.202128  0.106383  0.500000  0.659574  0.021277         1.0  \n",
      "1     0.500000  0.202128  0.106383  0.500000  0.659574  0.021277         1.0  \n",
      "2     0.500000  0.202128  0.106383  0.500000  0.659574  0.021277         1.0  \n",
      "3     0.551020  0.204082  0.122449  0.438776  0.704082  0.142857         1.0  \n",
      "4     0.301075  0.290323  0.268817  0.376344  0.096774  0.462366         1.0  \n",
      "...        ...       ...       ...       ...       ...       ...         ...  \n",
      "9425  0.360000  0.400000  0.200000  0.320000  0.280000  0.240000         0.0  \n",
      "9426  0.374663  0.129380  0.164420  0.312668  0.366577  0.145553         0.0  \n",
      "9427  0.304348  0.159420  0.188406  0.260870  0.260870  0.072464         0.0  \n",
      "9428  0.303704  0.607407  0.207407  0.340741  0.259259  0.066667         0.0  \n",
      "9429  0.132653  0.887755  0.428571  0.142857  0.122449  0.214286         0.0  \n",
      "\n",
      "[9430 rows x 257 columns]\n",
      "TRUTH\n",
      "Empty DataFrame\n",
      "Columns: [cctg, gtgt, acac, ccga, ttga, accg, ctca, tgtt, agcc, cgtt, aatg, catc, tccc, ttca, gccc, cgac, agaa, gcac, aaac, atgg, cgtg, ttat, gcat, gcga, ctag, tctg, acgt, gtct, ttcc, atct, aatc, cact, gtcc, cgaa, agct, gagg, tacc, cata, tcca, cgcc, tctt, tgcc, gtac, tgcg, gtgg, cgca, ggcg, ctgc, cggt, ttta, tcgt, agag, gatt, gcgg, caga, ccat, gacc, acag, ctaa, gaca, cagc, cccg, acga, gcgt, tgac, taca, cgat, tcac, ctga, tcga, cttt, tggt, ccaa, tccg, ccca, agtg, cccc, cgga, attt, cacg, cgtc, taat, tgtg, gatg, acat, gaaa, gttg, cagt, aaag, gcgc, actg, caag, ctcc, cttc, aaca, atcg, cctc, gcca, aagg, cagg, ...]\n",
      "Index: []\n",
      "\n",
      "[0 rows x 257 columns]\n"
     ]
    }
   ],
   "source": [
    "X_train, X_test, y_train, y_test = getTrainParams(mergedDf, 4)\n",
    "zz = X_train.head()"
   ]
  }
 ],
 "metadata": {
  "kernelspec": {
   "display_name": "Python 3.8.13 ('seq')",
   "language": "python",
   "name": "python3"
  },
  "language_info": {
   "codemirror_mode": {
    "name": "ipython",
    "version": 3
   },
   "file_extension": ".py",
   "mimetype": "text/x-python",
   "name": "python",
   "nbconvert_exporter": "python",
   "pygments_lexer": "ipython3",
   "version": "3.8.13 (default, Oct 19 2022, 17:52:09) \n[Clang 12.0.0 ]"
  },
  "orig_nbformat": 4,
  "vscode": {
   "interpreter": {
    "hash": "e1360c63304de9435a2a3572d38e6c9496b6fb5d1617f35fbc8638664d664ab4"
   }
  }
 },
 "nbformat": 4,
 "nbformat_minor": 2
}
