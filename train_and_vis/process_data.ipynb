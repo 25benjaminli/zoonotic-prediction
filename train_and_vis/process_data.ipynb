{
 "cells": [
  {
   "cell_type": "code",
   "execution_count": 4,
   "metadata": {},
   "outputs": [
    {
     "name": "stdout",
     "output_type": "stream",
     "text": [
      "/Users/benjaminli/Documents/coding/scires/project/utils\n",
      "/Users/benjaminli/Documents/coding/scires/project\n"
     ]
    }
   ],
   "source": [
    "from itertools import permutations, product\n",
    "\n",
    "import tqdm\n",
    "\n",
    "import pandas as pd\n",
    "\n",
    "from sklearn.linear_model import LogisticRegression\n",
    "from sklearn.model_selection import train_test_split\n",
    "from sklearn.metrics import accuracy_score\n",
    "\n",
    "from os import path\n",
    "\n",
    "import matplotlib.pyplot as plt\n",
    "\n",
    "from warnings import simplefilter\n",
    "from collections import OrderedDict\n",
    "from ctgan import CTGANSynthesizer\n",
    "\n",
    "if (os.path.abspath('').split('/')[-1] == 'project'):\n",
    "    %cd utils\n",
    "elif (os.path.abspath('').split('/')[-1] == 'train_and_vis'):\n",
    "    %cd ../utils\n",
    "\n",
    "import query_utils\n",
    "import model_utils\n",
    "import validation_utils\n",
    "\n",
    "if (os.path.abspath('').split('/')[-1] == 'utils'):\n",
    "    %cd ..\n",
    "\n",
    "simplefilter(action=\"ignore\", category=pd.errors.PerformanceWarning)\n",
    "simplefilter(action='ignore', category=FutureWarning)"
   ]
  },
  {
   "cell_type": "code",
   "execution_count": 5,
   "metadata": {},
   "outputs": [],
   "source": [
    "df = pd.read_csv('data/dataset1/human_infecting_virus', delimiter='\\t', header=None)\n",
    "df[['ID', 'DNA Sequence']] = df[0].str.split(expand=True)\n",
    "df = df.drop(0, axis=1)\n",
    "df['isZoonotic'] = 1\n",
    "\n",
    "\n",
    "df2 = pd.read_csv('data/dataset1/Other_viruses', delimiter='\\t', header=None)\n",
    "df2[['ID', 'DNA Sequence']] = df2[0].str.split(expand=True)\n",
    "df2 = df2.drop(0, axis=1)\n",
    "df2['isZoonotic'] = 0\n",
    "\n",
    "\n",
    "nardus = pd.read_csv('data/dataset2/nardus_sequences.csv')\n",
    "nardus.reset_index(drop=True, inplace=True)\n",
    "df.reset_index(drop=True, inplace=True)\n",
    "df2.reset_index(drop=True, inplace=True)\n",
    "\n",
    "# inconsistency with tax IDS\n",
    "mergedDf = pd.concat([df, df2, nardus], axis=0, ignore_index=True)\n",
    "mergedDf = mergedDf.drop_duplicates(subset=['DNA Sequence'])\n",
    "mergedDf.reset_index(drop=True, inplace=True)"
   ]
  },
  {
   "cell_type": "code",
   "execution_count": 12,
   "metadata": {},
   "outputs": [
    {
     "name": "stdout",
     "output_type": "stream",
     "text": [
      "          ID                                       DNA Sequence  isZoonotic\n",
      "0      37121  cttttaacaatcatagttttataaaagggtgtaaccgaagcggttt...           1\n",
      "1     129724  atactttacaattatcttgtaaaaagtagggtgtaaccgaaaaggg...           1\n",
      "2      59303  atggcggacgtgtgacatcaccgttcgctctttctaggatcctttg...           1\n",
      "3     120686  ttgttctacttcttactcattattataaattataatgtttgtataa...           1\n",
      "4      99565  gtgaatgatgatggcgtcgaaagacgtcgttgcagctactgctgct...           1\n",
      "...      ...                                                ...         ...\n",
      "9324  358769  gtatacgaggttagttcattctcgtatgcatgattggacaaattaa...           0\n",
      "9325  268315  ggatccacagaactccttgtatgtacagccgcgggtacccacagca...           0\n",
      "9326  130329  ctcatgtcattaataagaccatgcagaaaatgcaaatgaggcgaag...           0\n",
      "9327  358812  gtatacgaggttagttcattctcgtatacacgattggacaaatcaa...           0\n",
      "9328   11287  atggaaggaggaattcgtgcagcgttttcaggcctgaatgatgtta...           0\n",
      "\n",
      "[9329 rows x 3 columns]\n"
     ]
    }
   ],
   "source": [
    "print(mergedDf)"
   ]
  },
  {
   "cell_type": "code",
   "execution_count": 7,
   "metadata": {},
   "outputs": [],
   "source": [
    "\n",
    "def resetkmerdict(permset)->OrderedDict:\n",
    "        kmerdict = OrderedDict()\n",
    "        for i in permset:\n",
    "            kmerdict[i]=0\n",
    "        return kmerdict\n",
    "\n",
    "def assign_kmers_to_dict(row, permset, kmer):\n",
    "    kmerdict=resetkmerdict(permset)\n",
    "    st = row[2] # tune for which column the sequence is in\n",
    "    for j in range(len(st)-kmer+1):\n",
    "        if not st[j:j+kmer] in permset: continue\n",
    "        kmerdict[st[j:j+kmer]]+=1\n",
    "    return kmerdict\n",
    "\n",
    "def getTrainParams(mergedDf, kmer, f, synthetic_pos=0, synthetic_neg=0, save_reg=False, save_new=False):\n",
    "    print(mergedDf)\n",
    "    s = product('acgt',repeat = kmer)\n",
    "    permset = set([\"\".join(x) for x in list(s)])\n",
    "\n",
    "    l = []\n",
    "    \n",
    "    for row in tqdm.tqdm(mergedDf.itertuples()):\n",
    "        l.append(assign_kmers_to_dict(row, permset, kmer))\n",
    "\n",
    "    finalkmerdict=pd.DataFrame(l)\n",
    "    \n",
    "    # shouldn't need to fill NAs\n",
    "    # mergedDf.fillna(0, inplace=True)\n",
    "\n",
    "    X = finalkmerdict\n",
    "    Y = mergedDf['isZoonotic']\n",
    "    # also test simple average\n",
    "\n",
    "    # feature defs\n",
    "    vec = pd.concat([X, Y], axis=1)\n",
    "    \n",
    "    if save_reg:\n",
    "        vec.to_csv(f'data/{f}/kmers-{str(kmer)}.csv', index=False)\n",
    "    \n",
    "    X_norm = X.apply(lambda x: (x-x.min())/(x.max()-x.min()), axis=1)\n",
    "\n",
    "    place = pd.concat([X_norm, Y], axis=1)\n",
    "\n",
    "    if save_reg:\n",
    "        place.to_csv(f'data/{f}/normalized-{str(kmer)}.csv', index=False)\n",
    "\n",
    "    div = X.apply(lambda x: x/(len(x)-kmer+1), axis=1)\n",
    "    div = pd.concat([div, Y], axis=1)\n",
    "    if save_new:\n",
    "        div.to_csv(f'data/{f}/lengthdiv-{str(kmer)}.csv', index=False)\n",
    "\n",
    "    # generate based on normalized data\n",
    "    if (synthetic_neg != 0):\n",
    "        # # check if current model is better than pickled model\n",
    "        # posGanModel.save('models/curr_models/posGanModel.pkl')\n",
    "        notZoonotic = place.loc[place['isZoonotic']==0]\n",
    "        notZoonotic = isZoonotic.loc[:, isZoonotic.columns != 'isZoonotic']\n",
    "        # print(notZoonotic)\n",
    "        negGanModel = CTGANSynthesizer(batch_size=60, epochs=10, verbose=True)\n",
    "        negGanModel.fit(notZoonotic)\n",
    "\n",
    "        # negGanModel.save('models/curr_models/negGanModel.pkl')\n",
    "        # generate negative samples\n",
    "        print('Generating negative samples...')\n",
    "        negSamples = negGanModel.sample(synthetic_neg)\n",
    "        negSamples['isZoonotic'] = 0\n",
    "        print('Negative samples generated')\n",
    "        print(negSamples)\n",
    "        print(negSamples.shape)\n",
    "        place = pd.concat([place, negSamples], axis=0, ignore_index=True)\n",
    "        return train_test_split(place.drop('isZoonotic', axis=1), place['isZoonotic'], test_size=0.2, random_state=1)\n",
    "\n",
    "    # generate based on normalized data\n",
    "    if (synthetic_pos != 0):\n",
    "        isZoonotic = place.loc[place['isZoonotic']==1]\n",
    "        isZoonotic = isZoonotic.loc[:, isZoonotic.columns != 'isZoonotic']\n",
    "        # print(isZoonotic)\n",
    "\n",
    "        posGanModel = CTGANSynthesizer(batch_size=60, epochs=10, verbose=True)\n",
    "        posGanModel.fit(isZoonotic)\n",
    "\n",
    "        print('Generating negative samples...')\n",
    "        posSamples = posGanModel.sample(synthetic_neg)\n",
    "        posSamples['isZoonotic'] = 1\n",
    "        print('Negative samples generated')\n",
    "        print(posSamples)\n",
    "        print(posSamples.shape)\n",
    "        place = pd.concat([place, posSamples], axis=0, ignore_index=True)\n",
    "        return train_test_split(place.drop('isZoonotic', axis=1), place['isZoonotic'], test_size=0.2, random_state=1)\n",
    "\n",
    "        # negGanModel.save('models/curr_models/negGanModel.pkl')\n",
    "\n",
    "    return train_test_split(X, Y, test_size=0.2, random_state=1)"
   ]
  },
  {
   "cell_type": "code",
   "execution_count": 8,
   "metadata": {},
   "outputs": [
    {
     "name": "stdout",
     "output_type": "stream",
     "text": [
      "                ID                                       DNA Sequence  \\\n",
      "0            37121  cttttaacaatcatagttttataaaagggtgtaaccgaagcggttt...   \n",
      "1           129724  atactttacaattatcttgtaaaaagtagggtgtaaccgaaaaggg...   \n",
      "2            59303  atggcggacgtgtgacatcaccgttcgctctttctaggatcctttg...   \n",
      "3           120686  ttgttctacttcttactcattattataaattataatgtttgtataa...   \n",
      "4            99565  gtgaatgatgatggcgtcgaaagacgtcgttgcagctactgctgct...   \n",
      "...            ...                                                ...   \n",
      "10622  NC_007661.1  gttaaaactctcacacttatggtggaactggatctgcaaaaatggg...   \n",
      "10623  NC_007662.1  gttaaaaatctggttgtatctactcttgaatgaacgtgcataaagc...   \n",
      "10624  NC_007663.1  gttaaaatctggaaccaatatggaagggatttatgcacgtgctttt...   \n",
      "10625  NC_007664.1  gttaaaaaagagtgcagatgtcgagaatagtcttactaacaccagg...   \n",
      "10626  NC_007665.1  gttaaaaacctcaagatgcatgccgctattacttcaatgaaacgtg...   \n",
      "\n",
      "       isZoonotic  \n",
      "0               1  \n",
      "1               1  \n",
      "2               1  \n",
      "3               1  \n",
      "4               1  \n",
      "...           ...  \n",
      "10622           0  \n",
      "10623           0  \n",
      "10624           0  \n",
      "10625           0  \n",
      "10626           0  \n",
      "\n",
      "[10627 rows x 3 columns]\n"
     ]
    },
    {
     "name": "stderr",
     "output_type": "stream",
     "text": [
      "10627it [01:23, 127.09it/s] \n"
     ]
    },
    {
     "name": "stdout",
     "output_type": "stream",
     "text": [
      "                ID                                       DNA Sequence  \\\n",
      "0            37121  cttttaacaatcatagttttataaaagggtgtaaccgaagcggttt...   \n",
      "1           129724  atactttacaattatcttgtaaaaagtagggtgtaaccgaaaaggg...   \n",
      "2            59303  atggcggacgtgtgacatcaccgttcgctctttctaggatcctttg...   \n",
      "3           120686  ttgttctacttcttactcattattataaattataatgtttgtataa...   \n",
      "4            99565  gtgaatgatgatggcgtcgaaagacgtcgttgcagctactgctgct...   \n",
      "...            ...                                                ...   \n",
      "10622  NC_007661.1  gttaaaactctcacacttatggtggaactggatctgcaaaaatggg...   \n",
      "10623  NC_007662.1  gttaaaaatctggttgtatctactcttgaatgaacgtgcataaagc...   \n",
      "10624  NC_007663.1  gttaaaatctggaaccaatatggaagggatttatgcacgtgctttt...   \n",
      "10625  NC_007664.1  gttaaaaaagagtgcagatgtcgagaatagtcttactaacaccagg...   \n",
      "10626  NC_007665.1  gttaaaaacctcaagatgcatgccgctattacttcaatgaaacgtg...   \n",
      "\n",
      "       isZoonotic  \n",
      "0               1  \n",
      "1               1  \n",
      "2               1  \n",
      "3               1  \n",
      "4               1  \n",
      "...           ...  \n",
      "10622           0  \n",
      "10623           0  \n",
      "10624           0  \n",
      "10625           0  \n",
      "10626           0  \n",
      "\n",
      "[10627 rows x 3 columns]\n"
     ]
    },
    {
     "name": "stderr",
     "output_type": "stream",
     "text": [
      "10627it [01:22, 128.87it/s] \n"
     ]
    },
    {
     "name": "stdout",
     "output_type": "stream",
     "text": [
      "                ID                                       DNA Sequence  \\\n",
      "0            37121  cttttaacaatcatagttttataaaagggtgtaaccgaagcggttt...   \n",
      "1           129724  atactttacaattatcttgtaaaaagtagggtgtaaccgaaaaggg...   \n",
      "2            59303  atggcggacgtgtgacatcaccgttcgctctttctaggatcctttg...   \n",
      "3           120686  ttgttctacttcttactcattattataaattataatgtttgtataa...   \n",
      "4            99565  gtgaatgatgatggcgtcgaaagacgtcgttgcagctactgctgct...   \n",
      "...            ...                                                ...   \n",
      "10622  NC_007661.1  gttaaaactctcacacttatggtggaactggatctgcaaaaatggg...   \n",
      "10623  NC_007662.1  gttaaaaatctggttgtatctactcttgaatgaacgtgcataaagc...   \n",
      "10624  NC_007663.1  gttaaaatctggaaccaatatggaagggatttatgcacgtgctttt...   \n",
      "10625  NC_007664.1  gttaaaaaagagtgcagatgtcgagaatagtcttactaacaccagg...   \n",
      "10626  NC_007665.1  gttaaaaacctcaagatgcatgccgctattacttcaatgaaacgtg...   \n",
      "\n",
      "       isZoonotic  \n",
      "0               1  \n",
      "1               1  \n",
      "2               1  \n",
      "3               1  \n",
      "4               1  \n",
      "...           ...  \n",
      "10622           0  \n",
      "10623           0  \n",
      "10624           0  \n",
      "10625           0  \n",
      "10626           0  \n",
      "\n",
      "[10627 rows x 3 columns]\n"
     ]
    },
    {
     "name": "stderr",
     "output_type": "stream",
     "text": [
      "10627it [01:25, 124.35it/s]\n"
     ]
    },
    {
     "name": "stdout",
     "output_type": "stream",
     "text": [
      "                ID                                       DNA Sequence  \\\n",
      "0            37121  cttttaacaatcatagttttataaaagggtgtaaccgaagcggttt...   \n",
      "1           129724  atactttacaattatcttgtaaaaagtagggtgtaaccgaaaaggg...   \n",
      "2            59303  atggcggacgtgtgacatcaccgttcgctctttctaggatcctttg...   \n",
      "3           120686  ttgttctacttcttactcattattataaattataatgtttgtataa...   \n",
      "4            99565  gtgaatgatgatggcgtcgaaagacgtcgttgcagctactgctgct...   \n",
      "...            ...                                                ...   \n",
      "10622  NC_007661.1  gttaaaactctcacacttatggtggaactggatctgcaaaaatggg...   \n",
      "10623  NC_007662.1  gttaaaaatctggttgtatctactcttgaatgaacgtgcataaagc...   \n",
      "10624  NC_007663.1  gttaaaatctggaaccaatatggaagggatttatgcacgtgctttt...   \n",
      "10625  NC_007664.1  gttaaaaaagagtgcagatgtcgagaatagtcttactaacaccagg...   \n",
      "10626  NC_007665.1  gttaaaaacctcaagatgcatgccgctattacttcaatgaaacgtg...   \n",
      "\n",
      "       isZoonotic  \n",
      "0               1  \n",
      "1               1  \n",
      "2               1  \n",
      "3               1  \n",
      "4               1  \n",
      "...           ...  \n",
      "10622           0  \n",
      "10623           0  \n",
      "10624           0  \n",
      "10625           0  \n",
      "10626           0  \n",
      "\n",
      "[10627 rows x 3 columns]\n"
     ]
    },
    {
     "name": "stderr",
     "output_type": "stream",
     "text": [
      "10627it [01:33, 113.20it/s]\n"
     ]
    }
   ],
   "source": [
    "for kmer in range(3, 7):\n",
    "    # based on literature\n",
    "    X_train, X_test, y_train, y_test = getTrainParams(mergedDf, kmer, \"merged\", save_reg=True, save_new=True)\n",
    "    zz = X_train.head()"
   ]
  },
  {
   "cell_type": "code",
   "execution_count": 29,
   "metadata": {},
   "outputs": [
    {
     "name": "stdout",
     "output_type": "stream",
     "text": [
      "                ID                                       DNA Sequence  \\\n",
      "0            37121  cttttaacaatcatagttttataaaagggtgtaaccgaagcggttt...   \n",
      "1           129724  atactttacaattatcttgtaaaaagtagggtgtaaccgaaaaggg...   \n",
      "2            59303  atggcggacgtgtgacatcaccgttcgctctttctaggatcctttg...   \n",
      "3           120686  ttgttctacttcttactcattattataaattataatgtttgtataa...   \n",
      "4            99565  gtgaatgatgatggcgtcgaaagacgtcgttgcagctactgctgct...   \n",
      "...            ...                                                ...   \n",
      "10622  NC_007661.1  gttaaaactctcacacttatggtggaactggatctgcaaaaatggg...   \n",
      "10623  NC_007662.1  gttaaaaatctggttgtatctactcttgaatgaacgtgcataaagc...   \n",
      "10624  NC_007663.1  gttaaaatctggaaccaatatggaagggatttatgcacgtgctttt...   \n",
      "10625  NC_007664.1  gttaaaaaagagtgcagatgtcgagaatagtcttactaacaccagg...   \n",
      "10626  NC_007665.1  gttaaaaacctcaagatgcatgccgctattacttcaatgaaacgtg...   \n",
      "\n",
      "       isZoonotic  \n",
      "0               1  \n",
      "1               1  \n",
      "2               1  \n",
      "3               1  \n",
      "4               1  \n",
      "...           ...  \n",
      "10622           0  \n",
      "10623           0  \n",
      "10624           0  \n",
      "10625           0  \n",
      "10626           0  \n",
      "\n",
      "[10627 rows x 3 columns]\n"
     ]
    },
    {
     "name": "stderr",
     "output_type": "stream",
     "text": [
      "10627it [01:18, 134.93it/s] \n"
     ]
    }
   ],
   "source": [
    "X_train, X_test, y_train, y_test = getTrainParams(mergedDf, kmer=4, f=\"merged\", save_new=True)"
   ]
  },
  {
   "cell_type": "code",
   "execution_count": 23,
   "metadata": {},
   "outputs": [
    {
     "name": "stdout",
     "output_type": "stream",
     "text": [
      "          cccg      ccct      gcgc      ctgc      ggag      tgga      cgcg  \\\n",
      "3601  0.355263  0.315789  0.065789  0.381579  0.578947  0.618421  0.065789   \n",
      "2819  0.135922  0.378641  0.194175  0.572816  0.330097  0.563107  0.058252   \n",
      "8292  0.017699  0.212389  0.026549  0.159292  0.318584  0.690265  0.000000   \n",
      "7135  0.493363  0.125369  0.614307  0.320796  0.055310  0.092920  0.672566   \n",
      "142   0.065574  0.327869  0.016393  0.262295  0.459016  0.754098  0.000000   \n",
      "...        ...       ...       ...       ...       ...       ...       ...   \n",
      "2895  0.188889  0.055556  0.233333  0.366667  0.155556  0.433333  0.044444   \n",
      "7813  0.127820  0.210526  0.000000  0.082707  0.210526  0.578947  0.015038   \n",
      "905   0.021071  0.033655  0.016389  0.071115  0.139889  0.310506  0.036289   \n",
      "5192  0.412621  0.157767  0.502427  0.597087  0.400485  0.546117  0.383495   \n",
      "235   0.196970  0.212121  0.136364  0.196970  0.439394  0.727273  0.000000   \n",
      "\n",
      "          aagt      tccc      gccc  ...      aatc      cagt      tcgt  \\\n",
      "3601  0.210526  0.342105  0.447368  ...  0.184211  0.276316  0.078947   \n",
      "2819  0.271845  0.194175  0.262136  ...  0.135922  0.466019  0.000000   \n",
      "8292  0.442478  0.079646  0.079646  ...  0.433628  0.274336  0.088496   \n",
      "7135  0.058260  0.136431  0.390118  ...  0.061209  0.106195  0.255900   \n",
      "142   0.590164  0.295082  0.196721  ...  0.262295  0.491803  0.065574   \n",
      "...        ...       ...       ...  ...       ...       ...       ...   \n",
      "2895  0.211111  0.155556  0.044444  ...  0.533333  0.500000  0.188889   \n",
      "7813  0.353383  0.375940  0.075188  ...  0.661654  0.270677  0.248120   \n",
      "905   0.273047  0.079017  0.003219  ...  0.371378  0.148083  0.237343   \n",
      "5192  0.313107  0.245146  0.259709  ...  0.344660  0.604369  0.313107   \n",
      "235   0.348485  0.454545  0.196970  ...  0.500000  0.681818  0.090909   \n",
      "\n",
      "          tgag      cact      tcac      taat      tgcc      tttc      tagt  \n",
      "3601  0.263158  0.381579  0.250000  0.144737  0.289474  0.157895  0.065789  \n",
      "2819  0.281553  0.359223  0.165049  0.252427  0.330097  0.281553  0.165049  \n",
      "8292  0.247788  0.327434  0.247788  0.699115  0.115044  0.292035  0.539823  \n",
      "7135  0.200590  0.077434  0.226401  0.008112  0.346608  0.116519  0.028024  \n",
      "142   0.409836  0.459016  0.426230  0.245902  0.327869  0.229508  0.196721  \n",
      "...        ...       ...       ...       ...       ...       ...       ...  \n",
      "2895  0.300000  0.222222  0.333333  0.377778  0.355556  0.733333  0.122222  \n",
      "7813  0.323308  0.172932  0.255639  0.556391  0.150376  0.729323  0.263158  \n",
      "905   0.147790  0.137840  0.148376  0.721978  0.086626  0.406204  0.379573  \n",
      "5192  0.449029  0.300971  0.344660  0.339806  0.609223  0.516990  0.089806  \n",
      "235   0.409091  0.651515  0.575758  0.227273  0.318182  0.287879  0.348485  \n",
      "\n",
      "[8501 rows x 256 columns]\n"
     ]
    }
   ],
   "source": [
    "print(X_train)"
   ]
  },
  {
   "cell_type": "code",
   "execution_count": null,
   "metadata": {},
   "outputs": [],
   "source": [
    "from imblearn.ensemble import BalancedBaggingClassifier, BalancedRandomForestClassifier\n"
   ]
  }
 ],
 "metadata": {
  "kernelspec": {
   "display_name": "Python 3.8.13 ('seq')",
   "language": "python",
   "name": "python3"
  },
  "language_info": {
   "codemirror_mode": {
    "name": "ipython",
    "version": 3
   },
   "file_extension": ".py",
   "mimetype": "text/x-python",
   "name": "python",
   "nbconvert_exporter": "python",
   "pygments_lexer": "ipython3",
   "version": "3.8.13 (default, Oct 19 2022, 17:52:09) \n[Clang 12.0.0 ]"
  },
  "orig_nbformat": 4,
  "vscode": {
   "interpreter": {
    "hash": "e1360c63304de9435a2a3572d38e6c9496b6fb5d1617f35fbc8638664d664ab4"
   }
  }
 },
 "nbformat": 4,
 "nbformat_minor": 2
}
