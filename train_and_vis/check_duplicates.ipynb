{
 "cells": [
  {
   "cell_type": "code",
   "execution_count": 2,
   "metadata": {},
   "outputs": [
    {
     "name": "stdout",
     "output_type": "stream",
     "text": [
      "/Users/benjaminli/Documents/coding/scires/project/utils\n",
      "/Users/benjaminli/Documents/coding/scires/project/utils\n",
      "/Users/benjaminli/Documents/coding/scires/project\n"
     ]
    }
   ],
   "source": [
    "from itertools import permutations, product\n",
    "\n",
    "import tqdm\n",
    "\n",
    "import pandas as pd\n",
    "\n",
    "from sklearn.linear_model import LogisticRegression\n",
    "from sklearn.model_selection import train_test_split\n",
    "from sklearn.metrics import accuracy_score\n",
    "\n",
    "import os\n",
    "from os import path\n",
    "\n",
    "import matplotlib.pyplot as plt\n",
    "\n",
    "from warnings import simplefilter\n",
    "from collections import OrderedDict\n",
    "\n",
    "if (os.path.abspath('').split('/')[-1] == 'project'):\n",
    "    %cd utils\n",
    "elif (os.path.abspath('').split('/')[-1] == 'train_and_vis'):\n",
    "    %cd ../utils\n",
    "\n",
    "import query_utils\n",
    "import model_utils\n",
    "import validation_utils\n",
    "\n",
    "print(os.path.abspath(''))\n",
    "\n",
    "if (os.path.abspath('').split('/')[-1] == 'utils'):\n",
    "    %cd ..\n",
    "\n",
    "\n",
    "simplefilter(action=\"ignore\", category=pd.errors.PerformanceWarning)\n",
    "simplefilter(action='ignore', category=FutureWarning)"
   ]
  },
  {
   "cell_type": "code",
   "execution_count": 4,
   "metadata": {},
   "outputs": [],
   "source": [
    "nard_seq = pd.read_csv(\"data/dataset2/nardus_sequences.csv\")\n",
    "# nard_seq.drop(0, axis=1, inplace=True)"
   ]
  },
  {
   "cell_type": "code",
   "execution_count": 3,
   "metadata": {},
   "outputs": [
    {
     "name": "stdout",
     "output_type": "stream",
     "text": [
      "               ID                                       DNA Sequence  \\\n",
      "0     NC_025403.1  accagagggaaaatataacaatgtcgttttatagcgatgtaaataa...   \n",
      "1     NC_025404.1  accagagggaaaattaagaaaggtcgttccaagacgacttaaaaga...   \n",
      "2     NC_028246.1  acggagaaaaacaaaaaaactatagtgattagataaataaggaaaa...   \n",
      "3     NC_002077.1  ttgcccactccctctctgcgcgctcgctcgctcggtggggcctgcg...   \n",
      "4     NC_006152.1  ctctcccccctgtcgcgttcgctcgctcgctggctcgtttgggggg...   \n",
      "...           ...                                                ...   \n",
      "1843  NC_007661.1  gttaaaactctcacacttatggtggaactggatctgcaaaaatggg...   \n",
      "1844  NC_007662.1  gttaaaaatctggttgtatctactcttgaatgaacgtgcataaagc...   \n",
      "1845  NC_007663.1  gttaaaatctggaaccaatatggaagggatttatgcacgtgctttt...   \n",
      "1846  NC_007664.1  gttaaaaaagagtgcagatgtcgagaatagtcttactaacaccagg...   \n",
      "1847  NC_007665.1  gttaaaaacctcaagatgcatgccgctattacttcaatgaaacgtg...   \n",
      "\n",
      "      isZoonotic  \n",
      "0              0  \n",
      "1              0  \n",
      "2              0  \n",
      "3              1  \n",
      "4              1  \n",
      "...          ...  \n",
      "1843           0  \n",
      "1844           0  \n",
      "1845           0  \n",
      "1846           0  \n",
      "1847           0  \n",
      "\n",
      "[1848 rows x 3 columns]\n"
     ]
    }
   ],
   "source": [
    "print(nard_seq)"
   ]
  },
  {
   "cell_type": "code",
   "execution_count": 5,
   "metadata": {},
   "outputs": [],
   "source": [
    "df = pd.read_csv('data/dataset1/human_infecting_virus', delimiter='\\t', header=None)\n",
    "df[['ID', 'DNA Sequence']] = df[0].str.split(expand=True)\n",
    "df = df.drop(0, axis=1)\n",
    "df['isZoonotic'] = 1\n",
    "\n",
    "df2 = pd.read_csv('data/dataset1/Other_viruses', delimiter='\\t', header=None)\n",
    "df2[['ID', 'DNA Sequence']] = df2[0].str.split(expand=True)\n",
    "df2 = df2.drop(0, axis=1)\n",
    "df2['isZoonotic'] = 0\n",
    "\n",
    "dfother = pd.DataFrame()\n",
    "it = len(df)\n",
    "\n",
    "mergedDf = pd.concat([df, df2, nard_seq], axis=0, ignore_index=True)\n",
    "mergedDf = mergedDf.drop_duplicates(subset=['DNA Sequence'])\n",
    "mergedDf.reset_index(drop=True, inplace=True)"
   ]
  },
  {
   "cell_type": "code",
   "execution_count": 6,
   "metadata": {},
   "outputs": [
    {
     "name": "stdout",
     "output_type": "stream",
     "text": [
      "Index(['ID', 'DNA Sequence', 'isZoonotic'], dtype='object')\n",
      "Index(['ID', 'DNA Sequence', 'isZoonotic'], dtype='object')\n"
     ]
    }
   ],
   "source": [
    "# 1848\n",
    "print(df.columns)\n",
    "print(nard_seq.columns)"
   ]
  },
  {
   "cell_type": "code",
   "execution_count": 12,
   "metadata": {},
   "outputs": [
    {
     "name": "stdout",
     "output_type": "stream",
     "text": [
      "10627\n",
      "9085 1542\n"
     ]
    }
   ],
   "source": [
    "print(len(mergedDf))\n",
    "print(len(mergedDf[mergedDf['isZoonotic']==0]), len(mergedDf[mergedDf['isZoonotic']==1]))"
   ]
  }
 ],
 "metadata": {
  "kernelspec": {
   "display_name": "seq",
   "language": "python",
   "name": "python3"
  },
  "language_info": {
   "codemirror_mode": {
    "name": "ipython",
    "version": 3
   },
   "file_extension": ".py",
   "mimetype": "text/x-python",
   "name": "python",
   "nbconvert_exporter": "python",
   "pygments_lexer": "ipython3",
   "version": "3.8.13 (default, Oct 19 2022, 17:52:09) \n[Clang 12.0.0 ]"
  },
  "orig_nbformat": 4,
  "vscode": {
   "interpreter": {
    "hash": "e1360c63304de9435a2a3572d38e6c9496b6fb5d1617f35fbc8638664d664ab4"
   }
  }
 },
 "nbformat": 4,
 "nbformat_minor": 2
}
